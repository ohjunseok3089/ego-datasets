{
 "cells": [
  {
   "cell_type": "code",
   "execution_count": 1,
   "metadata": {},
   "outputs": [],
   "source": [
    "# Data processing\n",
    "import os\n",
    "import pickle\n",
    "import json\n",
    "import pandas as pd\n",
    "import numpy as np\n",
    "\n",
    "# Multiprocessing\n",
    "import multiprocessing\n",
    "import tqdm\n",
    "import itertools\n",
    "\n",
    "# Viewing\n",
    "from IPython.display import display\n",
    "\n",
    "egocom_loc = \"/datasets/cgn/EGOCOM/egocom_features/no_audio/\"\n",
    "seed = 0"
   ]
  },
  {
   "cell_type": "code",
   "execution_count": 2,
   "metadata": {},
   "outputs": [],
   "source": [
    "from sklearn.neural_network import MLPClassifier\n",
    "from sklearn.neighbors import KNeighborsClassifier\n",
    "from sklearn.svm import SVC\n",
    "from sklearn.gaussian_process import GaussianProcessClassifier\n",
    "from sklearn.gaussian_process.kernels import RBF\n",
    "from sklearn.tree import DecisionTreeClassifier\n",
    "from sklearn.ensemble import RandomForestClassifier, AdaBoostClassifier\n",
    "from sklearn.naive_bayes import GaussianNB\n",
    "from sklearn.discriminant_analysis import QuadraticDiscriminantAnalysis\n",
    "from sklearn.linear_model import LogisticRegression\n",
    "from sklearn.linear_model import LogisticRegressionCV\n",
    "from sklearn.linear_model import SGDClassifier\n",
    "\n",
    "from sklearn.model_selection import cross_val_score"
   ]
  },
  {
   "cell_type": "code",
   "execution_count": 3,
   "metadata": {},
   "outputs": [],
   "source": [
    "# names = [\n",
    "# #     \"Nearest Neighbors\", \n",
    "# #     \"Linear SVM\", \n",
    "# #     \"RBF SVM\", \n",
    "# #     \"Gaussian Process\",\n",
    "# #     \"Logistic Regression\",\n",
    "# #     \"Logistic Regression CV\",\n",
    "# #     \"Decision Tree\", \n",
    "#     \"Random Forest\", \n",
    "# #     \"Neural Net\", \n",
    "# #     \"AdaBoost\",\n",
    "# #     \"Naive Bayes\", \n",
    "# #     \"One layer SGD Classifier\"\n",
    "# #     \"QDA\",\n",
    "# ]\n",
    "\n",
    "# classifiers = [\n",
    "# #     KNeighborsClassifier(3),\n",
    "# #     SVC(kernel=\"linear\", C=0.025),\n",
    "# #     SVC(gamma=2, C=1),\n",
    "# #     GaussianProcessClassifier(1.0 * RBF(1.0)),\n",
    "# #     LogisticRegression(solver = 'lbfgs', multi_class='auto', max_iter = 500),\n",
    "# #     LogisticRegressionCV(cv = 5, Cs=10, solver = 'lbfgs', multi_class='auto', max_iter = 200),\n",
    "# #     DecisionTreeClassifier(max_depth=10),\n",
    "#     RandomForestClassifier(max_depth=12, n_estimators=150),\n",
    "# #     MLPClassifier(alpha=1),\n",
    "# #     AdaBoostClassifier(),\n",
    "# #     GaussianNB(),\n",
    "# #     SGDClassifier(max_iter=1000, tol=1e-3),\n",
    "# #     QuadraticDiscriminantAnalysis(),\n",
    "# ]\n",
    "\n",
    "# assert(len(names) == len(classifiers))"
   ]
  },
  {
   "cell_type": "code",
   "execution_count": 4,
   "metadata": {},
   "outputs": [],
   "source": [
    "video_info = pd.read_csv(\"/datasets/cgn/EGOCOM/video_info.csv\")"
   ]
  },
  {
   "cell_type": "code",
   "execution_count": 5,
   "metadata": {},
   "outputs": [],
   "source": [
    "kinds = ['text', 'video', 'voxaudio'] # ['audio', 'text', 'video', 'voxaudio']\n",
    "cols = pd.read_csv(egocom_loc + \"egocom_features_history_4sec.csv.gz\").columns\n",
    "experiments = list(itertools.chain.from_iterable(itertools.combinations(kinds, r) for r in range(len(kinds)+1)))[1:]\n",
    "experiments = {\"_\".join(e): [c for c in cols if c.split(\"_\")[0] in [z+\"feat\" for z in e]] for e in experiments}\n",
    "label_shifts = [0, 2, 4, 9] # translates to [1,3,5,10] seconds respectively"
   ]
  },
  {
   "cell_type": "code",
   "execution_count": 6,
   "metadata": {},
   "outputs": [],
   "source": [
    "def shift_labels(x, shift = 0):\n",
    "    '''Move labels forward by advance_labels and removes the extra data.\n",
    "    \n",
    "    Parameters\n",
    "    ----------\n",
    "    x : pandas DataFrame\n",
    "      contains features and labels for a ['video_id', 'video_speaker_id'] group\n",
    "    shift : int\n",
    "      how far to advance the labels in time (seconds).'''\n",
    "    if x.name == 'multiclass_speaker_label' or x.name == 'is_speaking':\n",
    "        return x[shift:].values\n",
    "    else:\n",
    "        return x[:-shift].values if shift > 0 else x.values\n",
    "    \n",
    "# # Test code to check that shift_labels does nothing for a shift of 0\n",
    "# new_data = pd.concat([sdf.apply(shift_data, shift = label_shift) for i, sdf in data.groupby(['video_id', 'video_speaker_id'])], ignore_index=True)\n",
    "# assert(all(new_data.sort_values(by=['video_id', 'clip_id']).reset_index(drop=True) == data.sort_values(by=['video_id', 'clip_id']).reset_index(drop=True)))"
   ]
  },
  {
   "cell_type": "code",
   "execution_count": 7,
   "metadata": {},
   "outputs": [],
   "source": [
    "def process_multiclass_job(job):\n",
    "    '''Multiprocessing multiple experiments at the same time.\n",
    "    Each jobs = (experiment_key, label_shift).\n",
    "    where:\n",
    "      experiment_key : indexes the experiments dictionary\n",
    "      label_shift : how many seconds in future to shift labels'''\n",
    "    np.random.seed(seed=seed)\n",
    "    experiment_key, label_shift = job\n",
    "    experiment = experiments[experiment_key]\n",
    "    # Shift the labels as far in the future as defined by label_shift (~60 seconds)\n",
    "    new_data = pd.concat([sdf.apply(shift_labels, shift = label_shift) for i, sdf in data.groupby(['video_id', 'video_speaker_id'])], ignore_index=True)\n",
    "    # Combine all three speakers to single input for each conversation\n",
    "    X = new_data.groupby([\"conversation_id\", \"clip_id\", \"multiclass_speaker_label\", \"test\", \"train\"]).apply(lambda x: x[experiment].values.flatten()).reset_index()\n",
    "    # The code below asserts that the first features are speaker 1, \n",
    "    # second features are speaker 2, third features are speaker 3 (works bc data is presorted.)\n",
    "#     dfby = new_data.groupby([\"conversation_id\", \"clip_id\", \"multiclass_speaker_label\"])\n",
    "#     assert(all(dfby.apply(lambda x: all(x['video_speaker_id'] == [1,2,3]) if len(x) == 3 else True)))\n",
    "    \n",
    "    # Only include examples with all three speakers (same dimension)\n",
    "    # this occurs at the end of a video (if one speaker's video is ~1s longer than the others)\n",
    "    # then there will be features for that speaker but not the other speakers.\n",
    "    input_length = max([len(z) for z in X[0]])\n",
    "    mask = [len(z) == input_length for z in X[0]]\n",
    "    X = X[mask]    \n",
    "    \n",
    "    if use_crossval:\n",
    "        # Compute cross-validation accuracy\n",
    "        y = X['multiclass_speaker_label'].values\n",
    "        \n",
    "        X = np.stack(X[0])\n",
    "        score = np.mean(cross_val_score(classifier, X, y, cv = 5, n_jobs = 1, verbose = 1))\n",
    "        print(experiment_key, \"label_shift:\", label_shift, X.shape, y.shape, \"num features:\", len(experiment), score)\n",
    "    else:\n",
    "        # Compute test accuracy\n",
    "        X_train = np.stack(X[X['train']][0])\n",
    "        X_test = np.stack(X[X['test']][0])\n",
    "        y_train = X[X['train']]['multiclass_speaker_label'].values\n",
    "        y_test = X[X['test']]['multiclass_speaker_label'].values\n",
    "        classifier.fit(X_train, y_train)\n",
    "        score = classifier.score(X_test, y_test)\n",
    "        print(experiment_key, \"label_shift:\", label_shift, X_train.shape, y_train.shape, \"num feats\", len(experiment), score)\n",
    "    return score"
   ]
  },
  {
   "cell_type": "code",
   "execution_count": 12,
   "metadata": {},
   "outputs": [],
   "source": [
    "X_train = np.stack(X[X['train']][0])\n",
    "X_test = np.stack(X[X['test']][0])\n",
    "y_train = X[X['train']]['multiclass_speaker_label'].values\n",
    "y_test = X[X['test']]['multiclass_speaker_label'].values"
   ]
  },
  {
   "cell_type": "code",
   "execution_count": 11,
   "metadata": {},
   "outputs": [],
   "source": [
    "experiment = experiments[list(experiments.keys())[0]]\n",
    "X = data.groupby([\"conversation_id\", \"clip_id\", \"multiclass_speaker_label\", \"test\", \"train\"]).apply(lambda x: x[experiment].values.flatten()).reset_index()\n",
    "    # The code below asserts that the first features are speaker 1, \n",
    "    # second features are speaker 2, third features are speaker 3 (works bc data is presorted.)\n",
    "#     dfby = new_data.groupby([\"conversation_id\", \"clip_id\", \"multiclass_speaker_label\"])\n",
    "#     assert(all(dfby.apply(lambda x: all(x['video_speaker_id'] == [1,2,3]) if len(x) == 3 else True)))\n",
    "    \n",
    "    # Only include examples with all three speakers (same dimension)\n",
    "    # this occurs at the end of a video (if one speaker's video is ~1s longer than the others)\n",
    "# then there will be features for that speaker but not the other speakers.\n",
    "input_length = max([len(z) for z in X[0]])\n",
    "mask = [len(z) == input_length for z in X[0]]\n",
    "X = X[mask]    "
   ]
  },
  {
   "cell_type": "code",
   "execution_count": null,
   "metadata": {},
   "outputs": [],
   "source": [
    "np.random.seed(seed=seed)\n",
    "experiment_key, label_shift = job\n",
    "experiment = experiments[experiment_key]\n",
    "# Shift the labels as far in the future as defined by label_shift (~60 seconds)\n",
    "new_data = pd.concat([sdf.apply(shift_labels, shift = label_shift) for i, sdf in data.groupby(['video_id', 'video_speaker_id'])], ignore_index=True)\n",
    "# Combine all three speakers to single input for each conversation\n",
    "X = new_data.groupby([\"conversation_id\", \"clip_id\", \"multiclass_speaker_label\", \"test\", \"train\"]).apply(lambda x: x[experiment].values.flatten()).reset_index()\n",
    "# The code below asserts that the first features are speaker 1, \n",
    "# second features are speaker 2, third features are speaker 3 (works bc data is presorted.)\n",
    "#     dfby = new_data.groupby([\"conversation_id\", \"clip_id\", \"multiclass_speaker_label\"])\n",
    "#     assert(all(dfby.apply(lambda x: all(x['video_speaker_id'] == [1,2,3]) if len(x) == 3 else True)))\n",
    "\n",
    "# Only include examples with all three speakers (same dimension)\n",
    "# this occurs at the end of a video (if one speaker's video is ~1s longer than the others)\n",
    "# then there will be features for that speaker but not the other speakers.\n",
    "input_length = max([len(z) for z in X[0]])\n",
    "mask = [len(z) == input_length for z in X[0]]\n",
    "X = X[mask]    "
   ]
  },
  {
   "cell_type": "code",
   "execution_count": 10,
   "metadata": {},
   "outputs": [
    {
     "name": "stdout",
     "output_type": "stream",
     "text": [
      "use_crossval: False | clf: <class 'sklearn.naive_bayes.GaussianNB'>\n",
      "(136431, 2881)\n"
     ]
    }
   ],
   "source": [
    "# Try all history_lengths, and all experiments (different inputs), and all label shifts\n",
    "jobs = list(itertools.product(experiments.keys(), label_shifts))\n",
    "all_results = {}\n",
    "for use_crossval in [False, True]:\n",
    "    for classifier in [GaussianNB(), RandomForestClassifier(random_state=seed, max_depth=12, n_estimators=150)]:\n",
    "        key = \" \".join([\n",
    "            \"use_crossval:\", str(use_crossval), \"| clf:\", str(type(classifier)),\n",
    "        ])\n",
    "        print(key)\n",
    "        results = {}\n",
    "        for history_length in [4, 5, 10, 30]:\n",
    "            # Fetch and prepare data\n",
    "            data = pd.read_csv(egocom_loc + \"egocom_features_history_{}sec.csv.gz\".format(history_length))\n",
    "            # -1 means no one is speaking. Change to 0 for training.\n",
    "            data[\"multiclass_speaker_label\"].replace(-1, 0, inplace = True)\n",
    "            # Include video info and pre-sort data by speaker_id within each video.\n",
    "            data = pd.merge(data, video_info, on = ['video_id', 'video_speaker_id'])\n",
    "            print(data.shape)\n",
    "\n",
    "            # Only use 3 speaker conversations\n",
    "            data = data[data['num_speakers'] == 3]\n",
    "            # All the work  is done here.\n",
    "            with multiprocessing.Pool(multiprocessing.cpu_count() // 2) as p:\n",
    "                result = list(tqdm.tqdm(p.imap(process_multiclass_job, jobs), total=len(jobs)))\n",
    "            results[history_length] = list(zip(jobs, result))\n",
    "            print(key)\n",
    "            print(results) \n",
    "        all_results[key] = results\n",
    "        "
   ]
  },
  {
   "cell_type": "markdown",
   "metadata": {},
   "source": [
    "# old notes below -- NOTHING BELOW HERE USED FOR FINAL PAPER"
   ]
  },
  {
   "cell_type": "code",
   "execution_count": null,
   "metadata": {},
   "outputs": [],
   "source": [
    "# Try all history_lengths, and all experiments (different inputs), and all label shifts\n",
    "jobs = list(itertools.product(experiments.keys(), label_shifts))\n",
    "results = {}\n",
    "for history_length in [4, 5, 10, 30]:\n",
    "    # Fetch and prepare data\n",
    "    data = pd.read_csv(egocom_loc + \"egocom_features_history_{}sec.csv.gz\".format(history_length))\n",
    "    # -1 means no one is speaking. Change to 0 for training.\n",
    "    data[\"multiclass_speaker_label\"].replace(-1, 0, inplace = True)\n",
    "    # Include video info\n",
    "    data = pd.merge(data, video_info, on = ['video_id', 'video_speaker_id'])\n",
    "    print(data.shape)\n",
    "\n",
    "    # Only use 3 speaker conversations\n",
    "    data = data[data['num_speakers'] == 3]\n",
    "    with multiprocessing.Pool(multiprocessing.cpu_count()) as p:\n",
    "        result = list(tqdm.tqdm(p.imap(process__multiclass_job, jobs), total=len(jobs)))\n",
    "    results[history_length] = list(zip(jobs, result))\n",
    "    print(results)\n",
    "        "
   ]
  },
  {
   "cell_type": "code",
   "execution_count": 31,
   "metadata": {},
   "outputs": [
    {
     "data": {
      "text/plain": [
       "4     3.520053\n",
       "5     3.419520\n",
       "10    3.366168\n",
       "30    2.070473\n",
       "60    1.978806\n",
       "dtype: float64"
      ]
     },
     "execution_count": 31,
     "metadata": {},
     "output_type": "execute_result"
    }
   ],
   "source": [
    "final_results.sum(axis = 1)"
   ]
  },
  {
   "cell_type": "code",
   "execution_count": 30,
   "metadata": {},
   "outputs": [
    {
     "data": {
      "text/plain": [
       "all            2.151534\n",
       "text_audio     2.337081\n",
       "text_video     1.769310\n",
       "video_audio    2.093163\n",
       "text           1.982223\n",
       "audio          2.522749\n",
       "video          1.498961\n",
       "dtype: float64"
      ]
     },
     "execution_count": 30,
     "metadata": {},
     "output_type": "execute_result"
    }
   ],
   "source": [
    "final_results.sum(axis = 0)"
   ]
  },
  {
   "cell_type": "code",
   "execution_count": 36,
   "metadata": {},
   "outputs": [],
   "source": [
    "from matplotlib import pyplot as plt"
   ]
  },
  {
   "cell_type": "code",
   "execution_count": 40,
   "metadata": {},
   "outputs": [
    {
     "data": {
      "image/png": "[encoded data removed]",
      "text/plain": [
       "<Figure size 432x288 with 1 Axes>"
      ]
     },
     "metadata": {
      "needs_background": "light"
     },
     "output_type": "display_data"
    }
   ],
   "source": [
    "_ = plt.plot(final_results)"
   ]
  },
  {
   "cell_type": "code",
   "execution_count": null,
   "metadata": {},
   "outputs": [],
   "source": []
  },
  {
   "cell_type": "code",
   "execution_count": 34,
   "metadata": {},
   "outputs": [
    {
     "data": {
      "text/html": [
       "<div>\n",
       "<style scoped>\n",
       "    .dataframe tbody tr th:only-of-type {\n",
       "        vertical-align: middle;\n",
       "    }\n",
       "\n",
       "    .dataframe tbody tr th {\n",
       "        vertical-align: top;\n",
       "    }\n",
       "\n",
       "    .dataframe thead th {\n",
       "        text-align: right;\n",
       "    }\n",
       "</style>\n",
       "<table border=\"1\" class=\"dataframe\">\n",
       "  <thead>\n",
       "    <tr style=\"text-align: right;\">\n",
       "      <th></th>\n",
       "      <th>all</th>\n",
       "      <th>text_audio</th>\n",
       "      <th>text_video</th>\n",
       "      <th>video_audio</th>\n",
       "      <th>text</th>\n",
       "      <th>audio</th>\n",
       "      <th>video</th>\n",
       "    </tr>\n",
       "  </thead>\n",
       "  <tbody>\n",
       "    <tr>\n",
       "      <th>4</th>\n",
       "      <td>0.535</td>\n",
       "      <td>0.576</td>\n",
       "      <td>0.467</td>\n",
       "      <td>0.498</td>\n",
       "      <td>0.546</td>\n",
       "      <td>0.551</td>\n",
       "      <td>0.347</td>\n",
       "    </tr>\n",
       "    <tr>\n",
       "      <th>5</th>\n",
       "      <td>0.524</td>\n",
       "      <td>0.568</td>\n",
       "      <td>0.438</td>\n",
       "      <td>0.495</td>\n",
       "      <td>0.516</td>\n",
       "      <td>0.546</td>\n",
       "      <td>0.332</td>\n",
       "    </tr>\n",
       "    <tr>\n",
       "      <th>10</th>\n",
       "      <td>0.549</td>\n",
       "      <td>0.602</td>\n",
       "      <td>0.349</td>\n",
       "      <td>0.545</td>\n",
       "      <td>0.429</td>\n",
       "      <td>0.601</td>\n",
       "      <td>0.291</td>\n",
       "    </tr>\n",
       "    <tr>\n",
       "      <th>30</th>\n",
       "      <td>0.275</td>\n",
       "      <td>0.325</td>\n",
       "      <td>0.263</td>\n",
       "      <td>0.269</td>\n",
       "      <td>0.261</td>\n",
       "      <td>0.416</td>\n",
       "      <td>0.263</td>\n",
       "    </tr>\n",
       "    <tr>\n",
       "      <th>60</th>\n",
       "      <td>0.269</td>\n",
       "      <td>0.266</td>\n",
       "      <td>0.252</td>\n",
       "      <td>0.287</td>\n",
       "      <td>0.230</td>\n",
       "      <td>0.409</td>\n",
       "      <td>0.266</td>\n",
       "    </tr>\n",
       "  </tbody>\n",
       "</table>\n",
       "</div>"
      ],
      "text/plain": [
       "      all  text_audio  text_video  video_audio   text  audio  video\n",
       "4   0.535       0.576       0.467        0.498  0.546  0.551  0.347\n",
       "5   0.524       0.568       0.438        0.495  0.516  0.546  0.332\n",
       "10  0.549       0.602       0.349        0.545  0.429  0.601  0.291\n",
       "30  0.275       0.325       0.263        0.269  0.261  0.416  0.263\n",
       "60  0.269       0.266       0.252        0.287  0.230  0.409  0.266"
      ]
     },
     "execution_count": 34,
     "metadata": {},
     "output_type": "execute_result"
    }
   ],
   "source": [
    "final_results = pd.DataFrame({k:[i[1] for i in v] for k, v in results.items()}).T\n",
    "final_results.columns = experiments.keys()\n",
    "final_results.round(3)"
   ]
  },
  {
   "cell_type": "code",
   "execution_count": 12,
   "metadata": {},
   "outputs": [],
   "source": [
    "def process_job(x):\n",
    "    '''Multiprocesasing multiple classifiers at the same time'''\n",
    "    name, clf = x\n",
    "    score = cross_val_score(clf, X, y, cv = 5, n_jobs = 1, verbose = 1)\n",
    "    print(name, np.mean(score))\n",
    "    return score"
   ]
  },
  {
   "cell_type": "code",
   "execution_count": 14,
   "metadata": {},
   "outputs": [
    {
     "name": "stdout",
     "output_type": "stream",
     "text": [
      "(24089, 3451)\n",
      "(5508, 10308) (5508,) 3436\n"
     ]
    },
    {
     "name": "stderr",
     "output_type": "stream",
     "text": [
      "[Parallel(n_jobs=20)]: Using backend LokyBackend with 20 concurrent workers.\n",
      "[Parallel(n_jobs=20)]: Done   2 out of   5 | elapsed:   32.8s remaining:   49.3s\n",
      "[Parallel(n_jobs=20)]: Done   5 out of   5 | elapsed:   33.1s finished\n"
     ]
    },
    {
     "name": "stdout",
     "output_type": "stream",
     "text": [
      "[0.53127833 0.54215775 0.53448276 0.53363636 0.53454545]\n",
      "{}\n",
      "(5508, 4164) (5508,) 1388\n"
     ]
    },
    {
     "name": "stderr",
     "output_type": "stream",
     "text": [
      "[Parallel(n_jobs=20)]: Using backend LokyBackend with 20 concurrent workers.\n",
      "[Parallel(n_jobs=20)]: Done   2 out of   5 | elapsed:   17.8s remaining:   26.7s\n",
      "[Parallel(n_jobs=20)]: Done   5 out of   5 | elapsed:   18.6s finished\n"
     ]
    },
    {
     "name": "stdout",
     "output_type": "stream",
     "text": [
      "[0.54397099 0.56572983 0.646098   0.59727273 0.54727273]\n",
      "{}\n",
      "(5508, 7044) (5508,) 2348\n"
     ]
    },
    {
     "name": "stderr",
     "output_type": "stream",
     "text": [
      "[Parallel(n_jobs=20)]: Using backend LokyBackend with 20 concurrent workers.\n",
      "[Parallel(n_jobs=20)]: Done   2 out of   5 | elapsed:   26.7s remaining:   40.1s\n",
      "[Parallel(n_jobs=20)]: Done   5 out of   5 | elapsed:   27.6s finished\n"
     ]
    },
    {
     "name": "stdout",
     "output_type": "stream",
     "text": [
      "[0.50045331 0.49682684 0.47277677 0.40818182 0.50636364]\n",
      "{}\n",
      "(5508, 9408) (5508,) 3136\n"
     ]
    },
    {
     "name": "stderr",
     "output_type": "stream",
     "text": [
      "[Parallel(n_jobs=20)]: Using backend LokyBackend with 20 concurrent workers.\n",
      "[Parallel(n_jobs=20)]: Done   2 out of   5 | elapsed:   31.3s remaining:   47.0s\n",
      "[Parallel(n_jobs=20)]: Done   5 out of   5 | elapsed:   31.7s finished\n"
     ]
    },
    {
     "name": "stdout",
     "output_type": "stream",
     "text": [
      "[0.50589302 0.54306437 0.47005445 0.48818182 0.47636364]\n",
      "{}\n",
      "(5508, 900) (5508,) 300\n"
     ]
    },
    {
     "name": "stderr",
     "output_type": "stream",
     "text": [
      "[Parallel(n_jobs=20)]: Using backend LokyBackend with 20 concurrent workers.\n",
      "[Parallel(n_jobs=20)]: Done   2 out of   5 | elapsed:    5.9s remaining:    8.8s\n",
      "[Parallel(n_jobs=20)]: Done   5 out of   5 | elapsed:    5.9s finished\n"
     ]
    },
    {
     "name": "stdout",
     "output_type": "stream",
     "text": [
      "[0.49682684 0.54306437 0.59255898 0.53909091 0.53      ]\n",
      "{}\n",
      "(5508, 3264) (5508,) 1088\n"
     ]
    },
    {
     "name": "stderr",
     "output_type": "stream",
     "text": [
      "[Parallel(n_jobs=20)]: Using backend LokyBackend with 20 concurrent workers.\n",
      "[Parallel(n_jobs=20)]: Done   2 out of   5 | elapsed:   16.5s remaining:   24.8s\n",
      "[Parallel(n_jobs=20)]: Done   5 out of   5 | elapsed:   17.2s finished\n"
     ]
    },
    {
     "name": "stdout",
     "output_type": "stream",
     "text": [
      "[0.51858568 0.55303717 0.57441016 0.56181818 0.49636364]\n",
      "{}\n",
      "(5508, 6144) (5508,) 2048\n"
     ]
    },
    {
     "name": "stderr",
     "output_type": "stream",
     "text": [
      "[Parallel(n_jobs=20)]: Using backend LokyBackend with 20 concurrent workers.\n",
      "[Parallel(n_jobs=20)]: Done   2 out of   5 | elapsed:   26.2s remaining:   39.3s\n",
      "[Parallel(n_jobs=20)]: Done   5 out of   5 | elapsed:   27.0s finished\n"
     ]
    },
    {
     "name": "stdout",
     "output_type": "stream",
     "text": [
      "[0.44424297 0.3862194  0.2477314  0.27454545 0.34636364]\n",
      "{}\n",
      "(24389, 3451)\n",
      "(5486, 10308) (5486,) 3436\n"
     ]
    },
    {
     "name": "stderr",
     "output_type": "stream",
     "text": [
      "[Parallel(n_jobs=20)]: Using backend LokyBackend with 20 concurrent workers.\n",
      "[Parallel(n_jobs=20)]: Done   2 out of   5 | elapsed:   31.8s remaining:   47.8s\n",
      "[Parallel(n_jobs=20)]: Done   5 out of   5 | elapsed:   32.7s finished\n"
     ]
    },
    {
     "name": "stdout",
     "output_type": "stream",
     "text": [
      "[0.53139217 0.54644809 0.53460838 0.51186131 0.51232877]\n",
      "{}\n",
      "(5486, 4164) (5486,) 1388\n"
     ]
    },
    {
     "name": "stderr",
     "output_type": "stream",
     "text": [
      "[Parallel(n_jobs=20)]: Using backend LokyBackend with 20 concurrent workers.\n",
      "[Parallel(n_jobs=20)]: Done   2 out of   5 | elapsed:   17.7s remaining:   26.6s\n",
      "[Parallel(n_jobs=20)]: Done   5 out of   5 | elapsed:   18.3s finished\n"
     ]
    },
    {
     "name": "stdout",
     "output_type": "stream",
     "text": [
      "[0.54231119 0.56284153 0.60382514 0.60036496 0.53242009]\n",
      "{}\n",
      "(5486, 7044) (5486,) 2348\n"
     ]
    },
    {
     "name": "stderr",
     "output_type": "stream",
     "text": [
      "[Parallel(n_jobs=20)]: Using backend LokyBackend with 20 concurrent workers.\n",
      "[Parallel(n_jobs=20)]: Done   2 out of   5 | elapsed:   26.6s remaining:   39.9s\n",
      "[Parallel(n_jobs=20)]: Done   5 out of   5 | elapsed:   27.4s finished\n"
     ]
    },
    {
     "name": "stdout",
     "output_type": "stream",
     "text": [
      "[0.46860783 0.44808743 0.42349727 0.38229927 0.46027397]\n",
      "{}\n",
      "(5486, 9408) (5486,) 3136\n"
     ]
    },
    {
     "name": "stderr",
     "output_type": "stream",
     "text": [
      "[Parallel(n_jobs=20)]: Using backend LokyBackend with 20 concurrent workers.\n",
      "[Parallel(n_jobs=20)]: Done   2 out of   5 | elapsed:   31.0s remaining:   46.6s\n",
      "[Parallel(n_jobs=20)]: Done   5 out of   5 | elapsed:   31.2s finished\n"
     ]
    },
    {
     "name": "stdout",
     "output_type": "stream",
     "text": [
      "[0.50864422 0.54007286 0.48724954 0.47992701 0.48219178]\n",
      "{}\n",
      "(5486, 900) (5486,) 300\n"
     ]
    },
    {
     "name": "stderr",
     "output_type": "stream",
     "text": [
      "[Parallel(n_jobs=20)]: Using backend LokyBackend with 20 concurrent workers.\n",
      "[Parallel(n_jobs=20)]: Done   2 out of   5 | elapsed:    6.1s remaining:    9.2s\n",
      "[Parallel(n_jobs=20)]: Done   5 out of   5 | elapsed:    6.3s finished\n"
     ]
    },
    {
     "name": "stdout",
     "output_type": "stream",
     "text": [
      "[0.48134668 0.52094718 0.56830601 0.52372263 0.51050228]\n",
      "{}\n",
      "(5486, 3264) (5486,) 1088\n"
     ]
    },
    {
     "name": "stderr",
     "output_type": "stream",
     "text": [
      "[Parallel(n_jobs=20)]: Using backend LokyBackend with 20 concurrent workers.\n",
      "[Parallel(n_jobs=20)]: Done   2 out of   5 | elapsed:   16.5s remaining:   24.7s\n",
      "[Parallel(n_jobs=20)]: Done   5 out of   5 | elapsed:   16.7s finished\n"
     ]
    },
    {
     "name": "stdout",
     "output_type": "stream",
     "text": [
      "[0.52320291 0.56193078 0.58469945 0.54562044 0.49771689]\n",
      "{}\n",
      "(5486, 6144) (5486,) 2048\n"
     ]
    },
    {
     "name": "stderr",
     "output_type": "stream",
     "text": [
      "[Parallel(n_jobs=20)]: Using backend LokyBackend with 20 concurrent workers.\n",
      "[Parallel(n_jobs=20)]: Done   2 out of   5 | elapsed:   26.2s remaining:   39.3s\n",
      "[Parallel(n_jobs=20)]: Done   5 out of   5 | elapsed:   27.1s finished\n"
     ]
    },
    {
     "name": "stdout",
     "output_type": "stream",
     "text": [
      "[0.43312102 0.37431694 0.26320583 0.27189781 0.35342466]\n",
      "{}\n",
      "(28220, 3451)\n",
      "(5378, 10308) (5378,) 3436\n"
     ]
    },
    {
     "name": "stderr",
     "output_type": "stream",
     "text": [
      "[Parallel(n_jobs=20)]: Using backend LokyBackend with 20 concurrent workers.\n",
      "[Parallel(n_jobs=20)]: Done   2 out of   5 | elapsed:   31.7s remaining:   47.5s\n",
      "[Parallel(n_jobs=20)]: Done   5 out of   5 | elapsed:   32.2s finished\n"
     ]
    },
    {
     "name": "stdout",
     "output_type": "stream",
     "text": [
      "[0.52553389 0.57660167 0.56040892 0.52651163 0.52562908]\n",
      "{}\n",
      "(5378, 4164) (5378,) 1388\n"
     ]
    },
    {
     "name": "stderr",
     "output_type": "stream",
     "text": [
      "[Parallel(n_jobs=20)]: Using backend LokyBackend with 20 concurrent workers.\n",
      "[Parallel(n_jobs=20)]: Done   2 out of   5 | elapsed:   18.0s remaining:   26.9s\n",
      "[Parallel(n_jobs=20)]: Done   5 out of   5 | elapsed:   18.7s finished\n"
     ]
    },
    {
     "name": "stdout",
     "output_type": "stream",
     "text": [
      "[0.55246054 0.60538533 0.65055762 0.61581395 0.54892824]\n",
      "{}\n",
      "(5378, 7044) (5378,) 2348\n"
     ]
    },
    {
     "name": "stderr",
     "output_type": "stream",
     "text": [
      "[Parallel(n_jobs=20)]: Using backend LokyBackend with 20 concurrent workers.\n",
      "[Parallel(n_jobs=20)]: Done   2 out of   5 | elapsed:   26.5s remaining:   39.7s\n",
      "[Parallel(n_jobs=20)]: Done   5 out of   5 | elapsed:   27.2s finished\n"
     ]
    },
    {
     "name": "stdout",
     "output_type": "stream",
     "text": [
      "[0.42989786 0.37511606 0.29275093 0.28186047 0.37092265]\n",
      "{}\n",
      "(5378, 9408) (5378,) 3136\n"
     ]
    },
    {
     "name": "stderr",
     "output_type": "stream",
     "text": [
      "[Parallel(n_jobs=20)]: Using backend LokyBackend with 20 concurrent workers.\n",
      "[Parallel(n_jobs=20)]: Done   2 out of   5 | elapsed:   30.4s remaining:   45.6s\n",
      "[Parallel(n_jobs=20)]: Done   5 out of   5 | elapsed:   31.4s finished\n"
     ]
    },
    {
     "name": "stdout",
     "output_type": "stream",
     "text": [
      "[0.53296193 0.59238626 0.56319703 0.53395349 0.51351351]\n",
      "{}\n",
      "(5378, 900) (5378,) 300\n"
     ]
    },
    {
     "name": "stderr",
     "output_type": "stream",
     "text": [
      "[Parallel(n_jobs=20)]: Using backend LokyBackend with 20 concurrent workers.\n",
      "[Parallel(n_jobs=20)]: Done   2 out of   5 | elapsed:    7.0s remaining:   10.5s\n",
      "[Parallel(n_jobs=20)]: Done   5 out of   5 | elapsed:    7.2s finished\n"
     ]
    },
    {
     "name": "stdout",
     "output_type": "stream",
     "text": [
      "[0.44568245 0.4187558  0.45260223 0.43627907 0.39794967]\n",
      "{}\n"
     ]
    },
    {
     "ename": "KeyboardInterrupt",
     "evalue": "",
     "output_type": "error",
     "traceback": [
      "\u001b[0;31m---------------------------------------------------------------------------\u001b[0m",
      "\u001b[0;31mKeyboardInterrupt\u001b[0m                         Traceback (most recent call last)",
      "\u001b[0;32m<ipython-input-14-f40de23d91e4>\u001b[0m in \u001b[0;36m<module>\u001b[0;34m\u001b[0m\n\u001b[1;32m     16\u001b[0m \u001b[0;34m\u001b[0m\u001b[0m\n\u001b[1;32m     17\u001b[0m         \u001b[0;31m# Combine all three speakers to single input for each conversation\u001b[0m\u001b[0;34m\u001b[0m\u001b[0;34m\u001b[0m\u001b[0;34m\u001b[0m\u001b[0m\n\u001b[0;32m---> 18\u001b[0;31m         \u001b[0mX\u001b[0m \u001b[0;34m=\u001b[0m \u001b[0mdata\u001b[0m\u001b[0;34m.\u001b[0m\u001b[0mgroupby\u001b[0m\u001b[0;34m(\u001b[0m\u001b[0;34m[\u001b[0m\u001b[0;34m\"conversation_id\"\u001b[0m\u001b[0;34m,\u001b[0m \u001b[0;34m\"clip_id\"\u001b[0m\u001b[0;34m,\u001b[0m \u001b[0;34m\"multiclass_speaker_label\"\u001b[0m\u001b[0;34m]\u001b[0m\u001b[0;34m)\u001b[0m\u001b[0;34m.\u001b[0m\u001b[0mapply\u001b[0m\u001b[0;34m(\u001b[0m\u001b[0;32mlambda\u001b[0m \u001b[0mx\u001b[0m\u001b[0;34m:\u001b[0m \u001b[0mx\u001b[0m\u001b[0;34m[\u001b[0m\u001b[0mexperiment\u001b[0m\u001b[0;34m]\u001b[0m\u001b[0;34m.\u001b[0m\u001b[0mvalues\u001b[0m\u001b[0;34m.\u001b[0m\u001b[0mflatten\u001b[0m\u001b[0;34m(\u001b[0m\u001b[0;34m)\u001b[0m\u001b[0;34m)\u001b[0m\u001b[0;34m.\u001b[0m\u001b[0mreset_index\u001b[0m\u001b[0;34m(\u001b[0m\u001b[0;34m)\u001b[0m\u001b[0;34m\u001b[0m\u001b[0;34m\u001b[0m\u001b[0m\n\u001b[0m\u001b[1;32m     19\u001b[0m         \u001b[0;31m# Get labels\u001b[0m\u001b[0;34m\u001b[0m\u001b[0;34m\u001b[0m\u001b[0;34m\u001b[0m\u001b[0m\n\u001b[1;32m     20\u001b[0m         \u001b[0my\u001b[0m \u001b[0;34m=\u001b[0m \u001b[0mX\u001b[0m\u001b[0;34m[\u001b[0m\u001b[0;34m'multiclass_speaker_label'\u001b[0m\u001b[0;34m]\u001b[0m\u001b[0;34m.\u001b[0m\u001b[0mvalues\u001b[0m\u001b[0;34m\u001b[0m\u001b[0;34m\u001b[0m\u001b[0m\n",
      "\u001b[0;32m~/miniconda3/lib/python3.7/site-packages/pandas/core/groupby/groupby.py\u001b[0m in \u001b[0;36mapply\u001b[0;34m(self, func, *args, **kwargs)\u001b[0m\n\u001b[1;32m    687\u001b[0m         \u001b[0;32mwith\u001b[0m \u001b[0moption_context\u001b[0m\u001b[0;34m(\u001b[0m\u001b[0;34m'mode.chained_assignment'\u001b[0m\u001b[0;34m,\u001b[0m \u001b[0;32mNone\u001b[0m\u001b[0;34m)\u001b[0m\u001b[0;34m:\u001b[0m\u001b[0;34m\u001b[0m\u001b[0;34m\u001b[0m\u001b[0m\n\u001b[1;32m    688\u001b[0m             \u001b[0;32mtry\u001b[0m\u001b[0;34m:\u001b[0m\u001b[0;34m\u001b[0m\u001b[0;34m\u001b[0m\u001b[0m\n\u001b[0;32m--> 689\u001b[0;31m                 \u001b[0mresult\u001b[0m \u001b[0;34m=\u001b[0m \u001b[0mself\u001b[0m\u001b[0;34m.\u001b[0m\u001b[0m_python_apply_general\u001b[0m\u001b[0;34m(\u001b[0m\u001b[0mf\u001b[0m\u001b[0;34m)\u001b[0m\u001b[0;34m\u001b[0m\u001b[0;34m\u001b[0m\u001b[0m\n\u001b[0m\u001b[1;32m    690\u001b[0m             \u001b[0;32mexcept\u001b[0m \u001b[0mException\u001b[0m\u001b[0;34m:\u001b[0m\u001b[0;34m\u001b[0m\u001b[0;34m\u001b[0m\u001b[0m\n\u001b[1;32m    691\u001b[0m \u001b[0;34m\u001b[0m\u001b[0m\n",
      "\u001b[0;32m~/miniconda3/lib/python3.7/site-packages/pandas/core/groupby/groupby.py\u001b[0m in \u001b[0;36m_python_apply_general\u001b[0;34m(self, f)\u001b[0m\n\u001b[1;32m    705\u001b[0m     \u001b[0;32mdef\u001b[0m \u001b[0m_python_apply_general\u001b[0m\u001b[0;34m(\u001b[0m\u001b[0mself\u001b[0m\u001b[0;34m,\u001b[0m \u001b[0mf\u001b[0m\u001b[0;34m)\u001b[0m\u001b[0;34m:\u001b[0m\u001b[0;34m\u001b[0m\u001b[0;34m\u001b[0m\u001b[0m\n\u001b[1;32m    706\u001b[0m         keys, values, mutated = self.grouper.apply(f, self._selected_obj,\n\u001b[0;32m--> 707\u001b[0;31m                                                    self.axis)\n\u001b[0m\u001b[1;32m    708\u001b[0m \u001b[0;34m\u001b[0m\u001b[0m\n\u001b[1;32m    709\u001b[0m         return self._wrap_applied_output(\n",
      "\u001b[0;32m~/miniconda3/lib/python3.7/site-packages/pandas/core/groupby/ops.py\u001b[0m in \u001b[0;36mapply\u001b[0;34m(self, f, data, axis)\u001b[0m\n\u001b[1;32m    172\u001b[0m                 hasattr(splitter, 'fast_apply') and axis == 0):\n\u001b[1;32m    173\u001b[0m             \u001b[0;32mtry\u001b[0m\u001b[0;34m:\u001b[0m\u001b[0;34m\u001b[0m\u001b[0;34m\u001b[0m\u001b[0m\n\u001b[0;32m--> 174\u001b[0;31m                 \u001b[0mvalues\u001b[0m\u001b[0;34m,\u001b[0m \u001b[0mmutated\u001b[0m \u001b[0;34m=\u001b[0m \u001b[0msplitter\u001b[0m\u001b[0;34m.\u001b[0m\u001b[0mfast_apply\u001b[0m\u001b[0;34m(\u001b[0m\u001b[0mf\u001b[0m\u001b[0;34m,\u001b[0m \u001b[0mgroup_keys\u001b[0m\u001b[0;34m)\u001b[0m\u001b[0;34m\u001b[0m\u001b[0;34m\u001b[0m\u001b[0m\n\u001b[0m\u001b[1;32m    175\u001b[0m                 \u001b[0;32mreturn\u001b[0m \u001b[0mgroup_keys\u001b[0m\u001b[0;34m,\u001b[0m \u001b[0mvalues\u001b[0m\u001b[0;34m,\u001b[0m \u001b[0mmutated\u001b[0m\u001b[0;34m\u001b[0m\u001b[0;34m\u001b[0m\u001b[0m\n\u001b[1;32m    176\u001b[0m             \u001b[0;32mexcept\u001b[0m \u001b[0mreduction\u001b[0m\u001b[0;34m.\u001b[0m\u001b[0mInvalidApply\u001b[0m\u001b[0;34m:\u001b[0m\u001b[0;34m\u001b[0m\u001b[0;34m\u001b[0m\u001b[0m\n",
      "\u001b[0;32m~/miniconda3/lib/python3.7/site-packages/pandas/core/groupby/ops.py\u001b[0m in \u001b[0;36mfast_apply\u001b[0;34m(self, f, names)\u001b[0m\n\u001b[1;32m    856\u001b[0m         \u001b[0msdata\u001b[0m \u001b[0;34m=\u001b[0m \u001b[0mself\u001b[0m\u001b[0;34m.\u001b[0m\u001b[0m_get_sorted_data\u001b[0m\u001b[0;34m(\u001b[0m\u001b[0;34m)\u001b[0m\u001b[0;34m\u001b[0m\u001b[0;34m\u001b[0m\u001b[0m\n\u001b[1;32m    857\u001b[0m         results, mutated = reduction.apply_frame_axis0(sdata, f, names,\n\u001b[0;32m--> 858\u001b[0;31m                                                        starts, ends)\n\u001b[0m\u001b[1;32m    859\u001b[0m \u001b[0;34m\u001b[0m\u001b[0m\n\u001b[1;32m    860\u001b[0m         \u001b[0;32mreturn\u001b[0m \u001b[0mresults\u001b[0m\u001b[0;34m,\u001b[0m \u001b[0mmutated\u001b[0m\u001b[0;34m\u001b[0m\u001b[0;34m\u001b[0m\u001b[0m\n",
      "\u001b[0;32mpandas/_libs/reduction.pyx\u001b[0m in \u001b[0;36mpandas._libs.reduction.apply_frame_axis0\u001b[0;34m()\u001b[0m\n",
      "\u001b[0;32m<ipython-input-14-f40de23d91e4>\u001b[0m in \u001b[0;36m<lambda>\u001b[0;34m(x)\u001b[0m\n\u001b[1;32m     16\u001b[0m \u001b[0;34m\u001b[0m\u001b[0m\n\u001b[1;32m     17\u001b[0m         \u001b[0;31m# Combine all three speakers to single input for each conversation\u001b[0m\u001b[0;34m\u001b[0m\u001b[0;34m\u001b[0m\u001b[0;34m\u001b[0m\u001b[0m\n\u001b[0;32m---> 18\u001b[0;31m         \u001b[0mX\u001b[0m \u001b[0;34m=\u001b[0m \u001b[0mdata\u001b[0m\u001b[0;34m.\u001b[0m\u001b[0mgroupby\u001b[0m\u001b[0;34m(\u001b[0m\u001b[0;34m[\u001b[0m\u001b[0;34m\"conversation_id\"\u001b[0m\u001b[0;34m,\u001b[0m \u001b[0;34m\"clip_id\"\u001b[0m\u001b[0;34m,\u001b[0m \u001b[0;34m\"multiclass_speaker_label\"\u001b[0m\u001b[0;34m]\u001b[0m\u001b[0;34m)\u001b[0m\u001b[0;34m.\u001b[0m\u001b[0mapply\u001b[0m\u001b[0;34m(\u001b[0m\u001b[0;32mlambda\u001b[0m \u001b[0mx\u001b[0m\u001b[0;34m:\u001b[0m \u001b[0mx\u001b[0m\u001b[0;34m[\u001b[0m\u001b[0mexperiment\u001b[0m\u001b[0;34m]\u001b[0m\u001b[0;34m.\u001b[0m\u001b[0mvalues\u001b[0m\u001b[0;34m.\u001b[0m\u001b[0mflatten\u001b[0m\u001b[0;34m(\u001b[0m\u001b[0;34m)\u001b[0m\u001b[0;34m)\u001b[0m\u001b[0;34m.\u001b[0m\u001b[0mreset_index\u001b[0m\u001b[0;34m(\u001b[0m\u001b[0;34m)\u001b[0m\u001b[0;34m\u001b[0m\u001b[0;34m\u001b[0m\u001b[0m\n\u001b[0m\u001b[1;32m     19\u001b[0m         \u001b[0;31m# Get labels\u001b[0m\u001b[0;34m\u001b[0m\u001b[0;34m\u001b[0m\u001b[0;34m\u001b[0m\u001b[0m\n\u001b[1;32m     20\u001b[0m         \u001b[0my\u001b[0m \u001b[0;34m=\u001b[0m \u001b[0mX\u001b[0m\u001b[0;34m[\u001b[0m\u001b[0;34m'multiclass_speaker_label'\u001b[0m\u001b[0;34m]\u001b[0m\u001b[0;34m.\u001b[0m\u001b[0mvalues\u001b[0m\u001b[0;34m\u001b[0m\u001b[0;34m\u001b[0m\u001b[0m\n",
      "\u001b[0;32m~/miniconda3/lib/python3.7/site-packages/pandas/core/generic.py\u001b[0m in \u001b[0;36mvalues\u001b[0;34m(self)\u001b[0m\n\u001b[1;32m   5323\u001b[0m         \"\"\"\n\u001b[1;32m   5324\u001b[0m         \u001b[0mself\u001b[0m\u001b[0;34m.\u001b[0m\u001b[0m_consolidate_inplace\u001b[0m\u001b[0;34m(\u001b[0m\u001b[0;34m)\u001b[0m\u001b[0;34m\u001b[0m\u001b[0;34m\u001b[0m\u001b[0m\n\u001b[0;32m-> 5325\u001b[0;31m         \u001b[0;32mreturn\u001b[0m \u001b[0mself\u001b[0m\u001b[0;34m.\u001b[0m\u001b[0m_data\u001b[0m\u001b[0;34m.\u001b[0m\u001b[0mas_array\u001b[0m\u001b[0;34m(\u001b[0m\u001b[0mtranspose\u001b[0m\u001b[0;34m=\u001b[0m\u001b[0mself\u001b[0m\u001b[0;34m.\u001b[0m\u001b[0m_AXIS_REVERSED\u001b[0m\u001b[0;34m)\u001b[0m\u001b[0;34m\u001b[0m\u001b[0;34m\u001b[0m\u001b[0m\n\u001b[0m\u001b[1;32m   5326\u001b[0m \u001b[0;34m\u001b[0m\u001b[0m\n\u001b[1;32m   5327\u001b[0m     \u001b[0;34m@\u001b[0m\u001b[0mproperty\u001b[0m\u001b[0;34m\u001b[0m\u001b[0;34m\u001b[0m\u001b[0m\n",
      "\u001b[0;32m~/miniconda3/lib/python3.7/site-packages/pandas/core/internals/managers.py\u001b[0m in \u001b[0;36mas_array\u001b[0;34m(self, transpose, items)\u001b[0m\n\u001b[1;32m    768\u001b[0m             \u001b[0marr\u001b[0m \u001b[0;34m=\u001b[0m \u001b[0mmgr\u001b[0m\u001b[0;34m.\u001b[0m\u001b[0m_interleave\u001b[0m\u001b[0;34m(\u001b[0m\u001b[0;34m)\u001b[0m\u001b[0;34m\u001b[0m\u001b[0;34m\u001b[0m\u001b[0m\n\u001b[1;32m    769\u001b[0m \u001b[0;34m\u001b[0m\u001b[0m\n\u001b[0;32m--> 770\u001b[0;31m         \u001b[0;32mreturn\u001b[0m \u001b[0marr\u001b[0m\u001b[0;34m.\u001b[0m\u001b[0mtranspose\u001b[0m\u001b[0;34m(\u001b[0m\u001b[0;34m)\u001b[0m \u001b[0;32mif\u001b[0m \u001b[0mtranspose\u001b[0m \u001b[0;32melse\u001b[0m \u001b[0marr\u001b[0m\u001b[0;34m\u001b[0m\u001b[0;34m\u001b[0m\u001b[0m\n\u001b[0m\u001b[1;32m    771\u001b[0m \u001b[0;34m\u001b[0m\u001b[0m\n\u001b[1;32m    772\u001b[0m     \u001b[0;32mdef\u001b[0m \u001b[0m_interleave\u001b[0m\u001b[0;34m(\u001b[0m\u001b[0mself\u001b[0m\u001b[0;34m)\u001b[0m\u001b[0;34m:\u001b[0m\u001b[0;34m\u001b[0m\u001b[0;34m\u001b[0m\u001b[0m\n",
      "\u001b[0;31mKeyboardInterrupt\u001b[0m: "
     ]
    }
   ],
   "source": [
    "results = {}\n",
    "for history_length in [4, 5, 10, 30, 60]:\n",
    "    # Fetch and prepare data\n",
    "    data = pd.read_csv(egocom_loc + \"egocom_features_history_{}sec.csv.gz\".format(history_length))\n",
    "    # -1 means no one is speaking. Change to 0 for training.\n",
    "    data[\"multiclass_speaker_label\"].replace(-1, 0, inplace = True)\n",
    "    # Include video info\n",
    "    data = pd.merge(data, video_info, on = ['video_id', 'video_speaker_id'])\n",
    "    print(data.shape)\n",
    "\n",
    "    # Only use 3 speaker conversations\n",
    "    data = data[data['num_speakers'] == 3]\n",
    "         \n",
    "    for experiment_key in experiments.keys():\n",
    "        experiment = experiments[experiment_key]\n",
    "\n",
    "        # Combine all three speakers to single input for each conversation\n",
    "        X = data.groupby([\"conversation_id\", \"clip_id\", \"multiclass_speaker_label\"]).apply(lambda x: x[experiment].values.flatten()).reset_index()\n",
    "        # Get labels\n",
    "        y = X['multiclass_speaker_label'].values\n",
    "        # Only include examples with all three speakers (same dimension)\n",
    "        input_length = max([len(z) for z in X[0]])\n",
    "        mask = [len(z) == input_length for z in X[0]]\n",
    "        X = np.stack(X[0][mask])\n",
    "        y = y[mask]\n",
    "        \n",
    "        print(X.shape, y.shape, len(experiment))\n",
    "\n",
    "        with multiprocessing.Pool(multiprocessing.cpu_count()) as p:\n",
    "            result = list(tqdm.tqdm(p.imap(process_job, zip(names, classifiers)), total=len(classifiers)))\n",
    "        results[(history_length, experiment_key)] = list(zip(names, [np.mean(i) for i in result]))\n",
    "        \n",
    "        print(results)\n",
    "        "
   ]
  },
  {
   "cell_type": "code",
   "execution_count": null,
   "metadata": {},
   "outputs": [
    {
     "name": "stdout",
     "output_type": "stream",
     "text": [
      "(24074, 3451)\n",
      "(5508, 10308) (5508,) 3436\n"
     ]
    },
    {
     "name": "stderr",
     "output_type": "stream",
     "text": [
      "\n",
      "  0%|          | 0/7 [00:00<?, ?it/s]\u001b[A[Parallel(n_jobs=1)]: Using backend SequentialBackend with 1 concurrent workers.\n",
      "[Parallel(n_jobs=1)]: Using backend SequentialBackend with 1 concurrent workers.\n",
      "[Parallel(n_jobs=1)]: Using backend SequentialBackend with 1 concurrent workers.\n",
      "[Parallel(n_jobs=1)]: Using backend SequentialBackend with 1 concurrent workers.\n",
      "[Parallel(n_jobs=1)]: Using backend SequentialBackend with 1 concurrent workers.\n",
      "[Parallel(n_jobs=1)]: Using backend SequentialBackend with 1 concurrent workers.\n",
      "[Parallel(n_jobs=1)]: Using backend SequentialBackend with 1 concurrent workers.\n",
      "/home/cgn/miniconda3/lib/python3.7/site-packages/sklearn/model_selection/_split.py:2053: FutureWarning: You should specify a value for 'cv' instead of relying on the default value. The default value will change from 3 to 5 in version 0.22.\n",
      "  warnings.warn(CV_WARNING, FutureWarning)\n",
      "[Parallel(n_jobs=1)]: Done  10 out of  10 | elapsed:   26.3s finished\n"
     ]
    },
    {
     "name": "stdout",
     "output_type": "stream",
     "text": [
      "Naive Bayes 0.4008506279081402\n"
     ]
    },
    {
     "name": "stderr",
     "output_type": "stream",
     "text": [
      "/home/cgn/miniconda3/lib/python3.7/site-packages/sklearn/linear_model/logistic.py:758: ConvergenceWarning: lbfgs failed to converge. Increase the number of iterations.\n",
      "  \"of iterations.\", ConvergenceWarning)\n",
      "[Parallel(n_jobs=1)]: Done  10 out of  10 | elapsed:  7.5min finished\n"
     ]
    },
    {
     "name": "stdout",
     "output_type": "stream",
     "text": [
      "Random Forest 0.5121637290429255\n"
     ]
    },
    {
     "name": "stderr",
     "output_type": "stream",
     "text": [
      "[Parallel(n_jobs=1)]: Done  10 out of  10 | elapsed:  8.6min finished\n"
     ]
    },
    {
     "name": "stdout",
     "output_type": "stream",
     "text": [
      "One layer SGD Classifier 0.3036989304952981\n"
     ]
    },
    {
     "name": "stderr",
     "output_type": "stream",
     "text": [
      "[Parallel(n_jobs=1)]: Done  10 out of  10 | elapsed: 11.9min finished\n"
     ]
    },
    {
     "name": "stdout",
     "output_type": "stream",
     "text": [
      "Decision Tree 0.41085783854743674\n"
     ]
    },
    {
     "name": "stderr",
     "output_type": "stream",
     "text": [
      "/home/cgn/miniconda3/lib/python3.7/site-packages/sklearn/linear_model/logistic.py:758: ConvergenceWarning: lbfgs failed to converge. Increase the number of iterations.\n",
      "  \"of iterations.\", ConvergenceWarning)\n"
     ]
    }
   ],
   "source": [
    "results = {}\n",
    "for history_length in [4, 5, 10, 30, 60]:\n",
    "    # Fetch and prepare data\n",
    "    data = pd.read_csv(egocom_loc + \"egocom_features_history_{}sec.csv.gz\".format(history_length))\n",
    "    # -1 means no one is speaking. Change to 0 for training.\n",
    "    data[\"multiclass_speaker_label\"].replace(-1, 0, inplace = True)\n",
    "    # Include video info\n",
    "    data = pd.merge(data, video_info, on = ['video_id', 'video_speaker_id'])\n",
    "    print(data.shape)\n",
    "\n",
    "    # Only use 3 speaker conversations\n",
    "    data = data[data['num_speakers'] == 3]\n",
    "         \n",
    "    for experiment_key in experiments.keys():\n",
    "        experiment = experiments[experiment_key]\n",
    "\n",
    "        # Combine all three speakers to single input for each conversation\n",
    "        X = data.groupby([\"conversation_id\", \"clip_id\", \"multiclass_speaker_label\"]).apply(lambda x: x[experiment].values.flatten()).reset_index()\n",
    "        # Get labels\n",
    "        y = X['multiclass_speaker_label'].values\n",
    "        # Only include examples with all three speakers (same dimension)\n",
    "        input_length = max([len(z) for z in X[0]])\n",
    "        mask = [len(z) == input_length for z in X[0]]\n",
    "        X = np.stack(X[0][mask])\n",
    "        y = y[mask]\n",
    "        \n",
    "        print(X.shape, y.shape, len(experiment))\n",
    "\n",
    "        with multiprocessing.Pool(multiprocessing.cpu_count()) as p:\n",
    "            result = list(tqdm.tqdm(p.imap(process_job, zip(names, classifiers)), total=len(classifiers)))\n",
    "        results[(history_length, experiment_key)] = list(zip(names, [np.mean(i) for i in result]))\n",
    "        \n",
    "        print(results)\n",
    "        "
   ]
  },
  {
   "cell_type": "code",
   "execution_count": 180,
   "metadata": {},
   "outputs": [],
   "source": [
    "# X = data[[c for c in data.columns if 'textfeat' in c]].values\n",
    "# y = data['multiclass_speaker_label'].values"
   ]
  },
  {
   "cell_type": "code",
   "execution_count": null,
   "metadata": {},
   "outputs": [
    {
     "name": "stderr",
     "output_type": "stream",
     "text": [
      "\n",
      "  0%|          | 0/9 [00:00<?, ?it/s]\u001b[A/home/cgn/miniconda3/lib/python3.7/site-packages/sklearn/externals/joblib/parallel.py:673: UserWarning: Loky-backed parallel loops cannot be called in a multiprocessing, setting n_jobs=1\n",
      "  **self._backend_args)\n",
      "/home/cgn/miniconda3/lib/python3.7/site-packages/sklearn/externals/joblib/parallel.py:673: UserWarning: Loky-backed parallel loops cannot be called in a multiprocessing, setting n_jobs=1\n",
      "  **self._backend_args)\n",
      "/home/cgn/miniconda3/lib/python3.7/site-packages/sklearn/externals/joblib/parallel.py:673: UserWarning: Loky-backed parallel loops cannot be called in a multiprocessing, setting n_jobs=1\n",
      "  **self._backend_args)\n",
      "/home/cgn/miniconda3/lib/python3.7/site-packages/sklearn/externals/joblib/parallel.py:673: UserWarning: Loky-backed parallel loops cannot be called in a multiprocessing, setting n_jobs=1\n",
      "  **self._backend_args)\n",
      "/home/cgn/miniconda3/lib/python3.7/site-packages/sklearn/externals/joblib/parallel.py:673: UserWarning: Loky-backed parallel loops cannot be called in a multiprocessing, setting n_jobs=1\n",
      "  **self._backend_args)\n",
      "/home/cgn/miniconda3/lib/python3.7/site-packages/sklearn/externals/joblib/parallel.py:673: UserWarning: Loky-backed parallel loops cannot be called in a multiprocessing, setting n_jobs=1\n",
      "  **self._backend_args)\n",
      "/home/cgn/miniconda3/lib/python3.7/site-packages/sklearn/externals/joblib/parallel.py:673: UserWarning: Loky-backed parallel loops cannot be called in a multiprocessing, setting n_jobs=1\n",
      "  **self._backend_args)\n",
      "[Parallel(n_jobs=2)]: Using backend SequentialBackend with 1 concurrent workers.\n",
      "[Parallel(n_jobs=2)]: Using backend SequentialBackend with 1 concurrent workers.\n",
      "/home/cgn/miniconda3/lib/python3.7/site-packages/sklearn/externals/joblib/parallel.py:673: UserWarning: Loky-backed parallel loops cannot be called in a multiprocessing, setting n_jobs=1\n",
      "  **self._backend_args)\n",
      "/home/cgn/miniconda3/lib/python3.7/site-packages/sklearn/externals/joblib/parallel.py:673: UserWarning: Loky-backed parallel loops cannot be called in a multiprocessing, setting n_jobs=1\n",
      "  **self._backend_args)\n",
      "[Parallel(n_jobs=2)]: Using backend SequentialBackend with 1 concurrent workers.\n",
      "[Parallel(n_jobs=2)]: Using backend SequentialBackend with 1 concurrent workers.\n",
      "[Parallel(n_jobs=2)]: Using backend SequentialBackend with 1 concurrent workers.\n",
      "[Parallel(n_jobs=2)]: Using backend SequentialBackend with 1 concurrent workers.\n",
      "[Parallel(n_jobs=2)]: Using backend SequentialBackend with 1 concurrent workers.\n",
      "[Parallel(n_jobs=2)]: Using backend SequentialBackend with 1 concurrent workers.\n",
      "[Parallel(n_jobs=2)]: Using backend SequentialBackend with 1 concurrent workers.\n",
      "[Parallel(n_jobs=2)]: Done   5 out of   5 | elapsed:   18.4s finished\n"
     ]
    },
    {
     "name": "stdout",
     "output_type": "stream",
     "text": [
      "Random Forest [0.65064728 0.65029261 0.65064728 0.65058531 0.65034593]\n"
     ]
    },
    {
     "name": "stderr",
     "output_type": "stream",
     "text": [
      "[Parallel(n_jobs=2)]: Done   5 out of   5 | elapsed:   29.6s finished\n"
     ]
    },
    {
     "name": "stdout",
     "output_type": "stream",
     "text": [
      "Naive Bayes [0.69107998 0.74144352 0.69498138 0.59968074 0.62320383]\n"
     ]
    },
    {
     "name": "stderr",
     "output_type": "stream",
     "text": [
      "[Parallel(n_jobs=2)]: Done   5 out of   5 | elapsed:  4.7min finished\n"
     ]
    },
    {
     "name": "stdout",
     "output_type": "stream",
     "text": [
      "Decision Tree [0.71218301 0.75846781 0.73027132 0.69244413 0.65034593]\n"
     ]
    },
    {
     "name": "stderr",
     "output_type": "stream",
     "text": [
      "[Parallel(n_jobs=2)]: Done   5 out of   5 | elapsed:  8.8min finished\n"
     ]
    },
    {
     "name": "stdout",
     "output_type": "stream",
     "text": [
      "QDA [0.65082461 0.63344565 0.62316013 0.62965591 0.65034593]\n"
     ]
    },
    {
     "name": "stderr",
     "output_type": "stream",
     "text": [
      "[Parallel(n_jobs=2)]: Done   5 out of   5 | elapsed: 13.1min finished\n"
     ]
    },
    {
     "name": "stdout",
     "output_type": "stream",
     "text": [
      "Neural Net [0.72920731 0.75101968 0.71768044 0.68304363 0.66436048]\n"
     ]
    },
    {
     "name": "stderr",
     "output_type": "stream",
     "text": [
      "[Parallel(n_jobs=2)]: Done   5 out of   5 | elapsed: 37.6min finished\n"
     ]
    },
    {
     "name": "stdout",
     "output_type": "stream",
     "text": [
      "AdaBoost [0.72175918 0.75084235 0.72778862 0.6837531  0.66187688]\n"
     ]
    },
    {
     "name": "stderr",
     "output_type": "stream",
     "text": [
      "[Parallel(n_jobs=2)]: Done   5 out of   5 | elapsed: 204.2min finished\n"
     ]
    },
    {
     "name": "stdout",
     "output_type": "stream",
     "text": [
      "Linear SVM [0.73310871 0.76556127 0.74215286 0.6936857  0.66400568]\n"
     ]
    },
    {
     "name": "stderr",
     "output_type": "stream",
     "text": [
      "\n",
      " 11%|█         | 1/9 [3:24:13<27:13:44, 12253.09s/it]\u001b[A"
     ]
    }
   ],
   "source": [
    "def process_job(x):\n",
    "    name, clf = x\n",
    "    score = cross_val_score(clf, X, y, cv = 5, n_jobs = 2, verbose = 1)\n",
    "    print(name, score)\n",
    "    return score\n",
    "with multiprocessing.Pool(multiprocessing.cpu_count()) as p:\n",
    "    results = list(tqdm.tqdm(p.imap(process_job, zip(names, classifiers)), total=len(classifiers)))"
   ]
  },
  {
   "cell_type": "code",
   "execution_count": null,
   "metadata": {},
   "outputs": [],
   "source": [
    "[Parallel(n_jobs=2)]: Done   5 out of   5 | elapsed:   18.4s finished\n",
    "Random Forest [0.65064728 0.65029261 0.65064728 0.65058531 0.65034593]\n",
    "\n",
    "[Parallel(n_jobs=2)]: Done   5 out of   5 | elapsed:   29.6s finished\n",
    "Naive Bayes [0.69107998 0.74144352 0.69498138 0.59968074 0.62320383]\n",
    "\n",
    "[Parallel(n_jobs=2)]: Done   5 out of   5 | elapsed:  4.7min finished\n",
    "Decision Tree [0.71218301 0.75846781 0.73027132 0.69244413 0.65034593]\n",
    "\n",
    "[Parallel(n_jobs=2)]: Done   5 out of   5 | elapsed:   5.0min finished\n",
    "Logistic Regression [0.7120056 0.7281432 0.6788437 0.6468605 0.6471527]\n",
    "\n",
    "[Parallel(n_jobs=2)]: Done   5 out of   5 | elapsed:  8.8min finished\n",
    "QDA [0.65082461 0.63344565 0.62316013 0.62965591 0.65034593]\n",
    "\n",
    "[Parallel(n_jobs=2)]: Done   5 out of   5 | elapsed: 13.1min finished\n",
    "Neural Net [0.72920731 0.75101968 0.71768044 0.68304363 0.66436048]\n",
    "\n",
    "[Parallel(n_jobs=2)]: Done   5 out of   5 | elapsed: 37.6min finished\n",
    "AdaBoost [0.72175918 0.75084235 0.72778862 0.6837531  0.66187688]\n",
    "\n",
    "[Parallel(n_jobs=2)]: Done   5 out of   5 | elapsed: 204.2min finished\n",
    "Linear SVM [0.73310871 0.76556127 0.74215286 0.6936857  0.66400568]"
   ]
  },
  {
   "cell_type": "code",
   "execution_count": 257,
   "metadata": {},
   "outputs": [],
   "source": [
    "# 1 if egocentric speaker is talking, 0 otherwise.\n",
    "binary_labels = [[int(int(v[30]) == l) for l in labels[i]] for i, v in enumerate(vid2name)]"
   ]
  },
  {
   "cell_type": "code",
   "execution_count": 258,
   "metadata": {},
   "outputs": [],
   "source": [
    "# Combine all data back together\n",
    "X = np.stack(pd.concat(visual_features).feature)\n",
    "y = np.array([l for lst in binary_labels for l in lst])\n",
    "# Check that labels and data match\n",
    "assert(len(y) == len(df.feature))"
   ]
  },
  {
   "cell_type": "code",
   "execution_count": 298,
   "metadata": {},
   "outputs": [
    {
     "name": "stdout",
     "output_type": "stream",
     "text": [
      "Accuracy: 0.6954311454311455\n",
      "Accuracy if you just predict 0: 0.6579150579150579\n"
     ]
    }
   ],
   "source": [
    "pred = clf.predict(X_test)\n",
    "acc = sum(pred == y_test) / len(y_test)\n",
    "print('Accuracy:', acc)\n",
    "print('Accuracy if you just predict 0:', sum(y_test == 0) / len(y_test))"
   ]
  },
  {
   "cell_type": "code",
   "execution_count": 295,
   "metadata": {},
   "outputs": [
    {
     "name": "stdout",
     "output_type": "stream",
     "text": [
      "Accuracy: 0.6991956241956242\n",
      "Accuracy if you just predict 0: 0.6579150579150579\n"
     ]
    }
   ],
   "source": [
    "pred = clf.predict(X_test)\n",
    "acc = sum(pred == y_test) / len(y_test)\n",
    "print('Accuracy:', acc)\n",
    "print('Accuracy if you just predict 0:', sum(y_test == 0) / len(y_test))"
   ]
  },
  {
   "cell_type": "code",
   "execution_count": 1,
   "metadata": {},
   "outputs": [
    {
     "data": {
      "text/plain": [
       "{(4, 'all'): [('Logistic Regression', 0.26434046058509464),\n",
       "  ('Logistic Regression CV', 0.4769291670538231),\n",
       "  ('Decision Tree', 0.41085783854743674),\n",
       "  ('Random Forest', 0.5121637290429255),\n",
       "  ('Neural Net', 0.31241768220772076),\n",
       "  ('Naive Bayes', 0.4008506279081402),\n",
       "  ('One layer SGD Classifier', 0.3036989304952981)],\n",
       " (4, 'text_audio'): [('Logistic Regression', 0.4642568062097506),\n",
       "  ('Logistic Regression CV', 0.5463106757487605),\n",
       "  ('Decision Tree', 0.47226895577363387),\n",
       "  ('Random Forest', 0.5652082365442299),\n",
       "  ('Neural Net', 0.49677034477172066),\n",
       "  ('Naive Bayes', 0.49076276722726925),\n",
       "  ('One layer SGD Classifier', 0.46858591656004983)],\n",
       " (4, 'text_video'): [('Logistic Regression', 0.1960630076216207),\n",
       "  ('Logistic Regression CV', 0.38461651144672604),\n",
       "  ('Decision Tree', 0.3765606977868948),\n",
       "  ('Random Forest', 0.4418958406297427),\n",
       "  ('Neural Net', 0.2568454423946994),\n",
       "  ('Naive Bayes', 0.3428881451514914),\n",
       "  ('One layer SGD Classifier', 0.22125580436807732)],\n",
       " (4, 'video_audio'): [('Logistic Regression', 0.26433059345717574),\n",
       "  ('Logistic Regression CV', 0.47674899398895),\n",
       "  ('Decision Tree', 0.38454849819049053),\n",
       "  ('Random Forest', 0.4791050563818863),\n",
       "  ('Neural Net', 0.29919396655445085),\n",
       "  ('Naive Bayes', 0.38177814627126677),\n",
       "  ('One layer SGD Classifier', 0.2761431382779759)],\n",
       " (4, 'text'): [('Logistic Regression', 0.5390662251892302),\n",
       "  ('Logistic Regression CV', 0.5492500089343787),\n",
       "  ('Decision Tree', 0.4541088767222504),\n",
       "  ('Random Forest', 0.5216656231312258),\n",
       "  ('Neural Net', 0.5545076097082151),\n",
       "  ('Naive Bayes', 0.4330370145356387),\n",
       "  ('One layer SGD Classifier', 0.5256228751069147)],\n",
       " (4, 'audio'): [('Logistic Regression', 0.43376234671584146),\n",
       "  ('Logistic Regression CV', 0.5450520921932589),\n",
       "  ('Decision Tree', 0.4613621973330284),\n",
       "  ('Random Forest', 0.5457773743409408),\n",
       "  ('Neural Net', 0.4642657012772588),\n",
       "  ('Naive Bayes', 0.48260990238893375),\n",
       "  ('One layer SGD Classifier', 0.4290251925656438)],\n",
       " (4, 'video'): [('Logistic Regression', 0.19243026538678712),\n",
       "  ('Logistic Regression CV', 0.3822538614385064),\n",
       "  ('Decision Tree', 0.2870246398254103),\n",
       "  ('Random Forest', 0.3165307795305044),\n",
       "  ('Neural Net', 0.21460550310082507),\n",
       "  ('Naive Bayes', 0.3150745675165048),\n",
       "  ('One layer SGD Classifier', 0.19824877122510584)],\n",
       " (5, 'all'): [('Logistic Regression', 0.2552199414721667),\n",
       "  ('Logistic Regression CV', 0.48028749560346656),\n",
       "  ('Decision Tree', 0.40665104143582875),\n",
       "  ('Random Forest', 0.5025270775817123),\n",
       "  ('Neural Net', 0.2991503203808775),\n",
       "  ('Naive Bayes', 0.409040971635631),\n",
       "  ('One layer SGD Classifier', 0.27837256273927236)],\n",
       " (5, 'text_audio'): [('Logistic Regression', 0.44418324686206123),\n",
       "  ('Logistic Regression CV', 0.5460641160553049),\n",
       "  ('Decision Tree', 0.4518661030946823),\n",
       "  ('Random Forest', 0.5506188508580693),\n",
       "  ('Neural Net', 0.45111222304832754),\n",
       "  ('Naive Bayes', 0.5072262327603234),\n",
       "  ('One layer SGD Classifier', 0.4467501807656452)]}"
      ]
     },
     "execution_count": 1,
     "metadata": {},
     "output_type": "execute_result"
    }
   ],
   "source": [
    "{(4, 'all'): [('Logistic Regression', 0.26434046058509464),\n",
    "  ('Logistic Regression CV', 0.4769291670538231),\n",
    "  ('Decision Tree', 0.41085783854743674),\n",
    "  ('Random Forest', 0.5121637290429255),\n",
    "  ('Neural Net', 0.31241768220772076),\n",
    "  ('Naive Bayes', 0.4008506279081402),\n",
    "  ('One layer SGD Classifier', 0.3036989304952981)],\n",
    " (4, 'text_audio'): [('Logistic Regression', 0.4642568062097506),\n",
    "  ('Logistic Regression CV', 0.5463106757487605),\n",
    "  ('Decision Tree', 0.47226895577363387),\n",
    "  ('Random Forest', 0.5652082365442299),\n",
    "  ('Neural Net', 0.49677034477172066),\n",
    "  ('Naive Bayes', 0.49076276722726925),\n",
    "  ('One layer SGD Classifier', 0.46858591656004983)],\n",
    " (4, 'text_video'): [('Logistic Regression', 0.1960630076216207),\n",
    "  ('Logistic Regression CV', 0.38461651144672604),\n",
    "  ('Decision Tree', 0.3765606977868948),\n",
    "  ('Random Forest', 0.4418958406297427),\n",
    "  ('Neural Net', 0.2568454423946994),\n",
    "  ('Naive Bayes', 0.3428881451514914),\n",
    "  ('One layer SGD Classifier', 0.22125580436807732)],\n",
    " (4, 'video_audio'): [('Logistic Regression', 0.26433059345717574),\n",
    "  ('Logistic Regression CV', 0.47674899398895),\n",
    "  ('Decision Tree', 0.38454849819049053),\n",
    "  ('Random Forest', 0.4791050563818863),\n",
    "  ('Neural Net', 0.29919396655445085),\n",
    "  ('Naive Bayes', 0.38177814627126677),\n",
    "  ('One layer SGD Classifier', 0.2761431382779759)],\n",
    " (4, 'text'): [('Logistic Regression', 0.5390662251892302),\n",
    "  ('Logistic Regression CV', 0.5492500089343787),\n",
    "  ('Decision Tree', 0.4541088767222504),\n",
    "  ('Random Forest', 0.5216656231312258),\n",
    "  ('Neural Net', 0.5545076097082151),\n",
    "  ('Naive Bayes', 0.4330370145356387),\n",
    "  ('One layer SGD Classifier', 0.5256228751069147)],\n",
    " (4, 'audio'): [('Logistic Regression', 0.43376234671584146),\n",
    "  ('Logistic Regression CV', 0.5450520921932589),\n",
    "  ('Decision Tree', 0.4613621973330284),\n",
    "  ('Random Forest', 0.5457773743409408),\n",
    "  ('Neural Net', 0.4642657012772588),\n",
    "  ('Naive Bayes', 0.48260990238893375),\n",
    "  ('One layer SGD Classifier', 0.4290251925656438)],\n",
    " (4, 'video'): [('Logistic Regression', 0.19243026538678712),\n",
    "  ('Logistic Regression CV', 0.3822538614385064),\n",
    "  ('Decision Tree', 0.2870246398254103),\n",
    "  ('Random Forest', 0.3165307795305044),\n",
    "  ('Neural Net', 0.21460550310082507),\n",
    "  ('Naive Bayes', 0.3150745675165048),\n",
    "  ('One layer SGD Classifier', 0.19824877122510584)],\n",
    " (5, 'all'): [('Logistic Regression', 0.2552199414721667),\n",
    "  ('Logistic Regression CV', 0.48028749560346656),\n",
    "  ('Decision Tree', 0.40665104143582875),\n",
    "  ('Random Forest', 0.5025270775817123),\n",
    "  ('Neural Net', 0.2991503203808775),\n",
    "  ('Naive Bayes', 0.409040971635631),\n",
    "  ('One layer SGD Classifier', 0.27837256273927236)],\n",
    " (5, 'text_audio'): [('Logistic Regression', 0.44418324686206123),\n",
    "  ('Logistic Regression CV', 0.5460641160553049),\n",
    "  ('Decision Tree', 0.4518661030946823),\n",
    "  ('Random Forest', 0.5506188508580693),\n",
    "  ('Neural Net', 0.45111222304832754),\n",
    "  ('Naive Bayes', 0.5072262327603234),\n",
    "  ('One layer SGD Classifier', 0.4467501807656452)]}\n"
   ]
  }
 ],
 "metadata": {
  "kernelspec": {
   "display_name": "Python 3",
   "language": "python",
   "name": "python3"
  },
  "language_info": {
   "codemirror_mode": {
    "name": "ipython",
    "version": 3
   },
   "file_extension": ".py",
   "mimetype": "text/x-python",
   "name": "python",
   "nbconvert_exporter": "python",
   "pygments_lexer": "ipython3",
   "version": "3.6.7"
  }
 },
 "nbformat": 4,
 "nbformat_minor": 4
}
