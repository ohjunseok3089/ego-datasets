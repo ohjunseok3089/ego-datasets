{
 "cells": [
  {
   "cell_type": "code",
   "execution_count": 1,
   "metadata": {},
   "outputs": [],
   "source": [
    "# Data processing\n",
    "import os\n",
    "import pickle\n",
    "import json\n",
    "import pandas as pd\n",
    "import numpy as np\n",
    "\n",
    "# Multiprocessing\n",
    "import multiprocessing\n",
    "import tqdm\n",
    "import itertools\n",
    "\n",
    "# Viewing\n",
    "from IPython.display import display\n",
    "\n",
    "egocom_loc = \"/datasets/cgn/EGOCOM/egocom_features/no_audio/\"\n",
    "seed = 0"
   ]
  },
  {
   "cell_type": "code",
   "execution_count": 2,
   "metadata": {},
   "outputs": [],
   "source": [
    "from sklearn.neural_network import MLPClassifier\n",
    "from sklearn.neighbors import KNeighborsClassifier\n",
    "from sklearn.svm import SVC\n",
    "from sklearn.gaussian_process import GaussianProcessClassifier\n",
    "from sklearn.gaussian_process.kernels import RBF\n",
    "from sklearn.tree import DecisionTreeClassifier\n",
    "from sklearn.ensemble import RandomForestClassifier, AdaBoostClassifier\n",
    "from sklearn.naive_bayes import GaussianNB\n",
    "from sklearn.discriminant_analysis import QuadraticDiscriminantAnalysis\n",
    "from sklearn.linear_model import LogisticRegression\n",
    "from sklearn.linear_model import LogisticRegressionCV\n",
    "from sklearn.linear_model import SGDClassifier\n",
    "\n",
    "from sklearn.model_selection import cross_val_score"
   ]
  },
  {
   "cell_type": "code",
   "execution_count": 13,
   "metadata": {},
   "outputs": [],
   "source": [
    "video_info = pd.read_csv(\"/datasets/cgn/EGOCOM/video_info.csv\")"
   ]
  },
  {
   "cell_type": "code",
   "execution_count": 4,
   "metadata": {},
   "outputs": [],
   "source": [
    "kinds = ['text', 'video', 'voxaudio'] # ['text', 'video', 'voxaudio']\n",
    "cols = pd.read_csv(egocom_loc + \"egocom_features_history_4sec.csv.gz\").columns\n",
    "experiments = list(itertools.chain.from_iterable(itertools.combinations(kinds, r) for r in range(len(kinds)+1)))[1:]\n",
    "experiments = {\"_\".join(e): [c for c in cols if c.split(\"_\")[0] in [z+\"feat\" for z in e]] for e in experiments}\n",
    "label_shifts = [0, 2, 4, 9] # translates to [1,3,5,10] seconds respectively"
   ]
  },
  {
   "cell_type": "code",
   "execution_count": 5,
   "metadata": {},
   "outputs": [],
   "source": [
    "def shift_labels(x, shift = 0):\n",
    "    '''Move labels forward by advance_labels and removes the extra data.\n",
    "    \n",
    "    Parameters\n",
    "    ----------\n",
    "    x : pandas DataFrame\n",
    "      contains features and labels for a ['video_id', 'video_speaker_id'] group\n",
    "    shift : int\n",
    "      how far to advance the labels in time (seconds).'''\n",
    "    if x.name == 'multiclass_speaker_label' or x.name == 'is_speaking':\n",
    "        return x[shift:].values\n",
    "    else:\n",
    "        return x[:-shift].values if shift > 0 else x.values\n",
    "    \n",
    "# # Test code to check that shift_labels does nothing for a shift of 0\n",
    "# new_data = pd.concat([sdf.apply(shift_data, shift = label_shift) for i, sdf in data.groupby(['video_id', 'video_speaker_id'])], ignore_index=True)\n",
    "# assert(all(new_data.sort_values(by=['video_id', 'clip_id']).reset_index(drop=True) == data.sort_values(by=['video_id', 'clip_id']).reset_index(drop=True)))"
   ]
  },
  {
   "cell_type": "code",
   "execution_count": 6,
   "metadata": {},
   "outputs": [],
   "source": [
    "def process_binary_job(job):\n",
    "    '''Multiprocessing multiple experiments at the same time.\n",
    "    Each jobs = (experiment_key, label_shift).\n",
    "    where:\n",
    "      experiment_key : indexes the experiments dictionary\n",
    "      label_shift : how many seconds in future to shift labels'''\n",
    "    np.random.seed(seed=seed)\n",
    "    experiment_key, label_shift = job\n",
    "    experiment = experiments[experiment_key]\n",
    "    # Shift the labels as far in the future as defined by label_shift (~60 seconds)\n",
    "    new_data = pd.concat([sdf.apply(shift_labels, shift = label_shift) for i, sdf in data.groupby(['video_id', 'video_speaker_id'])], ignore_index=True)\n",
    "    if use_all_perspectives:\n",
    "        # Combine all three speakers to single input for each conversation\n",
    "        X = new_data.groupby([\"conversation_id\", \"clip_id\", \"multiclass_speaker_label\", \"test\", \"train\"]).apply(lambda x: x[experiment].values.flatten()).reset_index()\n",
    "        if predict_only_host:\n",
    "            # Only use hosts labels.\n",
    "            y = new_data.groupby([\"conversation_id\", \"clip_id\", \"test\", \"train\"])['multiclass_speaker_label'].apply(lambda x: x.iloc[0] == 1)\n",
    "        else:\n",
    "            print(\"ERROR!\")\n",
    "            print(\"ERROR: use_all_perspectives = True, predict_only_host = False is impossible.\")\n",
    "            print(\"ERROR!\")\n",
    "        # Only include examples with all three speakers (same dimension)\n",
    "        # this occurs at the end of a video (if one speaker's video is ~1s longer than the others)\n",
    "        # then there will be features for that speaker but not the other speakers.\n",
    "        input_length = max([len(z) for z in X[0]])\n",
    "        mask = [len(z) == input_length for z in X[0]]\n",
    "        X = X[mask]        \n",
    "        y = y[mask]\n",
    "        if use_crossval:\n",
    "            X = np.stack(X[0])\n",
    "            y = y.values\n",
    "        else:\n",
    "            X_train = np.stack(X[X['train']][0])\n",
    "            X_test = np.stack(X[X['test']][0])\n",
    "            y_train = y[y.reset_index()['train'].values].values\n",
    "            y_test = y[y.reset_index()['test'].values].values\n",
    "    else:    \n",
    "        if use_crossval:\n",
    "            X = new_data[experiment].values\n",
    "            # Get labels\n",
    "            y = new_data['is_speaking'].values\n",
    "        else:\n",
    "            X_train = new_data[new_data['train']][experiment].values\n",
    "            X_test = new_data[new_data['test']][experiment].values\n",
    "            y_train = new_data[new_data['train']]['is_speaking'].values\n",
    "            y_test = new_data[new_data['test']]['is_speaking'].values        \n",
    "    if use_crossval:\n",
    "        score = np.mean(cross_val_score(classifier, X, y, cv = 5, n_jobs = 1, verbose = 1))\n",
    "        print(experiment_key, \"label_shift:\", label_shift, X.shape, y.shape, \"num features:\", len(experiment), score)\n",
    "    else:\n",
    "        classifier.fit(X_train, y_train)\n",
    "        score = classifier.score(X_test, y_test)\n",
    "        print(experiment_key, \"label_shift:\", label_shift, X_train.shape, y_train.shape, \"num feats\", len(experiment), score)\n",
    "    return score"
   ]
  },
  {
   "cell_type": "code",
   "execution_count": 18,
   "metadata": {},
   "outputs": [
    {
     "data": {
      "text/plain": [
       "{\"use_crossval: False | use_all_perspectives: True | predict_only_host: True | clf: <class 'sklearn.naive_bayes.GaussianNB'>\": {4: [(('text',\n",
       "     0),\n",
       "    0.6234794361845917),\n",
       "   (('text', 2), 0.5829943831105946),\n",
       "   (('text', 4), 0.5665436176413444),\n",
       "   (('text', 9), 0.539455649109066),\n",
       "   (('video', 0), 0.5514578103881058),\n",
       "   (('video', 2), 0.536897152818129),\n",
       "   (('video', 4), 0.534874684282106),\n",
       "   (('video', 9), 0.5337771685921284),\n",
       "   (('voxaudio', 0), 0.6481946321683723),\n",
       "   (('voxaudio', 2), 0.5953902769707534),\n",
       "   (('voxaudio', 4), 0.5686807849232562),\n",
       "   (('voxaudio', 9), 0.5402388878010573),\n",
       "   (('text_video', 0), 0.5945163158910987),\n",
       "   (('text_video', 2), 0.5614952546968817),\n",
       "   (('text_video', 4), 0.555469205362347),\n",
       "   (('text_video', 9), 0.5435676522420207),\n",
       "   (('text_voxaudio', 0), 0.6570766557250435),\n",
       "   (('text_voxaudio', 2), 0.5990703079604881),\n",
       "   (('text_voxaudio', 4), 0.5811152127452885),\n",
       "   (('text_voxaudio', 9), 0.5461131779909928),\n",
       "   (('video_voxaudio', 0), 0.6346785093647422),\n",
       "   (('video_voxaudio', 2), 0.5814448963780747),\n",
       "   (('video_voxaudio', 4), 0.5686807849232562),\n",
       "   (('video_voxaudio', 9), 0.5615821421578227),\n",
       "   (('text_video_voxaudio', 0), 0.6420158331724272),\n",
       "   (('text_video_voxaudio', 2), 0.590548130931629),\n",
       "   (('text_video_voxaudio', 4), 0.5772294540509034),\n",
       "   (('text_video_voxaudio', 9), 0.5611905228118269)],\n",
       "  5: [(('text', 0), 0.6183473389355743),\n",
       "   (('text', 2), 0.5660112359550562),\n",
       "   (('text', 4), 0.5521126760563381),\n",
       "   (('text', 9), 0.5132978723404256),\n",
       "   (('video', 0), 0.5689775910364145),\n",
       "   (('video', 2), 0.5626755617977528),\n",
       "   (('video', 4), 0.5619718309859155),\n",
       "   (('video', 9), 0.5606382978723404),\n",
       "   (('voxaudio', 0), 0.6411064425770309),\n",
       "   (('voxaudio', 2), 0.5935744382022472),\n",
       "   (('voxaudio', 4), 0.5732394366197183),\n",
       "   (('voxaudio', 9), 0.5452127659574468),\n",
       "   (('text_video', 0), 0.601890756302521),\n",
       "   (('text_video', 2), 0.5784761235955056),\n",
       "   (('text_video', 4), 0.5767605633802817),\n",
       "   (('text_video', 9), 0.5695035460992908),\n",
       "   (('text_voxaudio', 0), 0.6502100840336135),\n",
       "   (('text_voxaudio', 2), 0.598314606741573),\n",
       "   (('text_voxaudio', 4), 0.5765845070422535),\n",
       "   (('text_voxaudio', 9), 0.5427304964539007),\n",
       "   (('video_voxaudio', 0), 0.6260504201680672),\n",
       "   (('video_voxaudio', 2), 0.5953300561797753),\n",
       "   (('video_voxaudio', 4), 0.5802816901408451),\n",
       "   (('video_voxaudio', 9), 0.573936170212766),\n",
       "   (('text_video_voxaudio', 0), 0.6391806722689075),\n",
       "   (('text_video_voxaudio', 2), 0.6014747191011236),\n",
       "   (('text_video_voxaudio', 4), 0.5894366197183099),\n",
       "   (('text_video_voxaudio', 9), 0.573758865248227)],\n",
       "  10: [(('text', 0), 0.578984485190409),\n",
       "   (('text', 2), 0.5477369165487977),\n",
       "   (('text', 4), 0.5342198581560283),\n",
       "   (('text', 9), 0.5141071428571429),\n",
       "   (('video', 0), 0.5756346967559943),\n",
       "   (('video', 2), 0.570898161244696),\n",
       "   (('video', 4), 0.5656028368794326),\n",
       "   (('video', 9), 0.54625),\n",
       "   (('voxaudio', 0), 0.6126586741889986),\n",
       "   (('voxaudio', 2), 0.579031117397454),\n",
       "   (('voxaudio', 4), 0.5668439716312057),\n",
       "   (('voxaudio', 9), 0.55375),\n",
       "   (('text_video', 0), 0.6004936530324401),\n",
       "   (('text_video', 2), 0.5774398868458275),\n",
       "   (('text_video', 4), 0.574645390070922),\n",
       "   (('text_video', 9), 0.5510714285714285),\n",
       "   (('text_voxaudio', 0), 0.6140691114245416),\n",
       "   (('text_voxaudio', 2), 0.5756718528995757),\n",
       "   (('text_voxaudio', 4), 0.5641843971631205),\n",
       "   (('text_voxaudio', 9), 0.54625),\n",
       "   (('video_voxaudio', 0), 0.610543018335684),\n",
       "   (('video_voxaudio', 2), 0.5868104667609618),\n",
       "   (('video_voxaudio', 4), 0.5822695035460993),\n",
       "   (('video_voxaudio', 9), 0.5682142857142857),\n",
       "   (('text_video_voxaudio', 0), 0.6160084626234132),\n",
       "   (('text_video_voxaudio', 2), 0.5885785007072136),\n",
       "   (('text_video_voxaudio', 4), 0.5856382978723405),\n",
       "   (('text_video_voxaudio', 9), 0.5716071428571429)],\n",
       "  30: [(('text', 0), 0.5665820029027576),\n",
       "   (('text', 2), 0.5598617176128093),\n",
       "   (('text', 4), 0.5505474452554745),\n",
       "   (('text', 9), 0.5303308823529411),\n",
       "   (('video', 0), 0.5609579100145138),\n",
       "   (('video', 2), 0.5576783114992722),\n",
       "   (('video', 4), 0.5525547445255474),\n",
       "   (('video', 9), 0.546875),\n",
       "   (('voxaudio', 0), 0.5809143686502177),\n",
       "   (('voxaudio', 2), 0.5589519650655022),\n",
       "   (('voxaudio', 4), 0.5572992700729927),\n",
       "   (('voxaudio', 9), 0.5466911764705882),\n",
       "   (('text_video', 0), 0.5732946298984035),\n",
       "   (('text_video', 2), 0.5633187772925764),\n",
       "   (('text_video', 4), 0.5565693430656934),\n",
       "   (('text_video', 9), 0.5479779411764706),\n",
       "   (('text_voxaudio', 0), 0.5725689404934688),\n",
       "   (('text_voxaudio', 2), 0.5540393013100436),\n",
       "   (('text_voxaudio', 4), 0.5516423357664234),\n",
       "   (('text_voxaudio', 9), 0.5347426470588236),\n",
       "   (('video_voxaudio', 0), 0.5792815674891146),\n",
       "   (('video_voxaudio', 2), 0.5680494905385735),\n",
       "   (('video_voxaudio', 4), 0.5602189781021898),\n",
       "   (('video_voxaudio', 9), 0.5582720588235294),\n",
       "   (('text_video_voxaudio', 0), 0.5820029027576198),\n",
       "   (('text_video_voxaudio', 2), 0.5722343522561864),\n",
       "   (('text_video_voxaudio', 4), 0.5638686131386861),\n",
       "   (('text_video_voxaudio', 9), 0.5512867647058823)]},\n",
       " \"use_crossval: False | use_all_perspectives: False | predict_only_host: False | clf: <class 'sklearn.naive_bayes.GaussianNB'>\": {4: [(('text',\n",
       "     0),\n",
       "    0.6452951346011361),\n",
       "   (('text', 2), 0.5723270440251572),\n",
       "   (('text', 4), 0.5716697284146766),\n",
       "   (('text', 9), 0.551296786767278),\n",
       "   (('video', 0), 0.5657199308471228),\n",
       "   (('video', 2), 0.5463279354231665),\n",
       "   (('video', 4), 0.5419790477136189),\n",
       "   (('video', 9), 0.5399030533206737),\n",
       "   (('voxaudio', 0), 0.6749320819955544),\n",
       "   (('voxaudio', 2), 0.6355172584559006),\n",
       "   (('voxaudio', 4), 0.6221637455935654),\n",
       "   (('voxaudio', 9), 0.6089650692119334),\n",
       "   (('text_video', 0), 0.62904420844653),\n",
       "   (('text_video', 2), 0.5894616946466598),\n",
       "   (('text_video', 4), 0.5778759743806167),\n",
       "   (('text_video', 9), 0.5564939283394134),\n",
       "   (('text_voxaudio', 0), 0.6722647567300568),\n",
       "   (('text_voxaudio', 2), 0.6107066805328579),\n",
       "   (('text_voxaudio', 4), 0.6065240057593962),\n",
       "   (('text_voxaudio', 9), 0.5909749637699265),\n",
       "   (('video_voxaudio', 0), 0.6466287972338849),\n",
       "   (('video_voxaudio', 2), 0.6116476006536918),\n",
       "   (('video_voxaudio', 4), 0.5970408619234397),\n",
       "   (('video_voxaudio', 9), 0.576582879416321),\n",
       "   (('text_video_voxaudio', 0), 0.6637194368979995),\n",
       "   (('text_video_voxaudio', 2), 0.6155103253602734),\n",
       "   (('text_video_voxaudio', 4), 0.604885556824388),\n",
       "   (('text_video_voxaudio', 9), 0.5822797461396232)],\n",
       "  5: [(('text', 0), 0.6498554913294797),\n",
       "   (('text', 2), 0.6086536604210933),\n",
       "   (('text', 4), 0.5914988381099923),\n",
       "   (('text', 9), 0.5682061775309364),\n",
       "   (('video', 0), 0.5648843930635838),\n",
       "   (('video', 2), 0.5517191423604404),\n",
       "   (('video', 4), 0.5476374903175832),\n",
       "   (('video', 9), 0.5464289194192731),\n",
       "   (('voxaudio', 0), 0.6700385356454721),\n",
       "   (('voxaudio', 2), 0.6368553216148348),\n",
       "   (('voxaudio', 4), 0.6249515879163439),\n",
       "   (('voxaudio', 9), 0.6140017538731365),\n",
       "   (('text_video', 0), 0.6205202312138728),\n",
       "   (('text_video', 2), 0.5928626617732278),\n",
       "   (('text_video', 4), 0.5784759876065065),\n",
       "   (('text_video', 9), 0.5630907142161161),\n",
       "   (('text_voxaudio', 0), 0.6660404624277456),\n",
       "   (('text_voxaudio', 2), 0.6283079003283755),\n",
       "   (('text_voxaudio', 4), 0.6132358636715725),\n",
       "   (('text_voxaudio', 9), 0.591688590080873),\n",
       "   (('video_voxaudio', 0), 0.6435452793834296),\n",
       "   (('video_voxaudio', 2), 0.6117442534286266),\n",
       "   (('video_voxaudio', 4), 0.5979376452362509),\n",
       "   (('video_voxaudio', 9), 0.5822858813212511),\n",
       "   (('text_video_voxaudio', 0), 0.6624277456647398),\n",
       "   (('text_video_voxaudio', 2), 0.6268591848560943),\n",
       "   (('text_video_voxaudio', 4), 0.6103795507358637),\n",
       "   (('text_video_voxaudio', 9), 0.5895449673584722)],\n",
       "  10: [(('text', 0), 0.5935046049442559),\n",
       "   (('text', 2), 0.5626397123141219),\n",
       "   (('text', 4), 0.5499853843905291),\n",
       "   (('text', 9), 0.4525887428907629),\n",
       "   (('video', 0), 0.5523994183228308),\n",
       "   (('video', 2), 0.5373214112158616),\n",
       "   (('video', 4), 0.5342005261619409),\n",
       "   (('video', 9), 0.5295646205138262),\n",
       "   (('voxaudio', 0), 0.6484730974309258),\n",
       "   (('voxaudio', 2), 0.6339780347944407),\n",
       "   (('voxaudio', 4), 0.6300302055929066),\n",
       "   (('voxaudio', 9), 0.6314963718376152),\n",
       "   (('text_video', 0), 0.5888027144934561),\n",
       "   (('text_video', 2), 0.5645349402274273),\n",
       "   (('text_video', 4), 0.5576829387118776),\n",
       "   (('text_video', 9), 0.5395665816826829),\n",
       "   (('text_voxaudio', 0), 0.6113427047988367),\n",
       "   (('text_voxaudio', 2), 0.5836816017105647),\n",
       "   (('text_voxaudio', 4), 0.5723959855792653),\n",
       "   (('text_voxaudio', 9), 0.5500098058442832),\n",
       "   (('video_voxaudio', 0), 0.6206010664081435),\n",
       "   (('video_voxaudio', 2), 0.6008358441053553),\n",
       "   (('video_voxaudio', 4), 0.5911039657020365),\n",
       "   (('video_voxaudio', 9), 0.5808491861149245),\n",
       "   (('text_video_voxaudio', 0), 0.6283082888996607),\n",
       "   (('text_video_voxaudio', 2), 0.600155505880066),\n",
       "   (('text_video_voxaudio', 4), 0.5913475591932184),\n",
       "   (('text_video_voxaudio', 9), 0.5694744067464209)],\n",
       "  30: [(('text', 0), 0.4972650422675286),\n",
       "   (('text', 2), 0.4849935187954931),\n",
       "   (('text', 4), 0.4789063281015695),\n",
       "   (('text', 9), 0.4606560676192393),\n",
       "   (('video', 0), 0.5436101442068623),\n",
       "   (('video', 2), 0.5328547213082062),\n",
       "   (('video', 4), 0.5358392482255323),\n",
       "   (('video', 9), 0.5361742805393439),\n",
       "   (('voxaudio', 0), 0.6586772749875683),\n",
       "   (('voxaudio', 2), 0.6546016551999202),\n",
       "   (('voxaudio', 4), 0.6517544736579026),\n",
       "   (('voxaudio', 9), 0.6398671764942644),\n",
       "   (('text_video', 0), 0.5501740427647936),\n",
       "   (('text_video', 2), 0.5341509622095921),\n",
       "   (('text_video', 4), 0.5299410176946916),\n",
       "   (('text_video', 9), 0.5191185349164822),\n",
       "   (('text_voxaudio', 0), 0.5317752362008951),\n",
       "   (('text_voxaudio', 2), 0.5219862399042776),\n",
       "   (('text_voxaudio', 4), 0.5228431470558832),\n",
       "   (('text_voxaudio', 9), 0.5329040048299457),\n",
       "   (('video_voxaudio', 0), 0.6037792143212333),\n",
       "   (('video_voxaudio', 2), 0.5998105494067205),\n",
       "   (('video_voxaudio', 4), 0.5993202039388184),\n",
       "   (('video_voxaudio', 9), 0.5982592070839203),\n",
       "   (('text_video_voxaudio', 0), 0.5816011934361014),\n",
       "   (('text_video_voxaudio', 2), 0.5676039485492073),\n",
       "   (('text_video_voxaudio', 4), 0.5645306408077577),\n",
       "   (('text_video_voxaudio', 9), 0.5621352384785672)]},\n",
       " \"use_crossval: False | use_all_perspectives: False | predict_only_host: True | clf: <class 'sklearn.naive_bayes.GaussianNB'>\": {4: [(('text',\n",
       "     0),\n",
       "    0.6529232400901498),\n",
       "   (('text', 2), 0.6116943521594684),\n",
       "   (('text', 4), 0.5946449980018649),\n",
       "   (('text', 9), 0.5714285714285714),\n",
       "   (('video', 0), 0.5438154580405674),\n",
       "   (('video', 2), 0.5217275747508305),\n",
       "   (('video', 4), 0.5180498201678434),\n",
       "   (('video', 9), 0.5158134548378451),\n",
       "   (('voxaudio', 0), 0.6604799151531221),\n",
       "   (('voxaudio', 2), 0.6151495016611296),\n",
       "   (('voxaudio', 4), 0.5973091781004396),\n",
       "   (('voxaudio', 9), 0.5733047440364514),\n",
       "   (('text_video', 0), 0.5990985019223121),\n",
       "   (('text_video', 2), 0.5553488372093023),\n",
       "   (('text_video', 4), 0.5504196083655255),\n",
       "   (('text_video', 9), 0.5336370946127044),\n",
       "   (('text_voxaudio', 0), 0.6620707941137478),\n",
       "   (('text_voxaudio', 2), 0.6200664451827242),\n",
       "   (('text_voxaudio', 4), 0.605568136406021),\n",
       "   (('text_voxaudio', 9), 0.5755829536317342),\n",
       "   (('video_voxaudio', 0), 0.6476203102213973),\n",
       "   (('video_voxaudio', 2), 0.598671096345515),\n",
       "   (('video_voxaudio', 4), 0.5737311842280538),\n",
       "   (('video_voxaudio', 9), 0.5532028946663093),\n",
       "   (('text_video_voxaudio', 0), 0.6554421317778072),\n",
       "   (('text_video_voxaudio', 2), 0.6104983388704319),\n",
       "   (('text_video_voxaudio', 4), 0.596110297056081),\n",
       "   (('text_video_voxaudio', 9), 0.5682122755293487)],\n",
       "  5: [(('text', 0), 0.6466684364215556),\n",
       "   (('text', 2), 0.6101649813730707),\n",
       "   (('text', 4), 0.588957055214724),\n",
       "   (('text', 9), 0.5209982557359453),\n",
       "   (('video', 0), 0.5342447571011415),\n",
       "   (('video', 2), 0.518493879723257),\n",
       "   (('video', 4), 0.5194718591624433),\n",
       "   (('video', 9), 0.5196565141553737),\n",
       "   (('voxaudio', 0), 0.6506503849216884),\n",
       "   (('voxaudio', 2), 0.6113624268227781),\n",
       "   (('voxaudio', 4), 0.5921579087756735),\n",
       "   (('voxaudio', 9), 0.5701059975848651),\n",
       "   (('text_video', 0), 0.5914520838863817),\n",
       "   (('text_video', 2), 0.55401809473124),\n",
       "   (('text_video', 4), 0.5505468124833289),\n",
       "   (('text_video', 9), 0.5320005366966323),\n",
       "   (('text_voxaudio', 0), 0.6531722856384391),\n",
       "   (('text_voxaudio', 2), 0.6137573177221927),\n",
       "   (('text_voxaudio', 4), 0.5956255001333689),\n",
       "   (('text_voxaudio', 9), 0.5718502616396082),\n",
       "   (('video_voxaudio', 0), 0.6359171754711972),\n",
       "   (('video_voxaudio', 2), 0.5882118147951038),\n",
       "   (('video_voxaudio', 4), 0.5686849826620433),\n",
       "   (('video_voxaudio', 9), 0.5455521266604052),\n",
       "   (('text_video_voxaudio', 0), 0.6509158481550306),\n",
       "   (('text_video_voxaudio', 2), 0.6094997339010112),\n",
       "   (('text_video_voxaudio', 4), 0.5878901040277408),\n",
       "   (('text_video_voxaudio', 9), 0.5639339863142359)],\n",
       "  10: [(('text', 0), 0.6067565763119241),\n",
       "   (('text', 2), 0.5819836701914067),\n",
       "   (('text', 4), 0.5693009526365223),\n",
       "   (('text', 9), 0.5295626349892009),\n",
       "   (('video', 0), 0.5219655494725598),\n",
       "   (('video', 2), 0.5170659884888235),\n",
       "   (('video', 4), 0.511471890513887),\n",
       "   (('video', 9), 0.5024298056155507),\n",
       "   (('voxaudio', 0), 0.6263853652022967),\n",
       "   (('voxaudio', 2), 0.5971088207736581),\n",
       "   (('voxaudio', 4), 0.5840601100228096),\n",
       "   (('voxaudio', 9), 0.5599352051835853),\n",
       "   (('text_video', 0), 0.5589531312591801),\n",
       "   (('text_video', 2), 0.5347343059831348),\n",
       "   (('text_video', 4), 0.5211324298940024),\n",
       "   (('text_video', 9), 0.5067494600431965),\n",
       "   (('text_voxaudio', 0), 0.6305247696621712),\n",
       "   (('text_voxaudio', 2), 0.5993842859055013),\n",
       "   (('text_voxaudio', 4), 0.5847309808130954),\n",
       "   (('text_voxaudio', 9), 0.5592602591792657),\n",
       "   (('video_voxaudio', 0), 0.5807183869675524),\n",
       "   (('video_voxaudio', 2), 0.5486547985544104),\n",
       "   (('video_voxaudio', 4), 0.5338789749094325),\n",
       "   (('video_voxaudio', 9), 0.5133639308855291),\n",
       "   (('text_video_voxaudio', 0), 0.6189077313392977),\n",
       "   (('text_video_voxaudio', 2), 0.580779012180431),\n",
       "   (('text_video_voxaudio', 4), 0.5670199919495506),\n",
       "   (('text_video_voxaudio', 9), 0.5267278617710583)],\n",
       "  30: [(('text', 0), 0.566835408400602),\n",
       "   (('text', 2), 0.5506789192154711),\n",
       "   (('text', 4), 0.5495668912415784),\n",
       "   (('text', 9), 0.5355561704482568),\n",
       "   (('video', 0), 0.5097824599808455),\n",
       "   (('video', 2), 0.5052804827869977),\n",
       "   (('video', 4), 0.5024061597690087),\n",
       "   (('video', 9), 0.5051189817376868),\n",
       "   (('voxaudio', 0), 0.5792858120125872),\n",
       "   (('voxaudio', 2), 0.5560279797010013),\n",
       "   (('voxaudio', 4), 0.5484669324900316),\n",
       "   (('voxaudio', 9), 0.5444106253458771),\n",
       "   (('text_video', 0), 0.5363250786701327),\n",
       "   (('text_video', 2), 0.5155671375668632),\n",
       "   (('text_video', 4), 0.5083184380585728),\n",
       "   (('text_video', 9), 0.5019369120088545),\n",
       "   (('text_voxaudio', 0), 0.5846216992748666),\n",
       "   (('text_voxaudio', 2), 0.562885749554245),\n",
       "   (('text_voxaudio', 4), 0.5580915715660663),\n",
       "   (('text_voxaudio', 9), 0.5462091864969563),\n",
       "   (('video_voxaudio', 0), 0.5359146258038036),\n",
       "   (('video_voxaudio', 2), 0.5150185159786037),\n",
       "   (('video_voxaudio', 4), 0.5099683761858931),\n",
       "   (('video_voxaudio', 9), 0.5023519645821805),\n",
       "   (('text_video_voxaudio', 0), 0.5709399370638938),\n",
       "   (('text_video_voxaudio', 2), 0.5372376903031134),\n",
       "   (('text_video_voxaudio', 4), 0.5195930152619277),\n",
       "   (('text_video_voxaudio', 9), 0.5005534034311012)]},\n",
       " \"use_crossval: False | use_all_perspectives: True | predict_only_host: True | clf: <class 'sklearn.ensemble.forest.RandomForestClassifier'>\": {4: [(('text',\n",
       "     0),\n",
       "    0.6539872562270709),\n",
       "   (('text', 2), 0.5961650203370134),\n",
       "   (('text', 4), 0.5805323489411307),\n",
       "   (('text', 9), 0.5490503230859605),\n",
       "   (('video', 0), 0.5864066422089207),\n",
       "   (('video', 2), 0.5649815998450514),\n",
       "   (('video', 4), 0.5490577035166117),\n",
       "   (('video', 9), 0.5392598394360681),\n",
       "   (('voxaudio', 0), 0.6472291948252559),\n",
       "   (('voxaudio', 2), 0.5930660468719736),\n",
       "   (('voxaudio', 4), 0.5748979988342724),\n",
       "   (('voxaudio', 9), 0.558449187389857),\n",
       "   (('text_video', 0), 0.6460706700135161),\n",
       "   (('text_video', 2), 0.5963587061785783),\n",
       "   (('text_video', 4), 0.5745094229648339),\n",
       "   (('text_video', 9), 0.5421969845310358),\n",
       "   (('text_voxaudio', 0), 0.6566904807877969),\n",
       "   (('text_voxaudio', 2), 0.6029440247917878),\n",
       "   (('text_voxaudio', 4), 0.5758694385078686),\n",
       "   (('text_voxaudio', 9), 0.5533581358919131),\n",
       "   (('video_voxaudio', 0), 0.653407993821201),\n",
       "   (('video_voxaudio', 2), 0.5979081929110982),\n",
       "   (('video_voxaudio', 4), 0.5702350884010103),\n",
       "   (('video_voxaudio', 9), 0.5568827100058743),\n",
       "   (('text_video_voxaudio', 0), 0.6441397953272833),\n",
       "   (('text_video_voxaudio', 2), 0.6048808832074375),\n",
       "   (('text_video_voxaudio', 4), 0.5733436953565184),\n",
       "   (('text_video_voxaudio', 9), 0.5578617583708635)],\n",
       "  5: [(('text', 0), 0.6465336134453782),\n",
       "   (('text', 2), 0.5967345505617978),\n",
       "   (('text', 4), 0.5725352112676056),\n",
       "   (('text', 9), 0.5574468085106383),\n",
       "   (('video', 0), 0.5835084033613446),\n",
       "   (('video', 2), 0.570751404494382),\n",
       "   (('video', 4), 0.5670774647887324),\n",
       "   (('video', 9), 0.5585106382978723),\n",
       "   (('voxaudio', 0), 0.6414565826330533),\n",
       "   (('voxaudio', 2), 0.6004213483146067),\n",
       "   (('voxaudio', 4), 0.5746478873239437),\n",
       "   (('voxaudio', 9), 0.5570921985815603),\n",
       "   (('text_video', 0), 0.6376050420168067),\n",
       "   (('text_video', 2), 0.5969101123595506),\n",
       "   (('text_video', 4), 0.5806338028169014),\n",
       "   (('text_video', 9), 0.5585106382978723),\n",
       "   (('text_voxaudio', 0), 0.6475840336134454),\n",
       "   (('text_voxaudio', 2), 0.6053370786516854),\n",
       "   (('text_voxaudio', 4), 0.585387323943662),\n",
       "   (('text_voxaudio', 9), 0.5593971631205674),\n",
       "   (('video_voxaudio', 0), 0.6432072829131653),\n",
       "   (('video_voxaudio', 2), 0.5956811797752809),\n",
       "   (('video_voxaudio', 4), 0.5748239436619719),\n",
       "   (('video_voxaudio', 9), 0.5539007092198581),\n",
       "   (('text_video_voxaudio', 0), 0.6465336134453782),\n",
       "   (('text_video_voxaudio', 2), 0.601123595505618),\n",
       "   (('text_video_voxaudio', 4), 0.5737676056338028),\n",
       "   (('text_video_voxaudio', 9), 0.5585106382978723)],\n",
       "  10: [(('text', 0), 0.6216502115655853),\n",
       "   (('text', 2), 0.5795615275813296),\n",
       "   (('text', 4), 0.5627659574468085),\n",
       "   (('text', 9), 0.5480357142857143),\n",
       "   (('video', 0), 0.590620592383639),\n",
       "   (('video', 2), 0.5694837340876945),\n",
       "   (('video', 4), 0.5666666666666667),\n",
       "   (('video', 9), 0.5523214285714285),\n",
       "   (('voxaudio', 0), 0.6167136812411848),\n",
       "   (('voxaudio', 2), 0.5815063649222065),\n",
       "   (('voxaudio', 4), 0.5732269503546099),\n",
       "   (('voxaudio', 9), 0.5582142857142857),\n",
       "   (('text_video', 0), 0.6100141043723555),\n",
       "   (('text_video', 2), 0.5781471004243282),\n",
       "   (('text_video', 4), 0.5673758865248227),\n",
       "   (('text_video', 9), 0.5521428571428572),\n",
       "   (('text_voxaudio', 0), 0.6242947813822285),\n",
       "   (('text_voxaudio', 2), 0.5949434229137199),\n",
       "   (('text_voxaudio', 4), 0.5762411347517731),\n",
       "   (('text_voxaudio', 9), 0.5592857142857143),\n",
       "   (('video_voxaudio', 0), 0.6174188998589563),\n",
       "   (('video_voxaudio', 2), 0.5848656294200849),\n",
       "   (('video_voxaudio', 4), 0.5776595744680851),\n",
       "   (('video_voxaudio', 9), 0.5623214285714285),\n",
       "   (('text_video_voxaudio', 0), 0.6161847672778561),\n",
       "   (('text_video_voxaudio', 2), 0.5878712871287128),\n",
       "   (('text_video_voxaudio', 4), 0.5792553191489361),\n",
       "   (('text_video_voxaudio', 9), 0.5655357142857143)],\n",
       "  30: [(('text', 0), 0.5693033381712627),\n",
       "   (('text', 2), 0.5516739446870451),\n",
       "   (('text', 4), 0.5474452554744526),\n",
       "   (('text', 9), 0.5479779411764706),\n",
       "   (('video', 0), 0.5662191582002902),\n",
       "   (('video', 2), 0.5609534206695779),\n",
       "   (('video', 4), 0.5490875912408759),\n",
       "   (('video', 9), 0.5424632352941177),\n",
       "   (('voxaudio', 0), 0.5705732946298984),\n",
       "   (('voxaudio', 2), 0.5591339155749636),\n",
       "   (('voxaudio', 4), 0.5593065693430657),\n",
       "   (('voxaudio', 9), 0.5424632352941177),\n",
       "   (('text_video', 0), 0.5749274310595065),\n",
       "   (('text_video', 2), 0.5587700145560408),\n",
       "   (('text_video', 4), 0.5541970802919708),\n",
       "   (('text_video', 9), 0.5564338235294117),\n",
       "   (('text_voxaudio', 0), 0.5702104499274311),\n",
       "   (('text_voxaudio', 2), 0.5531295487627366),\n",
       "   (('text_voxaudio', 4), 0.5598540145985401),\n",
       "   (('text_voxaudio', 9), 0.5481617647058824),\n",
       "   (('video_voxaudio', 0), 0.579644412191582),\n",
       "   (('video_voxaudio', 2), 0.5684133915574964),\n",
       "   (('video_voxaudio', 4), 0.5534671532846716),\n",
       "   (('video_voxaudio', 9), 0.5367647058823529),\n",
       "   (('text_video_voxaudio', 0), 0.5747460087082729),\n",
       "   (('text_video_voxaudio', 2), 0.5704148471615721),\n",
       "   (('text_video_voxaudio', 4), 0.5574817518248175),\n",
       "   (('text_video_voxaudio', 9), 0.5516544117647059)]},\n",
       " \"use_crossval: False | use_all_perspectives: False | predict_only_host: False | clf: <class 'sklearn.ensemble.forest.RandomForestClassifier'>\": {4: [(('text',\n",
       "     0),\n",
       "    0.6985922449987652),\n",
       "   (('text', 2), 0.6741445055217155),\n",
       "   (('text', 4), 0.6656571173228737),\n",
       "   (('text', 9), 0.6512418170006496),\n",
       "   (('video', 0), 0.6558162509261546),\n",
       "   (('video', 2), 0.6499281929381469),\n",
       "   (('video', 4), 0.6475348791023285),\n",
       "   (('video', 9), 0.647044125730848),\n",
       "   (('voxaudio', 0), 0.7197826623857743),\n",
       "   (('voxaudio', 2), 0.6952409250730451),\n",
       "   (('voxaudio', 4), 0.6834814557370538),\n",
       "   (('voxaudio', 9), 0.6702313727449902),\n",
       "   (('text_video', 0), 0.7045690293899728),\n",
       "   (('text_video', 2), 0.6796414599118507),\n",
       "   (('text_video', 4), 0.6708703639342635),\n",
       "   (('text_video', 9), 0.6503423117285493),\n",
       "   (('text_voxaudio', 0), 0.7202272165966905),\n",
       "   (('text_voxaudio', 2), 0.6930619521616401),\n",
       "   (('text_voxaudio', 4), 0.6864604538007051),\n",
       "   (('text_voxaudio', 9), 0.6727799710159412),\n",
       "   (('video_voxaudio', 0), 0.7134107186959743),\n",
       "   (('video_voxaudio', 2), 0.689694448571287),\n",
       "   (('video_voxaudio', 4), 0.6839283054466014),\n",
       "   (('video_voxaudio', 9), 0.6708810154415071),\n",
       "   (('text_video_voxaudio', 0), 0.7176092862435169),\n",
       "   (('text_video_voxaudio', 2), 0.6905363244688754),\n",
       "   (('text_video_voxaudio', 4), 0.6823395064793207),\n",
       "   (('text_video_voxaudio', 9), 0.6734795862275749)],\n",
       "  5: [(('text', 0), 0.6970616570327552),\n",
       "   (('text', 2), 0.6732663704848367),\n",
       "   (('text', 4), 0.6624709527498064),\n",
       "   (('text', 9), 0.6548280229952256),\n",
       "   (('video', 0), 0.6675818882466281),\n",
       "   (('video', 2), 0.6577168244156848),\n",
       "   (('video', 4), 0.6528853601859024),\n",
       "   (('video', 9), 0.6511254019292605),\n",
       "   (('voxaudio', 0), 0.7185934489402698),\n",
       "   (('voxaudio', 2), 0.6979428240293606),\n",
       "   (('voxaudio', 4), 0.6874515879163439),\n",
       "   (('voxaudio', 9), 0.6733411283250511),\n",
       "   (('text_video', 0), 0.7030346820809249),\n",
       "   (('text_video', 2), 0.6834073787908055),\n",
       "   (('text_video', 4), 0.6802381874515879),\n",
       "   (('text_video', 9), 0.6629153269024651),\n",
       "   (('text_voxaudio', 0), 0.7171001926782273),\n",
       "   (('text_voxaudio', 2), 0.6978462429978752),\n",
       "   (('text_voxaudio', 4), 0.6895817195972115),\n",
       "   (('text_voxaudio', 9), 0.6751437201597973),\n",
       "   (('video_voxaudio', 0), 0.7133429672447014),\n",
       "   (('video_voxaudio', 2), 0.6921479621402357),\n",
       "   (('video_voxaudio', 4), 0.6852730441518203),\n",
       "   (('video_voxaudio', 9), 0.6729026600409237),\n",
       "   (('text_video_voxaudio', 0), 0.7160886319845857),\n",
       "   (('text_video_voxaudio', 2), 0.6949971025690554),\n",
       "   (('text_video_voxaudio', 4), 0.685708752904725),\n",
       "   (('text_video_voxaudio', 9), 0.6748026892721426)],\n",
       "  10: [(('text', 0), 0.692195831313621),\n",
       "   (('text', 2), 0.6704247254349305),\n",
       "   (('text', 4), 0.6631102016954107),\n",
       "   (('text', 9), 0.652235732496568),\n",
       "   (('video', 0), 0.6529326223945711),\n",
       "   (('video', 2), 0.6511808727767519),\n",
       "   (('video', 4), 0.6497612783786417),\n",
       "   (('video', 9), 0.6486565993332026),\n",
       "   (('voxaudio', 0), 0.7106156083373728),\n",
       "   (('voxaudio', 2), 0.6960346000583147),\n",
       "   (('voxaudio', 4), 0.6876157069083114),\n",
       "   (('voxaudio', 9), 0.6737105314767602),\n",
       "   (('text_video', 0), 0.6936984973339796),\n",
       "   (('text_video', 2), 0.6765963650500535),\n",
       "   (('text_video', 4), 0.6596511741206275),\n",
       "   (('text_video', 9), 0.6500784467542655),\n",
       "   (('text_voxaudio', 0), 0.709112942317014),\n",
       "   (('text_voxaudio', 2), 0.6964719603460006),\n",
       "   (('text_voxaudio', 4), 0.6856669589788561),\n",
       "   (('text_voxaudio', 9), 0.6750833496764072),\n",
       "   (('video_voxaudio', 0), 0.7064469219583132),\n",
       "   (('video_voxaudio', 2), 0.6894256001555059),\n",
       "   (('video_voxaudio', 4), 0.6824515248952548),\n",
       "   (('video_voxaudio', 9), 0.6682682878995881),\n",
       "   (('text_video_voxaudio', 0), 0.7106640814348036),\n",
       "   (('text_video_voxaudio', 2), 0.6919039751190592),\n",
       "   (('text_video_voxaudio', 4), 0.6860079898665108),\n",
       "   (('text_video_voxaudio', 9), 0.6716022749558737)],\n",
       "  30: [(('text', 0), 0.6658876181004475),\n",
       "   (('text', 2), 0.6523083059128527),\n",
       "   (('text', 4), 0.6493052084374688),\n",
       "   (('text', 9), 0.647967397866774),\n",
       "   (('video', 0), 0.6552958727001492),\n",
       "   (('video', 2), 0.6520091733971483),\n",
       "   (('video', 4), 0.6522543237028892),\n",
       "   (('video', 9), 0.6492251962165425),\n",
       "   (('voxaudio', 0), 0.6872202884137245),\n",
       "   (('voxaudio', 2), 0.6780337022634361),\n",
       "   (('voxaudio', 4), 0.6726482055383385),\n",
       "   (('voxaudio', 9), 0.663614409337895),\n",
       "   (('text_video', 0), 0.6661859771258081),\n",
       "   (('text_video', 2), 0.6595871971283278),\n",
       "   (('text_video', 4), 0.658002599220234),\n",
       "   (('text_video', 9), 0.6545079492855705),\n",
       "   (('text_voxaudio', 0), 0.6894579811039284),\n",
       "   (('text_voxaudio', 2), 0.6811745936783329),\n",
       "   (('text_voxaudio', 4), 0.6743976806957913),\n",
       "   (('text_voxaudio', 9), 0.6663815657073858),\n",
       "   (('video_voxaudio', 0), 0.6819492789656887),\n",
       "   (('video_voxaudio', 2), 0.6795792202612424),\n",
       "   (('video_voxaudio', 4), 0.6737978606418075),\n",
       "   (('video_voxaudio', 9), 0.663211913865969),\n",
       "   (('text_video_voxaudio', 0), 0.6848831427150671),\n",
       "   (('text_video_voxaudio', 2), 0.6779339914248679),\n",
       "   (('text_video_voxaudio', 4), 0.676447065880236),\n",
       "   (('text_video_voxaudio', 9), 0.6611491245723485)]},\n",
       " \"use_crossval: False | use_all_perspectives: False | predict_only_host: True | clf: <class 'sklearn.ensemble.forest.RandomForestClassifier'>\": {4: [(('text',\n",
       "     0),\n",
       "    0.6559724247646825),\n",
       "   (('text', 2), 0.6112956810631229),\n",
       "   (('text', 4), 0.5971759690955109),\n",
       "   (('text', 9), 0.5722326454033771),\n",
       "   (('video', 0), 0.609041495426223),\n",
       "   (('video', 2), 0.575548172757475),\n",
       "   (('video', 4), 0.5585453576661782),\n",
       "   (('video', 9), 0.5533369069954436),\n",
       "   (('voxaudio', 0), 0.6692297494365637),\n",
       "   (('voxaudio', 2), 0.6235215946843854),\n",
       "   (('voxaudio', 4), 0.5974423871053683),\n",
       "   (('voxaudio', 9), 0.5767890645939426),\n",
       "   (('text_video', 0), 0.6569004374917141),\n",
       "   (('text_video', 2), 0.6175415282392026),\n",
       "   (('text_video', 4), 0.5997069401891568),\n",
       "   (('text_video', 9), 0.5809434467971053),\n",
       "   (('text_voxaudio', 0), 0.6758584117725043),\n",
       "   (('text_voxaudio', 2), 0.6256478405315614),\n",
       "   (('text_voxaudio', 4), 0.6045024643665912),\n",
       "   (('text_voxaudio', 9), 0.5802733851514339),\n",
       "   (('video_voxaudio', 0), 0.6635290998276547),\n",
       "   (('video_voxaudio', 2), 0.6194019933554817),\n",
       "   (('video_voxaudio', 4), 0.6034367923271613),\n",
       "   (('video_voxaudio', 9), 0.5797373358348968),\n",
       "   (('text_video_voxaudio', 0), 0.6697600424234389),\n",
       "   (('text_video_voxaudio', 2), 0.6256478405315614),\n",
       "   (('text_video_voxaudio', 4), 0.6104968695883842),\n",
       "   (('text_video_voxaudio', 9), 0.588448137228625)],\n",
       "  5: [(('text', 0), 0.6491903371383063),\n",
       "   (('text', 2), 0.6024481106971793),\n",
       "   (('text', 4), 0.5904241130968259),\n",
       "   (('text', 9), 0.5765463571716087),\n",
       "   (('video', 0), 0.6096363153703213),\n",
       "   (('video', 2), 0.5717136774880256),\n",
       "   (('video', 4), 0.55841557748733),\n",
       "   (('video', 9), 0.545417952502348),\n",
       "   (('voxaudio', 0), 0.6645872046721529),\n",
       "   (('voxaudio', 2), 0.6265300691857371),\n",
       "   (('voxaudio', 4), 0.608829021072286),\n",
       "   (('voxaudio', 9), 0.5752046155910372),\n",
       "   (('text_video', 0), 0.6525086275550837),\n",
       "   (('text_video', 2), 0.6152208621607238),\n",
       "   (('text_video', 4), 0.5945585489463857),\n",
       "   (('text_video', 9), 0.5734603515362942),\n",
       "   (('text_voxaudio', 0), 0.6693655428723122),\n",
       "   (('text_voxaudio', 2), 0.6263970196913252),\n",
       "   (('text_voxaudio', 4), 0.6041611096292344),\n",
       "   (('text_voxaudio', 9), 0.5872802898161814),\n",
       "   (('video_voxaudio', 0), 0.661667109105389),\n",
       "   (('video_voxaudio', 2), 0.6193453964874933),\n",
       "   (('video_voxaudio', 4), 0.6002934115764204),\n",
       "   (('video_voxaudio', 9), 0.5836575875486382),\n",
       "   (('text_video_voxaudio', 0), 0.6677727634722591),\n",
       "   (('text_video_voxaudio', 2), 0.6246673762639702),\n",
       "   (('text_video_voxaudio', 4), 0.6041611096292344),\n",
       "   (('text_video_voxaudio', 9), 0.588622031396753)],\n",
       "  10: [(('text', 0), 0.6215783148617973),\n",
       "   (('text', 2), 0.5934948467407308),\n",
       "   (('text', 4), 0.5906346437676103),\n",
       "   (('text', 9), 0.5715442764578834),\n",
       "   (('video', 0), 0.5780478034450528),\n",
       "   (('video', 2), 0.5548119394993977),\n",
       "   (('video', 4), 0.5475647390312626),\n",
       "   (('video', 9), 0.5265928725701944),\n",
       "   (('voxaudio', 0), 0.6418747496327948),\n",
       "   (('voxaudio', 2), 0.6141078838174274),\n",
       "   (('voxaudio', 4), 0.598819267409097),\n",
       "   (('voxaudio', 9), 0.5728941684665226),\n",
       "   (('text_video', 0), 0.631993590599546),\n",
       "   (('text_video', 2), 0.5991165841252845),\n",
       "   (('text_video', 4), 0.5698376492687508),\n",
       "   (('text_video', 9), 0.5322624190064795),\n",
       "   (('text_voxaudio', 0), 0.6490853251435439),\n",
       "   (('text_voxaudio', 2), 0.6189265158613305),\n",
       "   (('text_voxaudio', 4), 0.59962431235744),\n",
       "   (('text_voxaudio', 9), 0.5724892008639308),\n",
       "   (('video_voxaudio', 0), 0.6384029910535453),\n",
       "   (('video_voxaudio', 2), 0.6141078838174274),\n",
       "   (('video_voxaudio', 4), 0.5960016100898967),\n",
       "   (('video_voxaudio', 9), 0.5602051835853131),\n",
       "   (('text_video_voxaudio', 0), 0.6497529710241687),\n",
       "   (('text_video_voxaudio', 2), 0.6099585062240664),\n",
       "   (('text_video_voxaudio', 4), 0.5989534415671541),\n",
       "   (('text_video_voxaudio', 9), 0.5673596112311015)],\n",
       "  30: [(('text', 0), 0.5550690928991654),\n",
       "   (('text', 2), 0.5542449595391579),\n",
       "   (('text', 4), 0.5580915715660663),\n",
       "   (('text', 9), 0.5532650802434975),\n",
       "   (('video', 0), 0.5742235599945273),\n",
       "   (('video', 2), 0.5579481552599095),\n",
       "   (('video', 4), 0.5596040148494431),\n",
       "   (('video', 9), 0.5385998893193138),\n",
       "   (('voxaudio', 0), 0.600492543439595),\n",
       "   (('voxaudio', 2), 0.5840076807022356),\n",
       "   (('voxaudio', 4), 0.5667537467344974),\n",
       "   (('voxaudio', 9), 0.5534034311012729),\n",
       "   (('text_video', 0), 0.6026816253933507),\n",
       "   (('text_video', 2), 0.5962145110410094),\n",
       "   (('text_video', 4), 0.5695036436133645),\n",
       "   (('text_video', 9), 0.5485611510791367),\n",
       "   (('text_voxaudio', 0), 0.6029552606375701),\n",
       "   (('text_voxaudio', 2), 0.5856535454670141),\n",
       "   (('text_voxaudio', 4), 0.5763783858105321),\n",
       "   (('text_voxaudio', 9), 0.5534034311012729),\n",
       "   (('video_voxaudio', 0), 0.5992611848406074),\n",
       "   (('video_voxaudio', 2), 0.5829104375257166),\n",
       "   (('video_voxaudio', 4), 0.5798157569091159),\n",
       "   (('video_voxaudio', 9), 0.5532650802434975),\n",
       "   (('text_video_voxaudio', 0), 0.6009029963059243),\n",
       "   (('text_video_voxaudio', 2), 0.5933342477026471),\n",
       "   (('text_video_voxaudio', 4), 0.5866904991062836),\n",
       "   (('text_video_voxaudio', 9), 0.5539568345323741)]},\n",
       " \"use_crossval: True | use_all_perspectives: True | predict_only_host: True | clf: <class 'sklearn.naive_bayes.GaussianNB'>\": {4: [(('text',\n",
       "     0),\n",
       "    0.6495421578279535),\n",
       "   (('text', 2), 0.5878564811484824),\n",
       "   (('text', 4), 0.5533003759881916),\n",
       "   (('text', 9), 0.5189191297826732),\n",
       "   (('video', 0), 0.5192359413820778),\n",
       "   (('video', 2), 0.5051804947521831),\n",
       "   (('video', 4), 0.4972346271973011),\n",
       "   (('video', 9), 0.49625909688412584),\n",
       "   (('voxaudio', 0), 0.6847674467968973),\n",
       "   (('voxaudio', 2), 0.623508876445786),\n",
       "   (('voxaudio', 4), 0.5934301380226243),\n",
       "   (('voxaudio', 9), 0.5547619737142593),\n",
       "   (('text_video', 0), 0.5598077909248287),\n",
       "   (('text_video', 2), 0.5242564040462163),\n",
       "   (('text_video', 4), 0.5126536453371967),\n",
       "   (('text_video', 9), 0.4989114560751437),\n",
       "   (('text_voxaudio', 0), 0.6856497951795943),\n",
       "   (('text_voxaudio', 2), 0.623586628906604),\n",
       "   (('text_voxaudio', 4), 0.5962215354146921),\n",
       "   (('text_voxaudio', 9), 0.5555759631540683),\n",
       "   (('video_voxaudio', 0), 0.6439362344447342),\n",
       "   (('video_voxaudio', 2), 0.5791904546527735),\n",
       "   (('video_voxaudio', 4), 0.5506154899432978),\n",
       "   (('video_voxaudio', 9), 0.5195239039885351),\n",
       "   (('text_video_voxaudio', 0), 0.6570448111602356),\n",
       "   (('text_video_voxaudio', 2), 0.5884028140972526),\n",
       "   (('text_video_voxaudio', 4), 0.5567203312580375),\n",
       "   (('text_video_voxaudio', 9), 0.5212832267605743)],\n",
       "  5: [(('text', 0), 0.6293332682577489),\n",
       "   (('text', 2), 0.5725381480733935),\n",
       "   (('text', 4), 0.5509984628634959),\n",
       "   (('text', 9), 0.5146047308539099),\n",
       "   (('video', 0), 0.5131997544034145),\n",
       "   (('video', 2), 0.5009821759299846),\n",
       "   (('video', 4), 0.49538954697376675),\n",
       "   (('video', 9), 0.48720497403446644),\n",
       "   (('voxaudio', 0), 0.6781307293621237),\n",
       "   (('voxaudio', 2), 0.6240455462862923),\n",
       "   (('voxaudio', 4), 0.5953664608759018),\n",
       "   (('voxaudio', 9), 0.556584695911876),\n",
       "   (('text_video', 0), 0.5485174753508428),\n",
       "   (('text_video', 2), 0.5159269842859872),\n",
       "   (('text_video', 4), 0.5053696658950353),\n",
       "   (('text_video', 9), 0.49167687778685903),\n",
       "   (('text_voxaudio', 0), 0.6758935655362045),\n",
       "   (('text_voxaudio', 2), 0.6219146645590208),\n",
       "   (('text_voxaudio', 4), 0.5929198799364814),\n",
       "   (('text_voxaudio', 9), 0.5542064601463389),\n",
       "   (('video_voxaudio', 0), 0.6367992693470291),\n",
       "   (('video_voxaudio', 2), 0.5803327672389804),\n",
       "   (('video_voxaudio', 4), 0.5515348460754879),\n",
       "   (('video_voxaudio', 9), 0.5148602571679588),\n",
       "   (('text_video_voxaudio', 0), 0.6443497027146645),\n",
       "   (('text_video_voxaudio', 2), 0.5869780437216483),\n",
       "   (('text_video_voxaudio', 4), 0.5575232676128528),\n",
       "   (('text_video_voxaudio', 9), 0.5180867523869178)],\n",
       "  10: [(('text', 0), 0.6178053693988834),\n",
       "   (('text', 2), 0.5818258581896032),\n",
       "   (('text', 4), 0.5585227779257285),\n",
       "   (('text', 9), 0.5312027592742684),\n",
       "   (('video', 0), 0.510017427611629),\n",
       "   (('video', 2), 0.5000424730897097),\n",
       "   (('video', 4), 0.4949456954532815),\n",
       "   (('video', 9), 0.49452904971774253),\n",
       "   (('voxaudio', 0), 0.6384634536644452),\n",
       "   (('voxaudio', 2), 0.598868891473415),\n",
       "   (('voxaudio', 4), 0.5768354206541544),\n",
       "   (('voxaudio', 9), 0.5456873438450707),\n",
       "   (('text_video', 0), 0.5604133805155787),\n",
       "   (('text_video', 2), 0.5263519468901487),\n",
       "   (('text_video', 4), 0.5140485921163134),\n",
       "   (('text_video', 9), 0.5038823293744128),\n",
       "   (('text_voxaudio', 0), 0.6388698291130707),\n",
       "   (('text_voxaudio', 2), 0.5970204153245715),\n",
       "   (('text_voxaudio', 4), 0.5751184652218585),\n",
       "   (('text_voxaudio', 9), 0.5435472004175821),\n",
       "   (('video_voxaudio', 0), 0.605389037026129),\n",
       "   (('video_voxaudio', 2), 0.5620124601398042),\n",
       "   (('video_voxaudio', 4), 0.5398553919339418),\n",
       "   (('video_voxaudio', 9), 0.5178999911351139),\n",
       "   (('text_video_voxaudio', 0), 0.6141996704576366),\n",
       "   (('text_video_voxaudio', 2), 0.5720691790307317),\n",
       "   (('text_video_voxaudio', 4), 0.5493119402730458),\n",
       "   (('text_video_voxaudio', 9), 0.5231664349198406)],\n",
       "  30: [(('text', 0), 0.5786259010933945),\n",
       "   (('text', 2), 0.5620501700560834),\n",
       "   (('text', 4), 0.5459432048681542),\n",
       "   (('text', 9), 0.5281201234374271),\n",
       "   (('video', 0), 0.4919217145786135),\n",
       "   (('video', 2), 0.48577166850293196),\n",
       "   (('video', 4), 0.484370943842948),\n",
       "   (('video', 9), 0.4862690727222514),\n",
       "   (('voxaudio', 0), 0.5708241681394307),\n",
       "   (('voxaudio', 2), 0.5476818879818169),\n",
       "   (('voxaudio', 4), 0.5343189422756695),\n",
       "   (('voxaudio', 9), 0.5137034411128298),\n",
       "   (('text_video', 0), 0.5322858197359758),\n",
       "   (('text_video', 2), 0.5145081748940191),\n",
       "   (('text_video', 4), 0.5062856580242049),\n",
       "   (('text_video', 9), 0.4901602111269184),\n",
       "   (('text_voxaudio', 0), 0.5805626102181413),\n",
       "   (('text_voxaudio', 2), 0.5579727078321679),\n",
       "   (('text_voxaudio', 4), 0.5434962617806927),\n",
       "   (('text_voxaudio', 9), 0.5211499126398458),\n",
       "   (('video_voxaudio', 0), 0.5331987019395331),\n",
       "   (('video_voxaudio', 2), 0.5128989789300309),\n",
       "   (('video_voxaudio', 4), 0.5040330469631348),\n",
       "   (('video_voxaudio', 9), 0.4883124401513572),\n",
       "   (('text_video_voxaudio', 0), 0.5504345663224062),\n",
       "   (('text_video_voxaudio', 2), 0.5306792466098086),\n",
       "   (('text_video_voxaudio', 4), 0.51727122597475),\n",
       "   (('text_video_voxaudio', 9), 0.49497493921464975)]},\n",
       " \"use_crossval: True | use_all_perspectives: False | predict_only_host: False | clf: <class 'sklearn.naive_bayes.GaussianNB'>\": {4: [(('text',\n",
       "     0),\n",
       "    0.671555662971522),\n",
       "   (('text', 2), 0.6123672704559651),\n",
       "   (('text', 4), 0.599591738660769),\n",
       "   (('text', 9), 0.5748549256198585),\n",
       "   (('video', 0), 0.5576084483926695),\n",
       "   (('video', 2), 0.5461145607524709),\n",
       "   (('video', 4), 0.542276239221862),\n",
       "   (('video', 9), 0.5310812002880885),\n",
       "   (('voxaudio', 0), 0.7031173301892262),\n",
       "   (('voxaudio', 2), 0.6603813792850057),\n",
       "   (('voxaudio', 4), 0.6436909856762745),\n",
       "   (('voxaudio', 9), 0.625969299650994),\n",
       "   (('text_video', 0), 0.6414308004973109),\n",
       "   (('text_video', 2), 0.6015064114340302),\n",
       "   (('text_video', 4), 0.585388173515563),\n",
       "   (('text_video', 9), 0.5584102798197941),\n",
       "   (('text_voxaudio', 0), 0.6990200529449961),\n",
       "   (('text_voxaudio', 2), 0.643935775434471),\n",
       "   (('text_voxaudio', 4), 0.6280211827849997),\n",
       "   (('text_voxaudio', 9), 0.6061136811592092),\n",
       "   (('video_voxaudio', 0), 0.6645193458483327),\n",
       "   (('video_voxaudio', 2), 0.6246463607304259),\n",
       "   (('video_voxaudio', 4), 0.6089922861517474),\n",
       "   (('video_voxaudio', 9), 0.5845457285507417),\n",
       "   (('text_video_voxaudio', 0), 0.6900486348399804),\n",
       "   (('text_video_voxaudio', 2), 0.6407980306426131),\n",
       "   (('text_video_voxaudio', 4), 0.6231443382952732),\n",
       "   (('text_video_voxaudio', 9), 0.5955040202445318)],\n",
       "  5: [(('text', 0), 0.6768598986991343),\n",
       "   (('text', 2), 0.6358361885295272),\n",
       "   (('text', 4), 0.6157670525686695),\n",
       "   (('text', 9), 0.5903164393472323),\n",
       "   (('video', 0), 0.5497097132219093),\n",
       "   (('video', 2), 0.538431091174597),\n",
       "   (('video', 4), 0.5336887848726968),\n",
       "   (('video', 9), 0.5216805206621352),\n",
       "   (('voxaudio', 0), 0.6997071686488399),\n",
       "   (('voxaudio', 2), 0.6626996172497414),\n",
       "   (('voxaudio', 4), 0.6455940272865319),\n",
       "   (('voxaudio', 9), 0.6282407319458313),\n",
       "   (('text_video', 0), 0.6193035772083382),\n",
       "   (('text_video', 2), 0.5861956819922309),\n",
       "   (('text_video', 4), 0.5717011667920494),\n",
       "   (('text_video', 9), 0.54240555986723),\n",
       "   (('text_voxaudio', 0), 0.6949345463957047),\n",
       "   (('text_voxaudio', 2), 0.6543679143796668),\n",
       "   (('text_voxaudio', 4), 0.6347353029760334),\n",
       "   (('text_voxaudio', 9), 0.6090486509604645),\n",
       "   (('video_voxaudio', 0), 0.6533998675490608),\n",
       "   (('video_voxaudio', 2), 0.618162936158367),\n",
       "   (('video_voxaudio', 4), 0.6015280675745843),\n",
       "   (('video_voxaudio', 9), 0.5752786693449676),\n",
       "   (('text_video_voxaudio', 0), 0.678201085546779),\n",
       "   (('text_video_voxaudio', 2), 0.6368692326877674),\n",
       "   (('text_video_voxaudio', 4), 0.6169705213430655),\n",
       "   (('text_video_voxaudio', 9), 0.5841696274003094)],\n",
       "  10: [(('text', 0), 0.5811783428377613),\n",
       "   (('text', 2), 0.523266273394551),\n",
       "   (('text', 4), 0.49142406670047645),\n",
       "   (('text', 9), 0.45736721161926097),\n",
       "   (('video', 0), 0.5408929586124918),\n",
       "   (('video', 2), 0.530378690668295),\n",
       "   (('video', 4), 0.5250830214934218),\n",
       "   (('video', 9), 0.5182381968600402),\n",
       "   (('voxaudio', 0), 0.6798408298789592),\n",
       "   (('voxaudio', 2), 0.6582110517150042),\n",
       "   (('voxaudio', 4), 0.6497171748639153),\n",
       "   (('voxaudio', 9), 0.6374654655431622),\n",
       "   (('text_video', 0), 0.5767013863623583),\n",
       "   (('text_video', 2), 0.552737957725175),\n",
       "   (('text_video', 4), 0.5395351125560695),\n",
       "   (('text_video', 9), 0.5185697731498239),\n",
       "   (('text_voxaudio', 0), 0.642117552145183),\n",
       "   (('text_voxaudio', 2), 0.6137364720771329),\n",
       "   (('text_voxaudio', 4), 0.5982409382357182),\n",
       "   (('text_voxaudio', 9), 0.5687714464323997),\n",
       "   (('video_voxaudio', 0), 0.6347275506172159),\n",
       "   (('video_voxaudio', 2), 0.6115731744271695),\n",
       "   (('video_voxaudio', 4), 0.5986092994389285),\n",
       "   (('video_voxaudio', 9), 0.5819537627177971),\n",
       "   (('text_video_voxaudio', 0), 0.6386857835879949),\n",
       "   (('text_video_voxaudio', 2), 0.6098677277725841),\n",
       "   (('text_video_voxaudio', 4), 0.5930889724087021),\n",
       "   (('text_video_voxaudio', 9), 0.5651757764826092)],\n",
       "  30: [(('text', 0), 0.5229911514822895),\n",
       "   (('text', 2), 0.5063262187497839),\n",
       "   (('text', 4), 0.49713388955774623),\n",
       "   (('text', 9), 0.4801891871949933),\n",
       "   (('video', 0), 0.5305670958281145),\n",
       "   (('video', 2), 0.5242317016369821),\n",
       "   (('video', 4), 0.5226766517726793),\n",
       "   (('video', 9), 0.5208450345767573),\n",
       "   (('voxaudio', 0), 0.6571161993204042),\n",
       "   (('voxaudio', 2), 0.6512731066345603),\n",
       "   (('voxaudio', 4), 0.6473285816123214),\n",
       "   (('voxaudio', 9), 0.6398188130665725),\n",
       "   (('text_video', 0), 0.552516997540663),\n",
       "   (('text_video', 2), 0.5344939702512123),\n",
       "   (('text_video', 4), 0.527451718677359),\n",
       "   (('text_video', 9), 0.5162805620124757),\n",
       "   (('text_voxaudio', 0), 0.565832251054358),\n",
       "   (('text_voxaudio', 2), 0.5562060298449196),\n",
       "   (('text_voxaudio', 4), 0.5529697529402194),\n",
       "   (('text_voxaudio', 9), 0.5563478781742364),\n",
       "   (('video_voxaudio', 0), 0.6093084253641647),\n",
       "   (('video_voxaudio', 2), 0.6045274376866789),\n",
       "   (('video_voxaudio', 4), 0.6015183879038801),\n",
       "   (('video_voxaudio', 9), 0.5949912370783761),\n",
       "   (('text_video_voxaudio', 0), 0.5824986991977159),\n",
       "   (('text_video_voxaudio', 2), 0.5704493027120277),\n",
       "   (('text_video_voxaudio', 4), 0.5656089226061074),\n",
       "   (('text_video_voxaudio', 9), 0.5629714896852759)]},\n",
       " \"use_crossval: True | use_all_perspectives: False | predict_only_host: True | clf: <class 'sklearn.naive_bayes.GaussianNB'>\": {4: [(('text',\n",
       "     0),\n",
       "    0.6622354344086439),\n",
       "   (('text', 2), 0.6142788698789332),\n",
       "   (('text', 4), 0.5923248634569396),\n",
       "   (('text', 9), 0.5455600786798769),\n",
       "   (('video', 0), 0.5240508663618886),\n",
       "   (('video', 2), 0.5090461351094048),\n",
       "   (('video', 4), 0.49847979645342244),\n",
       "   (('video', 9), 0.4894046457326583),\n",
       "   (('voxaudio', 0), 0.6771201317494551),\n",
       "   (('voxaudio', 2), 0.6203176995184589),\n",
       "   (('voxaudio', 4), 0.5945618302074402),\n",
       "   (('voxaudio', 9), 0.5617720058872255),\n",
       "   (('text_video', 0), 0.5821584791200417),\n",
       "   (('text_video', 2), 0.5398112164970759),\n",
       "   (('text_video', 4), 0.5205604797468495),\n",
       "   (('text_video', 9), 0.49861578594143746),\n",
       "   (('text_voxaudio', 0), 0.6760991881133678),\n",
       "   (('text_voxaudio', 2), 0.6201332567538473),\n",
       "   (('text_voxaudio', 4), 0.5955056682549278),\n",
       "   (('text_voxaudio', 9), 0.563589632928027),\n",
       "   (('video_voxaudio', 0), 0.6485759811538749),\n",
       "   (('video_voxaudio', 2), 0.5886099146338433),\n",
       "   (('video_voxaudio', 4), 0.5589765688518213),\n",
       "   (('video_voxaudio', 9), 0.5223868888140804),\n",
       "   (('text_video_voxaudio', 0), 0.6583969287919709),\n",
       "   (('text_video_voxaudio', 2), 0.5982510696875998),\n",
       "   (('text_video_voxaudio', 4), 0.5694424937237746),\n",
       "   (('text_video_voxaudio', 9), 0.5298219674420256)],\n",
       "  5: [(('text', 0), 0.6535871545054965),\n",
       "   (('text', 2), 0.6111295208590596),\n",
       "   (('text', 4), 0.568993791104759),\n",
       "   (('text', 9), 0.520637014787835),\n",
       "   (('video', 0), 0.5260404266999892),\n",
       "   (('video', 2), 0.5069270990076472),\n",
       "   (('video', 4), 0.49768385549275845),\n",
       "   (('video', 9), 0.47967816202561026),\n",
       "   (('voxaudio', 0), 0.6666801714114434),\n",
       "   (('voxaudio', 2), 0.6167046371470442),\n",
       "   (('voxaudio', 4), 0.591227209178731),\n",
       "   (('voxaudio', 9), 0.559156959378497),\n",
       "   (('text_video', 0), 0.582291906102476),\n",
       "   (('text_video', 2), 0.5430826146473824),\n",
       "   (('text_video', 4), 0.5248602419559717),\n",
       "   (('text_video', 9), 0.4975638683983908),\n",
       "   (('text_voxaudio', 0), 0.6663066606981422),\n",
       "   (('text_voxaudio', 2), 0.616184648814588),\n",
       "   (('text_voxaudio', 4), 0.5916235792500611),\n",
       "   (('text_voxaudio', 9), 0.5606056614539958),\n",
       "   (('video_voxaudio', 0), 0.6390827744407732),\n",
       "   (('video_voxaudio', 2), 0.5866435380202816),\n",
       "   (('video_voxaudio', 4), 0.559461187570421),\n",
       "   (('video_voxaudio', 9), 0.520403441325134),\n",
       "   (('text_video_voxaudio', 0), 0.6467601325036558),\n",
       "   (('text_video_voxaudio', 2), 0.593987064747505),\n",
       "   (('text_video_voxaudio', 4), 0.5689512043585678),\n",
       "   (('text_video_voxaudio', 9), 0.5316767639961519)],\n",
       "  10: [(('text', 0), 0.6091316039686244),\n",
       "   (('text', 2), 0.5790363707669173),\n",
       "   (('text', 4), 0.5628004786581935),\n",
       "   (('text', 9), 0.5248781354501963),\n",
       "   (('video', 0), 0.5075176118373624),\n",
       "   (('video', 2), 0.49618828097658874),\n",
       "   (('video', 4), 0.4881475948200252),\n",
       "   (('video', 9), 0.4878736164943245),\n",
       "   (('voxaudio', 0), 0.6273059071638538),\n",
       "   (('voxaudio', 2), 0.5913273208110502),\n",
       "   (('voxaudio', 4), 0.5738577217193968),\n",
       "   (('voxaudio', 9), 0.542428994610573),\n",
       "   (('text_video', 0), 0.5610368935749892),\n",
       "   (('text_video', 2), 0.5322051985072983),\n",
       "   (('text_video', 4), 0.517624912722511),\n",
       "   (('text_video', 9), 0.5023113315133424),\n",
       "   (('text_voxaudio', 0), 0.6252129214063562),\n",
       "   (('text_voxaudio', 2), 0.589400130539448),\n",
       "   (('text_voxaudio', 4), 0.5717749786491118),\n",
       "   (('text_voxaudio', 9), 0.5417160885125941),\n",
       "   (('video_voxaudio', 0), 0.5914268661454747),\n",
       "   (('video_voxaudio', 2), 0.5576223723104609),\n",
       "   (('video_voxaudio', 4), 0.5378931174952077),\n",
       "   (('video_voxaudio', 9), 0.512859047129431),\n",
       "   (('text_video_voxaudio', 0), 0.6063553092542625),\n",
       "   (('text_video_voxaudio', 2), 0.5664234397896134),\n",
       "   (('text_video_voxaudio', 4), 0.5475977842097561),\n",
       "   (('text_video_voxaudio', 9), 0.5188465258383493)],\n",
       "  30: [(('text', 0), 0.5547095370468154),\n",
       "   (('text', 2), 0.5382018334181828),\n",
       "   (('text', 4), 0.5282599383772776),\n",
       "   (('text', 9), 0.5018243774483537),\n",
       "   (('video', 0), 0.48423122995357276),\n",
       "   (('video', 2), 0.47900144954187496),\n",
       "   (('video', 4), 0.4787761544616636),\n",
       "   (('video', 9), 0.47435418538114515),\n",
       "   (('voxaudio', 0), 0.5661410978314572),\n",
       "   (('voxaudio', 2), 0.5460479365622382),\n",
       "   (('voxaudio', 4), 0.5310732782662514),\n",
       "   (('voxaudio', 9), 0.4972094232045915),\n",
       "   (('text_video', 0), 0.5175507546662015),\n",
       "   (('text_video', 2), 0.5013922657603975),\n",
       "   (('text_video', 4), 0.4929324232599769),\n",
       "   (('text_video', 9), 0.4763711432474424),\n",
       "   (('text_voxaudio', 0), 0.5682833999527865),\n",
       "   (('text_voxaudio', 2), 0.5462183211275046),\n",
       "   (('text_voxaudio', 4), 0.5330565138302108),\n",
       "   (('text_voxaudio', 9), 0.4975313991123021),\n",
       "   (('video_voxaudio', 0), 0.5246982577947348),\n",
       "   (('video_voxaudio', 2), 0.506665861868644),\n",
       "   (('video_voxaudio', 4), 0.4981340864390632),\n",
       "   (('video_voxaudio', 9), 0.4755560540877834),\n",
       "   (('text_video_voxaudio', 0), 0.5338182770669715),\n",
       "   (('text_video_voxaudio', 2), 0.5120244287004865),\n",
       "   (('text_video_voxaudio', 4), 0.5026541013377209),\n",
       "   (('text_video_voxaudio', 9), 0.47628555959788327)]},\n",
       " \"use_crossval: True | use_all_perspectives: True | predict_only_host: True | clf: <class 'sklearn.ensemble.forest.RandomForestClassifier'>\": {4: [(('text',\n",
       "     0),\n",
       "    0.6786669928159555),\n",
       "   (('text', 2), 0.6154924080953045),\n",
       "   (('text', 4), 0.5831756158265542),\n",
       "   (('text', 9), 0.5435233260299),\n",
       "   (('video', 0), 0.5229472237889518),\n",
       "   (('video', 2), 0.4952604253655618),\n",
       "   (('video', 4), 0.48089777594160293),\n",
       "   (('video', 9), 0.46921075342307067),\n",
       "   (('voxaudio', 0), 0.6763051968924172),\n",
       "   (('voxaudio', 2), 0.6105741992139958),\n",
       "   (('voxaudio', 4), 0.5768613698625413),\n",
       "   (('voxaudio', 9), 0.5339912456711712),\n",
       "   (('text_video', 0), 0.6379134835102558),\n",
       "   (('text_video', 2), 0.564223776458695),\n",
       "   (('text_video', 4), 0.5282261289613411),\n",
       "   (('text_video', 9), 0.4934209042025633),\n",
       "   (('text_voxaudio', 0), 0.6825090752387324),\n",
       "   (('text_voxaudio', 2), 0.6140353080155607),\n",
       "   (('text_voxaudio', 4), 0.5815317087816199),\n",
       "   (('text_voxaudio', 9), 0.5361706192914346),\n",
       "   (('video_voxaudio', 0), 0.6597440267172872),\n",
       "   (('video_voxaudio', 2), 0.5795786006263813),\n",
       "   (('video_voxaudio', 4), 0.538636209807746),\n",
       "   (('video_voxaudio', 9), 0.5003795034161754),\n",
       "   (('text_video_voxaudio', 0), 0.6621063650998698),\n",
       "   (('text_video_voxaudio', 2), 0.5844188877253111),\n",
       "   (('text_video_voxaudio', 4), 0.5421849706763986),\n",
       "   (('text_video_voxaudio', 9), 0.4989879104457852)],\n",
       "  5: [(('text', 0), 0.6647914122012433),\n",
       "   (('text', 2), 0.6075585665481404),\n",
       "   (('text', 4), 0.5765843531274193),\n",
       "   (('text', 9), 0.5353249689073586),\n",
       "   (('video', 0), 0.5303964783011952),\n",
       "   (('video', 2), 0.5055805570296095),\n",
       "   (('video', 4), 0.4882468047334682),\n",
       "   (('video', 9), 0.4818527768705841),\n",
       "   (('voxaudio', 0), 0.6667766674709903),\n",
       "   (('voxaudio', 2), 0.607614514198972),\n",
       "   (('voxaudio', 4), 0.5792559928897506),\n",
       "   (('voxaudio', 9), 0.5386088384676462),\n",
       "   (('text_video', 0), 0.6314859373877089),\n",
       "   (('text_video', 2), 0.568276011136535),\n",
       "   (('text_video', 4), 0.5409623657871065),\n",
       "   (('text_video', 9), 0.49926136555919554),\n",
       "   (('text_voxaudio', 0), 0.6714749434744673),\n",
       "   (('text_voxaudio', 2), 0.6079791508804865),\n",
       "   (('text_voxaudio', 4), 0.5773999512508251),\n",
       "   (('text_voxaudio', 9), 0.5399955214020339),\n",
       "   (('video_voxaudio', 0), 0.6446009622856386),\n",
       "   (('video_voxaudio', 2), 0.5775570899170075),\n",
       "   (('video_voxaudio', 4), 0.5469508347535375),\n",
       "   (('video_voxaudio', 9), 0.5105836171064462),\n",
       "   (('text_video_voxaudio', 0), 0.6494948234897244),\n",
       "   (('text_video_voxaudio', 2), 0.5836696980588119),\n",
       "   (('text_video_voxaudio', 4), 0.5503810312825914),\n",
       "   (('text_video_voxaudio', 9), 0.5091121647268659)],\n",
       "  10: [(('text', 0), 0.6209220510311375),\n",
       "   (('text', 2), 0.5804929881722003),\n",
       "   (('text', 4), 0.5536713459423139),\n",
       "   (('text', 9), 0.5236593139486949),\n",
       "   (('video', 0), 0.5128073775780873),\n",
       "   (('video', 2), 0.4965869570802733),\n",
       "   (('video', 4), 0.4863603578176221),\n",
       "   (('video', 9), 0.4773813404140862),\n",
       "   (('voxaudio', 0), 0.6163672658210728),\n",
       "   (('voxaudio', 2), 0.5768517061908366),\n",
       "   (('voxaudio', 4), 0.5579773844966569),\n",
       "   (('voxaudio', 9), 0.5237418969542558),\n",
       "   (('text_video', 0), 0.5884162734399557),\n",
       "   (('text_video', 2), 0.54860941589703),\n",
       "   (('text_video', 4), 0.5201248121956812),\n",
       "   (('text_video', 9), 0.4893136193415276),\n",
       "   (('text_voxaudio', 0), 0.6214910060521301),\n",
       "   (('text_voxaudio', 2), 0.5796238219674366),\n",
       "   (('text_voxaudio', 4), 0.5557154996515423),\n",
       "   (('text_voxaudio', 9), 0.5231382815058223),\n",
       "   (('video_voxaudio', 0), 0.5998566140024587),\n",
       "   (('video_voxaudio', 2), 0.5536930023649911),\n",
       "   (('video_voxaudio', 4), 0.5334508970883088),\n",
       "   (('video_voxaudio', 9), 0.49833886600414906),\n",
       "   (('text_video_voxaudio', 0), 0.6025133222018683),\n",
       "   (('text_video_voxaudio', 2), 0.5612215980952994),\n",
       "   (('text_video_voxaudio', 4), 0.537239031357809),\n",
       "   (('text_video_voxaudio', 9), 0.5005057030972333)],\n",
       "  30: [(('text', 0), 0.518257950199433),\n",
       "   (('text', 2), 0.49883654057982235),\n",
       "   (('text', 4), 0.4890981597160831),\n",
       "   (('text', 9), 0.4725502647746211),\n",
       "   (('video', 0), 0.49161622150830553),\n",
       "   (('video', 2), 0.47695047512464195),\n",
       "   (('video', 4), 0.4754429665743656),\n",
       "   (('video', 9), 0.46624990528528054),\n",
       "   (('voxaudio', 0), 0.5286604993296746),\n",
       "   (('voxaudio', 2), 0.5051321310566917),\n",
       "   (('voxaudio', 4), 0.49719091764223267),\n",
       "   (('voxaudio', 9), 0.48433553261744733),\n",
       "   (('text_video', 0), 0.5105114121755255),\n",
       "   (('text_video', 2), 0.4935936797942718),\n",
       "   (('text_video', 4), 0.47928085394098946),\n",
       "   (('text_video', 9), 0.471765238330042),\n",
       "   (('text_voxaudio', 0), 0.5336678052725623),\n",
       "   (('text_voxaudio', 2), 0.51142919508295),\n",
       "   (('text_voxaudio', 4), 0.4977474082746802),\n",
       "   (('text_voxaudio', 9), 0.4793811403325803),\n",
       "   (('video_voxaudio', 0), 0.524925435759266),\n",
       "   (('video_voxaudio', 2), 0.5041895928815355),\n",
       "   (('video_voxaudio', 4), 0.49499381178642377),\n",
       "   (('video_voxaudio', 9), 0.472690038543112),\n",
       "   (('text_video_voxaudio', 0), 0.5263639517105588),\n",
       "   (('text_video_voxaudio', 2), 0.5030523605098794),\n",
       "   (('text_video_voxaudio', 4), 0.4946325310234381),\n",
       "   (('text_video_voxaudio', 9), 0.4764411640837084)]},\n",
       " \"use_crossval: True | use_all_perspectives: False | predict_only_host: False | clf: <class 'sklearn.ensemble.forest.RandomForestClassifier'>\": {4: [(('text',\n",
       "     0),\n",
       "    0.7190447998172413),\n",
       "   (('text', 2), 0.6861005988903993),\n",
       "   (('text', 4), 0.6706471284268235),\n",
       "   (('text', 9), 0.653335688580216),\n",
       "   (('video', 0), 0.6524177476979405),\n",
       "   (('video', 2), 0.6482345592828013),\n",
       "   (('video', 4), 0.6476989361257939),\n",
       "   (('video', 9), 0.6472930738301318),\n",
       "   (('voxaudio', 0), 0.7325241355995085),\n",
       "   (('voxaudio', 2), 0.7000183708711467),\n",
       "   (('voxaudio', 4), 0.6878566412121523),\n",
       "   (('voxaudio', 9), 0.6746072665450058),\n",
       "   (('text_video', 0), 0.7185610328317733),\n",
       "   (('text_video', 2), 0.6854392475291178),\n",
       "   (('text_video', 4), 0.6688201631672197),\n",
       "   (('text_video', 9), 0.6523644194357894),\n",
       "   (('text_voxaudio', 0), 0.7364381955509789),\n",
       "   (('text_voxaudio', 2), 0.7025829444832274),\n",
       "   (('text_voxaudio', 4), 0.6889690582173772),\n",
       "   (('text_voxaudio', 9), 0.6747629618690927),\n",
       "   (('video_voxaudio', 0), 0.7251357718508511),\n",
       "   (('video_voxaudio', 2), 0.6946320314509313),\n",
       "   (('video_voxaudio', 4), 0.683362725449031),\n",
       "   (('video_voxaudio', 9), 0.6709371739085171),\n",
       "   (('text_video_voxaudio', 0), 0.7325021323328562),\n",
       "   (('text_video_voxaudio', 2), 0.6970863798361318),\n",
       "   (('text_video_voxaudio', 4), 0.6849171693934755),\n",
       "   (('text_video_voxaudio', 9), 0.6721012251319759)],\n",
       "  5: [(('text', 0), 0.7117744460359982),\n",
       "   (('text', 2), 0.6823857964567941),\n",
       "   (('text', 4), 0.6677149072398999),\n",
       "   (('text', 9), 0.6526378355099858),\n",
       "   (('video', 0), 0.6484910899771137),\n",
       "   (('video', 2), 0.6440539229335357),\n",
       "   (('video', 4), 0.6427386002306087),\n",
       "   (('video', 9), 0.6408571366027865),\n",
       "   (('voxaudio', 0), 0.7279022640617216),\n",
       "   (('voxaudio', 2), 0.6992466770887684),\n",
       "   (('voxaudio', 4), 0.6880386565164474),\n",
       "   (('voxaudio', 9), 0.6732709823801721),\n",
       "   (('text_video', 0), 0.7101836419646813),\n",
       "   (('text_video', 2), 0.6795908341745364),\n",
       "   (('text_video', 4), 0.6650497501750195),\n",
       "   (('text_video', 9), 0.648935767780445),\n",
       "   (('text_voxaudio', 0), 0.731674747436489),\n",
       "   (('text_voxaudio', 2), 0.7011378174835274),\n",
       "   (('text_voxaudio', 4), 0.6877493192177584),\n",
       "   (('text_voxaudio', 9), 0.6731406921578656),\n",
       "   (('video_voxaudio', 0), 0.7197133693957987),\n",
       "   (('video_voxaudio', 2), 0.6932010430546389),\n",
       "   (('video_voxaudio', 4), 0.6821600552548029),\n",
       "   (('video_voxaudio', 9), 0.668702759060409),\n",
       "   (('text_video_voxaudio', 0), 0.7264023237449871),\n",
       "   (('text_video_voxaudio', 2), 0.6949402836576625),\n",
       "   (('text_video_voxaudio', 4), 0.6820762672110356),\n",
       "   (('text_video_voxaudio', 9), 0.6687104509745592)],\n",
       "  10: [(('text', 0), 0.6969406216931839),\n",
       "   (('text', 2), 0.6779100833395695),\n",
       "   (('text', 4), 0.6665541428551505),\n",
       "   (('text', 9), 0.6569759986976763),\n",
       "   (('video', 0), 0.6495389748294895),\n",
       "   (('video', 2), 0.6481408054899305),\n",
       "   (('video', 4), 0.6469574413562629),\n",
       "   (('video', 9), 0.6456775240858363),\n",
       "   (('voxaudio', 0), 0.7096777498921039),\n",
       "   (('voxaudio', 2), 0.6921639276889598),\n",
       "   (('voxaudio', 4), 0.6823480594135107),\n",
       "   (('voxaudio', 9), 0.6698180625306237),\n",
       "   (('text_video', 0), 0.6932110233068345),\n",
       "   (('text_video', 2), 0.6717466855016697),\n",
       "   (('text_video', 4), 0.6609036246733814),\n",
       "   (('text_video', 9), 0.6531249522400088),\n",
       "   (('text_voxaudio', 0), 0.7114929520338535),\n",
       "   (('text_voxaudio', 2), 0.693639813348945),\n",
       "   (('text_voxaudio', 4), 0.6834827785612505),\n",
       "   (('text_voxaudio', 9), 0.6717551541748804),\n",
       "   (('video_voxaudio', 0), 0.7017532824323341),\n",
       "   (('video_voxaudio', 2), 0.684815220773115),\n",
       "   (('video_voxaudio', 4), 0.6775332497096678),\n",
       "   (('video_voxaudio', 9), 0.6650639661364374),\n",
       "   (('text_video_voxaudio', 0), 0.7051243973872957),\n",
       "   (('text_video_voxaudio', 2), 0.6870710503864299),\n",
       "   (('text_video_voxaudio', 4), 0.6775869192259496),\n",
       "   (('text_video_voxaudio', 9), 0.6668775938477353)],\n",
       "  30: [(('text', 0), 0.655522581358392),\n",
       "   (('text', 2), 0.6520026182846841),\n",
       "   (('text', 4), 0.6506420666972346),\n",
       "   (('text', 9), 0.6503488048522519),\n",
       "   (('video', 0), 0.641131399359721),\n",
       "   (('video', 2), 0.639776928615092),\n",
       "   (('video', 4), 0.6393255111178164),\n",
       "   (('video', 9), 0.6401399466879888),\n",
       "   (('voxaudio', 0), 0.6665713182834371),\n",
       "   (('voxaudio', 2), 0.6585886196529799),\n",
       "   (('voxaudio', 4), 0.6542663711451311),\n",
       "   (('voxaudio', 9), 0.6449076972020669),\n",
       "   (('text_video', 0), 0.6527449388787898),\n",
       "   (('text_video', 2), 0.6481239630924828),\n",
       "   (('text_video', 4), 0.6462010009111581),\n",
       "   (('text_video', 9), 0.6437020728188063),\n",
       "   (('text_voxaudio', 0), 0.6691323215447685),\n",
       "   (('text_voxaudio', 2), 0.6594573754666204),\n",
       "   (('text_voxaudio', 4), 0.6547485488188618),\n",
       "   (('text_voxaudio', 9), 0.6440699929755229),\n",
       "   (('video_voxaudio', 0), 0.6634532661386863),\n",
       "   (('video_voxaudio', 2), 0.6557571005129093),\n",
       "   (('video_voxaudio', 4), 0.6525708179223466),\n",
       "   (('video_voxaudio', 9), 0.6426921149542997),\n",
       "   (('text_video_voxaudio', 0), 0.6671052015378259),\n",
       "   (('text_video_voxaudio', 2), 0.658495449009991),\n",
       "   (('text_video_voxaudio', 4), 0.6520885758237636),\n",
       "   (('text_video_voxaudio', 9), 0.6439838774953888)]},\n",
       " \"use_crossval: True | use_all_perspectives: False | predict_only_host: True | clf: <class 'sklearn.ensemble.forest.RandomForestClassifier'>\": {4: [(('text',\n",
       "     0),\n",
       "    0.6610105759327962),\n",
       "   (('text', 2), 0.609304638577546),\n",
       "   (('text', 4), 0.5841364382417231),\n",
       "   (('text', 9), 0.5499382918166179),\n",
       "   (('video', 0), 0.5007938942690195),\n",
       "   (('video', 2), 0.4692929457312055),\n",
       "   (('video', 4), 0.45220162585616885),\n",
       "   (('video', 9), 0.44025144161767915),\n",
       "   (('voxaudio', 0), 0.678038594786425),\n",
       "   (('voxaudio', 2), 0.61411486863142),\n",
       "   (('voxaudio', 4), 0.5835202199275946),\n",
       "   (('voxaudio', 9), 0.5357079052533577),\n",
       "   (('text_video', 0), 0.6167851386247806),\n",
       "   (('text_video', 2), 0.5450081674608273),\n",
       "   (('text_video', 4), 0.5166995409563434),\n",
       "   (('text_video', 9), 0.4714161493723398),\n",
       "   (('text_voxaudio', 0), 0.6799986097189195),\n",
       "   (('text_voxaudio', 2), 0.6154452797783797),\n",
       "   (('text_voxaudio', 4), 0.5844232218433804),\n",
       "   (('text_voxaudio', 9), 0.5377525938369002),\n",
       "   (('video_voxaudio', 0), 0.6513726180493502),\n",
       "   (('video_voxaudio', 2), 0.5703903488622022),\n",
       "   (('video_voxaudio', 4), 0.529792268728395),\n",
       "   (('video_voxaudio', 9), 0.48000724810800743),\n",
       "   (('text_video_voxaudio', 0), 0.6549459530835373),\n",
       "   (('text_video_voxaudio', 2), 0.5720688416458378),\n",
       "   (('text_video_voxaudio', 4), 0.5306133646621429),\n",
       "   (('text_video_voxaudio', 9), 0.482258360554742)],\n",
       "  5: [(('text', 0), 0.6488563108718621),\n",
       "   (('text', 2), 0.6012895048149784),\n",
       "   (('text', 4), 0.5771070608408809),\n",
       "   (('text', 9), 0.5429718178141762),\n",
       "   (('video', 0), 0.4961408636375781),\n",
       "   (('video', 2), 0.4738291586174048),\n",
       "   (('video', 4), 0.45993248691262706),\n",
       "   (('video', 9), 0.44562779148967124),\n",
       "   (('voxaudio', 0), 0.6663894717156114),\n",
       "   (('voxaudio', 2), 0.6082788396656301),\n",
       "   (('voxaudio', 4), 0.5764176193723383),\n",
       "   (('voxaudio', 9), 0.5306688679881971),\n",
       "   (('text_video', 0), 0.606817573201454),\n",
       "   (('text_video', 2), 0.5385671961646292),\n",
       "   (('text_video', 4), 0.509111663495472),\n",
       "   (('text_video', 9), 0.47096553417449094),\n",
       "   (('text_voxaudio', 0), 0.6703526783581633),\n",
       "   (('text_voxaudio', 2), 0.6085701573551601),\n",
       "   (('text_voxaudio', 4), 0.578190658151425),\n",
       "   (('text_voxaudio', 9), 0.5329365381582621),\n",
       "   (('video_voxaudio', 0), 0.636198715957758),\n",
       "   (('video_voxaudio', 2), 0.5636972647401094),\n",
       "   (('video_voxaudio', 4), 0.5255467471521957),\n",
       "   (('video_voxaudio', 9), 0.47854342031408637),\n",
       "   (('text_video_voxaudio', 0), 0.6425273110481579),\n",
       "   (('text_video_voxaudio', 2), 0.5656734844297509),\n",
       "   (('text_video_voxaudio', 4), 0.5280288926577562),\n",
       "   (('text_video_voxaudio', 9), 0.4790474035730507)],\n",
       "  10: [(('text', 0), 0.5997132341990647),\n",
       "   (('text', 2), 0.5687789391482486),\n",
       "   (('text', 4), 0.5476845200321258),\n",
       "   (('text', 9), 0.5161244442874682),\n",
       "   (('video', 0), 0.4803737958392982),\n",
       "   (('video', 2), 0.4635754234011403),\n",
       "   (('video', 4), 0.45194604022274076),\n",
       "   (('video', 9), 0.4423952820766397),\n",
       "   (('voxaudio', 0), 0.6080848875850602),\n",
       "   (('voxaudio', 2), 0.5644101287317873),\n",
       "   (('voxaudio', 4), 0.5395252906721857),\n",
       "   (('voxaudio', 9), 0.4967783973670586),\n",
       "   (('text_video', 0), 0.5439726909044715),\n",
       "   (('text_video', 2), 0.504538550912345),\n",
       "   (('text_video', 4), 0.48653421632536437),\n",
       "   (('text_video', 9), 0.4568981375974082),\n",
       "   (('text_voxaudio', 0), 0.6148762592956907),\n",
       "   (('text_voxaudio', 2), 0.5683286322096256),\n",
       "   (('text_voxaudio', 4), 0.5406847294151207),\n",
       "   (('text_voxaudio', 9), 0.5005179097369329),\n",
       "   (('video_voxaudio', 0), 0.5694084534538677),\n",
       "   (('video_voxaudio', 2), 0.5227395950838656),\n",
       "   (('video_voxaudio', 4), 0.497870277138816),\n",
       "   (('video_voxaudio', 9), 0.4645496961340189),\n",
       "   (('text_video_voxaudio', 0), 0.5779296634906937),\n",
       "   (('text_video_voxaudio', 2), 0.5251805756191568),\n",
       "   (('text_video_voxaudio', 4), 0.500683209982378),\n",
       "   (('text_video_voxaudio', 9), 0.46610585941219285)],\n",
       "  30: [(('text', 0), 0.4933723186752541),\n",
       "   (('text', 2), 0.47651288673075987),\n",
       "   (('text', 4), 0.4656432579898997),\n",
       "   (('text', 9), 0.44231404794101925),\n",
       "   (('video', 0), 0.4464367539191999),\n",
       "   (('video', 2), 0.4391083456217009),\n",
       "   (('video', 4), 0.4408690683661513),\n",
       "   (('video', 9), 0.4322265554791917),\n",
       "   (('voxaudio', 0), 0.48671315576468305),\n",
       "   (('voxaudio', 2), 0.46577375762105994),\n",
       "   (('voxaudio', 4), 0.447201454542995),\n",
       "   (('voxaudio', 9), 0.42851484126840794),\n",
       "   (('text_video', 0), 0.47188763215220025),\n",
       "   (('text_video', 2), 0.4522496132036723),\n",
       "   (('text_video', 4), 0.44336396284368307),\n",
       "   (('text_video', 9), 0.4335573453458895),\n",
       "   (('text_voxaudio', 0), 0.48777354041990667),\n",
       "   (('text_voxaudio', 2), 0.46528456791691547),\n",
       "   (('text_voxaudio', 4), 0.4510603295932203),\n",
       "   (('text_voxaudio', 9), 0.42866463220803874),\n",
       "   (('video_voxaudio', 0), 0.47742363168074126),\n",
       "   (('video_voxaudio', 2), 0.4606701956310766),\n",
       "   (('video_voxaudio', 4), 0.45027137387684446),\n",
       "   (('video_voxaudio', 9), 0.43248439088911655),\n",
       "   (('text_video_voxaudio', 0), 0.4819835828343482),\n",
       "   (('text_video_voxaudio', 2), 0.4606489981881188),\n",
       "   (('text_video_voxaudio', 4), 0.45014338075659044),\n",
       "   (('text_video_voxaudio', 9), 0.4303814556586977)]}}"
      ]
     },
     "execution_count": 18,
     "metadata": {},
     "output_type": "execute_result"
    }
   ],
   "source": [
    "all_results"
   ]
  },
  {
   "cell_type": "code",
   "execution_count": null,
   "metadata": {},
   "outputs": [
    {
     "name": "stdout",
     "output_type": "stream",
     "text": [
      "use_crossval: False | use_all_perspectives: True | predict_only_host: True | clf: <class 'sklearn.naive_bayes.GaussianNB'>\n",
      "(136431, 2881)\n"
     ]
    },
    {
     "name": "stderr",
     "output_type": "stream",
     "text": [
      "\n",
      "\n",
      "  0%|          | 0/28 [00:00<?, ?it/s]\u001b[A\u001b[A"
     ]
    },
    {
     "name": "stdout",
     "output_type": "stream",
     "text": [
      "text label_shift: 0 (30679, 900) (30679,) num feats 300 0.6234794361845917\n"
     ]
    },
    {
     "name": "stderr",
     "output_type": "stream",
     "text": [
      "\n",
      "\n",
      "  4%|▎         | 1/28 [00:58<26:11, 58.21s/it]\u001b[A\u001b[A"
     ]
    },
    {
     "name": "stdout",
     "output_type": "stream",
     "text": [
      "text label_shift: 4 (30539, 900) (30539,) num feats 300 0.5665436176413444\n",
      "text label_shift: 2 (30609, 900) (30609,) num feats 300 0.5829943831105946\n",
      "text label_shift: 9 (30364, 900) (30364,) num feats 300 0.539455649109066\n"
     ]
    },
    {
     "name": "stderr",
     "output_type": "stream",
     "text": [
      "\n",
      "\n",
      "  7%|▋         | 2/28 [01:24<21:04, 48.63s/it]\u001b[A\u001b[A\n",
      "\n",
      " 14%|█▍        | 4/28 [01:24<13:37, 34.06s/it]\u001b[A\u001b[A"
     ]
    },
    {
     "name": "stdout",
     "output_type": "stream",
     "text": [
      "video label_shift: 0 (30679, 6144) (30679,) num feats 2048 0.5514578103881058\n"
     ]
    },
    {
     "name": "stderr",
     "output_type": "stream",
     "text": [
      "\n",
      "\n",
      " 18%|█▊        | 5/28 [01:31<09:58, 26.01s/it]\u001b[A\u001b[A"
     ]
    },
    {
     "name": "stdout",
     "output_type": "stream",
     "text": [
      "video label_shift: 2 (30609, 6144) (30609,) num feats 2048 0.536897152818129\n"
     ]
    },
    {
     "name": "stderr",
     "output_type": "stream",
     "text": [
      "\n",
      "\n",
      " 21%|██▏       | 6/28 [01:57<09:30, 25.93s/it]\u001b[A\u001b[A"
     ]
    },
    {
     "name": "stdout",
     "output_type": "stream",
     "text": [
      "voxaudio label_shift: 0 (30679, 1536) (30679,) num feats 512 0.6481946321683723\n",
      "voxaudio label_shift: 2 (30609, 1536) (30609,) num feats 512 0.5953902769707534\n",
      "video label_shift: 4 (30539, 6144) (30539,) num feats 2048 0.534874684282106\n"
     ]
    },
    {
     "name": "stderr",
     "output_type": "stream",
     "text": [
      "\n",
      "\n",
      " 25%|██▌       | 7/28 [02:55<12:28, 35.64s/it]\u001b[A\u001b[A"
     ]
    },
    {
     "name": "stdout",
     "output_type": "stream",
     "text": [
      "voxaudio label_shift: 4 (30539, 1536) (30539,) num feats 512 0.5686807849232562\n",
      "video label_shift: 9 (30364, 6144) (30364,) num feats 2048 0.5337771685921284\n"
     ]
    },
    {
     "name": "stderr",
     "output_type": "stream",
     "text": [
      "\n",
      "\n",
      " 29%|██▊       | 8/28 [03:19<10:41, 32.07s/it]\u001b[A\u001b[A"
     ]
    },
    {
     "name": "stdout",
     "output_type": "stream",
     "text": [
      "voxaudio label_shift: 9 (30364, 1536) (30364,) num feats 512 0.5402388878010573\n"
     ]
    },
    {
     "name": "stderr",
     "output_type": "stream",
     "text": [
      "\n",
      "\n",
      " 43%|████▎     | 12/28 [03:25<06:06, 22.92s/it]\u001b[A\u001b[A"
     ]
    },
    {
     "name": "stdout",
     "output_type": "stream",
     "text": [
      "text_video label_shift: 0 (30679, 7044) (30679,) num feats 2348 0.5945163158910987\n"
     ]
    },
    {
     "name": "stderr",
     "output_type": "stream",
     "text": [
      "\n",
      "\n",
      " 46%|████▋     | 13/28 [04:03<06:48, 27.21s/it]\u001b[A\u001b[A"
     ]
    },
    {
     "name": "stdout",
     "output_type": "stream",
     "text": [
      "text_voxaudio label_shift: 0 (30679, 2436) (30679,) num feats 812 0.6570766557250435\n",
      "text_video label_shift: 2 (30609, 7044) (30609,) num feats 2348 0.5614952546968817\n"
     ]
    },
    {
     "name": "stderr",
     "output_type": "stream",
     "text": [
      "\n",
      "\n",
      " 50%|█████     | 14/28 [04:55<08:06, 34.77s/it]\u001b[A\u001b[A"
     ]
    },
    {
     "name": "stdout",
     "output_type": "stream",
     "text": [
      "text_video label_shift: 4 (30539, 7044) (30539,) num feats 2348 0.555469205362347\n"
     ]
    },
    {
     "name": "stderr",
     "output_type": "stream",
     "text": [
      "\n",
      "\n",
      " 54%|█████▎    | 15/28 [04:57<05:25, 25.07s/it]\u001b[A\u001b[A"
     ]
    },
    {
     "name": "stdout",
     "output_type": "stream",
     "text": [
      "text_video label_shift: 9 (30364, 7044) (30364,) num feats 2348 0.5435676522420207\n"
     ]
    },
    {
     "name": "stderr",
     "output_type": "stream",
     "text": [
      "\n",
      "\n",
      " 57%|█████▋    | 16/28 [05:02<03:46, 18.91s/it]\u001b[A\u001b[A"
     ]
    },
    {
     "name": "stdout",
     "output_type": "stream",
     "text": [
      "text_voxaudio label_shift: 2 (30609, 2436) (30609,) num feats 812 0.5990703079604881\n"
     ]
    },
    {
     "name": "stderr",
     "output_type": "stream",
     "text": [
      "\n",
      "\n",
      " 64%|██████▍   | 18/28 [05:04<02:15, 13.54s/it]\u001b[A\u001b[A"
     ]
    },
    {
     "name": "stdout",
     "output_type": "stream",
     "text": [
      "text_voxaudio label_shift: 4 (30539, 2436) (30539,) num feats 812 0.5811152127452885\n"
     ]
    },
    {
     "name": "stderr",
     "output_type": "stream",
     "text": [
      "\n",
      "\n",
      " 68%|██████▊   | 19/28 [05:37<02:54, 19.42s/it]\u001b[A\u001b[A"
     ]
    },
    {
     "name": "stdout",
     "output_type": "stream",
     "text": [
      "text_voxaudio label_shift: 9 (30364, 2436) (30364,) num feats 812 0.5461131779909928\n"
     ]
    },
    {
     "name": "stderr",
     "output_type": "stream",
     "text": [
      "\n",
      "\n",
      " 71%|███████▏  | 20/28 [06:02<02:47, 20.91s/it]\u001b[A\u001b[A"
     ]
    },
    {
     "name": "stdout",
     "output_type": "stream",
     "text": [
      "video_voxaudio label_shift: 0 (30679, 7680) (30679,) num feats 2560 0.6346785093647422\n"
     ]
    },
    {
     "name": "stderr",
     "output_type": "stream",
     "text": [
      "\n",
      "\n",
      " 75%|███████▌  | 21/28 [06:37<02:55, 25.13s/it]\u001b[A\u001b[A"
     ]
    },
    {
     "name": "stdout",
     "output_type": "stream",
     "text": [
      "video_voxaudio label_shift: 2 (30609, 7680) (30609,) num feats 2560 0.5814448963780747\n"
     ]
    },
    {
     "name": "stderr",
     "output_type": "stream",
     "text": [
      "\n",
      "\n",
      " 79%|███████▊  | 22/28 [07:07<02:39, 26.62s/it]\u001b[A\u001b[A"
     ]
    },
    {
     "name": "stdout",
     "output_type": "stream",
     "text": [
      "video_voxaudio label_shift: 4 (30539, 7680) (30539,) num feats 2560 0.5686807849232562\n"
     ]
    },
    {
     "name": "stderr",
     "output_type": "stream",
     "text": [
      "\n",
      "\n",
      " 82%|████████▏ | 23/28 [07:12<01:40, 20.13s/it]\u001b[A\u001b[A"
     ]
    },
    {
     "name": "stdout",
     "output_type": "stream",
     "text": [
      "video_voxaudio label_shift: 9 (30364, 7680) (30364,) num feats 2560 0.5615821421578227\n"
     ]
    },
    {
     "name": "stderr",
     "output_type": "stream",
     "text": [
      "\n",
      "\n",
      " 86%|████████▌ | 24/28 [07:16<01:01, 15.38s/it]\u001b[A\u001b[A"
     ]
    },
    {
     "name": "stdout",
     "output_type": "stream",
     "text": [
      "text_video_voxaudio label_shift: 0 (30679, 8580) (30679,) num feats 2860 0.6420158331724272\n"
     ]
    },
    {
     "name": "stderr",
     "output_type": "stream",
     "text": [
      "\n",
      "\n",
      " 89%|████████▉ | 25/28 [07:27<00:42, 14.06s/it]\u001b[A\u001b[A"
     ]
    },
    {
     "name": "stdout",
     "output_type": "stream",
     "text": [
      "text_video_voxaudio label_shift: 2 (30609, 8580) (30609,) num feats 2860 0.590548130931629\n"
     ]
    },
    {
     "name": "stderr",
     "output_type": "stream",
     "text": [
      "\n",
      "\n",
      " 93%|█████████▎| 26/28 [08:14<00:48, 24.12s/it]\u001b[A\u001b[A"
     ]
    },
    {
     "name": "stdout",
     "output_type": "stream",
     "text": [
      "text_video_voxaudio label_shift: 4 (30539, 8580) (30539,) num feats 2860 0.5772294540509034\n"
     ]
    },
    {
     "name": "stderr",
     "output_type": "stream",
     "text": [
      "\n",
      "\n",
      " 96%|█████████▋| 27/28 [08:50<00:27, 27.62s/it]\u001b[A\u001b[A"
     ]
    },
    {
     "name": "stdout",
     "output_type": "stream",
     "text": [
      "text_video_voxaudio label_shift: 9 (30364, 8580) (30364,) num feats 2860 0.5611905228118269\n"
     ]
    },
    {
     "name": "stderr",
     "output_type": "stream",
     "text": [
      "\n",
      "\n",
      "100%|██████████| 28/28 [09:18<00:00, 27.63s/it]\u001b[A\u001b[A"
     ]
    },
    {
     "name": "stdout",
     "output_type": "stream",
     "text": [
      "use_crossval: False | use_all_perspectives: True | predict_only_host: True | clf: <class 'sklearn.naive_bayes.GaussianNB'>\n",
      "{4: [(('text', 0), 0.6234794361845917), (('text', 2), 0.5829943831105946), (('text', 4), 0.5665436176413444), (('text', 9), 0.539455649109066), (('video', 0), 0.5514578103881058), (('video', 2), 0.536897152818129), (('video', 4), 0.534874684282106), (('video', 9), 0.5337771685921284), (('voxaudio', 0), 0.6481946321683723), (('voxaudio', 2), 0.5953902769707534), (('voxaudio', 4), 0.5686807849232562), (('voxaudio', 9), 0.5402388878010573), (('text_video', 0), 0.5945163158910987), (('text_video', 2), 0.5614952546968817), (('text_video', 4), 0.555469205362347), (('text_video', 9), 0.5435676522420207), (('text_voxaudio', 0), 0.6570766557250435), (('text_voxaudio', 2), 0.5990703079604881), (('text_voxaudio', 4), 0.5811152127452885), (('text_voxaudio', 9), 0.5461131779909928), (('video_voxaudio', 0), 0.6346785093647422), (('video_voxaudio', 2), 0.5814448963780747), (('video_voxaudio', 4), 0.5686807849232562), (('video_voxaudio', 9), 0.5615821421578227), (('text_video_voxaudio', 0), 0.6420158331724272), (('text_video_voxaudio', 2), 0.590548130931629), (('text_video_voxaudio', 4), 0.5772294540509034), (('text_video_voxaudio', 9), 0.5611905228118269)]}\n",
      "(132008, 2881)\n"
     ]
    },
    {
     "name": "stderr",
     "output_type": "stream",
     "text": [
      "\n",
      "\n",
      "  0%|          | 0/28 [00:00<?, ?it/s]\u001b[A\u001b[A"
     ]
    },
    {
     "name": "stdout",
     "output_type": "stream",
     "text": [
      "text label_shift: 0 (27388, 900) (27388,) num feats 300 0.6183473389355743\n"
     ]
    },
    {
     "name": "stderr",
     "output_type": "stream",
     "text": [
      "\n",
      "\n",
      "  4%|▎         | 1/28 [00:57<26:00, 57.81s/it]\u001b[A\u001b[A"
     ]
    },
    {
     "name": "stdout",
     "output_type": "stream",
     "text": [
      "text label_shift: 9 (27082, 900) (27082,) num feats 300 0.5132978723404256\n",
      "text label_shift: 2 (27320, 900) (27320,) num feats 300 0.5660112359550562\n"
     ]
    },
    {
     "name": "stderr",
     "output_type": "stream",
     "text": [
      "\n",
      "\n",
      "  7%|▋         | 2/28 [01:23<20:50, 48.10s/it]\u001b[A\u001b[A"
     ]
    },
    {
     "name": "stdout",
     "output_type": "stream",
     "text": [
      "text label_shift: 4 (27252, 900) (27252,) num feats 300 0.5521126760563381\n"
     ]
    },
    {
     "name": "stderr",
     "output_type": "stream",
     "text": [
      "\n",
      "\n",
      " 11%|█         | 3/28 [01:23<14:03, 33.73s/it]\u001b[A\u001b[A"
     ]
    },
    {
     "name": "stdout",
     "output_type": "stream",
     "text": [
      "video label_shift: 0 (27388, 6144) (27388,) num feats 2048 0.5689775910364145\n"
     ]
    },
    {
     "name": "stderr",
     "output_type": "stream",
     "text": [
      "\n",
      "\n",
      " 18%|█▊        | 5/28 [01:31<09:30, 24.79s/it]\u001b[A\u001b[A"
     ]
    },
    {
     "name": "stdout",
     "output_type": "stream",
     "text": [
      "video label_shift: 2 (27320, 6144) (27320,) num feats 2048 0.5626755617977528\n"
     ]
    },
    {
     "name": "stderr",
     "output_type": "stream",
     "text": [
      "\n",
      "\n",
      " 21%|██▏       | 6/28 [01:56<09:06, 24.83s/it]\u001b[A\u001b[A"
     ]
    },
    {
     "name": "stdout",
     "output_type": "stream",
     "text": [
      "voxaudio label_shift: 0 (27388, 1536) (27388,) num feats 512 0.6411064425770309\n",
      "voxaudio label_shift: 2 (27320, 1536) (27320,) num feats 512 0.5935744382022472\n",
      "video label_shift: 4 (27252, 6144) (27252,) num feats 2048 0.5619718309859155\n"
     ]
    },
    {
     "name": "stderr",
     "output_type": "stream",
     "text": [
      "\n",
      "\n",
      " 25%|██▌       | 7/28 [02:53<12:06, 34.58s/it]\u001b[A\u001b[A"
     ]
    },
    {
     "name": "stdout",
     "output_type": "stream",
     "text": [
      "voxaudio label_shift: 4 (27252, 1536) (27252,) num feats 512 0.5732394366197183\n",
      "video label_shift: 9 (27082, 6144) (27082,) num feats 2048 0.5606382978723404\n"
     ]
    },
    {
     "name": "stderr",
     "output_type": "stream",
     "text": [
      "\n",
      "\n",
      " 29%|██▊       | 8/28 [03:17<10:26, 31.31s/it]\u001b[A\u001b[A"
     ]
    },
    {
     "name": "stdout",
     "output_type": "stream",
     "text": [
      "voxaudio label_shift: 9 (27082, 1536) (27082,) num feats 512 0.5452127659574468\n"
     ]
    },
    {
     "name": "stderr",
     "output_type": "stream",
     "text": [
      "\n",
      "\n",
      " 43%|████▎     | 12/28 [03:23<05:57, 22.36s/it]\u001b[A\u001b[A"
     ]
    },
    {
     "name": "stdout",
     "output_type": "stream",
     "text": [
      "text_video label_shift: 0 (27388, 7044) (27388,) num feats 2348 0.601890756302521\n"
     ]
    },
    {
     "name": "stderr",
     "output_type": "stream",
     "text": [
      "\n",
      "\n",
      " 46%|████▋     | 13/28 [04:07<07:12, 28.82s/it]\u001b[A\u001b[A"
     ]
    },
    {
     "name": "stdout",
     "output_type": "stream",
     "text": [
      "text_voxaudio label_shift: 0 (27388, 2436) (27388,) num feats 812 0.6502100840336135\n",
      "text_video label_shift: 2 (27320, 7044) (27320,) num feats 2348 0.5784761235955056\n"
     ]
    },
    {
     "name": "stderr",
     "output_type": "stream",
     "text": [
      "\n",
      "\n",
      " 50%|█████     | 14/28 [04:51<07:49, 33.50s/it]\u001b[A\u001b[A"
     ]
    },
    {
     "name": "stdout",
     "output_type": "stream",
     "text": [
      "text_video label_shift: 4 (27252, 7044) (27252,) num feats 2348 0.5767605633802817\n",
      "text_voxaudio label_shift: 2 (27320, 2436) (27320,) num feats 812 0.598314606741573\n"
     ]
    },
    {
     "name": "stderr",
     "output_type": "stream",
     "text": [
      "\n",
      "\n",
      " 54%|█████▎    | 15/28 [04:57<05:27, 25.20s/it]\u001b[A\u001b[A"
     ]
    },
    {
     "name": "stdout",
     "output_type": "stream",
     "text": [
      "text_video label_shift: 9 (27082, 7044) (27082,) num feats 2348 0.5695035460992908\n"
     ]
    },
    {
     "name": "stderr",
     "output_type": "stream",
     "text": [
      "\n",
      "\n",
      " 57%|█████▋    | 16/28 [04:57<03:32, 17.74s/it]\u001b[A\u001b[A"
     ]
    },
    {
     "name": "stdout",
     "output_type": "stream",
     "text": [
      "text_voxaudio label_shift: 4 (27252, 2436) (27252,) num feats 812 0.5765845070422535\n"
     ]
    },
    {
     "name": "stderr",
     "output_type": "stream",
     "text": [
      "\n",
      "\n",
      " 68%|██████▊   | 19/28 [05:44<02:34, 17.16s/it]\u001b[A\u001b[A"
     ]
    },
    {
     "name": "stdout",
     "output_type": "stream",
     "text": [
      "text_voxaudio label_shift: 9 (27082, 2436) (27082,) num feats 812 0.5427304964539007\n"
     ]
    },
    {
     "name": "stderr",
     "output_type": "stream",
     "text": [
      "\n",
      "\n",
      " 71%|███████▏  | 20/28 [05:57<02:06, 15.83s/it]\u001b[A\u001b[A"
     ]
    },
    {
     "name": "stdout",
     "output_type": "stream",
     "text": [
      "video_voxaudio label_shift: 0 (27388, 7680) (27388,) num feats 2560 0.6260504201680672\n"
     ]
    },
    {
     "name": "stderr",
     "output_type": "stream",
     "text": [
      "\n",
      "\n",
      " 75%|███████▌  | 21/28 [06:32<02:29, 21.41s/it]\u001b[A\u001b[A"
     ]
    },
    {
     "name": "stdout",
     "output_type": "stream",
     "text": [
      "video_voxaudio label_shift: 2 (27320, 7680) (27320,) num feats 2560 0.5953300561797753\n"
     ]
    },
    {
     "name": "stderr",
     "output_type": "stream",
     "text": [
      "\n",
      "\n",
      " 79%|███████▊  | 22/28 [07:03<02:25, 24.25s/it]\u001b[A\u001b[A"
     ]
    },
    {
     "name": "stdout",
     "output_type": "stream",
     "text": [
      "video_voxaudio label_shift: 4 (27252, 7680) (27252,) num feats 2560 0.5802816901408451\n",
      "video_voxaudio label_shift: 9 (27082, 7680) (27082,) num feats 2560 0.573936170212766\n"
     ]
    },
    {
     "name": "stderr",
     "output_type": "stream",
     "text": [
      "\n",
      "\n",
      " 82%|████████▏ | 23/28 [07:03<01:26, 17.26s/it]\u001b[A\u001b[A"
     ]
    },
    {
     "name": "stdout",
     "output_type": "stream",
     "text": [
      "text_video_voxaudio label_shift: 0 (27388, 8580) (27388,) num feats 2860 0.6391806722689075\n"
     ]
    },
    {
     "name": "stderr",
     "output_type": "stream",
     "text": [
      "\n",
      "\n",
      " 89%|████████▉ | 25/28 [07:34<00:49, 16.63s/it]\u001b[A\u001b[A"
     ]
    },
    {
     "name": "stdout",
     "output_type": "stream",
     "text": [
      "text_video_voxaudio label_shift: 2 (27320, 8580) (27320,) num feats 2860 0.6014747191011236\n"
     ]
    },
    {
     "name": "stderr",
     "output_type": "stream",
     "text": [
      "\n",
      "\n",
      " 93%|█████████▎| 26/28 [08:11<00:45, 22.70s/it]\u001b[A\u001b[A"
     ]
    },
    {
     "name": "stdout",
     "output_type": "stream",
     "text": [
      "text_video_voxaudio label_shift: 4 (27252, 8580) (27252,) num feats 2860 0.5894366197183099\n"
     ]
    },
    {
     "name": "stderr",
     "output_type": "stream",
     "text": [
      "\n",
      "\n",
      " 96%|█████████▋| 27/28 [08:43<00:25, 25.68s/it]\u001b[A\u001b[A"
     ]
    },
    {
     "name": "stdout",
     "output_type": "stream",
     "text": [
      "text_video_voxaudio label_shift: 9 (27082, 8580) (27082,) num feats 2860 0.573758865248227\n"
     ]
    },
    {
     "name": "stderr",
     "output_type": "stream",
     "text": [
      "\n",
      "\n",
      "100%|██████████| 28/28 [09:13<00:00, 26.97s/it]\u001b[A\u001b[A"
     ]
    },
    {
     "name": "stdout",
     "output_type": "stream",
     "text": [
      "use_crossval: False | use_all_perspectives: True | predict_only_host: True | clf: <class 'sklearn.naive_bayes.GaussianNB'>\n",
      "{4: [(('text', 0), 0.6234794361845917), (('text', 2), 0.5829943831105946), (('text', 4), 0.5665436176413444), (('text', 9), 0.539455649109066), (('video', 0), 0.5514578103881058), (('video', 2), 0.536897152818129), (('video', 4), 0.534874684282106), (('video', 9), 0.5337771685921284), (('voxaudio', 0), 0.6481946321683723), (('voxaudio', 2), 0.5953902769707534), (('voxaudio', 4), 0.5686807849232562), (('voxaudio', 9), 0.5402388878010573), (('text_video', 0), 0.5945163158910987), (('text_video', 2), 0.5614952546968817), (('text_video', 4), 0.555469205362347), (('text_video', 9), 0.5435676522420207), (('text_voxaudio', 0), 0.6570766557250435), (('text_voxaudio', 2), 0.5990703079604881), (('text_voxaudio', 4), 0.5811152127452885), (('text_voxaudio', 9), 0.5461131779909928), (('video_voxaudio', 0), 0.6346785093647422), (('video_voxaudio', 2), 0.5814448963780747), (('video_voxaudio', 4), 0.5686807849232562), (('video_voxaudio', 9), 0.5615821421578227), (('text_video_voxaudio', 0), 0.6420158331724272), (('text_video_voxaudio', 2), 0.590548130931629), (('text_video_voxaudio', 4), 0.5772294540509034), (('text_video_voxaudio', 9), 0.5611905228118269)], 5: [(('text', 0), 0.6183473389355743), (('text', 2), 0.5660112359550562), (('text', 4), 0.5521126760563381), (('text', 9), 0.5132978723404256), (('video', 0), 0.5689775910364145), (('video', 2), 0.5626755617977528), (('video', 4), 0.5619718309859155), (('video', 9), 0.5606382978723404), (('voxaudio', 0), 0.6411064425770309), (('voxaudio', 2), 0.5935744382022472), (('voxaudio', 4), 0.5732394366197183), (('voxaudio', 9), 0.5452127659574468), (('text_video', 0), 0.601890756302521), (('text_video', 2), 0.5784761235955056), (('text_video', 4), 0.5767605633802817), (('text_video', 9), 0.5695035460992908), (('text_voxaudio', 0), 0.6502100840336135), (('text_voxaudio', 2), 0.598314606741573), (('text_voxaudio', 4), 0.5765845070422535), (('text_voxaudio', 9), 0.5427304964539007), (('video_voxaudio', 0), 0.6260504201680672), (('video_voxaudio', 2), 0.5953300561797753), (('video_voxaudio', 4), 0.5802816901408451), (('video_voxaudio', 9), 0.573936170212766), (('text_video_voxaudio', 0), 0.6391806722689075), (('text_video_voxaudio', 2), 0.6014747191011236), (('text_video_voxaudio', 4), 0.5894366197183099), (('text_video_voxaudio', 9), 0.573758865248227)]}\n",
      "(131113, 2881)\n"
     ]
    },
    {
     "name": "stderr",
     "output_type": "stream",
     "text": [
      "\n",
      "\n",
      "  0%|          | 0/28 [00:00<?, ?it/s]\u001b[A\u001b[A"
     ]
    },
    {
     "name": "stdout",
     "output_type": "stream",
     "text": [
      "text label_shift: 0 (28585, 900) (28585,) num feats 300 0.578984485190409\n"
     ]
    },
    {
     "name": "stderr",
     "output_type": "stream",
     "text": [
      "\n",
      "\n",
      "  4%|▎         | 1/28 [00:57<25:49, 57.38s/it]\u001b[A\u001b[A"
     ]
    },
    {
     "name": "stdout",
     "output_type": "stream",
     "text": [
      "text label_shift: 9 (28279, 900) (28279,) num feats 300 0.5141071428571429\n",
      "text label_shift: 4 (28449, 900) (28449,) num feats 300 0.5342198581560283\n",
      "text label_shift: 2 (28517, 900) (28517,) num feats 300 0.5477369165487977\n"
     ]
    },
    {
     "name": "stderr",
     "output_type": "stream",
     "text": [
      "\n",
      "\n",
      "  7%|▋         | 2/28 [01:23<20:45, 47.92s/it]\u001b[A\u001b[A"
     ]
    },
    {
     "name": "stdout",
     "output_type": "stream",
     "text": [
      "video label_shift: 0 (28585, 6144) (28585,) num feats 2048 0.5756346967559943\n"
     ]
    },
    {
     "name": "stderr",
     "output_type": "stream",
     "text": [
      "\n",
      "\n",
      " 18%|█▊        | 5/28 [01:31<13:09, 34.34s/it]\u001b[A\u001b[A"
     ]
    },
    {
     "name": "stdout",
     "output_type": "stream",
     "text": [
      "video label_shift: 2 (28517, 6144) (28517,) num feats 2048 0.570898161244696\n"
     ]
    },
    {
     "name": "stderr",
     "output_type": "stream",
     "text": [
      "\n",
      "\n",
      " 21%|██▏       | 6/28 [01:56<11:34, 31.56s/it]\u001b[A\u001b[A"
     ]
    },
    {
     "name": "stdout",
     "output_type": "stream",
     "text": [
      "voxaudio label_shift: 0 (28585, 1536) (28585,) num feats 512 0.6126586741889986\n",
      "voxaudio label_shift: 2 (28517, 1536) (28517,) num feats 512 0.579031117397454\n",
      "video label_shift: 4 (28449, 6144) (28449,) num feats 2048 0.5656028368794326\n"
     ]
    },
    {
     "name": "stderr",
     "output_type": "stream",
     "text": [
      "\n",
      "\n",
      " 25%|██▌       | 7/28 [02:51<13:33, 38.73s/it]\u001b[A\u001b[A"
     ]
    },
    {
     "name": "stdout",
     "output_type": "stream",
     "text": [
      "voxaudio label_shift: 4 (28449, 1536) (28449,) num feats 512 0.5668439716312057\n",
      "video label_shift: 9 (28279, 6144) (28279,) num feats 2048 0.54625\n"
     ]
    },
    {
     "name": "stderr",
     "output_type": "stream",
     "text": [
      "\n",
      "\n",
      " 29%|██▊       | 8/28 [03:18<11:41, 35.10s/it]\u001b[A\u001b[A"
     ]
    },
    {
     "name": "stdout",
     "output_type": "stream",
     "text": [
      "voxaudio label_shift: 9 (28279, 1536) (28279,) num feats 512 0.55375\n"
     ]
    },
    {
     "name": "stderr",
     "output_type": "stream",
     "text": [
      "\n",
      "\n",
      " 43%|████▎     | 12/28 [03:22<06:37, 24.86s/it]\u001b[A\u001b[A"
     ]
    },
    {
     "name": "stdout",
     "output_type": "stream",
     "text": [
      "text_video label_shift: 0 (28585, 7044) (28585,) num feats 2348 0.6004936530324401\n"
     ]
    },
    {
     "name": "stderr",
     "output_type": "stream",
     "text": [
      "\n",
      "\n",
      " 46%|████▋     | 13/28 [04:00<07:13, 28.90s/it]\u001b[A\u001b[A"
     ]
    },
    {
     "name": "stdout",
     "output_type": "stream",
     "text": [
      "text_voxaudio label_shift: 0 (28585, 2436) (28585,) num feats 812 0.6140691114245416\n",
      "text_video label_shift: 4 (28449, 7044) (28449,) num feats 2348 0.574645390070922\n",
      "text_video label_shift: 2 (28517, 7044) (28517,) num feats 2348 0.5774398868458275\n"
     ]
    },
    {
     "name": "stderr",
     "output_type": "stream",
     "text": [
      "\n",
      "\n",
      " 50%|█████     | 14/28 [04:53<08:23, 36.00s/it]\u001b[A\u001b[A"
     ]
    },
    {
     "name": "stdout",
     "output_type": "stream",
     "text": [
      "text_voxaudio label_shift: 2 (28517, 2436) (28517,) num feats 812 0.5756718528995757\n",
      "text_video label_shift: 9 (28279, 7044) (28279,) num feats 2348 0.5510714285714285\n"
     ]
    },
    {
     "name": "stderr",
     "output_type": "stream",
     "text": [
      "\n",
      "\n",
      " 57%|█████▋    | 16/28 [04:58<05:12, 26.08s/it]\u001b[A\u001b[A"
     ]
    },
    {
     "name": "stdout",
     "output_type": "stream",
     "text": [
      "text_voxaudio label_shift: 4 (28449, 2436) (28449,) num feats 812 0.5641843971631205\n"
     ]
    },
    {
     "name": "stderr",
     "output_type": "stream",
     "text": [
      "\n",
      "\n",
      " 68%|██████▊   | 19/28 [05:34<03:16, 21.85s/it]\u001b[A\u001b[A"
     ]
    },
    {
     "name": "stdout",
     "output_type": "stream",
     "text": [
      "text_voxaudio label_shift: 9 (28279, 2436) (28279,) num feats 812 0.54625\n"
     ]
    },
    {
     "name": "stderr",
     "output_type": "stream",
     "text": [
      "\n",
      "\n",
      " 71%|███████▏  | 20/28 [05:58<02:59, 22.48s/it]\u001b[A\u001b[A"
     ]
    },
    {
     "name": "stdout",
     "output_type": "stream",
     "text": [
      "video_voxaudio label_shift: 0 (28585, 7680) (28585,) num feats 2560 0.610543018335684\n"
     ]
    },
    {
     "name": "stderr",
     "output_type": "stream",
     "text": [
      "\n",
      "\n",
      " 75%|███████▌  | 21/28 [06:34<03:05, 26.57s/it]\u001b[A\u001b[A"
     ]
    },
    {
     "name": "stdout",
     "output_type": "stream",
     "text": [
      "video_voxaudio label_shift: 4 (28449, 7680) (28449,) num feats 2560 0.5822695035460993\n",
      "video_voxaudio label_shift: 2 (28517, 7680) (28517,) num feats 2560 0.5868104667609618\n"
     ]
    },
    {
     "name": "stderr",
     "output_type": "stream",
     "text": [
      "\n",
      "\n",
      " 79%|███████▊  | 22/28 [07:00<02:37, 26.19s/it]\u001b[A\u001b[A"
     ]
    },
    {
     "name": "stdout",
     "output_type": "stream",
     "text": [
      "video_voxaudio label_shift: 9 (28279, 7680) (28279,) num feats 2560 0.5682142857142857\n"
     ]
    },
    {
     "name": "stderr",
     "output_type": "stream",
     "text": [
      "\n",
      "\n",
      " 86%|████████▌ | 24/28 [07:04<01:15, 18.96s/it]\u001b[A\u001b[A"
     ]
    },
    {
     "name": "stdout",
     "output_type": "stream",
     "text": [
      "text_video_voxaudio label_shift: 0 (28585, 8580) (28585,) num feats 2860 0.6160084626234132\n"
     ]
    },
    {
     "name": "stderr",
     "output_type": "stream",
     "text": [
      "\n",
      "\n",
      " 89%|████████▉ | 25/28 [07:23<00:57, 19.10s/it]\u001b[A\u001b[A"
     ]
    },
    {
     "name": "stdout",
     "output_type": "stream",
     "text": [
      "text_video_voxaudio label_shift: 2 (28517, 8580) (28517,) num feats 2860 0.5885785007072136\n"
     ]
    },
    {
     "name": "stderr",
     "output_type": "stream",
     "text": [
      "\n",
      "\n",
      " 93%|█████████▎| 26/28 [08:10<00:54, 27.38s/it]\u001b[A\u001b[A"
     ]
    },
    {
     "name": "stdout",
     "output_type": "stream",
     "text": [
      "text_video_voxaudio label_shift: 4 (28449, 8580) (28449,) num feats 2860 0.5856382978723405\n"
     ]
    },
    {
     "name": "stderr",
     "output_type": "stream",
     "text": [
      "\n",
      "\n",
      " 96%|█████████▋| 27/28 [08:45<00:29, 29.77s/it]\u001b[A\u001b[A"
     ]
    },
    {
     "name": "stdout",
     "output_type": "stream",
     "text": [
      "text_video_voxaudio label_shift: 9 (28279, 8580) (28279,) num feats 2860 0.5716071428571429\n"
     ]
    },
    {
     "name": "stderr",
     "output_type": "stream",
     "text": [
      "\n",
      "\n",
      "100%|██████████| 28/28 [09:10<00:00, 28.31s/it]\u001b[A\u001b[A"
     ]
    },
    {
     "name": "stdout",
     "output_type": "stream",
     "text": [
      "use_crossval: False | use_all_perspectives: True | predict_only_host: True | clf: <class 'sklearn.naive_bayes.GaussianNB'>\n",
      "{4: [(('text', 0), 0.6234794361845917), (('text', 2), 0.5829943831105946), (('text', 4), 0.5665436176413444), (('text', 9), 0.539455649109066), (('video', 0), 0.5514578103881058), (('video', 2), 0.536897152818129), (('video', 4), 0.534874684282106), (('video', 9), 0.5337771685921284), (('voxaudio', 0), 0.6481946321683723), (('voxaudio', 2), 0.5953902769707534), (('voxaudio', 4), 0.5686807849232562), (('voxaudio', 9), 0.5402388878010573), (('text_video', 0), 0.5945163158910987), (('text_video', 2), 0.5614952546968817), (('text_video', 4), 0.555469205362347), (('text_video', 9), 0.5435676522420207), (('text_voxaudio', 0), 0.6570766557250435), (('text_voxaudio', 2), 0.5990703079604881), (('text_voxaudio', 4), 0.5811152127452885), (('text_voxaudio', 9), 0.5461131779909928), (('video_voxaudio', 0), 0.6346785093647422), (('video_voxaudio', 2), 0.5814448963780747), (('video_voxaudio', 4), 0.5686807849232562), (('video_voxaudio', 9), 0.5615821421578227), (('text_video_voxaudio', 0), 0.6420158331724272), (('text_video_voxaudio', 2), 0.590548130931629), (('text_video_voxaudio', 4), 0.5772294540509034), (('text_video_voxaudio', 9), 0.5611905228118269)], 5: [(('text', 0), 0.6183473389355743), (('text', 2), 0.5660112359550562), (('text', 4), 0.5521126760563381), (('text', 9), 0.5132978723404256), (('video', 0), 0.5689775910364145), (('video', 2), 0.5626755617977528), (('video', 4), 0.5619718309859155), (('video', 9), 0.5606382978723404), (('voxaudio', 0), 0.6411064425770309), (('voxaudio', 2), 0.5935744382022472), (('voxaudio', 4), 0.5732394366197183), (('voxaudio', 9), 0.5452127659574468), (('text_video', 0), 0.601890756302521), (('text_video', 2), 0.5784761235955056), (('text_video', 4), 0.5767605633802817), (('text_video', 9), 0.5695035460992908), (('text_voxaudio', 0), 0.6502100840336135), (('text_voxaudio', 2), 0.598314606741573), (('text_voxaudio', 4), 0.5765845070422535), (('text_voxaudio', 9), 0.5427304964539007), (('video_voxaudio', 0), 0.6260504201680672), (('video_voxaudio', 2), 0.5953300561797753), (('video_voxaudio', 4), 0.5802816901408451), (('video_voxaudio', 9), 0.573936170212766), (('text_video_voxaudio', 0), 0.6391806722689075), (('text_video_voxaudio', 2), 0.6014747191011236), (('text_video_voxaudio', 4), 0.5894366197183099), (('text_video_voxaudio', 9), 0.573758865248227)], 10: [(('text', 0), 0.578984485190409), (('text', 2), 0.5477369165487977), (('text', 4), 0.5342198581560283), (('text', 9), 0.5141071428571429), (('video', 0), 0.5756346967559943), (('video', 2), 0.570898161244696), (('video', 4), 0.5656028368794326), (('video', 9), 0.54625), (('voxaudio', 0), 0.6126586741889986), (('voxaudio', 2), 0.579031117397454), (('voxaudio', 4), 0.5668439716312057), (('voxaudio', 9), 0.55375), (('text_video', 0), 0.6004936530324401), (('text_video', 2), 0.5774398868458275), (('text_video', 4), 0.574645390070922), (('text_video', 9), 0.5510714285714285), (('text_voxaudio', 0), 0.6140691114245416), (('text_voxaudio', 2), 0.5756718528995757), (('text_voxaudio', 4), 0.5641843971631205), (('text_voxaudio', 9), 0.54625), (('video_voxaudio', 0), 0.610543018335684), (('video_voxaudio', 2), 0.5868104667609618), (('video_voxaudio', 4), 0.5822695035460993), (('video_voxaudio', 9), 0.5682142857142857), (('text_video_voxaudio', 0), 0.6160084626234132), (('text_video_voxaudio', 2), 0.5885785007072136), (('text_video_voxaudio', 4), 0.5856382978723405), (('text_video_voxaudio', 9), 0.5716071428571429)]}\n",
      "(129245, 2881)\n"
     ]
    },
    {
     "name": "stderr",
     "output_type": "stream",
     "text": [
      "\n",
      "\n",
      "  0%|          | 0/28 [00:00<?, ?it/s]\u001b[A\u001b[A"
     ]
    },
    {
     "name": "stdout",
     "output_type": "stream",
     "text": [
      "text label_shift: 0 (28275, 900) (28275,) num feats 300 0.5665820029027576\n"
     ]
    },
    {
     "name": "stderr",
     "output_type": "stream",
     "text": [
      "\n",
      "\n",
      "  4%|▎         | 1/28 [00:56<25:15, 56.11s/it]\u001b[A\u001b[A"
     ]
    },
    {
     "name": "stdout",
     "output_type": "stream",
     "text": [
      "text label_shift: 4 (28139, 900) (28139,) num feats 300 0.5505474452554745\n",
      "text label_shift: 9 (27969, 900) (27969,) num feats 300 0.5303308823529411\n",
      "text label_shift: 2 (28207, 900) (28207,) num feats 300 0.5598617176128093\n"
     ]
    },
    {
     "name": "stderr",
     "output_type": "stream",
     "text": [
      "\n",
      "\n",
      "  7%|▋         | 2/28 [01:21<20:18, 46.85s/it]\u001b[A\u001b[A"
     ]
    },
    {
     "name": "stdout",
     "output_type": "stream",
     "text": [
      "video label_shift: 0 (28275, 6144) (28275,) num feats 2048 0.5609579100145138\n"
     ]
    },
    {
     "name": "stderr",
     "output_type": "stream",
     "text": [
      "\n",
      "\n",
      " 18%|█▊        | 5/28 [01:29<12:53, 33.64s/it]\u001b[A\u001b[A"
     ]
    },
    {
     "name": "stdout",
     "output_type": "stream",
     "text": [
      "video label_shift: 2 (28207, 6144) (28207,) num feats 2048 0.5576783114992722\n"
     ]
    },
    {
     "name": "stderr",
     "output_type": "stream",
     "text": [
      "\n",
      "\n",
      " 21%|██▏       | 6/28 [01:53<11:12, 30.58s/it]\u001b[A\u001b[A"
     ]
    },
    {
     "name": "stdout",
     "output_type": "stream",
     "text": [
      "voxaudio label_shift: 0 (28275, 1536) (28275,) num feats 512 0.5809143686502177\n",
      "voxaudio label_shift: 2 (28207, 1536) (28207,) num feats 512 0.5589519650655022\n",
      "video label_shift: 4 (28139, 6144) (28139,) num feats 2048 0.5525547445255474\n"
     ]
    },
    {
     "name": "stderr",
     "output_type": "stream",
     "text": [
      "\n",
      "\n",
      " 25%|██▌       | 7/28 [02:48<13:17, 37.96s/it]\u001b[A\u001b[A"
     ]
    },
    {
     "name": "stdout",
     "output_type": "stream",
     "text": [
      "voxaudio label_shift: 4 (28139, 1536) (28139,) num feats 512 0.5572992700729927\n",
      "video label_shift: 9 (27969, 6144) (27969,) num feats 2048 0.546875\n"
     ]
    },
    {
     "name": "stderr",
     "output_type": "stream",
     "text": [
      "\n",
      "\n",
      " 29%|██▊       | 8/28 [03:13<11:23, 34.18s/it]\u001b[A\u001b[A"
     ]
    },
    {
     "name": "stdout",
     "output_type": "stream",
     "text": [
      "voxaudio label_shift: 9 (27969, 1536) (27969,) num feats 512 0.5466911764705882\n"
     ]
    },
    {
     "name": "stderr",
     "output_type": "stream",
     "text": [
      "\n",
      "\n",
      " 43%|████▎     | 12/28 [03:17<06:27, 24.19s/it]\u001b[A\u001b[A"
     ]
    },
    {
     "name": "stdout",
     "output_type": "stream",
     "text": [
      "text_video label_shift: 0 (28275, 7044) (28275,) num feats 2348 0.5732946298984035\n"
     ]
    },
    {
     "name": "stderr",
     "output_type": "stream",
     "text": [
      "\n",
      "\n",
      " 46%|████▋     | 13/28 [03:54<07:02, 28.16s/it]\u001b[A\u001b[A"
     ]
    },
    {
     "name": "stdout",
     "output_type": "stream",
     "text": [
      "text_voxaudio label_shift: 0 (28275, 2436) (28275,) num feats 812 0.5725689404934688\n",
      "text_video label_shift: 2 (28207, 7044) (28207,) num feats 2348 0.5633187772925764\n"
     ]
    },
    {
     "name": "stderr",
     "output_type": "stream",
     "text": [
      "\n",
      "\n",
      " 50%|█████     | 14/28 [04:43<08:00, 34.30s/it]\u001b[A\u001b[A"
     ]
    },
    {
     "name": "stdout",
     "output_type": "stream",
     "text": [
      "text_voxaudio label_shift: 2 (28207, 2436) (28207,) num feats 812 0.5540393013100436\n",
      "text_video label_shift: 4 (28139, 7044) (28139,) num feats 2348 0.5565693430656934\n"
     ]
    },
    {
     "name": "stderr",
     "output_type": "stream",
     "text": [
      "\n",
      "\n",
      " 54%|█████▎    | 15/28 [04:49<05:37, 25.94s/it]\u001b[A\u001b[A"
     ]
    },
    {
     "name": "stdout",
     "output_type": "stream",
     "text": [
      "text_video label_shift: 9 (27969, 7044) (27969,) num feats 2348 0.5479779411764706\n"
     ]
    },
    {
     "name": "stderr",
     "output_type": "stream",
     "text": [
      "\n",
      "\n",
      " 57%|█████▋    | 16/28 [04:54<03:53, 19.47s/it]\u001b[A\u001b[A"
     ]
    },
    {
     "name": "stdout",
     "output_type": "stream",
     "text": [
      "text_voxaudio label_shift: 4 (28139, 2436) (28139,) num feats 812 0.5516423357664234\n"
     ]
    },
    {
     "name": "stderr",
     "output_type": "stream",
     "text": [
      "\n",
      "\n",
      " 68%|██████▊   | 19/28 [05:25<02:31, 16.79s/it]\u001b[A\u001b[A"
     ]
    },
    {
     "name": "stdout",
     "output_type": "stream",
     "text": [
      "text_voxaudio label_shift: 9 (27969, 2436) (27969,) num feats 812 0.5347426470588236\n"
     ]
    },
    {
     "name": "stderr",
     "output_type": "stream",
     "text": [
      "\n",
      "\n",
      " 71%|███████▏  | 20/28 [05:51<02:36, 19.59s/it]\u001b[A\u001b[A"
     ]
    },
    {
     "name": "stdout",
     "output_type": "stream",
     "text": [
      "video_voxaudio label_shift: 0 (28275, 7680) (28275,) num feats 2560 0.5792815674891146\n"
     ]
    },
    {
     "name": "stderr",
     "output_type": "stream",
     "text": [
      "\n",
      "\n",
      " 75%|███████▌  | 21/28 [06:21<02:38, 22.60s/it]\u001b[A\u001b[A"
     ]
    },
    {
     "name": "stdout",
     "output_type": "stream",
     "text": [
      "video_voxaudio label_shift: 2 (28207, 7680) (28207,) num feats 2560 0.5680494905385735\n"
     ]
    },
    {
     "name": "stderr",
     "output_type": "stream",
     "text": [
      "\n",
      "\n",
      " 79%|███████▊  | 22/28 [06:52<02:31, 25.25s/it]\u001b[A\u001b[A"
     ]
    },
    {
     "name": "stdout",
     "output_type": "stream",
     "text": [
      "video_voxaudio label_shift: 4 (28139, 7680) (28139,) num feats 2560 0.5602189781021898\n"
     ]
    },
    {
     "name": "stderr",
     "output_type": "stream",
     "text": [
      "\n",
      "\n",
      " 82%|████████▏ | 23/28 [06:54<01:31, 18.23s/it]\u001b[A\u001b[A"
     ]
    },
    {
     "name": "stdout",
     "output_type": "stream",
     "text": [
      "video_voxaudio label_shift: 9 (27969, 7680) (27969,) num feats 2560 0.5582720588235294\n"
     ]
    },
    {
     "name": "stderr",
     "output_type": "stream",
     "text": [
      "\n",
      "\n",
      " 86%|████████▌ | 24/28 [06:57<00:53, 13.50s/it]\u001b[A\u001b[A"
     ]
    },
    {
     "name": "stdout",
     "output_type": "stream",
     "text": [
      "text_video_voxaudio label_shift: 0 (28275, 8580) (28275,) num feats 2860 0.5820029027576198\n"
     ]
    },
    {
     "name": "stderr",
     "output_type": "stream",
     "text": [
      "\n",
      "\n",
      " 89%|████████▉ | 25/28 [07:10<00:40, 13.47s/it]\u001b[A\u001b[A"
     ]
    },
    {
     "name": "stdout",
     "output_type": "stream",
     "text": [
      "text_video_voxaudio label_shift: 2 (28207, 8580) (28207,) num feats 2860 0.5722343522561864\n"
     ]
    },
    {
     "name": "stderr",
     "output_type": "stream",
     "text": [
      "\n",
      "\n",
      " 93%|█████████▎| 26/28 [08:02<00:49, 24.89s/it]\u001b[A\u001b[A"
     ]
    },
    {
     "name": "stdout",
     "output_type": "stream",
     "text": [
      "text_video_voxaudio label_shift: 4 (28139, 8580) (28139,) num feats 2860 0.5638686131386861\n"
     ]
    },
    {
     "name": "stderr",
     "output_type": "stream",
     "text": [
      "\n",
      "\n",
      " 96%|█████████▋| 27/28 [08:28<00:25, 25.42s/it]\u001b[A\u001b[A"
     ]
    },
    {
     "name": "stdout",
     "output_type": "stream",
     "text": [
      "text_video_voxaudio label_shift: 9 (27969, 8580) (27969,) num feats 2860 0.5512867647058823\n"
     ]
    },
    {
     "name": "stderr",
     "output_type": "stream",
     "text": [
      "\n",
      "\n",
      "100%|██████████| 28/28 [08:59<00:00, 27.02s/it]\u001b[A\u001b[A"
     ]
    },
    {
     "name": "stdout",
     "output_type": "stream",
     "text": [
      "use_crossval: False | use_all_perspectives: True | predict_only_host: True | clf: <class 'sklearn.naive_bayes.GaussianNB'>\n",
      "{4: [(('text', 0), 0.6234794361845917), (('text', 2), 0.5829943831105946), (('text', 4), 0.5665436176413444), (('text', 9), 0.539455649109066), (('video', 0), 0.5514578103881058), (('video', 2), 0.536897152818129), (('video', 4), 0.534874684282106), (('video', 9), 0.5337771685921284), (('voxaudio', 0), 0.6481946321683723), (('voxaudio', 2), 0.5953902769707534), (('voxaudio', 4), 0.5686807849232562), (('voxaudio', 9), 0.5402388878010573), (('text_video', 0), 0.5945163158910987), (('text_video', 2), 0.5614952546968817), (('text_video', 4), 0.555469205362347), (('text_video', 9), 0.5435676522420207), (('text_voxaudio', 0), 0.6570766557250435), (('text_voxaudio', 2), 0.5990703079604881), (('text_voxaudio', 4), 0.5811152127452885), (('text_voxaudio', 9), 0.5461131779909928), (('video_voxaudio', 0), 0.6346785093647422), (('video_voxaudio', 2), 0.5814448963780747), (('video_voxaudio', 4), 0.5686807849232562), (('video_voxaudio', 9), 0.5615821421578227), (('text_video_voxaudio', 0), 0.6420158331724272), (('text_video_voxaudio', 2), 0.590548130931629), (('text_video_voxaudio', 4), 0.5772294540509034), (('text_video_voxaudio', 9), 0.5611905228118269)], 5: [(('text', 0), 0.6183473389355743), (('text', 2), 0.5660112359550562), (('text', 4), 0.5521126760563381), (('text', 9), 0.5132978723404256), (('video', 0), 0.5689775910364145), (('video', 2), 0.5626755617977528), (('video', 4), 0.5619718309859155), (('video', 9), 0.5606382978723404), (('voxaudio', 0), 0.6411064425770309), (('voxaudio', 2), 0.5935744382022472), (('voxaudio', 4), 0.5732394366197183), (('voxaudio', 9), 0.5452127659574468), (('text_video', 0), 0.601890756302521), (('text_video', 2), 0.5784761235955056), (('text_video', 4), 0.5767605633802817), (('text_video', 9), 0.5695035460992908), (('text_voxaudio', 0), 0.6502100840336135), (('text_voxaudio', 2), 0.598314606741573), (('text_voxaudio', 4), 0.5765845070422535), (('text_voxaudio', 9), 0.5427304964539007), (('video_voxaudio', 0), 0.6260504201680672), (('video_voxaudio', 2), 0.5953300561797753), (('video_voxaudio', 4), 0.5802816901408451), (('video_voxaudio', 9), 0.573936170212766), (('text_video_voxaudio', 0), 0.6391806722689075), (('text_video_voxaudio', 2), 0.6014747191011236), (('text_video_voxaudio', 4), 0.5894366197183099), (('text_video_voxaudio', 9), 0.573758865248227)], 10: [(('text', 0), 0.578984485190409), (('text', 2), 0.5477369165487977), (('text', 4), 0.5342198581560283), (('text', 9), 0.5141071428571429), (('video', 0), 0.5756346967559943), (('video', 2), 0.570898161244696), (('video', 4), 0.5656028368794326), (('video', 9), 0.54625), (('voxaudio', 0), 0.6126586741889986), (('voxaudio', 2), 0.579031117397454), (('voxaudio', 4), 0.5668439716312057), (('voxaudio', 9), 0.55375), (('text_video', 0), 0.6004936530324401), (('text_video', 2), 0.5774398868458275), (('text_video', 4), 0.574645390070922), (('text_video', 9), 0.5510714285714285), (('text_voxaudio', 0), 0.6140691114245416), (('text_voxaudio', 2), 0.5756718528995757), (('text_voxaudio', 4), 0.5641843971631205), (('text_voxaudio', 9), 0.54625), (('video_voxaudio', 0), 0.610543018335684), (('video_voxaudio', 2), 0.5868104667609618), (('video_voxaudio', 4), 0.5822695035460993), (('video_voxaudio', 9), 0.5682142857142857), (('text_video_voxaudio', 0), 0.6160084626234132), (('text_video_voxaudio', 2), 0.5885785007072136), (('text_video_voxaudio', 4), 0.5856382978723405), (('text_video_voxaudio', 9), 0.5716071428571429)], 30: [(('text', 0), 0.5665820029027576), (('text', 2), 0.5598617176128093), (('text', 4), 0.5505474452554745), (('text', 9), 0.5303308823529411), (('video', 0), 0.5609579100145138), (('video', 2), 0.5576783114992722), (('video', 4), 0.5525547445255474), (('video', 9), 0.546875), (('voxaudio', 0), 0.5809143686502177), (('voxaudio', 2), 0.5589519650655022), (('voxaudio', 4), 0.5572992700729927), (('voxaudio', 9), 0.5466911764705882), (('text_video', 0), 0.5732946298984035), (('text_video', 2), 0.5633187772925764), (('text_video', 4), 0.5565693430656934), (('text_video', 9), 0.5479779411764706), (('text_voxaudio', 0), 0.5725689404934688), (('text_voxaudio', 2), 0.5540393013100436), (('text_voxaudio', 4), 0.5516423357664234), (('text_voxaudio', 9), 0.5347426470588236), (('video_voxaudio', 0), 0.5792815674891146), (('video_voxaudio', 2), 0.5680494905385735), (('video_voxaudio', 4), 0.5602189781021898), (('video_voxaudio', 9), 0.5582720588235294), (('text_video_voxaudio', 0), 0.5820029027576198), (('text_video_voxaudio', 2), 0.5722343522561864), (('text_video_voxaudio', 4), 0.5638686131386861), (('text_video_voxaudio', 9), 0.5512867647058823)]}\n",
      "use_crossval: False | use_all_perspectives: False | predict_only_host: False | clf: <class 'sklearn.naive_bayes.GaussianNB'>\n",
      "(136431, 2881)\n"
     ]
    },
    {
     "name": "stderr",
     "output_type": "stream",
     "text": [
      "\n",
      "\n",
      "  0%|          | 0/28 [00:00<?, ?it/s]\u001b[A\u001b[A"
     ]
    },
    {
     "name": "stdout",
     "output_type": "stream",
     "text": [
      "text label_shift: 0 (107836, 300) (107836,) num feats 300 0.6452951346011361\n"
     ]
    },
    {
     "name": "stderr",
     "output_type": "stream",
     "text": [
      "\n",
      "\n",
      "  4%|▎         | 1/28 [00:36<16:29, 36.67s/it]\u001b[A\u001b[A"
     ]
    },
    {
     "name": "stdout",
     "output_type": "stream",
     "text": [
      "video label_shift: 0 (107836, 2048) (107836,) num feats 2048 0.5657199308471228\n",
      "text label_shift: 2 (107578, 300) (107578,) num feats 300 0.5723270440251572\n",
      "text label_shift: 4 (107320, 300) (107320,) num feats 300 0.5716697284146766\n"
     ]
    },
    {
     "name": "stderr",
     "output_type": "stream",
     "text": [
      "\n",
      "\n",
      "  7%|▋         | 2/28 [01:08<15:12, 35.10s/it]\u001b[A\u001b[A"
     ]
    },
    {
     "name": "stdout",
     "output_type": "stream",
     "text": [
      "text label_shift: 9 (106675, 300) (106675,) num feats 300 0.551296786767278\n"
     ]
    },
    {
     "name": "stderr",
     "output_type": "stream",
     "text": [
      "\n",
      "\n",
      " 14%|█▍        | 4/28 [01:08<09:51, 24.67s/it]\u001b[A\u001b[A"
     ]
    },
    {
     "name": "stdout",
     "output_type": "stream",
     "text": [
      "video label_shift: 2 (107578, 2048) (107578,) num feats 2048 0.5463279354231665\n"
     ]
    },
    {
     "name": "stderr",
     "output_type": "stream",
     "text": [
      "\n",
      "\n",
      " 21%|██▏       | 6/28 [01:17<06:49, 18.63s/it]\u001b[A\u001b[A"
     ]
    },
    {
     "name": "stdout",
     "output_type": "stream",
     "text": [
      "voxaudio label_shift: 0 (107836, 512) (107836,) num feats 512 0.6749320819955544\n",
      "video label_shift: 4 (107320, 2048) (107320,) num feats 2048 0.5419790477136189\n"
     ]
    },
    {
     "name": "stderr",
     "output_type": "stream",
     "text": [
      "\n",
      "\n",
      " 25%|██▌       | 7/28 [01:49<07:51, 22.47s/it]\u001b[A\u001b[A"
     ]
    },
    {
     "name": "stdout",
     "output_type": "stream",
     "text": [
      "video label_shift: 9 (106675, 2048) (106675,) num feats 2048 0.5399030533206737\n"
     ]
    },
    {
     "name": "stderr",
     "output_type": "stream",
     "text": [
      "\n",
      "\n",
      " 29%|██▊       | 8/28 [01:54<05:47, 17.38s/it]\u001b[A\u001b[A"
     ]
    },
    {
     "name": "stdout",
     "output_type": "stream",
     "text": [
      "voxaudio label_shift: 2 (107578, 512) (107578,) num feats 512 0.6355172584559006\n"
     ]
    },
    {
     "name": "stderr",
     "output_type": "stream",
     "text": [
      "\n",
      "\n",
      " 36%|███▌      | 10/28 [02:15<04:36, 15.35s/it]\u001b[A\u001b[A"
     ]
    },
    {
     "name": "stdout",
     "output_type": "stream",
     "text": [
      "voxaudio label_shift: 4 (107320, 512) (107320,) num feats 512 0.6221637455935654\n"
     ]
    },
    {
     "name": "stderr",
     "output_type": "stream",
     "text": [
      "\n",
      "\n",
      " 39%|███▉      | 11/28 [02:17<03:09, 11.14s/it]\u001b[A\u001b[A"
     ]
    },
    {
     "name": "stdout",
     "output_type": "stream",
     "text": [
      "voxaudio label_shift: 9 (106675, 512) (106675,) num feats 512 0.6089650692119334\n"
     ]
    },
    {
     "name": "stderr",
     "output_type": "stream",
     "text": [
      "\n",
      "\n",
      " 43%|████▎     | 12/28 [02:25<02:43, 10.24s/it]\u001b[A\u001b[A"
     ]
    },
    {
     "name": "stdout",
     "output_type": "stream",
     "text": [
      "text_video label_shift: 0 (107836, 2348) (107836,) num feats 2348 0.62904420844653\n"
     ]
    },
    {
     "name": "stderr",
     "output_type": "stream",
     "text": [
      "\n",
      "\n",
      " 46%|████▋     | 13/28 [02:27<01:56,  7.76s/it]\u001b[A\u001b[A"
     ]
    },
    {
     "name": "stdout",
     "output_type": "stream",
     "text": [
      "text_voxaudio label_shift: 0 (107836, 812) (107836,) num feats 812 0.6722647567300568\n",
      "text_video label_shift: 2 (107578, 2348) (107578,) num feats 2348 0.5894616946466598\n"
     ]
    },
    {
     "name": "stderr",
     "output_type": "stream",
     "text": [
      "\n",
      "\n",
      " 50%|█████     | 14/28 [03:03<03:46, 16.18s/it]\u001b[A\u001b[A"
     ]
    },
    {
     "name": "stdout",
     "output_type": "stream",
     "text": [
      "text_video label_shift: 4 (107320, 2348) (107320,) num feats 2348 0.5778759743806167\n"
     ]
    },
    {
     "name": "stderr",
     "output_type": "stream",
     "text": [
      "\n",
      "\n",
      " 54%|█████▎    | 15/28 [03:08<02:49, 13.05s/it]\u001b[A\u001b[A"
     ]
    },
    {
     "name": "stdout",
     "output_type": "stream",
     "text": [
      "text_video label_shift: 9 (106675, 2348) (106675,) num feats 2348 0.5564939283394134\n"
     ]
    },
    {
     "name": "stderr",
     "output_type": "stream",
     "text": [
      "\n",
      "\n",
      " 57%|█████▋    | 16/28 [03:30<03:05, 15.46s/it]\u001b[A\u001b[A"
     ]
    },
    {
     "name": "stdout",
     "output_type": "stream",
     "text": [
      "text_voxaudio label_shift: 2 (107578, 812) (107578,) num feats 812 0.6107066805328579\n"
     ]
    },
    {
     "name": "stderr",
     "output_type": "stream",
     "text": [
      "\n",
      "\n",
      " 64%|██████▍   | 18/28 [03:34<01:54, 11.41s/it]\u001b[A\u001b[A"
     ]
    },
    {
     "name": "stdout",
     "output_type": "stream",
     "text": [
      "text_voxaudio label_shift: 4 (107320, 812) (107320,) num feats 812 0.6065240057593962\n"
     ]
    },
    {
     "name": "stderr",
     "output_type": "stream",
     "text": [
      "\n",
      "\n",
      " 68%|██████▊   | 19/28 [03:36<01:18,  8.67s/it]\u001b[A\u001b[A"
     ]
    },
    {
     "name": "stdout",
     "output_type": "stream",
     "text": [
      "video_voxaudio label_shift: 0 (107836, 2560) (107836,) num feats 2560 0.6466287972338849\n",
      "text_voxaudio label_shift: 9 (106675, 812) (106675,) num feats 812 0.5909749637699265\n"
     ]
    },
    {
     "name": "stderr",
     "output_type": "stream",
     "text": [
      "\n",
      "\n",
      " 71%|███████▏  | 20/28 [04:06<02:01, 15.20s/it]\u001b[A\u001b[A"
     ]
    },
    {
     "name": "stdout",
     "output_type": "stream",
     "text": [
      "text_video_voxaudio label_shift: 0 (107836, 2860) (107836,) num feats 2860 0.6637194368979995\n",
      "video_voxaudio label_shift: 2 (107578, 2560) (107578,) num feats 2560 0.6116476006536918\n"
     ]
    },
    {
     "name": "stderr",
     "output_type": "stream",
     "text": [
      "\n",
      "\n",
      " 79%|███████▊  | 22/28 [04:23<01:19, 13.19s/it]\u001b[A\u001b[A"
     ]
    },
    {
     "name": "stdout",
     "output_type": "stream",
     "text": [
      "video_voxaudio label_shift: 4 (107320, 2560) (107320,) num feats 2560 0.5970408619234397\n"
     ]
    },
    {
     "name": "stderr",
     "output_type": "stream",
     "text": [
      "\n",
      "\n",
      " 82%|████████▏ | 23/28 [04:45<01:18, 15.64s/it]\u001b[A\u001b[A"
     ]
    },
    {
     "name": "stdout",
     "output_type": "stream",
     "text": [
      "video_voxaudio label_shift: 9 (106675, 2560) (106675,) num feats 2560 0.576582879416321\n"
     ]
    },
    {
     "name": "stderr",
     "output_type": "stream",
     "text": [
      "\n",
      "\n",
      " 86%|████████▌ | 24/28 [04:49<00:48, 12.12s/it]\u001b[A\u001b[A"
     ]
    },
    {
     "name": "stdout",
     "output_type": "stream",
     "text": [
      "text_video_voxaudio label_shift: 2 (107578, 2860) (107578,) num feats 2860 0.6155103253602734\n"
     ]
    },
    {
     "name": "stderr",
     "output_type": "stream",
     "text": [
      "\n",
      "\n",
      " 93%|█████████▎| 26/28 [05:02<00:21, 10.57s/it]\u001b[A\u001b[A"
     ]
    },
    {
     "name": "stdout",
     "output_type": "stream",
     "text": [
      "text_video_voxaudio label_shift: 4 (107320, 2860) (107320,) num feats 2860 0.604885556824388\n"
     ]
    },
    {
     "name": "stderr",
     "output_type": "stream",
     "text": [
      "\n",
      "\n",
      " 96%|█████████▋| 27/28 [05:21<00:13, 13.03s/it]\u001b[A\u001b[A"
     ]
    },
    {
     "name": "stdout",
     "output_type": "stream",
     "text": [
      "text_video_voxaudio label_shift: 9 (106675, 2860) (106675,) num feats 2860 0.5822797461396232\n"
     ]
    },
    {
     "name": "stderr",
     "output_type": "stream",
     "text": [
      "\n",
      "\n",
      "100%|██████████| 28/28 [05:38<00:00, 14.18s/it]\u001b[A\u001b[A"
     ]
    },
    {
     "name": "stdout",
     "output_type": "stream",
     "text": [
      "use_crossval: False | use_all_perspectives: False | predict_only_host: False | clf: <class 'sklearn.naive_bayes.GaussianNB'>\n",
      "{4: [(('text', 0), 0.6452951346011361), (('text', 2), 0.5723270440251572), (('text', 4), 0.5716697284146766), (('text', 9), 0.551296786767278), (('video', 0), 0.5657199308471228), (('video', 2), 0.5463279354231665), (('video', 4), 0.5419790477136189), (('video', 9), 0.5399030533206737), (('voxaudio', 0), 0.6749320819955544), (('voxaudio', 2), 0.6355172584559006), (('voxaudio', 4), 0.6221637455935654), (('voxaudio', 9), 0.6089650692119334), (('text_video', 0), 0.62904420844653), (('text_video', 2), 0.5894616946466598), (('text_video', 4), 0.5778759743806167), (('text_video', 9), 0.5564939283394134), (('text_voxaudio', 0), 0.6722647567300568), (('text_voxaudio', 2), 0.6107066805328579), (('text_voxaudio', 4), 0.6065240057593962), (('text_voxaudio', 9), 0.5909749637699265), (('video_voxaudio', 0), 0.6466287972338849), (('video_voxaudio', 2), 0.6116476006536918), (('video_voxaudio', 4), 0.5970408619234397), (('video_voxaudio', 9), 0.576582879416321), (('text_video_voxaudio', 0), 0.6637194368979995), (('text_video_voxaudio', 2), 0.6155103253602734), (('text_video_voxaudio', 4), 0.604885556824388), (('text_video_voxaudio', 9), 0.5822797461396232)]}\n",
      "(132008, 2881)\n"
     ]
    },
    {
     "name": "stderr",
     "output_type": "stream",
     "text": [
      "\n",
      "\n",
      "  0%|          | 0/28 [00:00<?, ?it/s]\u001b[A\u001b[A"
     ]
    },
    {
     "name": "stdout",
     "output_type": "stream",
     "text": [
      "text label_shift: 0 (102916, 300) (102916,) num feats 300 0.6498554913294797\n"
     ]
    },
    {
     "name": "stderr",
     "output_type": "stream",
     "text": [
      "\n",
      "\n",
      "  4%|▎         | 1/28 [00:36<16:17, 36.19s/it]\u001b[A\u001b[A"
     ]
    },
    {
     "name": "stdout",
     "output_type": "stream",
     "text": [
      "video label_shift: 0 (102916, 2048) (102916,) num feats 2048 0.5648843930635838\n",
      "text label_shift: 4 (102408, 300) (102408,) num feats 300 0.5914988381099923\n",
      "text label_shift: 9 (101773, 300) (101773,) num feats 300 0.5682061775309364\n",
      "text label_shift: 2 (102662, 300) (102662,) num feats 300 0.6086536604210933\n"
     ]
    },
    {
     "name": "stderr",
     "output_type": "stream",
     "text": [
      "\n",
      "\n",
      "  7%|▋         | 2/28 [01:07<15:02, 34.72s/it]\u001b[A\u001b[A"
     ]
    },
    {
     "name": "stdout",
     "output_type": "stream",
     "text": [
      "video label_shift: 2 (102662, 2048) (102662,) num feats 2048 0.5517191423604404\n"
     ]
    },
    {
     "name": "stderr",
     "output_type": "stream",
     "text": [
      "\n",
      "\n",
      " 21%|██▏       | 6/28 [01:12<09:02, 24.66s/it]\u001b[A\u001b[A"
     ]
    },
    {
     "name": "stdout",
     "output_type": "stream",
     "text": [
      "voxaudio label_shift: 0 (102916, 512) (102916,) num feats 512 0.6700385356454721\n",
      "video label_shift: 4 (102408, 2048) (102408,) num feats 2048 0.5476374903175832\n"
     ]
    },
    {
     "name": "stderr",
     "output_type": "stream",
     "text": [
      "\n",
      "\n",
      " 25%|██▌       | 7/28 [01:47<09:42, 27.76s/it]\u001b[A\u001b[A"
     ]
    },
    {
     "name": "stdout",
     "output_type": "stream",
     "text": [
      "video label_shift: 9 (101773, 2048) (101773,) num feats 2048 0.5464289194192731\n"
     ]
    },
    {
     "name": "stderr",
     "output_type": "stream",
     "text": [
      "\n",
      "\n",
      " 29%|██▊       | 8/28 [01:52<07:01, 21.06s/it]\u001b[A\u001b[A"
     ]
    },
    {
     "name": "stdout",
     "output_type": "stream",
     "text": [
      "voxaudio label_shift: 2 (102662, 512) (102662,) num feats 512 0.6368553216148348\n"
     ]
    },
    {
     "name": "stderr",
     "output_type": "stream",
     "text": [
      "\n",
      "\n",
      " 36%|███▌      | 10/28 [02:14<05:23, 17.97s/it]\u001b[A\u001b[A"
     ]
    },
    {
     "name": "stdout",
     "output_type": "stream",
     "text": [
      "voxaudio label_shift: 4 (102408, 512) (102408,) num feats 512 0.6249515879163439\n"
     ]
    },
    {
     "name": "stderr",
     "output_type": "stream",
     "text": [
      "\n",
      "\n",
      " 39%|███▉      | 11/28 [02:14<03:36, 12.71s/it]\u001b[A\u001b[A"
     ]
    },
    {
     "name": "stdout",
     "output_type": "stream",
     "text": [
      "voxaudio label_shift: 9 (101773, 512) (101773,) num feats 512 0.6140017538731365\n"
     ]
    },
    {
     "name": "stderr",
     "output_type": "stream",
     "text": [
      "\n",
      "\n",
      " 43%|████▎     | 12/28 [02:18<02:40, 10.01s/it]\u001b[A\u001b[A"
     ]
    },
    {
     "name": "stdout",
     "output_type": "stream",
     "text": [
      "text_video label_shift: 0 (102916, 2348) (102916,) num feats 2348 0.6205202312138728\n"
     ]
    },
    {
     "name": "stderr",
     "output_type": "stream",
     "text": [
      "\n",
      "\n",
      " 46%|████▋     | 13/28 [02:23<02:08,  8.57s/it]\u001b[A\u001b[A"
     ]
    },
    {
     "name": "stdout",
     "output_type": "stream",
     "text": [
      "text_voxaudio label_shift: 0 (102916, 812) (102916,) num feats 812 0.6660404624277456\n",
      "text_video label_shift: 2 (102662, 2348) (102662,) num feats 2348 0.5928626617732278\n"
     ]
    },
    {
     "name": "stderr",
     "output_type": "stream",
     "text": [
      "\n",
      "\n",
      " 50%|█████     | 14/28 [03:00<03:58, 17.01s/it]\u001b[A\u001b[A"
     ]
    },
    {
     "name": "stdout",
     "output_type": "stream",
     "text": [
      "text_video label_shift: 4 (102408, 2348) (102408,) num feats 2348 0.5784759876065065\n"
     ]
    },
    {
     "name": "stderr",
     "output_type": "stream",
     "text": [
      "\n",
      "\n",
      " 54%|█████▎    | 15/28 [03:05<02:57, 13.64s/it]\u001b[A\u001b[A"
     ]
    },
    {
     "name": "stdout",
     "output_type": "stream",
     "text": [
      "text_voxaudio label_shift: 2 (102662, 812) (102662,) num feats 812 0.6283079003283755\n",
      "text_video label_shift: 9 (101773, 2348) (101773,) num feats 2348 0.5630907142161161\n"
     ]
    },
    {
     "name": "stderr",
     "output_type": "stream",
     "text": [
      "\n",
      "\n",
      " 57%|█████▋    | 16/28 [03:26<03:09, 15.78s/it]\u001b[A\u001b[A"
     ]
    },
    {
     "name": "stdout",
     "output_type": "stream",
     "text": [
      "text_voxaudio label_shift: 4 (102408, 812) (102408,) num feats 812 0.6132358636715725\n"
     ]
    },
    {
     "name": "stderr",
     "output_type": "stream",
     "text": [
      "\n",
      "\n",
      " 68%|██████▊   | 19/28 [03:30<01:42, 11.44s/it]\u001b[A\u001b[A"
     ]
    },
    {
     "name": "stdout",
     "output_type": "stream",
     "text": [
      "video_voxaudio label_shift: 0 (102916, 2560) (102916,) num feats 2560 0.6435452793834296\n",
      "text_voxaudio label_shift: 9 (101773, 812) (101773,) num feats 812 0.591688590080873\n"
     ]
    },
    {
     "name": "stderr",
     "output_type": "stream",
     "text": [
      "\n",
      "\n",
      " 71%|███████▏  | 20/28 [03:58<02:09, 16.22s/it]\u001b[A\u001b[A"
     ]
    },
    {
     "name": "stdout",
     "output_type": "stream",
     "text": [
      "text_video_voxaudio label_shift: 0 (102916, 2860) (102916,) num feats 2860 0.6624277456647398\n",
      "video_voxaudio label_shift: 2 (102662, 2560) (102662,) num feats 2560 0.6117442534286266\n"
     ]
    },
    {
     "name": "stderr",
     "output_type": "stream",
     "text": [
      "\n",
      "\n",
      " 79%|███████▊  | 22/28 [04:19<01:27, 14.54s/it]\u001b[A\u001b[A"
     ]
    },
    {
     "name": "stdout",
     "output_type": "stream",
     "text": [
      "video_voxaudio label_shift: 4 (102408, 2560) (102408,) num feats 2560 0.5979376452362509\n"
     ]
    },
    {
     "name": "stderr",
     "output_type": "stream",
     "text": [
      "\n",
      "\n",
      " 82%|████████▏ | 23/28 [04:39<01:21, 16.29s/it]\u001b[A\u001b[A"
     ]
    },
    {
     "name": "stdout",
     "output_type": "stream",
     "text": [
      "video_voxaudio label_shift: 9 (101773, 2560) (101773,) num feats 2560 0.5822858813212511\n"
     ]
    },
    {
     "name": "stderr",
     "output_type": "stream",
     "text": [
      "\n",
      "\n",
      " 86%|████████▌ | 24/28 [04:40<00:46, 11.57s/it]\u001b[A\u001b[A"
     ]
    },
    {
     "name": "stdout",
     "output_type": "stream",
     "text": [
      "text_video_voxaudio label_shift: 2 (102662, 2860) (102662,) num feats 2860 0.6268591848560943\n"
     ]
    },
    {
     "name": "stderr",
     "output_type": "stream",
     "text": [
      "\n",
      "\n",
      " 93%|█████████▎| 26/28 [04:56<00:21, 10.52s/it]\u001b[A\u001b[A"
     ]
    },
    {
     "name": "stdout",
     "output_type": "stream",
     "text": [
      "text_video_voxaudio label_shift: 4 (102408, 2860) (102408,) num feats 2860 0.6103795507358637\n"
     ]
    },
    {
     "name": "stderr",
     "output_type": "stream",
     "text": [
      "\n",
      "\n",
      " 96%|█████████▋| 27/28 [05:11<00:11, 11.97s/it]\u001b[A\u001b[A"
     ]
    },
    {
     "name": "stdout",
     "output_type": "stream",
     "text": [
      "text_video_voxaudio label_shift: 9 (101773, 2860) (101773,) num feats 2860 0.5895449673584722\n"
     ]
    },
    {
     "name": "stderr",
     "output_type": "stream",
     "text": [
      "\n",
      "\n",
      "100%|██████████| 28/28 [05:25<00:00, 12.53s/it]\u001b[A\u001b[A"
     ]
    },
    {
     "name": "stdout",
     "output_type": "stream",
     "text": [
      "use_crossval: False | use_all_perspectives: False | predict_only_host: False | clf: <class 'sklearn.naive_bayes.GaussianNB'>\n",
      "{4: [(('text', 0), 0.6452951346011361), (('text', 2), 0.5723270440251572), (('text', 4), 0.5716697284146766), (('text', 9), 0.551296786767278), (('video', 0), 0.5657199308471228), (('video', 2), 0.5463279354231665), (('video', 4), 0.5419790477136189), (('video', 9), 0.5399030533206737), (('voxaudio', 0), 0.6749320819955544), (('voxaudio', 2), 0.6355172584559006), (('voxaudio', 4), 0.6221637455935654), (('voxaudio', 9), 0.6089650692119334), (('text_video', 0), 0.62904420844653), (('text_video', 2), 0.5894616946466598), (('text_video', 4), 0.5778759743806167), (('text_video', 9), 0.5564939283394134), (('text_voxaudio', 0), 0.6722647567300568), (('text_voxaudio', 2), 0.6107066805328579), (('text_voxaudio', 4), 0.6065240057593962), (('text_voxaudio', 9), 0.5909749637699265), (('video_voxaudio', 0), 0.6466287972338849), (('video_voxaudio', 2), 0.6116476006536918), (('video_voxaudio', 4), 0.5970408619234397), (('video_voxaudio', 9), 0.576582879416321), (('text_video_voxaudio', 0), 0.6637194368979995), (('text_video_voxaudio', 2), 0.6155103253602734), (('text_video_voxaudio', 4), 0.604885556824388), (('text_video_voxaudio', 9), 0.5822797461396232)], 5: [(('text', 0), 0.6498554913294797), (('text', 2), 0.6086536604210933), (('text', 4), 0.5914988381099923), (('text', 9), 0.5682061775309364), (('video', 0), 0.5648843930635838), (('video', 2), 0.5517191423604404), (('video', 4), 0.5476374903175832), (('video', 9), 0.5464289194192731), (('voxaudio', 0), 0.6700385356454721), (('voxaudio', 2), 0.6368553216148348), (('voxaudio', 4), 0.6249515879163439), (('voxaudio', 9), 0.6140017538731365), (('text_video', 0), 0.6205202312138728), (('text_video', 2), 0.5928626617732278), (('text_video', 4), 0.5784759876065065), (('text_video', 9), 0.5630907142161161), (('text_voxaudio', 0), 0.6660404624277456), (('text_voxaudio', 2), 0.6283079003283755), (('text_voxaudio', 4), 0.6132358636715725), (('text_voxaudio', 9), 0.591688590080873), (('video_voxaudio', 0), 0.6435452793834296), (('video_voxaudio', 2), 0.6117442534286266), (('video_voxaudio', 4), 0.5979376452362509), (('video_voxaudio', 9), 0.5822858813212511), (('text_video_voxaudio', 0), 0.6624277456647398), (('text_video_voxaudio', 2), 0.6268591848560943), (('text_video_voxaudio', 4), 0.6103795507358637), (('text_video_voxaudio', 9), 0.5895449673584722)]}\n",
      "(131113, 2881)\n"
     ]
    },
    {
     "name": "stderr",
     "output_type": "stream",
     "text": [
      "\n",
      "\n",
      "  0%|          | 0/28 [00:00<?, ?it/s]\u001b[A\u001b[A"
     ]
    },
    {
     "name": "stdout",
     "output_type": "stream",
     "text": [
      "text label_shift: 0 (102241, 300) (102241,) num feats 300 0.5935046049442559\n"
     ]
    },
    {
     "name": "stderr",
     "output_type": "stream",
     "text": [
      "\n",
      "\n",
      "  4%|▎         | 1/28 [00:35<16:03, 35.68s/it]\u001b[A\u001b[A"
     ]
    },
    {
     "name": "stdout",
     "output_type": "stream",
     "text": [
      "video label_shift: 0 (102241, 2048) (102241,) num feats 2048 0.5523994183228308\n",
      "text label_shift: 9 (101098, 300) (101098,) num feats 300 0.4525887428907629\n",
      "text label_shift: 4 (101733, 300) (101733,) num feats 300 0.5499853843905291\n",
      "text label_shift: 2 (101987, 300) (101987,) num feats 300 0.5626397123141219\n"
     ]
    },
    {
     "name": "stderr",
     "output_type": "stream",
     "text": [
      "\n",
      "\n",
      "  7%|▋         | 2/28 [01:06<14:52, 34.31s/it]\u001b[A\u001b[A"
     ]
    },
    {
     "name": "stdout",
     "output_type": "stream",
     "text": [
      "video label_shift: 2 (101987, 2048) (101987,) num feats 2048 0.5373214112158616\n"
     ]
    },
    {
     "name": "stderr",
     "output_type": "stream",
     "text": [
      "\n",
      "\n",
      " 21%|██▏       | 6/28 [01:12<08:57, 24.42s/it]\u001b[A\u001b[A"
     ]
    },
    {
     "name": "stdout",
     "output_type": "stream",
     "text": [
      "voxaudio label_shift: 0 (102241, 512) (102241,) num feats 512 0.6484730974309258\n",
      "video label_shift: 4 (101733, 2048) (101733,) num feats 2048 0.5342005261619409\n"
     ]
    },
    {
     "name": "stderr",
     "output_type": "stream",
     "text": [
      "\n",
      "\n",
      " 25%|██▌       | 7/28 [01:46<09:34, 27.34s/it]\u001b[A\u001b[A"
     ]
    },
    {
     "name": "stdout",
     "output_type": "stream",
     "text": [
      "video label_shift: 9 (101098, 2048) (101098,) num feats 2048 0.5295646205138262\n"
     ]
    },
    {
     "name": "stderr",
     "output_type": "stream",
     "text": [
      "\n",
      "\n",
      " 29%|██▊       | 8/28 [01:51<06:52, 20.64s/it]\u001b[A\u001b[A"
     ]
    },
    {
     "name": "stdout",
     "output_type": "stream",
     "text": [
      "voxaudio label_shift: 2 (101987, 512) (101987,) num feats 512 0.6339780347944407\n",
      "voxaudio label_shift: 4 (101733, 512) (101733,) num feats 512 0.6300302055929066\n"
     ]
    },
    {
     "name": "stderr",
     "output_type": "stream",
     "text": [
      "\n",
      "\n",
      " 36%|███▌      | 10/28 [02:12<05:18, 17.67s/it]\u001b[A\u001b[A"
     ]
    },
    {
     "name": "stdout",
     "output_type": "stream",
     "text": [
      "voxaudio label_shift: 9 (101098, 512) (101098,) num feats 512 0.6314963718376152\n"
     ]
    },
    {
     "name": "stderr",
     "output_type": "stream",
     "text": [
      "\n",
      "\n",
      " 43%|████▎     | 12/28 [02:18<03:32, 13.25s/it]\u001b[A\u001b[A"
     ]
    },
    {
     "name": "stdout",
     "output_type": "stream",
     "text": [
      "text_video label_shift: 0 (102241, 2348) (102241,) num feats 2348 0.5888027144934561\n"
     ]
    },
    {
     "name": "stderr",
     "output_type": "stream",
     "text": [
      "\n",
      "\n",
      " 46%|████▋     | 13/28 [02:23<02:38, 10.57s/it]\u001b[A\u001b[A"
     ]
    },
    {
     "name": "stdout",
     "output_type": "stream",
     "text": [
      "text_voxaudio label_shift: 0 (102241, 812) (102241,) num feats 812 0.6113427047988367\n",
      "text_video label_shift: 2 (101987, 2348) (101987,) num feats 2348 0.5645349402274273\n"
     ]
    },
    {
     "name": "stderr",
     "output_type": "stream",
     "text": [
      "\n",
      "\n",
      " 50%|█████     | 14/28 [02:59<04:16, 18.32s/it]\u001b[A\u001b[A"
     ]
    },
    {
     "name": "stdout",
     "output_type": "stream",
     "text": [
      "text_video label_shift: 4 (101733, 2348) (101733,) num feats 2348 0.5576829387118776\n"
     ]
    },
    {
     "name": "stderr",
     "output_type": "stream",
     "text": [
      "\n",
      "\n",
      " 54%|█████▎    | 15/28 [03:04<03:05, 14.25s/it]\u001b[A\u001b[A"
     ]
    },
    {
     "name": "stdout",
     "output_type": "stream",
     "text": [
      "text_voxaudio label_shift: 2 (101987, 812) (101987,) num feats 812 0.5836816017105647\n",
      "text_video label_shift: 9 (101098, 2348) (101098,) num feats 2348 0.5395665816826829\n"
     ]
    },
    {
     "name": "stderr",
     "output_type": "stream",
     "text": [
      "\n",
      "\n",
      " 57%|█████▋    | 16/28 [03:25<03:17, 16.45s/it]\u001b[A\u001b[A"
     ]
    },
    {
     "name": "stdout",
     "output_type": "stream",
     "text": [
      "text_voxaudio label_shift: 4 (101733, 812) (101733,) num feats 812 0.5723959855792653\n"
     ]
    },
    {
     "name": "stderr",
     "output_type": "stream",
     "text": [
      "\n",
      "\n",
      " 68%|██████▊   | 19/28 [03:29<01:47, 11.92s/it]\u001b[A\u001b[A"
     ]
    },
    {
     "name": "stdout",
     "output_type": "stream",
     "text": [
      "video_voxaudio label_shift: 0 (102241, 2560) (102241,) num feats 2560 0.6206010664081435\n",
      "text_voxaudio label_shift: 9 (101098, 812) (101098,) num feats 812 0.5500098058442832\n"
     ]
    },
    {
     "name": "stderr",
     "output_type": "stream",
     "text": [
      "\n",
      "\n",
      " 71%|███████▏  | 20/28 [03:56<02:09, 16.19s/it]\u001b[A\u001b[A"
     ]
    },
    {
     "name": "stdout",
     "output_type": "stream",
     "text": [
      "text_video_voxaudio label_shift: 0 (102241, 2860) (102241,) num feats 2860 0.6283082888996607\n",
      "video_voxaudio label_shift: 2 (101987, 2560) (101987,) num feats 2560 0.6008358441053553\n"
     ]
    },
    {
     "name": "stderr",
     "output_type": "stream",
     "text": [
      "\n",
      "\n",
      " 79%|███████▊  | 22/28 [04:17<01:27, 14.60s/it]\u001b[A\u001b[A"
     ]
    },
    {
     "name": "stdout",
     "output_type": "stream",
     "text": [
      "video_voxaudio label_shift: 9 (101098, 2560) (101098,) num feats 2560 0.5808491861149245\n",
      "video_voxaudio label_shift: 4 (101733, 2560) (101733,) num feats 2560 0.5911039657020365\n"
     ]
    },
    {
     "name": "stderr",
     "output_type": "stream",
     "text": [
      "\n",
      "\n",
      " 82%|████████▏ | 23/28 [04:39<01:23, 16.60s/it]\u001b[A\u001b[A"
     ]
    },
    {
     "name": "stdout",
     "output_type": "stream",
     "text": [
      "text_video_voxaudio label_shift: 2 (101987, 2860) (101987,) num feats 2860 0.600155505880066\n"
     ]
    },
    {
     "name": "stderr",
     "output_type": "stream",
     "text": [
      "\n",
      "\n",
      " 93%|█████████▎| 26/28 [04:56<00:26, 13.38s/it]\u001b[A\u001b[A"
     ]
    },
    {
     "name": "stdout",
     "output_type": "stream",
     "text": [
      "text_video_voxaudio label_shift: 4 (101733, 2860) (101733,) num feats 2860 0.5913475591932184\n"
     ]
    },
    {
     "name": "stderr",
     "output_type": "stream",
     "text": [
      "\n",
      "\n",
      " 96%|█████████▋| 27/28 [05:09<00:13, 13.21s/it]\u001b[A\u001b[A"
     ]
    },
    {
     "name": "stdout",
     "output_type": "stream",
     "text": [
      "text_video_voxaudio label_shift: 9 (101098, 2860) (101098,) num feats 2860 0.5694744067464209\n"
     ]
    },
    {
     "name": "stderr",
     "output_type": "stream",
     "text": [
      "\n",
      "\n",
      "100%|██████████| 28/28 [05:24<00:00, 13.91s/it]\u001b[A\u001b[A"
     ]
    },
    {
     "name": "stdout",
     "output_type": "stream",
     "text": [
      "use_crossval: False | use_all_perspectives: False | predict_only_host: False | clf: <class 'sklearn.naive_bayes.GaussianNB'>\n",
      "{4: [(('text', 0), 0.6452951346011361), (('text', 2), 0.5723270440251572), (('text', 4), 0.5716697284146766), (('text', 9), 0.551296786767278), (('video', 0), 0.5657199308471228), (('video', 2), 0.5463279354231665), (('video', 4), 0.5419790477136189), (('video', 9), 0.5399030533206737), (('voxaudio', 0), 0.6749320819955544), (('voxaudio', 2), 0.6355172584559006), (('voxaudio', 4), 0.6221637455935654), (('voxaudio', 9), 0.6089650692119334), (('text_video', 0), 0.62904420844653), (('text_video', 2), 0.5894616946466598), (('text_video', 4), 0.5778759743806167), (('text_video', 9), 0.5564939283394134), (('text_voxaudio', 0), 0.6722647567300568), (('text_voxaudio', 2), 0.6107066805328579), (('text_voxaudio', 4), 0.6065240057593962), (('text_voxaudio', 9), 0.5909749637699265), (('video_voxaudio', 0), 0.6466287972338849), (('video_voxaudio', 2), 0.6116476006536918), (('video_voxaudio', 4), 0.5970408619234397), (('video_voxaudio', 9), 0.576582879416321), (('text_video_voxaudio', 0), 0.6637194368979995), (('text_video_voxaudio', 2), 0.6155103253602734), (('text_video_voxaudio', 4), 0.604885556824388), (('text_video_voxaudio', 9), 0.5822797461396232)], 5: [(('text', 0), 0.6498554913294797), (('text', 2), 0.6086536604210933), (('text', 4), 0.5914988381099923), (('text', 9), 0.5682061775309364), (('video', 0), 0.5648843930635838), (('video', 2), 0.5517191423604404), (('video', 4), 0.5476374903175832), (('video', 9), 0.5464289194192731), (('voxaudio', 0), 0.6700385356454721), (('voxaudio', 2), 0.6368553216148348), (('voxaudio', 4), 0.6249515879163439), (('voxaudio', 9), 0.6140017538731365), (('text_video', 0), 0.6205202312138728), (('text_video', 2), 0.5928626617732278), (('text_video', 4), 0.5784759876065065), (('text_video', 9), 0.5630907142161161), (('text_voxaudio', 0), 0.6660404624277456), (('text_voxaudio', 2), 0.6283079003283755), (('text_voxaudio', 4), 0.6132358636715725), (('text_voxaudio', 9), 0.591688590080873), (('video_voxaudio', 0), 0.6435452793834296), (('video_voxaudio', 2), 0.6117442534286266), (('video_voxaudio', 4), 0.5979376452362509), (('video_voxaudio', 9), 0.5822858813212511), (('text_video_voxaudio', 0), 0.6624277456647398), (('text_video_voxaudio', 2), 0.6268591848560943), (('text_video_voxaudio', 4), 0.6103795507358637), (('text_video_voxaudio', 9), 0.5895449673584722)], 10: [(('text', 0), 0.5935046049442559), (('text', 2), 0.5626397123141219), (('text', 4), 0.5499853843905291), (('text', 9), 0.4525887428907629), (('video', 0), 0.5523994183228308), (('video', 2), 0.5373214112158616), (('video', 4), 0.5342005261619409), (('video', 9), 0.5295646205138262), (('voxaudio', 0), 0.6484730974309258), (('voxaudio', 2), 0.6339780347944407), (('voxaudio', 4), 0.6300302055929066), (('voxaudio', 9), 0.6314963718376152), (('text_video', 0), 0.5888027144934561), (('text_video', 2), 0.5645349402274273), (('text_video', 4), 0.5576829387118776), (('text_video', 9), 0.5395665816826829), (('text_voxaudio', 0), 0.6113427047988367), (('text_voxaudio', 2), 0.5836816017105647), (('text_voxaudio', 4), 0.5723959855792653), (('text_voxaudio', 9), 0.5500098058442832), (('video_voxaudio', 0), 0.6206010664081435), (('video_voxaudio', 2), 0.6008358441053553), (('video_voxaudio', 4), 0.5911039657020365), (('video_voxaudio', 9), 0.5808491861149245), (('text_video_voxaudio', 0), 0.6283082888996607), (('text_video_voxaudio', 2), 0.600155505880066), (('text_video_voxaudio', 4), 0.5913475591932184), (('text_video_voxaudio', 9), 0.5694744067464209)]}\n",
      "(129245, 2881)\n"
     ]
    },
    {
     "name": "stderr",
     "output_type": "stream",
     "text": [
      "\n",
      "\n",
      "  0%|          | 0/28 [00:00<?, ?it/s]\u001b[A\u001b[A"
     ]
    },
    {
     "name": "stdout",
     "output_type": "stream",
     "text": [
      "text label_shift: 0 (101483, 300) (101483,) num feats 300 0.4972650422675286\n"
     ]
    },
    {
     "name": "stderr",
     "output_type": "stream",
     "text": [
      "\n",
      "\n",
      "  4%|▎         | 1/28 [00:35<15:46, 35.04s/it]\u001b[A\u001b[A"
     ]
    },
    {
     "name": "stdout",
     "output_type": "stream",
     "text": [
      "video label_shift: 0 (101483, 2048) (101483,) num feats 2048 0.5436101442068623\n",
      "text label_shift: 2 (101229, 300) (101229,) num feats 300 0.4849935187954931\n"
     ]
    },
    {
     "name": "stderr",
     "output_type": "stream",
     "text": [
      "\n",
      "\n",
      "  7%|▋         | 2/28 [01:06<14:40, 33.87s/it]\u001b[A\u001b[A"
     ]
    },
    {
     "name": "stdout",
     "output_type": "stream",
     "text": [
      "text label_shift: 9 (100340, 300) (100340,) num feats 300 0.4606560676192393\n",
      "text label_shift: 4 (100975, 300) (100975,) num feats 300 0.4789063281015695\n"
     ]
    },
    {
     "name": "stderr",
     "output_type": "stream",
     "text": [
      "\n",
      "\n",
      " 11%|█         | 3/28 [01:08<10:08, 24.35s/it]\u001b[A\u001b[A"
     ]
    },
    {
     "name": "stdout",
     "output_type": "stream",
     "text": [
      "video label_shift: 2 (101229, 2048) (101229,) num feats 2048 0.5328547213082062\n"
     ]
    },
    {
     "name": "stderr",
     "output_type": "stream",
     "text": [
      "\n",
      "\n",
      " 21%|██▏       | 6/28 [01:10<06:20, 17.30s/it]\u001b[A\u001b[A"
     ]
    },
    {
     "name": "stdout",
     "output_type": "stream",
     "text": [
      "voxaudio label_shift: 0 (101483, 512) (101483,) num feats 512 0.6586772749875683\n",
      "video label_shift: 4 (100975, 2048) (100975,) num feats 2048 0.5358392482255323\n"
     ]
    },
    {
     "name": "stderr",
     "output_type": "stream",
     "text": [
      "\n",
      "\n",
      " 25%|██▌       | 7/28 [01:46<07:58, 22.78s/it]\u001b[A\u001b[A"
     ]
    },
    {
     "name": "stdout",
     "output_type": "stream",
     "text": [
      "video label_shift: 9 (100340, 2048) (100340,) num feats 2048 0.5361742805393439\n"
     ]
    },
    {
     "name": "stderr",
     "output_type": "stream",
     "text": [
      "\n",
      "\n",
      " 29%|██▊       | 8/28 [01:50<05:42, 17.13s/it]\u001b[A\u001b[A"
     ]
    },
    {
     "name": "stdout",
     "output_type": "stream",
     "text": [
      "voxaudio label_shift: 4 (100975, 512) (100975,) num feats 512 0.6517544736579026\n",
      "voxaudio label_shift: 2 (101229, 512) (101229,) num feats 512 0.6546016551999202\n"
     ]
    },
    {
     "name": "stderr",
     "output_type": "stream",
     "text": [
      "\n",
      "\n",
      " 36%|███▌      | 10/28 [02:14<04:41, 15.62s/it]\u001b[A\u001b[A"
     ]
    },
    {
     "name": "stdout",
     "output_type": "stream",
     "text": [
      "voxaudio label_shift: 9 (100340, 512) (100340,) num feats 512 0.6398671764942644\n"
     ]
    },
    {
     "name": "stderr",
     "output_type": "stream",
     "text": [
      "\n",
      "\n",
      " 43%|████▎     | 12/28 [02:17<03:01, 11.32s/it]\u001b[A\u001b[A"
     ]
    },
    {
     "name": "stdout",
     "output_type": "stream",
     "text": [
      "text_video label_shift: 0 (101483, 2348) (101483,) num feats 2348 0.5501740427647936\n"
     ]
    },
    {
     "name": "stderr",
     "output_type": "stream",
     "text": [
      "\n",
      "\n",
      " 46%|████▋     | 13/28 [02:21<02:20,  9.35s/it]\u001b[A\u001b[A"
     ]
    },
    {
     "name": "stdout",
     "output_type": "stream",
     "text": [
      "text_voxaudio label_shift: 0 (101483, 812) (101483,) num feats 812 0.5317752362008951\n",
      "text_video label_shift: 2 (101229, 2348) (101229,) num feats 2348 0.5341509622095921\n"
     ]
    },
    {
     "name": "stderr",
     "output_type": "stream",
     "text": [
      "\n",
      "\n",
      " 50%|█████     | 14/28 [02:57<04:02, 17.34s/it]\u001b[A\u001b[A"
     ]
    },
    {
     "name": "stdout",
     "output_type": "stream",
     "text": [
      "text_video label_shift: 4 (100975, 2348) (100975,) num feats 2348 0.5299410176946916\n"
     ]
    },
    {
     "name": "stderr",
     "output_type": "stream",
     "text": [
      "\n",
      "\n",
      " 54%|█████▎    | 15/28 [03:01<02:53, 13.34s/it]\u001b[A\u001b[A"
     ]
    },
    {
     "name": "stdout",
     "output_type": "stream",
     "text": [
      "text_voxaudio label_shift: 2 (101229, 812) (101229,) num feats 812 0.5219862399042776\n",
      "text_video label_shift: 9 (100340, 2348) (100340,) num feats 2348 0.5191185349164822\n"
     ]
    },
    {
     "name": "stderr",
     "output_type": "stream",
     "text": [
      "\n",
      "\n",
      " 57%|█████▋    | 16/28 [03:24<03:14, 16.20s/it]\u001b[A\u001b[A"
     ]
    },
    {
     "name": "stdout",
     "output_type": "stream",
     "text": [
      "text_voxaudio label_shift: 4 (100975, 812) (100975,) num feats 812 0.5228431470558832\n"
     ]
    },
    {
     "name": "stderr",
     "output_type": "stream",
     "text": [
      "\n",
      "\n",
      " 68%|██████▊   | 19/28 [03:28<01:45, 11.71s/it]\u001b[A\u001b[A"
     ]
    },
    {
     "name": "stdout",
     "output_type": "stream",
     "text": [
      "video_voxaudio label_shift: 0 (101483, 2560) (101483,) num feats 2560 0.6037792143212333\n",
      "text_voxaudio label_shift: 9 (100340, 812) (100340,) num feats 812 0.5329040048299457\n"
     ]
    },
    {
     "name": "stderr",
     "output_type": "stream",
     "text": [
      "\n",
      "\n",
      " 71%|███████▏  | 20/28 [03:58<02:17, 17.24s/it]\u001b[A\u001b[A"
     ]
    },
    {
     "name": "stdout",
     "output_type": "stream",
     "text": [
      "text_video_voxaudio label_shift: 0 (101483, 2860) (101483,) num feats 2860 0.5816011934361014\n",
      "video_voxaudio label_shift: 2 (101229, 2560) (101229,) num feats 2560 0.5998105494067205\n"
     ]
    },
    {
     "name": "stderr",
     "output_type": "stream",
     "text": [
      "\n",
      "\n",
      " 79%|███████▊  | 22/28 [04:13<01:26, 14.36s/it]\u001b[A\u001b[A"
     ]
    },
    {
     "name": "stdout",
     "output_type": "stream",
     "text": [
      "video_voxaudio label_shift: 4 (100975, 2560) (100975,) num feats 2560 0.5993202039388184\n"
     ]
    },
    {
     "name": "stderr",
     "output_type": "stream",
     "text": [
      "\n",
      "\n",
      " 82%|████████▏ | 23/28 [04:35<01:22, 16.47s/it]\u001b[A\u001b[A"
     ]
    },
    {
     "name": "stdout",
     "output_type": "stream",
     "text": [
      "video_voxaudio label_shift: 9 (100340, 2560) (100340,) num feats 2560 0.5982592070839203\n"
     ]
    },
    {
     "name": "stderr",
     "output_type": "stream",
     "text": [
      "\n",
      "\n",
      " 86%|████████▌ | 24/28 [04:36<00:47, 11.90s/it]\u001b[A\u001b[A"
     ]
    },
    {
     "name": "stdout",
     "output_type": "stream",
     "text": [
      "text_video_voxaudio label_shift: 2 (101229, 2860) (101229,) num feats 2860 0.5676039485492073\n"
     ]
    },
    {
     "name": "stderr",
     "output_type": "stream",
     "text": [
      "\n",
      "\n",
      " 93%|█████████▎| 26/28 [04:51<00:21, 10.58s/it]\u001b[A\u001b[A"
     ]
    },
    {
     "name": "stdout",
     "output_type": "stream",
     "text": [
      "text_video_voxaudio label_shift: 4 (100975, 2860) (100975,) num feats 2860 0.5645306408077577\n"
     ]
    },
    {
     "name": "stderr",
     "output_type": "stream",
     "text": [
      "\n",
      "\n",
      " 96%|█████████▋| 27/28 [05:10<00:13, 13.18s/it]\u001b[A\u001b[A"
     ]
    },
    {
     "name": "stdout",
     "output_type": "stream",
     "text": [
      "text_video_voxaudio label_shift: 9 (100340, 2860) (100340,) num feats 2860 0.5621352384785672\n"
     ]
    },
    {
     "name": "stderr",
     "output_type": "stream",
     "text": [
      "\n",
      "\n",
      "100%|██████████| 28/28 [05:23<00:00, 13.07s/it]\u001b[A\u001b[A"
     ]
    },
    {
     "name": "stdout",
     "output_type": "stream",
     "text": [
      "use_crossval: False | use_all_perspectives: False | predict_only_host: False | clf: <class 'sklearn.naive_bayes.GaussianNB'>\n",
      "{4: [(('text', 0), 0.6452951346011361), (('text', 2), 0.5723270440251572), (('text', 4), 0.5716697284146766), (('text', 9), 0.551296786767278), (('video', 0), 0.5657199308471228), (('video', 2), 0.5463279354231665), (('video', 4), 0.5419790477136189), (('video', 9), 0.5399030533206737), (('voxaudio', 0), 0.6749320819955544), (('voxaudio', 2), 0.6355172584559006), (('voxaudio', 4), 0.6221637455935654), (('voxaudio', 9), 0.6089650692119334), (('text_video', 0), 0.62904420844653), (('text_video', 2), 0.5894616946466598), (('text_video', 4), 0.5778759743806167), (('text_video', 9), 0.5564939283394134), (('text_voxaudio', 0), 0.6722647567300568), (('text_voxaudio', 2), 0.6107066805328579), (('text_voxaudio', 4), 0.6065240057593962), (('text_voxaudio', 9), 0.5909749637699265), (('video_voxaudio', 0), 0.6466287972338849), (('video_voxaudio', 2), 0.6116476006536918), (('video_voxaudio', 4), 0.5970408619234397), (('video_voxaudio', 9), 0.576582879416321), (('text_video_voxaudio', 0), 0.6637194368979995), (('text_video_voxaudio', 2), 0.6155103253602734), (('text_video_voxaudio', 4), 0.604885556824388), (('text_video_voxaudio', 9), 0.5822797461396232)], 5: [(('text', 0), 0.6498554913294797), (('text', 2), 0.6086536604210933), (('text', 4), 0.5914988381099923), (('text', 9), 0.5682061775309364), (('video', 0), 0.5648843930635838), (('video', 2), 0.5517191423604404), (('video', 4), 0.5476374903175832), (('video', 9), 0.5464289194192731), (('voxaudio', 0), 0.6700385356454721), (('voxaudio', 2), 0.6368553216148348), (('voxaudio', 4), 0.6249515879163439), (('voxaudio', 9), 0.6140017538731365), (('text_video', 0), 0.6205202312138728), (('text_video', 2), 0.5928626617732278), (('text_video', 4), 0.5784759876065065), (('text_video', 9), 0.5630907142161161), (('text_voxaudio', 0), 0.6660404624277456), (('text_voxaudio', 2), 0.6283079003283755), (('text_voxaudio', 4), 0.6132358636715725), (('text_voxaudio', 9), 0.591688590080873), (('video_voxaudio', 0), 0.6435452793834296), (('video_voxaudio', 2), 0.6117442534286266), (('video_voxaudio', 4), 0.5979376452362509), (('video_voxaudio', 9), 0.5822858813212511), (('text_video_voxaudio', 0), 0.6624277456647398), (('text_video_voxaudio', 2), 0.6268591848560943), (('text_video_voxaudio', 4), 0.6103795507358637), (('text_video_voxaudio', 9), 0.5895449673584722)], 10: [(('text', 0), 0.5935046049442559), (('text', 2), 0.5626397123141219), (('text', 4), 0.5499853843905291), (('text', 9), 0.4525887428907629), (('video', 0), 0.5523994183228308), (('video', 2), 0.5373214112158616), (('video', 4), 0.5342005261619409), (('video', 9), 0.5295646205138262), (('voxaudio', 0), 0.6484730974309258), (('voxaudio', 2), 0.6339780347944407), (('voxaudio', 4), 0.6300302055929066), (('voxaudio', 9), 0.6314963718376152), (('text_video', 0), 0.5888027144934561), (('text_video', 2), 0.5645349402274273), (('text_video', 4), 0.5576829387118776), (('text_video', 9), 0.5395665816826829), (('text_voxaudio', 0), 0.6113427047988367), (('text_voxaudio', 2), 0.5836816017105647), (('text_voxaudio', 4), 0.5723959855792653), (('text_voxaudio', 9), 0.5500098058442832), (('video_voxaudio', 0), 0.6206010664081435), (('video_voxaudio', 2), 0.6008358441053553), (('video_voxaudio', 4), 0.5911039657020365), (('video_voxaudio', 9), 0.5808491861149245), (('text_video_voxaudio', 0), 0.6283082888996607), (('text_video_voxaudio', 2), 0.600155505880066), (('text_video_voxaudio', 4), 0.5913475591932184), (('text_video_voxaudio', 9), 0.5694744067464209)], 30: [(('text', 0), 0.4972650422675286), (('text', 2), 0.4849935187954931), (('text', 4), 0.4789063281015695), (('text', 9), 0.4606560676192393), (('video', 0), 0.5436101442068623), (('video', 2), 0.5328547213082062), (('video', 4), 0.5358392482255323), (('video', 9), 0.5361742805393439), (('voxaudio', 0), 0.6586772749875683), (('voxaudio', 2), 0.6546016551999202), (('voxaudio', 4), 0.6517544736579026), (('voxaudio', 9), 0.6398671764942644), (('text_video', 0), 0.5501740427647936), (('text_video', 2), 0.5341509622095921), (('text_video', 4), 0.5299410176946916), (('text_video', 9), 0.5191185349164822), (('text_voxaudio', 0), 0.5317752362008951), (('text_voxaudio', 2), 0.5219862399042776), (('text_voxaudio', 4), 0.5228431470558832), (('text_voxaudio', 9), 0.5329040048299457), (('video_voxaudio', 0), 0.6037792143212333), (('video_voxaudio', 2), 0.5998105494067205), (('video_voxaudio', 4), 0.5993202039388184), (('video_voxaudio', 9), 0.5982592070839203), (('text_video_voxaudio', 0), 0.5816011934361014), (('text_video_voxaudio', 2), 0.5676039485492073), (('text_video_voxaudio', 4), 0.5645306408077577), (('text_video_voxaudio', 9), 0.5621352384785672)]}\n",
      "use_crossval: False | use_all_perspectives: False | predict_only_host: True | clf: <class 'sklearn.naive_bayes.GaussianNB'>\n",
      "(136431, 2881)\n"
     ]
    },
    {
     "name": "stderr",
     "output_type": "stream",
     "text": [
      "\n",
      "\n",
      "  0%|          | 0/28 [00:00<?, ?it/s]\u001b[A\u001b[A"
     ]
    },
    {
     "name": "stdout",
     "output_type": "stream",
     "text": [
      "text label_shift: 0 (38598, 300) (38598,) num feats 300 0.6529232400901498\n"
     ]
    },
    {
     "name": "stderr",
     "output_type": "stream",
     "text": [
      "\n",
      "\n",
      "  4%|▎         | 1/28 [00:13<06:01, 13.38s/it]\u001b[A\u001b[A"
     ]
    },
    {
     "name": "stdout",
     "output_type": "stream",
     "text": [
      "video label_shift: 0 (38598, 2048) (38598,) num feats 2048 0.5438154580405674\n",
      "text label_shift: 2 (38504, 300) (38504,) num feats 300 0.6116943521594684\n",
      "text label_shift: 4 (38410, 300) (38410,) num feats 300 0.5946449980018649\n"
     ]
    },
    {
     "name": "stderr",
     "output_type": "stream",
     "text": [
      "\n",
      "\n",
      "  7%|▋         | 2/28 [00:24<05:32, 12.77s/it]\u001b[A\u001b[A"
     ]
    },
    {
     "name": "stdout",
     "output_type": "stream",
     "text": [
      "text label_shift: 9 (38175, 300) (38175,) num feats 300 0.5714285714285714\n",
      "video label_shift: 2 (38504, 2048) (38504,) num feats 2048 0.5217275747508305\n"
     ]
    },
    {
     "name": "stderr",
     "output_type": "stream",
     "text": [
      "\n",
      "\n",
      " 21%|██▏       | 6/28 [00:27<03:20,  9.12s/it]\u001b[A\u001b[A"
     ]
    },
    {
     "name": "stdout",
     "output_type": "stream",
     "text": [
      "voxaudio label_shift: 0 (38598, 512) (38598,) num feats 512 0.6604799151531221\n",
      "video label_shift: 4 (38410, 2048) (38410,) num feats 2048 0.5180498201678434\n"
     ]
    },
    {
     "name": "stderr",
     "output_type": "stream",
     "text": [
      "\n",
      "\n",
      " 25%|██▌       | 7/28 [00:39<03:31, 10.07s/it]\u001b[A\u001b[A"
     ]
    },
    {
     "name": "stdout",
     "output_type": "stream",
     "text": [
      "video label_shift: 9 (38175, 2048) (38175,) num feats 2048 0.5158134548378451\n"
     ]
    },
    {
     "name": "stderr",
     "output_type": "stream",
     "text": [
      "\n",
      "\n",
      " 29%|██▊       | 8/28 [00:42<02:38,  7.91s/it]\u001b[A\u001b[A"
     ]
    },
    {
     "name": "stdout",
     "output_type": "stream",
     "text": [
      "voxaudio label_shift: 2 (38504, 512) (38504,) num feats 512 0.6151495016611296\n"
     ]
    },
    {
     "name": "stderr",
     "output_type": "stream",
     "text": [
      "\n",
      "\n",
      " 36%|███▌      | 10/28 [00:48<01:57,  6.51s/it]\u001b[A\u001b[A"
     ]
    },
    {
     "name": "stdout",
     "output_type": "stream",
     "text": [
      "voxaudio label_shift: 4 (38410, 512) (38410,) num feats 512 0.5973091781004396\n"
     ]
    },
    {
     "name": "stderr",
     "output_type": "stream",
     "text": [
      "\n",
      "\n",
      " 39%|███▉      | 11/28 [00:49<01:19,  4.70s/it]\u001b[A\u001b[A"
     ]
    },
    {
     "name": "stdout",
     "output_type": "stream",
     "text": [
      "voxaudio label_shift: 9 (38175, 512) (38175,) num feats 512 0.5733047440364514\n"
     ]
    },
    {
     "name": "stderr",
     "output_type": "stream",
     "text": [
      "\n",
      "\n",
      " 43%|████▎     | 12/28 [00:52<01:08,  4.26s/it]\u001b[A\u001b[A"
     ]
    },
    {
     "name": "stdout",
     "output_type": "stream",
     "text": [
      "text_video label_shift: 0 (38598, 2348) (38598,) num feats 2348 0.5990985019223121\n"
     ]
    },
    {
     "name": "stderr",
     "output_type": "stream",
     "text": [
      "\n",
      "\n",
      " 46%|████▋     | 13/28 [00:53<00:47,  3.17s/it]\u001b[A\u001b[A"
     ]
    },
    {
     "name": "stdout",
     "output_type": "stream",
     "text": [
      "text_voxaudio label_shift: 0 (38598, 812) (38598,) num feats 812 0.6620707941137478\n",
      "text_video label_shift: 2 (38504, 2348) (38504,) num feats 2348 0.5553488372093023\n"
     ]
    },
    {
     "name": "stderr",
     "output_type": "stream",
     "text": [
      "\n",
      "\n",
      " 50%|█████     | 14/28 [01:06<01:27,  6.24s/it]\u001b[A\u001b[A"
     ]
    },
    {
     "name": "stdout",
     "output_type": "stream",
     "text": [
      "text_video label_shift: 4 (38410, 2348) (38410,) num feats 2348 0.5504196083655255\n"
     ]
    },
    {
     "name": "stderr",
     "output_type": "stream",
     "text": [
      "\n",
      "\n",
      " 54%|█████▎    | 15/28 [01:08<01:05,  5.07s/it]\u001b[A\u001b[A"
     ]
    },
    {
     "name": "stdout",
     "output_type": "stream",
     "text": [
      "text_video label_shift: 9 (38175, 2348) (38175,) num feats 2348 0.5336370946127044\n"
     ]
    },
    {
     "name": "stderr",
     "output_type": "stream",
     "text": [
      "\n",
      "\n",
      " 57%|█████▋    | 16/28 [01:15<01:05,  5.42s/it]\u001b[A\u001b[A"
     ]
    },
    {
     "name": "stdout",
     "output_type": "stream",
     "text": [
      "text_voxaudio label_shift: 2 (38504, 812) (38504,) num feats 812 0.6200664451827242\n"
     ]
    },
    {
     "name": "stderr",
     "output_type": "stream",
     "text": [
      "\n",
      "\n",
      " 64%|██████▍   | 18/28 [01:17<00:41,  4.16s/it]\u001b[A\u001b[A"
     ]
    },
    {
     "name": "stdout",
     "output_type": "stream",
     "text": [
      "text_voxaudio label_shift: 4 (38410, 812) (38410,) num feats 812 0.605568136406021\n"
     ]
    },
    {
     "name": "stderr",
     "output_type": "stream",
     "text": [
      "\n",
      "\n",
      " 68%|██████▊   | 19/28 [01:17<00:26,  2.96s/it]\u001b[A\u001b[A"
     ]
    },
    {
     "name": "stdout",
     "output_type": "stream",
     "text": [
      "video_voxaudio label_shift: 0 (38598, 2560) (38598,) num feats 2560 0.6476203102213973\n",
      "text_voxaudio label_shift: 9 (38175, 812) (38175,) num feats 812 0.5755829536317342\n"
     ]
    },
    {
     "name": "stderr",
     "output_type": "stream",
     "text": [
      "\n",
      "\n",
      " 71%|███████▏  | 20/28 [01:28<00:42,  5.28s/it]\u001b[A\u001b[A"
     ]
    },
    {
     "name": "stdout",
     "output_type": "stream",
     "text": [
      "text_video_voxaudio label_shift: 0 (38598, 2860) (38598,) num feats 2860 0.6554421317778072\n",
      "video_voxaudio label_shift: 2 (38504, 2560) (38504,) num feats 2560 0.598671096345515\n"
     ]
    },
    {
     "name": "stderr",
     "output_type": "stream",
     "text": [
      "\n",
      "\n",
      " 79%|███████▊  | 22/28 [01:35<00:28,  4.83s/it]\u001b[A\u001b[A"
     ]
    },
    {
     "name": "stdout",
     "output_type": "stream",
     "text": [
      "video_voxaudio label_shift: 4 (38410, 2560) (38410,) num feats 2560 0.5737311842280538\n"
     ]
    },
    {
     "name": "stderr",
     "output_type": "stream",
     "text": [
      "\n",
      "\n",
      " 82%|████████▏ | 23/28 [01:42<00:26,  5.37s/it]\u001b[A\u001b[A"
     ]
    },
    {
     "name": "stdout",
     "output_type": "stream",
     "text": [
      "video_voxaudio label_shift: 9 (38175, 2560) (38175,) num feats 2560 0.5532028946663093\n"
     ]
    },
    {
     "name": "stderr",
     "output_type": "stream",
     "text": [
      "\n",
      "\n",
      " 86%|████████▌ | 24/28 [01:45<00:18,  4.63s/it]\u001b[A\u001b[A"
     ]
    },
    {
     "name": "stdout",
     "output_type": "stream",
     "text": [
      "text_video_voxaudio label_shift: 2 (38504, 2860) (38504,) num feats 2860 0.6104983388704319\n"
     ]
    },
    {
     "name": "stderr",
     "output_type": "stream",
     "text": [
      "\n",
      "\n",
      " 93%|█████████▎| 26/28 [01:50<00:08,  4.00s/it]\u001b[A\u001b[A"
     ]
    },
    {
     "name": "stdout",
     "output_type": "stream",
     "text": [
      "text_video_voxaudio label_shift: 4 (38410, 2860) (38410,) num feats 2860 0.596110297056081\n"
     ]
    },
    {
     "name": "stderr",
     "output_type": "stream",
     "text": [
      "\n",
      "\n",
      " 96%|█████████▋| 27/28 [01:55<00:04,  4.36s/it]\u001b[A\u001b[A"
     ]
    },
    {
     "name": "stdout",
     "output_type": "stream",
     "text": [
      "text_video_voxaudio label_shift: 9 (38175, 2860) (38175,) num feats 2860 0.5682122755293487\n"
     ]
    },
    {
     "name": "stderr",
     "output_type": "stream",
     "text": [
      "\n",
      "\n",
      "100%|██████████| 28/28 [02:01<00:00,  4.64s/it]\u001b[A\u001b[A"
     ]
    },
    {
     "name": "stdout",
     "output_type": "stream",
     "text": [
      "use_crossval: False | use_all_perspectives: False | predict_only_host: True | clf: <class 'sklearn.naive_bayes.GaussianNB'>\n",
      "{4: [(('text', 0), 0.6529232400901498), (('text', 2), 0.6116943521594684), (('text', 4), 0.5946449980018649), (('text', 9), 0.5714285714285714), (('video', 0), 0.5438154580405674), (('video', 2), 0.5217275747508305), (('video', 4), 0.5180498201678434), (('video', 9), 0.5158134548378451), (('voxaudio', 0), 0.6604799151531221), (('voxaudio', 2), 0.6151495016611296), (('voxaudio', 4), 0.5973091781004396), (('voxaudio', 9), 0.5733047440364514), (('text_video', 0), 0.5990985019223121), (('text_video', 2), 0.5553488372093023), (('text_video', 4), 0.5504196083655255), (('text_video', 9), 0.5336370946127044), (('text_voxaudio', 0), 0.6620707941137478), (('text_voxaudio', 2), 0.6200664451827242), (('text_voxaudio', 4), 0.605568136406021), (('text_voxaudio', 9), 0.5755829536317342), (('video_voxaudio', 0), 0.6476203102213973), (('video_voxaudio', 2), 0.598671096345515), (('video_voxaudio', 4), 0.5737311842280538), (('video_voxaudio', 9), 0.5532028946663093), (('text_video_voxaudio', 0), 0.6554421317778072), (('text_video_voxaudio', 2), 0.6104983388704319), (('text_video_voxaudio', 4), 0.596110297056081), (('text_video_voxaudio', 9), 0.5682122755293487)]}\n",
      "(132008, 2881)\n"
     ]
    },
    {
     "name": "stderr",
     "output_type": "stream",
     "text": [
      "\n",
      "\n",
      "  0%|          | 0/28 [00:00<?, ?it/s]\u001b[A\u001b[A"
     ]
    },
    {
     "name": "stdout",
     "output_type": "stream",
     "text": [
      "text label_shift: 0 (37829, 300) (37829,) num feats 300 0.6466684364215556\n"
     ]
    },
    {
     "name": "stderr",
     "output_type": "stream",
     "text": [
      "\n",
      "\n",
      "  4%|▎         | 1/28 [00:13<05:57, 13.26s/it]\u001b[A\u001b[A"
     ]
    },
    {
     "name": "stdout",
     "output_type": "stream",
     "text": [
      "video label_shift: 0 (37829, 2048) (37829,) num feats 2048 0.5342447571011415\n",
      "text label_shift: 9 (37406, 300) (37406,) num feats 300 0.5209982557359453\n",
      "text label_shift: 2 (37735, 300) (37735,) num feats 300 0.6101649813730707\n",
      "text label_shift: 4 (37641, 300) (37641,) num feats 300 0.588957055214724\n"
     ]
    },
    {
     "name": "stderr",
     "output_type": "stream",
     "text": [
      "\n",
      "\n",
      "  7%|▋         | 2/28 [00:24<05:29, 12.67s/it]\u001b[A\u001b[A"
     ]
    },
    {
     "name": "stdout",
     "output_type": "stream",
     "text": [
      "video label_shift: 2 (37735, 2048) (37735,) num feats 2048 0.518493879723257\n"
     ]
    },
    {
     "name": "stderr",
     "output_type": "stream",
     "text": [
      "\n",
      "\n",
      " 21%|██▏       | 6/28 [00:26<03:18,  9.02s/it]\u001b[A\u001b[A"
     ]
    },
    {
     "name": "stdout",
     "output_type": "stream",
     "text": [
      "voxaudio label_shift: 0 (37829, 512) (37829,) num feats 512 0.6506503849216884\n",
      "video label_shift: 4 (37641, 2048) (37641,) num feats 2048 0.5194718591624433\n"
     ]
    },
    {
     "name": "stderr",
     "output_type": "stream",
     "text": [
      "\n",
      "\n",
      " 25%|██▌       | 7/28 [00:39<03:31, 10.07s/it]\u001b[A\u001b[A"
     ]
    },
    {
     "name": "stdout",
     "output_type": "stream",
     "text": [
      "video label_shift: 9 (37406, 2048) (37406,) num feats 2048 0.5196565141553737\n"
     ]
    },
    {
     "name": "stderr",
     "output_type": "stream",
     "text": [
      "\n",
      "\n",
      " 29%|██▊       | 8/28 [00:42<02:40,  8.03s/it]\u001b[A\u001b[A"
     ]
    },
    {
     "name": "stdout",
     "output_type": "stream",
     "text": [
      "voxaudio label_shift: 2 (37735, 512) (37735,) num feats 512 0.6113624268227781\n"
     ]
    },
    {
     "name": "stderr",
     "output_type": "stream",
     "text": [
      "\n",
      "\n",
      " 36%|███▌      | 10/28 [00:48<01:58,  6.60s/it]\u001b[A\u001b[A"
     ]
    },
    {
     "name": "stdout",
     "output_type": "stream",
     "text": [
      "voxaudio label_shift: 4 (37641, 512) (37641,) num feats 512 0.5921579087756735\n"
     ]
    },
    {
     "name": "stderr",
     "output_type": "stream",
     "text": [
      "\n",
      "\n",
      " 39%|███▉      | 11/28 [00:49<01:20,  4.75s/it]\u001b[A\u001b[A"
     ]
    },
    {
     "name": "stdout",
     "output_type": "stream",
     "text": [
      "voxaudio label_shift: 9 (37406, 512) (37406,) num feats 512 0.5701059975848651\n"
     ]
    },
    {
     "name": "stderr",
     "output_type": "stream",
     "text": [
      "\n",
      "\n",
      " 43%|████▎     | 12/28 [00:50<01:00,  3.78s/it]\u001b[A\u001b[A"
     ]
    },
    {
     "name": "stdout",
     "output_type": "stream",
     "text": [
      "text_video label_shift: 0 (37829, 2348) (37829,) num feats 2348 0.5914520838863817\n"
     ]
    },
    {
     "name": "stderr",
     "output_type": "stream",
     "text": [
      "\n",
      "\n",
      " 46%|████▋     | 13/28 [00:53<00:49,  3.33s/it]\u001b[A\u001b[A"
     ]
    },
    {
     "name": "stdout",
     "output_type": "stream",
     "text": [
      "text_voxaudio label_shift: 0 (37829, 812) (37829,) num feats 812 0.6531722856384391\n",
      "text_video label_shift: 2 (37735, 2348) (37735,) num feats 2348 0.55401809473124\n"
     ]
    },
    {
     "name": "stderr",
     "output_type": "stream",
     "text": [
      "\n",
      "\n",
      " 50%|█████     | 14/28 [01:05<01:24,  6.06s/it]\u001b[A\u001b[A"
     ]
    },
    {
     "name": "stdout",
     "output_type": "stream",
     "text": [
      "text_video label_shift: 4 (37641, 2348) (37641,) num feats 2348 0.5505468124833289\n"
     ]
    },
    {
     "name": "stderr",
     "output_type": "stream",
     "text": [
      "\n",
      "\n",
      " 54%|█████▎    | 15/28 [01:08<01:07,  5.21s/it]\u001b[A\u001b[A"
     ]
    },
    {
     "name": "stdout",
     "output_type": "stream",
     "text": [
      "text_voxaudio label_shift: 2 (37735, 812) (37735,) num feats 812 0.6137573177221927\n",
      "text_video label_shift: 9 (37406, 2348) (37406,) num feats 2348 0.5320005366966323\n"
     ]
    },
    {
     "name": "stderr",
     "output_type": "stream",
     "text": [
      "\n",
      "\n",
      " 57%|█████▋    | 16/28 [01:16<01:09,  5.83s/it]\u001b[A\u001b[A"
     ]
    },
    {
     "name": "stdout",
     "output_type": "stream",
     "text": [
      "text_voxaudio label_shift: 4 (37641, 812) (37641,) num feats 812 0.5956255001333689\n"
     ]
    },
    {
     "name": "stderr",
     "output_type": "stream",
     "text": [
      "\n",
      "\n",
      " 68%|██████▊   | 19/28 [01:18<00:38,  4.30s/it]\u001b[A\u001b[A"
     ]
    },
    {
     "name": "stdout",
     "output_type": "stream",
     "text": [
      "video_voxaudio label_shift: 0 (37829, 2560) (37829,) num feats 2560 0.6359171754711972\n",
      "text_voxaudio label_shift: 9 (37406, 812) (37406,) num feats 812 0.5718502616396082\n"
     ]
    },
    {
     "name": "stderr",
     "output_type": "stream",
     "text": [
      "\n",
      "\n",
      " 71%|███████▏  | 20/28 [01:27<00:46,  5.86s/it]\u001b[A\u001b[A"
     ]
    },
    {
     "name": "stdout",
     "output_type": "stream",
     "text": [
      "text_video_voxaudio label_shift: 0 (37829, 2860) (37829,) num feats 2860 0.6509158481550306\n",
      "video_voxaudio label_shift: 2 (37735, 2560) (37735,) num feats 2560 0.5882118147951038\n"
     ]
    },
    {
     "name": "stderr",
     "output_type": "stream",
     "text": [
      "\n",
      "\n",
      " 79%|███████▊  | 22/28 [01:35<00:31,  5.31s/it]\u001b[A\u001b[A"
     ]
    },
    {
     "name": "stdout",
     "output_type": "stream",
     "text": [
      "video_voxaudio label_shift: 4 (37641, 2560) (37641,) num feats 2560 0.5686849826620433\n"
     ]
    },
    {
     "name": "stderr",
     "output_type": "stream",
     "text": [
      "\n",
      "\n",
      " 82%|████████▏ | 23/28 [01:42<00:28,  5.62s/it]\u001b[A\u001b[A"
     ]
    },
    {
     "name": "stdout",
     "output_type": "stream",
     "text": [
      "video_voxaudio label_shift: 9 (37406, 2560) (37406,) num feats 2560 0.5455521266604052\n"
     ]
    },
    {
     "name": "stderr",
     "output_type": "stream",
     "text": [
      "\n",
      "\n",
      " 86%|████████▌ | 24/28 [01:43<00:17,  4.29s/it]\u001b[A\u001b[A"
     ]
    },
    {
     "name": "stdout",
     "output_type": "stream",
     "text": [
      "text_video_voxaudio label_shift: 2 (37735, 2860) (37735,) num feats 2860 0.6094997339010112\n"
     ]
    },
    {
     "name": "stderr",
     "output_type": "stream",
     "text": [
      "\n",
      "\n",
      " 93%|█████████▎| 26/28 [01:48<00:07,  3.78s/it]\u001b[A\u001b[A"
     ]
    },
    {
     "name": "stdout",
     "output_type": "stream",
     "text": [
      "text_video_voxaudio label_shift: 4 (37641, 2860) (37641,) num feats 2860 0.5878901040277408\n"
     ]
    },
    {
     "name": "stderr",
     "output_type": "stream",
     "text": [
      "\n",
      "\n",
      " 96%|█████████▋| 27/28 [01:55<00:04,  4.59s/it]\u001b[A\u001b[A"
     ]
    },
    {
     "name": "stdout",
     "output_type": "stream",
     "text": [
      "text_video_voxaudio label_shift: 9 (37406, 2860) (37406,) num feats 2860 0.5639339863142359\n"
     ]
    },
    {
     "name": "stderr",
     "output_type": "stream",
     "text": [
      "\n",
      "\n",
      "100%|██████████| 28/28 [02:01<00:00,  5.08s/it]\u001b[A\u001b[A"
     ]
    },
    {
     "name": "stdout",
     "output_type": "stream",
     "text": [
      "use_crossval: False | use_all_perspectives: False | predict_only_host: True | clf: <class 'sklearn.naive_bayes.GaussianNB'>\n",
      "{4: [(('text', 0), 0.6529232400901498), (('text', 2), 0.6116943521594684), (('text', 4), 0.5946449980018649), (('text', 9), 0.5714285714285714), (('video', 0), 0.5438154580405674), (('video', 2), 0.5217275747508305), (('video', 4), 0.5180498201678434), (('video', 9), 0.5158134548378451), (('voxaudio', 0), 0.6604799151531221), (('voxaudio', 2), 0.6151495016611296), (('voxaudio', 4), 0.5973091781004396), (('voxaudio', 9), 0.5733047440364514), (('text_video', 0), 0.5990985019223121), (('text_video', 2), 0.5553488372093023), (('text_video', 4), 0.5504196083655255), (('text_video', 9), 0.5336370946127044), (('text_voxaudio', 0), 0.6620707941137478), (('text_voxaudio', 2), 0.6200664451827242), (('text_voxaudio', 4), 0.605568136406021), (('text_voxaudio', 9), 0.5755829536317342), (('video_voxaudio', 0), 0.6476203102213973), (('video_voxaudio', 2), 0.598671096345515), (('video_voxaudio', 4), 0.5737311842280538), (('video_voxaudio', 9), 0.5532028946663093), (('text_video_voxaudio', 0), 0.6554421317778072), (('text_video_voxaudio', 2), 0.6104983388704319), (('text_video_voxaudio', 4), 0.596110297056081), (('text_video_voxaudio', 9), 0.5682122755293487)], 5: [(('text', 0), 0.6466684364215556), (('text', 2), 0.6101649813730707), (('text', 4), 0.588957055214724), (('text', 9), 0.5209982557359453), (('video', 0), 0.5342447571011415), (('video', 2), 0.518493879723257), (('video', 4), 0.5194718591624433), (('video', 9), 0.5196565141553737), (('voxaudio', 0), 0.6506503849216884), (('voxaudio', 2), 0.6113624268227781), (('voxaudio', 4), 0.5921579087756735), (('voxaudio', 9), 0.5701059975848651), (('text_video', 0), 0.5914520838863817), (('text_video', 2), 0.55401809473124), (('text_video', 4), 0.5505468124833289), (('text_video', 9), 0.5320005366966323), (('text_voxaudio', 0), 0.6531722856384391), (('text_voxaudio', 2), 0.6137573177221927), (('text_voxaudio', 4), 0.5956255001333689), (('text_voxaudio', 9), 0.5718502616396082), (('video_voxaudio', 0), 0.6359171754711972), (('video_voxaudio', 2), 0.5882118147951038), (('video_voxaudio', 4), 0.5686849826620433), (('video_voxaudio', 9), 0.5455521266604052), (('text_video_voxaudio', 0), 0.6509158481550306), (('text_video_voxaudio', 2), 0.6094997339010112), (('text_video_voxaudio', 4), 0.5878901040277408), (('text_video_voxaudio', 9), 0.5639339863142359)]}\n",
      "(131113, 2881)\n"
     ]
    },
    {
     "name": "stderr",
     "output_type": "stream",
     "text": [
      "\n",
      "\n",
      "  0%|          | 0/28 [00:00<?, ?it/s]\u001b[A\u001b[A"
     ]
    },
    {
     "name": "stdout",
     "output_type": "stream",
     "text": [
      "text label_shift: 0 (36534, 300) (36534,) num feats 300 0.6067565763119241\n"
     ]
    },
    {
     "name": "stderr",
     "output_type": "stream",
     "text": [
      "\n",
      "\n",
      "  4%|▎         | 1/28 [00:12<05:47, 12.89s/it]\u001b[A\u001b[A"
     ]
    },
    {
     "name": "stdout",
     "output_type": "stream",
     "text": [
      "video label_shift: 0 (36534, 2048) (36534,) num feats 2048 0.5219655494725598\n",
      "text label_shift: 2 (36440, 300) (36440,) num feats 300 0.5819836701914067\n",
      "text label_shift: 4 (36346, 300) (36346,) num feats 300 0.5693009526365223\n"
     ]
    },
    {
     "name": "stderr",
     "output_type": "stream",
     "text": [
      "\n",
      "\n",
      "  7%|▋         | 2/28 [00:23<05:21, 12.35s/it]\u001b[A\u001b[A"
     ]
    },
    {
     "name": "stdout",
     "output_type": "stream",
     "text": [
      "text label_shift: 9 (36111, 300) (36111,) num feats 300 0.5295626349892009\n"
     ]
    },
    {
     "name": "stderr",
     "output_type": "stream",
     "text": [
      "\n",
      "\n",
      " 14%|█▍        | 4/28 [00:24<03:28,  8.67s/it]\u001b[A\u001b[A"
     ]
    },
    {
     "name": "stdout",
     "output_type": "stream",
     "text": [
      "video label_shift: 2 (36440, 2048) (36440,) num feats 2048 0.5170659884888235\n"
     ]
    },
    {
     "name": "stderr",
     "output_type": "stream",
     "text": [
      "\n",
      "\n",
      " 21%|██▏       | 6/28 [00:26<02:21,  6.44s/it]\u001b[A\u001b[A"
     ]
    },
    {
     "name": "stdout",
     "output_type": "stream",
     "text": [
      "voxaudio label_shift: 0 (36534, 512) (36534,) num feats 512 0.6263853652022967\n",
      "video label_shift: 4 (36346, 2048) (36346,) num feats 2048 0.511471890513887\n"
     ]
    },
    {
     "name": "stderr",
     "output_type": "stream",
     "text": [
      "\n",
      "\n",
      " 25%|██▌       | 7/28 [00:38<02:49,  8.08s/it]\u001b[A\u001b[A"
     ]
    },
    {
     "name": "stdout",
     "output_type": "stream",
     "text": [
      "video label_shift: 9 (36111, 2048) (36111,) num feats 2048 0.5024298056155507\n"
     ]
    },
    {
     "name": "stderr",
     "output_type": "stream",
     "text": [
      "\n",
      "\n",
      " 29%|██▊       | 8/28 [00:40<02:04,  6.23s/it]\u001b[A\u001b[A"
     ]
    },
    {
     "name": "stdout",
     "output_type": "stream",
     "text": [
      "voxaudio label_shift: 4 (36346, 512) (36346,) num feats 512 0.5840601100228096\n",
      "voxaudio label_shift: 2 (36440, 512) (36440,) num feats 512 0.5971088207736581\n"
     ]
    },
    {
     "name": "stderr",
     "output_type": "stream",
     "text": [
      "\n",
      "\n",
      " 36%|███▌      | 10/28 [00:48<01:40,  5.56s/it]\u001b[A\u001b[A"
     ]
    },
    {
     "name": "stdout",
     "output_type": "stream",
     "text": [
      "text_video label_shift: 0 (36534, 2348) (36534,) num feats 2348 0.5589531312591801\n",
      "voxaudio label_shift: 9 (36111, 512) (36111,) num feats 512 0.5599352051835853\n"
     ]
    },
    {
     "name": "stderr",
     "output_type": "stream",
     "text": [
      "\n",
      "\n",
      " 43%|████▎     | 12/28 [00:51<01:10,  4.39s/it]\u001b[A\u001b[A"
     ]
    },
    {
     "name": "stdout",
     "output_type": "stream",
     "text": [
      "text_voxaudio label_shift: 0 (36534, 812) (36534,) num feats 812 0.6305247696621712\n",
      "text_video label_shift: 2 (36440, 2348) (36440,) num feats 2348 0.5347343059831348\n"
     ]
    },
    {
     "name": "stderr",
     "output_type": "stream",
     "text": [
      "\n",
      "\n",
      " 50%|█████     | 14/28 [01:04<01:10,  5.03s/it]\u001b[A\u001b[A"
     ]
    },
    {
     "name": "stdout",
     "output_type": "stream",
     "text": [
      "text_video label_shift: 4 (36346, 2348) (36346,) num feats 2348 0.5211324298940024\n"
     ]
    },
    {
     "name": "stderr",
     "output_type": "stream",
     "text": [
      "\n",
      "\n",
      " 54%|█████▎    | 15/28 [01:06<00:52,  4.07s/it]\u001b[A\u001b[A"
     ]
    },
    {
     "name": "stdout",
     "output_type": "stream",
     "text": [
      "text_video label_shift: 9 (36111, 2348) (36111,) num feats 2348 0.5067494600431965\n"
     ]
    },
    {
     "name": "stderr",
     "output_type": "stream",
     "text": [
      "\n",
      "\n",
      " 57%|█████▋    | 16/28 [01:13<00:59,  4.99s/it]\u001b[A\u001b[A"
     ]
    },
    {
     "name": "stdout",
     "output_type": "stream",
     "text": [
      "text_voxaudio label_shift: 2 (36440, 812) (36440,) num feats 812 0.5993842859055013\n"
     ]
    },
    {
     "name": "stderr",
     "output_type": "stream",
     "text": [
      "\n",
      "\n",
      " 64%|██████▍   | 18/28 [01:16<00:38,  3.84s/it]\u001b[A\u001b[A"
     ]
    },
    {
     "name": "stdout",
     "output_type": "stream",
     "text": [
      "text_voxaudio label_shift: 4 (36346, 812) (36346,) num feats 812 0.5847309808130954\n"
     ]
    },
    {
     "name": "stderr",
     "output_type": "stream",
     "text": [
      "\n",
      "\n",
      " 68%|██████▊   | 19/28 [01:16<00:24,  2.77s/it]\u001b[A\u001b[A"
     ]
    },
    {
     "name": "stdout",
     "output_type": "stream",
     "text": [
      "video_voxaudio label_shift: 0 (36534, 2560) (36534,) num feats 2560 0.5807183869675524\n",
      "text_voxaudio label_shift: 9 (36111, 812) (36111,) num feats 812 0.5592602591792657\n"
     ]
    },
    {
     "name": "stderr",
     "output_type": "stream",
     "text": [
      "\n",
      "\n",
      " 71%|███████▏  | 20/28 [01:26<00:39,  4.95s/it]\u001b[A\u001b[A"
     ]
    },
    {
     "name": "stdout",
     "output_type": "stream",
     "text": [
      "text_video_voxaudio label_shift: 0 (36534, 2860) (36534,) num feats 2860 0.6189077313392977\n",
      "video_voxaudio label_shift: 2 (36440, 2560) (36440,) num feats 2560 0.5486547985544104\n"
     ]
    },
    {
     "name": "stderr",
     "output_type": "stream",
     "text": [
      "\n",
      "\n",
      " 79%|███████▊  | 22/28 [01:32<00:26,  4.45s/it]\u001b[A\u001b[A"
     ]
    },
    {
     "name": "stdout",
     "output_type": "stream",
     "text": [
      "video_voxaudio label_shift: 4 (36346, 2560) (36346,) num feats 2560 0.5338789749094325\n"
     ]
    },
    {
     "name": "stderr",
     "output_type": "stream",
     "text": [
      "\n",
      "\n",
      " 82%|████████▏ | 23/28 [01:40<00:26,  5.26s/it]\u001b[A\u001b[A"
     ]
    },
    {
     "name": "stdout",
     "output_type": "stream",
     "text": [
      "video_voxaudio label_shift: 9 (36111, 2560) (36111,) num feats 2560 0.5133639308855291\n"
     ]
    },
    {
     "name": "stderr",
     "output_type": "stream",
     "text": [
      "\n",
      "\n",
      " 86%|████████▌ | 24/28 [01:42<00:17,  4.36s/it]\u001b[A\u001b[A"
     ]
    },
    {
     "name": "stdout",
     "output_type": "stream",
     "text": [
      "text_video_voxaudio label_shift: 2 (36440, 2860) (36440,) num feats 2860 0.580779012180431\n"
     ]
    },
    {
     "name": "stderr",
     "output_type": "stream",
     "text": [
      "\n",
      "\n",
      " 93%|█████████▎| 26/28 [01:47<00:07,  3.76s/it]\u001b[A\u001b[A"
     ]
    },
    {
     "name": "stdout",
     "output_type": "stream",
     "text": [
      "text_video_voxaudio label_shift: 4 (36346, 2860) (36346,) num feats 2860 0.5670199919495506\n"
     ]
    },
    {
     "name": "stderr",
     "output_type": "stream",
     "text": [
      "\n",
      "\n",
      " 96%|█████████▋| 27/28 [01:52<00:04,  4.36s/it]\u001b[A\u001b[A"
     ]
    },
    {
     "name": "stdout",
     "output_type": "stream",
     "text": [
      "text_video_voxaudio label_shift: 9 (36111, 2860) (36111,) num feats 2860 0.5267278617710583\n"
     ]
    },
    {
     "name": "stderr",
     "output_type": "stream",
     "text": [
      "\n",
      "\n",
      "100%|██████████| 28/28 [01:58<00:00,  4.84s/it]\u001b[A\u001b[A"
     ]
    },
    {
     "name": "stdout",
     "output_type": "stream",
     "text": [
      "use_crossval: False | use_all_perspectives: False | predict_only_host: True | clf: <class 'sklearn.naive_bayes.GaussianNB'>\n",
      "{4: [(('text', 0), 0.6529232400901498), (('text', 2), 0.6116943521594684), (('text', 4), 0.5946449980018649), (('text', 9), 0.5714285714285714), (('video', 0), 0.5438154580405674), (('video', 2), 0.5217275747508305), (('video', 4), 0.5180498201678434), (('video', 9), 0.5158134548378451), (('voxaudio', 0), 0.6604799151531221), (('voxaudio', 2), 0.6151495016611296), (('voxaudio', 4), 0.5973091781004396), (('voxaudio', 9), 0.5733047440364514), (('text_video', 0), 0.5990985019223121), (('text_video', 2), 0.5553488372093023), (('text_video', 4), 0.5504196083655255), (('text_video', 9), 0.5336370946127044), (('text_voxaudio', 0), 0.6620707941137478), (('text_voxaudio', 2), 0.6200664451827242), (('text_voxaudio', 4), 0.605568136406021), (('text_voxaudio', 9), 0.5755829536317342), (('video_voxaudio', 0), 0.6476203102213973), (('video_voxaudio', 2), 0.598671096345515), (('video_voxaudio', 4), 0.5737311842280538), (('video_voxaudio', 9), 0.5532028946663093), (('text_video_voxaudio', 0), 0.6554421317778072), (('text_video_voxaudio', 2), 0.6104983388704319), (('text_video_voxaudio', 4), 0.596110297056081), (('text_video_voxaudio', 9), 0.5682122755293487)], 5: [(('text', 0), 0.6466684364215556), (('text', 2), 0.6101649813730707), (('text', 4), 0.588957055214724), (('text', 9), 0.5209982557359453), (('video', 0), 0.5342447571011415), (('video', 2), 0.518493879723257), (('video', 4), 0.5194718591624433), (('video', 9), 0.5196565141553737), (('voxaudio', 0), 0.6506503849216884), (('voxaudio', 2), 0.6113624268227781), (('voxaudio', 4), 0.5921579087756735), (('voxaudio', 9), 0.5701059975848651), (('text_video', 0), 0.5914520838863817), (('text_video', 2), 0.55401809473124), (('text_video', 4), 0.5505468124833289), (('text_video', 9), 0.5320005366966323), (('text_voxaudio', 0), 0.6531722856384391), (('text_voxaudio', 2), 0.6137573177221927), (('text_voxaudio', 4), 0.5956255001333689), (('text_voxaudio', 9), 0.5718502616396082), (('video_voxaudio', 0), 0.6359171754711972), (('video_voxaudio', 2), 0.5882118147951038), (('video_voxaudio', 4), 0.5686849826620433), (('video_voxaudio', 9), 0.5455521266604052), (('text_video_voxaudio', 0), 0.6509158481550306), (('text_video_voxaudio', 2), 0.6094997339010112), (('text_video_voxaudio', 4), 0.5878901040277408), (('text_video_voxaudio', 9), 0.5639339863142359)], 10: [(('text', 0), 0.6067565763119241), (('text', 2), 0.5819836701914067), (('text', 4), 0.5693009526365223), (('text', 9), 0.5295626349892009), (('video', 0), 0.5219655494725598), (('video', 2), 0.5170659884888235), (('video', 4), 0.511471890513887), (('video', 9), 0.5024298056155507), (('voxaudio', 0), 0.6263853652022967), (('voxaudio', 2), 0.5971088207736581), (('voxaudio', 4), 0.5840601100228096), (('voxaudio', 9), 0.5599352051835853), (('text_video', 0), 0.5589531312591801), (('text_video', 2), 0.5347343059831348), (('text_video', 4), 0.5211324298940024), (('text_video', 9), 0.5067494600431965), (('text_voxaudio', 0), 0.6305247696621712), (('text_voxaudio', 2), 0.5993842859055013), (('text_voxaudio', 4), 0.5847309808130954), (('text_voxaudio', 9), 0.5592602591792657), (('video_voxaudio', 0), 0.5807183869675524), (('video_voxaudio', 2), 0.5486547985544104), (('video_voxaudio', 4), 0.5338789749094325), (('video_voxaudio', 9), 0.5133639308855291), (('text_video_voxaudio', 0), 0.6189077313392977), (('text_video_voxaudio', 2), 0.580779012180431), (('text_video_voxaudio', 4), 0.5670199919495506), (('text_video_voxaudio', 9), 0.5267278617710583)]}\n",
      "(129245, 2881)\n"
     ]
    },
    {
     "name": "stderr",
     "output_type": "stream",
     "text": [
      "\n",
      "\n",
      "  0%|          | 0/28 [00:00<?, ?it/s]\u001b[A\u001b[A"
     ]
    },
    {
     "name": "stdout",
     "output_type": "stream",
     "text": [
      "text label_shift: 0 (37376, 300) (37376,) num feats 300 0.566835408400602\n"
     ]
    },
    {
     "name": "stderr",
     "output_type": "stream",
     "text": [
      "\n",
      "\n",
      "  4%|▎         | 1/28 [00:12<05:50, 12.97s/it]\u001b[A\u001b[A"
     ]
    },
    {
     "name": "stdout",
     "output_type": "stream",
     "text": [
      "video label_shift: 0 (37376, 2048) (37376,) num feats 2048 0.5097824599808455\n",
      "text label_shift: 9 (36953, 300) (36953,) num feats 300 0.5355561704482568\n",
      "text label_shift: 4 (37188, 300) (37188,) num feats 300 0.5495668912415784\n",
      "text label_shift: 2 (37282, 300) (37282,) num feats 300 0.5506789192154711\n"
     ]
    },
    {
     "name": "stderr",
     "output_type": "stream",
     "text": [
      "\n",
      "\n",
      "  7%|▋         | 2/28 [00:24<05:24, 12.47s/it]\u001b[A\u001b[A"
     ]
    },
    {
     "name": "stdout",
     "output_type": "stream",
     "text": [
      "video label_shift: 2 (37282, 2048) (37282,) num feats 2048 0.5052804827869977\n"
     ]
    },
    {
     "name": "stderr",
     "output_type": "stream",
     "text": [
      "\n",
      "\n",
      " 21%|██▏       | 6/28 [00:26<03:15,  8.87s/it]\u001b[A\u001b[A"
     ]
    },
    {
     "name": "stdout",
     "output_type": "stream",
     "text": [
      "voxaudio label_shift: 0 (37376, 512) (37376,) num feats 512 0.5792858120125872\n",
      "video label_shift: 4 (37188, 2048) (37188,) num feats 2048 0.5024061597690087\n"
     ]
    },
    {
     "name": "stderr",
     "output_type": "stream",
     "text": [
      "\n",
      "\n",
      " 25%|██▌       | 7/28 [00:38<03:27,  9.88s/it]\u001b[A\u001b[A"
     ]
    },
    {
     "name": "stdout",
     "output_type": "stream",
     "text": [
      "video label_shift: 9 (36953, 2048) (36953,) num feats 2048 0.5051189817376868\n"
     ]
    },
    {
     "name": "stderr",
     "output_type": "stream",
     "text": [
      "\n",
      "\n",
      " 29%|██▊       | 8/28 [00:40<02:31,  7.59s/it]\u001b[A\u001b[A"
     ]
    },
    {
     "name": "stdout",
     "output_type": "stream",
     "text": [
      "voxaudio label_shift: 4 (37188, 512) (37188,) num feats 512 0.5484669324900316\n",
      "voxaudio label_shift: 2 (37282, 512) (37282,) num feats 512 0.5560279797010013\n"
     ]
    },
    {
     "name": "stderr",
     "output_type": "stream",
     "text": [
      "\n",
      "\n",
      " 36%|███▌      | 10/28 [00:48<01:56,  6.45s/it]\u001b[A\u001b[A"
     ]
    },
    {
     "name": "stdout",
     "output_type": "stream",
     "text": [
      "voxaudio label_shift: 9 (36953, 512) (36953,) num feats 512 0.5444106253458771\n"
     ]
    },
    {
     "name": "stderr",
     "output_type": "stream",
     "text": [
      "\n",
      "\n",
      " 43%|████▎     | 12/28 [00:50<01:17,  4.82s/it]\u001b[A\u001b[A"
     ]
    },
    {
     "name": "stdout",
     "output_type": "stream",
     "text": [
      "text_video label_shift: 0 (37376, 2348) (37376,) num feats 2348 0.5363250786701327\n"
     ]
    },
    {
     "name": "stderr",
     "output_type": "stream",
     "text": [
      "\n",
      "\n",
      " 46%|████▋     | 13/28 [00:52<01:00,  4.03s/it]\u001b[A\u001b[A"
     ]
    },
    {
     "name": "stdout",
     "output_type": "stream",
     "text": [
      "text_voxaudio label_shift: 0 (37376, 812) (37376,) num feats 812 0.5846216992748666\n",
      "text_video label_shift: 2 (37282, 2348) (37282,) num feats 2348 0.5155671375668632\n"
     ]
    },
    {
     "name": "stderr",
     "output_type": "stream",
     "text": [
      "\n",
      "\n",
      " 50%|█████     | 14/28 [01:04<01:30,  6.45s/it]\u001b[A\u001b[A"
     ]
    },
    {
     "name": "stdout",
     "output_type": "stream",
     "text": [
      "text_video label_shift: 4 (37188, 2348) (37188,) num feats 2348 0.5083184380585728\n"
     ]
    },
    {
     "name": "stderr",
     "output_type": "stream",
     "text": [
      "\n",
      "\n",
      " 54%|█████▎    | 15/28 [01:07<01:08,  5.30s/it]\u001b[A\u001b[A"
     ]
    },
    {
     "name": "stdout",
     "output_type": "stream",
     "text": [
      "text_video label_shift: 9 (36953, 2348) (36953,) num feats 2348 0.5019369120088545\n"
     ]
    },
    {
     "name": "stderr",
     "output_type": "stream",
     "text": [
      "\n",
      "\n",
      " 57%|█████▋    | 16/28 [01:14<01:10,  5.88s/it]\u001b[A\u001b[A"
     ]
    },
    {
     "name": "stdout",
     "output_type": "stream",
     "text": [
      "text_voxaudio label_shift: 2 (37282, 812) (37282,) num feats 812 0.562885749554245\n"
     ]
    },
    {
     "name": "stderr",
     "output_type": "stream",
     "text": [
      "\n",
      "\n",
      " 64%|██████▍   | 18/28 [01:14<00:41,  4.15s/it]\u001b[A\u001b[A"
     ]
    },
    {
     "name": "stdout",
     "output_type": "stream",
     "text": [
      "text_voxaudio label_shift: 4 (37188, 812) (37188,) num feats 812 0.5580915715660663\n"
     ]
    },
    {
     "name": "stderr",
     "output_type": "stream",
     "text": [
      "\n",
      "\n",
      " 68%|██████▊   | 19/28 [01:16<00:32,  3.58s/it]\u001b[A\u001b[A"
     ]
    },
    {
     "name": "stdout",
     "output_type": "stream",
     "text": [
      "video_voxaudio label_shift: 0 (37376, 2560) (37376,) num feats 2560 0.5359146258038036\n",
      "text_voxaudio label_shift: 9 (36953, 812) (36953,) num feats 812 0.5462091864969563\n"
     ]
    },
    {
     "name": "stderr",
     "output_type": "stream",
     "text": [
      "\n",
      "\n",
      " 71%|███████▏  | 20/28 [01:25<00:40,  5.08s/it]\u001b[A\u001b[A"
     ]
    },
    {
     "name": "stdout",
     "output_type": "stream",
     "text": [
      "video_voxaudio label_shift: 2 (37282, 2560) (37282,) num feats 2560 0.5150185159786037\n"
     ]
    },
    {
     "name": "stderr",
     "output_type": "stream",
     "text": [
      "\n",
      "\n",
      " 79%|███████▊  | 22/28 [01:33<00:28,  4.70s/it]\u001b[A\u001b[A"
     ]
    },
    {
     "name": "stdout",
     "output_type": "stream",
     "text": [
      "text_video_voxaudio label_shift: 0 (37376, 2860) (37376,) num feats 2860 0.5709399370638938\n",
      "video_voxaudio label_shift: 4 (37188, 2560) (37188,) num feats 2560 0.5099683761858931\n",
      "video_voxaudio label_shift: 9 (36953, 2560) (36953,) num feats 2560 0.5023519645821805\n"
     ]
    },
    {
     "name": "stderr",
     "output_type": "stream",
     "text": [
      "\n",
      "\n",
      " 82%|████████▏ | 23/28 [01:41<00:28,  5.72s/it]\u001b[A\u001b[A"
     ]
    },
    {
     "name": "stdout",
     "output_type": "stream",
     "text": [
      "text_video_voxaudio label_shift: 2 (37282, 2860) (37282,) num feats 2860 0.5372376903031134\n"
     ]
    },
    {
     "name": "stderr",
     "output_type": "stream",
     "text": [
      "\n",
      "\n",
      " 93%|█████████▎| 26/28 [01:47<00:09,  4.65s/it]\u001b[A\u001b[A"
     ]
    },
    {
     "name": "stdout",
     "output_type": "stream",
     "text": [
      "text_video_voxaudio label_shift: 4 (37188, 2860) (37188,) num feats 2860 0.5195930152619277\n"
     ]
    },
    {
     "name": "stderr",
     "output_type": "stream",
     "text": [
      "\n",
      "\n",
      " 96%|█████████▋| 27/28 [01:52<00:04,  4.59s/it]\u001b[A\u001b[A"
     ]
    },
    {
     "name": "stdout",
     "output_type": "stream",
     "text": [
      "text_video_voxaudio label_shift: 9 (36953, 2860) (36953,) num feats 2860 0.5005534034311012\n"
     ]
    },
    {
     "name": "stderr",
     "output_type": "stream",
     "text": [
      "\n",
      "\n",
      "100%|██████████| 28/28 [01:59<00:00,  5.40s/it]\u001b[A\u001b[A"
     ]
    },
    {
     "name": "stdout",
     "output_type": "stream",
     "text": [
      "use_crossval: False | use_all_perspectives: False | predict_only_host: True | clf: <class 'sklearn.naive_bayes.GaussianNB'>\n",
      "{4: [(('text', 0), 0.6529232400901498), (('text', 2), 0.6116943521594684), (('text', 4), 0.5946449980018649), (('text', 9), 0.5714285714285714), (('video', 0), 0.5438154580405674), (('video', 2), 0.5217275747508305), (('video', 4), 0.5180498201678434), (('video', 9), 0.5158134548378451), (('voxaudio', 0), 0.6604799151531221), (('voxaudio', 2), 0.6151495016611296), (('voxaudio', 4), 0.5973091781004396), (('voxaudio', 9), 0.5733047440364514), (('text_video', 0), 0.5990985019223121), (('text_video', 2), 0.5553488372093023), (('text_video', 4), 0.5504196083655255), (('text_video', 9), 0.5336370946127044), (('text_voxaudio', 0), 0.6620707941137478), (('text_voxaudio', 2), 0.6200664451827242), (('text_voxaudio', 4), 0.605568136406021), (('text_voxaudio', 9), 0.5755829536317342), (('video_voxaudio', 0), 0.6476203102213973), (('video_voxaudio', 2), 0.598671096345515), (('video_voxaudio', 4), 0.5737311842280538), (('video_voxaudio', 9), 0.5532028946663093), (('text_video_voxaudio', 0), 0.6554421317778072), (('text_video_voxaudio', 2), 0.6104983388704319), (('text_video_voxaudio', 4), 0.596110297056081), (('text_video_voxaudio', 9), 0.5682122755293487)], 5: [(('text', 0), 0.6466684364215556), (('text', 2), 0.6101649813730707), (('text', 4), 0.588957055214724), (('text', 9), 0.5209982557359453), (('video', 0), 0.5342447571011415), (('video', 2), 0.518493879723257), (('video', 4), 0.5194718591624433), (('video', 9), 0.5196565141553737), (('voxaudio', 0), 0.6506503849216884), (('voxaudio', 2), 0.6113624268227781), (('voxaudio', 4), 0.5921579087756735), (('voxaudio', 9), 0.5701059975848651), (('text_video', 0), 0.5914520838863817), (('text_video', 2), 0.55401809473124), (('text_video', 4), 0.5505468124833289), (('text_video', 9), 0.5320005366966323), (('text_voxaudio', 0), 0.6531722856384391), (('text_voxaudio', 2), 0.6137573177221927), (('text_voxaudio', 4), 0.5956255001333689), (('text_voxaudio', 9), 0.5718502616396082), (('video_voxaudio', 0), 0.6359171754711972), (('video_voxaudio', 2), 0.5882118147951038), (('video_voxaudio', 4), 0.5686849826620433), (('video_voxaudio', 9), 0.5455521266604052), (('text_video_voxaudio', 0), 0.6509158481550306), (('text_video_voxaudio', 2), 0.6094997339010112), (('text_video_voxaudio', 4), 0.5878901040277408), (('text_video_voxaudio', 9), 0.5639339863142359)], 10: [(('text', 0), 0.6067565763119241), (('text', 2), 0.5819836701914067), (('text', 4), 0.5693009526365223), (('text', 9), 0.5295626349892009), (('video', 0), 0.5219655494725598), (('video', 2), 0.5170659884888235), (('video', 4), 0.511471890513887), (('video', 9), 0.5024298056155507), (('voxaudio', 0), 0.6263853652022967), (('voxaudio', 2), 0.5971088207736581), (('voxaudio', 4), 0.5840601100228096), (('voxaudio', 9), 0.5599352051835853), (('text_video', 0), 0.5589531312591801), (('text_video', 2), 0.5347343059831348), (('text_video', 4), 0.5211324298940024), (('text_video', 9), 0.5067494600431965), (('text_voxaudio', 0), 0.6305247696621712), (('text_voxaudio', 2), 0.5993842859055013), (('text_voxaudio', 4), 0.5847309808130954), (('text_voxaudio', 9), 0.5592602591792657), (('video_voxaudio', 0), 0.5807183869675524), (('video_voxaudio', 2), 0.5486547985544104), (('video_voxaudio', 4), 0.5338789749094325), (('video_voxaudio', 9), 0.5133639308855291), (('text_video_voxaudio', 0), 0.6189077313392977), (('text_video_voxaudio', 2), 0.580779012180431), (('text_video_voxaudio', 4), 0.5670199919495506), (('text_video_voxaudio', 9), 0.5267278617710583)], 30: [(('text', 0), 0.566835408400602), (('text', 2), 0.5506789192154711), (('text', 4), 0.5495668912415784), (('text', 9), 0.5355561704482568), (('video', 0), 0.5097824599808455), (('video', 2), 0.5052804827869977), (('video', 4), 0.5024061597690087), (('video', 9), 0.5051189817376868), (('voxaudio', 0), 0.5792858120125872), (('voxaudio', 2), 0.5560279797010013), (('voxaudio', 4), 0.5484669324900316), (('voxaudio', 9), 0.5444106253458771), (('text_video', 0), 0.5363250786701327), (('text_video', 2), 0.5155671375668632), (('text_video', 4), 0.5083184380585728), (('text_video', 9), 0.5019369120088545), (('text_voxaudio', 0), 0.5846216992748666), (('text_voxaudio', 2), 0.562885749554245), (('text_voxaudio', 4), 0.5580915715660663), (('text_voxaudio', 9), 0.5462091864969563), (('video_voxaudio', 0), 0.5359146258038036), (('video_voxaudio', 2), 0.5150185159786037), (('video_voxaudio', 4), 0.5099683761858931), (('video_voxaudio', 9), 0.5023519645821805), (('text_video_voxaudio', 0), 0.5709399370638938), (('text_video_voxaudio', 2), 0.5372376903031134), (('text_video_voxaudio', 4), 0.5195930152619277), (('text_video_voxaudio', 9), 0.5005534034311012)]}\n",
      "use_crossval: False | use_all_perspectives: True | predict_only_host: True | clf: <class 'sklearn.ensemble.forest.RandomForestClassifier'>\n",
      "(136431, 2881)\n"
     ]
    },
    {
     "name": "stderr",
     "output_type": "stream",
     "text": [
      "\n",
      "\n",
      "  0%|          | 0/28 [00:00<?, ?it/s]\u001b[A\u001b[A"
     ]
    },
    {
     "name": "stdout",
     "output_type": "stream",
     "text": [
      "text label_shift: 0 (30679, 900) (30679,) num feats 300 0.6539872562270709\n"
     ]
    },
    {
     "name": "stderr",
     "output_type": "stream",
     "text": [
      "\n",
      "\n",
      "  4%|▎         | 1/28 [01:50<49:32, 110.10s/it]\u001b[A\u001b[A"
     ]
    },
    {
     "name": "stdout",
     "output_type": "stream",
     "text": [
      "text label_shift: 9 (30364, 900) (30364,) num feats 300 0.5490503230859605\n",
      "text label_shift: 4 (30539, 900) (30539,) num feats 300 0.5805323489411307\n",
      "text label_shift: 2 (30609, 900) (30609,) num feats 300 0.5961650203370134\n"
     ]
    },
    {
     "name": "stderr",
     "output_type": "stream",
     "text": [
      "\n",
      "\n",
      "  7%|▋         | 2/28 [02:15<36:44, 84.77s/it] \u001b[A\u001b[A"
     ]
    },
    {
     "name": "stdout",
     "output_type": "stream",
     "text": [
      "voxaudio label_shift: 0 (30679, 1536) (30679,) num feats 512 0.6472291948252559\n",
      "video label_shift: 0 (30679, 6144) (30679,) num feats 2048 0.5864066422089207\n"
     ]
    },
    {
     "name": "stderr",
     "output_type": "stream",
     "text": [
      "\n",
      "\n",
      " 18%|█▊        | 5/28 [05:06<29:17, 76.40s/it]\u001b[A\u001b[A"
     ]
    },
    {
     "name": "stdout",
     "output_type": "stream",
     "text": [
      "video label_shift: 2 (30609, 6144) (30609,) num feats 2048 0.5649815998450514\n"
     ]
    },
    {
     "name": "stderr",
     "output_type": "stream",
     "text": [
      "\n",
      "\n",
      " 21%|██▏       | 6/28 [05:33<22:33, 61.53s/it]\u001b[A\u001b[A"
     ]
    },
    {
     "name": "stdout",
     "output_type": "stream",
     "text": [
      "voxaudio label_shift: 2 (30609, 1536) (30609,) num feats 512 0.5930660468719736\n",
      "video label_shift: 4 (30539, 6144) (30539,) num feats 2048 0.5490577035166117\n"
     ]
    },
    {
     "name": "stderr",
     "output_type": "stream",
     "text": [
      "\n",
      "\n",
      " 25%|██▌       | 7/28 [07:24<26:42, 76.32s/it]\u001b[A\u001b[A"
     ]
    },
    {
     "name": "stdout",
     "output_type": "stream",
     "text": [
      "video label_shift: 9 (30364, 6144) (30364,) num feats 2048 0.5392598394360681\n"
     ]
    },
    {
     "name": "stderr",
     "output_type": "stream",
     "text": [
      "\n",
      "\n",
      " 29%|██▊       | 8/28 [07:46<20:02, 60.15s/it]\u001b[A\u001b[A"
     ]
    },
    {
     "name": "stdout",
     "output_type": "stream",
     "text": [
      "voxaudio label_shift: 4 (30539, 1536) (30539,) num feats 512 0.5748979988342724\n"
     ]
    },
    {
     "name": "stderr",
     "output_type": "stream",
     "text": [
      "\n",
      "\n",
      " 39%|███▉      | 11/28 [08:12<12:39, 44.70s/it]\u001b[A\u001b[A"
     ]
    },
    {
     "name": "stdout",
     "output_type": "stream",
     "text": [
      "voxaudio label_shift: 9 (30364, 1536) (30364,) num feats 512 0.558449187389857\n"
     ]
    },
    {
     "name": "stderr",
     "output_type": "stream",
     "text": [
      "\n",
      "\n",
      " 43%|████▎     | 12/28 [08:19<08:52, 33.29s/it]\u001b[A\u001b[A"
     ]
    },
    {
     "name": "stdout",
     "output_type": "stream",
     "text": [
      "text_video label_shift: 0 (30679, 7044) (30679,) num feats 2348 0.6460706700135161\n"
     ]
    },
    {
     "name": "stderr",
     "output_type": "stream",
     "text": [
      "\n",
      "\n",
      " 46%|████▋     | 13/28 [10:55<17:33, 70.24s/it]\u001b[A\u001b[A"
     ]
    },
    {
     "name": "stdout",
     "output_type": "stream",
     "text": [
      "text_voxaudio label_shift: 0 (30679, 2436) (30679,) num feats 812 0.6566904807877969\n",
      "text_video label_shift: 2 (30609, 7044) (30609,) num feats 2348 0.5963587061785783\n"
     ]
    },
    {
     "name": "stderr",
     "output_type": "stream",
     "text": [
      "\n",
      "\n",
      " 50%|█████     | 14/28 [11:34<14:10, 60.73s/it]\u001b[A\u001b[A"
     ]
    },
    {
     "name": "stdout",
     "output_type": "stream",
     "text": [
      "text_voxaudio label_shift: 2 (30609, 2436) (30609,) num feats 812 0.6029440247917878\n",
      "text_video label_shift: 4 (30539, 7044) (30539,) num feats 2348 0.5745094229648339\n"
     ]
    },
    {
     "name": "stderr",
     "output_type": "stream",
     "text": [
      "\n",
      "\n",
      " 54%|█████▎    | 15/28 [13:10<15:27, 71.37s/it]\u001b[A\u001b[A"
     ]
    },
    {
     "name": "stdout",
     "output_type": "stream",
     "text": [
      "text_video label_shift: 9 (30364, 7044) (30364,) num feats 2348 0.5421969845310358\n"
     ]
    },
    {
     "name": "stderr",
     "output_type": "stream",
     "text": [
      "\n",
      "\n",
      " 57%|█████▋    | 16/28 [13:28<11:06, 55.57s/it]\u001b[A\u001b[A"
     ]
    },
    {
     "name": "stdout",
     "output_type": "stream",
     "text": [
      "text_voxaudio label_shift: 4 (30539, 2436) (30539,) num feats 812 0.5758694385078686\n"
     ]
    },
    {
     "name": "stderr",
     "output_type": "stream",
     "text": [
      "\n",
      "\n",
      " 68%|██████▊   | 19/28 [14:27<06:42, 44.77s/it]\u001b[A\u001b[A"
     ]
    },
    {
     "name": "stdout",
     "output_type": "stream",
     "text": [
      "text_voxaudio label_shift: 9 (30364, 2436) (30364,) num feats 812 0.5533581358919131\n"
     ]
    },
    {
     "name": "stderr",
     "output_type": "stream",
     "text": [
      "\n",
      "\n",
      " 71%|███████▏  | 20/28 [14:48<05:01, 37.70s/it]\u001b[A\u001b[A"
     ]
    },
    {
     "name": "stdout",
     "output_type": "stream",
     "text": [
      "video_voxaudio label_shift: 0 (30679, 7680) (30679,) num feats 2560 0.653407993821201\n"
     ]
    },
    {
     "name": "stderr",
     "output_type": "stream",
     "text": [
      "\n",
      "\n",
      " 75%|███████▌  | 21/28 [17:27<08:37, 73.93s/it]\u001b[A\u001b[A"
     ]
    },
    {
     "name": "stdout",
     "output_type": "stream",
     "text": [
      "video_voxaudio label_shift: 2 (30609, 7680) (30609,) num feats 2560 0.5979081929110982\n"
     ]
    },
    {
     "name": "stderr",
     "output_type": "stream",
     "text": [
      "\n",
      "\n",
      " 79%|███████▊  | 22/28 [17:53<05:56, 59.45s/it]\u001b[A\u001b[A"
     ]
    },
    {
     "name": "stdout",
     "output_type": "stream",
     "text": [
      "video_voxaudio label_shift: 4 (30539, 7680) (30539,) num feats 2560 0.5702350884010103\n"
     ]
    },
    {
     "name": "stderr",
     "output_type": "stream",
     "text": [
      "\n",
      "\n",
      " 82%|████████▏ | 23/28 [19:17<05:34, 66.94s/it]\u001b[A\u001b[A"
     ]
    },
    {
     "name": "stdout",
     "output_type": "stream",
     "text": [
      "video_voxaudio label_shift: 9 (30364, 7680) (30364,) num feats 2560 0.5568827100058743\n"
     ]
    },
    {
     "name": "stderr",
     "output_type": "stream",
     "text": [
      "\n",
      "\n",
      " 86%|████████▌ | 24/28 [19:35<03:28, 52.25s/it]\u001b[A\u001b[A"
     ]
    },
    {
     "name": "stdout",
     "output_type": "stream",
     "text": [
      "text_video_voxaudio label_shift: 0 (30679, 8580) (30679,) num feats 2860 0.6441397953272833\n"
     ]
    },
    {
     "name": "stderr",
     "output_type": "stream",
     "text": [
      "\n",
      "\n",
      " 89%|████████▉ | 25/28 [20:26<02:35, 51.81s/it]\u001b[A\u001b[A"
     ]
    },
    {
     "name": "stdout",
     "output_type": "stream",
     "text": [
      "text_video_voxaudio label_shift: 2 (30609, 8580) (30609,) num feats 2860 0.6048808832074375\n"
     ]
    },
    {
     "name": "stderr",
     "output_type": "stream",
     "text": [
      "\n",
      "\n",
      " 93%|█████████▎| 26/28 [21:08<01:37, 48.99s/it]\u001b[A\u001b[A"
     ]
    },
    {
     "name": "stdout",
     "output_type": "stream",
     "text": [
      "text_video_voxaudio label_shift: 4 (30539, 8580) (30539,) num feats 2860 0.5733436953565184\n"
     ]
    },
    {
     "name": "stderr",
     "output_type": "stream",
     "text": [
      "\n",
      "\n",
      " 96%|█████████▋| 27/28 [23:59<01:25, 85.58s/it]\u001b[A\u001b[A"
     ]
    },
    {
     "name": "stdout",
     "output_type": "stream",
     "text": [
      "text_video_voxaudio label_shift: 9 (30364, 8580) (30364,) num feats 2860 0.5578617583708635\n"
     ]
    },
    {
     "name": "stderr",
     "output_type": "stream",
     "text": [
      "\n",
      "\n",
      "100%|██████████| 28/28 [24:07<00:00, 62.43s/it]\u001b[A\u001b[A"
     ]
    },
    {
     "name": "stdout",
     "output_type": "stream",
     "text": [
      "use_crossval: False | use_all_perspectives: True | predict_only_host: True | clf: <class 'sklearn.ensemble.forest.RandomForestClassifier'>\n",
      "{4: [(('text', 0), 0.6539872562270709), (('text', 2), 0.5961650203370134), (('text', 4), 0.5805323489411307), (('text', 9), 0.5490503230859605), (('video', 0), 0.5864066422089207), (('video', 2), 0.5649815998450514), (('video', 4), 0.5490577035166117), (('video', 9), 0.5392598394360681), (('voxaudio', 0), 0.6472291948252559), (('voxaudio', 2), 0.5930660468719736), (('voxaudio', 4), 0.5748979988342724), (('voxaudio', 9), 0.558449187389857), (('text_video', 0), 0.6460706700135161), (('text_video', 2), 0.5963587061785783), (('text_video', 4), 0.5745094229648339), (('text_video', 9), 0.5421969845310358), (('text_voxaudio', 0), 0.6566904807877969), (('text_voxaudio', 2), 0.6029440247917878), (('text_voxaudio', 4), 0.5758694385078686), (('text_voxaudio', 9), 0.5533581358919131), (('video_voxaudio', 0), 0.653407993821201), (('video_voxaudio', 2), 0.5979081929110982), (('video_voxaudio', 4), 0.5702350884010103), (('video_voxaudio', 9), 0.5568827100058743), (('text_video_voxaudio', 0), 0.6441397953272833), (('text_video_voxaudio', 2), 0.6048808832074375), (('text_video_voxaudio', 4), 0.5733436953565184), (('text_video_voxaudio', 9), 0.5578617583708635)]}\n",
      "(132008, 2881)\n"
     ]
    },
    {
     "name": "stderr",
     "output_type": "stream",
     "text": [
      "\n",
      "\n",
      "  0%|          | 0/28 [00:00<?, ?it/s]\u001b[A\u001b[A"
     ]
    },
    {
     "name": "stdout",
     "output_type": "stream",
     "text": [
      "text label_shift: 0 (27388, 900) (27388,) num feats 300 0.6465336134453782\n"
     ]
    },
    {
     "name": "stderr",
     "output_type": "stream",
     "text": [
      "\n",
      "\n",
      "  4%|▎         | 1/28 [01:44<47:02, 104.54s/it]\u001b[A\u001b[A"
     ]
    },
    {
     "name": "stdout",
     "output_type": "stream",
     "text": [
      "text label_shift: 9 (27082, 900) (27082,) num feats 300 0.5574468085106383\n",
      "text label_shift: 2 (27320, 900) (27320,) num feats 300 0.5967345505617978\n",
      "text label_shift: 4 (27252, 900) (27252,) num feats 300 0.5725352112676056\n"
     ]
    },
    {
     "name": "stderr",
     "output_type": "stream",
     "text": [
      "\n",
      "\n",
      "  7%|▋         | 2/28 [02:09<34:58, 80.71s/it] \u001b[A\u001b[A"
     ]
    },
    {
     "name": "stdout",
     "output_type": "stream",
     "text": [
      "video label_shift: 0 (27388, 6144) (27388,) num feats 2048 0.5835084033613446\n"
     ]
    },
    {
     "name": "stderr",
     "output_type": "stream",
     "text": [
      "\n",
      "\n",
      " 18%|█▊        | 5/28 [04:40<27:26, 71.60s/it]\u001b[A\u001b[A"
     ]
    },
    {
     "name": "stdout",
     "output_type": "stream",
     "text": [
      "voxaudio label_shift: 0 (27388, 1536) (27388,) num feats 512 0.6414565826330533\n",
      "video label_shift: 2 (27320, 6144) (27320,) num feats 2048 0.570751404494382\n"
     ]
    },
    {
     "name": "stderr",
     "output_type": "stream",
     "text": [
      "\n",
      "\n",
      " 21%|██▏       | 6/28 [05:06<21:12, 57.85s/it]\u001b[A\u001b[A"
     ]
    },
    {
     "name": "stdout",
     "output_type": "stream",
     "text": [
      "voxaudio label_shift: 2 (27320, 1536) (27320,) num feats 512 0.6004213483146067\n",
      "video label_shift: 4 (27252, 6144) (27252,) num feats 2048 0.5670774647887324\n"
     ]
    },
    {
     "name": "stderr",
     "output_type": "stream",
     "text": [
      "\n",
      "\n",
      " 25%|██▌       | 7/28 [06:49<24:59, 71.41s/it]\u001b[A\u001b[A"
     ]
    },
    {
     "name": "stdout",
     "output_type": "stream",
     "text": [
      "video label_shift: 9 (27082, 6144) (27082,) num feats 2048 0.5585106382978723\n"
     ]
    },
    {
     "name": "stderr",
     "output_type": "stream",
     "text": [
      "\n",
      "\n",
      " 29%|██▊       | 8/28 [07:12<18:59, 56.97s/it]\u001b[A\u001b[A"
     ]
    },
    {
     "name": "stdout",
     "output_type": "stream",
     "text": [
      "voxaudio label_shift: 4 (27252, 1536) (27252,) num feats 512 0.5746478873239437\n"
     ]
    },
    {
     "name": "stderr",
     "output_type": "stream",
     "text": [
      "\n",
      "\n",
      " 39%|███▉      | 11/28 [07:39<12:02, 42.50s/it]\u001b[A\u001b[A"
     ]
    },
    {
     "name": "stdout",
     "output_type": "stream",
     "text": [
      "voxaudio label_shift: 9 (27082, 1536) (27082,) num feats 512 0.5570921985815603\n"
     ]
    },
    {
     "name": "stderr",
     "output_type": "stream",
     "text": [
      "\n",
      "\n",
      " 43%|████▎     | 12/28 [07:40<08:03, 30.20s/it]\u001b[A\u001b[A"
     ]
    },
    {
     "name": "stdout",
     "output_type": "stream",
     "text": [
      "text_video label_shift: 0 (27388, 7044) (27388,) num feats 2348 0.6376050420168067\n"
     ]
    },
    {
     "name": "stderr",
     "output_type": "stream",
     "text": [
      "\n",
      "\n",
      " 46%|████▋     | 13/28 [10:00<15:45, 63.04s/it]\u001b[A\u001b[A"
     ]
    },
    {
     "name": "stdout",
     "output_type": "stream",
     "text": [
      "text_video label_shift: 2 (27320, 7044) (27320,) num feats 2348 0.5969101123595506\n"
     ]
    },
    {
     "name": "stderr",
     "output_type": "stream",
     "text": [
      "\n",
      "\n",
      " 50%|█████     | 14/28 [10:24<12:01, 51.57s/it]\u001b[A\u001b[A"
     ]
    },
    {
     "name": "stdout",
     "output_type": "stream",
     "text": [
      "text_voxaudio label_shift: 0 (27388, 2436) (27388,) num feats 812 0.6475840336134454\n",
      "text_voxaudio label_shift: 2 (27320, 2436) (27320,) num feats 812 0.6053370786516854\n",
      "text_video label_shift: 4 (27252, 7044) (27252,) num feats 2348 0.5806338028169014\n"
     ]
    },
    {
     "name": "stderr",
     "output_type": "stream",
     "text": [
      "\n",
      "\n",
      " 54%|█████▎    | 15/28 [12:06<14:25, 66.59s/it]\u001b[A\u001b[A"
     ]
    },
    {
     "name": "stdout",
     "output_type": "stream",
     "text": [
      "text_video label_shift: 9 (27082, 7044) (27082,) num feats 2348 0.5585106382978723\n"
     ]
    },
    {
     "name": "stderr",
     "output_type": "stream",
     "text": [
      "\n",
      "\n",
      " 57%|█████▋    | 16/28 [12:27<10:33, 52.76s/it]\u001b[A\u001b[A"
     ]
    },
    {
     "name": "stdout",
     "output_type": "stream",
     "text": [
      "text_voxaudio label_shift: 4 (27252, 2436) (27252,) num feats 812 0.585387323943662\n"
     ]
    },
    {
     "name": "stderr",
     "output_type": "stream",
     "text": [
      "\n",
      "\n",
      " 68%|██████▊   | 19/28 [13:19<06:19, 42.16s/it]\u001b[A\u001b[A"
     ]
    },
    {
     "name": "stdout",
     "output_type": "stream",
     "text": [
      "text_voxaudio label_shift: 9 (27082, 2436) (27082,) num feats 812 0.5593971631205674\n"
     ]
    },
    {
     "name": "stderr",
     "output_type": "stream",
     "text": [
      "\n",
      "\n",
      " 71%|███████▏  | 20/28 [13:43<04:54, 36.86s/it]\u001b[A\u001b[A"
     ]
    },
    {
     "name": "stdout",
     "output_type": "stream",
     "text": [
      "video_voxaudio label_shift: 0 (27388, 7680) (27388,) num feats 2560 0.6432072829131653\n"
     ]
    },
    {
     "name": "stderr",
     "output_type": "stream",
     "text": [
      "\n",
      "\n",
      " 75%|███████▌  | 21/28 [15:41<07:06, 60.95s/it]\u001b[A\u001b[A"
     ]
    },
    {
     "name": "stdout",
     "output_type": "stream",
     "text": [
      "video_voxaudio label_shift: 2 (27320, 7680) (27320,) num feats 2560 0.5956811797752809\n"
     ]
    },
    {
     "name": "stderr",
     "output_type": "stream",
     "text": [
      "\n",
      "\n",
      " 79%|███████▊  | 22/28 [16:34<05:52, 58.77s/it]\u001b[A\u001b[A"
     ]
    },
    {
     "name": "stdout",
     "output_type": "stream",
     "text": [
      "video_voxaudio label_shift: 4 (27252, 7680) (27252,) num feats 2560 0.5748239436619719\n"
     ]
    },
    {
     "name": "stderr",
     "output_type": "stream",
     "text": [
      "\n",
      "\n",
      " 82%|████████▏ | 23/28 [17:40<05:05, 61.01s/it]\u001b[A\u001b[A"
     ]
    },
    {
     "name": "stdout",
     "output_type": "stream",
     "text": [
      "video_voxaudio label_shift: 9 (27082, 7680) (27082,) num feats 2560 0.5539007092198581\n"
     ]
    },
    {
     "name": "stderr",
     "output_type": "stream",
     "text": [
      "\n",
      "\n",
      " 86%|████████▌ | 24/28 [18:00<03:14, 48.68s/it]\u001b[A\u001b[A"
     ]
    },
    {
     "name": "stdout",
     "output_type": "stream",
     "text": [
      "text_video_voxaudio label_shift: 0 (27388, 8580) (27388,) num feats 2860 0.6465336134453782\n"
     ]
    },
    {
     "name": "stderr",
     "output_type": "stream",
     "text": [
      "\n",
      "\n",
      " 89%|████████▉ | 25/28 [18:49<02:26, 48.80s/it]\u001b[A\u001b[A"
     ]
    },
    {
     "name": "stdout",
     "output_type": "stream",
     "text": [
      "text_video_voxaudio label_shift: 2 (27320, 8580) (27320,) num feats 2860 0.601123595505618\n"
     ]
    },
    {
     "name": "stderr",
     "output_type": "stream",
     "text": [
      "\n",
      "\n",
      " 93%|█████████▎| 26/28 [19:34<01:35, 47.50s/it]\u001b[A\u001b[A"
     ]
    },
    {
     "name": "stdout",
     "output_type": "stream",
     "text": [
      "text_video_voxaudio label_shift: 4 (27252, 8580) (27252,) num feats 2860 0.5737676056338028\n"
     ]
    },
    {
     "name": "stderr",
     "output_type": "stream",
     "text": [
      "\n",
      "\n",
      " 96%|█████████▋| 27/28 [21:27<01:07, 67.06s/it]\u001b[A\u001b[A"
     ]
    },
    {
     "name": "stdout",
     "output_type": "stream",
     "text": [
      "text_video_voxaudio label_shift: 9 (27082, 8580) (27082,) num feats 2860 0.5585106382978723\n"
     ]
    },
    {
     "name": "stderr",
     "output_type": "stream",
     "text": [
      "\n",
      "\n",
      "100%|██████████| 28/28 [22:20<00:00, 63.06s/it]\u001b[A\u001b[A"
     ]
    },
    {
     "name": "stdout",
     "output_type": "stream",
     "text": [
      "use_crossval: False | use_all_perspectives: True | predict_only_host: True | clf: <class 'sklearn.ensemble.forest.RandomForestClassifier'>\n",
      "{4: [(('text', 0), 0.6539872562270709), (('text', 2), 0.5961650203370134), (('text', 4), 0.5805323489411307), (('text', 9), 0.5490503230859605), (('video', 0), 0.5864066422089207), (('video', 2), 0.5649815998450514), (('video', 4), 0.5490577035166117), (('video', 9), 0.5392598394360681), (('voxaudio', 0), 0.6472291948252559), (('voxaudio', 2), 0.5930660468719736), (('voxaudio', 4), 0.5748979988342724), (('voxaudio', 9), 0.558449187389857), (('text_video', 0), 0.6460706700135161), (('text_video', 2), 0.5963587061785783), (('text_video', 4), 0.5745094229648339), (('text_video', 9), 0.5421969845310358), (('text_voxaudio', 0), 0.6566904807877969), (('text_voxaudio', 2), 0.6029440247917878), (('text_voxaudio', 4), 0.5758694385078686), (('text_voxaudio', 9), 0.5533581358919131), (('video_voxaudio', 0), 0.653407993821201), (('video_voxaudio', 2), 0.5979081929110982), (('video_voxaudio', 4), 0.5702350884010103), (('video_voxaudio', 9), 0.5568827100058743), (('text_video_voxaudio', 0), 0.6441397953272833), (('text_video_voxaudio', 2), 0.6048808832074375), (('text_video_voxaudio', 4), 0.5733436953565184), (('text_video_voxaudio', 9), 0.5578617583708635)], 5: [(('text', 0), 0.6465336134453782), (('text', 2), 0.5967345505617978), (('text', 4), 0.5725352112676056), (('text', 9), 0.5574468085106383), (('video', 0), 0.5835084033613446), (('video', 2), 0.570751404494382), (('video', 4), 0.5670774647887324), (('video', 9), 0.5585106382978723), (('voxaudio', 0), 0.6414565826330533), (('voxaudio', 2), 0.6004213483146067), (('voxaudio', 4), 0.5746478873239437), (('voxaudio', 9), 0.5570921985815603), (('text_video', 0), 0.6376050420168067), (('text_video', 2), 0.5969101123595506), (('text_video', 4), 0.5806338028169014), (('text_video', 9), 0.5585106382978723), (('text_voxaudio', 0), 0.6475840336134454), (('text_voxaudio', 2), 0.6053370786516854), (('text_voxaudio', 4), 0.585387323943662), (('text_voxaudio', 9), 0.5593971631205674), (('video_voxaudio', 0), 0.6432072829131653), (('video_voxaudio', 2), 0.5956811797752809), (('video_voxaudio', 4), 0.5748239436619719), (('video_voxaudio', 9), 0.5539007092198581), (('text_video_voxaudio', 0), 0.6465336134453782), (('text_video_voxaudio', 2), 0.601123595505618), (('text_video_voxaudio', 4), 0.5737676056338028), (('text_video_voxaudio', 9), 0.5585106382978723)]}\n",
      "(131113, 2881)\n"
     ]
    },
    {
     "name": "stderr",
     "output_type": "stream",
     "text": [
      "\n",
      "\n",
      "  0%|          | 0/28 [00:00<?, ?it/s]\u001b[A\u001b[A"
     ]
    },
    {
     "name": "stdout",
     "output_type": "stream",
     "text": [
      "text label_shift: 0 (28585, 900) (28585,) num feats 300 0.6216502115655853\n"
     ]
    },
    {
     "name": "stderr",
     "output_type": "stream",
     "text": [
      "\n",
      "\n",
      "  4%|▎         | 1/28 [01:56<52:34, 116.85s/it]\u001b[A\u001b[A"
     ]
    },
    {
     "name": "stdout",
     "output_type": "stream",
     "text": [
      "text label_shift: 9 (28279, 900) (28279,) num feats 300 0.5480357142857143\n",
      "text label_shift: 4 (28449, 900) (28449,) num feats 300 0.5627659574468085\n",
      "text label_shift: 2 (28517, 900) (28517,) num feats 300 0.5795615275813296\n"
     ]
    },
    {
     "name": "stderr",
     "output_type": "stream",
     "text": [
      "\n",
      "\n",
      "  7%|▋         | 2/28 [02:20<38:31, 88.90s/it] \u001b[A\u001b[A"
     ]
    },
    {
     "name": "stdout",
     "output_type": "stream",
     "text": [
      "video label_shift: 0 (28585, 6144) (28585,) num feats 2048 0.590620592383639\n"
     ]
    },
    {
     "name": "stderr",
     "output_type": "stream",
     "text": [
      "\n",
      "\n",
      " 18%|█▊        | 5/28 [04:50<29:37, 77.27s/it]\u001b[A\u001b[A"
     ]
    },
    {
     "name": "stdout",
     "output_type": "stream",
     "text": [
      "voxaudio label_shift: 0 (28585, 1536) (28585,) num feats 512 0.6167136812411848\n",
      "video label_shift: 2 (28517, 6144) (28517,) num feats 2048 0.5694837340876945\n"
     ]
    },
    {
     "name": "stderr",
     "output_type": "stream",
     "text": [
      "\n",
      "\n",
      " 21%|██▏       | 6/28 [05:16<22:37, 61.70s/it]\u001b[A\u001b[A"
     ]
    },
    {
     "name": "stdout",
     "output_type": "stream",
     "text": [
      "voxaudio label_shift: 2 (28517, 1536) (28517,) num feats 512 0.5815063649222065\n",
      "video label_shift: 4 (28449, 6144) (28449,) num feats 2048 0.5666666666666667\n"
     ]
    },
    {
     "name": "stderr",
     "output_type": "stream",
     "text": [
      "\n",
      "\n",
      " 25%|██▌       | 7/28 [07:12<27:21, 78.19s/it]\u001b[A\u001b[A"
     ]
    },
    {
     "name": "stdout",
     "output_type": "stream",
     "text": [
      "video label_shift: 9 (28279, 6144) (28279,) num feats 2048 0.5523214285714285\n"
     ]
    },
    {
     "name": "stderr",
     "output_type": "stream",
     "text": [
      "\n",
      "\n",
      " 29%|██▊       | 8/28 [07:34<20:25, 61.27s/it]\u001b[A\u001b[A"
     ]
    },
    {
     "name": "stdout",
     "output_type": "stream",
     "text": [
      "voxaudio label_shift: 4 (28449, 1536) (28449,) num feats 512 0.5732269503546099\n"
     ]
    },
    {
     "name": "stderr",
     "output_type": "stream",
     "text": [
      "\n",
      "\n",
      " 39%|███▉      | 11/28 [07:54<12:42, 44.84s/it]\u001b[A\u001b[A"
     ]
    },
    {
     "name": "stdout",
     "output_type": "stream",
     "text": [
      "voxaudio label_shift: 9 (28279, 1536) (28279,) num feats 512 0.5582142857142857\n"
     ]
    },
    {
     "name": "stderr",
     "output_type": "stream",
     "text": [
      "\n",
      "\n",
      " 43%|████▎     | 12/28 [07:59<08:49, 33.08s/it]\u001b[A\u001b[A"
     ]
    },
    {
     "name": "stdout",
     "output_type": "stream",
     "text": [
      "text_video label_shift: 0 (28585, 7044) (28585,) num feats 2348 0.6100141043723555\n"
     ]
    },
    {
     "name": "stderr",
     "output_type": "stream",
     "text": [
      "\n",
      "\n",
      " 46%|████▋     | 13/28 [10:23<16:34, 66.29s/it]\u001b[A\u001b[A"
     ]
    },
    {
     "name": "stdout",
     "output_type": "stream",
     "text": [
      "text_video label_shift: 2 (28517, 7044) (28517,) num feats 2348 0.5781471004243282\n"
     ]
    },
    {
     "name": "stderr",
     "output_type": "stream",
     "text": [
      "\n",
      "\n",
      " 50%|█████     | 14/28 [10:54<12:59, 55.65s/it]\u001b[A\u001b[A"
     ]
    },
    {
     "name": "stdout",
     "output_type": "stream",
     "text": [
      "text_voxaudio label_shift: 0 (28585, 2436) (28585,) num feats 812 0.6242947813822285\n",
      "text_voxaudio label_shift: 2 (28517, 2436) (28517,) num feats 812 0.5949434229137199\n",
      "text_video label_shift: 4 (28449, 7044) (28449,) num feats 2348 0.5673758865248227\n"
     ]
    },
    {
     "name": "stderr",
     "output_type": "stream",
     "text": [
      "\n",
      "\n",
      " 54%|█████▎    | 15/28 [12:43<15:32, 71.74s/it]\u001b[A\u001b[A"
     ]
    },
    {
     "name": "stdout",
     "output_type": "stream",
     "text": [
      "text_video label_shift: 9 (28279, 7044) (28279,) num feats 2348 0.5521428571428572\n"
     ]
    },
    {
     "name": "stderr",
     "output_type": "stream",
     "text": [
      "\n",
      "\n",
      " 57%|█████▋    | 16/28 [13:02<11:11, 55.97s/it]\u001b[A\u001b[A"
     ]
    },
    {
     "name": "stdout",
     "output_type": "stream",
     "text": [
      "text_voxaudio label_shift: 4 (28449, 2436) (28449,) num feats 812 0.5762411347517731\n"
     ]
    },
    {
     "name": "stderr",
     "output_type": "stream",
     "text": [
      "\n",
      "\n",
      " 68%|██████▊   | 19/28 [13:51<06:35, 43.98s/it]\u001b[A\u001b[A"
     ]
    },
    {
     "name": "stdout",
     "output_type": "stream",
     "text": [
      "text_voxaudio label_shift: 9 (28279, 2436) (28279,) num feats 812 0.5592857142857143\n"
     ]
    },
    {
     "name": "stderr",
     "output_type": "stream",
     "text": [
      "\n",
      "\n",
      " 71%|███████▏  | 20/28 [14:20<05:18, 39.76s/it]\u001b[A\u001b[A"
     ]
    },
    {
     "name": "stdout",
     "output_type": "stream",
     "text": [
      "video_voxaudio label_shift: 0 (28585, 7680) (28585,) num feats 2560 0.6174188998589563\n"
     ]
    },
    {
     "name": "stderr",
     "output_type": "stream",
     "text": [
      "\n",
      "\n",
      " 75%|███████▌  | 21/28 [16:18<07:22, 63.22s/it]\u001b[A\u001b[A"
     ]
    },
    {
     "name": "stdout",
     "output_type": "stream",
     "text": [
      "video_voxaudio label_shift: 2 (28517, 7680) (28517,) num feats 2560 0.5848656294200849\n"
     ]
    },
    {
     "name": "stderr",
     "output_type": "stream",
     "text": [
      "\n",
      "\n",
      " 79%|███████▊  | 22/28 [17:13<06:03, 60.51s/it]\u001b[A\u001b[A"
     ]
    },
    {
     "name": "stdout",
     "output_type": "stream",
     "text": [
      "video_voxaudio label_shift: 4 (28449, 7680) (28449,) num feats 2560 0.5776595744680851\n"
     ]
    },
    {
     "name": "stderr",
     "output_type": "stream",
     "text": [
      "\n",
      "\n",
      " 82%|████████▏ | 23/28 [18:30<05:27, 65.48s/it]\u001b[A\u001b[A"
     ]
    },
    {
     "name": "stdout",
     "output_type": "stream",
     "text": [
      "video_voxaudio label_shift: 9 (28279, 7680) (28279,) num feats 2560 0.5623214285714285\n"
     ]
    },
    {
     "name": "stderr",
     "output_type": "stream",
     "text": [
      "\n",
      "\n",
      " 86%|████████▌ | 24/28 [18:47<03:24, 51.14s/it]\u001b[A\u001b[A"
     ]
    },
    {
     "name": "stdout",
     "output_type": "stream",
     "text": [
      "text_video_voxaudio label_shift: 0 (28585, 8580) (28585,) num feats 2860 0.6161847672778561\n"
     ]
    },
    {
     "name": "stderr",
     "output_type": "stream",
     "text": [
      "\n",
      "\n",
      " 89%|████████▉ | 25/28 [19:29<02:24, 48.16s/it]\u001b[A\u001b[A"
     ]
    },
    {
     "name": "stdout",
     "output_type": "stream",
     "text": [
      "text_video_voxaudio label_shift: 2 (28517, 8580) (28517,) num feats 2860 0.5878712871287128\n"
     ]
    },
    {
     "name": "stderr",
     "output_type": "stream",
     "text": [
      "\n",
      "\n",
      " 93%|█████████▎| 26/28 [20:22<01:39, 49.84s/it]\u001b[A\u001b[A"
     ]
    },
    {
     "name": "stdout",
     "output_type": "stream",
     "text": [
      "text_video_voxaudio label_shift: 4 (28449, 8580) (28449,) num feats 2860 0.5792553191489361\n"
     ]
    },
    {
     "name": "stderr",
     "output_type": "stream",
     "text": [
      "\n",
      "\n",
      " 96%|█████████▋| 27/28 [22:24<01:11, 71.42s/it]\u001b[A\u001b[A"
     ]
    },
    {
     "name": "stdout",
     "output_type": "stream",
     "text": [
      "text_video_voxaudio label_shift: 9 (28279, 8580) (28279,) num feats 2860 0.5655357142857143\n"
     ]
    },
    {
     "name": "stderr",
     "output_type": "stream",
     "text": [
      "\n",
      "\n",
      "100%|██████████| 28/28 [23:14<00:00, 64.86s/it]\u001b[A\u001b[A"
     ]
    },
    {
     "name": "stdout",
     "output_type": "stream",
     "text": [
      "use_crossval: False | use_all_perspectives: True | predict_only_host: True | clf: <class 'sklearn.ensemble.forest.RandomForestClassifier'>\n",
      "{4: [(('text', 0), 0.6539872562270709), (('text', 2), 0.5961650203370134), (('text', 4), 0.5805323489411307), (('text', 9), 0.5490503230859605), (('video', 0), 0.5864066422089207), (('video', 2), 0.5649815998450514), (('video', 4), 0.5490577035166117), (('video', 9), 0.5392598394360681), (('voxaudio', 0), 0.6472291948252559), (('voxaudio', 2), 0.5930660468719736), (('voxaudio', 4), 0.5748979988342724), (('voxaudio', 9), 0.558449187389857), (('text_video', 0), 0.6460706700135161), (('text_video', 2), 0.5963587061785783), (('text_video', 4), 0.5745094229648339), (('text_video', 9), 0.5421969845310358), (('text_voxaudio', 0), 0.6566904807877969), (('text_voxaudio', 2), 0.6029440247917878), (('text_voxaudio', 4), 0.5758694385078686), (('text_voxaudio', 9), 0.5533581358919131), (('video_voxaudio', 0), 0.653407993821201), (('video_voxaudio', 2), 0.5979081929110982), (('video_voxaudio', 4), 0.5702350884010103), (('video_voxaudio', 9), 0.5568827100058743), (('text_video_voxaudio', 0), 0.6441397953272833), (('text_video_voxaudio', 2), 0.6048808832074375), (('text_video_voxaudio', 4), 0.5733436953565184), (('text_video_voxaudio', 9), 0.5578617583708635)], 5: [(('text', 0), 0.6465336134453782), (('text', 2), 0.5967345505617978), (('text', 4), 0.5725352112676056), (('text', 9), 0.5574468085106383), (('video', 0), 0.5835084033613446), (('video', 2), 0.570751404494382), (('video', 4), 0.5670774647887324), (('video', 9), 0.5585106382978723), (('voxaudio', 0), 0.6414565826330533), (('voxaudio', 2), 0.6004213483146067), (('voxaudio', 4), 0.5746478873239437), (('voxaudio', 9), 0.5570921985815603), (('text_video', 0), 0.6376050420168067), (('text_video', 2), 0.5969101123595506), (('text_video', 4), 0.5806338028169014), (('text_video', 9), 0.5585106382978723), (('text_voxaudio', 0), 0.6475840336134454), (('text_voxaudio', 2), 0.6053370786516854), (('text_voxaudio', 4), 0.585387323943662), (('text_voxaudio', 9), 0.5593971631205674), (('video_voxaudio', 0), 0.6432072829131653), (('video_voxaudio', 2), 0.5956811797752809), (('video_voxaudio', 4), 0.5748239436619719), (('video_voxaudio', 9), 0.5539007092198581), (('text_video_voxaudio', 0), 0.6465336134453782), (('text_video_voxaudio', 2), 0.601123595505618), (('text_video_voxaudio', 4), 0.5737676056338028), (('text_video_voxaudio', 9), 0.5585106382978723)], 10: [(('text', 0), 0.6216502115655853), (('text', 2), 0.5795615275813296), (('text', 4), 0.5627659574468085), (('text', 9), 0.5480357142857143), (('video', 0), 0.590620592383639), (('video', 2), 0.5694837340876945), (('video', 4), 0.5666666666666667), (('video', 9), 0.5523214285714285), (('voxaudio', 0), 0.6167136812411848), (('voxaudio', 2), 0.5815063649222065), (('voxaudio', 4), 0.5732269503546099), (('voxaudio', 9), 0.5582142857142857), (('text_video', 0), 0.6100141043723555), (('text_video', 2), 0.5781471004243282), (('text_video', 4), 0.5673758865248227), (('text_video', 9), 0.5521428571428572), (('text_voxaudio', 0), 0.6242947813822285), (('text_voxaudio', 2), 0.5949434229137199), (('text_voxaudio', 4), 0.5762411347517731), (('text_voxaudio', 9), 0.5592857142857143), (('video_voxaudio', 0), 0.6174188998589563), (('video_voxaudio', 2), 0.5848656294200849), (('video_voxaudio', 4), 0.5776595744680851), (('video_voxaudio', 9), 0.5623214285714285), (('text_video_voxaudio', 0), 0.6161847672778561), (('text_video_voxaudio', 2), 0.5878712871287128), (('text_video_voxaudio', 4), 0.5792553191489361), (('text_video_voxaudio', 9), 0.5655357142857143)]}\n",
      "(129245, 2881)\n"
     ]
    },
    {
     "name": "stderr",
     "output_type": "stream",
     "text": [
      "\n",
      "\n",
      "  0%|          | 0/28 [00:00<?, ?it/s]\u001b[A\u001b[A"
     ]
    },
    {
     "name": "stdout",
     "output_type": "stream",
     "text": [
      "text label_shift: 0 (28275, 900) (28275,) num feats 300 0.5693033381712627\n"
     ]
    },
    {
     "name": "stderr",
     "output_type": "stream",
     "text": [
      "\n",
      "\n",
      "  4%|▎         | 1/28 [02:02<55:17, 122.88s/it]\u001b[A\u001b[A"
     ]
    },
    {
     "name": "stdout",
     "output_type": "stream",
     "text": [
      "text label_shift: 9 (27969, 900) (27969,) num feats 300 0.5479779411764706\n",
      "text label_shift: 2 (28207, 900) (28207,) num feats 300 0.5516739446870451\n"
     ]
    },
    {
     "name": "stderr",
     "output_type": "stream",
     "text": [
      "\n",
      "\n",
      "  7%|▋         | 2/28 [02:27<40:28, 93.40s/it] \u001b[A\u001b[A"
     ]
    },
    {
     "name": "stdout",
     "output_type": "stream",
     "text": [
      "text label_shift: 4 (28139, 900) (28139,) num feats 300 0.5474452554744526\n"
     ]
    },
    {
     "name": "stderr",
     "output_type": "stream",
     "text": [
      "\n",
      "\n",
      " 11%|█         | 3/28 [02:30<27:33, 66.16s/it]\u001b[A\u001b[A"
     ]
    },
    {
     "name": "stdout",
     "output_type": "stream",
     "text": [
      "video label_shift: 0 (28275, 6144) (28275,) num feats 2048 0.5662191582002902\n"
     ]
    },
    {
     "name": "stderr",
     "output_type": "stream",
     "text": [
      "\n",
      "\n",
      " 18%|█▊        | 5/28 [04:50<25:48, 67.33s/it]\u001b[A\u001b[A"
     ]
    },
    {
     "name": "stdout",
     "output_type": "stream",
     "text": [
      "voxaudio label_shift: 0 (28275, 1536) (28275,) num feats 512 0.5705732946298984\n",
      "video label_shift: 2 (28207, 6144) (28207,) num feats 2048 0.5609534206695779\n"
     ]
    },
    {
     "name": "stderr",
     "output_type": "stream",
     "text": [
      "\n",
      "\n",
      " 21%|██▏       | 6/28 [05:15<20:03, 54.69s/it]\u001b[A\u001b[A"
     ]
    },
    {
     "name": "stdout",
     "output_type": "stream",
     "text": [
      "voxaudio label_shift: 2 (28207, 1536) (28207,) num feats 512 0.5591339155749636\n",
      "video label_shift: 4 (28139, 6144) (28139,) num feats 2048 0.5490875912408759\n"
     ]
    },
    {
     "name": "stderr",
     "output_type": "stream",
     "text": [
      "\n",
      "\n",
      " 25%|██▌       | 7/28 [07:13<25:45, 73.60s/it]\u001b[A\u001b[A"
     ]
    },
    {
     "name": "stdout",
     "output_type": "stream",
     "text": [
      "video label_shift: 9 (27969, 6144) (27969,) num feats 2048 0.5424632352941177\n"
     ]
    },
    {
     "name": "stderr",
     "output_type": "stream",
     "text": [
      "\n",
      "\n",
      " 29%|██▊       | 8/28 [07:35<19:23, 58.17s/it]\u001b[A\u001b[A"
     ]
    },
    {
     "name": "stdout",
     "output_type": "stream",
     "text": [
      "voxaudio label_shift: 4 (28139, 1536) (28139,) num feats 512 0.5593065693430657\n"
     ]
    },
    {
     "name": "stderr",
     "output_type": "stream",
     "text": [
      "\n",
      "\n",
      " 39%|███▉      | 11/28 [07:52<12:02, 42.48s/it]\u001b[A\u001b[A"
     ]
    },
    {
     "name": "stdout",
     "output_type": "stream",
     "text": [
      "voxaudio label_shift: 9 (27969, 1536) (27969,) num feats 512 0.5424632352941177\n"
     ]
    },
    {
     "name": "stderr",
     "output_type": "stream",
     "text": [
      "\n",
      "\n",
      " 43%|████▎     | 12/28 [08:03<08:47, 32.94s/it]\u001b[A\u001b[A"
     ]
    },
    {
     "name": "stdout",
     "output_type": "stream",
     "text": [
      "text_video label_shift: 0 (28275, 7044) (28275,) num feats 2348 0.5749274310595065\n"
     ]
    },
    {
     "name": "stderr",
     "output_type": "stream",
     "text": [
      "\n",
      "\n",
      " 46%|████▋     | 13/28 [10:28<16:35, 66.37s/it]\u001b[A\u001b[A"
     ]
    },
    {
     "name": "stdout",
     "output_type": "stream",
     "text": [
      "text_voxaudio label_shift: 0 (28275, 2436) (28275,) num feats 812 0.5702104499274311\n",
      "text_video label_shift: 2 (28207, 7044) (28207,) num feats 2348 0.5587700145560408\n"
     ]
    },
    {
     "name": "stderr",
     "output_type": "stream",
     "text": [
      "\n",
      "\n",
      " 50%|█████     | 14/28 [11:10<13:48, 59.15s/it]\u001b[A\u001b[A"
     ]
    },
    {
     "name": "stdout",
     "output_type": "stream",
     "text": [
      "text_voxaudio label_shift: 2 (28207, 2436) (28207,) num feats 812 0.5531295487627366\n",
      "text_video label_shift: 4 (28139, 7044) (28139,) num feats 2348 0.5541970802919708\n"
     ]
    },
    {
     "name": "stderr",
     "output_type": "stream",
     "text": [
      "\n",
      "\n",
      " 54%|█████▎    | 15/28 [12:43<15:01, 69.36s/it]\u001b[A\u001b[A"
     ]
    },
    {
     "name": "stdout",
     "output_type": "stream",
     "text": [
      "text_video label_shift: 9 (27969, 7044) (27969,) num feats 2348 0.5564338235294117\n"
     ]
    },
    {
     "name": "stderr",
     "output_type": "stream",
     "text": [
      "\n",
      "\n",
      " 57%|█████▋    | 16/28 [13:03<10:56, 54.68s/it]\u001b[A\u001b[A"
     ]
    },
    {
     "name": "stdout",
     "output_type": "stream",
     "text": [
      "text_voxaudio label_shift: 4 (28139, 2436) (28139,) num feats 812 0.5598540145985401\n"
     ]
    },
    {
     "name": "stderr",
     "output_type": "stream",
     "text": [
      "\n",
      "\n",
      " 68%|██████▊   | 19/28 [13:57<06:33, 43.68s/it]\u001b[A\u001b[A"
     ]
    },
    {
     "name": "stdout",
     "output_type": "stream",
     "text": [
      "text_voxaudio label_shift: 9 (27969, 2436) (27969,) num feats 812 0.5481617647058824\n"
     ]
    },
    {
     "name": "stderr",
     "output_type": "stream",
     "text": [
      "\n",
      "\n",
      " 71%|███████▏  | 20/28 [14:24<05:08, 38.50s/it]\u001b[A\u001b[A"
     ]
    },
    {
     "name": "stdout",
     "output_type": "stream",
     "text": [
      "video_voxaudio label_shift: 0 (28275, 7680) (28275,) num feats 2560 0.579644412191582\n"
     ]
    },
    {
     "name": "stderr",
     "output_type": "stream",
     "text": [
      "\n",
      "\n",
      " 75%|███████▌  | 21/28 [16:26<07:24, 63.56s/it]\u001b[A\u001b[A"
     ]
    },
    {
     "name": "stdout",
     "output_type": "stream",
     "text": [
      "video_voxaudio label_shift: 2 (28207, 7680) (28207,) num feats 2560 0.5684133915574964\n"
     ]
    },
    {
     "name": "stderr",
     "output_type": "stream",
     "text": [
      "\n",
      "\n",
      " 79%|███████▊  | 22/28 [17:13<05:52, 58.68s/it]\u001b[A\u001b[A"
     ]
    },
    {
     "name": "stdout",
     "output_type": "stream",
     "text": [
      "video_voxaudio label_shift: 4 (28139, 7680) (28139,) num feats 2560 0.5534671532846716\n"
     ]
    },
    {
     "name": "stderr",
     "output_type": "stream",
     "text": [
      "\n",
      "\n",
      " 82%|████████▏ | 23/28 [18:23<05:09, 61.93s/it]\u001b[A\u001b[A"
     ]
    },
    {
     "name": "stdout",
     "output_type": "stream",
     "text": [
      "video_voxaudio label_shift: 9 (27969, 7680) (27969,) num feats 2560 0.5367647058823529\n"
     ]
    },
    {
     "name": "stderr",
     "output_type": "stream",
     "text": [
      "\n",
      "\n",
      " 86%|████████▌ | 24/28 [18:44<03:19, 49.84s/it]\u001b[A\u001b[A"
     ]
    },
    {
     "name": "stdout",
     "output_type": "stream",
     "text": [
      "text_video_voxaudio label_shift: 0 (28275, 8580) (28275,) num feats 2860 0.5747460087082729\n"
     ]
    },
    {
     "name": "stderr",
     "output_type": "stream",
     "text": [
      "\n",
      "\n",
      " 89%|████████▉ | 25/28 [19:38<02:32, 50.94s/it]\u001b[A\u001b[A"
     ]
    },
    {
     "name": "stdout",
     "output_type": "stream",
     "text": [
      "text_video_voxaudio label_shift: 2 (28207, 8580) (28207,) num feats 2860 0.5704148471615721\n"
     ]
    },
    {
     "name": "stderr",
     "output_type": "stream",
     "text": [
      "\n",
      "\n",
      " 93%|█████████▎| 26/28 [20:22<01:38, 49.03s/it]\u001b[A\u001b[A"
     ]
    },
    {
     "name": "stdout",
     "output_type": "stream",
     "text": [
      "text_video_voxaudio label_shift: 4 (28139, 8580) (28139,) num feats 2860 0.5574817518248175\n"
     ]
    },
    {
     "name": "stderr",
     "output_type": "stream",
     "text": [
      "\n",
      "\n",
      " 96%|█████████▋| 27/28 [22:24<01:10, 70.81s/it]\u001b[A\u001b[A"
     ]
    },
    {
     "name": "stdout",
     "output_type": "stream",
     "text": [
      "text_video_voxaudio label_shift: 9 (27969, 8580) (27969,) num feats 2860 0.5516544117647059\n"
     ]
    },
    {
     "name": "stderr",
     "output_type": "stream",
     "text": [
      "\n",
      "\n",
      "100%|██████████| 28/28 [23:11<00:00, 63.74s/it]\u001b[A\u001b[A"
     ]
    },
    {
     "name": "stdout",
     "output_type": "stream",
     "text": [
      "use_crossval: False | use_all_perspectives: True | predict_only_host: True | clf: <class 'sklearn.ensemble.forest.RandomForestClassifier'>\n",
      "{4: [(('text', 0), 0.6539872562270709), (('text', 2), 0.5961650203370134), (('text', 4), 0.5805323489411307), (('text', 9), 0.5490503230859605), (('video', 0), 0.5864066422089207), (('video', 2), 0.5649815998450514), (('video', 4), 0.5490577035166117), (('video', 9), 0.5392598394360681), (('voxaudio', 0), 0.6472291948252559), (('voxaudio', 2), 0.5930660468719736), (('voxaudio', 4), 0.5748979988342724), (('voxaudio', 9), 0.558449187389857), (('text_video', 0), 0.6460706700135161), (('text_video', 2), 0.5963587061785783), (('text_video', 4), 0.5745094229648339), (('text_video', 9), 0.5421969845310358), (('text_voxaudio', 0), 0.6566904807877969), (('text_voxaudio', 2), 0.6029440247917878), (('text_voxaudio', 4), 0.5758694385078686), (('text_voxaudio', 9), 0.5533581358919131), (('video_voxaudio', 0), 0.653407993821201), (('video_voxaudio', 2), 0.5979081929110982), (('video_voxaudio', 4), 0.5702350884010103), (('video_voxaudio', 9), 0.5568827100058743), (('text_video_voxaudio', 0), 0.6441397953272833), (('text_video_voxaudio', 2), 0.6048808832074375), (('text_video_voxaudio', 4), 0.5733436953565184), (('text_video_voxaudio', 9), 0.5578617583708635)], 5: [(('text', 0), 0.6465336134453782), (('text', 2), 0.5967345505617978), (('text', 4), 0.5725352112676056), (('text', 9), 0.5574468085106383), (('video', 0), 0.5835084033613446), (('video', 2), 0.570751404494382), (('video', 4), 0.5670774647887324), (('video', 9), 0.5585106382978723), (('voxaudio', 0), 0.6414565826330533), (('voxaudio', 2), 0.6004213483146067), (('voxaudio', 4), 0.5746478873239437), (('voxaudio', 9), 0.5570921985815603), (('text_video', 0), 0.6376050420168067), (('text_video', 2), 0.5969101123595506), (('text_video', 4), 0.5806338028169014), (('text_video', 9), 0.5585106382978723), (('text_voxaudio', 0), 0.6475840336134454), (('text_voxaudio', 2), 0.6053370786516854), (('text_voxaudio', 4), 0.585387323943662), (('text_voxaudio', 9), 0.5593971631205674), (('video_voxaudio', 0), 0.6432072829131653), (('video_voxaudio', 2), 0.5956811797752809), (('video_voxaudio', 4), 0.5748239436619719), (('video_voxaudio', 9), 0.5539007092198581), (('text_video_voxaudio', 0), 0.6465336134453782), (('text_video_voxaudio', 2), 0.601123595505618), (('text_video_voxaudio', 4), 0.5737676056338028), (('text_video_voxaudio', 9), 0.5585106382978723)], 10: [(('text', 0), 0.6216502115655853), (('text', 2), 0.5795615275813296), (('text', 4), 0.5627659574468085), (('text', 9), 0.5480357142857143), (('video', 0), 0.590620592383639), (('video', 2), 0.5694837340876945), (('video', 4), 0.5666666666666667), (('video', 9), 0.5523214285714285), (('voxaudio', 0), 0.6167136812411848), (('voxaudio', 2), 0.5815063649222065), (('voxaudio', 4), 0.5732269503546099), (('voxaudio', 9), 0.5582142857142857), (('text_video', 0), 0.6100141043723555), (('text_video', 2), 0.5781471004243282), (('text_video', 4), 0.5673758865248227), (('text_video', 9), 0.5521428571428572), (('text_voxaudio', 0), 0.6242947813822285), (('text_voxaudio', 2), 0.5949434229137199), (('text_voxaudio', 4), 0.5762411347517731), (('text_voxaudio', 9), 0.5592857142857143), (('video_voxaudio', 0), 0.6174188998589563), (('video_voxaudio', 2), 0.5848656294200849), (('video_voxaudio', 4), 0.5776595744680851), (('video_voxaudio', 9), 0.5623214285714285), (('text_video_voxaudio', 0), 0.6161847672778561), (('text_video_voxaudio', 2), 0.5878712871287128), (('text_video_voxaudio', 4), 0.5792553191489361), (('text_video_voxaudio', 9), 0.5655357142857143)], 30: [(('text', 0), 0.5693033381712627), (('text', 2), 0.5516739446870451), (('text', 4), 0.5474452554744526), (('text', 9), 0.5479779411764706), (('video', 0), 0.5662191582002902), (('video', 2), 0.5609534206695779), (('video', 4), 0.5490875912408759), (('video', 9), 0.5424632352941177), (('voxaudio', 0), 0.5705732946298984), (('voxaudio', 2), 0.5591339155749636), (('voxaudio', 4), 0.5593065693430657), (('voxaudio', 9), 0.5424632352941177), (('text_video', 0), 0.5749274310595065), (('text_video', 2), 0.5587700145560408), (('text_video', 4), 0.5541970802919708), (('text_video', 9), 0.5564338235294117), (('text_voxaudio', 0), 0.5702104499274311), (('text_voxaudio', 2), 0.5531295487627366), (('text_voxaudio', 4), 0.5598540145985401), (('text_voxaudio', 9), 0.5481617647058824), (('video_voxaudio', 0), 0.579644412191582), (('video_voxaudio', 2), 0.5684133915574964), (('video_voxaudio', 4), 0.5534671532846716), (('video_voxaudio', 9), 0.5367647058823529), (('text_video_voxaudio', 0), 0.5747460087082729), (('text_video_voxaudio', 2), 0.5704148471615721), (('text_video_voxaudio', 4), 0.5574817518248175), (('text_video_voxaudio', 9), 0.5516544117647059)]}\n",
      "use_crossval: False | use_all_perspectives: False | predict_only_host: False | clf: <class 'sklearn.ensemble.forest.RandomForestClassifier'>\n",
      "(136431, 2881)\n"
     ]
    },
    {
     "name": "stderr",
     "output_type": "stream",
     "text": [
      "\n",
      "\n",
      "  0%|          | 0/28 [00:00<?, ?it/s]\u001b[A\u001b[A"
     ]
    },
    {
     "name": "stdout",
     "output_type": "stream",
     "text": [
      "text label_shift: 0 (107836, 300) (107836,) num feats 300 0.6985922449987652\n"
     ]
    },
    {
     "name": "stderr",
     "output_type": "stream",
     "text": [
      "\n",
      "\n",
      "  4%|▎         | 1/28 [02:22<1:03:54, 142.02s/it]\u001b[A\u001b[A"
     ]
    },
    {
     "name": "stdout",
     "output_type": "stream",
     "text": [
      "text label_shift: 9 (106675, 300) (106675,) num feats 300 0.6512418170006496\n",
      "text label_shift: 2 (107578, 300) (107578,) num feats 300 0.6741445055217155\n"
     ]
    },
    {
     "name": "stderr",
     "output_type": "stream",
     "text": [
      "\n",
      "\n",
      "  7%|▋         | 2/28 [02:49<46:39, 107.68s/it]  \u001b[A\u001b[A"
     ]
    },
    {
     "name": "stdout",
     "output_type": "stream",
     "text": [
      "text label_shift: 4 (107320, 300) (107320,) num feats 300 0.6656571173228737\n"
     ]
    },
    {
     "name": "stderr",
     "output_type": "stream",
     "text": [
      "\n",
      "\n",
      " 11%|█         | 3/28 [02:49<31:27, 75.49s/it] \u001b[A\u001b[A"
     ]
    },
    {
     "name": "stdout",
     "output_type": "stream",
     "text": [
      "voxaudio label_shift: 0 (107836, 512) (107836,) num feats 512 0.7197826623857743\n",
      "voxaudio label_shift: 2 (107578, 512) (107578,) num feats 512 0.6952409250730451\n",
      "video label_shift: 0 (107836, 2048) (107836,) num feats 2048 0.6558162509261546\n"
     ]
    },
    {
     "name": "stderr",
     "output_type": "stream",
     "text": [
      "\n",
      "\n",
      " 18%|█▊        | 5/28 [08:41<40:28, 105.58s/it]\u001b[A\u001b[A"
     ]
    },
    {
     "name": "stdout",
     "output_type": "stream",
     "text": [
      "video label_shift: 2 (107578, 2048) (107578,) num feats 2048 0.6499281929381469\n"
     ]
    },
    {
     "name": "stderr",
     "output_type": "stream",
     "text": [
      "\n",
      "\n",
      " 21%|██▏       | 6/28 [09:01<29:15, 79.82s/it] \u001b[A\u001b[A"
     ]
    },
    {
     "name": "stdout",
     "output_type": "stream",
     "text": [
      "video label_shift: 4 (107320, 2048) (107320,) num feats 2048 0.6475348791023285\n"
     ]
    },
    {
     "name": "stderr",
     "output_type": "stream",
     "text": [
      "\n",
      "\n",
      " 25%|██▌       | 7/28 [11:21<34:15, 97.86s/it]\u001b[A\u001b[A"
     ]
    },
    {
     "name": "stdout",
     "output_type": "stream",
     "text": [
      "video label_shift: 9 (106675, 2048) (106675,) num feats 2048 0.647044125730848\n"
     ]
    },
    {
     "name": "stderr",
     "output_type": "stream",
     "text": [
      "\n",
      "\n",
      " 29%|██▊       | 8/28 [11:40<24:44, 74.24s/it]\u001b[A\u001b[A"
     ]
    },
    {
     "name": "stdout",
     "output_type": "stream",
     "text": [
      "voxaudio label_shift: 4 (107320, 512) (107320,) num feats 512 0.6834814557370538\n"
     ]
    },
    {
     "name": "stderr",
     "output_type": "stream",
     "text": [
      "\n",
      "\n",
      " 39%|███▉      | 11/28 [12:15<15:43, 55.51s/it]\u001b[A\u001b[A"
     ]
    },
    {
     "name": "stdout",
     "output_type": "stream",
     "text": [
      "voxaudio label_shift: 9 (106675, 512) (106675,) num feats 512 0.6702313727449902\n"
     ]
    },
    {
     "name": "stderr",
     "output_type": "stream",
     "text": [
      "\n",
      "\n",
      " 43%|████▎     | 12/28 [12:48<13:00, 48.77s/it]\u001b[A\u001b[A"
     ]
    },
    {
     "name": "stdout",
     "output_type": "stream",
     "text": [
      "text_voxaudio label_shift: 0 (107836, 812) (107836,) num feats 812 0.7202272165966905\n",
      "text_video label_shift: 0 (107836, 2348) (107836,) num feats 2348 0.7045690293899728\n"
     ]
    },
    {
     "name": "stderr",
     "output_type": "stream",
     "text": [
      "\n",
      "\n",
      " 46%|████▋     | 13/28 [17:42<30:31, 122.12s/it]\u001b[A\u001b[A"
     ]
    },
    {
     "name": "stdout",
     "output_type": "stream",
     "text": [
      "text_voxaudio label_shift: 2 (107578, 812) (107578,) num feats 812 0.6930619521616401\n",
      "text_video label_shift: 2 (107578, 2348) (107578,) num feats 2348 0.6796414599118507\n"
     ]
    },
    {
     "name": "stderr",
     "output_type": "stream",
     "text": [
      "\n",
      "\n",
      " 50%|█████     | 14/28 [18:14<22:11, 95.09s/it] \u001b[A\u001b[A"
     ]
    },
    {
     "name": "stdout",
     "output_type": "stream",
     "text": [
      "text_video label_shift: 4 (107320, 2348) (107320,) num feats 2348 0.6708703639342635\n"
     ]
    },
    {
     "name": "stderr",
     "output_type": "stream",
     "text": [
      "\n",
      "\n",
      " 54%|█████▎    | 15/28 [20:34<23:32, 108.66s/it]\u001b[A\u001b[A"
     ]
    },
    {
     "name": "stdout",
     "output_type": "stream",
     "text": [
      "text_video label_shift: 9 (106675, 2348) (106675,) num feats 2348 0.6503423117285493\n"
     ]
    },
    {
     "name": "stderr",
     "output_type": "stream",
     "text": [
      "\n",
      "\n",
      " 57%|█████▋    | 16/28 [20:45<15:53, 79.49s/it] \u001b[A\u001b[A"
     ]
    },
    {
     "name": "stdout",
     "output_type": "stream",
     "text": [
      "text_voxaudio label_shift: 4 (107320, 812) (107320,) num feats 812 0.6864604538007051\n"
     ]
    },
    {
     "name": "stderr",
     "output_type": "stream",
     "text": [
      "\n",
      "\n",
      " 68%|██████▊   | 19/28 [22:16<09:42, 64.75s/it]\u001b[A\u001b[A"
     ]
    },
    {
     "name": "stdout",
     "output_type": "stream",
     "text": [
      "text_voxaudio label_shift: 9 (106675, 812) (106675,) num feats 812 0.6727799710159412\n"
     ]
    },
    {
     "name": "stderr",
     "output_type": "stream",
     "text": [
      "\n",
      "\n",
      " 71%|███████▏  | 20/28 [23:05<07:58, 59.79s/it]\u001b[A\u001b[A"
     ]
    },
    {
     "name": "stdout",
     "output_type": "stream",
     "text": [
      "video_voxaudio label_shift: 0 (107836, 2560) (107836,) num feats 2560 0.7134107186959743\n"
     ]
    },
    {
     "name": "stderr",
     "output_type": "stream",
     "text": [
      "\n",
      "\n",
      " 75%|███████▌  | 21/28 [27:28<14:05, 120.85s/it]\u001b[A\u001b[A"
     ]
    },
    {
     "name": "stdout",
     "output_type": "stream",
     "text": [
      "video_voxaudio label_shift: 2 (107578, 2560) (107578,) num feats 2560 0.689694448571287\n"
     ]
    },
    {
     "name": "stderr",
     "output_type": "stream",
     "text": [
      "\n",
      "\n",
      " 79%|███████▊  | 22/28 [28:12<09:46, 97.81s/it] \u001b[A\u001b[A"
     ]
    },
    {
     "name": "stdout",
     "output_type": "stream",
     "text": [
      "video_voxaudio label_shift: 4 (107320, 2560) (107320,) num feats 2560 0.6839283054466014\n"
     ]
    },
    {
     "name": "stderr",
     "output_type": "stream",
     "text": [
      "\n",
      "\n",
      " 82%|████████▏ | 23/28 [30:33<09:14, 110.90s/it]\u001b[A\u001b[A"
     ]
    },
    {
     "name": "stdout",
     "output_type": "stream",
     "text": [
      "video_voxaudio label_shift: 9 (106675, 2560) (106675,) num feats 2560 0.6708810154415071\n"
     ]
    },
    {
     "name": "stderr",
     "output_type": "stream",
     "text": [
      "\n",
      "\n",
      " 86%|████████▌ | 24/28 [30:38<05:15, 78.97s/it] \u001b[A\u001b[A"
     ]
    },
    {
     "name": "stdout",
     "output_type": "stream",
     "text": [
      "text_video_voxaudio label_shift: 0 (107836, 2860) (107836,) num feats 2860 0.7176092862435169\n"
     ]
    },
    {
     "name": "stderr",
     "output_type": "stream",
     "text": [
      "\n",
      "\n",
      " 89%|████████▉ | 25/28 [31:49<03:49, 76.63s/it]\u001b[A\u001b[A"
     ]
    },
    {
     "name": "stdout",
     "output_type": "stream",
     "text": [
      "text_video_voxaudio label_shift: 2 (107578, 2860) (107578,) num feats 2860 0.6905363244688754\n"
     ]
    },
    {
     "name": "stderr",
     "output_type": "stream",
     "text": [
      "\n",
      "\n",
      " 93%|█████████▎| 26/28 [33:17<02:40, 80.01s/it]\u001b[A\u001b[A"
     ]
    },
    {
     "name": "stdout",
     "output_type": "stream",
     "text": [
      "text_video_voxaudio label_shift: 4 (107320, 2860) (107320,) num feats 2860 0.6823395064793207\n"
     ]
    },
    {
     "name": "stderr",
     "output_type": "stream",
     "text": [
      "\n",
      "\n",
      " 96%|█████████▋| 27/28 [37:23<02:09, 129.95s/it]\u001b[A\u001b[A"
     ]
    },
    {
     "name": "stdout",
     "output_type": "stream",
     "text": [
      "text_video_voxaudio label_shift: 9 (106675, 2860) (106675,) num feats 2860 0.6734795862275749\n"
     ]
    },
    {
     "name": "stderr",
     "output_type": "stream",
     "text": [
      "\n",
      "\n",
      "100%|██████████| 28/28 [38:07<00:00, 103.90s/it]\u001b[A\u001b[A"
     ]
    },
    {
     "name": "stdout",
     "output_type": "stream",
     "text": [
      "use_crossval: False | use_all_perspectives: False | predict_only_host: False | clf: <class 'sklearn.ensemble.forest.RandomForestClassifier'>\n",
      "{4: [(('text', 0), 0.6985922449987652), (('text', 2), 0.6741445055217155), (('text', 4), 0.6656571173228737), (('text', 9), 0.6512418170006496), (('video', 0), 0.6558162509261546), (('video', 2), 0.6499281929381469), (('video', 4), 0.6475348791023285), (('video', 9), 0.647044125730848), (('voxaudio', 0), 0.7197826623857743), (('voxaudio', 2), 0.6952409250730451), (('voxaudio', 4), 0.6834814557370538), (('voxaudio', 9), 0.6702313727449902), (('text_video', 0), 0.7045690293899728), (('text_video', 2), 0.6796414599118507), (('text_video', 4), 0.6708703639342635), (('text_video', 9), 0.6503423117285493), (('text_voxaudio', 0), 0.7202272165966905), (('text_voxaudio', 2), 0.6930619521616401), (('text_voxaudio', 4), 0.6864604538007051), (('text_voxaudio', 9), 0.6727799710159412), (('video_voxaudio', 0), 0.7134107186959743), (('video_voxaudio', 2), 0.689694448571287), (('video_voxaudio', 4), 0.6839283054466014), (('video_voxaudio', 9), 0.6708810154415071), (('text_video_voxaudio', 0), 0.7176092862435169), (('text_video_voxaudio', 2), 0.6905363244688754), (('text_video_voxaudio', 4), 0.6823395064793207), (('text_video_voxaudio', 9), 0.6734795862275749)]}\n",
      "(132008, 2881)\n"
     ]
    },
    {
     "name": "stderr",
     "output_type": "stream",
     "text": [
      "\n",
      "\n",
      "  0%|          | 0/28 [00:00<?, ?it/s]\u001b[A\u001b[A"
     ]
    },
    {
     "name": "stdout",
     "output_type": "stream",
     "text": [
      "text label_shift: 0 (102916, 300) (102916,) num feats 300 0.6970616570327552\n"
     ]
    },
    {
     "name": "stderr",
     "output_type": "stream",
     "text": [
      "\n",
      "\n",
      "  4%|▎         | 1/28 [02:22<1:04:12, 142.70s/it]\u001b[A\u001b[A"
     ]
    },
    {
     "name": "stdout",
     "output_type": "stream",
     "text": [
      "text label_shift: 9 (101773, 300) (101773,) num feats 300 0.6548280229952256\n",
      "text label_shift: 4 (102408, 300) (102408,) num feats 300 0.6624709527498064\n",
      "text label_shift: 2 (102662, 300) (102662,) num feats 300 0.6732663704848367\n"
     ]
    },
    {
     "name": "stderr",
     "output_type": "stream",
     "text": [
      "\n",
      "\n",
      "  7%|▋         | 2/28 [02:51<47:02, 108.57s/it]  \u001b[A\u001b[A"
     ]
    },
    {
     "name": "stdout",
     "output_type": "stream",
     "text": [
      "voxaudio label_shift: 0 (102916, 512) (102916,) num feats 512 0.7185934489402698\n",
      "voxaudio label_shift: 2 (102662, 512) (102662,) num feats 512 0.6979428240293606\n",
      "video label_shift: 0 (102916, 2048) (102916,) num feats 2048 0.6675818882466281\n"
     ]
    },
    {
     "name": "stderr",
     "output_type": "stream",
     "text": [
      "\n",
      "\n",
      " 18%|█▊        | 5/28 [08:03<41:04, 107.14s/it]\u001b[A\u001b[A"
     ]
    },
    {
     "name": "stdout",
     "output_type": "stream",
     "text": [
      "video label_shift: 2 (102662, 2048) (102662,) num feats 2048 0.6577168244156848\n"
     ]
    },
    {
     "name": "stderr",
     "output_type": "stream",
     "text": [
      "\n",
      "\n",
      " 21%|██▏       | 6/28 [08:40<31:37, 86.24s/it] \u001b[A\u001b[A"
     ]
    },
    {
     "name": "stdout",
     "output_type": "stream",
     "text": [
      "video label_shift: 4 (102408, 2048) (102408,) num feats 2048 0.6528853601859024\n"
     ]
    },
    {
     "name": "stderr",
     "output_type": "stream",
     "text": [
      "\n",
      "\n",
      " 25%|██▌       | 7/28 [10:50<34:43, 99.23s/it]\u001b[A\u001b[A"
     ]
    },
    {
     "name": "stdout",
     "output_type": "stream",
     "text": [
      "video label_shift: 9 (101773, 2048) (101773,) num feats 2048 0.6511254019292605\n"
     ]
    },
    {
     "name": "stderr",
     "output_type": "stream",
     "text": [
      "\n",
      "\n",
      " 29%|██▊       | 8/28 [11:16<25:50, 77.51s/it]\u001b[A\u001b[A"
     ]
    },
    {
     "name": "stdout",
     "output_type": "stream",
     "text": [
      "voxaudio label_shift: 4 (102408, 512) (102408,) num feats 512 0.6874515879163439\n"
     ]
    },
    {
     "name": "stderr",
     "output_type": "stream",
     "text": [
      "\n",
      "\n",
      " 39%|███▉      | 11/28 [11:51<16:21, 57.75s/it]\u001b[A\u001b[A"
     ]
    },
    {
     "name": "stdout",
     "output_type": "stream",
     "text": [
      "voxaudio label_shift: 9 (101773, 512) (101773,) num feats 512 0.6733411283250511\n"
     ]
    },
    {
     "name": "stderr",
     "output_type": "stream",
     "text": [
      "\n",
      "\n",
      " 43%|████▎     | 12/28 [12:23<13:19, 49.97s/it]\u001b[A\u001b[A"
     ]
    },
    {
     "name": "stdout",
     "output_type": "stream",
     "text": [
      "text_video label_shift: 0 (102916, 2348) (102916,) num feats 2348 0.7030346820809249\n"
     ]
    },
    {
     "name": "stderr",
     "output_type": "stream",
     "text": [
      "\n",
      "\n",
      " 46%|████▋     | 13/28 [16:26<26:57, 107.83s/it]\u001b[A\u001b[A"
     ]
    },
    {
     "name": "stdout",
     "output_type": "stream",
     "text": [
      "text_voxaudio label_shift: 0 (102916, 812) (102916,) num feats 812 0.7171001926782273\n",
      "text_voxaudio label_shift: 2 (102662, 812) (102662,) num feats 812 0.6978462429978752\n",
      "text_video label_shift: 2 (102662, 2348) (102662,) num feats 2348 0.6834073787908055\n"
     ]
    },
    {
     "name": "stderr",
     "output_type": "stream",
     "text": [
      "\n",
      "\n",
      " 50%|█████     | 14/28 [17:35<22:27, 96.28s/it] \u001b[A\u001b[A"
     ]
    },
    {
     "name": "stdout",
     "output_type": "stream",
     "text": [
      "text_video label_shift: 4 (102408, 2348) (102408,) num feats 2348 0.6802381874515879\n"
     ]
    },
    {
     "name": "stderr",
     "output_type": "stream",
     "text": [
      "\n",
      "\n",
      " 54%|█████▎    | 15/28 [19:33<22:13, 102.60s/it]\u001b[A\u001b[A"
     ]
    },
    {
     "name": "stdout",
     "output_type": "stream",
     "text": [
      "text_video label_shift: 9 (101773, 2348) (101773,) num feats 2348 0.6629153269024651\n"
     ]
    },
    {
     "name": "stderr",
     "output_type": "stream",
     "text": [
      "\n",
      "\n",
      " 57%|█████▋    | 16/28 [19:58<15:54, 79.54s/it] \u001b[A\u001b[A"
     ]
    },
    {
     "name": "stdout",
     "output_type": "stream",
     "text": [
      "text_voxaudio label_shift: 9 (101773, 812) (101773,) num feats 812 0.6751437201597973\n",
      "text_voxaudio label_shift: 4 (102408, 812) (102408,) num feats 812 0.6895817195972115\n"
     ]
    },
    {
     "name": "stderr",
     "output_type": "stream",
     "text": [
      "\n",
      "\n",
      " 68%|██████▊   | 19/28 [21:34<09:46, 65.22s/it]\u001b[A\u001b[A"
     ]
    },
    {
     "name": "stdout",
     "output_type": "stream",
     "text": [
      "video_voxaudio label_shift: 0 (102916, 2560) (102916,) num feats 2560 0.7133429672447014\n"
     ]
    },
    {
     "name": "stderr",
     "output_type": "stream",
     "text": [
      "\n",
      "\n",
      " 75%|███████▌  | 21/28 [26:25<10:25, 89.36s/it]\u001b[A\u001b[A"
     ]
    },
    {
     "name": "stdout",
     "output_type": "stream",
     "text": [
      "video_voxaudio label_shift: 2 (102662, 2560) (102662,) num feats 2560 0.6921479621402357\n"
     ]
    },
    {
     "name": "stderr",
     "output_type": "stream",
     "text": [
      "\n",
      "\n",
      " 79%|███████▊  | 22/28 [27:06<07:28, 74.75s/it]\u001b[A\u001b[A"
     ]
    },
    {
     "name": "stdout",
     "output_type": "stream",
     "text": [
      "video_voxaudio label_shift: 4 (102408, 2560) (102408,) num feats 2560 0.6852730441518203\n"
     ]
    },
    {
     "name": "stderr",
     "output_type": "stream",
     "text": [
      "\n",
      "\n",
      " 82%|████████▏ | 23/28 [28:54<07:03, 84.71s/it]\u001b[A\u001b[A"
     ]
    },
    {
     "name": "stdout",
     "output_type": "stream",
     "text": [
      "video_voxaudio label_shift: 9 (101773, 2560) (101773,) num feats 2560 0.6729026600409237\n"
     ]
    },
    {
     "name": "stderr",
     "output_type": "stream",
     "text": [
      "\n",
      "\n",
      " 86%|████████▌ | 24/28 [29:19<04:27, 66.87s/it]\u001b[A\u001b[A"
     ]
    },
    {
     "name": "stdout",
     "output_type": "stream",
     "text": [
      "text_video_voxaudio label_shift: 0 (102916, 2860) (102916,) num feats 2860 0.7160886319845857\n"
     ]
    },
    {
     "name": "stderr",
     "output_type": "stream",
     "text": [
      "\n",
      "\n",
      " 89%|████████▉ | 25/28 [30:46<03:38, 72.96s/it]\u001b[A\u001b[A"
     ]
    },
    {
     "name": "stdout",
     "output_type": "stream",
     "text": [
      "text_video_voxaudio label_shift: 2 (102662, 2860) (102662,) num feats 2860 0.6949971025690554\n"
     ]
    },
    {
     "name": "stderr",
     "output_type": "stream",
     "text": [
      "\n",
      "\n",
      " 93%|█████████▎| 26/28 [31:06<01:53, 56.89s/it]\u001b[A\u001b[A"
     ]
    },
    {
     "name": "stdout",
     "output_type": "stream",
     "text": [
      "text_video_voxaudio label_shift: 4 (102408, 2860) (102408,) num feats 2860 0.685708752904725\n"
     ]
    },
    {
     "name": "stderr",
     "output_type": "stream",
     "text": [
      "\n",
      "\n",
      " 96%|█████████▋| 27/28 [35:53<02:06, 126.15s/it]\u001b[A\u001b[A"
     ]
    },
    {
     "name": "stdout",
     "output_type": "stream",
     "text": [
      "text_video_voxaudio label_shift: 9 (101773, 2860) (101773,) num feats 2860 0.6748026892721426\n"
     ]
    },
    {
     "name": "stderr",
     "output_type": "stream",
     "text": [
      "\n",
      "\n",
      "100%|██████████| 28/28 [36:36<00:00, 101.17s/it]\u001b[A\u001b[A"
     ]
    },
    {
     "name": "stdout",
     "output_type": "stream",
     "text": [
      "use_crossval: False | use_all_perspectives: False | predict_only_host: False | clf: <class 'sklearn.ensemble.forest.RandomForestClassifier'>\n",
      "{4: [(('text', 0), 0.6985922449987652), (('text', 2), 0.6741445055217155), (('text', 4), 0.6656571173228737), (('text', 9), 0.6512418170006496), (('video', 0), 0.6558162509261546), (('video', 2), 0.6499281929381469), (('video', 4), 0.6475348791023285), (('video', 9), 0.647044125730848), (('voxaudio', 0), 0.7197826623857743), (('voxaudio', 2), 0.6952409250730451), (('voxaudio', 4), 0.6834814557370538), (('voxaudio', 9), 0.6702313727449902), (('text_video', 0), 0.7045690293899728), (('text_video', 2), 0.6796414599118507), (('text_video', 4), 0.6708703639342635), (('text_video', 9), 0.6503423117285493), (('text_voxaudio', 0), 0.7202272165966905), (('text_voxaudio', 2), 0.6930619521616401), (('text_voxaudio', 4), 0.6864604538007051), (('text_voxaudio', 9), 0.6727799710159412), (('video_voxaudio', 0), 0.7134107186959743), (('video_voxaudio', 2), 0.689694448571287), (('video_voxaudio', 4), 0.6839283054466014), (('video_voxaudio', 9), 0.6708810154415071), (('text_video_voxaudio', 0), 0.7176092862435169), (('text_video_voxaudio', 2), 0.6905363244688754), (('text_video_voxaudio', 4), 0.6823395064793207), (('text_video_voxaudio', 9), 0.6734795862275749)], 5: [(('text', 0), 0.6970616570327552), (('text', 2), 0.6732663704848367), (('text', 4), 0.6624709527498064), (('text', 9), 0.6548280229952256), (('video', 0), 0.6675818882466281), (('video', 2), 0.6577168244156848), (('video', 4), 0.6528853601859024), (('video', 9), 0.6511254019292605), (('voxaudio', 0), 0.7185934489402698), (('voxaudio', 2), 0.6979428240293606), (('voxaudio', 4), 0.6874515879163439), (('voxaudio', 9), 0.6733411283250511), (('text_video', 0), 0.7030346820809249), (('text_video', 2), 0.6834073787908055), (('text_video', 4), 0.6802381874515879), (('text_video', 9), 0.6629153269024651), (('text_voxaudio', 0), 0.7171001926782273), (('text_voxaudio', 2), 0.6978462429978752), (('text_voxaudio', 4), 0.6895817195972115), (('text_voxaudio', 9), 0.6751437201597973), (('video_voxaudio', 0), 0.7133429672447014), (('video_voxaudio', 2), 0.6921479621402357), (('video_voxaudio', 4), 0.6852730441518203), (('video_voxaudio', 9), 0.6729026600409237), (('text_video_voxaudio', 0), 0.7160886319845857), (('text_video_voxaudio', 2), 0.6949971025690554), (('text_video_voxaudio', 4), 0.685708752904725), (('text_video_voxaudio', 9), 0.6748026892721426)]}\n",
      "(131113, 2881)\n"
     ]
    },
    {
     "name": "stderr",
     "output_type": "stream",
     "text": [
      "\n",
      "\n",
      "  0%|          | 0/28 [00:00<?, ?it/s]\u001b[A\u001b[A"
     ]
    },
    {
     "name": "stdout",
     "output_type": "stream",
     "text": [
      "text label_shift: 0 (102241, 300) (102241,) num feats 300 0.692195831313621\n"
     ]
    },
    {
     "name": "stderr",
     "output_type": "stream",
     "text": [
      "\n",
      "\n",
      "  4%|▎         | 1/28 [02:36<1:10:22, 156.38s/it]\u001b[A\u001b[A"
     ]
    },
    {
     "name": "stdout",
     "output_type": "stream",
     "text": [
      "text label_shift: 4 (101733, 300) (101733,) num feats 300 0.6631102016954107\n",
      "text label_shift: 2 (101987, 300) (101987,) num feats 300 0.6704247254349305\n"
     ]
    },
    {
     "name": "stderr",
     "output_type": "stream",
     "text": [
      "\n",
      "\n",
      "  7%|▋         | 2/28 [03:05<51:14, 118.24s/it]  \u001b[A\u001b[A"
     ]
    },
    {
     "name": "stdout",
     "output_type": "stream",
     "text": [
      "text label_shift: 9 (101098, 300) (101098,) num feats 300 0.652235732496568\n"
     ]
    },
    {
     "name": "stderr",
     "output_type": "stream",
     "text": [
      "\n",
      "\n",
      " 14%|█▍        | 4/28 [03:06<33:09, 82.89s/it] \u001b[A\u001b[A"
     ]
    },
    {
     "name": "stdout",
     "output_type": "stream",
     "text": [
      "voxaudio label_shift: 0 (102241, 512) (102241,) num feats 512 0.7106156083373728\n",
      "voxaudio label_shift: 2 (101987, 512) (101987,) num feats 512 0.6960346000583147\n",
      "video label_shift: 0 (102241, 2048) (102241,) num feats 2048 0.6529326223945711\n"
     ]
    },
    {
     "name": "stderr",
     "output_type": "stream",
     "text": [
      "\n",
      "\n",
      " 18%|█▊        | 5/28 [08:03<56:22, 147.05s/it]\u001b[A\u001b[A"
     ]
    },
    {
     "name": "stdout",
     "output_type": "stream",
     "text": [
      "video label_shift: 2 (101987, 2048) (101987,) num feats 2048 0.6511808727767519\n"
     ]
    },
    {
     "name": "stderr",
     "output_type": "stream",
     "text": [
      "\n",
      "\n",
      " 21%|██▏       | 6/28 [08:29<40:35, 110.69s/it]\u001b[A\u001b[A"
     ]
    },
    {
     "name": "stdout",
     "output_type": "stream",
     "text": [
      "video label_shift: 4 (101733, 2048) (101733,) num feats 2048 0.6497612783786417\n"
     ]
    },
    {
     "name": "stderr",
     "output_type": "stream",
     "text": [
      "\n",
      "\n",
      " 25%|██▌       | 7/28 [11:02<43:15, 123.61s/it]\u001b[A\u001b[A"
     ]
    },
    {
     "name": "stdout",
     "output_type": "stream",
     "text": [
      "video label_shift: 9 (101098, 2048) (101098,) num feats 2048 0.6486565993332026\n"
     ]
    },
    {
     "name": "stderr",
     "output_type": "stream",
     "text": [
      "\n",
      "\n",
      " 29%|██▊       | 8/28 [11:31<31:42, 95.11s/it] \u001b[A\u001b[A"
     ]
    },
    {
     "name": "stdout",
     "output_type": "stream",
     "text": [
      "voxaudio label_shift: 4 (101733, 512) (101733,) num feats 512 0.6876157069083114\n"
     ]
    },
    {
     "name": "stderr",
     "output_type": "stream",
     "text": [
      "\n",
      "\n",
      " 39%|███▉      | 11/28 [11:55<19:31, 68.94s/it]\u001b[A\u001b[A"
     ]
    },
    {
     "name": "stdout",
     "output_type": "stream",
     "text": [
      "voxaudio label_shift: 9 (101098, 512) (101098,) num feats 512 0.6737105314767602\n"
     ]
    },
    {
     "name": "stderr",
     "output_type": "stream",
     "text": [
      "\n",
      "\n",
      " 43%|████▎     | 12/28 [12:24<15:14, 57.15s/it]\u001b[A\u001b[A"
     ]
    },
    {
     "name": "stdout",
     "output_type": "stream",
     "text": [
      "text_voxaudio label_shift: 0 (102241, 812) (102241,) num feats 812 0.709112942317014\n",
      "text_video label_shift: 0 (102241, 2348) (102241,) num feats 2348 0.6936984973339796\n"
     ]
    },
    {
     "name": "stderr",
     "output_type": "stream",
     "text": [
      "\n",
      "\n",
      " 46%|████▋     | 13/28 [16:41<29:15, 117.07s/it]\u001b[A\u001b[A"
     ]
    },
    {
     "name": "stdout",
     "output_type": "stream",
     "text": [
      "text_video label_shift: 2 (101987, 2348) (101987,) num feats 2348 0.6765963650500535\n"
     ]
    },
    {
     "name": "stderr",
     "output_type": "stream",
     "text": [
      "\n",
      "\n",
      " 50%|█████     | 14/28 [17:15<21:30, 92.20s/it] \u001b[A\u001b[A"
     ]
    },
    {
     "name": "stdout",
     "output_type": "stream",
     "text": [
      "text_voxaudio label_shift: 2 (101987, 812) (101987,) num feats 812 0.6964719603460006\n",
      "text_video label_shift: 4 (101733, 2348) (101733,) num feats 2348 0.6596511741206275\n"
     ]
    },
    {
     "name": "stderr",
     "output_type": "stream",
     "text": [
      "\n",
      "\n",
      " 54%|█████▎    | 15/28 [19:50<24:03, 111.03s/it]\u001b[A\u001b[A"
     ]
    },
    {
     "name": "stdout",
     "output_type": "stream",
     "text": [
      "text_video label_shift: 9 (101098, 2348) (101098,) num feats 2348 0.6500784467542655\n"
     ]
    },
    {
     "name": "stderr",
     "output_type": "stream",
     "text": [
      "\n",
      "\n",
      " 57%|█████▋    | 16/28 [20:13<16:56, 84.67s/it] \u001b[A\u001b[A"
     ]
    },
    {
     "name": "stdout",
     "output_type": "stream",
     "text": [
      "text_voxaudio label_shift: 4 (101733, 812) (101733,) num feats 812 0.6856669589788561\n"
     ]
    },
    {
     "name": "stderr",
     "output_type": "stream",
     "text": [
      "\n",
      "\n",
      " 68%|██████▊   | 19/28 [21:47<10:17, 68.65s/it]\u001b[A\u001b[A"
     ]
    },
    {
     "name": "stdout",
     "output_type": "stream",
     "text": [
      "text_voxaudio label_shift: 9 (101098, 812) (101098,) num feats 812 0.6750833496764072\n"
     ]
    },
    {
     "name": "stderr",
     "output_type": "stream",
     "text": [
      "\n",
      "\n",
      " 71%|███████▏  | 20/28 [21:58<06:49, 51.15s/it]\u001b[A\u001b[A"
     ]
    },
    {
     "name": "stdout",
     "output_type": "stream",
     "text": [
      "video_voxaudio label_shift: 0 (102241, 2560) (102241,) num feats 2560 0.7064469219583132\n"
     ]
    },
    {
     "name": "stderr",
     "output_type": "stream",
     "text": [
      "\n",
      "\n",
      " 75%|███████▌  | 21/28 [25:58<12:36, 108.05s/it]\u001b[A\u001b[A"
     ]
    },
    {
     "name": "stdout",
     "output_type": "stream",
     "text": [
      "video_voxaudio label_shift: 2 (101987, 2560) (101987,) num feats 2560 0.6894256001555059\n"
     ]
    },
    {
     "name": "stderr",
     "output_type": "stream",
     "text": [
      "\n",
      "\n",
      " 79%|███████▊  | 22/28 [26:45<08:58, 89.77s/it] \u001b[A\u001b[A"
     ]
    },
    {
     "name": "stdout",
     "output_type": "stream",
     "text": [
      "video_voxaudio label_shift: 4 (101733, 2560) (101733,) num feats 2560 0.6824515248952548\n"
     ]
    },
    {
     "name": "stderr",
     "output_type": "stream",
     "text": [
      "\n",
      "\n",
      " 82%|████████▏ | 23/28 [29:02<08:39, 103.91s/it]\u001b[A\u001b[A"
     ]
    },
    {
     "name": "stdout",
     "output_type": "stream",
     "text": [
      "video_voxaudio label_shift: 9 (101098, 2560) (101098,) num feats 2560 0.6682682878995881\n"
     ]
    },
    {
     "name": "stderr",
     "output_type": "stream",
     "text": [
      "\n",
      "\n",
      " 86%|████████▌ | 24/28 [29:24<05:17, 79.36s/it] \u001b[A\u001b[A"
     ]
    },
    {
     "name": "stdout",
     "output_type": "stream",
     "text": [
      "text_video_voxaudio label_shift: 0 (102241, 2860) (102241,) num feats 2860 0.7106640814348036\n"
     ]
    },
    {
     "name": "stderr",
     "output_type": "stream",
     "text": [
      "\n",
      "\n",
      " 89%|████████▉ | 25/28 [30:51<04:04, 81.38s/it]\u001b[A\u001b[A"
     ]
    },
    {
     "name": "stdout",
     "output_type": "stream",
     "text": [
      "text_video_voxaudio label_shift: 2 (101987, 2860) (101987,) num feats 2860 0.6919039751190592\n"
     ]
    },
    {
     "name": "stderr",
     "output_type": "stream",
     "text": [
      "\n",
      "\n",
      " 93%|█████████▎| 26/28 [31:41<02:23, 72.00s/it]\u001b[A\u001b[A"
     ]
    },
    {
     "name": "stdout",
     "output_type": "stream",
     "text": [
      "text_video_voxaudio label_shift: 4 (101733, 2860) (101733,) num feats 2860 0.6860079898665108\n"
     ]
    },
    {
     "name": "stderr",
     "output_type": "stream",
     "text": [
      "\n",
      "\n",
      " 96%|█████████▋| 27/28 [35:24<01:57, 117.30s/it]\u001b[A\u001b[A"
     ]
    },
    {
     "name": "stdout",
     "output_type": "stream",
     "text": [
      "text_video_voxaudio label_shift: 9 (101098, 2860) (101098,) num feats 2860 0.6716022749558737\n"
     ]
    },
    {
     "name": "stderr",
     "output_type": "stream",
     "text": [
      "\n",
      "\n",
      "100%|██████████| 28/28 [36:05<00:00, 94.63s/it] \u001b[A\u001b[A"
     ]
    },
    {
     "name": "stdout",
     "output_type": "stream",
     "text": [
      "use_crossval: False | use_all_perspectives: False | predict_only_host: False | clf: <class 'sklearn.ensemble.forest.RandomForestClassifier'>\n",
      "{4: [(('text', 0), 0.6985922449987652), (('text', 2), 0.6741445055217155), (('text', 4), 0.6656571173228737), (('text', 9), 0.6512418170006496), (('video', 0), 0.6558162509261546), (('video', 2), 0.6499281929381469), (('video', 4), 0.6475348791023285), (('video', 9), 0.647044125730848), (('voxaudio', 0), 0.7197826623857743), (('voxaudio', 2), 0.6952409250730451), (('voxaudio', 4), 0.6834814557370538), (('voxaudio', 9), 0.6702313727449902), (('text_video', 0), 0.7045690293899728), (('text_video', 2), 0.6796414599118507), (('text_video', 4), 0.6708703639342635), (('text_video', 9), 0.6503423117285493), (('text_voxaudio', 0), 0.7202272165966905), (('text_voxaudio', 2), 0.6930619521616401), (('text_voxaudio', 4), 0.6864604538007051), (('text_voxaudio', 9), 0.6727799710159412), (('video_voxaudio', 0), 0.7134107186959743), (('video_voxaudio', 2), 0.689694448571287), (('video_voxaudio', 4), 0.6839283054466014), (('video_voxaudio', 9), 0.6708810154415071), (('text_video_voxaudio', 0), 0.7176092862435169), (('text_video_voxaudio', 2), 0.6905363244688754), (('text_video_voxaudio', 4), 0.6823395064793207), (('text_video_voxaudio', 9), 0.6734795862275749)], 5: [(('text', 0), 0.6970616570327552), (('text', 2), 0.6732663704848367), (('text', 4), 0.6624709527498064), (('text', 9), 0.6548280229952256), (('video', 0), 0.6675818882466281), (('video', 2), 0.6577168244156848), (('video', 4), 0.6528853601859024), (('video', 9), 0.6511254019292605), (('voxaudio', 0), 0.7185934489402698), (('voxaudio', 2), 0.6979428240293606), (('voxaudio', 4), 0.6874515879163439), (('voxaudio', 9), 0.6733411283250511), (('text_video', 0), 0.7030346820809249), (('text_video', 2), 0.6834073787908055), (('text_video', 4), 0.6802381874515879), (('text_video', 9), 0.6629153269024651), (('text_voxaudio', 0), 0.7171001926782273), (('text_voxaudio', 2), 0.6978462429978752), (('text_voxaudio', 4), 0.6895817195972115), (('text_voxaudio', 9), 0.6751437201597973), (('video_voxaudio', 0), 0.7133429672447014), (('video_voxaudio', 2), 0.6921479621402357), (('video_voxaudio', 4), 0.6852730441518203), (('video_voxaudio', 9), 0.6729026600409237), (('text_video_voxaudio', 0), 0.7160886319845857), (('text_video_voxaudio', 2), 0.6949971025690554), (('text_video_voxaudio', 4), 0.685708752904725), (('text_video_voxaudio', 9), 0.6748026892721426)], 10: [(('text', 0), 0.692195831313621), (('text', 2), 0.6704247254349305), (('text', 4), 0.6631102016954107), (('text', 9), 0.652235732496568), (('video', 0), 0.6529326223945711), (('video', 2), 0.6511808727767519), (('video', 4), 0.6497612783786417), (('video', 9), 0.6486565993332026), (('voxaudio', 0), 0.7106156083373728), (('voxaudio', 2), 0.6960346000583147), (('voxaudio', 4), 0.6876157069083114), (('voxaudio', 9), 0.6737105314767602), (('text_video', 0), 0.6936984973339796), (('text_video', 2), 0.6765963650500535), (('text_video', 4), 0.6596511741206275), (('text_video', 9), 0.6500784467542655), (('text_voxaudio', 0), 0.709112942317014), (('text_voxaudio', 2), 0.6964719603460006), (('text_voxaudio', 4), 0.6856669589788561), (('text_voxaudio', 9), 0.6750833496764072), (('video_voxaudio', 0), 0.7064469219583132), (('video_voxaudio', 2), 0.6894256001555059), (('video_voxaudio', 4), 0.6824515248952548), (('video_voxaudio', 9), 0.6682682878995881), (('text_video_voxaudio', 0), 0.7106640814348036), (('text_video_voxaudio', 2), 0.6919039751190592), (('text_video_voxaudio', 4), 0.6860079898665108), (('text_video_voxaudio', 9), 0.6716022749558737)]}\n",
      "(129245, 2881)\n"
     ]
    },
    {
     "name": "stderr",
     "output_type": "stream",
     "text": [
      "\n",
      "\n",
      "  0%|          | 0/28 [00:00<?, ?it/s]\u001b[A\u001b[A"
     ]
    },
    {
     "name": "stdout",
     "output_type": "stream",
     "text": [
      "text label_shift: 0 (101483, 300) (101483,) num feats 300 0.6658876181004475\n"
     ]
    },
    {
     "name": "stderr",
     "output_type": "stream",
     "text": [
      "\n",
      "\n",
      "  4%|▎         | 1/28 [02:55<1:18:50, 175.22s/it]\u001b[A\u001b[A"
     ]
    },
    {
     "name": "stdout",
     "output_type": "stream",
     "text": [
      "text label_shift: 9 (100340, 300) (100340,) num feats 300 0.647967397866774\n",
      "text label_shift: 2 (101229, 300) (101229,) num feats 300 0.6523083059128527\n"
     ]
    },
    {
     "name": "stderr",
     "output_type": "stream",
     "text": [
      "\n",
      "\n",
      "  7%|▋         | 2/28 [03:24<56:56, 131.42s/it]  \u001b[A\u001b[A"
     ]
    },
    {
     "name": "stdout",
     "output_type": "stream",
     "text": [
      "text label_shift: 4 (100975, 300) (100975,) num feats 300 0.6493052084374688\n"
     ]
    },
    {
     "name": "stderr",
     "output_type": "stream",
     "text": [
      "\n",
      "\n",
      " 11%|█         | 3/28 [03:25<38:25, 92.23s/it] \u001b[A\u001b[A"
     ]
    },
    {
     "name": "stdout",
     "output_type": "stream",
     "text": [
      "voxaudio label_shift: 0 (101483, 512) (101483,) num feats 512 0.6872202884137245\n",
      "video label_shift: 0 (101483, 2048) (101483,) num feats 2048 0.6552958727001492\n"
     ]
    },
    {
     "name": "stderr",
     "output_type": "stream",
     "text": [
      "\n",
      "\n",
      " 18%|█▊        | 5/28 [07:55<40:15, 105.04s/it]\u001b[A\u001b[A"
     ]
    },
    {
     "name": "stdout",
     "output_type": "stream",
     "text": [
      "voxaudio label_shift: 2 (101229, 512) (101229,) num feats 512 0.6780337022634361\n",
      "video label_shift: 2 (101229, 2048) (101229,) num feats 2048 0.6520091733971483\n"
     ]
    },
    {
     "name": "stderr",
     "output_type": "stream",
     "text": [
      "\n",
      "\n",
      " 21%|██▏       | 6/28 [08:30<30:50, 84.11s/it] \u001b[A\u001b[A"
     ]
    },
    {
     "name": "stdout",
     "output_type": "stream",
     "text": [
      "video label_shift: 4 (100975, 2048) (100975,) num feats 2048 0.6522543237028892\n"
     ]
    },
    {
     "name": "stderr",
     "output_type": "stream",
     "text": [
      "\n",
      "\n",
      " 25%|██▌       | 7/28 [11:15<37:56, 108.39s/it]\u001b[A\u001b[A"
     ]
    },
    {
     "name": "stdout",
     "output_type": "stream",
     "text": [
      "video label_shift: 9 (100340, 2048) (100340,) num feats 2048 0.6492251962165425\n"
     ]
    },
    {
     "name": "stderr",
     "output_type": "stream",
     "text": [
      "\n",
      "\n",
      " 29%|██▊       | 8/28 [11:41<27:54, 83.73s/it] \u001b[A\u001b[A"
     ]
    },
    {
     "name": "stdout",
     "output_type": "stream",
     "text": [
      "voxaudio label_shift: 4 (100975, 512) (100975,) num feats 512 0.6726482055383385\n"
     ]
    },
    {
     "name": "stderr",
     "output_type": "stream",
     "text": [
      "\n",
      "\n",
      " 39%|███▉      | 11/28 [11:59<17:07, 60.42s/it]\u001b[A\u001b[A"
     ]
    },
    {
     "name": "stdout",
     "output_type": "stream",
     "text": [
      "voxaudio label_shift: 9 (100340, 512) (100340,) num feats 512 0.663614409337895\n"
     ]
    },
    {
     "name": "stderr",
     "output_type": "stream",
     "text": [
      "\n",
      "\n",
      " 43%|████▎     | 12/28 [12:28<13:35, 50.96s/it]\u001b[A\u001b[A"
     ]
    },
    {
     "name": "stdout",
     "output_type": "stream",
     "text": [
      "text_video label_shift: 0 (101483, 2348) (101483,) num feats 2348 0.6661859771258081\n"
     ]
    },
    {
     "name": "stderr",
     "output_type": "stream",
     "text": [
      "\n",
      "\n",
      " 46%|████▋     | 13/28 [16:40<27:50, 111.35s/it]\u001b[A\u001b[A"
     ]
    },
    {
     "name": "stdout",
     "output_type": "stream",
     "text": [
      "text_voxaudio label_shift: 0 (101483, 812) (101483,) num feats 812 0.6894579811039284\n",
      "text_video label_shift: 2 (101229, 2348) (101229,) num feats 2348 0.6595871971283278\n"
     ]
    },
    {
     "name": "stderr",
     "output_type": "stream",
     "text": [
      "\n",
      "\n",
      " 50%|█████     | 14/28 [17:31<21:45, 93.28s/it] \u001b[A\u001b[A"
     ]
    },
    {
     "name": "stdout",
     "output_type": "stream",
     "text": [
      "text_voxaudio label_shift: 2 (101229, 812) (101229,) num feats 812 0.6811745936783329\n",
      "text_video label_shift: 4 (100975, 2348) (100975,) num feats 2348 0.658002599220234\n"
     ]
    },
    {
     "name": "stderr",
     "output_type": "stream",
     "text": [
      "\n",
      "\n",
      " 54%|█████▎    | 15/28 [20:03<24:01, 110.90s/it]\u001b[A\u001b[A"
     ]
    },
    {
     "name": "stdout",
     "output_type": "stream",
     "text": [
      "text_video label_shift: 9 (100340, 2348) (100340,) num feats 2348 0.6545079492855705\n"
     ]
    },
    {
     "name": "stderr",
     "output_type": "stream",
     "text": [
      "\n",
      "\n",
      " 57%|█████▋    | 16/28 [20:24<16:47, 83.92s/it] \u001b[A\u001b[A"
     ]
    },
    {
     "name": "stdout",
     "output_type": "stream",
     "text": [
      "text_voxaudio label_shift: 9 (100340, 812) (100340,) num feats 812 0.6663815657073858\n",
      "text_voxaudio label_shift: 4 (100975, 812) (100975,) num feats 812 0.6743976806957913\n"
     ]
    },
    {
     "name": "stderr",
     "output_type": "stream",
     "text": [
      "\n",
      "\n",
      " 68%|██████▊   | 19/28 [22:08<10:22, 69.12s/it]\u001b[A\u001b[A"
     ]
    },
    {
     "name": "stdout",
     "output_type": "stream",
     "text": [
      "video_voxaudio label_shift: 0 (101483, 2560) (101483,) num feats 2560 0.6819492789656887\n"
     ]
    },
    {
     "name": "stderr",
     "output_type": "stream",
     "text": [
      "\n",
      "\n",
      " 75%|███████▌  | 21/28 [26:08<09:50, 84.41s/it]\u001b[A\u001b[A"
     ]
    },
    {
     "name": "stdout",
     "output_type": "stream",
     "text": [
      "video_voxaudio label_shift: 2 (101229, 2560) (101229,) num feats 2560 0.6795792202612424\n"
     ]
    },
    {
     "name": "stderr",
     "output_type": "stream",
     "text": [
      "\n",
      "\n",
      " 79%|███████▊  | 22/28 [26:49<07:07, 71.27s/it]\u001b[A\u001b[A"
     ]
    },
    {
     "name": "stdout",
     "output_type": "stream",
     "text": [
      "video_voxaudio label_shift: 4 (100975, 2560) (100975,) num feats 2560 0.6737978606418075\n"
     ]
    },
    {
     "name": "stderr",
     "output_type": "stream",
     "text": [
      "\n",
      "\n",
      " 82%|████████▏ | 23/28 [29:07<07:35, 91.20s/it]\u001b[A\u001b[A"
     ]
    },
    {
     "name": "stdout",
     "output_type": "stream",
     "text": [
      "video_voxaudio label_shift: 9 (100340, 2560) (100340,) num feats 2560 0.663211913865969\n"
     ]
    },
    {
     "name": "stderr",
     "output_type": "stream",
     "text": [
      "\n",
      "\n",
      " 86%|████████▌ | 24/28 [29:22<04:33, 68.44s/it]\u001b[A\u001b[A"
     ]
    },
    {
     "name": "stdout",
     "output_type": "stream",
     "text": [
      "text_video_voxaudio label_shift: 0 (101483, 2860) (101483,) num feats 2860 0.6848831427150671\n"
     ]
    },
    {
     "name": "stderr",
     "output_type": "stream",
     "text": [
      "\n",
      "\n",
      " 89%|████████▉ | 25/28 [30:54<03:46, 75.57s/it]\u001b[A\u001b[A"
     ]
    },
    {
     "name": "stdout",
     "output_type": "stream",
     "text": [
      "text_video_voxaudio label_shift: 2 (101229, 2860) (101229,) num feats 2860 0.6779339914248679\n"
     ]
    },
    {
     "name": "stderr",
     "output_type": "stream",
     "text": [
      "\n",
      "\n",
      " 93%|█████████▎| 26/28 [31:53<02:20, 70.46s/it]\u001b[A\u001b[A"
     ]
    },
    {
     "name": "stdout",
     "output_type": "stream",
     "text": [
      "text_video_voxaudio label_shift: 4 (100975, 2860) (100975,) num feats 2860 0.676447065880236\n"
     ]
    },
    {
     "name": "stderr",
     "output_type": "stream",
     "text": [
      "\n",
      "\n",
      " 96%|█████████▋| 27/28 [35:35<01:56, 116.07s/it]\u001b[A\u001b[A"
     ]
    },
    {
     "name": "stdout",
     "output_type": "stream",
     "text": [
      "text_video_voxaudio label_shift: 9 (100340, 2860) (100340,) num feats 2860 0.6611491245723485\n"
     ]
    },
    {
     "name": "stderr",
     "output_type": "stream",
     "text": [
      "\n",
      "\n",
      "100%|██████████| 28/28 [36:10<00:00, 91.75s/it] \u001b[A\u001b[A"
     ]
    },
    {
     "name": "stdout",
     "output_type": "stream",
     "text": [
      "use_crossval: False | use_all_perspectives: False | predict_only_host: False | clf: <class 'sklearn.ensemble.forest.RandomForestClassifier'>\n",
      "{4: [(('text', 0), 0.6985922449987652), (('text', 2), 0.6741445055217155), (('text', 4), 0.6656571173228737), (('text', 9), 0.6512418170006496), (('video', 0), 0.6558162509261546), (('video', 2), 0.6499281929381469), (('video', 4), 0.6475348791023285), (('video', 9), 0.647044125730848), (('voxaudio', 0), 0.7197826623857743), (('voxaudio', 2), 0.6952409250730451), (('voxaudio', 4), 0.6834814557370538), (('voxaudio', 9), 0.6702313727449902), (('text_video', 0), 0.7045690293899728), (('text_video', 2), 0.6796414599118507), (('text_video', 4), 0.6708703639342635), (('text_video', 9), 0.6503423117285493), (('text_voxaudio', 0), 0.7202272165966905), (('text_voxaudio', 2), 0.6930619521616401), (('text_voxaudio', 4), 0.6864604538007051), (('text_voxaudio', 9), 0.6727799710159412), (('video_voxaudio', 0), 0.7134107186959743), (('video_voxaudio', 2), 0.689694448571287), (('video_voxaudio', 4), 0.6839283054466014), (('video_voxaudio', 9), 0.6708810154415071), (('text_video_voxaudio', 0), 0.7176092862435169), (('text_video_voxaudio', 2), 0.6905363244688754), (('text_video_voxaudio', 4), 0.6823395064793207), (('text_video_voxaudio', 9), 0.6734795862275749)], 5: [(('text', 0), 0.6970616570327552), (('text', 2), 0.6732663704848367), (('text', 4), 0.6624709527498064), (('text', 9), 0.6548280229952256), (('video', 0), 0.6675818882466281), (('video', 2), 0.6577168244156848), (('video', 4), 0.6528853601859024), (('video', 9), 0.6511254019292605), (('voxaudio', 0), 0.7185934489402698), (('voxaudio', 2), 0.6979428240293606), (('voxaudio', 4), 0.6874515879163439), (('voxaudio', 9), 0.6733411283250511), (('text_video', 0), 0.7030346820809249), (('text_video', 2), 0.6834073787908055), (('text_video', 4), 0.6802381874515879), (('text_video', 9), 0.6629153269024651), (('text_voxaudio', 0), 0.7171001926782273), (('text_voxaudio', 2), 0.6978462429978752), (('text_voxaudio', 4), 0.6895817195972115), (('text_voxaudio', 9), 0.6751437201597973), (('video_voxaudio', 0), 0.7133429672447014), (('video_voxaudio', 2), 0.6921479621402357), (('video_voxaudio', 4), 0.6852730441518203), (('video_voxaudio', 9), 0.6729026600409237), (('text_video_voxaudio', 0), 0.7160886319845857), (('text_video_voxaudio', 2), 0.6949971025690554), (('text_video_voxaudio', 4), 0.685708752904725), (('text_video_voxaudio', 9), 0.6748026892721426)], 10: [(('text', 0), 0.692195831313621), (('text', 2), 0.6704247254349305), (('text', 4), 0.6631102016954107), (('text', 9), 0.652235732496568), (('video', 0), 0.6529326223945711), (('video', 2), 0.6511808727767519), (('video', 4), 0.6497612783786417), (('video', 9), 0.6486565993332026), (('voxaudio', 0), 0.7106156083373728), (('voxaudio', 2), 0.6960346000583147), (('voxaudio', 4), 0.6876157069083114), (('voxaudio', 9), 0.6737105314767602), (('text_video', 0), 0.6936984973339796), (('text_video', 2), 0.6765963650500535), (('text_video', 4), 0.6596511741206275), (('text_video', 9), 0.6500784467542655), (('text_voxaudio', 0), 0.709112942317014), (('text_voxaudio', 2), 0.6964719603460006), (('text_voxaudio', 4), 0.6856669589788561), (('text_voxaudio', 9), 0.6750833496764072), (('video_voxaudio', 0), 0.7064469219583132), (('video_voxaudio', 2), 0.6894256001555059), (('video_voxaudio', 4), 0.6824515248952548), (('video_voxaudio', 9), 0.6682682878995881), (('text_video_voxaudio', 0), 0.7106640814348036), (('text_video_voxaudio', 2), 0.6919039751190592), (('text_video_voxaudio', 4), 0.6860079898665108), (('text_video_voxaudio', 9), 0.6716022749558737)], 30: [(('text', 0), 0.6658876181004475), (('text', 2), 0.6523083059128527), (('text', 4), 0.6493052084374688), (('text', 9), 0.647967397866774), (('video', 0), 0.6552958727001492), (('video', 2), 0.6520091733971483), (('video', 4), 0.6522543237028892), (('video', 9), 0.6492251962165425), (('voxaudio', 0), 0.6872202884137245), (('voxaudio', 2), 0.6780337022634361), (('voxaudio', 4), 0.6726482055383385), (('voxaudio', 9), 0.663614409337895), (('text_video', 0), 0.6661859771258081), (('text_video', 2), 0.6595871971283278), (('text_video', 4), 0.658002599220234), (('text_video', 9), 0.6545079492855705), (('text_voxaudio', 0), 0.6894579811039284), (('text_voxaudio', 2), 0.6811745936783329), (('text_voxaudio', 4), 0.6743976806957913), (('text_voxaudio', 9), 0.6663815657073858), (('video_voxaudio', 0), 0.6819492789656887), (('video_voxaudio', 2), 0.6795792202612424), (('video_voxaudio', 4), 0.6737978606418075), (('video_voxaudio', 9), 0.663211913865969), (('text_video_voxaudio', 0), 0.6848831427150671), (('text_video_voxaudio', 2), 0.6779339914248679), (('text_video_voxaudio', 4), 0.676447065880236), (('text_video_voxaudio', 9), 0.6611491245723485)]}\n",
      "use_crossval: False | use_all_perspectives: False | predict_only_host: True | clf: <class 'sklearn.ensemble.forest.RandomForestClassifier'>\n",
      "(136431, 2881)\n"
     ]
    },
    {
     "name": "stderr",
     "output_type": "stream",
     "text": [
      "\n",
      "\n",
      "  0%|          | 0/28 [00:00<?, ?it/s]\u001b[A\u001b[A"
     ]
    },
    {
     "name": "stdout",
     "output_type": "stream",
     "text": [
      "text label_shift: 0 (38598, 300) (38598,) num feats 300 0.6559724247646825\n"
     ]
    },
    {
     "name": "stderr",
     "output_type": "stream",
     "text": [
      "\n",
      "\n",
      "  4%|▎         | 1/28 [00:57<25:58, 57.73s/it]\u001b[A\u001b[A"
     ]
    },
    {
     "name": "stdout",
     "output_type": "stream",
     "text": [
      "text label_shift: 9 (38175, 300) (38175,) num feats 300 0.5722326454033771\n",
      "text label_shift: 4 (38410, 300) (38410,) num feats 300 0.5971759690955109\n",
      "text label_shift: 2 (38504, 300) (38504,) num feats 300 0.6112956810631229\n"
     ]
    },
    {
     "name": "stderr",
     "output_type": "stream",
     "text": [
      "\n",
      "\n",
      "  7%|▋         | 2/28 [01:08<18:58, 43.77s/it]\u001b[A\u001b[A"
     ]
    },
    {
     "name": "stdout",
     "output_type": "stream",
     "text": [
      "voxaudio label_shift: 0 (38598, 512) (38598,) num feats 512 0.6692297494365637\n",
      "video label_shift: 0 (38598, 2048) (38598,) num feats 2048 0.609041495426223\n"
     ]
    },
    {
     "name": "stderr",
     "output_type": "stream",
     "text": [
      "\n",
      "\n",
      " 18%|█▊        | 5/28 [02:45<15:25, 40.25s/it]\u001b[A\u001b[A"
     ]
    },
    {
     "name": "stdout",
     "output_type": "stream",
     "text": [
      "voxaudio label_shift: 2 (38504, 512) (38504,) num feats 512 0.6235215946843854\n",
      "video label_shift: 2 (38504, 2048) (38504,) num feats 2048 0.575548172757475\n"
     ]
    },
    {
     "name": "stderr",
     "output_type": "stream",
     "text": [
      "\n",
      "\n",
      " 21%|██▏       | 6/28 [02:57<11:40, 31.85s/it]\u001b[A\u001b[A"
     ]
    },
    {
     "name": "stdout",
     "output_type": "stream",
     "text": [
      "video label_shift: 4 (38410, 2048) (38410,) num feats 2048 0.5585453576661782\n"
     ]
    },
    {
     "name": "stderr",
     "output_type": "stream",
     "text": [
      "\n",
      "\n",
      " 25%|██▌       | 7/28 [03:52<13:38, 38.98s/it]\u001b[A\u001b[A"
     ]
    },
    {
     "name": "stdout",
     "output_type": "stream",
     "text": [
      "video label_shift: 9 (38175, 2048) (38175,) num feats 2048 0.5533369069954436\n"
     ]
    },
    {
     "name": "stderr",
     "output_type": "stream",
     "text": [
      "\n",
      "\n",
      " 29%|██▊       | 8/28 [04:01<09:58, 29.95s/it]\u001b[A\u001b[A"
     ]
    },
    {
     "name": "stdout",
     "output_type": "stream",
     "text": [
      "voxaudio label_shift: 4 (38410, 512) (38410,) num feats 512 0.5974423871053683\n"
     ]
    },
    {
     "name": "stderr",
     "output_type": "stream",
     "text": [
      "\n",
      "\n",
      " 39%|███▉      | 11/28 [04:12<06:14, 22.02s/it]\u001b[A\u001b[A"
     ]
    },
    {
     "name": "stdout",
     "output_type": "stream",
     "text": [
      "voxaudio label_shift: 9 (38175, 512) (38175,) num feats 512 0.5767890645939426\n"
     ]
    },
    {
     "name": "stderr",
     "output_type": "stream",
     "text": [
      "\n",
      "\n",
      " 43%|████▎     | 12/28 [04:22<04:55, 18.47s/it]\u001b[A\u001b[A"
     ]
    },
    {
     "name": "stdout",
     "output_type": "stream",
     "text": [
      "text_video label_shift: 0 (38598, 2348) (38598,) num feats 2348 0.6569004374917141\n"
     ]
    },
    {
     "name": "stderr",
     "output_type": "stream",
     "text": [
      "\n",
      "\n",
      " 46%|████▋     | 13/28 [05:41<09:11, 36.76s/it]\u001b[A\u001b[A"
     ]
    },
    {
     "name": "stdout",
     "output_type": "stream",
     "text": [
      "text_voxaudio label_shift: 0 (38598, 812) (38598,) num feats 812 0.6758584117725043\n",
      "text_video label_shift: 2 (38504, 2348) (38504,) num feats 2348 0.6175415282392026\n"
     ]
    },
    {
     "name": "stderr",
     "output_type": "stream",
     "text": [
      "\n",
      "\n",
      " 50%|█████     | 14/28 [06:00<07:17, 31.22s/it]\u001b[A\u001b[A"
     ]
    },
    {
     "name": "stdout",
     "output_type": "stream",
     "text": [
      "text_voxaudio label_shift: 2 (38504, 812) (38504,) num feats 812 0.6256478405315614\n",
      "text_video label_shift: 4 (38410, 2348) (38410,) num feats 2348 0.5997069401891568\n"
     ]
    },
    {
     "name": "stderr",
     "output_type": "stream",
     "text": [
      "\n",
      "\n",
      " 54%|█████▎    | 15/28 [06:54<08:17, 38.26s/it]\u001b[A\u001b[A"
     ]
    },
    {
     "name": "stdout",
     "output_type": "stream",
     "text": [
      "text_video label_shift: 9 (38175, 2348) (38175,) num feats 2348 0.5809434467971053\n"
     ]
    },
    {
     "name": "stderr",
     "output_type": "stream",
     "text": [
      "\n",
      "\n",
      " 57%|█████▋    | 16/28 [07:01<05:45, 28.81s/it]\u001b[A\u001b[A"
     ]
    },
    {
     "name": "stdout",
     "output_type": "stream",
     "text": [
      "text_voxaudio label_shift: 4 (38410, 812) (38410,) num feats 812 0.6045024643665912\n"
     ]
    },
    {
     "name": "stderr",
     "output_type": "stream",
     "text": [
      "\n",
      "\n",
      " 68%|██████▊   | 19/28 [07:32<03:29, 23.29s/it]\u001b[A\u001b[A"
     ]
    },
    {
     "name": "stdout",
     "output_type": "stream",
     "text": [
      "text_voxaudio label_shift: 9 (38175, 812) (38175,) num feats 812 0.5802733851514339\n"
     ]
    },
    {
     "name": "stderr",
     "output_type": "stream",
     "text": [
      "\n",
      "\n",
      " 71%|███████▏  | 20/28 [07:41<02:31, 18.93s/it]\u001b[A\u001b[A"
     ]
    },
    {
     "name": "stdout",
     "output_type": "stream",
     "text": [
      "video_voxaudio label_shift: 0 (38598, 2560) (38598,) num feats 2560 0.6635290998276547\n"
     ]
    },
    {
     "name": "stderr",
     "output_type": "stream",
     "text": [
      "\n",
      "\n",
      " 75%|███████▌  | 21/28 [09:01<04:21, 37.29s/it]\u001b[A\u001b[A"
     ]
    },
    {
     "name": "stdout",
     "output_type": "stream",
     "text": [
      "video_voxaudio label_shift: 2 (38504, 2560) (38504,) num feats 2560 0.6194019933554817\n"
     ]
    },
    {
     "name": "stderr",
     "output_type": "stream",
     "text": [
      "\n",
      "\n",
      " 79%|███████▊  | 22/28 [09:30<03:28, 34.68s/it]\u001b[A\u001b[A"
     ]
    },
    {
     "name": "stdout",
     "output_type": "stream",
     "text": [
      "video_voxaudio label_shift: 4 (38410, 2560) (38410,) num feats 2560 0.6034367923271613\n"
     ]
    },
    {
     "name": "stderr",
     "output_type": "stream",
     "text": [
      "\n",
      "\n",
      " 82%|████████▏ | 23/28 [10:05<02:54, 34.92s/it]\u001b[A\u001b[A"
     ]
    },
    {
     "name": "stdout",
     "output_type": "stream",
     "text": [
      "video_voxaudio label_shift: 9 (38175, 2560) (38175,) num feats 2560 0.5797373358348968\n"
     ]
    },
    {
     "name": "stderr",
     "output_type": "stream",
     "text": [
      "\n",
      "\n",
      " 86%|████████▌ | 24/28 [10:11<01:44, 26.20s/it]\u001b[A\u001b[A"
     ]
    },
    {
     "name": "stdout",
     "output_type": "stream",
     "text": [
      "text_video_voxaudio label_shift: 0 (38598, 2860) (38598,) num feats 2860 0.6697600424234389\n"
     ]
    },
    {
     "name": "stderr",
     "output_type": "stream",
     "text": [
      "\n",
      "\n",
      " 89%|████████▉ | 25/28 [10:42<01:23, 27.69s/it]\u001b[A\u001b[A"
     ]
    },
    {
     "name": "stdout",
     "output_type": "stream",
     "text": [
      "text_video_voxaudio label_shift: 2 (38504, 2860) (38504,) num feats 2860 0.6256478405315614\n"
     ]
    },
    {
     "name": "stderr",
     "output_type": "stream",
     "text": [
      "\n",
      "\n",
      " 93%|█████████▎| 26/28 [11:00<00:49, 24.56s/it]\u001b[A\u001b[A"
     ]
    },
    {
     "name": "stdout",
     "output_type": "stream",
     "text": [
      "text_video_voxaudio label_shift: 4 (38410, 2860) (38410,) num feats 2860 0.6104968695883842\n"
     ]
    },
    {
     "name": "stderr",
     "output_type": "stream",
     "text": [
      "\n",
      "\n",
      " 96%|█████████▋| 27/28 [12:18<00:40, 40.82s/it]\u001b[A\u001b[A"
     ]
    },
    {
     "name": "stdout",
     "output_type": "stream",
     "text": [
      "text_video_voxaudio label_shift: 9 (38175, 2860) (38175,) num feats 2860 0.588448137228625\n"
     ]
    },
    {
     "name": "stderr",
     "output_type": "stream",
     "text": [
      "\n",
      "\n",
      "100%|██████████| 28/28 [12:48<00:00, 37.40s/it]\u001b[A\u001b[A"
     ]
    },
    {
     "name": "stdout",
     "output_type": "stream",
     "text": [
      "use_crossval: False | use_all_perspectives: False | predict_only_host: True | clf: <class 'sklearn.ensemble.forest.RandomForestClassifier'>\n",
      "{4: [(('text', 0), 0.6559724247646825), (('text', 2), 0.6112956810631229), (('text', 4), 0.5971759690955109), (('text', 9), 0.5722326454033771), (('video', 0), 0.609041495426223), (('video', 2), 0.575548172757475), (('video', 4), 0.5585453576661782), (('video', 9), 0.5533369069954436), (('voxaudio', 0), 0.6692297494365637), (('voxaudio', 2), 0.6235215946843854), (('voxaudio', 4), 0.5974423871053683), (('voxaudio', 9), 0.5767890645939426), (('text_video', 0), 0.6569004374917141), (('text_video', 2), 0.6175415282392026), (('text_video', 4), 0.5997069401891568), (('text_video', 9), 0.5809434467971053), (('text_voxaudio', 0), 0.6758584117725043), (('text_voxaudio', 2), 0.6256478405315614), (('text_voxaudio', 4), 0.6045024643665912), (('text_voxaudio', 9), 0.5802733851514339), (('video_voxaudio', 0), 0.6635290998276547), (('video_voxaudio', 2), 0.6194019933554817), (('video_voxaudio', 4), 0.6034367923271613), (('video_voxaudio', 9), 0.5797373358348968), (('text_video_voxaudio', 0), 0.6697600424234389), (('text_video_voxaudio', 2), 0.6256478405315614), (('text_video_voxaudio', 4), 0.6104968695883842), (('text_video_voxaudio', 9), 0.588448137228625)]}\n",
      "(132008, 2881)\n"
     ]
    },
    {
     "name": "stderr",
     "output_type": "stream",
     "text": [
      "\n",
      "\n",
      "  0%|          | 0/28 [00:00<?, ?it/s]\u001b[A\u001b[A"
     ]
    },
    {
     "name": "stdout",
     "output_type": "stream",
     "text": [
      "text label_shift: 0 (37829, 300) (37829,) num feats 300 0.6491903371383063\n"
     ]
    },
    {
     "name": "stderr",
     "output_type": "stream",
     "text": [
      "\n",
      "\n",
      "  4%|▎         | 1/28 [00:58<26:26, 58.76s/it]\u001b[A\u001b[A"
     ]
    },
    {
     "name": "stdout",
     "output_type": "stream",
     "text": [
      "text label_shift: 9 (37406, 300) (37406,) num feats 300 0.5765463571716087\n",
      "text label_shift: 4 (37641, 300) (37641,) num feats 300 0.5904241130968259\n",
      "text label_shift: 2 (37735, 300) (37735,) num feats 300 0.6024481106971793\n"
     ]
    },
    {
     "name": "stderr",
     "output_type": "stream",
     "text": [
      "\n",
      "\n",
      "  7%|▋         | 2/28 [01:09<19:10, 44.26s/it]\u001b[A\u001b[A"
     ]
    },
    {
     "name": "stdout",
     "output_type": "stream",
     "text": [
      "voxaudio label_shift: 0 (37829, 512) (37829,) num feats 512 0.6645872046721529\n",
      "video label_shift: 0 (37829, 2048) (37829,) num feats 2048 0.6096363153703213\n"
     ]
    },
    {
     "name": "stderr",
     "output_type": "stream",
     "text": [
      "\n",
      "\n",
      " 18%|█▊        | 5/28 [02:41<15:25, 40.24s/it]\u001b[A\u001b[A"
     ]
    },
    {
     "name": "stdout",
     "output_type": "stream",
     "text": [
      "voxaudio label_shift: 2 (37735, 512) (37735,) num feats 512 0.6265300691857371\n",
      "video label_shift: 2 (37735, 2048) (37735,) num feats 2048 0.5717136774880256\n"
     ]
    },
    {
     "name": "stderr",
     "output_type": "stream",
     "text": [
      "\n",
      "\n",
      " 21%|██▏       | 6/28 [02:53<11:37, 31.69s/it]\u001b[A\u001b[A"
     ]
    },
    {
     "name": "stdout",
     "output_type": "stream",
     "text": [
      "video label_shift: 4 (37641, 2048) (37641,) num feats 2048 0.55841557748733\n"
     ]
    },
    {
     "name": "stderr",
     "output_type": "stream",
     "text": [
      "\n",
      "\n",
      " 25%|██▌       | 7/28 [03:50<13:46, 39.37s/it]\u001b[A\u001b[A"
     ]
    },
    {
     "name": "stdout",
     "output_type": "stream",
     "text": [
      "video label_shift: 9 (37406, 2048) (37406,) num feats 2048 0.545417952502348\n"
     ]
    },
    {
     "name": "stderr",
     "output_type": "stream",
     "text": [
      "\n",
      "\n",
      " 29%|██▊       | 8/28 [03:59<10:02, 30.12s/it]\u001b[A\u001b[A"
     ]
    },
    {
     "name": "stdout",
     "output_type": "stream",
     "text": [
      "voxaudio label_shift: 4 (37641, 512) (37641,) num feats 512 0.608829021072286\n"
     ]
    },
    {
     "name": "stderr",
     "output_type": "stream",
     "text": [
      "\n",
      "\n",
      " 39%|███▉      | 11/28 [04:10<06:17, 22.19s/it]\u001b[A\u001b[A"
     ]
    },
    {
     "name": "stdout",
     "output_type": "stream",
     "text": [
      "voxaudio label_shift: 9 (37406, 512) (37406,) num feats 512 0.5752046155910372\n"
     ]
    },
    {
     "name": "stderr",
     "output_type": "stream",
     "text": [
      "\n",
      "\n",
      " 43%|████▎     | 12/28 [04:17<04:41, 17.57s/it]\u001b[A\u001b[A"
     ]
    },
    {
     "name": "stdout",
     "output_type": "stream",
     "text": [
      "text_video label_shift: 0 (37829, 2348) (37829,) num feats 2348 0.6525086275550837\n"
     ]
    },
    {
     "name": "stderr",
     "output_type": "stream",
     "text": [
      "\n",
      "\n",
      " 46%|████▋     | 13/28 [05:35<08:57, 35.85s/it]\u001b[A\u001b[A"
     ]
    },
    {
     "name": "stdout",
     "output_type": "stream",
     "text": [
      "text_voxaudio label_shift: 0 (37829, 812) (37829,) num feats 812 0.6693655428723122\n",
      "text_video label_shift: 2 (37735, 2348) (37735,) num feats 2348 0.6152208621607238\n"
     ]
    },
    {
     "name": "stderr",
     "output_type": "stream",
     "text": [
      "\n",
      "\n",
      " 50%|█████     | 14/28 [05:52<07:03, 30.27s/it]\u001b[A\u001b[A"
     ]
    },
    {
     "name": "stdout",
     "output_type": "stream",
     "text": [
      "text_voxaudio label_shift: 2 (37735, 812) (37735,) num feats 812 0.6263970196913252\n",
      "text_video label_shift: 4 (37641, 2348) (37641,) num feats 2348 0.5945585489463857\n"
     ]
    },
    {
     "name": "stderr",
     "output_type": "stream",
     "text": [
      "\n",
      "\n",
      " 54%|█████▎    | 15/28 [06:49<08:16, 38.17s/it]\u001b[A\u001b[A"
     ]
    },
    {
     "name": "stdout",
     "output_type": "stream",
     "text": [
      "text_video label_shift: 9 (37406, 2348) (37406,) num feats 2348 0.5734603515362942\n"
     ]
    },
    {
     "name": "stderr",
     "output_type": "stream",
     "text": [
      "\n",
      "\n",
      " 57%|█████▋    | 16/28 [06:56<05:46, 28.91s/it]\u001b[A\u001b[A"
     ]
    },
    {
     "name": "stdout",
     "output_type": "stream",
     "text": [
      "text_voxaudio label_shift: 4 (37641, 812) (37641,) num feats 812 0.6041611096292344\n"
     ]
    },
    {
     "name": "stderr",
     "output_type": "stream",
     "text": [
      "\n",
      "\n",
      " 68%|██████▊   | 19/28 [07:24<03:27, 23.01s/it]\u001b[A\u001b[A"
     ]
    },
    {
     "name": "stdout",
     "output_type": "stream",
     "text": [
      "text_voxaudio label_shift: 9 (37406, 812) (37406,) num feats 812 0.5872802898161814\n"
     ]
    },
    {
     "name": "stderr",
     "output_type": "stream",
     "text": [
      "\n",
      "\n",
      " 71%|███████▏  | 20/28 [07:38<02:41, 20.17s/it]\u001b[A\u001b[A"
     ]
    },
    {
     "name": "stdout",
     "output_type": "stream",
     "text": [
      "video_voxaudio label_shift: 0 (37829, 2560) (37829,) num feats 2560 0.661667109105389\n"
     ]
    },
    {
     "name": "stderr",
     "output_type": "stream",
     "text": [
      "\n",
      "\n",
      " 75%|███████▌  | 21/28 [08:51<04:11, 35.99s/it]\u001b[A\u001b[A"
     ]
    },
    {
     "name": "stdout",
     "output_type": "stream",
     "text": [
      "video_voxaudio label_shift: 2 (37735, 2560) (37735,) num feats 2560 0.6193453964874933\n"
     ]
    },
    {
     "name": "stderr",
     "output_type": "stream",
     "text": [
      "\n",
      "\n",
      " 79%|███████▊  | 22/28 [09:12<03:09, 31.55s/it]\u001b[A\u001b[A"
     ]
    },
    {
     "name": "stdout",
     "output_type": "stream",
     "text": [
      "video_voxaudio label_shift: 4 (37641, 2560) (37641,) num feats 2560 0.6002934115764204\n"
     ]
    },
    {
     "name": "stderr",
     "output_type": "stream",
     "text": [
      "\n",
      "\n",
      " 82%|████████▏ | 23/28 [09:55<02:56, 35.21s/it]\u001b[A\u001b[A"
     ]
    },
    {
     "name": "stdout",
     "output_type": "stream",
     "text": [
      "video_voxaudio label_shift: 9 (37406, 2560) (37406,) num feats 2560 0.5836575875486382\n"
     ]
    },
    {
     "name": "stderr",
     "output_type": "stream",
     "text": [
      "\n",
      "\n",
      " 86%|████████▌ | 24/28 [10:02<01:46, 26.70s/it]\u001b[A\u001b[A"
     ]
    },
    {
     "name": "stdout",
     "output_type": "stream",
     "text": [
      "text_video_voxaudio label_shift: 0 (37829, 2860) (37829,) num feats 2860 0.6677727634722591\n"
     ]
    },
    {
     "name": "stderr",
     "output_type": "stream",
     "text": [
      "\n",
      "\n",
      " 89%|████████▉ | 25/28 [10:28<01:19, 26.53s/it]\u001b[A\u001b[A"
     ]
    },
    {
     "name": "stdout",
     "output_type": "stream",
     "text": [
      "text_video_voxaudio label_shift: 2 (37735, 2860) (37735,) num feats 2860 0.6246673762639702\n"
     ]
    },
    {
     "name": "stderr",
     "output_type": "stream",
     "text": [
      "\n",
      "\n",
      " 93%|█████████▎| 26/28 [10:52<00:51, 25.61s/it]\u001b[A\u001b[A"
     ]
    },
    {
     "name": "stdout",
     "output_type": "stream",
     "text": [
      "text_video_voxaudio label_shift: 4 (37641, 2860) (37641,) num feats 2860 0.6041611096292344\n"
     ]
    },
    {
     "name": "stderr",
     "output_type": "stream",
     "text": [
      "\n",
      "\n",
      " 96%|█████████▋| 27/28 [12:04<00:39, 39.47s/it]\u001b[A\u001b[A"
     ]
    },
    {
     "name": "stdout",
     "output_type": "stream",
     "text": [
      "text_video_voxaudio label_shift: 9 (37406, 2860) (37406,) num feats 2860 0.588622031396753\n"
     ]
    },
    {
     "name": "stderr",
     "output_type": "stream",
     "text": [
      "\n",
      "\n",
      "100%|██████████| 28/28 [12:23<00:00, 33.52s/it]\u001b[A\u001b[A"
     ]
    },
    {
     "name": "stdout",
     "output_type": "stream",
     "text": [
      "use_crossval: False | use_all_perspectives: False | predict_only_host: True | clf: <class 'sklearn.ensemble.forest.RandomForestClassifier'>\n",
      "{4: [(('text', 0), 0.6559724247646825), (('text', 2), 0.6112956810631229), (('text', 4), 0.5971759690955109), (('text', 9), 0.5722326454033771), (('video', 0), 0.609041495426223), (('video', 2), 0.575548172757475), (('video', 4), 0.5585453576661782), (('video', 9), 0.5533369069954436), (('voxaudio', 0), 0.6692297494365637), (('voxaudio', 2), 0.6235215946843854), (('voxaudio', 4), 0.5974423871053683), (('voxaudio', 9), 0.5767890645939426), (('text_video', 0), 0.6569004374917141), (('text_video', 2), 0.6175415282392026), (('text_video', 4), 0.5997069401891568), (('text_video', 9), 0.5809434467971053), (('text_voxaudio', 0), 0.6758584117725043), (('text_voxaudio', 2), 0.6256478405315614), (('text_voxaudio', 4), 0.6045024643665912), (('text_voxaudio', 9), 0.5802733851514339), (('video_voxaudio', 0), 0.6635290998276547), (('video_voxaudio', 2), 0.6194019933554817), (('video_voxaudio', 4), 0.6034367923271613), (('video_voxaudio', 9), 0.5797373358348968), (('text_video_voxaudio', 0), 0.6697600424234389), (('text_video_voxaudio', 2), 0.6256478405315614), (('text_video_voxaudio', 4), 0.6104968695883842), (('text_video_voxaudio', 9), 0.588448137228625)], 5: [(('text', 0), 0.6491903371383063), (('text', 2), 0.6024481106971793), (('text', 4), 0.5904241130968259), (('text', 9), 0.5765463571716087), (('video', 0), 0.6096363153703213), (('video', 2), 0.5717136774880256), (('video', 4), 0.55841557748733), (('video', 9), 0.545417952502348), (('voxaudio', 0), 0.6645872046721529), (('voxaudio', 2), 0.6265300691857371), (('voxaudio', 4), 0.608829021072286), (('voxaudio', 9), 0.5752046155910372), (('text_video', 0), 0.6525086275550837), (('text_video', 2), 0.6152208621607238), (('text_video', 4), 0.5945585489463857), (('text_video', 9), 0.5734603515362942), (('text_voxaudio', 0), 0.6693655428723122), (('text_voxaudio', 2), 0.6263970196913252), (('text_voxaudio', 4), 0.6041611096292344), (('text_voxaudio', 9), 0.5872802898161814), (('video_voxaudio', 0), 0.661667109105389), (('video_voxaudio', 2), 0.6193453964874933), (('video_voxaudio', 4), 0.6002934115764204), (('video_voxaudio', 9), 0.5836575875486382), (('text_video_voxaudio', 0), 0.6677727634722591), (('text_video_voxaudio', 2), 0.6246673762639702), (('text_video_voxaudio', 4), 0.6041611096292344), (('text_video_voxaudio', 9), 0.588622031396753)]}\n",
      "(131113, 2881)\n"
     ]
    },
    {
     "name": "stderr",
     "output_type": "stream",
     "text": [
      "\n",
      "\n",
      "  0%|          | 0/28 [00:00<?, ?it/s]\u001b[A\u001b[A"
     ]
    },
    {
     "name": "stdout",
     "output_type": "stream",
     "text": [
      "text label_shift: 0 (36534, 300) (36534,) num feats 300 0.6215783148617973\n"
     ]
    },
    {
     "name": "stderr",
     "output_type": "stream",
     "text": [
      "\n",
      "\n",
      "  4%|▎         | 1/28 [01:01<27:43, 61.61s/it]\u001b[A\u001b[A"
     ]
    },
    {
     "name": "stdout",
     "output_type": "stream",
     "text": [
      "text label_shift: 9 (36111, 300) (36111,) num feats 300 0.5715442764578834\n",
      "text label_shift: 2 (36440, 300) (36440,) num feats 300 0.5934948467407308\n",
      "text label_shift: 4 (36346, 300) (36346,) num feats 300 0.5906346437676103\n"
     ]
    },
    {
     "name": "stderr",
     "output_type": "stream",
     "text": [
      "\n",
      "\n",
      "  7%|▋         | 2/28 [01:11<20:01, 46.22s/it]\u001b[A\u001b[A"
     ]
    },
    {
     "name": "stdout",
     "output_type": "stream",
     "text": [
      "voxaudio label_shift: 0 (36534, 512) (36534,) num feats 512 0.6418747496327948\n",
      "video label_shift: 0 (36534, 2048) (36534,) num feats 2048 0.5780478034450528\n"
     ]
    },
    {
     "name": "stderr",
     "output_type": "stream",
     "text": [
      "\n",
      "\n",
      " 18%|█▊        | 5/28 [02:35<15:37, 40.75s/it]\u001b[A\u001b[A"
     ]
    },
    {
     "name": "stdout",
     "output_type": "stream",
     "text": [
      "voxaudio label_shift: 2 (36440, 512) (36440,) num feats 512 0.6141078838174274\n",
      "video label_shift: 2 (36440, 2048) (36440,) num feats 2048 0.5548119394993977\n"
     ]
    },
    {
     "name": "stderr",
     "output_type": "stream",
     "text": [
      "\n",
      "\n",
      " 21%|██▏       | 6/28 [02:47<11:41, 31.89s/it]\u001b[A\u001b[A"
     ]
    },
    {
     "name": "stdout",
     "output_type": "stream",
     "text": [
      "video label_shift: 4 (36346, 2048) (36346,) num feats 2048 0.5475647390312626\n"
     ]
    },
    {
     "name": "stderr",
     "output_type": "stream",
     "text": [
      "\n",
      "\n",
      " 25%|██▌       | 7/28 [03:47<14:10, 40.49s/it]\u001b[A\u001b[A"
     ]
    },
    {
     "name": "stdout",
     "output_type": "stream",
     "text": [
      "video label_shift: 9 (36111, 2048) (36111,) num feats 2048 0.5265928725701944\n"
     ]
    },
    {
     "name": "stderr",
     "output_type": "stream",
     "text": [
      "\n",
      "\n",
      " 29%|██▊       | 8/28 [03:56<10:18, 30.90s/it]\u001b[A\u001b[A"
     ]
    },
    {
     "name": "stdout",
     "output_type": "stream",
     "text": [
      "voxaudio label_shift: 4 (36346, 512) (36346,) num feats 512 0.598819267409097\n"
     ]
    },
    {
     "name": "stderr",
     "output_type": "stream",
     "text": [
      "\n",
      "\n",
      " 39%|███▉      | 11/28 [04:04<06:21, 22.44s/it]\u001b[A\u001b[A"
     ]
    },
    {
     "name": "stdout",
     "output_type": "stream",
     "text": [
      "voxaudio label_shift: 9 (36111, 512) (36111,) num feats 512 0.5728941684665226\n"
     ]
    },
    {
     "name": "stderr",
     "output_type": "stream",
     "text": [
      "\n",
      "\n",
      " 43%|████▎     | 12/28 [04:07<04:28, 16.75s/it]\u001b[A\u001b[A"
     ]
    },
    {
     "name": "stdout",
     "output_type": "stream",
     "text": [
      "text_video label_shift: 0 (36534, 2348) (36534,) num feats 2348 0.631993590599546\n"
     ]
    },
    {
     "name": "stderr",
     "output_type": "stream",
     "text": [
      "\n",
      "\n",
      " 46%|████▋     | 13/28 [05:29<09:04, 36.31s/it]\u001b[A\u001b[A"
     ]
    },
    {
     "name": "stdout",
     "output_type": "stream",
     "text": [
      "text_voxaudio label_shift: 0 (36534, 812) (36534,) num feats 812 0.6490853251435439\n",
      "text_video label_shift: 2 (36440, 2348) (36440,) num feats 2348 0.5991165841252845\n"
     ]
    },
    {
     "name": "stderr",
     "output_type": "stream",
     "text": [
      "\n",
      "\n",
      " 50%|█████     | 14/28 [05:42<06:48, 29.16s/it]\u001b[A\u001b[A"
     ]
    },
    {
     "name": "stdout",
     "output_type": "stream",
     "text": [
      "text_voxaudio label_shift: 2 (36440, 812) (36440,) num feats 812 0.6189265158613305\n",
      "text_video label_shift: 4 (36346, 2348) (36346,) num feats 2348 0.5698376492687508\n"
     ]
    },
    {
     "name": "stderr",
     "output_type": "stream",
     "text": [
      "\n",
      "\n",
      " 54%|█████▎    | 15/28 [06:42<08:19, 38.45s/it]\u001b[A\u001b[A"
     ]
    },
    {
     "name": "stdout",
     "output_type": "stream",
     "text": [
      "text_video label_shift: 9 (36111, 2348) (36111,) num feats 2348 0.5322624190064795\n"
     ]
    },
    {
     "name": "stderr",
     "output_type": "stream",
     "text": [
      "\n",
      "\n",
      " 57%|█████▋    | 16/28 [06:48<05:46, 28.84s/it]\u001b[A\u001b[A"
     ]
    },
    {
     "name": "stdout",
     "output_type": "stream",
     "text": [
      "text_voxaudio label_shift: 4 (36346, 812) (36346,) num feats 812 0.59962431235744\n"
     ]
    },
    {
     "name": "stderr",
     "output_type": "stream",
     "text": [
      "\n",
      "\n",
      " 68%|██████▊   | 19/28 [07:16<03:26, 22.96s/it]\u001b[A\u001b[A"
     ]
    },
    {
     "name": "stdout",
     "output_type": "stream",
     "text": [
      "text_voxaudio label_shift: 9 (36111, 812) (36111,) num feats 812 0.5724892008639308\n"
     ]
    },
    {
     "name": "stderr",
     "output_type": "stream",
     "text": [
      "\n",
      "\n",
      " 71%|███████▏  | 20/28 [07:27<02:35, 19.44s/it]\u001b[A\u001b[A"
     ]
    },
    {
     "name": "stdout",
     "output_type": "stream",
     "text": [
      "video_voxaudio label_shift: 0 (36534, 2560) (36534,) num feats 2560 0.6384029910535453\n"
     ]
    },
    {
     "name": "stderr",
     "output_type": "stream",
     "text": [
      "\n",
      "\n",
      " 75%|███████▌  | 21/28 [08:31<03:48, 32.65s/it]\u001b[A\u001b[A"
     ]
    },
    {
     "name": "stdout",
     "output_type": "stream",
     "text": [
      "video_voxaudio label_shift: 2 (36440, 2560) (36440,) num feats 2560 0.6141078838174274\n"
     ]
    },
    {
     "name": "stderr",
     "output_type": "stream",
     "text": [
      "\n",
      "\n",
      " 79%|███████▊  | 22/28 [09:02<03:13, 32.31s/it]\u001b[A\u001b[A"
     ]
    },
    {
     "name": "stdout",
     "output_type": "stream",
     "text": [
      "video_voxaudio label_shift: 4 (36346, 2560) (36346,) num feats 2560 0.5960016100898967\n"
     ]
    },
    {
     "name": "stderr",
     "output_type": "stream",
     "text": [
      "\n",
      "\n",
      " 82%|████████▏ | 23/28 [09:40<02:50, 34.09s/it]\u001b[A\u001b[A"
     ]
    },
    {
     "name": "stdout",
     "output_type": "stream",
     "text": [
      "video_voxaudio label_shift: 9 (36111, 2560) (36111,) num feats 2560 0.5602051835853131\n"
     ]
    },
    {
     "name": "stderr",
     "output_type": "stream",
     "text": [
      "\n",
      "\n",
      " 86%|████████▌ | 24/28 [09:47<01:43, 25.90s/it]\u001b[A\u001b[A"
     ]
    },
    {
     "name": "stdout",
     "output_type": "stream",
     "text": [
      "text_video_voxaudio label_shift: 0 (36534, 2860) (36534,) num feats 2860 0.6497529710241687\n"
     ]
    },
    {
     "name": "stderr",
     "output_type": "stream",
     "text": [
      "\n",
      "\n",
      " 89%|████████▉ | 25/28 [10:13<01:17, 25.92s/it]\u001b[A\u001b[A"
     ]
    },
    {
     "name": "stdout",
     "output_type": "stream",
     "text": [
      "text_video_voxaudio label_shift: 2 (36440, 2860) (36440,) num feats 2860 0.6099585062240664\n"
     ]
    },
    {
     "name": "stderr",
     "output_type": "stream",
     "text": [
      "\n",
      "\n",
      " 93%|█████████▎| 26/28 [10:35<00:49, 24.57s/it]\u001b[A\u001b[A"
     ]
    },
    {
     "name": "stdout",
     "output_type": "stream",
     "text": [
      "text_video_voxaudio label_shift: 4 (36346, 2860) (36346,) num feats 2860 0.5989534415671541\n"
     ]
    },
    {
     "name": "stderr",
     "output_type": "stream",
     "text": [
      "\n",
      "\n",
      " 96%|█████████▋| 27/28 [11:38<00:36, 36.14s/it]\u001b[A\u001b[A"
     ]
    },
    {
     "name": "stdout",
     "output_type": "stream",
     "text": [
      "text_video_voxaudio label_shift: 9 (36111, 2860) (36111,) num feats 2860 0.5673596112311015\n"
     ]
    },
    {
     "name": "stderr",
     "output_type": "stream",
     "text": [
      "\n",
      "\n",
      "100%|██████████| 28/28 [12:14<00:00, 36.34s/it]\u001b[A\u001b[A"
     ]
    },
    {
     "name": "stdout",
     "output_type": "stream",
     "text": [
      "use_crossval: False | use_all_perspectives: False | predict_only_host: True | clf: <class 'sklearn.ensemble.forest.RandomForestClassifier'>\n",
      "{4: [(('text', 0), 0.6559724247646825), (('text', 2), 0.6112956810631229), (('text', 4), 0.5971759690955109), (('text', 9), 0.5722326454033771), (('video', 0), 0.609041495426223), (('video', 2), 0.575548172757475), (('video', 4), 0.5585453576661782), (('video', 9), 0.5533369069954436), (('voxaudio', 0), 0.6692297494365637), (('voxaudio', 2), 0.6235215946843854), (('voxaudio', 4), 0.5974423871053683), (('voxaudio', 9), 0.5767890645939426), (('text_video', 0), 0.6569004374917141), (('text_video', 2), 0.6175415282392026), (('text_video', 4), 0.5997069401891568), (('text_video', 9), 0.5809434467971053), (('text_voxaudio', 0), 0.6758584117725043), (('text_voxaudio', 2), 0.6256478405315614), (('text_voxaudio', 4), 0.6045024643665912), (('text_voxaudio', 9), 0.5802733851514339), (('video_voxaudio', 0), 0.6635290998276547), (('video_voxaudio', 2), 0.6194019933554817), (('video_voxaudio', 4), 0.6034367923271613), (('video_voxaudio', 9), 0.5797373358348968), (('text_video_voxaudio', 0), 0.6697600424234389), (('text_video_voxaudio', 2), 0.6256478405315614), (('text_video_voxaudio', 4), 0.6104968695883842), (('text_video_voxaudio', 9), 0.588448137228625)], 5: [(('text', 0), 0.6491903371383063), (('text', 2), 0.6024481106971793), (('text', 4), 0.5904241130968259), (('text', 9), 0.5765463571716087), (('video', 0), 0.6096363153703213), (('video', 2), 0.5717136774880256), (('video', 4), 0.55841557748733), (('video', 9), 0.545417952502348), (('voxaudio', 0), 0.6645872046721529), (('voxaudio', 2), 0.6265300691857371), (('voxaudio', 4), 0.608829021072286), (('voxaudio', 9), 0.5752046155910372), (('text_video', 0), 0.6525086275550837), (('text_video', 2), 0.6152208621607238), (('text_video', 4), 0.5945585489463857), (('text_video', 9), 0.5734603515362942), (('text_voxaudio', 0), 0.6693655428723122), (('text_voxaudio', 2), 0.6263970196913252), (('text_voxaudio', 4), 0.6041611096292344), (('text_voxaudio', 9), 0.5872802898161814), (('video_voxaudio', 0), 0.661667109105389), (('video_voxaudio', 2), 0.6193453964874933), (('video_voxaudio', 4), 0.6002934115764204), (('video_voxaudio', 9), 0.5836575875486382), (('text_video_voxaudio', 0), 0.6677727634722591), (('text_video_voxaudio', 2), 0.6246673762639702), (('text_video_voxaudio', 4), 0.6041611096292344), (('text_video_voxaudio', 9), 0.588622031396753)], 10: [(('text', 0), 0.6215783148617973), (('text', 2), 0.5934948467407308), (('text', 4), 0.5906346437676103), (('text', 9), 0.5715442764578834), (('video', 0), 0.5780478034450528), (('video', 2), 0.5548119394993977), (('video', 4), 0.5475647390312626), (('video', 9), 0.5265928725701944), (('voxaudio', 0), 0.6418747496327948), (('voxaudio', 2), 0.6141078838174274), (('voxaudio', 4), 0.598819267409097), (('voxaudio', 9), 0.5728941684665226), (('text_video', 0), 0.631993590599546), (('text_video', 2), 0.5991165841252845), (('text_video', 4), 0.5698376492687508), (('text_video', 9), 0.5322624190064795), (('text_voxaudio', 0), 0.6490853251435439), (('text_voxaudio', 2), 0.6189265158613305), (('text_voxaudio', 4), 0.59962431235744), (('text_voxaudio', 9), 0.5724892008639308), (('video_voxaudio', 0), 0.6384029910535453), (('video_voxaudio', 2), 0.6141078838174274), (('video_voxaudio', 4), 0.5960016100898967), (('video_voxaudio', 9), 0.5602051835853131), (('text_video_voxaudio', 0), 0.6497529710241687), (('text_video_voxaudio', 2), 0.6099585062240664), (('text_video_voxaudio', 4), 0.5989534415671541), (('text_video_voxaudio', 9), 0.5673596112311015)]}\n",
      "(129245, 2881)\n"
     ]
    },
    {
     "name": "stderr",
     "output_type": "stream",
     "text": [
      "\n",
      "\n",
      "  0%|          | 0/28 [00:00<?, ?it/s]\u001b[A\u001b[A"
     ]
    },
    {
     "name": "stdout",
     "output_type": "stream",
     "text": [
      "text label_shift: 0 (37376, 300) (37376,) num feats 300 0.5550690928991654\n"
     ]
    },
    {
     "name": "stderr",
     "output_type": "stream",
     "text": [
      "\n",
      "\n",
      "  4%|▎         | 1/28 [01:06<29:44, 66.08s/it]\u001b[A\u001b[A"
     ]
    },
    {
     "name": "stdout",
     "output_type": "stream",
     "text": [
      "text label_shift: 9 (36953, 300) (36953,) num feats 300 0.5532650802434975\n",
      "text label_shift: 4 (37188, 300) (37188,) num feats 300 0.5580915715660663\n",
      "text label_shift: 2 (37282, 300) (37282,) num feats 300 0.5542449595391579\n"
     ]
    },
    {
     "name": "stderr",
     "output_type": "stream",
     "text": [
      "\n",
      "\n",
      "  7%|▋         | 2/28 [01:16<21:23, 49.38s/it]\u001b[A\u001b[A"
     ]
    },
    {
     "name": "stdout",
     "output_type": "stream",
     "text": [
      "voxaudio label_shift: 0 (37376, 512) (37376,) num feats 512 0.600492543439595\n",
      "video label_shift: 0 (37376, 2048) (37376,) num feats 2048 0.5742235599945273\n"
     ]
    },
    {
     "name": "stderr",
     "output_type": "stream",
     "text": [
      "\n",
      "\n",
      " 18%|█▊        | 5/28 [02:39<16:25, 42.86s/it]\u001b[A\u001b[A"
     ]
    },
    {
     "name": "stdout",
     "output_type": "stream",
     "text": [
      "voxaudio label_shift: 2 (37282, 512) (37282,) num feats 512 0.5840076807022356\n",
      "video label_shift: 2 (37282, 2048) (37282,) num feats 2048 0.5579481552599095\n"
     ]
    },
    {
     "name": "stderr",
     "output_type": "stream",
     "text": [
      "\n",
      "\n",
      " 21%|██▏       | 6/28 [02:51<12:22, 33.73s/it]\u001b[A\u001b[A"
     ]
    },
    {
     "name": "stdout",
     "output_type": "stream",
     "text": [
      "video label_shift: 4 (37188, 2048) (37188,) num feats 2048 0.5596040148494431\n"
     ]
    },
    {
     "name": "stderr",
     "output_type": "stream",
     "text": [
      "\n",
      "\n",
      " 25%|██▌       | 7/28 [03:54<14:49, 42.35s/it]\u001b[A\u001b[A"
     ]
    },
    {
     "name": "stdout",
     "output_type": "stream",
     "text": [
      "video label_shift: 9 (36953, 2048) (36953,) num feats 2048 0.5385998893193138\n"
     ]
    },
    {
     "name": "stderr",
     "output_type": "stream",
     "text": [
      "\n",
      "\n",
      " 29%|██▊       | 8/28 [04:02<10:42, 32.11s/it]\u001b[A\u001b[A"
     ]
    },
    {
     "name": "stdout",
     "output_type": "stream",
     "text": [
      "voxaudio label_shift: 4 (37188, 512) (37188,) num feats 512 0.5667537467344974\n"
     ]
    },
    {
     "name": "stderr",
     "output_type": "stream",
     "text": [
      "\n",
      "\n",
      " 39%|███▉      | 11/28 [04:10<06:35, 23.25s/it]\u001b[A\u001b[A"
     ]
    },
    {
     "name": "stdout",
     "output_type": "stream",
     "text": [
      "voxaudio label_shift: 9 (36953, 512) (36953,) num feats 512 0.5534034311012729\n"
     ]
    },
    {
     "name": "stderr",
     "output_type": "stream",
     "text": [
      "\n",
      "\n",
      " 43%|████▎     | 12/28 [04:12<04:29, 16.84s/it]\u001b[A\u001b[A"
     ]
    },
    {
     "name": "stdout",
     "output_type": "stream",
     "text": [
      "text_video label_shift: 0 (37376, 2348) (37376,) num feats 2348 0.6026816253933507\n"
     ]
    },
    {
     "name": "stderr",
     "output_type": "stream",
     "text": [
      "\n",
      "\n",
      " 46%|████▋     | 13/28 [05:40<09:34, 38.27s/it]\u001b[A\u001b[A"
     ]
    },
    {
     "name": "stdout",
     "output_type": "stream",
     "text": [
      "text_video label_shift: 2 (37282, 2348) (37282,) num feats 2348 0.5962145110410094\n",
      "text_voxaudio label_shift: 0 (37376, 812) (37376,) num feats 812 0.6029552606375701\n"
     ]
    },
    {
     "name": "stderr",
     "output_type": "stream",
     "text": [
      "\n",
      "\n",
      " 50%|█████     | 14/28 [05:52<07:04, 30.32s/it]\u001b[A\u001b[A"
     ]
    },
    {
     "name": "stdout",
     "output_type": "stream",
     "text": [
      "text_voxaudio label_shift: 2 (37282, 812) (37282,) num feats 812 0.5856535454670141\n",
      "text_video label_shift: 4 (37188, 2348) (37188,) num feats 2348 0.5695036436133645\n"
     ]
    },
    {
     "name": "stderr",
     "output_type": "stream",
     "text": [
      "\n",
      "\n",
      " 54%|█████▎    | 15/28 [06:51<08:28, 39.08s/it]\u001b[A\u001b[A"
     ]
    },
    {
     "name": "stdout",
     "output_type": "stream",
     "text": [
      "text_video label_shift: 9 (36953, 2348) (36953,) num feats 2348 0.5485611510791367\n"
     ]
    },
    {
     "name": "stderr",
     "output_type": "stream",
     "text": [
      "\n",
      "\n",
      " 57%|█████▋    | 16/28 [06:59<05:54, 29.58s/it]\u001b[A\u001b[A"
     ]
    },
    {
     "name": "stdout",
     "output_type": "stream",
     "text": [
      "text_voxaudio label_shift: 4 (37188, 812) (37188,) num feats 812 0.5763783858105321\n"
     ]
    },
    {
     "name": "stderr",
     "output_type": "stream",
     "text": [
      "\n",
      "\n",
      " 68%|██████▊   | 19/28 [07:30<03:34, 23.89s/it]\u001b[A\u001b[A"
     ]
    },
    {
     "name": "stdout",
     "output_type": "stream",
     "text": [
      "text_voxaudio label_shift: 9 (36953, 812) (36953,) num feats 812 0.5534034311012729\n"
     ]
    },
    {
     "name": "stderr",
     "output_type": "stream",
     "text": [
      "\n",
      "\n",
      " 71%|███████▏  | 20/28 [07:42<02:41, 20.13s/it]\u001b[A\u001b[A"
     ]
    },
    {
     "name": "stdout",
     "output_type": "stream",
     "text": [
      "video_voxaudio label_shift: 0 (37376, 2560) (37376,) num feats 2560 0.5992611848406074\n"
     ]
    },
    {
     "name": "stderr",
     "output_type": "stream",
     "text": [
      "\n",
      "\n",
      " 75%|███████▌  | 21/28 [08:47<03:56, 33.80s/it]\u001b[A\u001b[A"
     ]
    },
    {
     "name": "stdout",
     "output_type": "stream",
     "text": [
      "video_voxaudio label_shift: 2 (37282, 2560) (37282,) num feats 2560 0.5829104375257166\n"
     ]
    },
    {
     "name": "stderr",
     "output_type": "stream",
     "text": [
      "\n",
      "\n",
      " 79%|███████▊  | 22/28 [09:04<02:52, 28.67s/it]\u001b[A\u001b[A"
     ]
    },
    {
     "name": "stdout",
     "output_type": "stream",
     "text": [
      "video_voxaudio label_shift: 4 (37188, 2560) (37188,) num feats 2560 0.5798157569091159\n"
     ]
    },
    {
     "name": "stderr",
     "output_type": "stream",
     "text": [
      "\n",
      "\n",
      " 82%|████████▏ | 23/28 [09:53<02:53, 34.71s/it]\u001b[A\u001b[A"
     ]
    },
    {
     "name": "stdout",
     "output_type": "stream",
     "text": [
      "video_voxaudio label_shift: 9 (36953, 2560) (36953,) num feats 2560 0.5532650802434975\n"
     ]
    },
    {
     "name": "stderr",
     "output_type": "stream",
     "text": [
      "\n",
      "\n",
      " 86%|████████▌ | 24/28 [10:01<01:46, 26.69s/it]\u001b[A\u001b[A"
     ]
    },
    {
     "name": "stdout",
     "output_type": "stream",
     "text": [
      "text_video_voxaudio label_shift: 0 (37376, 2860) (37376,) num feats 2860 0.6009029963059243\n"
     ]
    },
    {
     "name": "stderr",
     "output_type": "stream",
     "text": [
      "\n",
      "\n",
      " 89%|████████▉ | 25/28 [10:31<01:23, 27.82s/it]\u001b[A\u001b[A"
     ]
    },
    {
     "name": "stdout",
     "output_type": "stream",
     "text": [
      "text_video_voxaudio label_shift: 2 (37282, 2860) (37282,) num feats 2860 0.5933342477026471\n"
     ]
    },
    {
     "name": "stderr",
     "output_type": "stream",
     "text": [
      "\n",
      "\n",
      " 93%|█████████▎| 26/28 [10:53<00:51, 25.90s/it]\u001b[A\u001b[A"
     ]
    },
    {
     "name": "stdout",
     "output_type": "stream",
     "text": [
      "text_video_voxaudio label_shift: 4 (37188, 2860) (37188,) num feats 2860 0.5866904991062836\n"
     ]
    },
    {
     "name": "stderr",
     "output_type": "stream",
     "text": [
      "\n",
      "\n",
      " 96%|█████████▋| 27/28 [12:03<00:39, 39.09s/it]\u001b[A\u001b[A"
     ]
    },
    {
     "name": "stdout",
     "output_type": "stream",
     "text": [
      "text_video_voxaudio label_shift: 9 (36953, 2860) (36953,) num feats 2860 0.5539568345323741\n"
     ]
    },
    {
     "name": "stderr",
     "output_type": "stream",
     "text": [
      "\n",
      "\n",
      "100%|██████████| 28/28 [12:16<00:00, 31.21s/it]\u001b[A\u001b[A"
     ]
    },
    {
     "name": "stdout",
     "output_type": "stream",
     "text": [
      "use_crossval: False | use_all_perspectives: False | predict_only_host: True | clf: <class 'sklearn.ensemble.forest.RandomForestClassifier'>\n",
      "{4: [(('text', 0), 0.6559724247646825), (('text', 2), 0.6112956810631229), (('text', 4), 0.5971759690955109), (('text', 9), 0.5722326454033771), (('video', 0), 0.609041495426223), (('video', 2), 0.575548172757475), (('video', 4), 0.5585453576661782), (('video', 9), 0.5533369069954436), (('voxaudio', 0), 0.6692297494365637), (('voxaudio', 2), 0.6235215946843854), (('voxaudio', 4), 0.5974423871053683), (('voxaudio', 9), 0.5767890645939426), (('text_video', 0), 0.6569004374917141), (('text_video', 2), 0.6175415282392026), (('text_video', 4), 0.5997069401891568), (('text_video', 9), 0.5809434467971053), (('text_voxaudio', 0), 0.6758584117725043), (('text_voxaudio', 2), 0.6256478405315614), (('text_voxaudio', 4), 0.6045024643665912), (('text_voxaudio', 9), 0.5802733851514339), (('video_voxaudio', 0), 0.6635290998276547), (('video_voxaudio', 2), 0.6194019933554817), (('video_voxaudio', 4), 0.6034367923271613), (('video_voxaudio', 9), 0.5797373358348968), (('text_video_voxaudio', 0), 0.6697600424234389), (('text_video_voxaudio', 2), 0.6256478405315614), (('text_video_voxaudio', 4), 0.6104968695883842), (('text_video_voxaudio', 9), 0.588448137228625)], 5: [(('text', 0), 0.6491903371383063), (('text', 2), 0.6024481106971793), (('text', 4), 0.5904241130968259), (('text', 9), 0.5765463571716087), (('video', 0), 0.6096363153703213), (('video', 2), 0.5717136774880256), (('video', 4), 0.55841557748733), (('video', 9), 0.545417952502348), (('voxaudio', 0), 0.6645872046721529), (('voxaudio', 2), 0.6265300691857371), (('voxaudio', 4), 0.608829021072286), (('voxaudio', 9), 0.5752046155910372), (('text_video', 0), 0.6525086275550837), (('text_video', 2), 0.6152208621607238), (('text_video', 4), 0.5945585489463857), (('text_video', 9), 0.5734603515362942), (('text_voxaudio', 0), 0.6693655428723122), (('text_voxaudio', 2), 0.6263970196913252), (('text_voxaudio', 4), 0.6041611096292344), (('text_voxaudio', 9), 0.5872802898161814), (('video_voxaudio', 0), 0.661667109105389), (('video_voxaudio', 2), 0.6193453964874933), (('video_voxaudio', 4), 0.6002934115764204), (('video_voxaudio', 9), 0.5836575875486382), (('text_video_voxaudio', 0), 0.6677727634722591), (('text_video_voxaudio', 2), 0.6246673762639702), (('text_video_voxaudio', 4), 0.6041611096292344), (('text_video_voxaudio', 9), 0.588622031396753)], 10: [(('text', 0), 0.6215783148617973), (('text', 2), 0.5934948467407308), (('text', 4), 0.5906346437676103), (('text', 9), 0.5715442764578834), (('video', 0), 0.5780478034450528), (('video', 2), 0.5548119394993977), (('video', 4), 0.5475647390312626), (('video', 9), 0.5265928725701944), (('voxaudio', 0), 0.6418747496327948), (('voxaudio', 2), 0.6141078838174274), (('voxaudio', 4), 0.598819267409097), (('voxaudio', 9), 0.5728941684665226), (('text_video', 0), 0.631993590599546), (('text_video', 2), 0.5991165841252845), (('text_video', 4), 0.5698376492687508), (('text_video', 9), 0.5322624190064795), (('text_voxaudio', 0), 0.6490853251435439), (('text_voxaudio', 2), 0.6189265158613305), (('text_voxaudio', 4), 0.59962431235744), (('text_voxaudio', 9), 0.5724892008639308), (('video_voxaudio', 0), 0.6384029910535453), (('video_voxaudio', 2), 0.6141078838174274), (('video_voxaudio', 4), 0.5960016100898967), (('video_voxaudio', 9), 0.5602051835853131), (('text_video_voxaudio', 0), 0.6497529710241687), (('text_video_voxaudio', 2), 0.6099585062240664), (('text_video_voxaudio', 4), 0.5989534415671541), (('text_video_voxaudio', 9), 0.5673596112311015)], 30: [(('text', 0), 0.5550690928991654), (('text', 2), 0.5542449595391579), (('text', 4), 0.5580915715660663), (('text', 9), 0.5532650802434975), (('video', 0), 0.5742235599945273), (('video', 2), 0.5579481552599095), (('video', 4), 0.5596040148494431), (('video', 9), 0.5385998893193138), (('voxaudio', 0), 0.600492543439595), (('voxaudio', 2), 0.5840076807022356), (('voxaudio', 4), 0.5667537467344974), (('voxaudio', 9), 0.5534034311012729), (('text_video', 0), 0.6026816253933507), (('text_video', 2), 0.5962145110410094), (('text_video', 4), 0.5695036436133645), (('text_video', 9), 0.5485611510791367), (('text_voxaudio', 0), 0.6029552606375701), (('text_voxaudio', 2), 0.5856535454670141), (('text_voxaudio', 4), 0.5763783858105321), (('text_voxaudio', 9), 0.5534034311012729), (('video_voxaudio', 0), 0.5992611848406074), (('video_voxaudio', 2), 0.5829104375257166), (('video_voxaudio', 4), 0.5798157569091159), (('video_voxaudio', 9), 0.5532650802434975), (('text_video_voxaudio', 0), 0.6009029963059243), (('text_video_voxaudio', 2), 0.5933342477026471), (('text_video_voxaudio', 4), 0.5866904991062836), (('text_video_voxaudio', 9), 0.5539568345323741)]}\n",
      "use_crossval: True | use_all_perspectives: True | predict_only_host: True | clf: <class 'sklearn.naive_bayes.GaussianNB'>\n",
      "(136431, 2881)\n"
     ]
    },
    {
     "name": "stderr",
     "output_type": "stream",
     "text": [
      "\n",
      "\n",
      "  0%|          | 0/28 [00:00<?, ?it/s]\u001b[A\u001b[A[Parallel(n_jobs=1)]: Using backend SequentialBackend with 1 concurrent workers.\n",
      "[Parallel(n_jobs=1)]: Done   5 out of   5 | elapsed:    2.7s finished\n"
     ]
    },
    {
     "name": "stdout",
     "output_type": "stream",
     "text": [
      "text label_shift: 0 (38524, 900) (38524,) num features: 300 0.6495421578279535\n"
     ]
    },
    {
     "name": "stderr",
     "output_type": "stream",
     "text": [
      "\n",
      "\n",
      "  4%|▎         | 1/28 [01:00<27:18, 60.69s/it]\u001b[A\u001b[A[Parallel(n_jobs=1)]: Using backend SequentialBackend with 1 concurrent workers.\n",
      "[Parallel(n_jobs=1)]: Using backend SequentialBackend with 1 concurrent workers.\n",
      "[Parallel(n_jobs=1)]: Using backend SequentialBackend with 1 concurrent workers.\n",
      "[Parallel(n_jobs=1)]: Done   5 out of   5 | elapsed:    3.6s finished\n"
     ]
    },
    {
     "name": "stdout",
     "output_type": "stream",
     "text": [
      "text label_shift: 4 (38328, 900) (38328,) num features: 300 0.5533003759881916\n"
     ]
    },
    {
     "name": "stderr",
     "output_type": "stream",
     "text": [
      "[Parallel(n_jobs=1)]: Done   5 out of   5 | elapsed:    3.5s finished\n"
     ]
    },
    {
     "name": "stdout",
     "output_type": "stream",
     "text": [
      "text label_shift: 9 (38083, 900) (38083,) num features: 300 0.5189191297826732\n"
     ]
    },
    {
     "name": "stderr",
     "output_type": "stream",
     "text": [
      "[Parallel(n_jobs=1)]: Using backend SequentialBackend with 1 concurrent workers.\n",
      "[Parallel(n_jobs=1)]: Done   5 out of   5 | elapsed:    4.0s finished\n"
     ]
    },
    {
     "name": "stdout",
     "output_type": "stream",
     "text": [
      "text label_shift: 2 (38426, 900) (38426,) num features: 300 0.5878564811484824\n"
     ]
    },
    {
     "name": "stderr",
     "output_type": "stream",
     "text": [
      "\n",
      "\n",
      "  7%|▋         | 2/28 [01:29<22:09, 51.12s/it]\u001b[A\u001b[A[Parallel(n_jobs=1)]: Done   5 out of   5 | elapsed:   22.9s finished\n"
     ]
    },
    {
     "name": "stdout",
     "output_type": "stream",
     "text": [
      "video label_shift: 0 (38524, 6144) (38524,) num features: 2048 0.5192359413820778\n"
     ]
    },
    {
     "name": "stderr",
     "output_type": "stream",
     "text": [
      "\n",
      "\n",
      " 18%|█▊        | 5/28 [01:51<14:33, 38.00s/it]\u001b[A\u001b[A[Parallel(n_jobs=1)]: Using backend SequentialBackend with 1 concurrent workers.\n",
      "[Parallel(n_jobs=1)]: Done   5 out of   5 | elapsed:   22.6s finished\n"
     ]
    },
    {
     "name": "stdout",
     "output_type": "stream",
     "text": [
      "video label_shift: 2 (38426, 6144) (38426,) num features: 2048 0.5051804947521831\n"
     ]
    },
    {
     "name": "stderr",
     "output_type": "stream",
     "text": [
      "\n",
      "\n",
      " 21%|██▏       | 6/28 [02:17<12:39, 34.51s/it]\u001b[A\u001b[A[Parallel(n_jobs=1)]: Using backend SequentialBackend with 1 concurrent workers.\n",
      "[Parallel(n_jobs=1)]: Done   5 out of   5 | elapsed:    5.8s finished\n"
     ]
    },
    {
     "name": "stdout",
     "output_type": "stream",
     "text": [
      "voxaudio label_shift: 0 (38524, 1536) (38524,) num features: 512 0.6847674467968973\n"
     ]
    },
    {
     "name": "stderr",
     "output_type": "stream",
     "text": [
      "[Parallel(n_jobs=1)]: Using backend SequentialBackend with 1 concurrent workers.\n",
      "[Parallel(n_jobs=1)]: Using backend SequentialBackend with 1 concurrent workers.\n",
      "[Parallel(n_jobs=1)]: Done   5 out of   5 | elapsed:    6.1s finished\n"
     ]
    },
    {
     "name": "stdout",
     "output_type": "stream",
     "text": [
      "voxaudio label_shift: 2 (38426, 1536) (38426,) num features: 512 0.623508876445786\n"
     ]
    },
    {
     "name": "stderr",
     "output_type": "stream",
     "text": [
      "[Parallel(n_jobs=1)]: Done   5 out of   5 | elapsed:   23.2s finished\n"
     ]
    },
    {
     "name": "stdout",
     "output_type": "stream",
     "text": [
      "video label_shift: 4 (38328, 6144) (38328,) num features: 2048 0.4972346271973011\n"
     ]
    },
    {
     "name": "stderr",
     "output_type": "stream",
     "text": [
      "\n",
      "\n",
      " 25%|██▌       | 7/28 [03:19<14:56, 42.69s/it]\u001b[A\u001b[A[Parallel(n_jobs=1)]: Using backend SequentialBackend with 1 concurrent workers.\n",
      "[Parallel(n_jobs=1)]: Using backend SequentialBackend with 1 concurrent workers.\n",
      "[Parallel(n_jobs=1)]: Done   5 out of   5 | elapsed:    5.8s finished\n"
     ]
    },
    {
     "name": "stdout",
     "output_type": "stream",
     "text": [
      "voxaudio label_shift: 4 (38328, 1536) (38328,) num features: 512 0.5934301380226243\n"
     ]
    },
    {
     "name": "stderr",
     "output_type": "stream",
     "text": [
      "[Parallel(n_jobs=1)]: Using backend SequentialBackend with 1 concurrent workers.\n",
      "[Parallel(n_jobs=1)]: Done   5 out of   5 | elapsed:   22.6s finished\n"
     ]
    },
    {
     "name": "stdout",
     "output_type": "stream",
     "text": [
      "video label_shift: 9 (38083, 6144) (38083,) num features: 2048 0.49625909688412584\n"
     ]
    },
    {
     "name": "stderr",
     "output_type": "stream",
     "text": [
      "\n",
      "\n",
      " 29%|██▊       | 8/28 [03:47<12:45, 38.28s/it]\u001b[A\u001b[A[Parallel(n_jobs=1)]: Done   5 out of   5 | elapsed:    5.7s finished\n"
     ]
    },
    {
     "name": "stdout",
     "output_type": "stream",
     "text": [
      "voxaudio label_shift: 9 (38083, 1536) (38083,) num features: 512 0.5547619737142593\n"
     ]
    },
    {
     "name": "stderr",
     "output_type": "stream",
     "text": [
      "\n",
      "\n",
      " 43%|████▎     | 12/28 [03:53<07:15, 27.21s/it]\u001b[A\u001b[A[Parallel(n_jobs=1)]: Using backend SequentialBackend with 1 concurrent workers.\n",
      "[Parallel(n_jobs=1)]: Done   5 out of   5 | elapsed:   26.4s finished\n"
     ]
    },
    {
     "name": "stdout",
     "output_type": "stream",
     "text": [
      "text_video label_shift: 0 (38524, 7044) (38524,) num features: 2348 0.5598077909248287\n"
     ]
    },
    {
     "name": "stderr",
     "output_type": "stream",
     "text": [
      "\n",
      "\n",
      " 46%|████▋     | 13/28 [04:41<08:21, 33.46s/it]\u001b[A\u001b[A[Parallel(n_jobs=1)]: Using backend SequentialBackend with 1 concurrent workers.\n",
      "[Parallel(n_jobs=1)]: Done   5 out of   5 | elapsed:    9.1s finished\n"
     ]
    },
    {
     "name": "stdout",
     "output_type": "stream",
     "text": [
      "text_voxaudio label_shift: 0 (38524, 2436) (38524,) num features: 812 0.6856497951795943\n"
     ]
    },
    {
     "name": "stderr",
     "output_type": "stream",
     "text": [
      "[Parallel(n_jobs=1)]: Using backend SequentialBackend with 1 concurrent workers.\n",
      "[Parallel(n_jobs=1)]: Using backend SequentialBackend with 1 concurrent workers.\n",
      "[Parallel(n_jobs=1)]: Using backend SequentialBackend with 1 concurrent workers.\n",
      "[Parallel(n_jobs=1)]: Using backend SequentialBackend with 1 concurrent workers.\n",
      "[Parallel(n_jobs=1)]: Done   5 out of   5 | elapsed:   10.9s finished\n"
     ]
    },
    {
     "name": "stdout",
     "output_type": "stream",
     "text": [
      "text_voxaudio label_shift: 2 (38426, 2436) (38426,) num features: 812 0.623586628906604\n"
     ]
    },
    {
     "name": "stderr",
     "output_type": "stream",
     "text": [
      "[Parallel(n_jobs=1)]: Done   5 out of   5 | elapsed:   28.3s finished\n"
     ]
    },
    {
     "name": "stdout",
     "output_type": "stream",
     "text": [
      "text_video label_shift: 2 (38426, 7044) (38426,) num features: 2348 0.5242564040462163\n"
     ]
    },
    {
     "name": "stderr",
     "output_type": "stream",
     "text": [
      "\n",
      "\n",
      " 50%|█████     | 14/28 [05:41<09:41, 41.51s/it]\u001b[A\u001b[A[Parallel(n_jobs=1)]: Done   5 out of   5 | elapsed:   29.1s finished\n"
     ]
    },
    {
     "name": "stdout",
     "output_type": "stream",
     "text": [
      "text_video label_shift: 4 (38328, 7044) (38328,) num features: 2348 0.5126536453371967\n"
     ]
    },
    {
     "name": "stderr",
     "output_type": "stream",
     "text": [
      "\n",
      "\n",
      " 54%|█████▎    | 15/28 [05:52<07:00, 32.35s/it]\u001b[A\u001b[A[Parallel(n_jobs=1)]: Done   5 out of   5 | elapsed:   28.5s finished\n"
     ]
    },
    {
     "name": "stdout",
     "output_type": "stream",
     "text": [
      "text_video label_shift: 9 (38083, 7044) (38083,) num features: 2348 0.4989114560751437\n"
     ]
    },
    {
     "name": "stderr",
     "output_type": "stream",
     "text": [
      "\n",
      "\n",
      " 57%|█████▋    | 16/28 [05:58<04:51, 24.28s/it]\u001b[A\u001b[A[Parallel(n_jobs=1)]: Using backend SequentialBackend with 1 concurrent workers.\n",
      "[Parallel(n_jobs=1)]: Done   5 out of   5 | elapsed:    9.5s finished\n"
     ]
    },
    {
     "name": "stdout",
     "output_type": "stream",
     "text": [
      "text_voxaudio label_shift: 4 (38328, 2436) (38328,) num features: 812 0.5962215354146921\n"
     ]
    },
    {
     "name": "stderr",
     "output_type": "stream",
     "text": [
      "\n",
      "\n",
      " 68%|██████▊   | 19/28 [06:28<03:00, 20.08s/it]\u001b[A\u001b[A[Parallel(n_jobs=1)]: Using backend SequentialBackend with 1 concurrent workers.\n",
      "[Parallel(n_jobs=1)]: Done   5 out of   5 | elapsed:    9.7s finished\n"
     ]
    },
    {
     "name": "stdout",
     "output_type": "stream",
     "text": [
      "text_voxaudio label_shift: 9 (38083, 2436) (38083,) num features: 812 0.5555759631540683\n"
     ]
    },
    {
     "name": "stderr",
     "output_type": "stream",
     "text": [
      "\n",
      "\n",
      " 71%|███████▏  | 20/28 [06:54<02:54, 21.78s/it]\u001b[A\u001b[A[Parallel(n_jobs=1)]: Using backend SequentialBackend with 1 concurrent workers.\n",
      "[Parallel(n_jobs=1)]: Done   5 out of   5 | elapsed:   27.4s finished\n"
     ]
    },
    {
     "name": "stdout",
     "output_type": "stream",
     "text": [
      "video_voxaudio label_shift: 0 (38524, 7680) (38524,) num features: 2560 0.6439362344447342\n"
     ]
    },
    {
     "name": "stderr",
     "output_type": "stream",
     "text": [
      "\n",
      "\n",
      " 75%|███████▌  | 21/28 [07:46<03:35, 30.74s/it]\u001b[A\u001b[A[Parallel(n_jobs=1)]: Using backend SequentialBackend with 1 concurrent workers.\n",
      "[Parallel(n_jobs=1)]: Using backend SequentialBackend with 1 concurrent workers.\n",
      "[Parallel(n_jobs=1)]: Using backend SequentialBackend with 1 concurrent workers.\n",
      "[Parallel(n_jobs=1)]: Using backend SequentialBackend with 1 concurrent workers.\n",
      "[Parallel(n_jobs=1)]: Done   5 out of   5 | elapsed:   29.6s finished\n"
     ]
    },
    {
     "name": "stdout",
     "output_type": "stream",
     "text": [
      "video_voxaudio label_shift: 2 (38426, 7680) (38426,) num features: 2560 0.5791904546527735\n"
     ]
    },
    {
     "name": "stderr",
     "output_type": "stream",
     "text": [
      "\n",
      "\n",
      " 79%|███████▊  | 22/28 [08:19<03:09, 31.64s/it]\u001b[A\u001b[A[Parallel(n_jobs=1)]: Done   5 out of   5 | elapsed:   30.9s finished\n"
     ]
    },
    {
     "name": "stdout",
     "output_type": "stream",
     "text": [
      "video_voxaudio label_shift: 4 (38328, 7680) (38328,) num features: 2560 0.5506154899432978\n"
     ]
    },
    {
     "name": "stderr",
     "output_type": "stream",
     "text": [
      "\n",
      "\n",
      " 82%|████████▏ | 23/28 [08:31<02:07, 25.51s/it]\u001b[A\u001b[A[Parallel(n_jobs=1)]: Done   5 out of   5 | elapsed:   31.6s finished\n"
     ]
    },
    {
     "name": "stdout",
     "output_type": "stream",
     "text": [
      "video_voxaudio label_shift: 9 (38083, 7680) (38083,) num features: 2560 0.5195239039885351\n"
     ]
    },
    {
     "name": "stderr",
     "output_type": "stream",
     "text": [
      "\n",
      "\n",
      " 86%|████████▌ | 24/28 [08:36<01:17, 19.34s/it]\u001b[A\u001b[A[Parallel(n_jobs=1)]: Done   5 out of   5 | elapsed:   33.9s finished\n"
     ]
    },
    {
     "name": "stdout",
     "output_type": "stream",
     "text": [
      "text_video_voxaudio label_shift: 0 (38524, 8580) (38524,) num features: 2860 0.6570448111602356\n"
     ]
    },
    {
     "name": "stderr",
     "output_type": "stream",
     "text": [
      "\n",
      "\n",
      " 89%|████████▉ | 25/28 [08:51<00:54, 18.10s/it]\u001b[A\u001b[A[Parallel(n_jobs=1)]: Using backend SequentialBackend with 1 concurrent workers.\n",
      "[Parallel(n_jobs=1)]: Done   5 out of   5 | elapsed:   30.6s finished\n"
     ]
    },
    {
     "name": "stdout",
     "output_type": "stream",
     "text": [
      "text_video_voxaudio label_shift: 2 (38426, 8580) (38426,) num features: 2860 0.5884028140972526\n"
     ]
    },
    {
     "name": "stderr",
     "output_type": "stream",
     "text": [
      "\n",
      "\n",
      " 93%|█████████▎| 26/28 [09:40<00:54, 27.43s/it]\u001b[A\u001b[A[Parallel(n_jobs=1)]: Using backend SequentialBackend with 1 concurrent workers.\n",
      "[Parallel(n_jobs=1)]: Done   5 out of   5 | elapsed:   31.0s finished\n"
     ]
    },
    {
     "name": "stdout",
     "output_type": "stream",
     "text": [
      "text_video_voxaudio label_shift: 4 (38328, 8580) (38328,) num features: 2860 0.5567203312580375\n"
     ]
    },
    {
     "name": "stderr",
     "output_type": "stream",
     "text": [
      "\n",
      "\n",
      " 96%|█████████▋| 27/28 [10:30<00:34, 34.28s/it]\u001b[A\u001b[A[Parallel(n_jobs=1)]: Using backend SequentialBackend with 1 concurrent workers.\n",
      "[Parallel(n_jobs=1)]: Done   5 out of   5 | elapsed:   30.2s finished\n"
     ]
    },
    {
     "name": "stdout",
     "output_type": "stream",
     "text": [
      "text_video_voxaudio label_shift: 9 (38083, 8580) (38083,) num features: 2860 0.5212832267605743\n"
     ]
    },
    {
     "name": "stderr",
     "output_type": "stream",
     "text": [
      "\n",
      "\n",
      "100%|██████████| 28/28 [11:01<00:00, 33.32s/it]\u001b[A\u001b[A"
     ]
    },
    {
     "name": "stdout",
     "output_type": "stream",
     "text": [
      "use_crossval: True | use_all_perspectives: True | predict_only_host: True | clf: <class 'sklearn.naive_bayes.GaussianNB'>\n",
      "{4: [(('text', 0), 0.6495421578279535), (('text', 2), 0.5878564811484824), (('text', 4), 0.5533003759881916), (('text', 9), 0.5189191297826732), (('video', 0), 0.5192359413820778), (('video', 2), 0.5051804947521831), (('video', 4), 0.4972346271973011), (('video', 9), 0.49625909688412584), (('voxaudio', 0), 0.6847674467968973), (('voxaudio', 2), 0.623508876445786), (('voxaudio', 4), 0.5934301380226243), (('voxaudio', 9), 0.5547619737142593), (('text_video', 0), 0.5598077909248287), (('text_video', 2), 0.5242564040462163), (('text_video', 4), 0.5126536453371967), (('text_video', 9), 0.4989114560751437), (('text_voxaudio', 0), 0.6856497951795943), (('text_voxaudio', 2), 0.623586628906604), (('text_voxaudio', 4), 0.5962215354146921), (('text_voxaudio', 9), 0.5555759631540683), (('video_voxaudio', 0), 0.6439362344447342), (('video_voxaudio', 2), 0.5791904546527735), (('video_voxaudio', 4), 0.5506154899432978), (('video_voxaudio', 9), 0.5195239039885351), (('text_video_voxaudio', 0), 0.6570448111602356), (('text_video_voxaudio', 2), 0.5884028140972526), (('text_video_voxaudio', 4), 0.5567203312580375), (('text_video_voxaudio', 9), 0.5212832267605743)]}\n",
      "(132008, 2881)\n"
     ]
    },
    {
     "name": "stderr",
     "output_type": "stream",
     "text": [
      "\n",
      "\n",
      "  0%|          | 0/28 [00:00<?, ?it/s]\u001b[A\u001b[A[Parallel(n_jobs=1)]: Using backend SequentialBackend with 1 concurrent workers.\n",
      "[Parallel(n_jobs=1)]: Done   5 out of   5 | elapsed:    2.6s finished\n"
     ]
    },
    {
     "name": "stdout",
     "output_type": "stream",
     "text": [
      "text label_shift: 0 (35760, 900) (35760,) num features: 300 0.6293332682577489\n"
     ]
    },
    {
     "name": "stderr",
     "output_type": "stream",
     "text": [
      "\n",
      "\n",
      "  4%|▎         | 1/28 [00:59<26:53, 59.77s/it]\u001b[A\u001b[A[Parallel(n_jobs=1)]: Using backend SequentialBackend with 1 concurrent workers.\n",
      "[Parallel(n_jobs=1)]: Using backend SequentialBackend with 1 concurrent workers.\n",
      "[Parallel(n_jobs=1)]: Using backend SequentialBackend with 1 concurrent workers.\n",
      "[Parallel(n_jobs=1)]: Done   5 out of   5 | elapsed:    3.9s finished\n"
     ]
    },
    {
     "name": "stdout",
     "output_type": "stream",
     "text": [
      "text label_shift: 4 (35568, 900) (35568,) num features: 300 0.5509984628634959\n"
     ]
    },
    {
     "name": "stderr",
     "output_type": "stream",
     "text": [
      "[Parallel(n_jobs=1)]: Done   5 out of   5 | elapsed:    4.1s finished\n"
     ]
    },
    {
     "name": "stdout",
     "output_type": "stream",
     "text": [
      "text label_shift: 2 (35664, 900) (35664,) num features: 300 0.5725381480733935\n"
     ]
    },
    {
     "name": "stderr",
     "output_type": "stream",
     "text": [
      "\n",
      "\n",
      "  7%|▋         | 2/28 [01:27<21:42, 50.08s/it]\u001b[A\u001b[A[Parallel(n_jobs=1)]: Done   5 out of   5 | elapsed:    4.1s finished\n"
     ]
    },
    {
     "name": "stdout",
     "output_type": "stream",
     "text": [
      "text label_shift: 9 (35328, 900) (35328,) num features: 300 0.5146047308539099\n"
     ]
    },
    {
     "name": "stderr",
     "output_type": "stream",
     "text": [
      "\n",
      "\n",
      " 14%|█▍        | 4/28 [01:27<14:03, 35.14s/it]\u001b[A\u001b[A[Parallel(n_jobs=1)]: Using backend SequentialBackend with 1 concurrent workers.\n",
      "[Parallel(n_jobs=1)]: Done   5 out of   5 | elapsed:   20.4s finished\n"
     ]
    },
    {
     "name": "stdout",
     "output_type": "stream",
     "text": [
      "video label_shift: 0 (35760, 6144) (35760,) num features: 2048 0.5131997544034145\n"
     ]
    },
    {
     "name": "stderr",
     "output_type": "stream",
     "text": [
      "\n",
      "\n",
      " 18%|█▊        | 5/28 [01:48<11:50, 30.88s/it]\u001b[A\u001b[A[Parallel(n_jobs=1)]: Using backend SequentialBackend with 1 concurrent workers.\n",
      "[Parallel(n_jobs=1)]: Done   5 out of   5 | elapsed:   20.7s finished\n"
     ]
    },
    {
     "name": "stdout",
     "output_type": "stream",
     "text": [
      "video label_shift: 2 (35664, 6144) (35664,) num features: 2048 0.5009821759299846\n"
     ]
    },
    {
     "name": "stderr",
     "output_type": "stream",
     "text": [
      "\n",
      "\n",
      " 21%|██▏       | 6/28 [02:15<10:54, 29.77s/it]\u001b[A\u001b[A[Parallel(n_jobs=1)]: Using backend SequentialBackend with 1 concurrent workers.\n",
      "[Parallel(n_jobs=1)]: Done   5 out of   5 | elapsed:    5.0s finished\n"
     ]
    },
    {
     "name": "stdout",
     "output_type": "stream",
     "text": [
      "voxaudio label_shift: 0 (35760, 1536) (35760,) num features: 512 0.6781307293621237\n"
     ]
    },
    {
     "name": "stderr",
     "output_type": "stream",
     "text": [
      "[Parallel(n_jobs=1)]: Using backend SequentialBackend with 1 concurrent workers.\n",
      "[Parallel(n_jobs=1)]: Using backend SequentialBackend with 1 concurrent workers.\n",
      "[Parallel(n_jobs=1)]: Done   5 out of   5 | elapsed:    5.1s finished\n"
     ]
    },
    {
     "name": "stdout",
     "output_type": "stream",
     "text": [
      "voxaudio label_shift: 2 (35664, 1536) (35664,) num features: 512 0.6240455462862923\n"
     ]
    },
    {
     "name": "stderr",
     "output_type": "stream",
     "text": [
      "[Parallel(n_jobs=1)]: Done   5 out of   5 | elapsed:   21.3s finished\n"
     ]
    },
    {
     "name": "stdout",
     "output_type": "stream",
     "text": [
      "video label_shift: 4 (35568, 6144) (35568,) num features: 2048 0.49538954697376675\n"
     ]
    },
    {
     "name": "stderr",
     "output_type": "stream",
     "text": [
      "\n",
      "\n",
      " 25%|██▌       | 7/28 [03:16<13:36, 38.90s/it]\u001b[A\u001b[A[Parallel(n_jobs=1)]: Using backend SequentialBackend with 1 concurrent workers.\n",
      "[Parallel(n_jobs=1)]: Done   5 out of   5 | elapsed:    4.7s finished\n"
     ]
    },
    {
     "name": "stdout",
     "output_type": "stream",
     "text": [
      "voxaudio label_shift: 4 (35568, 1536) (35568,) num features: 512 0.5953664608759018\n"
     ]
    },
    {
     "name": "stderr",
     "output_type": "stream",
     "text": [
      "[Parallel(n_jobs=1)]: Using backend SequentialBackend with 1 concurrent workers.\n",
      "[Parallel(n_jobs=1)]: Using backend SequentialBackend with 1 concurrent workers.\n",
      "[Parallel(n_jobs=1)]: Done   5 out of   5 | elapsed:   20.6s finished\n"
     ]
    },
    {
     "name": "stdout",
     "output_type": "stream",
     "text": [
      "video label_shift: 9 (35328, 6144) (35328,) num features: 2048 0.48720497403446644\n"
     ]
    },
    {
     "name": "stderr",
     "output_type": "stream",
     "text": [
      "\n",
      "\n",
      " 29%|██▊       | 8/28 [03:43<11:49, 35.48s/it]\u001b[A\u001b[A[Parallel(n_jobs=1)]: Done   5 out of   5 | elapsed:    5.1s finished\n"
     ]
    },
    {
     "name": "stdout",
     "output_type": "stream",
     "text": [
      "voxaudio label_shift: 9 (35328, 1536) (35328,) num features: 512 0.556584695911876\n"
     ]
    },
    {
     "name": "stderr",
     "output_type": "stream",
     "text": [
      "\n",
      "\n",
      " 43%|████▎     | 12/28 [03:48<06:43, 25.22s/it]\u001b[A\u001b[A[Parallel(n_jobs=1)]: Using backend SequentialBackend with 1 concurrent workers.\n",
      "[Parallel(n_jobs=1)]: Done   5 out of   5 | elapsed:   23.5s finished\n"
     ]
    },
    {
     "name": "stdout",
     "output_type": "stream",
     "text": [
      "text_video label_shift: 0 (35760, 7044) (35760,) num features: 2348 0.5485174753508428\n"
     ]
    },
    {
     "name": "stderr",
     "output_type": "stream",
     "text": [
      "\n",
      "\n",
      " 46%|████▋     | 13/28 [04:33<07:47, 31.13s/it]\u001b[A\u001b[A[Parallel(n_jobs=1)]: Using backend SequentialBackend with 1 concurrent workers.\n",
      "[Parallel(n_jobs=1)]: Using backend SequentialBackend with 1 concurrent workers.\n",
      "[Parallel(n_jobs=1)]: Done   5 out of   5 | elapsed:    8.6s finished\n"
     ]
    },
    {
     "name": "stdout",
     "output_type": "stream",
     "text": [
      "text_voxaudio label_shift: 0 (35760, 2436) (35760,) num features: 812 0.6758935655362045\n"
     ]
    },
    {
     "name": "stderr",
     "output_type": "stream",
     "text": [
      "[Parallel(n_jobs=1)]: Using backend SequentialBackend with 1 concurrent workers.\n",
      "[Parallel(n_jobs=1)]: Using backend SequentialBackend with 1 concurrent workers.\n",
      "[Parallel(n_jobs=1)]: Done   5 out of   5 | elapsed:   24.3s finished\n"
     ]
    },
    {
     "name": "stdout",
     "output_type": "stream",
     "text": [
      "text_video label_shift: 2 (35664, 7044) (35664,) num features: 2348 0.5159269842859872\n"
     ]
    },
    {
     "name": "stderr",
     "output_type": "stream",
     "text": [
      "\n",
      "\n",
      " 50%|█████     | 14/28 [05:22<08:30, 36.46s/it]\u001b[A\u001b[A[Parallel(n_jobs=1)]: Using backend SequentialBackend with 1 concurrent workers.\n",
      "[Parallel(n_jobs=1)]: Done   5 out of   5 | elapsed:    9.7s finished\n"
     ]
    },
    {
     "name": "stdout",
     "output_type": "stream",
     "text": [
      "text_voxaudio label_shift: 2 (35664, 2436) (35664,) num features: 812 0.6219146645590208\n"
     ]
    },
    {
     "name": "stderr",
     "output_type": "stream",
     "text": [
      "[Parallel(n_jobs=1)]: Done   5 out of   5 | elapsed:   27.0s finished\n"
     ]
    },
    {
     "name": "stdout",
     "output_type": "stream",
     "text": [
      "text_video label_shift: 4 (35568, 7044) (35568,) num features: 2348 0.5053696658950353\n"
     ]
    },
    {
     "name": "stderr",
     "output_type": "stream",
     "text": [
      "\n",
      "\n",
      " 54%|█████▎    | 15/28 [05:44<06:57, 32.12s/it]\u001b[A\u001b[A[Parallel(n_jobs=1)]: Done   5 out of   5 | elapsed:   26.6s finished\n"
     ]
    },
    {
     "name": "stdout",
     "output_type": "stream",
     "text": [
      "text_video label_shift: 9 (35328, 7044) (35328,) num features: 2348 0.49167687778685903\n"
     ]
    },
    {
     "name": "stderr",
     "output_type": "stream",
     "text": [
      "\n",
      "\n",
      " 57%|█████▋    | 16/28 [05:46<04:36, 23.08s/it]\u001b[A\u001b[A[Parallel(n_jobs=1)]: Using backend SequentialBackend with 1 concurrent workers.\n",
      "[Parallel(n_jobs=1)]: Done   5 out of   5 | elapsed:    8.5s finished\n"
     ]
    },
    {
     "name": "stdout",
     "output_type": "stream",
     "text": [
      "text_voxaudio label_shift: 4 (35568, 2436) (35568,) num features: 812 0.5929198799364814\n"
     ]
    },
    {
     "name": "stderr",
     "output_type": "stream",
     "text": [
      "\n",
      "\n",
      " 68%|██████▊   | 19/28 [06:18<02:54, 19.33s/it]\u001b[A\u001b[A[Parallel(n_jobs=1)]: Using backend SequentialBackend with 1 concurrent workers.\n",
      "[Parallel(n_jobs=1)]: Done   5 out of   5 | elapsed:    8.5s finished\n"
     ]
    },
    {
     "name": "stdout",
     "output_type": "stream",
     "text": [
      "text_voxaudio label_shift: 9 (35328, 2436) (35328,) num features: 812 0.5542064601463389\n"
     ]
    },
    {
     "name": "stderr",
     "output_type": "stream",
     "text": [
      "\n",
      "\n",
      " 71%|███████▏  | 20/28 [06:46<02:54, 21.85s/it]\u001b[A\u001b[A[Parallel(n_jobs=1)]: Using backend SequentialBackend with 1 concurrent workers.\n",
      "[Parallel(n_jobs=1)]: Done   5 out of   5 | elapsed:   25.3s finished\n"
     ]
    },
    {
     "name": "stdout",
     "output_type": "stream",
     "text": [
      "video_voxaudio label_shift: 0 (35760, 7680) (35760,) num features: 2560 0.6367992693470291\n"
     ]
    },
    {
     "name": "stderr",
     "output_type": "stream",
     "text": [
      "\n",
      "\n",
      " 75%|███████▌  | 21/28 [07:29<03:17, 28.27s/it]\u001b[A\u001b[A[Parallel(n_jobs=1)]: Using backend SequentialBackend with 1 concurrent workers.\n",
      "[Parallel(n_jobs=1)]: Using backend SequentialBackend with 1 concurrent workers.\n",
      "[Parallel(n_jobs=1)]: Using backend SequentialBackend with 1 concurrent workers.\n",
      "[Parallel(n_jobs=1)]: Done   5 out of   5 | elapsed:   27.5s finished\n"
     ]
    },
    {
     "name": "stdout",
     "output_type": "stream",
     "text": [
      "video_voxaudio label_shift: 2 (35664, 7680) (35664,) num features: 2560 0.5803327672389804\n"
     ]
    },
    {
     "name": "stderr",
     "output_type": "stream",
     "text": [
      "\n",
      "\n",
      " 79%|███████▊  | 22/28 [08:05<03:03, 30.61s/it]\u001b[A\u001b[A[Parallel(n_jobs=1)]: Using backend SequentialBackend with 1 concurrent workers.\n",
      "[Parallel(n_jobs=1)]: Done   5 out of   5 | elapsed:   28.8s finished\n"
     ]
    },
    {
     "name": "stdout",
     "output_type": "stream",
     "text": [
      "video_voxaudio label_shift: 9 (35328, 7680) (35328,) num features: 2560 0.5148602571679588\n"
     ]
    },
    {
     "name": "stderr",
     "output_type": "stream",
     "text": [
      "[Parallel(n_jobs=1)]: Done   5 out of   5 | elapsed:   29.4s finished\n"
     ]
    },
    {
     "name": "stdout",
     "output_type": "stream",
     "text": [
      "video_voxaudio label_shift: 4 (35568, 7680) (35568,) num features: 2560 0.5515348460754879\n"
     ]
    },
    {
     "name": "stderr",
     "output_type": "stream",
     "text": [
      "\n",
      "\n",
      " 82%|████████▏ | 23/28 [08:20<02:09, 25.98s/it]\u001b[A\u001b[A[Parallel(n_jobs=1)]: Done   5 out of   5 | elapsed:   30.5s finished\n"
     ]
    },
    {
     "name": "stdout",
     "output_type": "stream",
     "text": [
      "text_video_voxaudio label_shift: 0 (35760, 8580) (35760,) num features: 2860 0.6443497027146645\n"
     ]
    },
    {
     "name": "stderr",
     "output_type": "stream",
     "text": [
      "\n",
      "\n",
      " 89%|████████▉ | 25/28 [08:38<01:02, 20.86s/it]\u001b[A\u001b[A[Parallel(n_jobs=1)]: Using backend SequentialBackend with 1 concurrent workers.\n",
      "[Parallel(n_jobs=1)]: Done   5 out of   5 | elapsed:   28.2s finished\n"
     ]
    },
    {
     "name": "stdout",
     "output_type": "stream",
     "text": [
      "text_video_voxaudio label_shift: 2 (35664, 8580) (35664,) num features: 2860 0.5869780437216483\n"
     ]
    },
    {
     "name": "stderr",
     "output_type": "stream",
     "text": [
      "\n",
      "\n",
      " 93%|█████████▎| 26/28 [09:28<00:59, 29.51s/it]\u001b[A\u001b[A[Parallel(n_jobs=1)]: Using backend SequentialBackend with 1 concurrent workers.\n",
      "[Parallel(n_jobs=1)]: Done   5 out of   5 | elapsed:   28.3s finished\n"
     ]
    },
    {
     "name": "stdout",
     "output_type": "stream",
     "text": [
      "text_video_voxaudio label_shift: 4 (35568, 8580) (35568,) num features: 2860 0.5575232676128528\n"
     ]
    },
    {
     "name": "stderr",
     "output_type": "stream",
     "text": [
      "\n",
      "\n",
      " 96%|█████████▋| 27/28 [10:10<00:33, 33.42s/it]\u001b[A\u001b[A[Parallel(n_jobs=1)]: Using backend SequentialBackend with 1 concurrent workers.\n",
      "[Parallel(n_jobs=1)]: Done   5 out of   5 | elapsed:   27.9s finished\n"
     ]
    },
    {
     "name": "stdout",
     "output_type": "stream",
     "text": [
      "text_video_voxaudio label_shift: 9 (35328, 8580) (35328,) num features: 2860 0.5180867523869178\n"
     ]
    },
    {
     "name": "stderr",
     "output_type": "stream",
     "text": [
      "\n",
      "\n",
      "100%|██████████| 28/28 [10:42<00:00, 32.89s/it]\u001b[A\u001b[A"
     ]
    },
    {
     "name": "stdout",
     "output_type": "stream",
     "text": [
      "use_crossval: True | use_all_perspectives: True | predict_only_host: True | clf: <class 'sklearn.naive_bayes.GaussianNB'>\n",
      "{4: [(('text', 0), 0.6495421578279535), (('text', 2), 0.5878564811484824), (('text', 4), 0.5533003759881916), (('text', 9), 0.5189191297826732), (('video', 0), 0.5192359413820778), (('video', 2), 0.5051804947521831), (('video', 4), 0.4972346271973011), (('video', 9), 0.49625909688412584), (('voxaudio', 0), 0.6847674467968973), (('voxaudio', 2), 0.623508876445786), (('voxaudio', 4), 0.5934301380226243), (('voxaudio', 9), 0.5547619737142593), (('text_video', 0), 0.5598077909248287), (('text_video', 2), 0.5242564040462163), (('text_video', 4), 0.5126536453371967), (('text_video', 9), 0.4989114560751437), (('text_voxaudio', 0), 0.6856497951795943), (('text_voxaudio', 2), 0.623586628906604), (('text_voxaudio', 4), 0.5962215354146921), (('text_voxaudio', 9), 0.5555759631540683), (('video_voxaudio', 0), 0.6439362344447342), (('video_voxaudio', 2), 0.5791904546527735), (('video_voxaudio', 4), 0.5506154899432978), (('video_voxaudio', 9), 0.5195239039885351), (('text_video_voxaudio', 0), 0.6570448111602356), (('text_video_voxaudio', 2), 0.5884028140972526), (('text_video_voxaudio', 4), 0.5567203312580375), (('text_video_voxaudio', 9), 0.5212832267605743)], 5: [(('text', 0), 0.6293332682577489), (('text', 2), 0.5725381480733935), (('text', 4), 0.5509984628634959), (('text', 9), 0.5146047308539099), (('video', 0), 0.5131997544034145), (('video', 2), 0.5009821759299846), (('video', 4), 0.49538954697376675), (('video', 9), 0.48720497403446644), (('voxaudio', 0), 0.6781307293621237), (('voxaudio', 2), 0.6240455462862923), (('voxaudio', 4), 0.5953664608759018), (('voxaudio', 9), 0.556584695911876), (('text_video', 0), 0.5485174753508428), (('text_video', 2), 0.5159269842859872), (('text_video', 4), 0.5053696658950353), (('text_video', 9), 0.49167687778685903), (('text_voxaudio', 0), 0.6758935655362045), (('text_voxaudio', 2), 0.6219146645590208), (('text_voxaudio', 4), 0.5929198799364814), (('text_voxaudio', 9), 0.5542064601463389), (('video_voxaudio', 0), 0.6367992693470291), (('video_voxaudio', 2), 0.5803327672389804), (('video_voxaudio', 4), 0.5515348460754879), (('video_voxaudio', 9), 0.5148602571679588), (('text_video_voxaudio', 0), 0.6443497027146645), (('text_video_voxaudio', 2), 0.5869780437216483), (('text_video_voxaudio', 4), 0.5575232676128528), (('text_video_voxaudio', 9), 0.5180867523869178)]}\n",
      "(131113, 2881)\n"
     ]
    },
    {
     "name": "stderr",
     "output_type": "stream",
     "text": [
      "\n",
      "\n",
      "  0%|          | 0/28 [00:00<?, ?it/s]\u001b[A\u001b[A[Parallel(n_jobs=1)]: Using backend SequentialBackend with 1 concurrent workers.\n",
      "[Parallel(n_jobs=1)]: Done   5 out of   5 | elapsed:    2.6s finished\n"
     ]
    },
    {
     "name": "stdout",
     "output_type": "stream",
     "text": [
      "text label_shift: 0 (36887, 900) (36887,) num features: 300 0.6178053693988834\n"
     ]
    },
    {
     "name": "stderr",
     "output_type": "stream",
     "text": [
      "\n",
      "\n",
      "  4%|▎         | 1/28 [00:59<26:51, 59.69s/it]\u001b[A\u001b[A[Parallel(n_jobs=1)]: Using backend SequentialBackend with 1 concurrent workers.\n",
      "[Parallel(n_jobs=1)]: Using backend SequentialBackend with 1 concurrent workers.\n",
      "[Parallel(n_jobs=1)]: Using backend SequentialBackend with 1 concurrent workers.\n",
      "[Parallel(n_jobs=1)]: Done   5 out of   5 | elapsed:    3.6s finished\n"
     ]
    },
    {
     "name": "stdout",
     "output_type": "stream",
     "text": [
      "text label_shift: 4 (36695, 900) (36695,) num features: 300 0.5585227779257285\n"
     ]
    },
    {
     "name": "stderr",
     "output_type": "stream",
     "text": [
      "[Parallel(n_jobs=1)]: Done   5 out of   5 | elapsed:    3.7s finished\n"
     ]
    },
    {
     "name": "stdout",
     "output_type": "stream",
     "text": [
      "text label_shift: 9 (36455, 900) (36455,) num features: 300 0.5312027592742684\n"
     ]
    },
    {
     "name": "stderr",
     "output_type": "stream",
     "text": [
      "[Parallel(n_jobs=1)]: Done   5 out of   5 | elapsed:    4.1s finished\n"
     ]
    },
    {
     "name": "stdout",
     "output_type": "stream",
     "text": [
      "text label_shift: 2 (36791, 900) (36791,) num features: 300 0.5818258581896032\n"
     ]
    },
    {
     "name": "stderr",
     "output_type": "stream",
     "text": [
      "\n",
      "\n",
      "  7%|▋         | 2/28 [01:26<21:37, 49.91s/it]\u001b[A\u001b[A[Parallel(n_jobs=1)]: Using backend SequentialBackend with 1 concurrent workers.\n",
      "[Parallel(n_jobs=1)]: Done   5 out of   5 | elapsed:   21.2s finished\n"
     ]
    },
    {
     "name": "stdout",
     "output_type": "stream",
     "text": [
      "video label_shift: 0 (36887, 6144) (36887,) num features: 2048 0.510017427611629\n"
     ]
    },
    {
     "name": "stderr",
     "output_type": "stream",
     "text": [
      "\n",
      "\n",
      " 18%|█▊        | 5/28 [01:49<14:15, 37.21s/it]\u001b[A\u001b[A[Parallel(n_jobs=1)]: Using backend SequentialBackend with 1 concurrent workers.\n",
      "[Parallel(n_jobs=1)]: Done   5 out of   5 | elapsed:   21.0s finished\n"
     ]
    },
    {
     "name": "stdout",
     "output_type": "stream",
     "text": [
      "video label_shift: 2 (36791, 6144) (36791,) num features: 2048 0.5000424730897097\n"
     ]
    },
    {
     "name": "stderr",
     "output_type": "stream",
     "text": [
      "\n",
      "\n",
      " 21%|██▏       | 6/28 [02:14<12:21, 33.69s/it]\u001b[A\u001b[A[Parallel(n_jobs=1)]: Using backend SequentialBackend with 1 concurrent workers.\n",
      "[Parallel(n_jobs=1)]: Done   5 out of   5 | elapsed:    5.3s finished\n"
     ]
    },
    {
     "name": "stdout",
     "output_type": "stream",
     "text": [
      "voxaudio label_shift: 0 (36887, 1536) (36887,) num features: 512 0.6384634536644452\n"
     ]
    },
    {
     "name": "stderr",
     "output_type": "stream",
     "text": [
      "[Parallel(n_jobs=1)]: Using backend SequentialBackend with 1 concurrent workers.\n",
      "[Parallel(n_jobs=1)]: Using backend SequentialBackend with 1 concurrent workers.\n",
      "[Parallel(n_jobs=1)]: Done   5 out of   5 | elapsed:    5.5s finished\n"
     ]
    },
    {
     "name": "stdout",
     "output_type": "stream",
     "text": [
      "voxaudio label_shift: 2 (36791, 1536) (36791,) num features: 512 0.598868891473415\n"
     ]
    },
    {
     "name": "stderr",
     "output_type": "stream",
     "text": [
      "[Parallel(n_jobs=1)]: Done   5 out of   5 | elapsed:   22.0s finished\n"
     ]
    },
    {
     "name": "stdout",
     "output_type": "stream",
     "text": [
      "video label_shift: 4 (36695, 6144) (36695,) num features: 2048 0.4949456954532815\n"
     ]
    },
    {
     "name": "stderr",
     "output_type": "stream",
     "text": [
      "\n",
      "\n",
      " 25%|██▌       | 7/28 [03:16<14:44, 42.12s/it]\u001b[A\u001b[A[Parallel(n_jobs=1)]: Using backend SequentialBackend with 1 concurrent workers.\n",
      "[Parallel(n_jobs=1)]: Using backend SequentialBackend with 1 concurrent workers.\n",
      "[Parallel(n_jobs=1)]: Done   5 out of   5 | elapsed:    5.5s finished\n"
     ]
    },
    {
     "name": "stdout",
     "output_type": "stream",
     "text": [
      "voxaudio label_shift: 4 (36695, 1536) (36695,) num features: 512 0.5768354206541544\n"
     ]
    },
    {
     "name": "stderr",
     "output_type": "stream",
     "text": [
      "[Parallel(n_jobs=1)]: Done   5 out of   5 | elapsed:   21.5s finished\n"
     ]
    },
    {
     "name": "stdout",
     "output_type": "stream",
     "text": [
      "video label_shift: 9 (36455, 6144) (36455,) num features: 2048 0.49452904971774253\n"
     ]
    },
    {
     "name": "stderr",
     "output_type": "stream",
     "text": [
      "\n",
      "\n",
      " 29%|██▊       | 8/28 [03:42<12:25, 37.26s/it]\u001b[A\u001b[A[Parallel(n_jobs=1)]: Using backend SequentialBackend with 1 concurrent workers.\n",
      "[Parallel(n_jobs=1)]: Done   5 out of   5 | elapsed:    5.4s finished\n"
     ]
    },
    {
     "name": "stdout",
     "output_type": "stream",
     "text": [
      "voxaudio label_shift: 9 (36455, 1536) (36455,) num features: 512 0.5456873438450707\n"
     ]
    },
    {
     "name": "stderr",
     "output_type": "stream",
     "text": [
      "\n",
      "\n",
      " 43%|████▎     | 12/28 [03:49<07:05, 26.61s/it]\u001b[A\u001b[A[Parallel(n_jobs=1)]: Using backend SequentialBackend with 1 concurrent workers.\n",
      "[Parallel(n_jobs=1)]: Done   5 out of   5 | elapsed:   24.8s finished\n"
     ]
    },
    {
     "name": "stdout",
     "output_type": "stream",
     "text": [
      "text_video label_shift: 0 (36887, 7044) (36887,) num features: 2348 0.5604133805155787\n"
     ]
    },
    {
     "name": "stderr",
     "output_type": "stream",
     "text": [
      "\n",
      "\n",
      " 46%|████▋     | 13/28 [04:35<08:04, 32.33s/it]\u001b[A\u001b[A[Parallel(n_jobs=1)]: Using backend SequentialBackend with 1 concurrent workers.\n",
      "[Parallel(n_jobs=1)]: Done   5 out of   5 | elapsed:    8.7s finished\n"
     ]
    },
    {
     "name": "stdout",
     "output_type": "stream",
     "text": [
      "text_voxaudio label_shift: 0 (36887, 2436) (36887,) num features: 812 0.6388698291130707\n"
     ]
    },
    {
     "name": "stderr",
     "output_type": "stream",
     "text": [
      "[Parallel(n_jobs=1)]: Using backend SequentialBackend with 1 concurrent workers.\n",
      "[Parallel(n_jobs=1)]: Using backend SequentialBackend with 1 concurrent workers.\n",
      "[Parallel(n_jobs=1)]: Using backend SequentialBackend with 1 concurrent workers.\n",
      "[Parallel(n_jobs=1)]: Using backend SequentialBackend with 1 concurrent workers.\n",
      "[Parallel(n_jobs=1)]: Done   5 out of   5 | elapsed:   24.8s finished\n"
     ]
    },
    {
     "name": "stdout",
     "output_type": "stream",
     "text": [
      "text_video label_shift: 2 (36791, 7044) (36791,) num features: 2348 0.5263519468901487\n"
     ]
    },
    {
     "name": "stderr",
     "output_type": "stream",
     "text": [
      "\n",
      "\n",
      " 50%|█████     | 14/28 [05:25<08:47, 37.69s/it]\u001b[A\u001b[A[Parallel(n_jobs=1)]: Done   5 out of   5 | elapsed:   10.1s finished\n"
     ]
    },
    {
     "name": "stdout",
     "output_type": "stream",
     "text": [
      "text_voxaudio label_shift: 2 (36791, 2436) (36791,) num features: 812 0.5970204153245715\n"
     ]
    },
    {
     "name": "stderr",
     "output_type": "stream",
     "text": [
      "[Parallel(n_jobs=1)]: Done   5 out of   5 | elapsed:   27.8s finished\n"
     ]
    },
    {
     "name": "stdout",
     "output_type": "stream",
     "text": [
      "text_video label_shift: 4 (36695, 7044) (36695,) num features: 2348 0.5140485921163134\n"
     ]
    },
    {
     "name": "stderr",
     "output_type": "stream",
     "text": [
      "\n",
      "\n",
      " 54%|█████▎    | 15/28 [05:48<07:10, 33.14s/it]\u001b[A\u001b[A[Parallel(n_jobs=1)]: Done   5 out of   5 | elapsed:   27.6s finished\n"
     ]
    },
    {
     "name": "stdout",
     "output_type": "stream",
     "text": [
      "text_video label_shift: 9 (36455, 7044) (36455,) num features: 2348 0.5038823293744128\n"
     ]
    },
    {
     "name": "stderr",
     "output_type": "stream",
     "text": [
      "\n",
      "\n",
      " 57%|█████▋    | 16/28 [05:51<04:51, 24.27s/it]\u001b[A\u001b[A[Parallel(n_jobs=1)]: Using backend SequentialBackend with 1 concurrent workers.\n",
      "[Parallel(n_jobs=1)]: Done   5 out of   5 | elapsed:    9.0s finished\n"
     ]
    },
    {
     "name": "stdout",
     "output_type": "stream",
     "text": [
      "text_voxaudio label_shift: 4 (36695, 2436) (36695,) num features: 812 0.5751184652218585\n"
     ]
    },
    {
     "name": "stderr",
     "output_type": "stream",
     "text": [
      "\n",
      "\n",
      " 68%|██████▊   | 19/28 [06:19<02:57, 19.77s/it]\u001b[A\u001b[A[Parallel(n_jobs=1)]: Using backend SequentialBackend with 1 concurrent workers.\n",
      "[Parallel(n_jobs=1)]: Done   5 out of   5 | elapsed:    9.1s finished\n"
     ]
    },
    {
     "name": "stdout",
     "output_type": "stream",
     "text": [
      "text_voxaudio label_shift: 9 (36455, 2436) (36455,) num features: 812 0.5435472004175821\n"
     ]
    },
    {
     "name": "stderr",
     "output_type": "stream",
     "text": [
      "\n",
      "\n",
      " 71%|███████▏  | 20/28 [06:43<02:47, 20.97s/it]\u001b[A\u001b[A[Parallel(n_jobs=1)]: Using backend SequentialBackend with 1 concurrent workers.\n",
      "[Parallel(n_jobs=1)]: Done   5 out of   5 | elapsed:   26.0s finished\n"
     ]
    },
    {
     "name": "stdout",
     "output_type": "stream",
     "text": [
      "video_voxaudio label_shift: 0 (36887, 7680) (36887,) num features: 2560 0.605389037026129\n"
     ]
    },
    {
     "name": "stderr",
     "output_type": "stream",
     "text": [
      "\n",
      "\n",
      " 75%|███████▌  | 21/28 [07:30<03:22, 28.89s/it]\u001b[A\u001b[A[Parallel(n_jobs=1)]: Using backend SequentialBackend with 1 concurrent workers.\n",
      "[Parallel(n_jobs=1)]: Using backend SequentialBackend with 1 concurrent workers.\n",
      "[Parallel(n_jobs=1)]: Using backend SequentialBackend with 1 concurrent workers.\n",
      "[Parallel(n_jobs=1)]: Using backend SequentialBackend with 1 concurrent workers.\n",
      "[Parallel(n_jobs=1)]: Done   5 out of   5 | elapsed:   27.8s finished\n"
     ]
    },
    {
     "name": "stdout",
     "output_type": "stream",
     "text": [
      "video_voxaudio label_shift: 2 (36791, 7680) (36791,) num features: 2560 0.5620124601398042\n"
     ]
    },
    {
     "name": "stderr",
     "output_type": "stream",
     "text": [
      "\n",
      "\n",
      " 79%|███████▊  | 22/28 [08:08<03:09, 31.60s/it]\u001b[A\u001b[A[Parallel(n_jobs=1)]: Done   5 out of   5 | elapsed:   30.5s finished\n"
     ]
    },
    {
     "name": "stdout",
     "output_type": "stream",
     "text": [
      "video_voxaudio label_shift: 4 (36695, 7680) (36695,) num features: 2560 0.5398553919339418\n"
     ]
    },
    {
     "name": "stderr",
     "output_type": "stream",
     "text": [
      "\n",
      "\n",
      " 82%|████████▏ | 23/28 [08:25<02:15, 27.11s/it]\u001b[A\u001b[A[Parallel(n_jobs=1)]: Done   5 out of   5 | elapsed:   30.3s finished\n"
     ]
    },
    {
     "name": "stdout",
     "output_type": "stream",
     "text": [
      "video_voxaudio label_shift: 9 (36455, 7680) (36455,) num features: 2560 0.5178999911351139\n"
     ]
    },
    {
     "name": "stderr",
     "output_type": "stream",
     "text": [
      "\n",
      "\n",
      " 86%|████████▌ | 24/28 [08:26<01:17, 19.47s/it]\u001b[A\u001b[A[Parallel(n_jobs=1)]: Done   5 out of   5 | elapsed:   32.6s finished\n"
     ]
    },
    {
     "name": "stdout",
     "output_type": "stream",
     "text": [
      "text_video_voxaudio label_shift: 0 (36887, 8580) (36887,) num features: 2860 0.6141996704576366\n"
     ]
    },
    {
     "name": "stderr",
     "output_type": "stream",
     "text": [
      "\n",
      "\n",
      " 89%|████████▉ | 25/28 [08:37<00:50, 16.95s/it]\u001b[A\u001b[A[Parallel(n_jobs=1)]: Using backend SequentialBackend with 1 concurrent workers.\n",
      "[Parallel(n_jobs=1)]: Done   5 out of   5 | elapsed:   29.4s finished\n"
     ]
    },
    {
     "name": "stdout",
     "output_type": "stream",
     "text": [
      "text_video_voxaudio label_shift: 2 (36791, 8580) (36791,) num features: 2860 0.5720691790307317\n"
     ]
    },
    {
     "name": "stderr",
     "output_type": "stream",
     "text": [
      "\n",
      "\n",
      " 93%|█████████▎| 26/28 [09:27<00:53, 26.64s/it]\u001b[A\u001b[A[Parallel(n_jobs=1)]: Using backend SequentialBackend with 1 concurrent workers.\n",
      "[Parallel(n_jobs=1)]: Done   5 out of   5 | elapsed:   29.8s finished\n"
     ]
    },
    {
     "name": "stdout",
     "output_type": "stream",
     "text": [
      "text_video_voxaudio label_shift: 4 (36695, 8580) (36695,) num features: 2860 0.5493119402730458\n"
     ]
    },
    {
     "name": "stderr",
     "output_type": "stream",
     "text": [
      "\n",
      "\n",
      " 96%|█████████▋| 27/28 [10:12<00:32, 32.16s/it]\u001b[A\u001b[A[Parallel(n_jobs=1)]: Using backend SequentialBackend with 1 concurrent workers.\n",
      "[Parallel(n_jobs=1)]: Done   5 out of   5 | elapsed:   28.6s finished\n"
     ]
    },
    {
     "name": "stdout",
     "output_type": "stream",
     "text": [
      "text_video_voxaudio label_shift: 9 (36455, 8580) (36455,) num features: 2860 0.5231664349198406\n"
     ]
    },
    {
     "name": "stderr",
     "output_type": "stream",
     "text": [
      "\n",
      "\n",
      "100%|██████████| 28/28 [10:46<00:00, 32.83s/it]\u001b[A\u001b[A"
     ]
    },
    {
     "name": "stdout",
     "output_type": "stream",
     "text": [
      "use_crossval: True | use_all_perspectives: True | predict_only_host: True | clf: <class 'sklearn.naive_bayes.GaussianNB'>\n",
      "{4: [(('text', 0), 0.6495421578279535), (('text', 2), 0.5878564811484824), (('text', 4), 0.5533003759881916), (('text', 9), 0.5189191297826732), (('video', 0), 0.5192359413820778), (('video', 2), 0.5051804947521831), (('video', 4), 0.4972346271973011), (('video', 9), 0.49625909688412584), (('voxaudio', 0), 0.6847674467968973), (('voxaudio', 2), 0.623508876445786), (('voxaudio', 4), 0.5934301380226243), (('voxaudio', 9), 0.5547619737142593), (('text_video', 0), 0.5598077909248287), (('text_video', 2), 0.5242564040462163), (('text_video', 4), 0.5126536453371967), (('text_video', 9), 0.4989114560751437), (('text_voxaudio', 0), 0.6856497951795943), (('text_voxaudio', 2), 0.623586628906604), (('text_voxaudio', 4), 0.5962215354146921), (('text_voxaudio', 9), 0.5555759631540683), (('video_voxaudio', 0), 0.6439362344447342), (('video_voxaudio', 2), 0.5791904546527735), (('video_voxaudio', 4), 0.5506154899432978), (('video_voxaudio', 9), 0.5195239039885351), (('text_video_voxaudio', 0), 0.6570448111602356), (('text_video_voxaudio', 2), 0.5884028140972526), (('text_video_voxaudio', 4), 0.5567203312580375), (('text_video_voxaudio', 9), 0.5212832267605743)], 5: [(('text', 0), 0.6293332682577489), (('text', 2), 0.5725381480733935), (('text', 4), 0.5509984628634959), (('text', 9), 0.5146047308539099), (('video', 0), 0.5131997544034145), (('video', 2), 0.5009821759299846), (('video', 4), 0.49538954697376675), (('video', 9), 0.48720497403446644), (('voxaudio', 0), 0.6781307293621237), (('voxaudio', 2), 0.6240455462862923), (('voxaudio', 4), 0.5953664608759018), (('voxaudio', 9), 0.556584695911876), (('text_video', 0), 0.5485174753508428), (('text_video', 2), 0.5159269842859872), (('text_video', 4), 0.5053696658950353), (('text_video', 9), 0.49167687778685903), (('text_voxaudio', 0), 0.6758935655362045), (('text_voxaudio', 2), 0.6219146645590208), (('text_voxaudio', 4), 0.5929198799364814), (('text_voxaudio', 9), 0.5542064601463389), (('video_voxaudio', 0), 0.6367992693470291), (('video_voxaudio', 2), 0.5803327672389804), (('video_voxaudio', 4), 0.5515348460754879), (('video_voxaudio', 9), 0.5148602571679588), (('text_video_voxaudio', 0), 0.6443497027146645), (('text_video_voxaudio', 2), 0.5869780437216483), (('text_video_voxaudio', 4), 0.5575232676128528), (('text_video_voxaudio', 9), 0.5180867523869178)], 10: [(('text', 0), 0.6178053693988834), (('text', 2), 0.5818258581896032), (('text', 4), 0.5585227779257285), (('text', 9), 0.5312027592742684), (('video', 0), 0.510017427611629), (('video', 2), 0.5000424730897097), (('video', 4), 0.4949456954532815), (('video', 9), 0.49452904971774253), (('voxaudio', 0), 0.6384634536644452), (('voxaudio', 2), 0.598868891473415), (('voxaudio', 4), 0.5768354206541544), (('voxaudio', 9), 0.5456873438450707), (('text_video', 0), 0.5604133805155787), (('text_video', 2), 0.5263519468901487), (('text_video', 4), 0.5140485921163134), (('text_video', 9), 0.5038823293744128), (('text_voxaudio', 0), 0.6388698291130707), (('text_voxaudio', 2), 0.5970204153245715), (('text_voxaudio', 4), 0.5751184652218585), (('text_voxaudio', 9), 0.5435472004175821), (('video_voxaudio', 0), 0.605389037026129), (('video_voxaudio', 2), 0.5620124601398042), (('video_voxaudio', 4), 0.5398553919339418), (('video_voxaudio', 9), 0.5178999911351139), (('text_video_voxaudio', 0), 0.6141996704576366), (('text_video_voxaudio', 2), 0.5720691790307317), (('text_video_voxaudio', 4), 0.5493119402730458), (('text_video_voxaudio', 9), 0.5231664349198406)]}\n",
      "(129245, 2881)\n"
     ]
    },
    {
     "name": "stderr",
     "output_type": "stream",
     "text": [
      "\n",
      "\n",
      "  0%|          | 0/28 [00:00<?, ?it/s]\u001b[A\u001b[A[Parallel(n_jobs=1)]: Using backend SequentialBackend with 1 concurrent workers.\n",
      "[Parallel(n_jobs=1)]: Done   5 out of   5 | elapsed:    2.6s finished\n"
     ]
    },
    {
     "name": "stdout",
     "output_type": "stream",
     "text": [
      "text label_shift: 0 (36146, 900) (36146,) num features: 300 0.5786259010933945\n"
     ]
    },
    {
     "name": "stderr",
     "output_type": "stream",
     "text": [
      "\n",
      "\n",
      "  4%|▎         | 1/28 [00:58<26:18, 58.48s/it]\u001b[A\u001b[A[Parallel(n_jobs=1)]: Using backend SequentialBackend with 1 concurrent workers.\n",
      "[Parallel(n_jobs=1)]: Using backend SequentialBackend with 1 concurrent workers.\n",
      "[Parallel(n_jobs=1)]: Using backend SequentialBackend with 1 concurrent workers.\n",
      "[Parallel(n_jobs=1)]: Done   5 out of   5 | elapsed:    3.5s finished\n"
     ]
    },
    {
     "name": "stdout",
     "output_type": "stream",
     "text": [
      "text label_shift: 9 (35723, 900) (35723,) num features: 300 0.5281201234374271\n"
     ]
    },
    {
     "name": "stderr",
     "output_type": "stream",
     "text": [
      "[Parallel(n_jobs=1)]: Done   5 out of   5 | elapsed:    3.8s finished\n"
     ]
    },
    {
     "name": "stdout",
     "output_type": "stream",
     "text": [
      "text label_shift: 2 (36052, 900) (36052,) num features: 300 0.5620501700560834\n"
     ]
    },
    {
     "name": "stderr",
     "output_type": "stream",
     "text": [
      "\n",
      "\n",
      "  7%|▋         | 2/28 [01:24<21:03, 48.61s/it]\u001b[A\u001b[A[Parallel(n_jobs=1)]: Done   5 out of   5 | elapsed:    3.7s finished\n"
     ]
    },
    {
     "name": "stdout",
     "output_type": "stream",
     "text": [
      "text label_shift: 4 (35958, 900) (35958,) num features: 300 0.5459432048681542\n"
     ]
    },
    {
     "name": "stderr",
     "output_type": "stream",
     "text": [
      "\n",
      "\n",
      " 11%|█         | 3/28 [01:24<14:16, 34.25s/it]\u001b[A\u001b[A[Parallel(n_jobs=1)]: Using backend SequentialBackend with 1 concurrent workers.\n",
      "[Parallel(n_jobs=1)]: Done   5 out of   5 | elapsed:   20.5s finished\n"
     ]
    },
    {
     "name": "stdout",
     "output_type": "stream",
     "text": [
      "video label_shift: 0 (36146, 6144) (36146,) num features: 2048 0.4919217145786135\n"
     ]
    },
    {
     "name": "stderr",
     "output_type": "stream",
     "text": [
      "\n",
      "\n",
      " 18%|█▊        | 5/28 [01:47<10:29, 27.37s/it]\u001b[A\u001b[A[Parallel(n_jobs=1)]: Using backend SequentialBackend with 1 concurrent workers.\n",
      "[Parallel(n_jobs=1)]: Done   5 out of   5 | elapsed:   20.8s finished\n"
     ]
    },
    {
     "name": "stdout",
     "output_type": "stream",
     "text": [
      "video label_shift: 2 (36052, 6144) (36052,) num features: 2048 0.48577166850293196\n"
     ]
    },
    {
     "name": "stderr",
     "output_type": "stream",
     "text": [
      "\n",
      "\n",
      " 21%|██▏       | 6/28 [02:13<09:50, 26.85s/it]\u001b[A\u001b[A[Parallel(n_jobs=1)]: Using backend SequentialBackend with 1 concurrent workers.\n",
      "[Parallel(n_jobs=1)]: Done   5 out of   5 | elapsed:    5.2s finished\n"
     ]
    },
    {
     "name": "stdout",
     "output_type": "stream",
     "text": [
      "voxaudio label_shift: 0 (36146, 1536) (36146,) num features: 512 0.5708241681394307\n"
     ]
    },
    {
     "name": "stderr",
     "output_type": "stream",
     "text": [
      "[Parallel(n_jobs=1)]: Using backend SequentialBackend with 1 concurrent workers.\n",
      "[Parallel(n_jobs=1)]: Using backend SequentialBackend with 1 concurrent workers.\n",
      "[Parallel(n_jobs=1)]: Done   5 out of   5 | elapsed:    5.5s finished\n"
     ]
    },
    {
     "name": "stdout",
     "output_type": "stream",
     "text": [
      "voxaudio label_shift: 2 (36052, 1536) (36052,) num features: 512 0.5476818879818169\n"
     ]
    },
    {
     "name": "stderr",
     "output_type": "stream",
     "text": [
      "[Parallel(n_jobs=1)]: Using backend SequentialBackend with 1 concurrent workers.\n",
      "[Parallel(n_jobs=1)]: Done   5 out of   5 | elapsed:   21.9s finished\n"
     ]
    },
    {
     "name": "stdout",
     "output_type": "stream",
     "text": [
      "video label_shift: 4 (35958, 6144) (35958,) num features: 2048 0.484370943842948\n"
     ]
    },
    {
     "name": "stderr",
     "output_type": "stream",
     "text": [
      "\n",
      "\n",
      " 25%|██▌       | 7/28 [03:14<13:03, 37.30s/it]\u001b[A\u001b[A[Parallel(n_jobs=1)]: Using backend SequentialBackend with 1 concurrent workers.\n",
      "[Parallel(n_jobs=1)]: Done   5 out of   5 | elapsed:    5.2s finished\n"
     ]
    },
    {
     "name": "stdout",
     "output_type": "stream",
     "text": [
      "voxaudio label_shift: 4 (35958, 1536) (35958,) num features: 512 0.5343189422756695\n"
     ]
    },
    {
     "name": "stderr",
     "output_type": "stream",
     "text": [
      "[Parallel(n_jobs=1)]: Done   5 out of   5 | elapsed:   20.8s finished\n"
     ]
    },
    {
     "name": "stdout",
     "output_type": "stream",
     "text": [
      "video label_shift: 9 (35723, 6144) (35723,) num features: 2048 0.4862690727222514\n"
     ]
    },
    {
     "name": "stderr",
     "output_type": "stream",
     "text": [
      "\n",
      "\n",
      " 29%|██▊       | 8/28 [03:36<10:53, 32.65s/it]\u001b[A\u001b[A[Parallel(n_jobs=1)]: Using backend SequentialBackend with 1 concurrent workers.\n",
      "[Parallel(n_jobs=1)]: Done   5 out of   5 | elapsed:    5.3s finished\n"
     ]
    },
    {
     "name": "stdout",
     "output_type": "stream",
     "text": [
      "voxaudio label_shift: 9 (35723, 1536) (35723,) num features: 512 0.5137034411128298\n"
     ]
    },
    {
     "name": "stderr",
     "output_type": "stream",
     "text": [
      "\n",
      "\n",
      " 43%|████▎     | 12/28 [03:46<06:17, 23.60s/it]\u001b[A\u001b[A[Parallel(n_jobs=1)]: Using backend SequentialBackend with 1 concurrent workers.\n",
      "[Parallel(n_jobs=1)]: Done   5 out of   5 | elapsed:   24.1s finished\n"
     ]
    },
    {
     "name": "stdout",
     "output_type": "stream",
     "text": [
      "text_video label_shift: 0 (36146, 7044) (36146,) num features: 2348 0.5322858197359758\n"
     ]
    },
    {
     "name": "stderr",
     "output_type": "stream",
     "text": [
      "\n",
      "\n",
      " 46%|████▋     | 13/28 [04:23<06:55, 27.71s/it]\u001b[A\u001b[A[Parallel(n_jobs=1)]: Using backend SequentialBackend with 1 concurrent workers.\n",
      "[Parallel(n_jobs=1)]: Done   5 out of   5 | elapsed:    8.6s finished\n"
     ]
    },
    {
     "name": "stdout",
     "output_type": "stream",
     "text": [
      "text_voxaudio label_shift: 0 (36146, 2436) (36146,) num features: 812 0.5805626102181413\n"
     ]
    },
    {
     "name": "stderr",
     "output_type": "stream",
     "text": [
      "[Parallel(n_jobs=1)]: Using backend SequentialBackend with 1 concurrent workers.\n",
      "[Parallel(n_jobs=1)]: Using backend SequentialBackend with 1 concurrent workers.\n",
      "[Parallel(n_jobs=1)]: Using backend SequentialBackend with 1 concurrent workers.\n",
      "[Parallel(n_jobs=1)]: Using backend SequentialBackend with 1 concurrent workers.\n",
      "[Parallel(n_jobs=1)]: Done   5 out of   5 | elapsed:   24.7s finished\n"
     ]
    },
    {
     "name": "stdout",
     "output_type": "stream",
     "text": [
      "text_video label_shift: 2 (36052, 7044) (36052,) num features: 2348 0.5145081748940191\n"
     ]
    },
    {
     "name": "stderr",
     "output_type": "stream",
     "text": [
      "\n",
      "\n",
      " 50%|█████     | 14/28 [05:21<08:31, 36.57s/it]\u001b[A\u001b[A[Parallel(n_jobs=1)]: Done   5 out of   5 | elapsed:   10.0s finished\n"
     ]
    },
    {
     "name": "stdout",
     "output_type": "stream",
     "text": [
      "text_voxaudio label_shift: 2 (36052, 2436) (36052,) num features: 812 0.5579727078321679\n"
     ]
    },
    {
     "name": "stderr",
     "output_type": "stream",
     "text": [
      "[Parallel(n_jobs=1)]: Done   5 out of   5 | elapsed:   27.1s finished\n"
     ]
    },
    {
     "name": "stdout",
     "output_type": "stream",
     "text": [
      "text_video label_shift: 9 (35723, 7044) (35723,) num features: 2348 0.4901602111269184\n"
     ]
    },
    {
     "name": "stderr",
     "output_type": "stream",
     "text": [
      "[Parallel(n_jobs=1)]: Done   5 out of   5 | elapsed:   27.0s finished\n"
     ]
    },
    {
     "name": "stdout",
     "output_type": "stream",
     "text": [
      "text_video label_shift: 4 (35958, 7044) (35958,) num features: 2348 0.5062856580242049\n"
     ]
    },
    {
     "name": "stderr",
     "output_type": "stream",
     "text": [
      "\n",
      "\n",
      " 54%|█████▎    | 15/28 [05:41<06:52, 31.72s/it]\u001b[A\u001b[A[Parallel(n_jobs=1)]: Using backend SequentialBackend with 1 concurrent workers.\n",
      "[Parallel(n_jobs=1)]: Done   5 out of   5 | elapsed:    8.6s finished\n"
     ]
    },
    {
     "name": "stdout",
     "output_type": "stream",
     "text": [
      "text_voxaudio label_shift: 4 (35958, 2436) (35958,) num features: 812 0.5434962617806927\n"
     ]
    },
    {
     "name": "stderr",
     "output_type": "stream",
     "text": [
      "\n",
      "\n",
      " 68%|██████▊   | 19/28 [06:06<03:36, 24.09s/it]\u001b[A\u001b[A[Parallel(n_jobs=1)]: Using backend SequentialBackend with 1 concurrent workers.\n",
      "[Parallel(n_jobs=1)]: Done   5 out of   5 | elapsed:    9.0s finished\n"
     ]
    },
    {
     "name": "stdout",
     "output_type": "stream",
     "text": [
      "text_voxaudio label_shift: 9 (35723, 2436) (35723,) num features: 812 0.5211499126398458\n"
     ]
    },
    {
     "name": "stderr",
     "output_type": "stream",
     "text": [
      "\n",
      "\n",
      " 71%|███████▏  | 20/28 [06:37<03:29, 26.18s/it]\u001b[A\u001b[A[Parallel(n_jobs=1)]: Using backend SequentialBackend with 1 concurrent workers.\n",
      "[Parallel(n_jobs=1)]: Done   5 out of   5 | elapsed:   25.8s finished\n"
     ]
    },
    {
     "name": "stdout",
     "output_type": "stream",
     "text": [
      "video_voxaudio label_shift: 0 (36146, 7680) (36146,) num features: 2560 0.5331987019395331\n"
     ]
    },
    {
     "name": "stderr",
     "output_type": "stream",
     "text": [
      "\n",
      "\n",
      " 75%|███████▌  | 21/28 [07:25<03:49, 32.75s/it]\u001b[A\u001b[A[Parallel(n_jobs=1)]: Using backend SequentialBackend with 1 concurrent workers.\n",
      "[Parallel(n_jobs=1)]: Using backend SequentialBackend with 1 concurrent workers.\n",
      "[Parallel(n_jobs=1)]: Using backend SequentialBackend with 1 concurrent workers.\n",
      "[Parallel(n_jobs=1)]: Using backend SequentialBackend with 1 concurrent workers.\n",
      "[Parallel(n_jobs=1)]: Done   5 out of   5 | elapsed:   27.7s finished\n"
     ]
    },
    {
     "name": "stdout",
     "output_type": "stream",
     "text": [
      "video_voxaudio label_shift: 2 (36052, 7680) (36052,) num features: 2560 0.5128989789300309\n"
     ]
    },
    {
     "name": "stderr",
     "output_type": "stream",
     "text": [
      "\n",
      "\n",
      " 79%|███████▊  | 22/28 [07:58<03:17, 32.87s/it]\u001b[A\u001b[A[Parallel(n_jobs=1)]: Done   5 out of   5 | elapsed:   29.9s finished\n"
     ]
    },
    {
     "name": "stdout",
     "output_type": "stream",
     "text": [
      "video_voxaudio label_shift: 4 (35958, 7680) (35958,) num features: 2560 0.5040330469631348\n"
     ]
    },
    {
     "name": "stderr",
     "output_type": "stream",
     "text": [
      "\n",
      "\n",
      " 82%|████████▏ | 23/28 [08:12<02:16, 27.23s/it]\u001b[A\u001b[A[Parallel(n_jobs=1)]: Done   5 out of   5 | elapsed:   30.0s finished\n"
     ]
    },
    {
     "name": "stdout",
     "output_type": "stream",
     "text": [
      "video_voxaudio label_shift: 9 (35723, 7680) (35723,) num features: 2560 0.4883124401513572\n"
     ]
    },
    {
     "name": "stderr",
     "output_type": "stream",
     "text": [
      "\n",
      "\n",
      " 86%|████████▌ | 24/28 [08:14<01:17, 19.42s/it]\u001b[A\u001b[A[Parallel(n_jobs=1)]: Done   5 out of   5 | elapsed:   32.7s finished\n"
     ]
    },
    {
     "name": "stdout",
     "output_type": "stream",
     "text": [
      "text_video_voxaudio label_shift: 0 (36146, 8580) (36146,) num features: 2860 0.5504345663224062\n"
     ]
    },
    {
     "name": "stderr",
     "output_type": "stream",
     "text": [
      "\n",
      "\n",
      " 89%|████████▉ | 25/28 [08:21<00:47, 15.89s/it]\u001b[A\u001b[A[Parallel(n_jobs=1)]: Using backend SequentialBackend with 1 concurrent workers.\n",
      "[Parallel(n_jobs=1)]: Done   5 out of   5 | elapsed:   28.4s finished\n"
     ]
    },
    {
     "name": "stdout",
     "output_type": "stream",
     "text": [
      "text_video_voxaudio label_shift: 2 (36052, 8580) (36052,) num features: 2860 0.5306792466098086\n"
     ]
    },
    {
     "name": "stderr",
     "output_type": "stream",
     "text": [
      "\n",
      "\n",
      " 93%|█████████▎| 26/28 [09:15<00:54, 27.21s/it]\u001b[A\u001b[A[Parallel(n_jobs=1)]: Using backend SequentialBackend with 1 concurrent workers.\n",
      "[Parallel(n_jobs=1)]: Using backend SequentialBackend with 1 concurrent workers.\n",
      "[Parallel(n_jobs=1)]: Done   5 out of   5 | elapsed:   29.4s finished\n"
     ]
    },
    {
     "name": "stdout",
     "output_type": "stream",
     "text": [
      "text_video_voxaudio label_shift: 4 (35958, 8580) (35958,) num features: 2860 0.51727122597475\n"
     ]
    },
    {
     "name": "stderr",
     "output_type": "stream",
     "text": [
      "\n",
      "\n",
      " 96%|█████████▋| 27/28 [10:06<00:34, 34.45s/it]\u001b[A\u001b[A[Parallel(n_jobs=1)]: Done   5 out of   5 | elapsed:   29.1s finished\n"
     ]
    },
    {
     "name": "stdout",
     "output_type": "stream",
     "text": [
      "text_video_voxaudio label_shift: 9 (35723, 8580) (35723,) num features: 2860 0.49497493921464975\n"
     ]
    },
    {
     "name": "stderr",
     "output_type": "stream",
     "text": [
      "\n",
      "\n",
      "100%|██████████| 28/28 [10:32<00:00, 31.73s/it]\u001b[A\u001b[A"
     ]
    },
    {
     "name": "stdout",
     "output_type": "stream",
     "text": [
      "use_crossval: True | use_all_perspectives: True | predict_only_host: True | clf: <class 'sklearn.naive_bayes.GaussianNB'>\n",
      "{4: [(('text', 0), 0.6495421578279535), (('text', 2), 0.5878564811484824), (('text', 4), 0.5533003759881916), (('text', 9), 0.5189191297826732), (('video', 0), 0.5192359413820778), (('video', 2), 0.5051804947521831), (('video', 4), 0.4972346271973011), (('video', 9), 0.49625909688412584), (('voxaudio', 0), 0.6847674467968973), (('voxaudio', 2), 0.623508876445786), (('voxaudio', 4), 0.5934301380226243), (('voxaudio', 9), 0.5547619737142593), (('text_video', 0), 0.5598077909248287), (('text_video', 2), 0.5242564040462163), (('text_video', 4), 0.5126536453371967), (('text_video', 9), 0.4989114560751437), (('text_voxaudio', 0), 0.6856497951795943), (('text_voxaudio', 2), 0.623586628906604), (('text_voxaudio', 4), 0.5962215354146921), (('text_voxaudio', 9), 0.5555759631540683), (('video_voxaudio', 0), 0.6439362344447342), (('video_voxaudio', 2), 0.5791904546527735), (('video_voxaudio', 4), 0.5506154899432978), (('video_voxaudio', 9), 0.5195239039885351), (('text_video_voxaudio', 0), 0.6570448111602356), (('text_video_voxaudio', 2), 0.5884028140972526), (('text_video_voxaudio', 4), 0.5567203312580375), (('text_video_voxaudio', 9), 0.5212832267605743)], 5: [(('text', 0), 0.6293332682577489), (('text', 2), 0.5725381480733935), (('text', 4), 0.5509984628634959), (('text', 9), 0.5146047308539099), (('video', 0), 0.5131997544034145), (('video', 2), 0.5009821759299846), (('video', 4), 0.49538954697376675), (('video', 9), 0.48720497403446644), (('voxaudio', 0), 0.6781307293621237), (('voxaudio', 2), 0.6240455462862923), (('voxaudio', 4), 0.5953664608759018), (('voxaudio', 9), 0.556584695911876), (('text_video', 0), 0.5485174753508428), (('text_video', 2), 0.5159269842859872), (('text_video', 4), 0.5053696658950353), (('text_video', 9), 0.49167687778685903), (('text_voxaudio', 0), 0.6758935655362045), (('text_voxaudio', 2), 0.6219146645590208), (('text_voxaudio', 4), 0.5929198799364814), (('text_voxaudio', 9), 0.5542064601463389), (('video_voxaudio', 0), 0.6367992693470291), (('video_voxaudio', 2), 0.5803327672389804), (('video_voxaudio', 4), 0.5515348460754879), (('video_voxaudio', 9), 0.5148602571679588), (('text_video_voxaudio', 0), 0.6443497027146645), (('text_video_voxaudio', 2), 0.5869780437216483), (('text_video_voxaudio', 4), 0.5575232676128528), (('text_video_voxaudio', 9), 0.5180867523869178)], 10: [(('text', 0), 0.6178053693988834), (('text', 2), 0.5818258581896032), (('text', 4), 0.5585227779257285), (('text', 9), 0.5312027592742684), (('video', 0), 0.510017427611629), (('video', 2), 0.5000424730897097), (('video', 4), 0.4949456954532815), (('video', 9), 0.49452904971774253), (('voxaudio', 0), 0.6384634536644452), (('voxaudio', 2), 0.598868891473415), (('voxaudio', 4), 0.5768354206541544), (('voxaudio', 9), 0.5456873438450707), (('text_video', 0), 0.5604133805155787), (('text_video', 2), 0.5263519468901487), (('text_video', 4), 0.5140485921163134), (('text_video', 9), 0.5038823293744128), (('text_voxaudio', 0), 0.6388698291130707), (('text_voxaudio', 2), 0.5970204153245715), (('text_voxaudio', 4), 0.5751184652218585), (('text_voxaudio', 9), 0.5435472004175821), (('video_voxaudio', 0), 0.605389037026129), (('video_voxaudio', 2), 0.5620124601398042), (('video_voxaudio', 4), 0.5398553919339418), (('video_voxaudio', 9), 0.5178999911351139), (('text_video_voxaudio', 0), 0.6141996704576366), (('text_video_voxaudio', 2), 0.5720691790307317), (('text_video_voxaudio', 4), 0.5493119402730458), (('text_video_voxaudio', 9), 0.5231664349198406)], 30: [(('text', 0), 0.5786259010933945), (('text', 2), 0.5620501700560834), (('text', 4), 0.5459432048681542), (('text', 9), 0.5281201234374271), (('video', 0), 0.4919217145786135), (('video', 2), 0.48577166850293196), (('video', 4), 0.484370943842948), (('video', 9), 0.4862690727222514), (('voxaudio', 0), 0.5708241681394307), (('voxaudio', 2), 0.5476818879818169), (('voxaudio', 4), 0.5343189422756695), (('voxaudio', 9), 0.5137034411128298), (('text_video', 0), 0.5322858197359758), (('text_video', 2), 0.5145081748940191), (('text_video', 4), 0.5062856580242049), (('text_video', 9), 0.4901602111269184), (('text_voxaudio', 0), 0.5805626102181413), (('text_voxaudio', 2), 0.5579727078321679), (('text_voxaudio', 4), 0.5434962617806927), (('text_voxaudio', 9), 0.5211499126398458), (('video_voxaudio', 0), 0.5331987019395331), (('video_voxaudio', 2), 0.5128989789300309), (('video_voxaudio', 4), 0.5040330469631348), (('video_voxaudio', 9), 0.4883124401513572), (('text_video_voxaudio', 0), 0.5504345663224062), (('text_video_voxaudio', 2), 0.5306792466098086), (('text_video_voxaudio', 4), 0.51727122597475), (('text_video_voxaudio', 9), 0.49497493921464975)]}\n",
      "use_crossval: True | use_all_perspectives: False | predict_only_host: False | clf: <class 'sklearn.naive_bayes.GaussianNB'>\n",
      "(136431, 2881)\n"
     ]
    },
    {
     "name": "stderr",
     "output_type": "stream",
     "text": [
      "\n",
      "\n",
      "  0%|          | 0/28 [00:00<?, ?it/s]\u001b[A\u001b[A[Parallel(n_jobs=1)]: Using backend SequentialBackend with 1 concurrent workers.\n",
      "[Parallel(n_jobs=1)]: Using backend SequentialBackend with 1 concurrent workers.\n",
      "[Parallel(n_jobs=1)]: Done   5 out of   5 | elapsed:    6.0s finished\n"
     ]
    },
    {
     "name": "stdout",
     "output_type": "stream",
     "text": [
      "text label_shift: 0 (136431, 300) (136431,) num features: 300 0.671555662971522\n"
     ]
    },
    {
     "name": "stderr",
     "output_type": "stream",
     "text": [
      "\n",
      "\n",
      "  4%|▎         | 1/28 [00:40<18:05, 40.21s/it]\u001b[A\u001b[A[Parallel(n_jobs=1)]: Using backend SequentialBackend with 1 concurrent workers.\n",
      "[Parallel(n_jobs=1)]: Using backend SequentialBackend with 1 concurrent workers.\n",
      "[Parallel(n_jobs=1)]: Using backend SequentialBackend with 1 concurrent workers.\n",
      "[Parallel(n_jobs=1)]: Using backend SequentialBackend with 1 concurrent workers.\n",
      "[Parallel(n_jobs=1)]: Done   5 out of   5 | elapsed:    6.2s finished\n"
     ]
    },
    {
     "name": "stdout",
     "output_type": "stream",
     "text": [
      "text label_shift: 9 (134874, 300) (134874,) num features: 300 0.5748549256198585\n"
     ]
    },
    {
     "name": "stderr",
     "output_type": "stream",
     "text": [
      "[Parallel(n_jobs=1)]: Done   5 out of   5 | elapsed:    7.3s finished\n"
     ]
    },
    {
     "name": "stdout",
     "output_type": "stream",
     "text": [
      "text label_shift: 2 (136085, 300) (136085,) num features: 300 0.6123672704559651\n"
     ]
    },
    {
     "name": "stderr",
     "output_type": "stream",
     "text": [
      "\n",
      "\n",
      "  7%|▋         | 2/28 [01:13<16:27, 37.99s/it]\u001b[A\u001b[A[Parallel(n_jobs=1)]: Done   5 out of   5 | elapsed:    7.2s finished\n"
     ]
    },
    {
     "name": "stdout",
     "output_type": "stream",
     "text": [
      "text label_shift: 4 (135739, 300) (135739,) num features: 300 0.599591738660769\n"
     ]
    },
    {
     "name": "stderr",
     "output_type": "stream",
     "text": [
      "\n",
      "\n",
      " 11%|█         | 3/28 [01:13<11:08, 26.74s/it]\u001b[A\u001b[A[Parallel(n_jobs=1)]: Done   5 out of   5 | elapsed:   55.9s finished\n"
     ]
    },
    {
     "name": "stdout",
     "output_type": "stream",
     "text": [
      "video label_shift: 0 (136431, 2048) (136431,) num features: 2048 0.5576084483926695\n"
     ]
    },
    {
     "name": "stderr",
     "output_type": "stream",
     "text": [
      "\n",
      "\n",
      " 18%|█▊        | 5/28 [01:30<08:08, 21.26s/it]\u001b[A\u001b[A[Parallel(n_jobs=1)]: Using backend SequentialBackend with 1 concurrent workers.\n",
      "[Parallel(n_jobs=1)]: Using backend SequentialBackend with 1 concurrent workers.\n",
      "[Parallel(n_jobs=1)]: Done   5 out of   5 | elapsed:   11.0s finished\n"
     ]
    },
    {
     "name": "stdout",
     "output_type": "stream",
     "text": [
      "voxaudio label_shift: 0 (136431, 512) (136431,) num features: 512 0.7031173301892262\n"
     ]
    },
    {
     "name": "stderr",
     "output_type": "stream",
     "text": [
      "[Parallel(n_jobs=1)]: Done   5 out of   5 | elapsed:   56.6s finished\n"
     ]
    },
    {
     "name": "stdout",
     "output_type": "stream",
     "text": [
      "video label_shift: 2 (136085, 2048) (136085,) num features: 2048 0.5461145607524709\n"
     ]
    },
    {
     "name": "stderr",
     "output_type": "stream",
     "text": [
      "\n",
      "\n",
      " 21%|██▏       | 6/28 [02:03<09:07, 24.90s/it]\u001b[A\u001b[A[Parallel(n_jobs=1)]: Using backend SequentialBackend with 1 concurrent workers.\n",
      "[Parallel(n_jobs=1)]: Using backend SequentialBackend with 1 concurrent workers.\n",
      "[Parallel(n_jobs=1)]: Done   5 out of   5 | elapsed:   11.1s finished\n"
     ]
    },
    {
     "name": "stdout",
     "output_type": "stream",
     "text": [
      "voxaudio label_shift: 2 (136085, 512) (136085,) num features: 512 0.6603813792850057\n"
     ]
    },
    {
     "name": "stderr",
     "output_type": "stream",
     "text": [
      "[Parallel(n_jobs=1)]: Using backend SequentialBackend with 1 concurrent workers.\n",
      "[Parallel(n_jobs=1)]: Using backend SequentialBackend with 1 concurrent workers.\n",
      "[Parallel(n_jobs=1)]: Done   5 out of   5 | elapsed:   56.6s finished\n"
     ]
    },
    {
     "name": "stdout",
     "output_type": "stream",
     "text": [
      "video label_shift: 4 (135739, 2048) (135739,) num features: 2048 0.542276239221862\n"
     ]
    },
    {
     "name": "stderr",
     "output_type": "stream",
     "text": [
      "\n",
      "\n",
      " 25%|██▌       | 7/28 [02:45<10:31, 30.05s/it]\u001b[A\u001b[A[Parallel(n_jobs=1)]: Done   5 out of   5 | elapsed:   11.2s finished\n"
     ]
    },
    {
     "name": "stdout",
     "output_type": "stream",
     "text": [
      "voxaudio label_shift: 4 (135739, 512) (135739,) num features: 512 0.6436909856762745\n"
     ]
    },
    {
     "name": "stderr",
     "output_type": "stream",
     "text": [
      "[Parallel(n_jobs=1)]: Using backend SequentialBackend with 1 concurrent workers.\n",
      "[Parallel(n_jobs=1)]: Done   5 out of   5 | elapsed:   56.4s finished\n"
     ]
    },
    {
     "name": "stdout",
     "output_type": "stream",
     "text": [
      "video label_shift: 9 (134874, 2048) (134874,) num features: 2048 0.5310812002880885\n"
     ]
    },
    {
     "name": "stderr",
     "output_type": "stream",
     "text": [
      "\n",
      "\n",
      " 29%|██▊       | 8/28 [03:14<09:54, 29.72s/it]\u001b[A\u001b[A[Parallel(n_jobs=1)]: Done   5 out of   5 | elapsed:   10.6s finished\n"
     ]
    },
    {
     "name": "stdout",
     "output_type": "stream",
     "text": [
      "voxaudio label_shift: 9 (134874, 512) (134874,) num features: 512 0.625969299650994\n"
     ]
    },
    {
     "name": "stderr",
     "output_type": "stream",
     "text": [
      "\n",
      "\n",
      " 43%|████▎     | 12/28 [03:16<05:34, 20.91s/it]\u001b[A\u001b[A[Parallel(n_jobs=1)]: Using backend SequentialBackend with 1 concurrent workers.\n",
      "[Parallel(n_jobs=1)]: Done   5 out of   5 | elapsed:  1.1min finished\n"
     ]
    },
    {
     "name": "stdout",
     "output_type": "stream",
     "text": [
      "text_video label_shift: 0 (136431, 2348) (136431,) num features: 2348 0.6414308004973109\n"
     ]
    },
    {
     "name": "stderr",
     "output_type": "stream",
     "text": [
      "\n",
      "\n",
      " 46%|████▋     | 13/28 [03:46<05:54, 23.66s/it]\u001b[A\u001b[A[Parallel(n_jobs=1)]: Using backend SequentialBackend with 1 concurrent workers.\n",
      "[Parallel(n_jobs=1)]: Using backend SequentialBackend with 1 concurrent workers.\n",
      "[Parallel(n_jobs=1)]: Using backend SequentialBackend with 1 concurrent workers.\n",
      "[Parallel(n_jobs=1)]: Done   5 out of   5 | elapsed:   18.3s finished\n"
     ]
    },
    {
     "name": "stdout",
     "output_type": "stream",
     "text": [
      "text_voxaudio label_shift: 0 (136431, 812) (136431,) num features: 812 0.6990200529449961\n"
     ]
    },
    {
     "name": "stderr",
     "output_type": "stream",
     "text": [
      "[Parallel(n_jobs=1)]: Using backend SequentialBackend with 1 concurrent workers.\n",
      "[Parallel(n_jobs=1)]: Done   5 out of   5 | elapsed:   18.7s finished\n"
     ]
    },
    {
     "name": "stdout",
     "output_type": "stream",
     "text": [
      "text_voxaudio label_shift: 2 (136085, 812) (136085,) num features: 812 0.643935775434471\n"
     ]
    },
    {
     "name": "stderr",
     "output_type": "stream",
     "text": [
      "[Parallel(n_jobs=1)]: Done   5 out of   5 | elapsed:  1.1min finished\n"
     ]
    },
    {
     "name": "stdout",
     "output_type": "stream",
     "text": [
      "text_video label_shift: 2 (136085, 2348) (136085,) num features: 2348 0.6015064114340302\n"
     ]
    },
    {
     "name": "stderr",
     "output_type": "stream",
     "text": [
      "\n",
      "\n",
      " 50%|█████     | 14/28 [04:46<08:06, 34.72s/it]\u001b[A\u001b[A[Parallel(n_jobs=1)]: Using backend SequentialBackend with 1 concurrent workers.\n",
      "[Parallel(n_jobs=1)]: Done   5 out of   5 | elapsed:  1.1min finished\n"
     ]
    },
    {
     "name": "stdout",
     "output_type": "stream",
     "text": [
      "text_video label_shift: 4 (135739, 2348) (135739,) num features: 2348 0.585388173515563\n"
     ]
    },
    {
     "name": "stderr",
     "output_type": "stream",
     "text": [
      "\n",
      "\n",
      " 54%|█████▎    | 15/28 [05:01<06:13, 28.74s/it]\u001b[A\u001b[A[Parallel(n_jobs=1)]: Done   5 out of   5 | elapsed:  1.1min finished\n"
     ]
    },
    {
     "name": "stdout",
     "output_type": "stream",
     "text": [
      "text_video label_shift: 9 (134874, 2348) (134874,) num features: 2348 0.5584102798197941\n"
     ]
    },
    {
     "name": "stderr",
     "output_type": "stream",
     "text": [
      "\n",
      "\n",
      " 57%|█████▋    | 16/28 [05:02<04:04, 20.41s/it]\u001b[A\u001b[A[Parallel(n_jobs=1)]: Done   5 out of   5 | elapsed:   18.4s finished\n"
     ]
    },
    {
     "name": "stdout",
     "output_type": "stream",
     "text": [
      "text_voxaudio label_shift: 4 (135739, 812) (135739,) num features: 812 0.6280211827849997\n"
     ]
    },
    {
     "name": "stderr",
     "output_type": "stream",
     "text": [
      "\n",
      "\n",
      " 68%|██████▊   | 19/28 [05:13<02:17, 15.33s/it]\u001b[A\u001b[A[Parallel(n_jobs=1)]: Using backend SequentialBackend with 1 concurrent workers.\n",
      "[Parallel(n_jobs=1)]: Using backend SequentialBackend with 1 concurrent workers.\n",
      "[Parallel(n_jobs=1)]: Done   5 out of   5 | elapsed:   16.8s finished\n"
     ]
    },
    {
     "name": "stdout",
     "output_type": "stream",
     "text": [
      "text_voxaudio label_shift: 9 (134874, 812) (134874,) num features: 812 0.6061136811592092\n"
     ]
    },
    {
     "name": "stderr",
     "output_type": "stream",
     "text": [
      "\n",
      "\n",
      " 71%|███████▏  | 20/28 [05:32<02:12, 16.57s/it]\u001b[A\u001b[A[Parallel(n_jobs=1)]: Using backend SequentialBackend with 1 concurrent workers.\n",
      "[Parallel(n_jobs=1)]: Using backend SequentialBackend with 1 concurrent workers.\n",
      "[Parallel(n_jobs=1)]: Using backend SequentialBackend with 1 concurrent workers.\n",
      "[Parallel(n_jobs=1)]: Using backend SequentialBackend with 1 concurrent workers.\n",
      "[Parallel(n_jobs=1)]: Done   5 out of   5 | elapsed:  1.2min finished\n"
     ]
    },
    {
     "name": "stdout",
     "output_type": "stream",
     "text": [
      "video_voxaudio label_shift: 0 (136431, 2560) (136431,) num features: 2560 0.6645193458483327\n"
     ]
    },
    {
     "name": "stderr",
     "output_type": "stream",
     "text": [
      "\n",
      "\n",
      " 75%|███████▌  | 21/28 [06:32<03:27, 29.62s/it]\u001b[A\u001b[A[Parallel(n_jobs=1)]: Using backend SequentialBackend with 1 concurrent workers.\n",
      "[Parallel(n_jobs=1)]: Done   5 out of   5 | elapsed:  1.3min finished\n"
     ]
    },
    {
     "name": "stdout",
     "output_type": "stream",
     "text": [
      "video_voxaudio label_shift: 2 (136085, 2560) (136085,) num features: 2560 0.6246463607304259\n"
     ]
    },
    {
     "name": "stderr",
     "output_type": "stream",
     "text": [
      "\n",
      "\n",
      " 79%|███████▊  | 22/28 [07:10<03:13, 32.17s/it]\u001b[A\u001b[A[Parallel(n_jobs=1)]: Done   5 out of   5 | elapsed:  1.4min finished\n"
     ]
    },
    {
     "name": "stdout",
     "output_type": "stream",
     "text": [
      "text_video_voxaudio label_shift: 0 (136431, 2860) (136431,) num features: 2860 0.6900486348399804\n"
     ]
    },
    {
     "name": "stderr",
     "output_type": "stream",
     "text": [
      "[Parallel(n_jobs=1)]: Done   5 out of   5 | elapsed:  1.3min finished\n"
     ]
    },
    {
     "name": "stdout",
     "output_type": "stream",
     "text": [
      "video_voxaudio label_shift: 4 (135739, 2560) (135739,) num features: 2560 0.6089922861517474\n"
     ]
    },
    {
     "name": "stderr",
     "output_type": "stream",
     "text": [
      "\n",
      "\n",
      " 82%|████████▏ | 23/28 [07:24<02:13, 26.70s/it]\u001b[A\u001b[A[Parallel(n_jobs=1)]: Done   5 out of   5 | elapsed:  1.3min finished\n"
     ]
    },
    {
     "name": "stdout",
     "output_type": "stream",
     "text": [
      "video_voxaudio label_shift: 9 (134874, 2560) (134874,) num features: 2560 0.5845457285507417\n"
     ]
    },
    {
     "name": "stderr",
     "output_type": "stream",
     "text": [
      "\n",
      "\n",
      " 86%|████████▌ | 24/28 [07:25<01:15, 18.87s/it]\u001b[A\u001b[A[Parallel(n_jobs=1)]: Using backend SequentialBackend with 1 concurrent workers.\n",
      "[Parallel(n_jobs=1)]: Done   5 out of   5 | elapsed:  1.4min finished\n"
     ]
    },
    {
     "name": "stdout",
     "output_type": "stream",
     "text": [
      "text_video_voxaudio label_shift: 2 (136085, 2860) (136085,) num features: 2860 0.6407980306426131\n"
     ]
    },
    {
     "name": "stderr",
     "output_type": "stream",
     "text": [
      "\n",
      "\n",
      " 93%|█████████▎| 26/28 [08:03<00:37, 18.92s/it]\u001b[A\u001b[A[Parallel(n_jobs=1)]: Using backend SequentialBackend with 1 concurrent workers.\n",
      "[Parallel(n_jobs=1)]: Done   5 out of   5 | elapsed:  1.3min finished\n"
     ]
    },
    {
     "name": "stdout",
     "output_type": "stream",
     "text": [
      "text_video_voxaudio label_shift: 4 (135739, 2860) (135739,) num features: 2860 0.6231443382952732\n"
     ]
    },
    {
     "name": "stderr",
     "output_type": "stream",
     "text": [
      "\n",
      "\n",
      " 96%|█████████▋| 27/28 [09:00<00:30, 30.31s/it]\u001b[A\u001b[A[Parallel(n_jobs=1)]: Done   5 out of   5 | elapsed:  1.3min finished\n"
     ]
    },
    {
     "name": "stdout",
     "output_type": "stream",
     "text": [
      "text_video_voxaudio label_shift: 9 (134874, 2860) (134874,) num features: 2860 0.5955040202445318\n"
     ]
    },
    {
     "name": "stderr",
     "output_type": "stream",
     "text": [
      "\n",
      "\n",
      "100%|██████████| 28/28 [09:33<00:00, 31.32s/it]\u001b[A\u001b[A"
     ]
    },
    {
     "name": "stdout",
     "output_type": "stream",
     "text": [
      "use_crossval: True | use_all_perspectives: False | predict_only_host: False | clf: <class 'sklearn.naive_bayes.GaussianNB'>\n",
      "{4: [(('text', 0), 0.671555662971522), (('text', 2), 0.6123672704559651), (('text', 4), 0.599591738660769), (('text', 9), 0.5748549256198585), (('video', 0), 0.5576084483926695), (('video', 2), 0.5461145607524709), (('video', 4), 0.542276239221862), (('video', 9), 0.5310812002880885), (('voxaudio', 0), 0.7031173301892262), (('voxaudio', 2), 0.6603813792850057), (('voxaudio', 4), 0.6436909856762745), (('voxaudio', 9), 0.625969299650994), (('text_video', 0), 0.6414308004973109), (('text_video', 2), 0.6015064114340302), (('text_video', 4), 0.585388173515563), (('text_video', 9), 0.5584102798197941), (('text_voxaudio', 0), 0.6990200529449961), (('text_voxaudio', 2), 0.643935775434471), (('text_voxaudio', 4), 0.6280211827849997), (('text_voxaudio', 9), 0.6061136811592092), (('video_voxaudio', 0), 0.6645193458483327), (('video_voxaudio', 2), 0.6246463607304259), (('video_voxaudio', 4), 0.6089922861517474), (('video_voxaudio', 9), 0.5845457285507417), (('text_video_voxaudio', 0), 0.6900486348399804), (('text_video_voxaudio', 2), 0.6407980306426131), (('text_video_voxaudio', 4), 0.6231443382952732), (('text_video_voxaudio', 9), 0.5955040202445318)]}\n",
      "(132008, 2881)\n"
     ]
    },
    {
     "name": "stderr",
     "output_type": "stream",
     "text": [
      "\n",
      "\n",
      "  0%|          | 0/28 [00:00<?, ?it/s]\u001b[A\u001b[A[Parallel(n_jobs=1)]: Using backend SequentialBackend with 1 concurrent workers.\n",
      "[Parallel(n_jobs=1)]: Using backend SequentialBackend with 1 concurrent workers.\n",
      "[Parallel(n_jobs=1)]: Done   5 out of   5 | elapsed:    4.9s finished\n"
     ]
    },
    {
     "name": "stdout",
     "output_type": "stream",
     "text": [
      "text label_shift: 0 (132008, 300) (132008,) num features: 300 0.6768598986991343\n"
     ]
    },
    {
     "name": "stderr",
     "output_type": "stream",
     "text": [
      "\n",
      "\n",
      "  4%|▎         | 1/28 [00:37<17:01, 37.85s/it]\u001b[A\u001b[A[Parallel(n_jobs=1)]: Using backend SequentialBackend with 1 concurrent workers.\n",
      "[Parallel(n_jobs=1)]: Using backend SequentialBackend with 1 concurrent workers.\n",
      "[Parallel(n_jobs=1)]: Using backend SequentialBackend with 1 concurrent workers.\n",
      "[Parallel(n_jobs=1)]: Using backend SequentialBackend with 1 concurrent workers.\n",
      "[Parallel(n_jobs=1)]: Done   5 out of   5 | elapsed:    5.9s finished\n"
     ]
    },
    {
     "name": "stdout",
     "output_type": "stream",
     "text": [
      "text label_shift: 2 (131666, 300) (131666,) num features: 300 0.6358361885295272\n"
     ]
    },
    {
     "name": "stderr",
     "output_type": "stream",
     "text": [
      "\n",
      "\n",
      "  7%|▋         | 2/28 [01:10<15:41, 36.20s/it]\u001b[A\u001b[A[Parallel(n_jobs=1)]: Done   5 out of   5 | elapsed:    6.1s finished\n"
     ]
    },
    {
     "name": "stdout",
     "output_type": "stream",
     "text": [
      "text label_shift: 4 (131324, 300) (131324,) num features: 300 0.6157670525686695\n"
     ]
    },
    {
     "name": "stderr",
     "output_type": "stream",
     "text": [
      "\n",
      "\n",
      " 11%|█         | 3/28 [01:10<10:39, 25.56s/it]\u001b[A\u001b[A[Parallel(n_jobs=1)]: Done   5 out of   5 | elapsed:    7.0s finished\n"
     ]
    },
    {
     "name": "stdout",
     "output_type": "stream",
     "text": [
      "text label_shift: 9 (130469, 300) (130469,) num features: 300 0.5903164393472323\n"
     ]
    },
    {
     "name": "stderr",
     "output_type": "stream",
     "text": [
      "\n",
      "\n",
      " 14%|█▍        | 4/28 [01:11<07:16, 18.20s/it]\u001b[A\u001b[A[Parallel(n_jobs=1)]: Done   5 out of   5 | elapsed:   53.5s finished\n"
     ]
    },
    {
     "name": "stdout",
     "output_type": "stream",
     "text": [
      "video label_shift: 0 (132008, 2048) (132008,) num features: 2048 0.5497097132219093\n"
     ]
    },
    {
     "name": "stderr",
     "output_type": "stream",
     "text": [
      "\n",
      "\n",
      " 18%|█▊        | 5/28 [01:27<06:38, 17.33s/it]\u001b[A\u001b[A[Parallel(n_jobs=1)]: Using backend SequentialBackend with 1 concurrent workers.\n",
      "[Parallel(n_jobs=1)]: Using backend SequentialBackend with 1 concurrent workers.\n",
      "[Parallel(n_jobs=1)]: Done   5 out of   5 | elapsed:   10.1s finished\n"
     ]
    },
    {
     "name": "stdout",
     "output_type": "stream",
     "text": [
      "voxaudio label_shift: 0 (132008, 512) (132008,) num features: 512 0.6997071686488399\n"
     ]
    },
    {
     "name": "stderr",
     "output_type": "stream",
     "text": [
      "[Parallel(n_jobs=1)]: Done   5 out of   5 | elapsed:   55.7s finished\n"
     ]
    },
    {
     "name": "stdout",
     "output_type": "stream",
     "text": [
      "video label_shift: 2 (131666, 2048) (131666,) num features: 2048 0.538431091174597\n"
     ]
    },
    {
     "name": "stderr",
     "output_type": "stream",
     "text": [
      "\n",
      "\n",
      " 21%|██▏       | 6/28 [02:00<08:06, 22.10s/it]\u001b[A\u001b[A[Parallel(n_jobs=1)]: Using backend SequentialBackend with 1 concurrent workers.\n",
      "[Parallel(n_jobs=1)]: Using backend SequentialBackend with 1 concurrent workers.\n",
      "[Parallel(n_jobs=1)]: Done   5 out of   5 | elapsed:   10.1s finished\n"
     ]
    },
    {
     "name": "stdout",
     "output_type": "stream",
     "text": [
      "voxaudio label_shift: 2 (131666, 512) (131666,) num features: 512 0.6626996172497414\n"
     ]
    },
    {
     "name": "stderr",
     "output_type": "stream",
     "text": [
      "[Parallel(n_jobs=1)]: Using backend SequentialBackend with 1 concurrent workers.\n",
      "[Parallel(n_jobs=1)]: Using backend SequentialBackend with 1 concurrent workers.\n",
      "[Parallel(n_jobs=1)]: Done   5 out of   5 | elapsed:   56.6s finished\n"
     ]
    },
    {
     "name": "stdout",
     "output_type": "stream",
     "text": [
      "video label_shift: 4 (131324, 2048) (131324,) num features: 2048 0.5336887848726968\n"
     ]
    },
    {
     "name": "stderr",
     "output_type": "stream",
     "text": [
      "\n",
      "\n",
      " 25%|██▌       | 7/28 [02:40<09:37, 27.49s/it]\u001b[A\u001b[A[Parallel(n_jobs=1)]: Done   5 out of   5 | elapsed:    9.8s finished\n"
     ]
    },
    {
     "name": "stdout",
     "output_type": "stream",
     "text": [
      "voxaudio label_shift: 4 (131324, 512) (131324,) num features: 512 0.6455940272865319\n"
     ]
    },
    {
     "name": "stderr",
     "output_type": "stream",
     "text": [
      "[Parallel(n_jobs=1)]: Using backend SequentialBackend with 1 concurrent workers.\n",
      "[Parallel(n_jobs=1)]: Done   5 out of   5 | elapsed:   54.1s finished\n"
     ]
    },
    {
     "name": "stdout",
     "output_type": "stream",
     "text": [
      "video label_shift: 9 (130469, 2048) (130469,) num features: 2048 0.5216805206621352\n"
     ]
    },
    {
     "name": "stderr",
     "output_type": "stream",
     "text": [
      "\n",
      "\n",
      " 29%|██▊       | 8/28 [03:10<09:24, 28.23s/it]\u001b[A\u001b[A[Parallel(n_jobs=1)]: Done   5 out of   5 | elapsed:   11.5s finished\n"
     ]
    },
    {
     "name": "stdout",
     "output_type": "stream",
     "text": [
      "voxaudio label_shift: 9 (130469, 512) (130469,) num features: 512 0.6282407319458313\n"
     ]
    },
    {
     "name": "stderr",
     "output_type": "stream",
     "text": [
      "\n",
      "\n",
      " 43%|████▎     | 12/28 [03:13<05:20, 20.01s/it]\u001b[A\u001b[A[Parallel(n_jobs=1)]: Using backend SequentialBackend with 1 concurrent workers.\n",
      "[Parallel(n_jobs=1)]: Done   5 out of   5 | elapsed:  1.1min finished\n"
     ]
    },
    {
     "name": "stdout",
     "output_type": "stream",
     "text": [
      "text_video label_shift: 0 (132008, 2348) (132008,) num features: 2348 0.6193035772083382\n"
     ]
    },
    {
     "name": "stderr",
     "output_type": "stream",
     "text": [
      "\n",
      "\n",
      " 46%|████▋     | 13/28 [03:39<05:25, 21.69s/it]\u001b[A\u001b[A[Parallel(n_jobs=1)]: Using backend SequentialBackend with 1 concurrent workers.\n",
      "[Parallel(n_jobs=1)]: Using backend SequentialBackend with 1 concurrent workers.\n",
      "[Parallel(n_jobs=1)]: Using backend SequentialBackend with 1 concurrent workers.\n",
      "[Parallel(n_jobs=1)]: Done   5 out of   5 | elapsed:   16.4s finished\n"
     ]
    },
    {
     "name": "stdout",
     "output_type": "stream",
     "text": [
      "text_voxaudio label_shift: 0 (132008, 812) (132008,) num features: 812 0.6949345463957047\n"
     ]
    },
    {
     "name": "stderr",
     "output_type": "stream",
     "text": [
      "[Parallel(n_jobs=1)]: Using backend SequentialBackend with 1 concurrent workers.\n",
      "[Parallel(n_jobs=1)]: Done   5 out of   5 | elapsed:   17.2s finished\n"
     ]
    },
    {
     "name": "stdout",
     "output_type": "stream",
     "text": [
      "text_voxaudio label_shift: 2 (131666, 812) (131666,) num features: 812 0.6543679143796668\n"
     ]
    },
    {
     "name": "stderr",
     "output_type": "stream",
     "text": [
      "[Parallel(n_jobs=1)]: Done   5 out of   5 | elapsed:  1.1min finished\n"
     ]
    },
    {
     "name": "stdout",
     "output_type": "stream",
     "text": [
      "text_video label_shift: 2 (131666, 2348) (131666,) num features: 2348 0.5861956819922309\n"
     ]
    },
    {
     "name": "stderr",
     "output_type": "stream",
     "text": [
      "\n",
      "\n",
      " 50%|█████     | 14/28 [04:40<07:50, 33.63s/it]\u001b[A\u001b[A[Parallel(n_jobs=1)]: Using backend SequentialBackend with 1 concurrent workers.\n",
      "[Parallel(n_jobs=1)]: Done   5 out of   5 | elapsed:  1.1min finished\n"
     ]
    },
    {
     "name": "stdout",
     "output_type": "stream",
     "text": [
      "text_video label_shift: 9 (130469, 2348) (130469,) num features: 2348 0.54240555986723\n"
     ]
    },
    {
     "name": "stderr",
     "output_type": "stream",
     "text": [
      "[Parallel(n_jobs=1)]: Done   5 out of   5 | elapsed:  1.1min finished\n"
     ]
    },
    {
     "name": "stdout",
     "output_type": "stream",
     "text": [
      "text_video label_shift: 4 (131324, 2348) (131324,) num features: 2348 0.5717011667920494\n"
     ]
    },
    {
     "name": "stderr",
     "output_type": "stream",
     "text": [
      "\n",
      "\n",
      " 54%|█████▎    | 15/28 [04:54<05:57, 27.48s/it]\u001b[A\u001b[A[Parallel(n_jobs=1)]: Done   5 out of   5 | elapsed:   16.2s finished\n"
     ]
    },
    {
     "name": "stdout",
     "output_type": "stream",
     "text": [
      "text_voxaudio label_shift: 4 (131324, 812) (131324,) num features: 812 0.6347353029760334\n"
     ]
    },
    {
     "name": "stderr",
     "output_type": "stream",
     "text": [
      "\n",
      "\n",
      " 68%|██████▊   | 19/28 [05:04<02:59, 20.00s/it]\u001b[A\u001b[A[Parallel(n_jobs=1)]: Using backend SequentialBackend with 1 concurrent workers.\n",
      "[Parallel(n_jobs=1)]: Using backend SequentialBackend with 1 concurrent workers.\n",
      "[Parallel(n_jobs=1)]: Done   5 out of   5 | elapsed:   16.8s finished\n"
     ]
    },
    {
     "name": "stdout",
     "output_type": "stream",
     "text": [
      "text_voxaudio label_shift: 9 (130469, 812) (130469,) num features: 812 0.6090486509604645\n"
     ]
    },
    {
     "name": "stderr",
     "output_type": "stream",
     "text": [
      "\n",
      "\n",
      " 71%|███████▏  | 20/28 [05:25<02:42, 20.32s/it]\u001b[A\u001b[A[Parallel(n_jobs=1)]: Using backend SequentialBackend with 1 concurrent workers.\n",
      "[Parallel(n_jobs=1)]: Using backend SequentialBackend with 1 concurrent workers.\n",
      "[Parallel(n_jobs=1)]: Using backend SequentialBackend with 1 concurrent workers.\n",
      "[Parallel(n_jobs=1)]: Using backend SequentialBackend with 1 concurrent workers.\n",
      "[Parallel(n_jobs=1)]: Done   5 out of   5 | elapsed:  1.2min finished\n"
     ]
    },
    {
     "name": "stdout",
     "output_type": "stream",
     "text": [
      "video_voxaudio label_shift: 0 (132008, 2560) (132008,) num features: 2560 0.6533998675490608\n"
     ]
    },
    {
     "name": "stderr",
     "output_type": "stream",
     "text": [
      "\n",
      "\n",
      " 75%|███████▌  | 21/28 [06:23<03:41, 31.64s/it]\u001b[A\u001b[A[Parallel(n_jobs=1)]: Using backend SequentialBackend with 1 concurrent workers.\n",
      "[Parallel(n_jobs=1)]: Done   5 out of   5 | elapsed:  1.4min finished\n"
     ]
    },
    {
     "name": "stdout",
     "output_type": "stream",
     "text": [
      "text_video_voxaudio label_shift: 0 (132008, 2860) (132008,) num features: 2860 0.678201085546779\n"
     ]
    },
    {
     "name": "stderr",
     "output_type": "stream",
     "text": [
      "[Parallel(n_jobs=1)]: Done   5 out of   5 | elapsed:  1.3min finished\n"
     ]
    },
    {
     "name": "stdout",
     "output_type": "stream",
     "text": [
      "video_voxaudio label_shift: 2 (131666, 2560) (131666,) num features: 2560 0.618162936158367\n"
     ]
    },
    {
     "name": "stderr",
     "output_type": "stream",
     "text": [
      "\n",
      "\n",
      " 79%|███████▊  | 22/28 [07:02<03:22, 33.75s/it]\u001b[A\u001b[A[Parallel(n_jobs=1)]: Done   5 out of   5 | elapsed:  1.2min finished\n"
     ]
    },
    {
     "name": "stdout",
     "output_type": "stream",
     "text": [
      "video_voxaudio label_shift: 9 (130469, 2560) (130469,) num features: 2560 0.5752786693449676\n"
     ]
    },
    {
     "name": "stderr",
     "output_type": "stream",
     "text": [
      "[Parallel(n_jobs=1)]: Done   5 out of   5 | elapsed:  1.3min finished\n"
     ]
    },
    {
     "name": "stdout",
     "output_type": "stream",
     "text": [
      "video_voxaudio label_shift: 4 (131324, 2560) (131324,) num features: 2560 0.6015280675745843\n"
     ]
    },
    {
     "name": "stderr",
     "output_type": "stream",
     "text": [
      "\n",
      "\n",
      " 82%|████████▏ | 23/28 [07:14<02:16, 27.37s/it]\u001b[A\u001b[A[Parallel(n_jobs=1)]: Using backend SequentialBackend with 1 concurrent workers.\n",
      "[Parallel(n_jobs=1)]: Done   5 out of   5 | elapsed:  1.4min finished\n"
     ]
    },
    {
     "name": "stdout",
     "output_type": "stream",
     "text": [
      "text_video_voxaudio label_shift: 2 (131666, 2860) (131666,) num features: 2860 0.6368692326877674\n"
     ]
    },
    {
     "name": "stderr",
     "output_type": "stream",
     "text": [
      "\n",
      "\n",
      " 93%|█████████▎| 26/28 [07:52<00:46, 23.01s/it]\u001b[A\u001b[A[Parallel(n_jobs=1)]: Using backend SequentialBackend with 1 concurrent workers.\n",
      "[Parallel(n_jobs=1)]: Done   5 out of   5 | elapsed:  1.3min finished\n"
     ]
    },
    {
     "name": "stdout",
     "output_type": "stream",
     "text": [
      "text_video_voxaudio label_shift: 4 (131324, 2860) (131324,) num features: 2860 0.6169705213430655\n"
     ]
    },
    {
     "name": "stderr",
     "output_type": "stream",
     "text": [
      "\n",
      "\n",
      " 96%|█████████▋| 27/28 [08:50<00:33, 33.36s/it]\u001b[A\u001b[A[Parallel(n_jobs=1)]: Done   5 out of   5 | elapsed:  1.2min finished\n"
     ]
    },
    {
     "name": "stdout",
     "output_type": "stream",
     "text": [
      "text_video_voxaudio label_shift: 9 (130469, 2860) (130469,) num features: 2860 0.5841696274003094\n"
     ]
    },
    {
     "name": "stderr",
     "output_type": "stream",
     "text": [
      "\n",
      "\n",
      "100%|██████████| 28/28 [09:20<00:00, 32.24s/it]\u001b[A\u001b[A"
     ]
    },
    {
     "name": "stdout",
     "output_type": "stream",
     "text": [
      "use_crossval: True | use_all_perspectives: False | predict_only_host: False | clf: <class 'sklearn.naive_bayes.GaussianNB'>\n",
      "{4: [(('text', 0), 0.671555662971522), (('text', 2), 0.6123672704559651), (('text', 4), 0.599591738660769), (('text', 9), 0.5748549256198585), (('video', 0), 0.5576084483926695), (('video', 2), 0.5461145607524709), (('video', 4), 0.542276239221862), (('video', 9), 0.5310812002880885), (('voxaudio', 0), 0.7031173301892262), (('voxaudio', 2), 0.6603813792850057), (('voxaudio', 4), 0.6436909856762745), (('voxaudio', 9), 0.625969299650994), (('text_video', 0), 0.6414308004973109), (('text_video', 2), 0.6015064114340302), (('text_video', 4), 0.585388173515563), (('text_video', 9), 0.5584102798197941), (('text_voxaudio', 0), 0.6990200529449961), (('text_voxaudio', 2), 0.643935775434471), (('text_voxaudio', 4), 0.6280211827849997), (('text_voxaudio', 9), 0.6061136811592092), (('video_voxaudio', 0), 0.6645193458483327), (('video_voxaudio', 2), 0.6246463607304259), (('video_voxaudio', 4), 0.6089922861517474), (('video_voxaudio', 9), 0.5845457285507417), (('text_video_voxaudio', 0), 0.6900486348399804), (('text_video_voxaudio', 2), 0.6407980306426131), (('text_video_voxaudio', 4), 0.6231443382952732), (('text_video_voxaudio', 9), 0.5955040202445318)], 5: [(('text', 0), 0.6768598986991343), (('text', 2), 0.6358361885295272), (('text', 4), 0.6157670525686695), (('text', 9), 0.5903164393472323), (('video', 0), 0.5497097132219093), (('video', 2), 0.538431091174597), (('video', 4), 0.5336887848726968), (('video', 9), 0.5216805206621352), (('voxaudio', 0), 0.6997071686488399), (('voxaudio', 2), 0.6626996172497414), (('voxaudio', 4), 0.6455940272865319), (('voxaudio', 9), 0.6282407319458313), (('text_video', 0), 0.6193035772083382), (('text_video', 2), 0.5861956819922309), (('text_video', 4), 0.5717011667920494), (('text_video', 9), 0.54240555986723), (('text_voxaudio', 0), 0.6949345463957047), (('text_voxaudio', 2), 0.6543679143796668), (('text_voxaudio', 4), 0.6347353029760334), (('text_voxaudio', 9), 0.6090486509604645), (('video_voxaudio', 0), 0.6533998675490608), (('video_voxaudio', 2), 0.618162936158367), (('video_voxaudio', 4), 0.6015280675745843), (('video_voxaudio', 9), 0.5752786693449676), (('text_video_voxaudio', 0), 0.678201085546779), (('text_video_voxaudio', 2), 0.6368692326877674), (('text_video_voxaudio', 4), 0.6169705213430655), (('text_video_voxaudio', 9), 0.5841696274003094)]}\n",
      "(131113, 2881)\n"
     ]
    },
    {
     "name": "stderr",
     "output_type": "stream",
     "text": [
      "\n",
      "\n",
      "  0%|          | 0/28 [00:00<?, ?it/s]\u001b[A\u001b[A[Parallel(n_jobs=1)]: Using backend SequentialBackend with 1 concurrent workers.\n",
      "[Parallel(n_jobs=1)]: Using backend SequentialBackend with 1 concurrent workers.\n",
      "[Parallel(n_jobs=1)]: Done   5 out of   5 | elapsed:    5.2s finished\n"
     ]
    },
    {
     "name": "stdout",
     "output_type": "stream",
     "text": [
      "text label_shift: 0 (131113, 300) (131113,) num features: 300 0.5811783428377613\n"
     ]
    },
    {
     "name": "stderr",
     "output_type": "stream",
     "text": [
      "\n",
      "\n",
      "  4%|▎         | 1/28 [00:38<17:15, 38.35s/it]\u001b[A\u001b[A[Parallel(n_jobs=1)]: Using backend SequentialBackend with 1 concurrent workers.\n",
      "[Parallel(n_jobs=1)]: Using backend SequentialBackend with 1 concurrent workers.\n",
      "[Parallel(n_jobs=1)]: Using backend SequentialBackend with 1 concurrent workers.\n",
      "[Parallel(n_jobs=1)]: Using backend SequentialBackend with 1 concurrent workers.\n",
      "[Parallel(n_jobs=1)]: Done   5 out of   5 | elapsed:    6.6s finished\n"
     ]
    },
    {
     "name": "stdout",
     "output_type": "stream",
     "text": [
      "text label_shift: 2 (130771, 300) (130771,) num features: 300 0.523266273394551\n"
     ]
    },
    {
     "name": "stderr",
     "output_type": "stream",
     "text": [
      "[Parallel(n_jobs=1)]: Done   5 out of   5 | elapsed:    6.4s finished\n",
      "\n",
      "\n",
      "  7%|▋         | 2/28 [01:11<15:54, 36.70s/it]\u001b[A\u001b[A"
     ]
    },
    {
     "name": "stdout",
     "output_type": "stream",
     "text": [
      "text label_shift: 9 (129574, 300) (129574,) num features: 300 0.45736721161926097\n"
     ]
    },
    {
     "name": "stderr",
     "output_type": "stream",
     "text": [
      "[Parallel(n_jobs=1)]: Done   5 out of   5 | elapsed:    6.7s finished\n"
     ]
    },
    {
     "name": "stdout",
     "output_type": "stream",
     "text": [
      "text label_shift: 4 (130429, 300) (130429,) num features: 300 0.49142406670047645\n"
     ]
    },
    {
     "name": "stderr",
     "output_type": "stream",
     "text": [
      "\n",
      "\n",
      " 11%|█         | 3/28 [01:11<10:44, 25.78s/it]\u001b[A\u001b[A[Parallel(n_jobs=1)]: Done   5 out of   5 | elapsed:   54.3s finished\n"
     ]
    },
    {
     "name": "stdout",
     "output_type": "stream",
     "text": [
      "video label_shift: 0 (131113, 2048) (131113,) num features: 2048 0.5408929586124918\n"
     ]
    },
    {
     "name": "stderr",
     "output_type": "stream",
     "text": [
      "\n",
      "\n",
      " 18%|█▊        | 5/28 [01:27<07:51, 20.49s/it]\u001b[A\u001b[A[Parallel(n_jobs=1)]: Using backend SequentialBackend with 1 concurrent workers.\n",
      "[Parallel(n_jobs=1)]: Using backend SequentialBackend with 1 concurrent workers.\n",
      "[Parallel(n_jobs=1)]: Done   5 out of   5 | elapsed:   10.2s finished\n"
     ]
    },
    {
     "name": "stdout",
     "output_type": "stream",
     "text": [
      "voxaudio label_shift: 0 (131113, 512) (131113,) num features: 512 0.6798408298789592\n"
     ]
    },
    {
     "name": "stderr",
     "output_type": "stream",
     "text": [
      "[Parallel(n_jobs=1)]: Done   5 out of   5 | elapsed:   54.7s finished\n"
     ]
    },
    {
     "name": "stdout",
     "output_type": "stream",
     "text": [
      "video label_shift: 2 (130771, 2048) (130771,) num features: 2048 0.530378690668295\n"
     ]
    },
    {
     "name": "stderr",
     "output_type": "stream",
     "text": [
      "\n",
      "\n",
      " 21%|██▏       | 6/28 [01:58<08:38, 23.58s/it]\u001b[A\u001b[A[Parallel(n_jobs=1)]: Using backend SequentialBackend with 1 concurrent workers.\n",
      "[Parallel(n_jobs=1)]: Using backend SequentialBackend with 1 concurrent workers.\n",
      "[Parallel(n_jobs=1)]: Done   5 out of   5 | elapsed:   10.7s finished\n"
     ]
    },
    {
     "name": "stdout",
     "output_type": "stream",
     "text": [
      "voxaudio label_shift: 2 (130771, 512) (130771,) num features: 512 0.6582110517150042\n"
     ]
    },
    {
     "name": "stderr",
     "output_type": "stream",
     "text": [
      "[Parallel(n_jobs=1)]: Using backend SequentialBackend with 1 concurrent workers.\n",
      "[Parallel(n_jobs=1)]: Using backend SequentialBackend with 1 concurrent workers.\n",
      "[Parallel(n_jobs=1)]: Done   5 out of   5 | elapsed:   55.0s finished\n"
     ]
    },
    {
     "name": "stdout",
     "output_type": "stream",
     "text": [
      "video label_shift: 4 (130429, 2048) (130429,) num features: 2048 0.5250830214934218\n"
     ]
    },
    {
     "name": "stderr",
     "output_type": "stream",
     "text": [
      "\n",
      "\n",
      " 25%|██▌       | 7/28 [02:39<10:05, 28.82s/it]\u001b[A\u001b[A[Parallel(n_jobs=1)]: Done   5 out of   5 | elapsed:   10.8s finished\n"
     ]
    },
    {
     "name": "stdout",
     "output_type": "stream",
     "text": [
      "voxaudio label_shift: 4 (130429, 512) (130429,) num features: 512 0.6497171748639153\n"
     ]
    },
    {
     "name": "stderr",
     "output_type": "stream",
     "text": [
      "[Parallel(n_jobs=1)]: Using backend SequentialBackend with 1 concurrent workers.\n",
      "[Parallel(n_jobs=1)]: Done   5 out of   5 | elapsed:   10.4s finished\n"
     ]
    },
    {
     "name": "stdout",
     "output_type": "stream",
     "text": [
      "voxaudio label_shift: 9 (129574, 512) (129574,) num features: 512 0.6374654655431622\n"
     ]
    },
    {
     "name": "stderr",
     "output_type": "stream",
     "text": [
      "[Parallel(n_jobs=1)]: Done   5 out of   5 | elapsed:   54.9s finished\n"
     ]
    },
    {
     "name": "stdout",
     "output_type": "stream",
     "text": [
      "video label_shift: 9 (129574, 2048) (129574,) num features: 2048 0.5182381968600402\n"
     ]
    },
    {
     "name": "stderr",
     "output_type": "stream",
     "text": [
      "\n",
      "\n",
      " 29%|██▊       | 8/28 [03:11<09:53, 29.65s/it]\u001b[A\u001b[A[Parallel(n_jobs=1)]: Using backend SequentialBackend with 1 concurrent workers.\n",
      "[Parallel(n_jobs=1)]: Done   5 out of   5 | elapsed:  1.1min finished\n"
     ]
    },
    {
     "name": "stdout",
     "output_type": "stream",
     "text": [
      "text_video label_shift: 0 (131113, 2348) (131113,) num features: 2348 0.5767013863623583\n"
     ]
    },
    {
     "name": "stderr",
     "output_type": "stream",
     "text": [
      "\n",
      "\n",
      " 46%|████▋     | 13/28 [03:38<05:35, 22.39s/it]\u001b[A\u001b[A[Parallel(n_jobs=1)]: Using backend SequentialBackend with 1 concurrent workers.\n",
      "[Parallel(n_jobs=1)]: Using backend SequentialBackend with 1 concurrent workers.\n",
      "[Parallel(n_jobs=1)]: Using backend SequentialBackend with 1 concurrent workers.\n",
      "[Parallel(n_jobs=1)]: Done   5 out of   5 | elapsed:   17.9s finished\n"
     ]
    },
    {
     "name": "stdout",
     "output_type": "stream",
     "text": [
      "text_voxaudio label_shift: 0 (131113, 812) (131113,) num features: 812 0.642117552145183\n"
     ]
    },
    {
     "name": "stderr",
     "output_type": "stream",
     "text": [
      "[Parallel(n_jobs=1)]: Using backend SequentialBackend with 1 concurrent workers.\n",
      "[Parallel(n_jobs=1)]: Done   5 out of   5 | elapsed:   17.7s finished\n"
     ]
    },
    {
     "name": "stdout",
     "output_type": "stream",
     "text": [
      "text_voxaudio label_shift: 2 (130771, 812) (130771,) num features: 812 0.6137364720771329\n"
     ]
    },
    {
     "name": "stderr",
     "output_type": "stream",
     "text": [
      "[Parallel(n_jobs=1)]: Done   5 out of   5 | elapsed:  1.1min finished\n"
     ]
    },
    {
     "name": "stdout",
     "output_type": "stream",
     "text": [
      "text_video label_shift: 2 (130771, 2348) (130771,) num features: 2348 0.552737957725175\n"
     ]
    },
    {
     "name": "stderr",
     "output_type": "stream",
     "text": [
      "\n",
      "\n",
      " 50%|█████     | 14/28 [04:41<08:02, 34.46s/it]\u001b[A\u001b[A[Parallel(n_jobs=1)]: Using backend SequentialBackend with 1 concurrent workers.\n",
      "[Parallel(n_jobs=1)]: Done   5 out of   5 | elapsed:  1.1min finished\n"
     ]
    },
    {
     "name": "stdout",
     "output_type": "stream",
     "text": [
      "text_video label_shift: 4 (130429, 2348) (130429,) num features: 2348 0.5395351125560695\n"
     ]
    },
    {
     "name": "stderr",
     "output_type": "stream",
     "text": [
      "\n",
      "\n",
      " 54%|█████▎    | 15/28 [04:50<05:51, 27.06s/it]\u001b[A\u001b[A[Parallel(n_jobs=1)]: Done   5 out of   5 | elapsed:  1.1min finished\n"
     ]
    },
    {
     "name": "stdout",
     "output_type": "stream",
     "text": [
      "text_video label_shift: 9 (129574, 2348) (129574,) num features: 2348 0.5185697731498239\n"
     ]
    },
    {
     "name": "stderr",
     "output_type": "stream",
     "text": [
      "\n",
      "\n",
      " 57%|█████▋    | 16/28 [04:55<04:02, 20.21s/it]\u001b[A\u001b[A[Parallel(n_jobs=1)]: Done   5 out of   5 | elapsed:   17.6s finished\n"
     ]
    },
    {
     "name": "stdout",
     "output_type": "stream",
     "text": [
      "text_voxaudio label_shift: 4 (130429, 812) (130429,) num features: 812 0.5982409382357182\n"
     ]
    },
    {
     "name": "stderr",
     "output_type": "stream",
     "text": [
      "\n",
      "\n",
      " 68%|██████▊   | 19/28 [05:04<02:15, 15.05s/it]\u001b[A\u001b[A[Parallel(n_jobs=1)]: Using backend SequentialBackend with 1 concurrent workers.\n",
      "[Parallel(n_jobs=1)]: Using backend SequentialBackend with 1 concurrent workers.\n",
      "[Parallel(n_jobs=1)]: Done   5 out of   5 | elapsed:   16.2s finished\n"
     ]
    },
    {
     "name": "stdout",
     "output_type": "stream",
     "text": [
      "text_voxaudio label_shift: 9 (129574, 812) (129574,) num features: 812 0.5687714464323997\n"
     ]
    },
    {
     "name": "stderr",
     "output_type": "stream",
     "text": [
      "\n",
      "\n",
      " 71%|███████▏  | 20/28 [05:25<02:14, 16.83s/it]\u001b[A\u001b[A[Parallel(n_jobs=1)]: Using backend SequentialBackend with 1 concurrent workers.\n",
      "[Parallel(n_jobs=1)]: Using backend SequentialBackend with 1 concurrent workers.\n",
      "[Parallel(n_jobs=1)]: Using backend SequentialBackend with 1 concurrent workers.\n",
      "[Parallel(n_jobs=1)]: Using backend SequentialBackend with 1 concurrent workers.\n",
      "[Parallel(n_jobs=1)]: Done   5 out of   5 | elapsed:  1.2min finished\n"
     ]
    },
    {
     "name": "stdout",
     "output_type": "stream",
     "text": [
      "video_voxaudio label_shift: 0 (131113, 2560) (131113,) num features: 2560 0.6347275506172159\n"
     ]
    },
    {
     "name": "stderr",
     "output_type": "stream",
     "text": [
      "\n",
      "\n",
      " 75%|███████▌  | 21/28 [06:19<03:16, 28.11s/it]\u001b[A\u001b[A[Parallel(n_jobs=1)]: Using backend SequentialBackend with 1 concurrent workers.\n",
      "[Parallel(n_jobs=1)]: Done   5 out of   5 | elapsed:  1.4min finished\n"
     ]
    },
    {
     "name": "stdout",
     "output_type": "stream",
     "text": [
      "text_video_voxaudio label_shift: 0 (131113, 2860) (131113,) num features: 2860 0.6386857835879949\n"
     ]
    },
    {
     "name": "stderr",
     "output_type": "stream",
     "text": [
      "[Parallel(n_jobs=1)]: Done   5 out of   5 | elapsed:  1.2min finished\n"
     ]
    },
    {
     "name": "stdout",
     "output_type": "stream",
     "text": [
      "video_voxaudio label_shift: 2 (130771, 2560) (130771,) num features: 2560 0.6115731744271695\n"
     ]
    },
    {
     "name": "stderr",
     "output_type": "stream",
     "text": [
      "\n",
      "\n",
      " 79%|███████▊  | 22/28 [07:00<03:12, 32.08s/it]\u001b[A\u001b[A[Parallel(n_jobs=1)]: Done   5 out of   5 | elapsed:  1.2min finished\n"
     ]
    },
    {
     "name": "stdout",
     "output_type": "stream",
     "text": [
      "video_voxaudio label_shift: 4 (130429, 2560) (130429,) num features: 2560 0.5986092994389285\n"
     ]
    },
    {
     "name": "stderr",
     "output_type": "stream",
     "text": [
      "\n",
      "\n",
      " 82%|████████▏ | 23/28 [07:10<02:06, 25.23s/it]\u001b[A\u001b[A[Parallel(n_jobs=1)]: Done   5 out of   5 | elapsed:  1.2min finished\n"
     ]
    },
    {
     "name": "stdout",
     "output_type": "stream",
     "text": [
      "video_voxaudio label_shift: 9 (129574, 2560) (129574,) num features: 2560 0.5819537627177971\n"
     ]
    },
    {
     "name": "stderr",
     "output_type": "stream",
     "text": [
      "\n",
      "\n",
      " 86%|████████▌ | 24/28 [07:11<01:11, 17.99s/it]\u001b[A\u001b[A[Parallel(n_jobs=1)]: Using backend SequentialBackend with 1 concurrent workers.\n",
      "[Parallel(n_jobs=1)]: Done   5 out of   5 | elapsed:  1.3min finished\n"
     ]
    },
    {
     "name": "stdout",
     "output_type": "stream",
     "text": [
      "text_video_voxaudio label_shift: 2 (130771, 2860) (130771,) num features: 2860 0.6098677277725841\n"
     ]
    },
    {
     "name": "stderr",
     "output_type": "stream",
     "text": [
      "\n",
      "\n",
      " 93%|█████████▎| 26/28 [07:50<00:36, 18.49s/it]\u001b[A\u001b[A[Parallel(n_jobs=1)]: Using backend SequentialBackend with 1 concurrent workers.\n",
      "[Parallel(n_jobs=1)]: Done   5 out of   5 | elapsed:  1.3min finished\n"
     ]
    },
    {
     "name": "stdout",
     "output_type": "stream",
     "text": [
      "text_video_voxaudio label_shift: 4 (130429, 2860) (130429,) num features: 2860 0.5930889724087021\n"
     ]
    },
    {
     "name": "stderr",
     "output_type": "stream",
     "text": [
      "\n",
      "\n",
      " 96%|█████████▋| 27/28 [08:42<00:28, 28.47s/it]\u001b[A\u001b[A[Parallel(n_jobs=1)]: Done   5 out of   5 | elapsed:  1.3min finished\n"
     ]
    },
    {
     "name": "stdout",
     "output_type": "stream",
     "text": [
      "text_video_voxaudio label_shift: 9 (129574, 2860) (129574,) num features: 2860 0.5651757764826092\n"
     ]
    },
    {
     "name": "stderr",
     "output_type": "stream",
     "text": [
      "\n",
      "\n",
      "100%|██████████| 28/28 [09:20<00:00, 31.26s/it]\u001b[A\u001b[A"
     ]
    },
    {
     "name": "stdout",
     "output_type": "stream",
     "text": [
      "use_crossval: True | use_all_perspectives: False | predict_only_host: False | clf: <class 'sklearn.naive_bayes.GaussianNB'>\n",
      "{4: [(('text', 0), 0.671555662971522), (('text', 2), 0.6123672704559651), (('text', 4), 0.599591738660769), (('text', 9), 0.5748549256198585), (('video', 0), 0.5576084483926695), (('video', 2), 0.5461145607524709), (('video', 4), 0.542276239221862), (('video', 9), 0.5310812002880885), (('voxaudio', 0), 0.7031173301892262), (('voxaudio', 2), 0.6603813792850057), (('voxaudio', 4), 0.6436909856762745), (('voxaudio', 9), 0.625969299650994), (('text_video', 0), 0.6414308004973109), (('text_video', 2), 0.6015064114340302), (('text_video', 4), 0.585388173515563), (('text_video', 9), 0.5584102798197941), (('text_voxaudio', 0), 0.6990200529449961), (('text_voxaudio', 2), 0.643935775434471), (('text_voxaudio', 4), 0.6280211827849997), (('text_voxaudio', 9), 0.6061136811592092), (('video_voxaudio', 0), 0.6645193458483327), (('video_voxaudio', 2), 0.6246463607304259), (('video_voxaudio', 4), 0.6089922861517474), (('video_voxaudio', 9), 0.5845457285507417), (('text_video_voxaudio', 0), 0.6900486348399804), (('text_video_voxaudio', 2), 0.6407980306426131), (('text_video_voxaudio', 4), 0.6231443382952732), (('text_video_voxaudio', 9), 0.5955040202445318)], 5: [(('text', 0), 0.6768598986991343), (('text', 2), 0.6358361885295272), (('text', 4), 0.6157670525686695), (('text', 9), 0.5903164393472323), (('video', 0), 0.5497097132219093), (('video', 2), 0.538431091174597), (('video', 4), 0.5336887848726968), (('video', 9), 0.5216805206621352), (('voxaudio', 0), 0.6997071686488399), (('voxaudio', 2), 0.6626996172497414), (('voxaudio', 4), 0.6455940272865319), (('voxaudio', 9), 0.6282407319458313), (('text_video', 0), 0.6193035772083382), (('text_video', 2), 0.5861956819922309), (('text_video', 4), 0.5717011667920494), (('text_video', 9), 0.54240555986723), (('text_voxaudio', 0), 0.6949345463957047), (('text_voxaudio', 2), 0.6543679143796668), (('text_voxaudio', 4), 0.6347353029760334), (('text_voxaudio', 9), 0.6090486509604645), (('video_voxaudio', 0), 0.6533998675490608), (('video_voxaudio', 2), 0.618162936158367), (('video_voxaudio', 4), 0.6015280675745843), (('video_voxaudio', 9), 0.5752786693449676), (('text_video_voxaudio', 0), 0.678201085546779), (('text_video_voxaudio', 2), 0.6368692326877674), (('text_video_voxaudio', 4), 0.6169705213430655), (('text_video_voxaudio', 9), 0.5841696274003094)], 10: [(('text', 0), 0.5811783428377613), (('text', 2), 0.523266273394551), (('text', 4), 0.49142406670047645), (('text', 9), 0.45736721161926097), (('video', 0), 0.5408929586124918), (('video', 2), 0.530378690668295), (('video', 4), 0.5250830214934218), (('video', 9), 0.5182381968600402), (('voxaudio', 0), 0.6798408298789592), (('voxaudio', 2), 0.6582110517150042), (('voxaudio', 4), 0.6497171748639153), (('voxaudio', 9), 0.6374654655431622), (('text_video', 0), 0.5767013863623583), (('text_video', 2), 0.552737957725175), (('text_video', 4), 0.5395351125560695), (('text_video', 9), 0.5185697731498239), (('text_voxaudio', 0), 0.642117552145183), (('text_voxaudio', 2), 0.6137364720771329), (('text_voxaudio', 4), 0.5982409382357182), (('text_voxaudio', 9), 0.5687714464323997), (('video_voxaudio', 0), 0.6347275506172159), (('video_voxaudio', 2), 0.6115731744271695), (('video_voxaudio', 4), 0.5986092994389285), (('video_voxaudio', 9), 0.5819537627177971), (('text_video_voxaudio', 0), 0.6386857835879949), (('text_video_voxaudio', 2), 0.6098677277725841), (('text_video_voxaudio', 4), 0.5930889724087021), (('text_video_voxaudio', 9), 0.5651757764826092)]}\n",
      "(129245, 2881)\n"
     ]
    },
    {
     "name": "stderr",
     "output_type": "stream",
     "text": [
      "\n",
      "\n",
      "  0%|          | 0/28 [00:00<?, ?it/s]\u001b[A\u001b[A[Parallel(n_jobs=1)]: Using backend SequentialBackend with 1 concurrent workers.\n",
      "[Parallel(n_jobs=1)]: Using backend SequentialBackend with 1 concurrent workers.\n",
      "[Parallel(n_jobs=1)]: Done   5 out of   5 | elapsed:    5.2s finished\n"
     ]
    },
    {
     "name": "stdout",
     "output_type": "stream",
     "text": [
      "text label_shift: 0 (129245, 300) (129245,) num features: 300 0.5229911514822895\n"
     ]
    },
    {
     "name": "stderr",
     "output_type": "stream",
     "text": [
      "\n",
      "\n",
      "  4%|▎         | 1/28 [00:37<16:49, 37.40s/it]\u001b[A\u001b[A[Parallel(n_jobs=1)]: Using backend SequentialBackend with 1 concurrent workers.\n",
      "[Parallel(n_jobs=1)]: Using backend SequentialBackend with 1 concurrent workers.\n",
      "[Parallel(n_jobs=1)]: Using backend SequentialBackend with 1 concurrent workers.\n",
      "[Parallel(n_jobs=1)]: Using backend SequentialBackend with 1 concurrent workers.\n",
      "[Parallel(n_jobs=1)]: Done   5 out of   5 | elapsed:    6.6s finished\n"
     ]
    },
    {
     "name": "stdout",
     "output_type": "stream",
     "text": [
      "text label_shift: 4 (128573, 300) (128573,) num features: 300 0.49713388955774623\n"
     ]
    },
    {
     "name": "stderr",
     "output_type": "stream",
     "text": [
      "[Parallel(n_jobs=1)]: Done   5 out of   5 | elapsed:    6.4s finished\n"
     ]
    },
    {
     "name": "stdout",
     "output_type": "stream",
     "text": [
      "text label_shift: 9 (127733, 300) (127733,) num features: 300 0.4801891871949933\n"
     ]
    },
    {
     "name": "stderr",
     "output_type": "stream",
     "text": [
      "[Parallel(n_jobs=1)]: Done   5 out of   5 | elapsed:    6.2s finished\n"
     ]
    },
    {
     "name": "stdout",
     "output_type": "stream",
     "text": [
      "text label_shift: 2 (128909, 300) (128909,) num features: 300 0.5063262187497839\n"
     ]
    },
    {
     "name": "stderr",
     "output_type": "stream",
     "text": [
      "\n",
      "\n",
      "  7%|▋         | 2/28 [01:10<15:40, 36.17s/it]\u001b[A\u001b[A[Parallel(n_jobs=1)]: Done   5 out of   5 | elapsed:   52.2s finished\n"
     ]
    },
    {
     "name": "stdout",
     "output_type": "stream",
     "text": [
      "video label_shift: 0 (129245, 2048) (129245,) num features: 2048 0.5305670958281145\n"
     ]
    },
    {
     "name": "stderr",
     "output_type": "stream",
     "text": [
      "\n",
      "\n",
      " 18%|█▊        | 5/28 [01:25<10:15, 26.76s/it]\u001b[A\u001b[A[Parallel(n_jobs=1)]: Using backend SequentialBackend with 1 concurrent workers.\n",
      "[Parallel(n_jobs=1)]: Using backend SequentialBackend with 1 concurrent workers.\n",
      "[Parallel(n_jobs=1)]: Done   5 out of   5 | elapsed:   10.5s finished\n"
     ]
    },
    {
     "name": "stdout",
     "output_type": "stream",
     "text": [
      "voxaudio label_shift: 0 (129245, 512) (129245,) num features: 512 0.6571161993204042\n"
     ]
    },
    {
     "name": "stderr",
     "output_type": "stream",
     "text": [
      "[Parallel(n_jobs=1)]: Done   5 out of   5 | elapsed:   53.8s finished\n"
     ]
    },
    {
     "name": "stdout",
     "output_type": "stream",
     "text": [
      "video label_shift: 2 (128909, 2048) (128909,) num features: 2048 0.5242317016369821\n"
     ]
    },
    {
     "name": "stderr",
     "output_type": "stream",
     "text": [
      "\n",
      "\n",
      " 21%|██▏       | 6/28 [01:58<10:29, 28.60s/it]\u001b[A\u001b[A[Parallel(n_jobs=1)]: Using backend SequentialBackend with 1 concurrent workers.\n",
      "[Parallel(n_jobs=1)]: Using backend SequentialBackend with 1 concurrent workers.\n",
      "[Parallel(n_jobs=1)]: Done   5 out of   5 | elapsed:   10.5s finished\n"
     ]
    },
    {
     "name": "stdout",
     "output_type": "stream",
     "text": [
      "voxaudio label_shift: 2 (128909, 512) (128909,) num features: 512 0.6512731066345603\n"
     ]
    },
    {
     "name": "stderr",
     "output_type": "stream",
     "text": [
      "[Parallel(n_jobs=1)]: Using backend SequentialBackend with 1 concurrent workers.\n",
      "[Parallel(n_jobs=1)]: Using backend SequentialBackend with 1 concurrent workers.\n",
      "[Parallel(n_jobs=1)]: Done   5 out of   5 | elapsed:   53.7s finished\n"
     ]
    },
    {
     "name": "stdout",
     "output_type": "stream",
     "text": [
      "video label_shift: 4 (128573, 2048) (128573,) num features: 2048 0.5226766517726793\n"
     ]
    },
    {
     "name": "stderr",
     "output_type": "stream",
     "text": [
      "\n",
      "\n",
      " 25%|██▌       | 7/28 [02:37<11:07, 31.79s/it]\u001b[A\u001b[A[Parallel(n_jobs=1)]: Done   5 out of   5 | elapsed:   11.0s finished\n"
     ]
    },
    {
     "name": "stdout",
     "output_type": "stream",
     "text": [
      "voxaudio label_shift: 4 (128573, 512) (128573,) num features: 512 0.6473285816123214\n"
     ]
    },
    {
     "name": "stderr",
     "output_type": "stream",
     "text": [
      "[Parallel(n_jobs=1)]: Using backend SequentialBackend with 1 concurrent workers.\n",
      "[Parallel(n_jobs=1)]: Done   5 out of   5 | elapsed:   54.2s finished\n"
     ]
    },
    {
     "name": "stdout",
     "output_type": "stream",
     "text": [
      "video label_shift: 9 (127733, 2048) (127733,) num features: 2048 0.5208450345767573\n"
     ]
    },
    {
     "name": "stderr",
     "output_type": "stream",
     "text": [
      "\n",
      "\n",
      " 29%|██▊       | 8/28 [03:08<10:30, 31.53s/it]\u001b[A\u001b[A[Parallel(n_jobs=1)]: Done   5 out of   5 | elapsed:   10.9s finished\n"
     ]
    },
    {
     "name": "stdout",
     "output_type": "stream",
     "text": [
      "voxaudio label_shift: 9 (127733, 512) (127733,) num features: 512 0.6398188130665725\n"
     ]
    },
    {
     "name": "stderr",
     "output_type": "stream",
     "text": [
      "\n",
      "\n",
      " 43%|████▎     | 12/28 [03:10<05:55, 22.24s/it]\u001b[A\u001b[A[Parallel(n_jobs=1)]: Using backend SequentialBackend with 1 concurrent workers.\n",
      "[Parallel(n_jobs=1)]: Done   5 out of   5 | elapsed:  1.0min finished\n"
     ]
    },
    {
     "name": "stdout",
     "output_type": "stream",
     "text": [
      "text_video label_shift: 0 (129245, 2348) (129245,) num features: 2348 0.552516997540663\n"
     ]
    },
    {
     "name": "stderr",
     "output_type": "stream",
     "text": [
      "\n",
      "\n",
      " 46%|████▋     | 13/28 [03:34<05:42, 22.85s/it]\u001b[A\u001b[A[Parallel(n_jobs=1)]: Using backend SequentialBackend with 1 concurrent workers.\n",
      "[Parallel(n_jobs=1)]: Using backend SequentialBackend with 1 concurrent workers.\n",
      "[Parallel(n_jobs=1)]: Using backend SequentialBackend with 1 concurrent workers.\n",
      "[Parallel(n_jobs=1)]: Done   5 out of   5 | elapsed:   17.4s finished\n"
     ]
    },
    {
     "name": "stdout",
     "output_type": "stream",
     "text": [
      "text_voxaudio label_shift: 0 (129245, 812) (129245,) num features: 812 0.565832251054358\n"
     ]
    },
    {
     "name": "stderr",
     "output_type": "stream",
     "text": [
      "[Parallel(n_jobs=1)]: Using backend SequentialBackend with 1 concurrent workers.\n",
      "[Parallel(n_jobs=1)]: Done   5 out of   5 | elapsed:   18.2s finished\n"
     ]
    },
    {
     "name": "stdout",
     "output_type": "stream",
     "text": [
      "text_voxaudio label_shift: 2 (128909, 812) (128909,) num features: 812 0.5562060298449196\n"
     ]
    },
    {
     "name": "stderr",
     "output_type": "stream",
     "text": [
      "[Parallel(n_jobs=1)]: Done   5 out of   5 | elapsed:  1.1min finished\n"
     ]
    },
    {
     "name": "stdout",
     "output_type": "stream",
     "text": [
      "text_video label_shift: 2 (128909, 2348) (128909,) num features: 2348 0.5344939702512123\n"
     ]
    },
    {
     "name": "stderr",
     "output_type": "stream",
     "text": [
      "\n",
      "\n",
      " 50%|█████     | 14/28 [04:35<07:58, 34.16s/it]\u001b[A\u001b[A[Parallel(n_jobs=1)]: Using backend SequentialBackend with 1 concurrent workers.\n",
      "[Parallel(n_jobs=1)]: Done   5 out of   5 | elapsed:  1.1min finished\n"
     ]
    },
    {
     "name": "stdout",
     "output_type": "stream",
     "text": [
      "text_video label_shift: 4 (128573, 2348) (128573,) num features: 2348 0.527451718677359\n"
     ]
    },
    {
     "name": "stderr",
     "output_type": "stream",
     "text": [
      "\n",
      "\n",
      " 54%|█████▎    | 15/28 [04:45<05:49, 26.90s/it]\u001b[A\u001b[A[Parallel(n_jobs=1)]: Done   5 out of   5 | elapsed:  1.1min finished\n"
     ]
    },
    {
     "name": "stdout",
     "output_type": "stream",
     "text": [
      "text_video label_shift: 9 (127733, 2348) (127733,) num features: 2348 0.5162805620124757\n"
     ]
    },
    {
     "name": "stderr",
     "output_type": "stream",
     "text": [
      "\n",
      "\n",
      " 57%|█████▋    | 16/28 [04:48<03:56, 19.71s/it]\u001b[A\u001b[A[Parallel(n_jobs=1)]: Done   5 out of   5 | elapsed:   17.3s finished\n"
     ]
    },
    {
     "name": "stdout",
     "output_type": "stream",
     "text": [
      "text_voxaudio label_shift: 4 (128573, 812) (128573,) num features: 812 0.5529697529402194\n"
     ]
    },
    {
     "name": "stderr",
     "output_type": "stream",
     "text": [
      "\n",
      "\n",
      " 68%|██████▊   | 19/28 [04:59<02:13, 14.88s/it]\u001b[A\u001b[A[Parallel(n_jobs=1)]: Using backend SequentialBackend with 1 concurrent workers.\n",
      "[Parallel(n_jobs=1)]: Using backend SequentialBackend with 1 concurrent workers.\n",
      "[Parallel(n_jobs=1)]: Done   5 out of   5 | elapsed:   17.2s finished\n"
     ]
    },
    {
     "name": "stdout",
     "output_type": "stream",
     "text": [
      "text_voxaudio label_shift: 9 (127733, 812) (127733,) num features: 812 0.5563478781742364\n"
     ]
    },
    {
     "name": "stderr",
     "output_type": "stream",
     "text": [
      "\n",
      "\n",
      " 71%|███████▏  | 20/28 [05:22<02:18, 17.37s/it]\u001b[A\u001b[A[Parallel(n_jobs=1)]: Using backend SequentialBackend with 1 concurrent workers.\n",
      "[Parallel(n_jobs=1)]: Using backend SequentialBackend with 1 concurrent workers.\n",
      "[Parallel(n_jobs=1)]: Using backend SequentialBackend with 1 concurrent workers.\n",
      "[Parallel(n_jobs=1)]: Using backend SequentialBackend with 1 concurrent workers.\n",
      "[Parallel(n_jobs=1)]: Done   5 out of   5 | elapsed:  1.2min finished\n"
     ]
    },
    {
     "name": "stdout",
     "output_type": "stream",
     "text": [
      "video_voxaudio label_shift: 0 (129245, 2560) (129245,) num features: 2560 0.6093084253641647\n"
     ]
    },
    {
     "name": "stderr",
     "output_type": "stream",
     "text": [
      "\n",
      "\n",
      " 75%|███████▌  | 21/28 [06:16<03:18, 28.31s/it]\u001b[A\u001b[A[Parallel(n_jobs=1)]: Using backend SequentialBackend with 1 concurrent workers.\n",
      "[Parallel(n_jobs=1)]: Done   5 out of   5 | elapsed:  1.2min finished\n"
     ]
    },
    {
     "name": "stdout",
     "output_type": "stream",
     "text": [
      "video_voxaudio label_shift: 2 (128909, 2560) (128909,) num features: 2560 0.6045274376866789\n"
     ]
    },
    {
     "name": "stderr",
     "output_type": "stream",
     "text": [
      "[Parallel(n_jobs=1)]: Done   5 out of   5 | elapsed:  1.3min finished\n"
     ]
    },
    {
     "name": "stdout",
     "output_type": "stream",
     "text": [
      "text_video_voxaudio label_shift: 0 (129245, 2860) (129245,) num features: 2860 0.5824986991977159\n"
     ]
    },
    {
     "name": "stderr",
     "output_type": "stream",
     "text": [
      "\n",
      "\n",
      " 79%|███████▊  | 22/28 [06:51<03:03, 30.61s/it]\u001b[A\u001b[A[Parallel(n_jobs=1)]: Done   5 out of   5 | elapsed:  1.2min finished\n"
     ]
    },
    {
     "name": "stdout",
     "output_type": "stream",
     "text": [
      "video_voxaudio label_shift: 4 (128573, 2560) (128573,) num features: 2560 0.6015183879038801\n"
     ]
    },
    {
     "name": "stderr",
     "output_type": "stream",
     "text": [
      "\n",
      "\n",
      " 82%|████████▏ | 23/28 [07:02<02:03, 24.62s/it]\u001b[A\u001b[A[Parallel(n_jobs=1)]: Done   5 out of   5 | elapsed:  1.2min finished\n"
     ]
    },
    {
     "name": "stdout",
     "output_type": "stream",
     "text": [
      "video_voxaudio label_shift: 9 (127733, 2560) (127733,) num features: 2560 0.5949912370783761\n"
     ]
    },
    {
     "name": "stderr",
     "output_type": "stream",
     "text": [
      "\n",
      "\n",
      " 86%|████████▌ | 24/28 [07:02<01:09, 17.33s/it]\u001b[A\u001b[A[Parallel(n_jobs=1)]: Using backend SequentialBackend with 1 concurrent workers.\n",
      "[Parallel(n_jobs=1)]: Done   5 out of   5 | elapsed:  1.3min finished\n"
     ]
    },
    {
     "name": "stdout",
     "output_type": "stream",
     "text": [
      "text_video_voxaudio label_shift: 2 (128909, 2860) (128909,) num features: 2860 0.5704493027120277\n"
     ]
    },
    {
     "name": "stderr",
     "output_type": "stream",
     "text": [
      "\n",
      "\n",
      " 93%|█████████▎| 26/28 [07:46<00:37, 18.62s/it]\u001b[A\u001b[A[Parallel(n_jobs=1)]: Using backend SequentialBackend with 1 concurrent workers.\n",
      "[Parallel(n_jobs=1)]: Done   5 out of   5 | elapsed:  1.2min finished\n"
     ]
    },
    {
     "name": "stdout",
     "output_type": "stream",
     "text": [
      "text_video_voxaudio label_shift: 4 (128573, 2860) (128573,) num features: 2860 0.5656089226061074\n"
     ]
    },
    {
     "name": "stderr",
     "output_type": "stream",
     "text": [
      "\n",
      "\n",
      " 96%|█████████▋| 27/28 [08:37<00:28, 28.31s/it]\u001b[A\u001b[A[Parallel(n_jobs=1)]: Done   5 out of   5 | elapsed:  1.2min finished\n"
     ]
    },
    {
     "name": "stdout",
     "output_type": "stream",
     "text": [
      "text_video_voxaudio label_shift: 9 (127733, 2860) (127733,) num features: 2860 0.5629714896852759\n"
     ]
    },
    {
     "name": "stderr",
     "output_type": "stream",
     "text": [
      "\n",
      "\n",
      "100%|██████████| 28/28 [09:08<00:00, 29.23s/it]\u001b[A\u001b[A"
     ]
    },
    {
     "name": "stdout",
     "output_type": "stream",
     "text": [
      "use_crossval: True | use_all_perspectives: False | predict_only_host: False | clf: <class 'sklearn.naive_bayes.GaussianNB'>\n",
      "{4: [(('text', 0), 0.671555662971522), (('text', 2), 0.6123672704559651), (('text', 4), 0.599591738660769), (('text', 9), 0.5748549256198585), (('video', 0), 0.5576084483926695), (('video', 2), 0.5461145607524709), (('video', 4), 0.542276239221862), (('video', 9), 0.5310812002880885), (('voxaudio', 0), 0.7031173301892262), (('voxaudio', 2), 0.6603813792850057), (('voxaudio', 4), 0.6436909856762745), (('voxaudio', 9), 0.625969299650994), (('text_video', 0), 0.6414308004973109), (('text_video', 2), 0.6015064114340302), (('text_video', 4), 0.585388173515563), (('text_video', 9), 0.5584102798197941), (('text_voxaudio', 0), 0.6990200529449961), (('text_voxaudio', 2), 0.643935775434471), (('text_voxaudio', 4), 0.6280211827849997), (('text_voxaudio', 9), 0.6061136811592092), (('video_voxaudio', 0), 0.6645193458483327), (('video_voxaudio', 2), 0.6246463607304259), (('video_voxaudio', 4), 0.6089922861517474), (('video_voxaudio', 9), 0.5845457285507417), (('text_video_voxaudio', 0), 0.6900486348399804), (('text_video_voxaudio', 2), 0.6407980306426131), (('text_video_voxaudio', 4), 0.6231443382952732), (('text_video_voxaudio', 9), 0.5955040202445318)], 5: [(('text', 0), 0.6768598986991343), (('text', 2), 0.6358361885295272), (('text', 4), 0.6157670525686695), (('text', 9), 0.5903164393472323), (('video', 0), 0.5497097132219093), (('video', 2), 0.538431091174597), (('video', 4), 0.5336887848726968), (('video', 9), 0.5216805206621352), (('voxaudio', 0), 0.6997071686488399), (('voxaudio', 2), 0.6626996172497414), (('voxaudio', 4), 0.6455940272865319), (('voxaudio', 9), 0.6282407319458313), (('text_video', 0), 0.6193035772083382), (('text_video', 2), 0.5861956819922309), (('text_video', 4), 0.5717011667920494), (('text_video', 9), 0.54240555986723), (('text_voxaudio', 0), 0.6949345463957047), (('text_voxaudio', 2), 0.6543679143796668), (('text_voxaudio', 4), 0.6347353029760334), (('text_voxaudio', 9), 0.6090486509604645), (('video_voxaudio', 0), 0.6533998675490608), (('video_voxaudio', 2), 0.618162936158367), (('video_voxaudio', 4), 0.6015280675745843), (('video_voxaudio', 9), 0.5752786693449676), (('text_video_voxaudio', 0), 0.678201085546779), (('text_video_voxaudio', 2), 0.6368692326877674), (('text_video_voxaudio', 4), 0.6169705213430655), (('text_video_voxaudio', 9), 0.5841696274003094)], 10: [(('text', 0), 0.5811783428377613), (('text', 2), 0.523266273394551), (('text', 4), 0.49142406670047645), (('text', 9), 0.45736721161926097), (('video', 0), 0.5408929586124918), (('video', 2), 0.530378690668295), (('video', 4), 0.5250830214934218), (('video', 9), 0.5182381968600402), (('voxaudio', 0), 0.6798408298789592), (('voxaudio', 2), 0.6582110517150042), (('voxaudio', 4), 0.6497171748639153), (('voxaudio', 9), 0.6374654655431622), (('text_video', 0), 0.5767013863623583), (('text_video', 2), 0.552737957725175), (('text_video', 4), 0.5395351125560695), (('text_video', 9), 0.5185697731498239), (('text_voxaudio', 0), 0.642117552145183), (('text_voxaudio', 2), 0.6137364720771329), (('text_voxaudio', 4), 0.5982409382357182), (('text_voxaudio', 9), 0.5687714464323997), (('video_voxaudio', 0), 0.6347275506172159), (('video_voxaudio', 2), 0.6115731744271695), (('video_voxaudio', 4), 0.5986092994389285), (('video_voxaudio', 9), 0.5819537627177971), (('text_video_voxaudio', 0), 0.6386857835879949), (('text_video_voxaudio', 2), 0.6098677277725841), (('text_video_voxaudio', 4), 0.5930889724087021), (('text_video_voxaudio', 9), 0.5651757764826092)], 30: [(('text', 0), 0.5229911514822895), (('text', 2), 0.5063262187497839), (('text', 4), 0.49713388955774623), (('text', 9), 0.4801891871949933), (('video', 0), 0.5305670958281145), (('video', 2), 0.5242317016369821), (('video', 4), 0.5226766517726793), (('video', 9), 0.5208450345767573), (('voxaudio', 0), 0.6571161993204042), (('voxaudio', 2), 0.6512731066345603), (('voxaudio', 4), 0.6473285816123214), (('voxaudio', 9), 0.6398188130665725), (('text_video', 0), 0.552516997540663), (('text_video', 2), 0.5344939702512123), (('text_video', 4), 0.527451718677359), (('text_video', 9), 0.5162805620124757), (('text_voxaudio', 0), 0.565832251054358), (('text_voxaudio', 2), 0.5562060298449196), (('text_voxaudio', 4), 0.5529697529402194), (('text_voxaudio', 9), 0.5563478781742364), (('video_voxaudio', 0), 0.6093084253641647), (('video_voxaudio', 2), 0.6045274376866789), (('video_voxaudio', 4), 0.6015183879038801), (('video_voxaudio', 9), 0.5949912370783761), (('text_video_voxaudio', 0), 0.5824986991977159), (('text_video_voxaudio', 2), 0.5704493027120277), (('text_video_voxaudio', 4), 0.5656089226061074), (('text_video_voxaudio', 9), 0.5629714896852759)]}\n",
      "use_crossval: True | use_all_perspectives: False | predict_only_host: True | clf: <class 'sklearn.naive_bayes.GaussianNB'>\n",
      "(136431, 2881)\n"
     ]
    },
    {
     "name": "stderr",
     "output_type": "stream",
     "text": [
      "\n",
      "\n",
      "  0%|          | 0/28 [00:00<?, ?it/s]\u001b[A\u001b[A[Parallel(n_jobs=1)]: Using backend SequentialBackend with 1 concurrent workers.\n",
      "[Parallel(n_jobs=1)]: Using backend SequentialBackend with 1 concurrent workers.\n",
      "[Parallel(n_jobs=1)]: Done   5 out of   5 | elapsed:    2.0s finished\n"
     ]
    },
    {
     "name": "stdout",
     "output_type": "stream",
     "text": [
      "text label_shift: 0 (48978, 300) (48978,) num features: 300 0.6622354344086439\n"
     ]
    },
    {
     "name": "stderr",
     "output_type": "stream",
     "text": [
      "\n",
      "\n",
      "  4%|▎         | 1/28 [00:14<06:20, 14.09s/it]\u001b[A\u001b[A[Parallel(n_jobs=1)]: Using backend SequentialBackend with 1 concurrent workers.\n",
      "[Parallel(n_jobs=1)]: Using backend SequentialBackend with 1 concurrent workers.\n",
      "[Parallel(n_jobs=1)]: Using backend SequentialBackend with 1 concurrent workers.\n",
      "[Parallel(n_jobs=1)]: Using backend SequentialBackend with 1 concurrent workers.\n",
      "[Parallel(n_jobs=1)]: Done   5 out of   5 | elapsed:    2.8s finished\n"
     ]
    },
    {
     "name": "stdout",
     "output_type": "stream",
     "text": [
      "text label_shift: 4 (48730, 300) (48730,) num features: 300 0.5923248634569396\n"
     ]
    },
    {
     "name": "stderr",
     "output_type": "stream",
     "text": [
      "[Parallel(n_jobs=1)]: Done   5 out of   5 | elapsed:    2.9s finished\n"
     ]
    },
    {
     "name": "stdout",
     "output_type": "stream",
     "text": [
      "text label_shift: 2 (48854, 300) (48854,) num features: 300 0.6142788698789332\n"
     ]
    },
    {
     "name": "stderr",
     "output_type": "stream",
     "text": [
      "\n",
      "\n",
      "  7%|▋         | 2/28 [00:26<05:50, 13.47s/it]\u001b[A\u001b[A[Parallel(n_jobs=1)]: Done   5 out of   5 | elapsed:    2.9s finished\n"
     ]
    },
    {
     "name": "stdout",
     "output_type": "stream",
     "text": [
      "text label_shift: 9 (48420, 300) (48420,) num features: 300 0.5455600786798769\n"
     ]
    },
    {
     "name": "stderr",
     "output_type": "stream",
     "text": [
      "\n",
      "\n",
      " 14%|█▍        | 4/28 [00:26<03:46,  9.45s/it]\u001b[A\u001b[A[Parallel(n_jobs=1)]: Done   5 out of   5 | elapsed:   20.0s finished\n"
     ]
    },
    {
     "name": "stdout",
     "output_type": "stream",
     "text": [
      "video label_shift: 0 (48978, 2048) (48978,) num features: 2048 0.5240508663618886\n"
     ]
    },
    {
     "name": "stderr",
     "output_type": "stream",
     "text": [
      "\n",
      "\n",
      " 18%|█▊        | 5/28 [00:32<03:14,  8.44s/it]\u001b[A\u001b[A[Parallel(n_jobs=1)]: Using backend SequentialBackend with 1 concurrent workers.\n",
      "[Parallel(n_jobs=1)]: Using backend SequentialBackend with 1 concurrent workers.\n",
      "[Parallel(n_jobs=1)]: Done   5 out of   5 | elapsed:    3.4s finished\n"
     ]
    },
    {
     "name": "stdout",
     "output_type": "stream",
     "text": [
      "voxaudio label_shift: 0 (48978, 512) (48978,) num features: 512 0.6771201317494551\n"
     ]
    },
    {
     "name": "stderr",
     "output_type": "stream",
     "text": [
      "[Parallel(n_jobs=1)]: Done   5 out of   5 | elapsed:   20.3s finished\n"
     ]
    },
    {
     "name": "stdout",
     "output_type": "stream",
     "text": [
      "video label_shift: 2 (48854, 2048) (48854,) num features: 2048 0.5090461351094048\n"
     ]
    },
    {
     "name": "stderr",
     "output_type": "stream",
     "text": [
      "\n",
      "\n",
      " 21%|██▏       | 6/28 [00:43<03:26,  9.41s/it]\u001b[A\u001b[A[Parallel(n_jobs=1)]: Using backend SequentialBackend with 1 concurrent workers.\n",
      "[Parallel(n_jobs=1)]: Using backend SequentialBackend with 1 concurrent workers.\n",
      "[Parallel(n_jobs=1)]: Done   5 out of   5 | elapsed:    4.0s finished\n"
     ]
    },
    {
     "name": "stdout",
     "output_type": "stream",
     "text": [
      "voxaudio label_shift: 2 (48854, 512) (48854,) num features: 512 0.6203176995184589\n"
     ]
    },
    {
     "name": "stderr",
     "output_type": "stream",
     "text": [
      "[Parallel(n_jobs=1)]: Using backend SequentialBackend with 1 concurrent workers.\n",
      "[Parallel(n_jobs=1)]: Using backend SequentialBackend with 1 concurrent workers.\n",
      "[Parallel(n_jobs=1)]: Done   5 out of   5 | elapsed:   20.0s finished\n"
     ]
    },
    {
     "name": "stdout",
     "output_type": "stream",
     "text": [
      "video label_shift: 4 (48730, 2048) (48730,) num features: 2048 0.49847979645342244\n"
     ]
    },
    {
     "name": "stderr",
     "output_type": "stream",
     "text": [
      "\n",
      "\n",
      " 25%|██▌       | 7/28 [00:59<03:55, 11.19s/it]\u001b[A\u001b[A[Parallel(n_jobs=1)]: Done   5 out of   5 | elapsed:    3.8s finished\n"
     ]
    },
    {
     "name": "stdout",
     "output_type": "stream",
     "text": [
      "voxaudio label_shift: 4 (48730, 512) (48730,) num features: 512 0.5945618302074402\n"
     ]
    },
    {
     "name": "stderr",
     "output_type": "stream",
     "text": [
      "[Parallel(n_jobs=1)]: Using backend SequentialBackend with 1 concurrent workers.\n",
      "[Parallel(n_jobs=1)]: Done   5 out of   5 | elapsed:   20.2s finished\n"
     ]
    },
    {
     "name": "stdout",
     "output_type": "stream",
     "text": [
      "video label_shift: 9 (48420, 2048) (48420,) num features: 2048 0.4894046457326583\n"
     ]
    },
    {
     "name": "stderr",
     "output_type": "stream",
     "text": [
      "[Parallel(n_jobs=1)]: Done   5 out of   5 | elapsed:    3.5s finished\n",
      "\n",
      "\n",
      " 29%|██▊       | 8/28 [01:10<03:44, 11.23s/it]\u001b[A\u001b[A"
     ]
    },
    {
     "name": "stdout",
     "output_type": "stream",
     "text": [
      "voxaudio label_shift: 9 (48420, 512) (48420,) num features: 512 0.5617720058872255\n"
     ]
    },
    {
     "name": "stderr",
     "output_type": "stream",
     "text": [
      "[Parallel(n_jobs=1)]: Done   5 out of   5 | elapsed:   22.9s finished\n"
     ]
    },
    {
     "name": "stdout",
     "output_type": "stream",
     "text": [
      "text_video label_shift: 0 (48978, 2348) (48978,) num features: 2348 0.5821584791200417\n"
     ]
    },
    {
     "name": "stderr",
     "output_type": "stream",
     "text": [
      "\n",
      "\n",
      " 46%|████▋     | 13/28 [01:19<02:06,  8.42s/it]\u001b[A\u001b[A[Parallel(n_jobs=1)]: Using backend SequentialBackend with 1 concurrent workers.\n",
      "[Parallel(n_jobs=1)]: Using backend SequentialBackend with 1 concurrent workers.\n",
      "[Parallel(n_jobs=1)]: Using backend SequentialBackend with 1 concurrent workers.\n",
      "[Parallel(n_jobs=1)]: Using backend SequentialBackend with 1 concurrent workers.\n",
      "[Parallel(n_jobs=1)]: Done   5 out of   5 | elapsed:    6.7s finished\n"
     ]
    },
    {
     "name": "stdout",
     "output_type": "stream",
     "text": [
      "text_voxaudio label_shift: 0 (48978, 812) (48978,) num features: 812 0.6760991881133678\n"
     ]
    },
    {
     "name": "stderr",
     "output_type": "stream",
     "text": [
      "[Parallel(n_jobs=1)]: Using backend SequentialBackend with 1 concurrent workers.\n",
      "[Parallel(n_jobs=1)]: Done   5 out of   5 | elapsed:    6.9s finished\n"
     ]
    },
    {
     "name": "stdout",
     "output_type": "stream",
     "text": [
      "text_voxaudio label_shift: 2 (48854, 812) (48854,) num features: 812 0.6201332567538473\n"
     ]
    },
    {
     "name": "stderr",
     "output_type": "stream",
     "text": [
      "[Parallel(n_jobs=1)]: Done   5 out of   5 | elapsed:   24.0s finished\n"
     ]
    },
    {
     "name": "stdout",
     "output_type": "stream",
     "text": [
      "text_video label_shift: 2 (48854, 2348) (48854,) num features: 2348 0.5398112164970759\n"
     ]
    },
    {
     "name": "stderr",
     "output_type": "stream",
     "text": [
      "\n",
      "\n",
      " 50%|█████     | 14/28 [01:44<03:05, 13.22s/it]\u001b[A\u001b[A[Parallel(n_jobs=1)]: Using backend SequentialBackend with 1 concurrent workers.\n",
      "[Parallel(n_jobs=1)]: Done   5 out of   5 | elapsed:   24.1s finished\n"
     ]
    },
    {
     "name": "stdout",
     "output_type": "stream",
     "text": [
      "text_video label_shift: 4 (48730, 2348) (48730,) num features: 2348 0.5205604797468495\n"
     ]
    },
    {
     "name": "stderr",
     "output_type": "stream",
     "text": [
      "\n",
      "\n",
      " 54%|█████▎    | 15/28 [01:48<02:16, 10.50s/it]\u001b[A\u001b[A[Parallel(n_jobs=1)]: Done   5 out of   5 | elapsed:   24.0s finished\n"
     ]
    },
    {
     "name": "stdout",
     "output_type": "stream",
     "text": [
      "text_video label_shift: 9 (48420, 2348) (48420,) num features: 2348 0.49861578594143746\n"
     ]
    },
    {
     "name": "stderr",
     "output_type": "stream",
     "text": [
      "\n",
      "\n",
      " 57%|█████▋    | 16/28 [01:50<01:33,  7.83s/it]\u001b[A\u001b[A[Parallel(n_jobs=1)]: Done   5 out of   5 | elapsed:    6.4s finished\n"
     ]
    },
    {
     "name": "stdout",
     "output_type": "stream",
     "text": [
      "text_voxaudio label_shift: 4 (48730, 812) (48730,) num features: 812 0.5955056682549278\n"
     ]
    },
    {
     "name": "stderr",
     "output_type": "stream",
     "text": [
      "\n",
      "\n",
      " 68%|██████▊   | 19/28 [01:53<00:52,  5.79s/it]\u001b[A\u001b[A[Parallel(n_jobs=1)]: Using backend SequentialBackend with 1 concurrent workers.\n",
      "[Parallel(n_jobs=1)]: Using backend SequentialBackend with 1 concurrent workers.\n",
      "[Parallel(n_jobs=1)]: Done   5 out of   5 | elapsed:    5.6s finished\n"
     ]
    },
    {
     "name": "stdout",
     "output_type": "stream",
     "text": [
      "text_voxaudio label_shift: 9 (48420, 812) (48420,) num features: 812 0.563589632928027\n"
     ]
    },
    {
     "name": "stderr",
     "output_type": "stream",
     "text": [
      "\n",
      "\n",
      " 71%|███████▏  | 20/28 [02:01<00:52,  6.61s/it]\u001b[A\u001b[A[Parallel(n_jobs=1)]: Using backend SequentialBackend with 1 concurrent workers.\n",
      "[Parallel(n_jobs=1)]: Using backend SequentialBackend with 1 concurrent workers.\n",
      "[Parallel(n_jobs=1)]: Using backend SequentialBackend with 1 concurrent workers.\n",
      "[Parallel(n_jobs=1)]: Using backend SequentialBackend with 1 concurrent workers.\n",
      "[Parallel(n_jobs=1)]: Done   5 out of   5 | elapsed:   25.1s finished\n"
     ]
    },
    {
     "name": "stdout",
     "output_type": "stream",
     "text": [
      "video_voxaudio label_shift: 0 (48978, 2560) (48978,) num features: 2560 0.6485759811538749\n"
     ]
    },
    {
     "name": "stderr",
     "output_type": "stream",
     "text": [
      "\n",
      "\n",
      " 75%|███████▌  | 21/28 [02:21<01:13, 10.44s/it]\u001b[A\u001b[A[Parallel(n_jobs=1)]: Using backend SequentialBackend with 1 concurrent workers.\n",
      "[Parallel(n_jobs=1)]: Done   5 out of   5 | elapsed:   29.0s finished\n"
     ]
    },
    {
     "name": "stdout",
     "output_type": "stream",
     "text": [
      "text_video_voxaudio label_shift: 0 (48978, 2860) (48978,) num features: 2860 0.6583969287919709\n"
     ]
    },
    {
     "name": "stderr",
     "output_type": "stream",
     "text": [
      "[Parallel(n_jobs=1)]: Done   5 out of   5 | elapsed:   26.3s finished\n"
     ]
    },
    {
     "name": "stdout",
     "output_type": "stream",
     "text": [
      "video_voxaudio label_shift: 2 (48854, 2560) (48854,) num features: 2560 0.5886099146338433\n"
     ]
    },
    {
     "name": "stderr",
     "output_type": "stream",
     "text": [
      "\n",
      "\n",
      " 79%|███████▊  | 22/28 [02:35<01:09, 11.52s/it]\u001b[A\u001b[A[Parallel(n_jobs=1)]: Done   5 out of   5 | elapsed:   26.8s finished\n"
     ]
    },
    {
     "name": "stdout",
     "output_type": "stream",
     "text": [
      "video_voxaudio label_shift: 4 (48730, 2560) (48730,) num features: 2560 0.5589765688518213\n"
     ]
    },
    {
     "name": "stderr",
     "output_type": "stream",
     "text": [
      "\n",
      "\n",
      " 82%|████████▏ | 23/28 [02:41<00:49,  9.89s/it]\u001b[A\u001b[A[Parallel(n_jobs=1)]: Done   5 out of   5 | elapsed:   26.3s finished\n"
     ]
    },
    {
     "name": "stdout",
     "output_type": "stream",
     "text": [
      "video_voxaudio label_shift: 9 (48420, 2560) (48420,) num features: 2560 0.5223868888140804\n"
     ]
    },
    {
     "name": "stderr",
     "output_type": "stream",
     "text": [
      "\n",
      "\n",
      " 86%|████████▌ | 24/28 [02:41<00:27,  6.99s/it]\u001b[A\u001b[A[Parallel(n_jobs=1)]: Using backend SequentialBackend with 1 concurrent workers.\n",
      "[Parallel(n_jobs=1)]: Done   5 out of   5 | elapsed:   28.4s finished\n"
     ]
    },
    {
     "name": "stdout",
     "output_type": "stream",
     "text": [
      "text_video_voxaudio label_shift: 2 (48854, 2860) (48854,) num features: 2860 0.5982510696875998\n"
     ]
    },
    {
     "name": "stderr",
     "output_type": "stream",
     "text": [
      "\n",
      "\n",
      " 93%|█████████▎| 26/28 [02:55<00:14,  7.06s/it]\u001b[A\u001b[A[Parallel(n_jobs=1)]: Using backend SequentialBackend with 1 concurrent workers.\n",
      "[Parallel(n_jobs=1)]: Done   5 out of   5 | elapsed:   26.9s finished\n"
     ]
    },
    {
     "name": "stdout",
     "output_type": "stream",
     "text": [
      "text_video_voxaudio label_shift: 4 (48730, 2860) (48730,) num features: 2860 0.5694424937237746\n"
     ]
    },
    {
     "name": "stderr",
     "output_type": "stream",
     "text": [
      "\n",
      "\n",
      " 96%|█████████▋| 27/28 [03:13<00:10, 10.24s/it]\u001b[A\u001b[A[Parallel(n_jobs=1)]: Done   5 out of   5 | elapsed:   26.9s finished\n"
     ]
    },
    {
     "name": "stdout",
     "output_type": "stream",
     "text": [
      "text_video_voxaudio label_shift: 9 (48420, 2860) (48420,) num features: 2860 0.5298219674420256\n"
     ]
    },
    {
     "name": "stderr",
     "output_type": "stream",
     "text": [
      "\n",
      "\n",
      "100%|██████████| 28/28 [03:25<00:00, 10.88s/it]\u001b[A\u001b[A"
     ]
    },
    {
     "name": "stdout",
     "output_type": "stream",
     "text": [
      "use_crossval: True | use_all_perspectives: False | predict_only_host: True | clf: <class 'sklearn.naive_bayes.GaussianNB'>\n",
      "{4: [(('text', 0), 0.6622354344086439), (('text', 2), 0.6142788698789332), (('text', 4), 0.5923248634569396), (('text', 9), 0.5455600786798769), (('video', 0), 0.5240508663618886), (('video', 2), 0.5090461351094048), (('video', 4), 0.49847979645342244), (('video', 9), 0.4894046457326583), (('voxaudio', 0), 0.6771201317494551), (('voxaudio', 2), 0.6203176995184589), (('voxaudio', 4), 0.5945618302074402), (('voxaudio', 9), 0.5617720058872255), (('text_video', 0), 0.5821584791200417), (('text_video', 2), 0.5398112164970759), (('text_video', 4), 0.5205604797468495), (('text_video', 9), 0.49861578594143746), (('text_voxaudio', 0), 0.6760991881133678), (('text_voxaudio', 2), 0.6201332567538473), (('text_voxaudio', 4), 0.5955056682549278), (('text_voxaudio', 9), 0.563589632928027), (('video_voxaudio', 0), 0.6485759811538749), (('video_voxaudio', 2), 0.5886099146338433), (('video_voxaudio', 4), 0.5589765688518213), (('video_voxaudio', 9), 0.5223868888140804), (('text_video_voxaudio', 0), 0.6583969287919709), (('text_video_voxaudio', 2), 0.5982510696875998), (('text_video_voxaudio', 4), 0.5694424937237746), (('text_video_voxaudio', 9), 0.5298219674420256)]}\n",
      "(132008, 2881)\n"
     ]
    },
    {
     "name": "stderr",
     "output_type": "stream",
     "text": [
      "\n",
      "\n",
      "  0%|          | 0/28 [00:00<?, ?it/s]\u001b[A\u001b[A[Parallel(n_jobs=1)]: Using backend SequentialBackend with 1 concurrent workers.\n",
      "[Parallel(n_jobs=1)]: Using backend SequentialBackend with 1 concurrent workers.\n",
      "[Parallel(n_jobs=1)]: Done   5 out of   5 | elapsed:    2.0s finished\n"
     ]
    },
    {
     "name": "stdout",
     "output_type": "stream",
     "text": [
      "text label_shift: 0 (48194, 300) (48194,) num features: 300 0.6535871545054965\n"
     ]
    },
    {
     "name": "stderr",
     "output_type": "stream",
     "text": [
      "\n",
      "\n",
      "  4%|▎         | 1/28 [00:14<06:18, 14.01s/it]\u001b[A\u001b[A[Parallel(n_jobs=1)]: Using backend SequentialBackend with 1 concurrent workers.\n",
      "[Parallel(n_jobs=1)]: Using backend SequentialBackend with 1 concurrent workers.\n",
      "[Parallel(n_jobs=1)]: Using backend SequentialBackend with 1 concurrent workers.\n",
      "[Parallel(n_jobs=1)]: Using backend SequentialBackend with 1 concurrent workers.\n",
      "[Parallel(n_jobs=1)]: Done   5 out of   5 | elapsed:    2.6s finished\n"
     ]
    },
    {
     "name": "stdout",
     "output_type": "stream",
     "text": [
      "text label_shift: 4 (47946, 300) (47946,) num features: 300 0.568993791104759\n"
     ]
    },
    {
     "name": "stderr",
     "output_type": "stream",
     "text": [
      "[Parallel(n_jobs=1)]: Done   5 out of   5 | elapsed:    2.8s finished\n"
     ]
    },
    {
     "name": "stdout",
     "output_type": "stream",
     "text": [
      "text label_shift: 9 (47636, 300) (47636,) num features: 300 0.520637014787835\n"
     ]
    },
    {
     "name": "stderr",
     "output_type": "stream",
     "text": [
      "[Parallel(n_jobs=1)]: Done   5 out of   5 | elapsed:    3.0s finished\n"
     ]
    },
    {
     "name": "stdout",
     "output_type": "stream",
     "text": [
      "text label_shift: 2 (48070, 300) (48070,) num features: 300 0.6111295208590596\n"
     ]
    },
    {
     "name": "stderr",
     "output_type": "stream",
     "text": [
      "\n",
      "\n",
      "  7%|▋         | 2/28 [00:26<05:49, 13.43s/it]\u001b[A\u001b[A[Parallel(n_jobs=1)]: Done   5 out of   5 | elapsed:   19.3s finished\n"
     ]
    },
    {
     "name": "stdout",
     "output_type": "stream",
     "text": [
      "video label_shift: 0 (48194, 2048) (48194,) num features: 2048 0.5260404266999892\n"
     ]
    },
    {
     "name": "stderr",
     "output_type": "stream",
     "text": [
      "\n",
      "\n",
      " 18%|█▊        | 5/28 [00:31<03:48,  9.94s/it]\u001b[A\u001b[A[Parallel(n_jobs=1)]: Using backend SequentialBackend with 1 concurrent workers.\n",
      "[Parallel(n_jobs=1)]: Using backend SequentialBackend with 1 concurrent workers.\n",
      "[Parallel(n_jobs=1)]: Done   5 out of   5 | elapsed:    3.6s finished\n"
     ]
    },
    {
     "name": "stdout",
     "output_type": "stream",
     "text": [
      "voxaudio label_shift: 0 (48194, 512) (48194,) num features: 512 0.6666801714114434\n"
     ]
    },
    {
     "name": "stderr",
     "output_type": "stream",
     "text": [
      "[Parallel(n_jobs=1)]: Done   5 out of   5 | elapsed:   19.8s finished\n"
     ]
    },
    {
     "name": "stdout",
     "output_type": "stream",
     "text": [
      "video label_shift: 2 (48070, 2048) (48070,) num features: 2048 0.5069270990076472\n"
     ]
    },
    {
     "name": "stderr",
     "output_type": "stream",
     "text": [
      "\n",
      "\n",
      " 21%|██▏       | 6/28 [00:44<03:56, 10.77s/it]\u001b[A\u001b[A[Parallel(n_jobs=1)]: Using backend SequentialBackend with 1 concurrent workers.\n",
      "[Parallel(n_jobs=1)]: Using backend SequentialBackend with 1 concurrent workers.\n",
      "[Parallel(n_jobs=1)]: Done   5 out of   5 | elapsed:    3.6s finished\n"
     ]
    },
    {
     "name": "stdout",
     "output_type": "stream",
     "text": [
      "voxaudio label_shift: 2 (48070, 512) (48070,) num features: 512 0.6167046371470442\n"
     ]
    },
    {
     "name": "stderr",
     "output_type": "stream",
     "text": [
      "[Parallel(n_jobs=1)]: Using backend SequentialBackend with 1 concurrent workers.\n",
      "[Parallel(n_jobs=1)]: Using backend SequentialBackend with 1 concurrent workers.\n",
      "[Parallel(n_jobs=1)]: Done   5 out of   5 | elapsed:   19.6s finished\n"
     ]
    },
    {
     "name": "stdout",
     "output_type": "stream",
     "text": [
      "video label_shift: 4 (47946, 2048) (47946,) num features: 2048 0.49768385549275845\n"
     ]
    },
    {
     "name": "stderr",
     "output_type": "stream",
     "text": [
      "\n",
      "\n",
      " 25%|██▌       | 7/28 [00:59<04:13, 12.09s/it]\u001b[A\u001b[A[Parallel(n_jobs=1)]: Done   5 out of   5 | elapsed:    3.7s finished\n"
     ]
    },
    {
     "name": "stdout",
     "output_type": "stream",
     "text": [
      "voxaudio label_shift: 4 (47946, 512) (47946,) num features: 512 0.591227209178731\n"
     ]
    },
    {
     "name": "stderr",
     "output_type": "stream",
     "text": [
      "[Parallel(n_jobs=1)]: Using backend SequentialBackend with 1 concurrent workers.\n",
      "[Parallel(n_jobs=1)]: Done   5 out of   5 | elapsed:   19.7s finished\n"
     ]
    },
    {
     "name": "stdout",
     "output_type": "stream",
     "text": [
      "video label_shift: 9 (47636, 2048) (47636,) num features: 2048 0.47967816202561026\n"
     ]
    },
    {
     "name": "stderr",
     "output_type": "stream",
     "text": [
      "\n",
      "\n",
      " 29%|██▊       | 8/28 [01:09<03:51, 11.55s/it]\u001b[A\u001b[A[Parallel(n_jobs=1)]: Done   5 out of   5 | elapsed:    3.3s finished\n"
     ]
    },
    {
     "name": "stdout",
     "output_type": "stream",
     "text": [
      "voxaudio label_shift: 9 (47636, 512) (47636,) num features: 512 0.559156959378497\n"
     ]
    },
    {
     "name": "stderr",
     "output_type": "stream",
     "text": [
      "\n",
      "\n",
      " 43%|████▎     | 12/28 [01:10<02:10,  8.13s/it]\u001b[A\u001b[A[Parallel(n_jobs=1)]: Using backend SequentialBackend with 1 concurrent workers.\n",
      "[Parallel(n_jobs=1)]: Done   5 out of   5 | elapsed:   22.5s finished\n"
     ]
    },
    {
     "name": "stdout",
     "output_type": "stream",
     "text": [
      "text_video label_shift: 0 (48194, 2348) (48194,) num features: 2348 0.582291906102476\n"
     ]
    },
    {
     "name": "stderr",
     "output_type": "stream",
     "text": [
      "\n",
      "\n",
      " 46%|████▋     | 13/28 [01:19<02:08,  8.55s/it]\u001b[A\u001b[A[Parallel(n_jobs=1)]: Using backend SequentialBackend with 1 concurrent workers.\n",
      "[Parallel(n_jobs=1)]: Using backend SequentialBackend with 1 concurrent workers.\n",
      "[Parallel(n_jobs=1)]: Using backend SequentialBackend with 1 concurrent workers.\n",
      "[Parallel(n_jobs=1)]: Done   5 out of   5 | elapsed:    6.0s finished\n"
     ]
    },
    {
     "name": "stdout",
     "output_type": "stream",
     "text": [
      "text_voxaudio label_shift: 0 (48194, 812) (48194,) num features: 812 0.6663066606981422\n"
     ]
    },
    {
     "name": "stderr",
     "output_type": "stream",
     "text": [
      "[Parallel(n_jobs=1)]: Using backend SequentialBackend with 1 concurrent workers.\n",
      "[Parallel(n_jobs=1)]: Done   5 out of   5 | elapsed:    6.3s finished\n"
     ]
    },
    {
     "name": "stdout",
     "output_type": "stream",
     "text": [
      "text_voxaudio label_shift: 2 (48070, 812) (48070,) num features: 812 0.616184648814588\n"
     ]
    },
    {
     "name": "stderr",
     "output_type": "stream",
     "text": [
      "[Parallel(n_jobs=1)]: Done   5 out of   5 | elapsed:   23.4s finished\n"
     ]
    },
    {
     "name": "stdout",
     "output_type": "stream",
     "text": [
      "text_video label_shift: 2 (48070, 2348) (48070,) num features: 2348 0.5430826146473824\n"
     ]
    },
    {
     "name": "stderr",
     "output_type": "stream",
     "text": [
      "\n",
      "\n",
      " 50%|█████     | 14/28 [01:42<03:00, 12.89s/it]\u001b[A\u001b[A[Parallel(n_jobs=1)]: Using backend SequentialBackend with 1 concurrent workers.\n",
      "[Parallel(n_jobs=1)]: Done   5 out of   5 | elapsed:   23.3s finished\n"
     ]
    },
    {
     "name": "stdout",
     "output_type": "stream",
     "text": [
      "text_video label_shift: 4 (47946, 2348) (47946,) num features: 2348 0.5248602419559717\n"
     ]
    },
    {
     "name": "stderr",
     "output_type": "stream",
     "text": [
      "\n",
      "\n",
      " 54%|█████▎    | 15/28 [01:47<02:17, 10.60s/it]\u001b[A\u001b[A[Parallel(n_jobs=1)]: Done   5 out of   5 | elapsed:   23.4s finished\n"
     ]
    },
    {
     "name": "stdout",
     "output_type": "stream",
     "text": [
      "text_video label_shift: 9 (47636, 2348) (47636,) num features: 2348 0.4975638683983908\n"
     ]
    },
    {
     "name": "stderr",
     "output_type": "stream",
     "text": [
      "\n",
      "\n",
      " 57%|█████▋    | 16/28 [01:48<01:30,  7.58s/it]\u001b[A\u001b[A[Parallel(n_jobs=1)]: Done   5 out of   5 | elapsed:    6.4s finished\n"
     ]
    },
    {
     "name": "stdout",
     "output_type": "stream",
     "text": [
      "text_voxaudio label_shift: 4 (47946, 812) (47946,) num features: 812 0.5916235792500611\n"
     ]
    },
    {
     "name": "stderr",
     "output_type": "stream",
     "text": [
      "\n",
      "\n",
      " 68%|██████▊   | 19/28 [01:52<00:51,  5.72s/it]\u001b[A\u001b[A[Parallel(n_jobs=1)]: Using backend SequentialBackend with 1 concurrent workers.\n",
      "[Parallel(n_jobs=1)]: Using backend SequentialBackend with 1 concurrent workers.\n",
      "[Parallel(n_jobs=1)]: Done   5 out of   5 | elapsed:    5.5s finished\n"
     ]
    },
    {
     "name": "stdout",
     "output_type": "stream",
     "text": [
      "text_voxaudio label_shift: 9 (47636, 812) (47636,) num features: 812 0.5606056614539958\n"
     ]
    },
    {
     "name": "stderr",
     "output_type": "stream",
     "text": [
      "\n",
      "\n",
      " 71%|███████▏  | 20/28 [01:59<00:48,  6.01s/it]\u001b[A\u001b[A[Parallel(n_jobs=1)]: Using backend SequentialBackend with 1 concurrent workers.\n",
      "[Parallel(n_jobs=1)]: Using backend SequentialBackend with 1 concurrent workers.\n",
      "[Parallel(n_jobs=1)]: Using backend SequentialBackend with 1 concurrent workers.\n",
      "[Parallel(n_jobs=1)]: Using backend SequentialBackend with 1 concurrent workers.\n",
      "[Parallel(n_jobs=1)]: Done   5 out of   5 | elapsed:   25.2s finished\n"
     ]
    },
    {
     "name": "stdout",
     "output_type": "stream",
     "text": [
      "video_voxaudio label_shift: 0 (48194, 2560) (48194,) num features: 2560 0.6390827744407732\n"
     ]
    },
    {
     "name": "stderr",
     "output_type": "stream",
     "text": [
      "\n",
      "\n",
      " 75%|███████▌  | 21/28 [02:19<01:12, 10.33s/it]\u001b[A\u001b[A[Parallel(n_jobs=1)]: Using backend SequentialBackend with 1 concurrent workers.\n",
      "[Parallel(n_jobs=1)]: Done   5 out of   5 | elapsed:   26.2s finished\n"
     ]
    },
    {
     "name": "stdout",
     "output_type": "stream",
     "text": [
      "video_voxaudio label_shift: 2 (48070, 2560) (48070,) num features: 2560 0.5866435380202816\n"
     ]
    },
    {
     "name": "stderr",
     "output_type": "stream",
     "text": [
      "\n",
      "\n",
      " 79%|███████▊  | 22/28 [02:33<01:08, 11.34s/it]\u001b[A\u001b[A[Parallel(n_jobs=1)]: Done   5 out of   5 | elapsed:   29.1s finished\n"
     ]
    },
    {
     "name": "stdout",
     "output_type": "stream",
     "text": [
      "text_video_voxaudio label_shift: 0 (48194, 2860) (48194,) num features: 2860 0.6467601325036558\n"
     ]
    },
    {
     "name": "stderr",
     "output_type": "stream",
     "text": [
      "[Parallel(n_jobs=1)]: Done   5 out of   5 | elapsed:   25.9s finished\n"
     ]
    },
    {
     "name": "stdout",
     "output_type": "stream",
     "text": [
      "video_voxaudio label_shift: 9 (47636, 2560) (47636,) num features: 2560 0.520403441325134\n"
     ]
    },
    {
     "name": "stderr",
     "output_type": "stream",
     "text": [
      "[Parallel(n_jobs=1)]: Done   5 out of   5 | elapsed:   26.5s finished\n"
     ]
    },
    {
     "name": "stdout",
     "output_type": "stream",
     "text": [
      "video_voxaudio label_shift: 4 (47946, 2560) (47946,) num features: 2560 0.559461187570421\n"
     ]
    },
    {
     "name": "stderr",
     "output_type": "stream",
     "text": [
      "\n",
      "\n",
      " 82%|████████▏ | 23/28 [02:39<00:48,  9.80s/it]\u001b[A\u001b[A[Parallel(n_jobs=1)]: Using backend SequentialBackend with 1 concurrent workers.\n",
      "[Parallel(n_jobs=1)]: Done   5 out of   5 | elapsed:   27.9s finished\n"
     ]
    },
    {
     "name": "stdout",
     "output_type": "stream",
     "text": [
      "text_video_voxaudio label_shift: 2 (48070, 2860) (48070,) num features: 2860 0.593987064747505\n"
     ]
    },
    {
     "name": "stderr",
     "output_type": "stream",
     "text": [
      "\n",
      "\n",
      " 93%|█████████▎| 26/28 [02:53<00:16,  8.23s/it]\u001b[A\u001b[A[Parallel(n_jobs=1)]: Using backend SequentialBackend with 1 concurrent workers.\n",
      "[Parallel(n_jobs=1)]: Done   5 out of   5 | elapsed:   26.5s finished\n"
     ]
    },
    {
     "name": "stdout",
     "output_type": "stream",
     "text": [
      "text_video_voxaudio label_shift: 4 (47946, 2860) (47946,) num features: 2860 0.5689512043585678\n"
     ]
    },
    {
     "name": "stderr",
     "output_type": "stream",
     "text": [
      "\n",
      "\n",
      " 96%|█████████▋| 27/28 [03:12<00:11, 11.42s/it]\u001b[A\u001b[A[Parallel(n_jobs=1)]: Done   5 out of   5 | elapsed:   26.1s finished\n"
     ]
    },
    {
     "name": "stdout",
     "output_type": "stream",
     "text": [
      "text_video_voxaudio label_shift: 9 (47636, 2860) (47636,) num features: 2860 0.5316767639961519\n"
     ]
    },
    {
     "name": "stderr",
     "output_type": "stream",
     "text": [
      "\n",
      "\n",
      "100%|██████████| 28/28 [03:23<00:00, 11.34s/it]\u001b[A\u001b[A"
     ]
    },
    {
     "name": "stdout",
     "output_type": "stream",
     "text": [
      "use_crossval: True | use_all_perspectives: False | predict_only_host: True | clf: <class 'sklearn.naive_bayes.GaussianNB'>\n",
      "{4: [(('text', 0), 0.6622354344086439), (('text', 2), 0.6142788698789332), (('text', 4), 0.5923248634569396), (('text', 9), 0.5455600786798769), (('video', 0), 0.5240508663618886), (('video', 2), 0.5090461351094048), (('video', 4), 0.49847979645342244), (('video', 9), 0.4894046457326583), (('voxaudio', 0), 0.6771201317494551), (('voxaudio', 2), 0.6203176995184589), (('voxaudio', 4), 0.5945618302074402), (('voxaudio', 9), 0.5617720058872255), (('text_video', 0), 0.5821584791200417), (('text_video', 2), 0.5398112164970759), (('text_video', 4), 0.5205604797468495), (('text_video', 9), 0.49861578594143746), (('text_voxaudio', 0), 0.6760991881133678), (('text_voxaudio', 2), 0.6201332567538473), (('text_voxaudio', 4), 0.5955056682549278), (('text_voxaudio', 9), 0.563589632928027), (('video_voxaudio', 0), 0.6485759811538749), (('video_voxaudio', 2), 0.5886099146338433), (('video_voxaudio', 4), 0.5589765688518213), (('video_voxaudio', 9), 0.5223868888140804), (('text_video_voxaudio', 0), 0.6583969287919709), (('text_video_voxaudio', 2), 0.5982510696875998), (('text_video_voxaudio', 4), 0.5694424937237746), (('text_video_voxaudio', 9), 0.5298219674420256)], 5: [(('text', 0), 0.6535871545054965), (('text', 2), 0.6111295208590596), (('text', 4), 0.568993791104759), (('text', 9), 0.520637014787835), (('video', 0), 0.5260404266999892), (('video', 2), 0.5069270990076472), (('video', 4), 0.49768385549275845), (('video', 9), 0.47967816202561026), (('voxaudio', 0), 0.6666801714114434), (('voxaudio', 2), 0.6167046371470442), (('voxaudio', 4), 0.591227209178731), (('voxaudio', 9), 0.559156959378497), (('text_video', 0), 0.582291906102476), (('text_video', 2), 0.5430826146473824), (('text_video', 4), 0.5248602419559717), (('text_video', 9), 0.4975638683983908), (('text_voxaudio', 0), 0.6663066606981422), (('text_voxaudio', 2), 0.616184648814588), (('text_voxaudio', 4), 0.5916235792500611), (('text_voxaudio', 9), 0.5606056614539958), (('video_voxaudio', 0), 0.6390827744407732), (('video_voxaudio', 2), 0.5866435380202816), (('video_voxaudio', 4), 0.559461187570421), (('video_voxaudio', 9), 0.520403441325134), (('text_video_voxaudio', 0), 0.6467601325036558), (('text_video_voxaudio', 2), 0.593987064747505), (('text_video_voxaudio', 4), 0.5689512043585678), (('text_video_voxaudio', 9), 0.5316767639961519)]}\n",
      "(131113, 2881)\n"
     ]
    },
    {
     "name": "stderr",
     "output_type": "stream",
     "text": [
      "\n",
      "\n",
      "  0%|          | 0/28 [00:00<?, ?it/s]\u001b[A\u001b[A[Parallel(n_jobs=1)]: Using backend SequentialBackend with 1 concurrent workers.\n",
      "[Parallel(n_jobs=1)]: Using backend SequentialBackend with 1 concurrent workers.\n",
      "[Parallel(n_jobs=1)]: Done   5 out of   5 | elapsed:    1.7s finished\n"
     ]
    },
    {
     "name": "stdout",
     "output_type": "stream",
     "text": [
      "text label_shift: 0 (46824, 300) (46824,) num features: 300 0.6091316039686244\n"
     ]
    },
    {
     "name": "stderr",
     "output_type": "stream",
     "text": [
      "\n",
      "\n",
      "  4%|▎         | 1/28 [00:13<06:05, 13.53s/it]\u001b[A\u001b[A[Parallel(n_jobs=1)]: Using backend SequentialBackend with 1 concurrent workers.\n",
      "[Parallel(n_jobs=1)]: Using backend SequentialBackend with 1 concurrent workers.\n",
      "[Parallel(n_jobs=1)]: Using backend SequentialBackend with 1 concurrent workers.\n",
      "[Parallel(n_jobs=1)]: Using backend SequentialBackend with 1 concurrent workers.\n",
      "[Parallel(n_jobs=1)]: Done   5 out of   5 | elapsed:    2.3s finished\n"
     ]
    },
    {
     "name": "stdout",
     "output_type": "stream",
     "text": [
      "text label_shift: 2 (46700, 300) (46700,) num features: 300 0.5790363707669173\n"
     ]
    },
    {
     "name": "stderr",
     "output_type": "stream",
     "text": [
      "\n",
      "\n",
      "  7%|▋         | 2/28 [00:25<05:38, 13.01s/it]\u001b[A\u001b[A[Parallel(n_jobs=1)]: Done   5 out of   5 | elapsed:    2.6s finished\n"
     ]
    },
    {
     "name": "stdout",
     "output_type": "stream",
     "text": [
      "text label_shift: 9 (46266, 300) (46266,) num features: 300 0.5248781354501963\n"
     ]
    },
    {
     "name": "stderr",
     "output_type": "stream",
     "text": [
      "[Parallel(n_jobs=1)]: Done   5 out of   5 | elapsed:    2.4s finished\n"
     ]
    },
    {
     "name": "stdout",
     "output_type": "stream",
     "text": [
      "text label_shift: 4 (46576, 300) (46576,) num features: 300 0.5628004786581935\n"
     ]
    },
    {
     "name": "stderr",
     "output_type": "stream",
     "text": [
      "\n",
      "\n",
      " 11%|█         | 3/28 [00:26<03:56,  9.47s/it]\u001b[A\u001b[A[Parallel(n_jobs=1)]: Done   5 out of   5 | elapsed:   19.3s finished\n"
     ]
    },
    {
     "name": "stdout",
     "output_type": "stream",
     "text": [
      "video label_shift: 0 (46824, 2048) (46824,) num features: 2048 0.5075176118373624\n"
     ]
    },
    {
     "name": "stderr",
     "output_type": "stream",
     "text": [
      "\n",
      "\n",
      " 18%|█▊        | 5/28 [00:31<02:49,  7.37s/it]\u001b[A\u001b[A[Parallel(n_jobs=1)]: Using backend SequentialBackend with 1 concurrent workers.\n",
      "[Parallel(n_jobs=1)]: Using backend SequentialBackend with 1 concurrent workers.\n",
      "[Parallel(n_jobs=1)]: Done   5 out of   5 | elapsed:    3.5s finished\n"
     ]
    },
    {
     "name": "stdout",
     "output_type": "stream",
     "text": [
      "voxaudio label_shift: 0 (46824, 512) (46824,) num features: 512 0.6273059071638538\n"
     ]
    },
    {
     "name": "stderr",
     "output_type": "stream",
     "text": [
      "[Parallel(n_jobs=1)]: Done   5 out of   5 | elapsed:   19.4s finished\n"
     ]
    },
    {
     "name": "stdout",
     "output_type": "stream",
     "text": [
      "video label_shift: 2 (46700, 2048) (46700,) num features: 2048 0.49618828097658874\n"
     ]
    },
    {
     "name": "stderr",
     "output_type": "stream",
     "text": [
      "\n",
      "\n",
      " 21%|██▏       | 6/28 [00:42<03:07,  8.51s/it]\u001b[A\u001b[A[Parallel(n_jobs=1)]: Using backend SequentialBackend with 1 concurrent workers.\n",
      "[Parallel(n_jobs=1)]: Using backend SequentialBackend with 1 concurrent workers.\n",
      "[Parallel(n_jobs=1)]: Done   5 out of   5 | elapsed:    3.5s finished\n"
     ]
    },
    {
     "name": "stdout",
     "output_type": "stream",
     "text": [
      "voxaudio label_shift: 2 (46700, 512) (46700,) num features: 512 0.5913273208110502\n"
     ]
    },
    {
     "name": "stderr",
     "output_type": "stream",
     "text": [
      "[Parallel(n_jobs=1)]: Using backend SequentialBackend with 1 concurrent workers.\n",
      "[Parallel(n_jobs=1)]: Using backend SequentialBackend with 1 concurrent workers.\n",
      "[Parallel(n_jobs=1)]: Done   5 out of   5 | elapsed:   18.9s finished\n"
     ]
    },
    {
     "name": "stdout",
     "output_type": "stream",
     "text": [
      "video label_shift: 4 (46576, 2048) (46576,) num features: 2048 0.4881475948200252\n"
     ]
    },
    {
     "name": "stderr",
     "output_type": "stream",
     "text": [
      "\n",
      "\n",
      " 25%|██▌       | 7/28 [00:56<03:34, 10.21s/it]\u001b[A\u001b[A[Parallel(n_jobs=1)]: Done   5 out of   5 | elapsed:    3.7s finished\n"
     ]
    },
    {
     "name": "stdout",
     "output_type": "stream",
     "text": [
      "voxaudio label_shift: 4 (46576, 512) (46576,) num features: 512 0.5738577217193968\n"
     ]
    },
    {
     "name": "stderr",
     "output_type": "stream",
     "text": [
      "[Parallel(n_jobs=1)]: Using backend SequentialBackend with 1 concurrent workers.\n",
      "[Parallel(n_jobs=1)]: Done   5 out of   5 | elapsed:   18.8s finished\n"
     ]
    },
    {
     "name": "stdout",
     "output_type": "stream",
     "text": [
      "video label_shift: 9 (46266, 2048) (46266,) num features: 2048 0.4878736164943245\n"
     ]
    },
    {
     "name": "stderr",
     "output_type": "stream",
     "text": [
      "\n",
      "\n",
      " 29%|██▊       | 8/28 [01:09<03:38, 10.91s/it]\u001b[A\u001b[A[Parallel(n_jobs=1)]: Done   5 out of   5 | elapsed:    3.4s finished\n"
     ]
    },
    {
     "name": "stdout",
     "output_type": "stream",
     "text": [
      "voxaudio label_shift: 9 (46266, 512) (46266,) num features: 512 0.542428994610573\n"
     ]
    },
    {
     "name": "stderr",
     "output_type": "stream",
     "text": [
      "\n",
      "\n",
      " 43%|████▎     | 12/28 [01:10<02:03,  7.73s/it]\u001b[A\u001b[A[Parallel(n_jobs=1)]: Done   5 out of   5 | elapsed:   22.1s finished\n"
     ]
    },
    {
     "name": "stdout",
     "output_type": "stream",
     "text": [
      "text_video label_shift: 0 (46824, 2348) (46824,) num features: 2348 0.5610368935749892\n"
     ]
    },
    {
     "name": "stderr",
     "output_type": "stream",
     "text": [
      "\n",
      "\n",
      " 46%|████▋     | 13/28 [01:17<01:50,  7.37s/it]\u001b[A\u001b[A[Parallel(n_jobs=1)]: Using backend SequentialBackend with 1 concurrent workers.\n",
      "[Parallel(n_jobs=1)]: Using backend SequentialBackend with 1 concurrent workers.\n",
      "[Parallel(n_jobs=1)]: Using backend SequentialBackend with 1 concurrent workers.\n",
      "[Parallel(n_jobs=1)]: Using backend SequentialBackend with 1 concurrent workers.\n",
      "[Parallel(n_jobs=1)]: Done   5 out of   5 | elapsed:    5.6s finished\n"
     ]
    },
    {
     "name": "stdout",
     "output_type": "stream",
     "text": [
      "text_voxaudio label_shift: 0 (46824, 812) (46824,) num features: 812 0.6252129214063562\n"
     ]
    },
    {
     "name": "stderr",
     "output_type": "stream",
     "text": [
      "[Parallel(n_jobs=1)]: Using backend SequentialBackend with 1 concurrent workers.\n",
      "[Parallel(n_jobs=1)]: Done   5 out of   5 | elapsed:    6.7s finished\n"
     ]
    },
    {
     "name": "stdout",
     "output_type": "stream",
     "text": [
      "text_voxaudio label_shift: 2 (46700, 812) (46700,) num features: 812 0.589400130539448\n"
     ]
    },
    {
     "name": "stderr",
     "output_type": "stream",
     "text": [
      "[Parallel(n_jobs=1)]: Done   5 out of   5 | elapsed:   22.6s finished\n"
     ]
    },
    {
     "name": "stdout",
     "output_type": "stream",
     "text": [
      "text_video label_shift: 2 (46700, 2348) (46700,) num features: 2348 0.5322051985072983\n"
     ]
    },
    {
     "name": "stderr",
     "output_type": "stream",
     "text": [
      "\n",
      "\n",
      " 50%|█████     | 14/28 [01:42<02:57, 12.69s/it]\u001b[A\u001b[A[Parallel(n_jobs=1)]: Using backend SequentialBackend with 1 concurrent workers.\n",
      "[Parallel(n_jobs=1)]: Done   5 out of   5 | elapsed:   22.9s finished\n"
     ]
    },
    {
     "name": "stdout",
     "output_type": "stream",
     "text": [
      "text_video label_shift: 4 (46576, 2348) (46576,) num features: 2348 0.517624912722511\n"
     ]
    },
    {
     "name": "stderr",
     "output_type": "stream",
     "text": [
      "\n",
      "\n",
      " 54%|█████▎    | 15/28 [01:43<02:01,  9.33s/it]\u001b[A\u001b[A[Parallel(n_jobs=1)]: Done   5 out of   5 | elapsed:   23.1s finished\n"
     ]
    },
    {
     "name": "stdout",
     "output_type": "stream",
     "text": [
      "text_video label_shift: 9 (46266, 2348) (46266,) num features: 2348 0.5023113315133424\n"
     ]
    },
    {
     "name": "stderr",
     "output_type": "stream",
     "text": [
      "\n",
      "\n",
      " 57%|█████▋    | 16/28 [01:47<01:30,  7.56s/it]\u001b[A\u001b[A[Parallel(n_jobs=1)]: Done   5 out of   5 | elapsed:    5.8s finished\n"
     ]
    },
    {
     "name": "stdout",
     "output_type": "stream",
     "text": [
      "text_voxaudio label_shift: 4 (46576, 812) (46576,) num features: 812 0.5717749786491118\n"
     ]
    },
    {
     "name": "stderr",
     "output_type": "stream",
     "text": [
      "\n",
      "\n",
      " 68%|██████▊   | 19/28 [01:49<00:49,  5.49s/it]\u001b[A\u001b[A[Parallel(n_jobs=1)]: Using backend SequentialBackend with 1 concurrent workers.\n",
      "[Parallel(n_jobs=1)]: Using backend SequentialBackend with 1 concurrent workers.\n",
      "[Parallel(n_jobs=1)]: Done   5 out of   5 | elapsed:    5.3s finished\n"
     ]
    },
    {
     "name": "stdout",
     "output_type": "stream",
     "text": [
      "text_voxaudio label_shift: 9 (46266, 812) (46266,) num features: 812 0.5417160885125941\n"
     ]
    },
    {
     "name": "stderr",
     "output_type": "stream",
     "text": [
      "\n",
      "\n",
      " 71%|███████▏  | 20/28 [01:58<00:52,  6.57s/it]\u001b[A\u001b[A[Parallel(n_jobs=1)]: Using backend SequentialBackend with 1 concurrent workers.\n",
      "[Parallel(n_jobs=1)]: Using backend SequentialBackend with 1 concurrent workers.\n",
      "[Parallel(n_jobs=1)]: Using backend SequentialBackend with 1 concurrent workers.\n",
      "[Parallel(n_jobs=1)]: Using backend SequentialBackend with 1 concurrent workers.\n",
      "[Parallel(n_jobs=1)]: Done   5 out of   5 | elapsed:   24.3s finished\n"
     ]
    },
    {
     "name": "stdout",
     "output_type": "stream",
     "text": [
      "video_voxaudio label_shift: 0 (46824, 2560) (46824,) num features: 2560 0.5914268661454747\n"
     ]
    },
    {
     "name": "stderr",
     "output_type": "stream",
     "text": [
      "\n",
      "\n",
      " 75%|███████▌  | 21/28 [02:18<01:15, 10.81s/it]\u001b[A\u001b[A[Parallel(n_jobs=1)]: Using backend SequentialBackend with 1 concurrent workers.\n",
      "[Parallel(n_jobs=1)]: Done   5 out of   5 | elapsed:   27.9s finished\n"
     ]
    },
    {
     "name": "stdout",
     "output_type": "stream",
     "text": [
      "text_video_voxaudio label_shift: 0 (46824, 2860) (46824,) num features: 2860 0.6063553092542625\n"
     ]
    },
    {
     "name": "stderr",
     "output_type": "stream",
     "text": [
      "[Parallel(n_jobs=1)]: Done   5 out of   5 | elapsed:   25.0s finished\n"
     ]
    },
    {
     "name": "stdout",
     "output_type": "stream",
     "text": [
      "video_voxaudio label_shift: 2 (46700, 2560) (46700,) num features: 2560 0.5576223723104609\n"
     ]
    },
    {
     "name": "stderr",
     "output_type": "stream",
     "text": [
      "\n",
      "\n",
      " 79%|███████▊  | 22/28 [02:31<01:07, 11.21s/it]\u001b[A\u001b[A[Parallel(n_jobs=1)]: Done   5 out of   5 | elapsed:   25.8s finished\n"
     ]
    },
    {
     "name": "stdout",
     "output_type": "stream",
     "text": [
      "video_voxaudio label_shift: 4 (46576, 2560) (46576,) num features: 2560 0.5378931174952077\n"
     ]
    },
    {
     "name": "stderr",
     "output_type": "stream",
     "text": [
      "\n",
      "\n",
      " 82%|████████▏ | 23/28 [02:33<00:43,  8.70s/it]\u001b[A\u001b[A[Parallel(n_jobs=1)]: Done   5 out of   5 | elapsed:   25.1s finished\n"
     ]
    },
    {
     "name": "stdout",
     "output_type": "stream",
     "text": [
      "video_voxaudio label_shift: 9 (46266, 2560) (46266,) num features: 2560 0.512859047129431\n"
     ]
    },
    {
     "name": "stderr",
     "output_type": "stream",
     "text": [
      "\n",
      "\n",
      " 86%|████████▌ | 24/28 [02:37<00:28,  7.04s/it]\u001b[A\u001b[A[Parallel(n_jobs=1)]: Using backend SequentialBackend with 1 concurrent workers.\n",
      "[Parallel(n_jobs=1)]: Done   5 out of   5 | elapsed:   27.1s finished\n"
     ]
    },
    {
     "name": "stdout",
     "output_type": "stream",
     "text": [
      "text_video_voxaudio label_shift: 2 (46700, 2860) (46700,) num features: 2860 0.5664234397896134\n"
     ]
    },
    {
     "name": "stderr",
     "output_type": "stream",
     "text": [
      "\n",
      "\n",
      " 93%|█████████▎| 26/28 [02:51<00:14,  7.03s/it]\u001b[A\u001b[A[Parallel(n_jobs=1)]: Using backend SequentialBackend with 1 concurrent workers.\n",
      "[Parallel(n_jobs=1)]: Done   5 out of   5 | elapsed:   26.2s finished\n"
     ]
    },
    {
     "name": "stdout",
     "output_type": "stream",
     "text": [
      "text_video_voxaudio label_shift: 4 (46576, 2860) (46576,) num features: 2860 0.5475977842097561\n"
     ]
    },
    {
     "name": "stderr",
     "output_type": "stream",
     "text": [
      "\n",
      "\n",
      " 96%|█████████▋| 27/28 [03:10<00:10, 10.86s/it]\u001b[A\u001b[A[Parallel(n_jobs=1)]: Done   5 out of   5 | elapsed:   25.4s finished\n"
     ]
    },
    {
     "name": "stdout",
     "output_type": "stream",
     "text": [
      "text_video_voxaudio label_shift: 9 (46266, 2860) (46266,) num features: 2860 0.5188465258383493\n"
     ]
    },
    {
     "name": "stderr",
     "output_type": "stream",
     "text": [
      "\n",
      "\n",
      "100%|██████████| 28/28 [03:19<00:00, 10.06s/it]\u001b[A\u001b[A"
     ]
    },
    {
     "name": "stdout",
     "output_type": "stream",
     "text": [
      "use_crossval: True | use_all_perspectives: False | predict_only_host: True | clf: <class 'sklearn.naive_bayes.GaussianNB'>\n",
      "{4: [(('text', 0), 0.6622354344086439), (('text', 2), 0.6142788698789332), (('text', 4), 0.5923248634569396), (('text', 9), 0.5455600786798769), (('video', 0), 0.5240508663618886), (('video', 2), 0.5090461351094048), (('video', 4), 0.49847979645342244), (('video', 9), 0.4894046457326583), (('voxaudio', 0), 0.6771201317494551), (('voxaudio', 2), 0.6203176995184589), (('voxaudio', 4), 0.5945618302074402), (('voxaudio', 9), 0.5617720058872255), (('text_video', 0), 0.5821584791200417), (('text_video', 2), 0.5398112164970759), (('text_video', 4), 0.5205604797468495), (('text_video', 9), 0.49861578594143746), (('text_voxaudio', 0), 0.6760991881133678), (('text_voxaudio', 2), 0.6201332567538473), (('text_voxaudio', 4), 0.5955056682549278), (('text_voxaudio', 9), 0.563589632928027), (('video_voxaudio', 0), 0.6485759811538749), (('video_voxaudio', 2), 0.5886099146338433), (('video_voxaudio', 4), 0.5589765688518213), (('video_voxaudio', 9), 0.5223868888140804), (('text_video_voxaudio', 0), 0.6583969287919709), (('text_video_voxaudio', 2), 0.5982510696875998), (('text_video_voxaudio', 4), 0.5694424937237746), (('text_video_voxaudio', 9), 0.5298219674420256)], 5: [(('text', 0), 0.6535871545054965), (('text', 2), 0.6111295208590596), (('text', 4), 0.568993791104759), (('text', 9), 0.520637014787835), (('video', 0), 0.5260404266999892), (('video', 2), 0.5069270990076472), (('video', 4), 0.49768385549275845), (('video', 9), 0.47967816202561026), (('voxaudio', 0), 0.6666801714114434), (('voxaudio', 2), 0.6167046371470442), (('voxaudio', 4), 0.591227209178731), (('voxaudio', 9), 0.559156959378497), (('text_video', 0), 0.582291906102476), (('text_video', 2), 0.5430826146473824), (('text_video', 4), 0.5248602419559717), (('text_video', 9), 0.4975638683983908), (('text_voxaudio', 0), 0.6663066606981422), (('text_voxaudio', 2), 0.616184648814588), (('text_voxaudio', 4), 0.5916235792500611), (('text_voxaudio', 9), 0.5606056614539958), (('video_voxaudio', 0), 0.6390827744407732), (('video_voxaudio', 2), 0.5866435380202816), (('video_voxaudio', 4), 0.559461187570421), (('video_voxaudio', 9), 0.520403441325134), (('text_video_voxaudio', 0), 0.6467601325036558), (('text_video_voxaudio', 2), 0.593987064747505), (('text_video_voxaudio', 4), 0.5689512043585678), (('text_video_voxaudio', 9), 0.5316767639961519)], 10: [(('text', 0), 0.6091316039686244), (('text', 2), 0.5790363707669173), (('text', 4), 0.5628004786581935), (('text', 9), 0.5248781354501963), (('video', 0), 0.5075176118373624), (('video', 2), 0.49618828097658874), (('video', 4), 0.4881475948200252), (('video', 9), 0.4878736164943245), (('voxaudio', 0), 0.6273059071638538), (('voxaudio', 2), 0.5913273208110502), (('voxaudio', 4), 0.5738577217193968), (('voxaudio', 9), 0.542428994610573), (('text_video', 0), 0.5610368935749892), (('text_video', 2), 0.5322051985072983), (('text_video', 4), 0.517624912722511), (('text_video', 9), 0.5023113315133424), (('text_voxaudio', 0), 0.6252129214063562), (('text_voxaudio', 2), 0.589400130539448), (('text_voxaudio', 4), 0.5717749786491118), (('text_voxaudio', 9), 0.5417160885125941), (('video_voxaudio', 0), 0.5914268661454747), (('video_voxaudio', 2), 0.5576223723104609), (('video_voxaudio', 4), 0.5378931174952077), (('video_voxaudio', 9), 0.512859047129431), (('text_video_voxaudio', 0), 0.6063553092542625), (('text_video_voxaudio', 2), 0.5664234397896134), (('text_video_voxaudio', 4), 0.5475977842097561), (('text_video_voxaudio', 9), 0.5188465258383493)]}\n",
      "(129245, 2881)\n"
     ]
    },
    {
     "name": "stderr",
     "output_type": "stream",
     "text": [
      "\n",
      "\n",
      "  0%|          | 0/28 [00:00<?, ?it/s]\u001b[A\u001b[A[Parallel(n_jobs=1)]: Using backend SequentialBackend with 1 concurrent workers.\n",
      "[Parallel(n_jobs=1)]: Using backend SequentialBackend with 1 concurrent workers.\n",
      "[Parallel(n_jobs=1)]: Done   5 out of   5 | elapsed:    1.9s finished\n"
     ]
    },
    {
     "name": "stdout",
     "output_type": "stream",
     "text": [
      "text label_shift: 0 (47149, 300) (47149,) num features: 300 0.5547095370468154\n"
     ]
    },
    {
     "name": "stderr",
     "output_type": "stream",
     "text": [
      "\n",
      "\n",
      "  4%|▎         | 1/28 [00:13<06:09, 13.68s/it]\u001b[A\u001b[A[Parallel(n_jobs=1)]: Using backend SequentialBackend with 1 concurrent workers.\n",
      "[Parallel(n_jobs=1)]: Using backend SequentialBackend with 1 concurrent workers.\n",
      "[Parallel(n_jobs=1)]: Using backend SequentialBackend with 1 concurrent workers.\n",
      "[Parallel(n_jobs=1)]: Using backend SequentialBackend with 1 concurrent workers.\n",
      "[Parallel(n_jobs=1)]: Done   5 out of   5 | elapsed:    2.3s finished\n"
     ]
    },
    {
     "name": "stdout",
     "output_type": "stream",
     "text": [
      "text label_shift: 9 (46600, 300) (46600,) num features: 300 0.5018243774483537\n"
     ]
    },
    {
     "name": "stderr",
     "output_type": "stream",
     "text": [
      "[Parallel(n_jobs=1)]: Done   5 out of   5 | elapsed:    2.7s finished\n"
     ]
    },
    {
     "name": "stdout",
     "output_type": "stream",
     "text": [
      "text label_shift: 2 (47027, 300) (47027,) num features: 300 0.5382018334181828\n"
     ]
    },
    {
     "name": "stderr",
     "output_type": "stream",
     "text": [
      "\n",
      "\n",
      "  7%|▋         | 2/28 [00:25<05:41, 13.12s/it]\u001b[A\u001b[A[Parallel(n_jobs=1)]: Done   5 out of   5 | elapsed:    3.1s finished\n"
     ]
    },
    {
     "name": "stdout",
     "output_type": "stream",
     "text": [
      "text label_shift: 4 (46905, 300) (46905,) num features: 300 0.5282599383772776\n"
     ]
    },
    {
     "name": "stderr",
     "output_type": "stream",
     "text": [
      "\n",
      "\n",
      " 11%|█         | 3/28 [00:26<03:54,  9.38s/it]\u001b[A\u001b[A[Parallel(n_jobs=1)]: Done   5 out of   5 | elapsed:   19.1s finished\n"
     ]
    },
    {
     "name": "stdout",
     "output_type": "stream",
     "text": [
      "video label_shift: 0 (47149, 2048) (47149,) num features: 2048 0.48423122995357276\n"
     ]
    },
    {
     "name": "stderr",
     "output_type": "stream",
     "text": [
      "\n",
      "\n",
      " 18%|█▊        | 5/28 [00:31<02:48,  7.31s/it]\u001b[A\u001b[A[Parallel(n_jobs=1)]: Using backend SequentialBackend with 1 concurrent workers.\n",
      "[Parallel(n_jobs=1)]: Using backend SequentialBackend with 1 concurrent workers.\n",
      "[Parallel(n_jobs=1)]: Done   5 out of   5 | elapsed:    3.7s finished\n"
     ]
    },
    {
     "name": "stdout",
     "output_type": "stream",
     "text": [
      "voxaudio label_shift: 0 (47149, 512) (47149,) num features: 512 0.5661410978314572\n"
     ]
    },
    {
     "name": "stderr",
     "output_type": "stream",
     "text": [
      "[Parallel(n_jobs=1)]: Done   5 out of   5 | elapsed:   19.4s finished\n"
     ]
    },
    {
     "name": "stdout",
     "output_type": "stream",
     "text": [
      "video label_shift: 2 (47027, 2048) (47027,) num features: 2048 0.47900144954187496\n"
     ]
    },
    {
     "name": "stderr",
     "output_type": "stream",
     "text": [
      "\n",
      "\n",
      " 21%|██▏       | 6/28 [00:42<03:05,  8.44s/it]\u001b[A\u001b[A[Parallel(n_jobs=1)]: Using backend SequentialBackend with 1 concurrent workers.\n",
      "[Parallel(n_jobs=1)]: Using backend SequentialBackend with 1 concurrent workers.\n",
      "[Parallel(n_jobs=1)]: Done   5 out of   5 | elapsed:    3.9s finished\n"
     ]
    },
    {
     "name": "stdout",
     "output_type": "stream",
     "text": [
      "voxaudio label_shift: 2 (47027, 512) (47027,) num features: 512 0.5460479365622382\n"
     ]
    },
    {
     "name": "stderr",
     "output_type": "stream",
     "text": [
      "[Parallel(n_jobs=1)]: Using backend SequentialBackend with 1 concurrent workers.\n",
      "[Parallel(n_jobs=1)]: Using backend SequentialBackend with 1 concurrent workers.\n",
      "[Parallel(n_jobs=1)]: Done   5 out of   5 | elapsed:   19.4s finished\n"
     ]
    },
    {
     "name": "stdout",
     "output_type": "stream",
     "text": [
      "video label_shift: 4 (46905, 2048) (46905,) num features: 2048 0.4787761544616636\n"
     ]
    },
    {
     "name": "stderr",
     "output_type": "stream",
     "text": [
      "\n",
      "\n",
      " 25%|██▌       | 7/28 [00:57<03:38, 10.39s/it]\u001b[A\u001b[A[Parallel(n_jobs=1)]: Done   5 out of   5 | elapsed:    4.2s finished\n"
     ]
    },
    {
     "name": "stdout",
     "output_type": "stream",
     "text": [
      "voxaudio label_shift: 4 (46905, 512) (46905,) num features: 512 0.5310732782662514\n"
     ]
    },
    {
     "name": "stderr",
     "output_type": "stream",
     "text": [
      "[Parallel(n_jobs=1)]: Using backend SequentialBackend with 1 concurrent workers.\n",
      "[Parallel(n_jobs=1)]: Done   5 out of   5 | elapsed:   19.3s finished\n"
     ]
    },
    {
     "name": "stdout",
     "output_type": "stream",
     "text": [
      "video label_shift: 9 (46600, 2048) (46600,) num features: 2048 0.47435418538114515\n"
     ]
    },
    {
     "name": "stderr",
     "output_type": "stream",
     "text": [
      "\n",
      "\n",
      " 29%|██▊       | 8/28 [01:08<03:35, 10.79s/it]\u001b[A\u001b[A[Parallel(n_jobs=1)]: Done   5 out of   5 | elapsed:    3.3s finished\n"
     ]
    },
    {
     "name": "stdout",
     "output_type": "stream",
     "text": [
      "voxaudio label_shift: 9 (46600, 512) (46600,) num features: 512 0.4972094232045915\n"
     ]
    },
    {
     "name": "stderr",
     "output_type": "stream",
     "text": [
      "\n",
      "\n",
      " 43%|████▎     | 12/28 [01:09<02:01,  7.57s/it]\u001b[A\u001b[A[Parallel(n_jobs=1)]: Done   5 out of   5 | elapsed:   22.8s finished\n"
     ]
    },
    {
     "name": "stdout",
     "output_type": "stream",
     "text": [
      "text_video label_shift: 0 (47149, 2348) (47149,) num features: 2348 0.5175507546662015\n"
     ]
    },
    {
     "name": "stderr",
     "output_type": "stream",
     "text": [
      "\n",
      "\n",
      " 46%|████▋     | 13/28 [01:17<01:55,  7.70s/it]\u001b[A\u001b[A[Parallel(n_jobs=1)]: Using backend SequentialBackend with 1 concurrent workers.\n",
      "[Parallel(n_jobs=1)]: Using backend SequentialBackend with 1 concurrent workers.\n",
      "[Parallel(n_jobs=1)]: Using backend SequentialBackend with 1 concurrent workers.\n",
      "[Parallel(n_jobs=1)]: Using backend SequentialBackend with 1 concurrent workers.\n",
      "[Parallel(n_jobs=1)]: Done   5 out of   5 | elapsed:    6.5s finished\n"
     ]
    },
    {
     "name": "stdout",
     "output_type": "stream",
     "text": [
      "text_voxaudio label_shift: 0 (47149, 812) (47149,) num features: 812 0.5682833999527865\n"
     ]
    },
    {
     "name": "stderr",
     "output_type": "stream",
     "text": [
      "[Parallel(n_jobs=1)]: Using backend SequentialBackend with 1 concurrent workers.\n",
      "[Parallel(n_jobs=1)]: Done   5 out of   5 | elapsed:    6.8s finished\n"
     ]
    },
    {
     "name": "stdout",
     "output_type": "stream",
     "text": [
      "text_voxaudio label_shift: 2 (47027, 812) (47027,) num features: 812 0.5462183211275046\n"
     ]
    },
    {
     "name": "stderr",
     "output_type": "stream",
     "text": [
      "[Parallel(n_jobs=1)]: Done   5 out of   5 | elapsed:   23.2s finished\n"
     ]
    },
    {
     "name": "stdout",
     "output_type": "stream",
     "text": [
      "text_video label_shift: 2 (47027, 2348) (47027,) num features: 2348 0.5013922657603975\n"
     ]
    },
    {
     "name": "stderr",
     "output_type": "stream",
     "text": [
      "\n",
      "\n",
      " 50%|█████     | 14/28 [01:43<03:04, 13.17s/it]\u001b[A\u001b[A[Parallel(n_jobs=1)]: Using backend SequentialBackend with 1 concurrent workers.\n",
      "[Parallel(n_jobs=1)]: Done   5 out of   5 | elapsed:   23.7s finished\n"
     ]
    },
    {
     "name": "stdout",
     "output_type": "stream",
     "text": [
      "text_video label_shift: 4 (46905, 2348) (46905,) num features: 2348 0.4929324232599769\n"
     ]
    },
    {
     "name": "stderr",
     "output_type": "stream",
     "text": [
      "\n",
      "\n",
      " 54%|█████▎    | 15/28 [01:44<02:05,  9.65s/it]\u001b[A\u001b[A[Parallel(n_jobs=1)]: Done   5 out of   5 | elapsed:   22.8s finished\n"
     ]
    },
    {
     "name": "stdout",
     "output_type": "stream",
     "text": [
      "text_video label_shift: 9 (46600, 2348) (46600,) num features: 2348 0.4763711432474424\n"
     ]
    },
    {
     "name": "stderr",
     "output_type": "stream",
     "text": [
      "\n",
      "\n",
      " 57%|█████▋    | 16/28 [01:46<01:29,  7.44s/it]\u001b[A\u001b[A[Parallel(n_jobs=1)]: Done   5 out of   5 | elapsed:    6.1s finished\n"
     ]
    },
    {
     "name": "stdout",
     "output_type": "stream",
     "text": [
      "text_voxaudio label_shift: 4 (46905, 812) (46905,) num features: 812 0.5330565138302108\n"
     ]
    },
    {
     "name": "stderr",
     "output_type": "stream",
     "text": [
      "\n",
      "\n",
      " 68%|██████▊   | 19/28 [01:49<00:49,  5.52s/it]\u001b[A\u001b[A[Parallel(n_jobs=1)]: Using backend SequentialBackend with 1 concurrent workers.\n",
      "[Parallel(n_jobs=1)]: Using backend SequentialBackend with 1 concurrent workers.\n",
      "[Parallel(n_jobs=1)]: Done   5 out of   5 | elapsed:    5.3s finished\n"
     ]
    },
    {
     "name": "stdout",
     "output_type": "stream",
     "text": [
      "text_voxaudio label_shift: 9 (46600, 812) (46600,) num features: 812 0.4975313991123021\n"
     ]
    },
    {
     "name": "stderr",
     "output_type": "stream",
     "text": [
      "\n",
      "\n",
      " 71%|███████▏  | 20/28 [01:58<00:50,  6.32s/it]\u001b[A\u001b[A[Parallel(n_jobs=1)]: Using backend SequentialBackend with 1 concurrent workers.\n",
      "[Parallel(n_jobs=1)]: Using backend SequentialBackend with 1 concurrent workers.\n",
      "[Parallel(n_jobs=1)]: Using backend SequentialBackend with 1 concurrent workers.\n",
      "[Parallel(n_jobs=1)]: Using backend SequentialBackend with 1 concurrent workers.\n",
      "[Parallel(n_jobs=1)]: Done   5 out of   5 | elapsed:   24.9s finished\n"
     ]
    },
    {
     "name": "stdout",
     "output_type": "stream",
     "text": [
      "video_voxaudio label_shift: 0 (47149, 2560) (47149,) num features: 2560 0.5246982577947348\n"
     ]
    },
    {
     "name": "stderr",
     "output_type": "stream",
     "text": [
      "\n",
      "\n",
      " 75%|███████▌  | 21/28 [02:18<01:13, 10.45s/it]\u001b[A\u001b[A[Parallel(n_jobs=1)]: Using backend SequentialBackend with 1 concurrent workers.\n",
      "[Parallel(n_jobs=1)]: Done   5 out of   5 | elapsed:   28.6s finished\n"
     ]
    },
    {
     "name": "stdout",
     "output_type": "stream",
     "text": [
      "text_video_voxaudio label_shift: 0 (47149, 2860) (47149,) num features: 2860 0.5338182770669715\n"
     ]
    },
    {
     "name": "stderr",
     "output_type": "stream",
     "text": [
      "[Parallel(n_jobs=1)]: Done   5 out of   5 | elapsed:   25.6s finished\n"
     ]
    },
    {
     "name": "stdout",
     "output_type": "stream",
     "text": [
      "video_voxaudio label_shift: 2 (47027, 2560) (47027,) num features: 2560 0.506665861868644\n"
     ]
    },
    {
     "name": "stderr",
     "output_type": "stream",
     "text": [
      "\n",
      "\n",
      " 79%|███████▊  | 22/28 [02:33<01:11, 11.91s/it]\u001b[A\u001b[A[Parallel(n_jobs=1)]: Done   5 out of   5 | elapsed:   26.5s finished\n"
     ]
    },
    {
     "name": "stdout",
     "output_type": "stream",
     "text": [
      "video_voxaudio label_shift: 4 (46905, 2560) (46905,) num features: 2560 0.4981340864390632\n"
     ]
    },
    {
     "name": "stderr",
     "output_type": "stream",
     "text": [
      "\n",
      "\n",
      " 82%|████████▏ | 23/28 [02:35<00:44,  8.97s/it]\u001b[A\u001b[A[Parallel(n_jobs=1)]: Done   5 out of   5 | elapsed:   25.3s finished\n"
     ]
    },
    {
     "name": "stdout",
     "output_type": "stream",
     "text": [
      "video_voxaudio label_shift: 9 (46600, 2560) (46600,) num features: 2560 0.4755560540877834\n"
     ]
    },
    {
     "name": "stderr",
     "output_type": "stream",
     "text": [
      "\n",
      "\n",
      " 86%|████████▌ | 24/28 [02:35<00:25,  6.41s/it]\u001b[A\u001b[A[Parallel(n_jobs=1)]: Using backend SequentialBackend with 1 concurrent workers.\n",
      "[Parallel(n_jobs=1)]: Done   5 out of   5 | elapsed:   27.7s finished\n"
     ]
    },
    {
     "name": "stdout",
     "output_type": "stream",
     "text": [
      "text_video_voxaudio label_shift: 2 (47027, 2860) (47027,) num features: 2860 0.5120244287004865\n"
     ]
    },
    {
     "name": "stderr",
     "output_type": "stream",
     "text": [
      "\n",
      "\n",
      " 93%|█████████▎| 26/28 [02:51<00:13,  6.80s/it]\u001b[A\u001b[A[Parallel(n_jobs=1)]: Using backend SequentialBackend with 1 concurrent workers.\n",
      "[Parallel(n_jobs=1)]: Done   5 out of   5 | elapsed:   26.3s finished\n"
     ]
    },
    {
     "name": "stdout",
     "output_type": "stream",
     "text": [
      "text_video_voxaudio label_shift: 4 (46905, 2860) (46905,) num features: 2860 0.5026541013377209\n"
     ]
    },
    {
     "name": "stderr",
     "output_type": "stream",
     "text": [
      "\n",
      "\n",
      " 96%|█████████▋| 27/28 [03:10<00:10, 10.36s/it]\u001b[A\u001b[A[Parallel(n_jobs=1)]: Done   5 out of   5 | elapsed:   25.7s finished\n"
     ]
    },
    {
     "name": "stdout",
     "output_type": "stream",
     "text": [
      "text_video_voxaudio label_shift: 9 (46600, 2860) (46600,) num features: 2860 0.47628555959788327\n"
     ]
    },
    {
     "name": "stderr",
     "output_type": "stream",
     "text": [
      "\n",
      "\n",
      "100%|██████████| 28/28 [03:19<00:00, 10.01s/it]\u001b[A\u001b[A"
     ]
    },
    {
     "name": "stdout",
     "output_type": "stream",
     "text": [
      "use_crossval: True | use_all_perspectives: False | predict_only_host: True | clf: <class 'sklearn.naive_bayes.GaussianNB'>\n",
      "{4: [(('text', 0), 0.6622354344086439), (('text', 2), 0.6142788698789332), (('text', 4), 0.5923248634569396), (('text', 9), 0.5455600786798769), (('video', 0), 0.5240508663618886), (('video', 2), 0.5090461351094048), (('video', 4), 0.49847979645342244), (('video', 9), 0.4894046457326583), (('voxaudio', 0), 0.6771201317494551), (('voxaudio', 2), 0.6203176995184589), (('voxaudio', 4), 0.5945618302074402), (('voxaudio', 9), 0.5617720058872255), (('text_video', 0), 0.5821584791200417), (('text_video', 2), 0.5398112164970759), (('text_video', 4), 0.5205604797468495), (('text_video', 9), 0.49861578594143746), (('text_voxaudio', 0), 0.6760991881133678), (('text_voxaudio', 2), 0.6201332567538473), (('text_voxaudio', 4), 0.5955056682549278), (('text_voxaudio', 9), 0.563589632928027), (('video_voxaudio', 0), 0.6485759811538749), (('video_voxaudio', 2), 0.5886099146338433), (('video_voxaudio', 4), 0.5589765688518213), (('video_voxaudio', 9), 0.5223868888140804), (('text_video_voxaudio', 0), 0.6583969287919709), (('text_video_voxaudio', 2), 0.5982510696875998), (('text_video_voxaudio', 4), 0.5694424937237746), (('text_video_voxaudio', 9), 0.5298219674420256)], 5: [(('text', 0), 0.6535871545054965), (('text', 2), 0.6111295208590596), (('text', 4), 0.568993791104759), (('text', 9), 0.520637014787835), (('video', 0), 0.5260404266999892), (('video', 2), 0.5069270990076472), (('video', 4), 0.49768385549275845), (('video', 9), 0.47967816202561026), (('voxaudio', 0), 0.6666801714114434), (('voxaudio', 2), 0.6167046371470442), (('voxaudio', 4), 0.591227209178731), (('voxaudio', 9), 0.559156959378497), (('text_video', 0), 0.582291906102476), (('text_video', 2), 0.5430826146473824), (('text_video', 4), 0.5248602419559717), (('text_video', 9), 0.4975638683983908), (('text_voxaudio', 0), 0.6663066606981422), (('text_voxaudio', 2), 0.616184648814588), (('text_voxaudio', 4), 0.5916235792500611), (('text_voxaudio', 9), 0.5606056614539958), (('video_voxaudio', 0), 0.6390827744407732), (('video_voxaudio', 2), 0.5866435380202816), (('video_voxaudio', 4), 0.559461187570421), (('video_voxaudio', 9), 0.520403441325134), (('text_video_voxaudio', 0), 0.6467601325036558), (('text_video_voxaudio', 2), 0.593987064747505), (('text_video_voxaudio', 4), 0.5689512043585678), (('text_video_voxaudio', 9), 0.5316767639961519)], 10: [(('text', 0), 0.6091316039686244), (('text', 2), 0.5790363707669173), (('text', 4), 0.5628004786581935), (('text', 9), 0.5248781354501963), (('video', 0), 0.5075176118373624), (('video', 2), 0.49618828097658874), (('video', 4), 0.4881475948200252), (('video', 9), 0.4878736164943245), (('voxaudio', 0), 0.6273059071638538), (('voxaudio', 2), 0.5913273208110502), (('voxaudio', 4), 0.5738577217193968), (('voxaudio', 9), 0.542428994610573), (('text_video', 0), 0.5610368935749892), (('text_video', 2), 0.5322051985072983), (('text_video', 4), 0.517624912722511), (('text_video', 9), 0.5023113315133424), (('text_voxaudio', 0), 0.6252129214063562), (('text_voxaudio', 2), 0.589400130539448), (('text_voxaudio', 4), 0.5717749786491118), (('text_voxaudio', 9), 0.5417160885125941), (('video_voxaudio', 0), 0.5914268661454747), (('video_voxaudio', 2), 0.5576223723104609), (('video_voxaudio', 4), 0.5378931174952077), (('video_voxaudio', 9), 0.512859047129431), (('text_video_voxaudio', 0), 0.6063553092542625), (('text_video_voxaudio', 2), 0.5664234397896134), (('text_video_voxaudio', 4), 0.5475977842097561), (('text_video_voxaudio', 9), 0.5188465258383493)], 30: [(('text', 0), 0.5547095370468154), (('text', 2), 0.5382018334181828), (('text', 4), 0.5282599383772776), (('text', 9), 0.5018243774483537), (('video', 0), 0.48423122995357276), (('video', 2), 0.47900144954187496), (('video', 4), 0.4787761544616636), (('video', 9), 0.47435418538114515), (('voxaudio', 0), 0.5661410978314572), (('voxaudio', 2), 0.5460479365622382), (('voxaudio', 4), 0.5310732782662514), (('voxaudio', 9), 0.4972094232045915), (('text_video', 0), 0.5175507546662015), (('text_video', 2), 0.5013922657603975), (('text_video', 4), 0.4929324232599769), (('text_video', 9), 0.4763711432474424), (('text_voxaudio', 0), 0.5682833999527865), (('text_voxaudio', 2), 0.5462183211275046), (('text_voxaudio', 4), 0.5330565138302108), (('text_voxaudio', 9), 0.4975313991123021), (('video_voxaudio', 0), 0.5246982577947348), (('video_voxaudio', 2), 0.506665861868644), (('video_voxaudio', 4), 0.4981340864390632), (('video_voxaudio', 9), 0.4755560540877834), (('text_video_voxaudio', 0), 0.5338182770669715), (('text_video_voxaudio', 2), 0.5120244287004865), (('text_video_voxaudio', 4), 0.5026541013377209), (('text_video_voxaudio', 9), 0.47628555959788327)]}\n",
      "use_crossval: True | use_all_perspectives: True | predict_only_host: True | clf: <class 'sklearn.ensemble.forest.RandomForestClassifier'>\n",
      "(136431, 2881)\n"
     ]
    },
    {
     "name": "stderr",
     "output_type": "stream",
     "text": [
      "\n",
      "\n",
      "  0%|          | 0/28 [00:00<?, ?it/s]\u001b[A\u001b[A[Parallel(n_jobs=1)]: Using backend SequentialBackend with 1 concurrent workers.\n",
      "[Parallel(n_jobs=1)]: Using backend SequentialBackend with 1 concurrent workers.\n",
      "[Parallel(n_jobs=1)]: Using backend SequentialBackend with 1 concurrent workers.\n",
      "[Parallel(n_jobs=1)]: Using backend SequentialBackend with 1 concurrent workers.\n",
      "[Parallel(n_jobs=1)]: Using backend SequentialBackend with 1 concurrent workers.\n",
      "[Parallel(n_jobs=1)]: Using backend SequentialBackend with 1 concurrent workers.\n",
      "[Parallel(n_jobs=1)]: Done   5 out of   5 | elapsed:  4.3min finished\n"
     ]
    },
    {
     "name": "stdout",
     "output_type": "stream",
     "text": [
      "text label_shift: 0 (38524, 900) (38524,) num features: 300 0.6786669928159555\n"
     ]
    },
    {
     "name": "stderr",
     "output_type": "stream",
     "text": [
      "\n",
      "\n",
      "  4%|▎         | 1/28 [05:13<2:21:15, 313.90s/it]\u001b[A\u001b[A[Parallel(n_jobs=1)]: Done   5 out of   5 | elapsed:  4.2min finished\n"
     ]
    },
    {
     "name": "stdout",
     "output_type": "stream",
     "text": [
      "text label_shift: 9 (38083, 900) (38083,) num features: 300 0.5435233260299\n"
     ]
    },
    {
     "name": "stderr",
     "output_type": "stream",
     "text": [
      "[Parallel(n_jobs=1)]: Done   5 out of   5 | elapsed:  4.3min finished\n"
     ]
    },
    {
     "name": "stdout",
     "output_type": "stream",
     "text": [
      "text label_shift: 4 (38328, 900) (38328,) num features: 300 0.5831756158265542\n"
     ]
    },
    {
     "name": "stderr",
     "output_type": "stream",
     "text": [
      "[Parallel(n_jobs=1)]: Done   5 out of   5 | elapsed:  4.3min finished\n"
     ]
    },
    {
     "name": "stdout",
     "output_type": "stream",
     "text": [
      "text label_shift: 2 (38426, 900) (38426,) num features: 300 0.6154924080953045\n"
     ]
    },
    {
     "name": "stderr",
     "output_type": "stream",
     "text": [
      "\n",
      "\n",
      "  7%|▋         | 2/28 [05:40<1:38:37, 227.58s/it]\u001b[A\u001b[A[Parallel(n_jobs=1)]: Using backend SequentialBackend with 1 concurrent workers.\n",
      "[Parallel(n_jobs=1)]: Using backend SequentialBackend with 1 concurrent workers.\n",
      "[Parallel(n_jobs=1)]: Using backend SequentialBackend with 1 concurrent workers.\n",
      "[Parallel(n_jobs=1)]: Using backend SequentialBackend with 1 concurrent workers.\n",
      "[Parallel(n_jobs=1)]: Done   5 out of   5 | elapsed:  8.9min finished\n"
     ]
    },
    {
     "name": "stdout",
     "output_type": "stream",
     "text": [
      "voxaudio label_shift: 0 (38524, 1536) (38524,) num features: 512 0.6763051968924172\n"
     ]
    },
    {
     "name": "stderr",
     "output_type": "stream",
     "text": [
      "[Parallel(n_jobs=1)]: Done   5 out of   5 | elapsed:  8.8min finished\n"
     ]
    },
    {
     "name": "stdout",
     "output_type": "stream",
     "text": [
      "voxaudio label_shift: 2 (38426, 1536) (38426,) num features: 512 0.6105741992139958\n"
     ]
    },
    {
     "name": "stderr",
     "output_type": "stream",
     "text": [
      "[Parallel(n_jobs=1)]: Using backend SequentialBackend with 1 concurrent workers.\n",
      "[Parallel(n_jobs=1)]: Using backend SequentialBackend with 1 concurrent workers.\n",
      "[Parallel(n_jobs=1)]: Done   5 out of   5 | elapsed: 18.4min finished\n"
     ]
    },
    {
     "name": "stdout",
     "output_type": "stream",
     "text": [
      "video label_shift: 0 (38524, 6144) (38524,) num features: 2048 0.5229472237889518\n"
     ]
    },
    {
     "name": "stderr",
     "output_type": "stream",
     "text": [
      "\n",
      "\n",
      " 18%|█▊        | 5/28 [19:51<1:33:43, 244.49s/it]\u001b[A\u001b[A[Parallel(n_jobs=1)]: Done   5 out of   5 | elapsed: 19.0min finished\n"
     ]
    },
    {
     "name": "stdout",
     "output_type": "stream",
     "text": [
      "video label_shift: 2 (38426, 6144) (38426,) num features: 2048 0.4952604253655618\n"
     ]
    },
    {
     "name": "stderr",
     "output_type": "stream",
     "text": [
      "\n",
      "\n",
      " 21%|██▏       | 6/28 [20:55<1:09:43, 190.18s/it]\u001b[A\u001b[A[Parallel(n_jobs=1)]: Using backend SequentialBackend with 1 concurrent workers.\n",
      "[Parallel(n_jobs=1)]: Using backend SequentialBackend with 1 concurrent workers.\n",
      "[Parallel(n_jobs=1)]: Done   5 out of   5 | elapsed: 18.5min finished\n"
     ]
    },
    {
     "name": "stdout",
     "output_type": "stream",
     "text": [
      "video label_shift: 4 (38328, 6144) (38328,) num features: 2048 0.48089777594160293\n"
     ]
    },
    {
     "name": "stderr",
     "output_type": "stream",
     "text": [
      "\n",
      "\n",
      " 25%|██▌       | 7/28 [25:32<1:15:43, 216.38s/it]\u001b[A\u001b[A[Parallel(n_jobs=1)]: Done   5 out of   5 | elapsed:  8.8min finished\n"
     ]
    },
    {
     "name": "stdout",
     "output_type": "stream",
     "text": [
      "voxaudio label_shift: 4 (38328, 1536) (38328,) num features: 512 0.5768613698625413\n"
     ]
    },
    {
     "name": "stderr",
     "output_type": "stream",
     "text": [
      "[Parallel(n_jobs=1)]: Done   5 out of   5 | elapsed: 18.4min finished\n"
     ]
    },
    {
     "name": "stdout",
     "output_type": "stream",
     "text": [
      "video label_shift: 9 (38083, 6144) (38083,) num features: 2048 0.46921075342307067\n"
     ]
    },
    {
     "name": "stderr",
     "output_type": "stream",
     "text": [
      "\n",
      "\n",
      " 29%|██▊       | 8/28 [25:55<52:47, 158.36s/it]  \u001b[A\u001b[A[Parallel(n_jobs=1)]: Done   5 out of   5 | elapsed:  8.9min finished\n"
     ]
    },
    {
     "name": "stdout",
     "output_type": "stream",
     "text": [
      "voxaudio label_shift: 9 (38083, 1536) (38083,) num features: 512 0.5339912456711712\n"
     ]
    },
    {
     "name": "stderr",
     "output_type": "stream",
     "text": [
      "\n",
      "\n",
      " 43%|████▎     | 12/28 [26:15<29:57, 112.34s/it]\u001b[A\u001b[A[Parallel(n_jobs=1)]: Using backend SequentialBackend with 1 concurrent workers.\n",
      "[Parallel(n_jobs=1)]: Using backend SequentialBackend with 1 concurrent workers.\n",
      "[Parallel(n_jobs=1)]: Using backend SequentialBackend with 1 concurrent workers.\n",
      "[Parallel(n_jobs=1)]: Using backend SequentialBackend with 1 concurrent workers.\n",
      "[Parallel(n_jobs=1)]: Done   5 out of   5 | elapsed:  9.9min finished\n"
     ]
    },
    {
     "name": "stdout",
     "output_type": "stream",
     "text": [
      "text_voxaudio label_shift: 0 (38524, 2436) (38524,) num features: 812 0.6825090752387324\n"
     ]
    },
    {
     "name": "stderr",
     "output_type": "stream",
     "text": [
      "[Parallel(n_jobs=1)]: Done   5 out of   5 | elapsed:  9.9min finished\n"
     ]
    },
    {
     "name": "stdout",
     "output_type": "stream",
     "text": [
      "text_voxaudio label_shift: 2 (38426, 2436) (38426,) num features: 812 0.6140353080155607\n"
     ]
    },
    {
     "name": "stderr",
     "output_type": "stream",
     "text": [
      "[Parallel(n_jobs=1)]: Using backend SequentialBackend with 1 concurrent workers.\n",
      "[Parallel(n_jobs=1)]: Using backend SequentialBackend with 1 concurrent workers.\n",
      "[Parallel(n_jobs=1)]: Done   5 out of   5 | elapsed: 19.2min finished\n"
     ]
    },
    {
     "name": "stdout",
     "output_type": "stream",
     "text": [
      "text_video label_shift: 0 (38524, 7044) (38524,) num features: 2348 0.6379134835102558\n"
     ]
    },
    {
     "name": "stderr",
     "output_type": "stream",
     "text": [
      "\n",
      "\n",
      " 46%|████▋     | 13/28 [40:37<1:24:18, 337.26s/it]\u001b[A\u001b[A[Parallel(n_jobs=1)]: Done   5 out of   5 | elapsed: 19.2min finished\n"
     ]
    },
    {
     "name": "stdout",
     "output_type": "stream",
     "text": [
      "text_video label_shift: 2 (38426, 7044) (38426,) num features: 2348 0.564223776458695\n"
     ]
    },
    {
     "name": "stderr",
     "output_type": "stream",
     "text": [
      "\n",
      "\n",
      " 50%|█████     | 14/28 [42:03<1:01:06, 261.90s/it]\u001b[A\u001b[A[Parallel(n_jobs=1)]: Using backend SequentialBackend with 1 concurrent workers.\n",
      "[Parallel(n_jobs=1)]: Using backend SequentialBackend with 1 concurrent workers.\n",
      "[Parallel(n_jobs=1)]: Done   5 out of   5 | elapsed: 18.9min finished\n"
     ]
    },
    {
     "name": "stdout",
     "output_type": "stream",
     "text": [
      "text_video label_shift: 4 (38328, 7044) (38328,) num features: 2348 0.5282261289613411\n"
     ]
    },
    {
     "name": "stderr",
     "output_type": "stream",
     "text": [
      "\n",
      "\n",
      " 54%|█████▎    | 15/28 [46:26<56:48, 262.16s/it]  \u001b[A\u001b[A[Parallel(n_jobs=1)]: Done   5 out of   5 | elapsed: 18.8min finished\n"
     ]
    },
    {
     "name": "stdout",
     "output_type": "stream",
     "text": [
      "text_video label_shift: 9 (38083, 7044) (38083,) num features: 2348 0.4934209042025633\n"
     ]
    },
    {
     "name": "stderr",
     "output_type": "stream",
     "text": [
      "\n",
      "\n",
      " 57%|█████▋    | 16/28 [46:34<37:10, 185.90s/it]\u001b[A\u001b[A[Parallel(n_jobs=1)]: Done   5 out of   5 | elapsed:  9.8min finished\n"
     ]
    },
    {
     "name": "stdout",
     "output_type": "stream",
     "text": [
      "text_voxaudio label_shift: 4 (38328, 2436) (38328,) num features: 812 0.5815317087816199\n"
     ]
    },
    {
     "name": "stderr",
     "output_type": "stream",
     "text": [
      "\n",
      "\n",
      " 68%|██████▊   | 19/28 [48:20<21:06, 140.73s/it]\u001b[A\u001b[A[Parallel(n_jobs=1)]: Using backend SequentialBackend with 1 concurrent workers.\n",
      "[Parallel(n_jobs=1)]: Using backend SequentialBackend with 1 concurrent workers.\n",
      "[Parallel(n_jobs=1)]: Done   5 out of   5 | elapsed:  9.9min finished\n"
     ]
    },
    {
     "name": "stdout",
     "output_type": "stream",
     "text": [
      "text_voxaudio label_shift: 9 (38083, 2436) (38083,) num features: 812 0.5361706192914346\n"
     ]
    },
    {
     "name": "stderr",
     "output_type": "stream",
     "text": [
      "\n",
      "\n",
      " 71%|███████▏  | 20/28 [49:05<14:56, 112.12s/it]\u001b[A\u001b[A[Parallel(n_jobs=1)]: Using backend SequentialBackend with 1 concurrent workers.\n",
      "[Parallel(n_jobs=1)]: Using backend SequentialBackend with 1 concurrent workers.\n",
      "[Parallel(n_jobs=1)]: Done   5 out of   5 | elapsed: 25.2min finished\n"
     ]
    },
    {
     "name": "stdout",
     "output_type": "stream",
     "text": [
      "video_voxaudio label_shift: 0 (38524, 7680) (38524,) num features: 2560 0.6597440267172872\n"
     ]
    },
    {
     "name": "stderr",
     "output_type": "stream",
     "text": [
      "\n",
      "\n",
      " 75%|███████▌  | 21/28 [1:07:27<47:43, 409.04s/it]\u001b[A\u001b[A[Parallel(n_jobs=1)]: Done   5 out of   5 | elapsed: 26.1min finished\n"
     ]
    },
    {
     "name": "stdout",
     "output_type": "stream",
     "text": [
      "video_voxaudio label_shift: 2 (38426, 7680) (38426,) num features: 2560 0.5795786006263813\n"
     ]
    },
    {
     "name": "stderr",
     "output_type": "stream",
     "text": [
      "\n",
      "\n",
      " 79%|███████▊  | 22/28 [1:10:14<33:38, 336.39s/it]\u001b[A\u001b[A[Parallel(n_jobs=1)]: Using backend SequentialBackend with 1 concurrent workers.\n",
      "[Parallel(n_jobs=1)]: Using backend SequentialBackend with 1 concurrent workers.\n",
      "[Parallel(n_jobs=1)]: Done   5 out of   5 | elapsed: 27.2min finished\n"
     ]
    },
    {
     "name": "stdout",
     "output_type": "stream",
     "text": [
      "video_voxaudio label_shift: 4 (38328, 7680) (38328,) num features: 2560 0.538636209807746\n"
     ]
    },
    {
     "name": "stderr",
     "output_type": "stream",
     "text": [
      "\n",
      "\n",
      " 82%|████████▏ | 23/28 [1:15:43<27:50, 334.07s/it]\u001b[A\u001b[A[Parallel(n_jobs=1)]: Done   5 out of   5 | elapsed: 27.4min finished\n"
     ]
    },
    {
     "name": "stdout",
     "output_type": "stream",
     "text": [
      "video_voxaudio label_shift: 9 (38083, 7680) (38083,) num features: 2560 0.5003795034161754\n"
     ]
    },
    {
     "name": "stderr",
     "output_type": "stream",
     "text": [
      "\n",
      "\n",
      " 86%|████████▌ | 24/28 [1:16:01<15:57, 239.35s/it]\u001b[A\u001b[A[Parallel(n_jobs=1)]: Done   5 out of   5 | elapsed: 28.0min finished\n"
     ]
    },
    {
     "name": "stdout",
     "output_type": "stream",
     "text": [
      "text_video_voxaudio label_shift: 0 (38524, 8580) (38524,) num features: 2860 0.6621063650998698\n"
     ]
    },
    {
     "name": "stderr",
     "output_type": "stream",
     "text": [
      "\n",
      "\n",
      " 89%|████████▉ | 25/28 [1:18:01<10:10, 203.50s/it]\u001b[A\u001b[A[Parallel(n_jobs=1)]: Done   5 out of   5 | elapsed: 28.6min finished\n"
     ]
    },
    {
     "name": "stdout",
     "output_type": "stream",
     "text": [
      "text_video_voxaudio label_shift: 2 (38426, 8580) (38426,) num features: 2860 0.5844188877253111\n"
     ]
    },
    {
     "name": "stderr",
     "output_type": "stream",
     "text": [
      "\n",
      "\n",
      " 93%|█████████▎| 26/28 [1:19:48<05:49, 174.63s/it]\u001b[A\u001b[A[Parallel(n_jobs=1)]: Done   5 out of   5 | elapsed: 22.3min finished\n"
     ]
    },
    {
     "name": "stdout",
     "output_type": "stream",
     "text": [
      "text_video_voxaudio label_shift: 4 (38328, 8580) (38328,) num features: 2860 0.5421849706763986\n"
     ]
    },
    {
     "name": "stderr",
     "output_type": "stream",
     "text": [
      "\n",
      "\n",
      " 96%|█████████▋| 27/28 [1:33:01<06:00, 360.02s/it]\u001b[A\u001b[A[Parallel(n_jobs=1)]: Done   5 out of   5 | elapsed: 20.9min finished\n"
     ]
    },
    {
     "name": "stdout",
     "output_type": "stream",
     "text": [
      "text_video_voxaudio label_shift: 9 (38083, 8580) (38083,) num features: 2860 0.4989879104457852\n"
     ]
    },
    {
     "name": "stderr",
     "output_type": "stream",
     "text": [
      "\n",
      "\n",
      "100%|██████████| 28/28 [1:35:04<00:00, 289.06s/it]\u001b[A\u001b[A"
     ]
    },
    {
     "name": "stdout",
     "output_type": "stream",
     "text": [
      "use_crossval: True | use_all_perspectives: True | predict_only_host: True | clf: <class 'sklearn.ensemble.forest.RandomForestClassifier'>\n",
      "{4: [(('text', 0), 0.6786669928159555), (('text', 2), 0.6154924080953045), (('text', 4), 0.5831756158265542), (('text', 9), 0.5435233260299), (('video', 0), 0.5229472237889518), (('video', 2), 0.4952604253655618), (('video', 4), 0.48089777594160293), (('video', 9), 0.46921075342307067), (('voxaudio', 0), 0.6763051968924172), (('voxaudio', 2), 0.6105741992139958), (('voxaudio', 4), 0.5768613698625413), (('voxaudio', 9), 0.5339912456711712), (('text_video', 0), 0.6379134835102558), (('text_video', 2), 0.564223776458695), (('text_video', 4), 0.5282261289613411), (('text_video', 9), 0.4934209042025633), (('text_voxaudio', 0), 0.6825090752387324), (('text_voxaudio', 2), 0.6140353080155607), (('text_voxaudio', 4), 0.5815317087816199), (('text_voxaudio', 9), 0.5361706192914346), (('video_voxaudio', 0), 0.6597440267172872), (('video_voxaudio', 2), 0.5795786006263813), (('video_voxaudio', 4), 0.538636209807746), (('video_voxaudio', 9), 0.5003795034161754), (('text_video_voxaudio', 0), 0.6621063650998698), (('text_video_voxaudio', 2), 0.5844188877253111), (('text_video_voxaudio', 4), 0.5421849706763986), (('text_video_voxaudio', 9), 0.4989879104457852)]}\n",
      "(132008, 2881)\n"
     ]
    },
    {
     "name": "stderr",
     "output_type": "stream",
     "text": [
      "\n",
      "\n",
      "  0%|          | 0/28 [00:00<?, ?it/s]\u001b[A\u001b[A[Parallel(n_jobs=1)]: Using backend SequentialBackend with 1 concurrent workers.\n",
      "[Parallel(n_jobs=1)]: Using backend SequentialBackend with 1 concurrent workers.\n",
      "[Parallel(n_jobs=1)]: Using backend SequentialBackend with 1 concurrent workers.\n",
      "[Parallel(n_jobs=1)]: Using backend SequentialBackend with 1 concurrent workers.\n",
      "[Parallel(n_jobs=1)]: Using backend SequentialBackend with 1 concurrent workers.\n",
      "[Parallel(n_jobs=1)]: Using backend SequentialBackend with 1 concurrent workers.\n",
      "[Parallel(n_jobs=1)]: Done   5 out of   5 | elapsed:  4.2min finished\n"
     ]
    },
    {
     "name": "stdout",
     "output_type": "stream",
     "text": [
      "text label_shift: 0 (35760, 900) (35760,) num features: 300 0.6647914122012433\n"
     ]
    },
    {
     "name": "stderr",
     "output_type": "stream",
     "text": [
      "\n",
      "\n",
      "  4%|▎         | 1/28 [05:06<2:17:43, 306.05s/it]\u001b[A\u001b[A[Parallel(n_jobs=1)]: Done   5 out of   5 | elapsed:  4.1min finished\n"
     ]
    },
    {
     "name": "stdout",
     "output_type": "stream",
     "text": [
      "text label_shift: 2 (35664, 900) (35664,) num features: 300 0.6075585665481404\n"
     ]
    },
    {
     "name": "stderr",
     "output_type": "stream",
     "text": [
      "\n",
      "\n",
      "  7%|▋         | 2/28 [05:31<1:36:05, 221.77s/it]\u001b[A\u001b[A[Parallel(n_jobs=1)]: Done   5 out of   5 | elapsed:  4.2min finished\n"
     ]
    },
    {
     "name": "stdout",
     "output_type": "stream",
     "text": [
      "text label_shift: 4 (35568, 900) (35568,) num features: 300 0.5765843531274193\n"
     ]
    },
    {
     "name": "stderr",
     "output_type": "stream",
     "text": [
      "\n",
      "\n",
      " 11%|█         | 3/28 [05:32<1:04:50, 155.62s/it]\u001b[A\u001b[A[Parallel(n_jobs=1)]: Done   5 out of   5 | elapsed:  4.2min finished\n"
     ]
    },
    {
     "name": "stdout",
     "output_type": "stream",
     "text": [
      "text label_shift: 9 (35328, 900) (35328,) num features: 300 0.5353249689073586\n"
     ]
    },
    {
     "name": "stderr",
     "output_type": "stream",
     "text": [
      "\n",
      "\n",
      " 14%|█▍        | 4/28 [05:34<43:45, 109.41s/it]  \u001b[A\u001b[A[Parallel(n_jobs=1)]: Using backend SequentialBackend with 1 concurrent workers.\n",
      "[Parallel(n_jobs=1)]: Using backend SequentialBackend with 1 concurrent workers.\n",
      "[Parallel(n_jobs=1)]: Using backend SequentialBackend with 1 concurrent workers.\n",
      "[Parallel(n_jobs=1)]: Using backend SequentialBackend with 1 concurrent workers.\n",
      "[Parallel(n_jobs=1)]: Done   5 out of   5 | elapsed:  8.1min finished\n"
     ]
    },
    {
     "name": "stdout",
     "output_type": "stream",
     "text": [
      "voxaudio label_shift: 0 (35760, 1536) (35760,) num features: 512 0.6667766674709903\n"
     ]
    },
    {
     "name": "stderr",
     "output_type": "stream",
     "text": [
      "[Parallel(n_jobs=1)]: Done   5 out of   5 | elapsed:  8.2min finished\n"
     ]
    },
    {
     "name": "stdout",
     "output_type": "stream",
     "text": [
      "voxaudio label_shift: 2 (35664, 1536) (35664,) num features: 512 0.607614514198972\n"
     ]
    },
    {
     "name": "stderr",
     "output_type": "stream",
     "text": [
      "[Parallel(n_jobs=1)]: Using backend SequentialBackend with 1 concurrent workers.\n",
      "[Parallel(n_jobs=1)]: Using backend SequentialBackend with 1 concurrent workers.\n",
      "[Parallel(n_jobs=1)]: Done   5 out of   5 | elapsed: 16.9min finished\n"
     ]
    },
    {
     "name": "stdout",
     "output_type": "stream",
     "text": [
      "video label_shift: 0 (35760, 6144) (35760,) num features: 2048 0.5303964783011952\n"
     ]
    },
    {
     "name": "stderr",
     "output_type": "stream",
     "text": [
      "\n",
      "\n",
      " 18%|█▊        | 5/28 [18:20<1:57:27, 306.42s/it]\u001b[A\u001b[A[Parallel(n_jobs=1)]: Done   5 out of   5 | elapsed: 17.0min finished\n"
     ]
    },
    {
     "name": "stdout",
     "output_type": "stream",
     "text": [
      "video label_shift: 2 (35664, 6144) (35664,) num features: 2048 0.5055805570296095\n"
     ]
    },
    {
     "name": "stderr",
     "output_type": "stream",
     "text": [
      "\n",
      "\n",
      " 21%|██▏       | 6/28 [18:53<1:22:18, 224.49s/it]\u001b[A\u001b[A[Parallel(n_jobs=1)]: Using backend SequentialBackend with 1 concurrent workers.\n",
      "[Parallel(n_jobs=1)]: Using backend SequentialBackend with 1 concurrent workers.\n",
      "[Parallel(n_jobs=1)]: Done   5 out of   5 | elapsed: 19.1min finished\n"
     ]
    },
    {
     "name": "stdout",
     "output_type": "stream",
     "text": [
      "video label_shift: 4 (35568, 6144) (35568,) num features: 2048 0.4882468047334682\n"
     ]
    },
    {
     "name": "stderr",
     "output_type": "stream",
     "text": [
      "\n",
      "\n",
      " 25%|██▌       | 7/28 [26:01<1:39:54, 285.47s/it]\u001b[A\u001b[A[Parallel(n_jobs=1)]: Done   5 out of   5 | elapsed: 10.2min finished\n"
     ]
    },
    {
     "name": "stdout",
     "output_type": "stream",
     "text": [
      "voxaudio label_shift: 4 (35568, 1536) (35568,) num features: 512 0.5792559928897506\n"
     ]
    },
    {
     "name": "stderr",
     "output_type": "stream",
     "text": [
      "[Parallel(n_jobs=1)]: Done   5 out of   5 | elapsed: 19.1min finished\n"
     ]
    },
    {
     "name": "stdout",
     "output_type": "stream",
     "text": [
      "video label_shift: 9 (35328, 6144) (35328,) num features: 2048 0.4818527768705841\n"
     ]
    },
    {
     "name": "stderr",
     "output_type": "stream",
     "text": [
      "\n",
      "\n",
      " 29%|██▊       | 8/28 [26:28<1:09:20, 208.03s/it]\u001b[A\u001b[A[Parallel(n_jobs=1)]: Done   5 out of   5 | elapsed: 10.1min finished\n"
     ]
    },
    {
     "name": "stdout",
     "output_type": "stream",
     "text": [
      "voxaudio label_shift: 9 (35328, 1536) (35328,) num features: 512 0.5386088384676462\n"
     ]
    },
    {
     "name": "stderr",
     "output_type": "stream",
     "text": [
      "\n",
      "\n",
      " 43%|████▎     | 12/28 [26:48<39:13, 147.09s/it] \u001b[A\u001b[A[Parallel(n_jobs=1)]: Using backend SequentialBackend with 1 concurrent workers.\n",
      "[Parallel(n_jobs=1)]: Using backend SequentialBackend with 1 concurrent workers.\n",
      "[Parallel(n_jobs=1)]: Using backend SequentialBackend with 1 concurrent workers.\n",
      "[Parallel(n_jobs=1)]: Using backend SequentialBackend with 1 concurrent workers.\n",
      "[Parallel(n_jobs=1)]: Done   5 out of   5 | elapsed:  9.3min finished\n"
     ]
    },
    {
     "name": "stdout",
     "output_type": "stream",
     "text": [
      "text_voxaudio label_shift: 0 (35760, 2436) (35760,) num features: 812 0.6714749434744673\n"
     ]
    },
    {
     "name": "stderr",
     "output_type": "stream",
     "text": [
      "[Parallel(n_jobs=1)]: Done   5 out of   5 | elapsed:  9.3min finished\n"
     ]
    },
    {
     "name": "stdout",
     "output_type": "stream",
     "text": [
      "text_voxaudio label_shift: 2 (35664, 2436) (35664,) num features: 812 0.6079791508804865\n"
     ]
    },
    {
     "name": "stderr",
     "output_type": "stream",
     "text": [
      "[Parallel(n_jobs=1)]: Using backend SequentialBackend with 1 concurrent workers.\n",
      "[Parallel(n_jobs=1)]: Using backend SequentialBackend with 1 concurrent workers.\n",
      "[Parallel(n_jobs=1)]: Done   5 out of   5 | elapsed: 19.7min finished\n"
     ]
    },
    {
     "name": "stdout",
     "output_type": "stream",
     "text": [
      "text_video label_shift: 0 (35760, 7044) (35760,) num features: 2348 0.6314859373877089\n"
     ]
    },
    {
     "name": "stderr",
     "output_type": "stream",
     "text": [
      "\n",
      "\n",
      " 46%|████▋     | 13/28 [39:35<1:23:17, 333.18s/it]\u001b[A\u001b[A[Parallel(n_jobs=1)]: Done   5 out of   5 | elapsed: 19.5min finished\n"
     ]
    },
    {
     "name": "stdout",
     "output_type": "stream",
     "text": [
      "text_video label_shift: 2 (35664, 7044) (35664,) num features: 2348 0.568276011136535\n"
     ]
    },
    {
     "name": "stderr",
     "output_type": "stream",
     "text": [
      "\n",
      "\n",
      " 50%|█████     | 14/28 [40:22<57:40, 247.19s/it]  \u001b[A\u001b[A[Parallel(n_jobs=1)]: Using backend SequentialBackend with 1 concurrent workers.\n",
      "[Parallel(n_jobs=1)]: Using backend SequentialBackend with 1 concurrent workers.\n",
      "[Parallel(n_jobs=1)]: Done   5 out of   5 | elapsed: 17.5min finished\n"
     ]
    },
    {
     "name": "stdout",
     "output_type": "stream",
     "text": [
      "text_video label_shift: 4 (35568, 7044) (35568,) num features: 2348 0.5409623657871065\n"
     ]
    },
    {
     "name": "stderr",
     "output_type": "stream",
     "text": [
      "\n",
      "\n",
      " 54%|█████▎    | 15/28 [45:24<57:08, 263.76s/it]\u001b[A\u001b[A[Parallel(n_jobs=1)]: Done   5 out of   5 | elapsed: 17.5min finished\n"
     ]
    },
    {
     "name": "stdout",
     "output_type": "stream",
     "text": [
      "text_video label_shift: 9 (35328, 7044) (35328,) num features: 2348 0.49926136555919554\n"
     ]
    },
    {
     "name": "stderr",
     "output_type": "stream",
     "text": [
      "\n",
      "\n",
      " 57%|█████▋    | 16/28 [45:45<38:10, 190.86s/it]\u001b[A\u001b[A[Parallel(n_jobs=1)]: Using backend SequentialBackend with 1 concurrent workers.\n",
      "[Parallel(n_jobs=1)]: Done   5 out of   5 | elapsed:  9.2min finished\n"
     ]
    },
    {
     "name": "stdout",
     "output_type": "stream",
     "text": [
      "text_voxaudio label_shift: 4 (35568, 2436) (35568,) num features: 812 0.5773999512508251\n"
     ]
    },
    {
     "name": "stderr",
     "output_type": "stream",
     "text": [
      "\n",
      "\n",
      " 68%|██████▊   | 19/28 [47:37<21:43, 144.83s/it]\u001b[A\u001b[A[Parallel(n_jobs=1)]: Using backend SequentialBackend with 1 concurrent workers.\n",
      "[Parallel(n_jobs=1)]: Done   5 out of   5 | elapsed:  9.3min finished\n"
     ]
    },
    {
     "name": "stdout",
     "output_type": "stream",
     "text": [
      "text_voxaudio label_shift: 9 (35328, 2436) (35328,) num features: 812 0.5399955214020339\n"
     ]
    },
    {
     "name": "stderr",
     "output_type": "stream",
     "text": [
      "\n",
      "\n",
      " 71%|███████▏  | 20/28 [48:29<15:35, 116.88s/it]\u001b[A\u001b[A[Parallel(n_jobs=1)]: Using backend SequentialBackend with 1 concurrent workers.\n",
      "[Parallel(n_jobs=1)]: Using backend SequentialBackend with 1 concurrent workers.\n",
      "[Parallel(n_jobs=1)]: Done   5 out of   5 | elapsed: 18.8min finished\n"
     ]
    },
    {
     "name": "stdout",
     "output_type": "stream",
     "text": [
      "video_voxaudio label_shift: 0 (35760, 7680) (35760,) num features: 2560 0.6446009622856386\n"
     ]
    },
    {
     "name": "stderr",
     "output_type": "stream",
     "text": [
      "\n",
      "\n",
      " 75%|███████▌  | 21/28 [59:58<33:39, 288.51s/it]\u001b[A\u001b[A[Parallel(n_jobs=1)]: Done   5 out of   5 | elapsed: 18.8min finished\n"
     ]
    },
    {
     "name": "stdout",
     "output_type": "stream",
     "text": [
      "video_voxaudio label_shift: 2 (35664, 7680) (35664,) num features: 2560 0.5775570899170075\n"
     ]
    },
    {
     "name": "stderr",
     "output_type": "stream",
     "text": [
      "\n",
      "\n",
      " 79%|███████▊  | 22/28 [1:01:07<22:16, 222.77s/it]\u001b[A\u001b[A[Parallel(n_jobs=1)]: Using backend SequentialBackend with 1 concurrent workers.\n",
      "[Parallel(n_jobs=1)]: Using backend SequentialBackend with 1 concurrent workers.\n",
      "[Parallel(n_jobs=1)]: Done   5 out of   5 | elapsed: 18.8min finished\n"
     ]
    },
    {
     "name": "stdout",
     "output_type": "stream",
     "text": [
      "video_voxaudio label_shift: 4 (35568, 7680) (35568,) num features: 2560 0.5469508347535375\n"
     ]
    },
    {
     "name": "stderr",
     "output_type": "stream",
     "text": [
      "\n",
      "\n",
      " 82%|████████▏ | 23/28 [1:06:13<20:38, 247.63s/it]\u001b[A\u001b[A[Parallel(n_jobs=1)]: Done   5 out of   5 | elapsed: 18.9min finished\n"
     ]
    },
    {
     "name": "stdout",
     "output_type": "stream",
     "text": [
      "video_voxaudio label_shift: 9 (35328, 7680) (35328,) num features: 2560 0.5105836171064462\n"
     ]
    },
    {
     "name": "stderr",
     "output_type": "stream",
     "text": [
      "\n",
      "\n",
      " 86%|████████▌ | 24/28 [1:06:40<12:06, 181.50s/it]\u001b[A\u001b[A[Parallel(n_jobs=1)]: Done   5 out of   5 | elapsed: 19.6min finished\n"
     ]
    },
    {
     "name": "stdout",
     "output_type": "stream",
     "text": [
      "text_video_voxaudio label_shift: 0 (35760, 8580) (35760,) num features: 2860 0.6494948234897244\n"
     ]
    },
    {
     "name": "stderr",
     "output_type": "stream",
     "text": [
      "\n",
      "\n",
      " 89%|████████▉ | 25/28 [1:08:54<08:21, 167.20s/it]\u001b[A\u001b[A[Parallel(n_jobs=1)]: Done   5 out of   5 | elapsed: 19.6min finished\n"
     ]
    },
    {
     "name": "stdout",
     "output_type": "stream",
     "text": [
      "text_video_voxaudio label_shift: 2 (35664, 8580) (35664,) num features: 2860 0.5836696980588119\n"
     ]
    },
    {
     "name": "stderr",
     "output_type": "stream",
     "text": [
      "\n",
      "\n",
      " 93%|█████████▎| 26/28 [1:10:12<04:41, 140.60s/it]\u001b[A\u001b[A[Parallel(n_jobs=1)]: Done   5 out of   5 | elapsed: 19.3min finished\n"
     ]
    },
    {
     "name": "stdout",
     "output_type": "stream",
     "text": [
      "text_video_voxaudio label_shift: 4 (35568, 8580) (35568,) num features: 2860 0.5503810312825914\n"
     ]
    },
    {
     "name": "stderr",
     "output_type": "stream",
     "text": [
      "\n",
      "\n",
      " 96%|█████████▋| 27/28 [1:21:22<04:59, 299.42s/it]\u001b[A\u001b[A[Parallel(n_jobs=1)]: Done   5 out of   5 | elapsed: 19.3min finished\n"
     ]
    },
    {
     "name": "stdout",
     "output_type": "stream",
     "text": [
      "text_video_voxaudio label_shift: 9 (35328, 8580) (35328,) num features: 2860 0.5091121647268659\n"
     ]
    },
    {
     "name": "stderr",
     "output_type": "stream",
     "text": [
      "\n",
      "\n",
      "100%|██████████| 28/28 [1:22:32<00:00, 230.48s/it]\u001b[A\u001b[A"
     ]
    },
    {
     "name": "stdout",
     "output_type": "stream",
     "text": [
      "use_crossval: True | use_all_perspectives: True | predict_only_host: True | clf: <class 'sklearn.ensemble.forest.RandomForestClassifier'>\n",
      "{4: [(('text', 0), 0.6786669928159555), (('text', 2), 0.6154924080953045), (('text', 4), 0.5831756158265542), (('text', 9), 0.5435233260299), (('video', 0), 0.5229472237889518), (('video', 2), 0.4952604253655618), (('video', 4), 0.48089777594160293), (('video', 9), 0.46921075342307067), (('voxaudio', 0), 0.6763051968924172), (('voxaudio', 2), 0.6105741992139958), (('voxaudio', 4), 0.5768613698625413), (('voxaudio', 9), 0.5339912456711712), (('text_video', 0), 0.6379134835102558), (('text_video', 2), 0.564223776458695), (('text_video', 4), 0.5282261289613411), (('text_video', 9), 0.4934209042025633), (('text_voxaudio', 0), 0.6825090752387324), (('text_voxaudio', 2), 0.6140353080155607), (('text_voxaudio', 4), 0.5815317087816199), (('text_voxaudio', 9), 0.5361706192914346), (('video_voxaudio', 0), 0.6597440267172872), (('video_voxaudio', 2), 0.5795786006263813), (('video_voxaudio', 4), 0.538636209807746), (('video_voxaudio', 9), 0.5003795034161754), (('text_video_voxaudio', 0), 0.6621063650998698), (('text_video_voxaudio', 2), 0.5844188877253111), (('text_video_voxaudio', 4), 0.5421849706763986), (('text_video_voxaudio', 9), 0.4989879104457852)], 5: [(('text', 0), 0.6647914122012433), (('text', 2), 0.6075585665481404), (('text', 4), 0.5765843531274193), (('text', 9), 0.5353249689073586), (('video', 0), 0.5303964783011952), (('video', 2), 0.5055805570296095), (('video', 4), 0.4882468047334682), (('video', 9), 0.4818527768705841), (('voxaudio', 0), 0.6667766674709903), (('voxaudio', 2), 0.607614514198972), (('voxaudio', 4), 0.5792559928897506), (('voxaudio', 9), 0.5386088384676462), (('text_video', 0), 0.6314859373877089), (('text_video', 2), 0.568276011136535), (('text_video', 4), 0.5409623657871065), (('text_video', 9), 0.49926136555919554), (('text_voxaudio', 0), 0.6714749434744673), (('text_voxaudio', 2), 0.6079791508804865), (('text_voxaudio', 4), 0.5773999512508251), (('text_voxaudio', 9), 0.5399955214020339), (('video_voxaudio', 0), 0.6446009622856386), (('video_voxaudio', 2), 0.5775570899170075), (('video_voxaudio', 4), 0.5469508347535375), (('video_voxaudio', 9), 0.5105836171064462), (('text_video_voxaudio', 0), 0.6494948234897244), (('text_video_voxaudio', 2), 0.5836696980588119), (('text_video_voxaudio', 4), 0.5503810312825914), (('text_video_voxaudio', 9), 0.5091121647268659)]}\n",
      "(131113, 2881)\n"
     ]
    },
    {
     "name": "stderr",
     "output_type": "stream",
     "text": [
      "\n",
      "\n",
      "  0%|          | 0/28 [00:00<?, ?it/s]\u001b[A\u001b[A[Parallel(n_jobs=1)]: Using backend SequentialBackend with 1 concurrent workers.\n",
      "[Parallel(n_jobs=1)]: Using backend SequentialBackend with 1 concurrent workers.\n",
      "[Parallel(n_jobs=1)]: Using backend SequentialBackend with 1 concurrent workers.\n",
      "[Parallel(n_jobs=1)]: Using backend SequentialBackend with 1 concurrent workers.\n",
      "[Parallel(n_jobs=1)]: Using backend SequentialBackend with 1 concurrent workers.\n",
      "[Parallel(n_jobs=1)]: Using backend SequentialBackend with 1 concurrent workers.\n",
      "[Parallel(n_jobs=1)]: Done   5 out of   5 | elapsed:  5.1min finished\n"
     ]
    },
    {
     "name": "stdout",
     "output_type": "stream",
     "text": [
      "text label_shift: 0 (36887, 900) (36887,) num features: 300 0.6209220510311375\n"
     ]
    },
    {
     "name": "stderr",
     "output_type": "stream",
     "text": [
      "\n",
      "\n",
      "  4%|▎         | 1/28 [06:01<2:42:44, 361.66s/it]\u001b[A\u001b[A[Parallel(n_jobs=1)]: Done   5 out of   5 | elapsed:  5.0min finished\n"
     ]
    },
    {
     "name": "stdout",
     "output_type": "stream",
     "text": [
      "text label_shift: 9 (36455, 900) (36455,) num features: 300 0.5236593139486949\n"
     ]
    },
    {
     "name": "stderr",
     "output_type": "stream",
     "text": [
      "[Parallel(n_jobs=1)]: Done   5 out of   5 | elapsed:  5.0min finished\n"
     ]
    },
    {
     "name": "stdout",
     "output_type": "stream",
     "text": [
      "text label_shift: 4 (36695, 900) (36695,) num features: 300 0.5536713459423139\n"
     ]
    },
    {
     "name": "stderr",
     "output_type": "stream",
     "text": [
      "[Parallel(n_jobs=1)]: Done   5 out of   5 | elapsed:  5.0min finished\n"
     ]
    },
    {
     "name": "stdout",
     "output_type": "stream",
     "text": [
      "text label_shift: 2 (36791, 900) (36791,) num features: 300 0.5804929881722003\n"
     ]
    },
    {
     "name": "stderr",
     "output_type": "stream",
     "text": [
      "\n",
      "\n",
      "  7%|▋         | 2/28 [06:25<1:52:47, 260.29s/it]\u001b[A\u001b[A[Parallel(n_jobs=1)]: Using backend SequentialBackend with 1 concurrent workers.\n",
      "[Parallel(n_jobs=1)]: Using backend SequentialBackend with 1 concurrent workers.\n",
      "[Parallel(n_jobs=1)]: Using backend SequentialBackend with 1 concurrent workers.\n",
      "[Parallel(n_jobs=1)]: Using backend SequentialBackend with 1 concurrent workers.\n",
      "[Parallel(n_jobs=1)]: Done   5 out of   5 | elapsed:  8.5min finished\n"
     ]
    },
    {
     "name": "stdout",
     "output_type": "stream",
     "text": [
      "voxaudio label_shift: 0 (36887, 1536) (36887,) num features: 512 0.6163672658210728\n"
     ]
    },
    {
     "name": "stderr",
     "output_type": "stream",
     "text": [
      "[Parallel(n_jobs=1)]: Done   5 out of   5 | elapsed:  8.4min finished\n"
     ]
    },
    {
     "name": "stdout",
     "output_type": "stream",
     "text": [
      "voxaudio label_shift: 2 (36791, 1536) (36791,) num features: 512 0.5768517061908366\n"
     ]
    },
    {
     "name": "stderr",
     "output_type": "stream",
     "text": [
      "[Parallel(n_jobs=1)]: Using backend SequentialBackend with 1 concurrent workers.\n",
      "[Parallel(n_jobs=1)]: Using backend SequentialBackend with 1 concurrent workers.\n",
      "[Parallel(n_jobs=1)]: Done   5 out of   5 | elapsed: 17.9min finished\n"
     ]
    },
    {
     "name": "stdout",
     "output_type": "stream",
     "text": [
      "video label_shift: 0 (36887, 6144) (36887,) num features: 2048 0.5128073775780873\n"
     ]
    },
    {
     "name": "stderr",
     "output_type": "stream",
     "text": [
      "\n",
      "\n",
      " 18%|█▊        | 5/28 [19:18<1:39:29, 259.53s/it]\u001b[A\u001b[A[Parallel(n_jobs=1)]: Done   5 out of   5 | elapsed: 17.7min finished\n"
     ]
    },
    {
     "name": "stdout",
     "output_type": "stream",
     "text": [
      "video label_shift: 2 (36791, 6144) (36791,) num features: 2048 0.4965869570802733\n"
     ]
    },
    {
     "name": "stderr",
     "output_type": "stream",
     "text": [
      "\n",
      "\n",
      " 21%|██▏       | 6/28 [19:35<1:08:29, 186.79s/it]\u001b[A\u001b[A[Parallel(n_jobs=1)]: Using backend SequentialBackend with 1 concurrent workers.\n",
      "[Parallel(n_jobs=1)]: Using backend SequentialBackend with 1 concurrent workers.\n",
      "[Parallel(n_jobs=1)]: Done   5 out of   5 | elapsed: 17.7min finished\n"
     ]
    },
    {
     "name": "stdout",
     "output_type": "stream",
     "text": [
      "video label_shift: 4 (36695, 6144) (36695,) num features: 2048 0.4863603578176221\n"
     ]
    },
    {
     "name": "stderr",
     "output_type": "stream",
     "text": [
      "\n",
      "\n",
      " 25%|██▌       | 7/28 [25:35<1:23:31, 238.63s/it]\u001b[A\u001b[A[Parallel(n_jobs=1)]: Done   5 out of   5 | elapsed:  8.5min finished\n"
     ]
    },
    {
     "name": "stdout",
     "output_type": "stream",
     "text": [
      "voxaudio label_shift: 4 (36695, 1536) (36695,) num features: 512 0.5579773844966569\n"
     ]
    },
    {
     "name": "stderr",
     "output_type": "stream",
     "text": [
      "[Parallel(n_jobs=1)]: Done   5 out of   5 | elapsed: 17.7min finished\n"
     ]
    },
    {
     "name": "stdout",
     "output_type": "stream",
     "text": [
      "video label_shift: 9 (36455, 6144) (36455,) num features: 2048 0.4773813404140862\n"
     ]
    },
    {
     "name": "stderr",
     "output_type": "stream",
     "text": [
      "\n",
      "\n",
      " 29%|██▊       | 8/28 [25:51<57:18, 171.91s/it]  \u001b[A\u001b[A[Parallel(n_jobs=1)]: Done   5 out of   5 | elapsed:  8.5min finished\n"
     ]
    },
    {
     "name": "stdout",
     "output_type": "stream",
     "text": [
      "voxaudio label_shift: 9 (36455, 1536) (36455,) num features: 512 0.5237418969542558\n"
     ]
    },
    {
     "name": "stderr",
     "output_type": "stream",
     "text": [
      "\n",
      "\n",
      " 43%|████▎     | 12/28 [26:07<32:24, 121.53s/it]\u001b[A\u001b[A[Parallel(n_jobs=1)]: Using backend SequentialBackend with 1 concurrent workers.\n"
     ]
    }
   ],
   "source": [
    "# Try all history_lengths, and all experiments (different inputs), and all label shifts\n",
    "jobs = list(itertools.product(experiments.keys(), label_shifts))\n",
    "# use_all_perspectives = True\n",
    "# predict_only_host = True\n",
    "# use_crossval = True\n",
    "# classifier = GaussianNB()\n",
    "all_results = {}\n",
    "for use_crossval in [False, True]:\n",
    "    for classifier in [GaussianNB(), RandomForestClassifier(random_state=seed, max_depth=12, n_estimators=150)]:\n",
    "        for use_all_perspectives, predict_only_host in [(True, True), (False, False), (False, True)]:\n",
    "            key = \" \".join([\n",
    "                \"use_crossval:\", str(use_crossval), \"| use_all_perspectives:\", str(use_all_perspectives), \n",
    "                \"| predict_only_host:\", str(predict_only_host),\"| clf:\", str(type(classifier)),\n",
    "            ])\n",
    "            print(key)\n",
    "            results = {}\n",
    "            for history_length in [4, 5, 10, 30]:\n",
    "                # Fetch and prepare data\n",
    "                data = pd.read_csv(egocom_loc + \"egocom_features_history_{}sec.csv.gz\".format(history_length))\n",
    "                # -1 means no one is speaking. Change to 0 for training.\n",
    "                data[\"multiclass_speaker_label\"].replace(-1, 0, inplace = True)\n",
    "                # Include video info and pre-sort data by speaker_id within each video.\n",
    "                data = pd.merge(data, video_info, on = ['video_id', 'video_speaker_id'])\n",
    "                print(data.shape)\n",
    "\n",
    "                if use_all_perspectives:\n",
    "                    # Only use 3 speaker conversations\n",
    "                    data = data[data['num_speakers'] == 3]  \n",
    "                elif predict_only_host:\n",
    "                    # Only use host data.\n",
    "                    data = data[data['speaker_is_host']]\n",
    "\n",
    "                if use_all_perspectives and not predict_only_host:\n",
    "                    print(\"ERROR!\")\n",
    "                    print(\"ERROR: use_all_perspectives = True, predict_only_host = False is impossible.\")\n",
    "                    print(\"ERROR!\")\n",
    "                \n",
    "                # DO ALL THE WORK HERE: run jobs in a parallelized fashion.\n",
    "                with multiprocessing.Pool(multiprocessing.cpu_count() // 3) as p:\n",
    "                    result = list(tqdm.tqdm(p.imap(process_binary_job, jobs), total=len(jobs)))\n",
    "                results[history_length] = list(zip(jobs, result))\n",
    "                print(key)\n",
    "                print(results) \n",
    "            all_results[key] = results"
   ]
  },
  {
   "cell_type": "code",
   "execution_count": null,
   "metadata": {},
   "outputs": [],
   "source": [
    "# Prepare data for plot\n",
    "all_results = {\"use_crossval: False | use_all_perspectives: True | predict_only_host: True | clf: <class 'sklearn.naive_bayes.GaussianNB'>\": {4: [(('text',     0),    0.6234794361845917),   (('text', 2), 0.5829943831105946),   (('text', 4), 0.5665436176413444),   (('text', 9), 0.539455649109066),   (('video', 0), 0.5514578103881058),   (('video', 2), 0.536897152818129),   (('video', 4), 0.534874684282106),   (('video', 9), 0.5337771685921284),   (('voxaudio', 0), 0.6481946321683723),   (('voxaudio', 2), 0.5953902769707534),   (('voxaudio', 4), 0.5686807849232562),   (('voxaudio', 9), 0.5402388878010573),   (('text_video', 0), 0.5945163158910987),   (('text_video', 2), 0.5614952546968817),   (('text_video', 4), 0.555469205362347),   (('text_video', 9), 0.5435676522420207),   (('text_voxaudio', 0), 0.6570766557250435),   (('text_voxaudio', 2), 0.5990703079604881),   (('text_voxaudio', 4), 0.5811152127452885),   (('text_voxaudio', 9), 0.5461131779909928),   (('video_voxaudio', 0), 0.6346785093647422),   (('video_voxaudio', 2), 0.5814448963780747),   (('video_voxaudio', 4), 0.5686807849232562),   (('video_voxaudio', 9), 0.5615821421578227),   (('text_video_voxaudio', 0), 0.6420158331724272),   (('text_video_voxaudio', 2), 0.590548130931629),   (('text_video_voxaudio', 4), 0.5772294540509034),   (('text_video_voxaudio', 9), 0.5611905228118269)],  5: [(('text', 0), 0.6183473389355743),   (('text', 2), 0.5660112359550562),   (('text', 4), 0.5521126760563381),   (('text', 9), 0.5132978723404256),   (('video', 0), 0.5689775910364145),   (('video', 2), 0.5626755617977528),   (('video', 4), 0.5619718309859155),   (('video', 9), 0.5606382978723404),   (('voxaudio', 0), 0.6411064425770309),   (('voxaudio', 2), 0.5935744382022472),   (('voxaudio', 4), 0.5732394366197183),   (('voxaudio', 9), 0.5452127659574468),   (('text_video', 0), 0.601890756302521),   (('text_video', 2), 0.5784761235955056),   (('text_video', 4), 0.5767605633802817),   (('text_video', 9), 0.5695035460992908),   (('text_voxaudio', 0), 0.6502100840336135),   (('text_voxaudio', 2), 0.598314606741573),   (('text_voxaudio', 4), 0.5765845070422535),   (('text_voxaudio', 9), 0.5427304964539007),   (('video_voxaudio', 0), 0.6260504201680672),   (('video_voxaudio', 2), 0.5953300561797753),   (('video_voxaudio', 4), 0.5802816901408451),   (('video_voxaudio', 9), 0.573936170212766),   (('text_video_voxaudio', 0), 0.6391806722689075),   (('text_video_voxaudio', 2), 0.6014747191011236),   (('text_video_voxaudio', 4), 0.5894366197183099),   (('text_video_voxaudio', 9), 0.573758865248227)],  10: [(('text', 0), 0.578984485190409),   (('text', 2), 0.5477369165487977),   (('text', 4), 0.5342198581560283),   (('text', 9), 0.5141071428571429),   (('video', 0), 0.5756346967559943),   (('video', 2), 0.570898161244696),   (('video', 4), 0.5656028368794326),   (('video', 9), 0.54625),   (('voxaudio', 0), 0.6126586741889986),   (('voxaudio', 2), 0.579031117397454),   (('voxaudio', 4), 0.5668439716312057),   (('voxaudio', 9), 0.55375),   (('text_video', 0), 0.6004936530324401),   (('text_video', 2), 0.5774398868458275),   (('text_video', 4), 0.574645390070922),   (('text_video', 9), 0.5510714285714285),   (('text_voxaudio', 0), 0.6140691114245416),   (('text_voxaudio', 2), 0.5756718528995757),   (('text_voxaudio', 4), 0.5641843971631205),   (('text_voxaudio', 9), 0.54625),   (('video_voxaudio', 0), 0.610543018335684),   (('video_voxaudio', 2), 0.5868104667609618),   (('video_voxaudio', 4), 0.5822695035460993),   (('video_voxaudio', 9), 0.5682142857142857),   (('text_video_voxaudio', 0), 0.6160084626234132),   (('text_video_voxaudio', 2), 0.5885785007072136),   (('text_video_voxaudio', 4), 0.5856382978723405),   (('text_video_voxaudio', 9), 0.5716071428571429)],  30: [(('text', 0), 0.5665820029027576),   (('text', 2), 0.5598617176128093),   (('text', 4), 0.5505474452554745),   (('text', 9), 0.5303308823529411),   (('video', 0), 0.5609579100145138),   (('video', 2), 0.5576783114992722),   (('video', 4), 0.5525547445255474),   (('video', 9), 0.546875),   (('voxaudio', 0), 0.5809143686502177),   (('voxaudio', 2), 0.5589519650655022),   (('voxaudio', 4), 0.5572992700729927),   (('voxaudio', 9), 0.5466911764705882),   (('text_video', 0), 0.5732946298984035),   (('text_video', 2), 0.5633187772925764),   (('text_video', 4), 0.5565693430656934),   (('text_video', 9), 0.5479779411764706),   (('text_voxaudio', 0), 0.5725689404934688),   (('text_voxaudio', 2), 0.5540393013100436),   (('text_voxaudio', 4), 0.5516423357664234),   (('text_voxaudio', 9), 0.5347426470588236),   (('video_voxaudio', 0), 0.5792815674891146),   (('video_voxaudio', 2), 0.5680494905385735),   (('video_voxaudio', 4), 0.5602189781021898),   (('video_voxaudio', 9), 0.5582720588235294),   (('text_video_voxaudio', 0), 0.5820029027576198),   (('text_video_voxaudio', 2), 0.5722343522561864),   (('text_video_voxaudio', 4), 0.5638686131386861),   (('text_video_voxaudio', 9), 0.5512867647058823)]}, \"use_crossval: False | use_all_perspectives: False | predict_only_host: False | clf: <class 'sklearn.naive_bayes.GaussianNB'>\": {4: [(('text',     0),    0.6452951346011361),   (('text', 2), 0.5723270440251572),   (('text', 4), 0.5716697284146766),   (('text', 9), 0.551296786767278),   (('video', 0), 0.5657199308471228),   (('video', 2), 0.5463279354231665),   (('video', 4), 0.5419790477136189),   (('video', 9), 0.5399030533206737),   (('voxaudio', 0), 0.6749320819955544),   (('voxaudio', 2), 0.6355172584559006),   (('voxaudio', 4), 0.6221637455935654),   (('voxaudio', 9), 0.6089650692119334),   (('text_video', 0), 0.62904420844653),   (('text_video', 2), 0.5894616946466598),   (('text_video', 4), 0.5778759743806167),   (('text_video', 9), 0.5564939283394134),   (('text_voxaudio', 0), 0.6722647567300568),   (('text_voxaudio', 2), 0.6107066805328579),   (('text_voxaudio', 4), 0.6065240057593962),   (('text_voxaudio', 9), 0.5909749637699265),   (('video_voxaudio', 0), 0.6466287972338849),   (('video_voxaudio', 2), 0.6116476006536918),   (('video_voxaudio', 4), 0.5970408619234397),   (('video_voxaudio', 9), 0.576582879416321),   (('text_video_voxaudio', 0), 0.6637194368979995),   (('text_video_voxaudio', 2), 0.6155103253602734),   (('text_video_voxaudio', 4), 0.604885556824388),   (('text_video_voxaudio', 9), 0.5822797461396232)],  5: [(('text', 0), 0.6498554913294797),   (('text', 2), 0.6086536604210933),   (('text', 4), 0.5914988381099923),   (('text', 9), 0.5682061775309364),   (('video', 0), 0.5648843930635838),   (('video', 2), 0.5517191423604404),   (('video', 4), 0.5476374903175832),   (('video', 9), 0.5464289194192731),   (('voxaudio', 0), 0.6700385356454721),   (('voxaudio', 2), 0.6368553216148348),   (('voxaudio', 4), 0.6249515879163439),   (('voxaudio', 9), 0.6140017538731365),   (('text_video', 0), 0.6205202312138728),   (('text_video', 2), 0.5928626617732278),   (('text_video', 4), 0.5784759876065065),   (('text_video', 9), 0.5630907142161161),   (('text_voxaudio', 0), 0.6660404624277456),   (('text_voxaudio', 2), 0.6283079003283755),   (('text_voxaudio', 4), 0.6132358636715725),   (('text_voxaudio', 9), 0.591688590080873),   (('video_voxaudio', 0), 0.6435452793834296),   (('video_voxaudio', 2), 0.6117442534286266),   (('video_voxaudio', 4), 0.5979376452362509),   (('video_voxaudio', 9), 0.5822858813212511),   (('text_video_voxaudio', 0), 0.6624277456647398),   (('text_video_voxaudio', 2), 0.6268591848560943),   (('text_video_voxaudio', 4), 0.6103795507358637),   (('text_video_voxaudio', 9), 0.5895449673584722)],  10: [(('text', 0), 0.5935046049442559),   (('text', 2), 0.5626397123141219),   (('text', 4), 0.5499853843905291),   (('text', 9), 0.4525887428907629),   (('video', 0), 0.5523994183228308),   (('video', 2), 0.5373214112158616),   (('video', 4), 0.5342005261619409),   (('video', 9), 0.5295646205138262),   (('voxaudio', 0), 0.6484730974309258),   (('voxaudio', 2), 0.6339780347944407),   (('voxaudio', 4), 0.6300302055929066),   (('voxaudio', 9), 0.6314963718376152),   (('text_video', 0), 0.5888027144934561),   (('text_video', 2), 0.5645349402274273),   (('text_video', 4), 0.5576829387118776),   (('text_video', 9), 0.5395665816826829),   (('text_voxaudio', 0), 0.6113427047988367),   (('text_voxaudio', 2), 0.5836816017105647),   (('text_voxaudio', 4), 0.5723959855792653),   (('text_voxaudio', 9), 0.5500098058442832),   (('video_voxaudio', 0), 0.6206010664081435),   (('video_voxaudio', 2), 0.6008358441053553),   (('video_voxaudio', 4), 0.5911039657020365),   (('video_voxaudio', 9), 0.5808491861149245),   (('text_video_voxaudio', 0), 0.6283082888996607),   (('text_video_voxaudio', 2), 0.600155505880066),   (('text_video_voxaudio', 4), 0.5913475591932184),   (('text_video_voxaudio', 9), 0.5694744067464209)],  30: [(('text', 0), 0.4972650422675286),   (('text', 2), 0.4849935187954931),   (('text', 4), 0.4789063281015695),   (('text', 9), 0.4606560676192393),   (('video', 0), 0.5436101442068623),   (('video', 2), 0.5328547213082062),   (('video', 4), 0.5358392482255323),   (('video', 9), 0.5361742805393439),   (('voxaudio', 0), 0.6586772749875683),   (('voxaudio', 2), 0.6546016551999202),   (('voxaudio', 4), 0.6517544736579026),   (('voxaudio', 9), 0.6398671764942644),   (('text_video', 0), 0.5501740427647936),   (('text_video', 2), 0.5341509622095921),   (('text_video', 4), 0.5299410176946916),   (('text_video', 9), 0.5191185349164822),   (('text_voxaudio', 0), 0.5317752362008951),   (('text_voxaudio', 2), 0.5219862399042776),   (('text_voxaudio', 4), 0.5228431470558832),   (('text_voxaudio', 9), 0.5329040048299457),   (('video_voxaudio', 0), 0.6037792143212333),   (('video_voxaudio', 2), 0.5998105494067205),   (('video_voxaudio', 4), 0.5993202039388184),   (('video_voxaudio', 9), 0.5982592070839203),   (('text_video_voxaudio', 0), 0.5816011934361014),   (('text_video_voxaudio', 2), 0.5676039485492073),   (('text_video_voxaudio', 4), 0.5645306408077577),   (('text_video_voxaudio', 9), 0.5621352384785672)]}, \"use_crossval: False | use_all_perspectives: False | predict_only_host: True | clf: <class 'sklearn.naive_bayes.GaussianNB'>\": {4: [(('text',     0),    0.6529232400901498),   (('text', 2), 0.6116943521594684),   (('text', 4), 0.5946449980018649),   (('text', 9), 0.5714285714285714),   (('video', 0), 0.5438154580405674),   (('video', 2), 0.5217275747508305),   (('video', 4), 0.5180498201678434),   (('video', 9), 0.5158134548378451),   (('voxaudio', 0), 0.6604799151531221),   (('voxaudio', 2), 0.6151495016611296),   (('voxaudio', 4), 0.5973091781004396),   (('voxaudio', 9), 0.5733047440364514),   (('text_video', 0), 0.5990985019223121),   (('text_video', 2), 0.5553488372093023),   (('text_video', 4), 0.5504196083655255),   (('text_video', 9), 0.5336370946127044),   (('text_voxaudio', 0), 0.6620707941137478),   (('text_voxaudio', 2), 0.6200664451827242),   (('text_voxaudio', 4), 0.605568136406021),   (('text_voxaudio', 9), 0.5755829536317342),   (('video_voxaudio', 0), 0.6476203102213973),   (('video_voxaudio', 2), 0.598671096345515),   (('video_voxaudio', 4), 0.5737311842280538),   (('video_voxaudio', 9), 0.5532028946663093),   (('text_video_voxaudio', 0), 0.6554421317778072),   (('text_video_voxaudio', 2), 0.6104983388704319),   (('text_video_voxaudio', 4), 0.596110297056081),   (('text_video_voxaudio', 9), 0.5682122755293487)],  5: [(('text', 0), 0.6466684364215556),   (('text', 2), 0.6101649813730707),   (('text', 4), 0.588957055214724),   (('text', 9), 0.5209982557359453),   (('video', 0), 0.5342447571011415),   (('video', 2), 0.518493879723257),   (('video', 4), 0.5194718591624433),   (('video', 9), 0.5196565141553737),   (('voxaudio', 0), 0.6506503849216884),   (('voxaudio', 2), 0.6113624268227781),   (('voxaudio', 4), 0.5921579087756735),   (('voxaudio', 9), 0.5701059975848651),   (('text_video', 0), 0.5914520838863817),   (('text_video', 2), 0.55401809473124),   (('text_video', 4), 0.5505468124833289),   (('text_video', 9), 0.5320005366966323),   (('text_voxaudio', 0), 0.6531722856384391),   (('text_voxaudio', 2), 0.6137573177221927),   (('text_voxaudio', 4), 0.5956255001333689),   (('text_voxaudio', 9), 0.5718502616396082),   (('video_voxaudio', 0), 0.6359171754711972),   (('video_voxaudio', 2), 0.5882118147951038),   (('video_voxaudio', 4), 0.5686849826620433),   (('video_voxaudio', 9), 0.5455521266604052),   (('text_video_voxaudio', 0), 0.6509158481550306),   (('text_video_voxaudio', 2), 0.6094997339010112),   (('text_video_voxaudio', 4), 0.5878901040277408),   (('text_video_voxaudio', 9), 0.5639339863142359)],  10: [(('text', 0), 0.6067565763119241),   (('text', 2), 0.5819836701914067),   (('text', 4), 0.5693009526365223),   (('text', 9), 0.5295626349892009),   (('video', 0), 0.5219655494725598),   (('video', 2), 0.5170659884888235),   (('video', 4), 0.511471890513887),   (('video', 9), 0.5024298056155507),   (('voxaudio', 0), 0.6263853652022967),   (('voxaudio', 2), 0.5971088207736581),   (('voxaudio', 4), 0.5840601100228096),   (('voxaudio', 9), 0.5599352051835853),   (('text_video', 0), 0.5589531312591801),   (('text_video', 2), 0.5347343059831348),   (('text_video', 4), 0.5211324298940024),   (('text_video', 9), 0.5067494600431965),   (('text_voxaudio', 0), 0.6305247696621712),   (('text_voxaudio', 2), 0.5993842859055013),   (('text_voxaudio', 4), 0.5847309808130954),   (('text_voxaudio', 9), 0.5592602591792657),   (('video_voxaudio', 0), 0.5807183869675524),   (('video_voxaudio', 2), 0.5486547985544104),   (('video_voxaudio', 4), 0.5338789749094325),   (('video_voxaudio', 9), 0.5133639308855291),   (('text_video_voxaudio', 0), 0.6189077313392977),   (('text_video_voxaudio', 2), 0.580779012180431),   (('text_video_voxaudio', 4), 0.5670199919495506),   (('text_video_voxaudio', 9), 0.5267278617710583)],  30: [(('text', 0), 0.566835408400602),   (('text', 2), 0.5506789192154711),   (('text', 4), 0.5495668912415784),   (('text', 9), 0.5355561704482568),   (('video', 0), 0.5097824599808455),   (('video', 2), 0.5052804827869977),   (('video', 4), 0.5024061597690087),   (('video', 9), 0.5051189817376868),   (('voxaudio', 0), 0.5792858120125872),   (('voxaudio', 2), 0.5560279797010013),   (('voxaudio', 4), 0.5484669324900316),   (('voxaudio', 9), 0.5444106253458771),   (('text_video', 0), 0.5363250786701327),   (('text_video', 2), 0.5155671375668632),   (('text_video', 4), 0.5083184380585728),   (('text_video', 9), 0.5019369120088545),   (('text_voxaudio', 0), 0.5846216992748666),   (('text_voxaudio', 2), 0.562885749554245),   (('text_voxaudio', 4), 0.5580915715660663),   (('text_voxaudio', 9), 0.5462091864969563),   (('video_voxaudio', 0), 0.5359146258038036),   (('video_voxaudio', 2), 0.5150185159786037),   (('video_voxaudio', 4), 0.5099683761858931),   (('video_voxaudio', 9), 0.5023519645821805),   (('text_video_voxaudio', 0), 0.5709399370638938),   (('text_video_voxaudio', 2), 0.5372376903031134),   (('text_video_voxaudio', 4), 0.5195930152619277),   (('text_video_voxaudio', 9), 0.5005534034311012)]}, \"use_crossval: False | use_all_perspectives: True | predict_only_host: True | clf: <class 'sklearn.ensemble.forest.RandomForestClassifier'>\": {4: [(('text',     0),    0.6539872562270709),   (('text', 2), 0.5961650203370134),   (('text', 4), 0.5805323489411307),   (('text', 9), 0.5490503230859605),   (('video', 0), 0.5864066422089207),   (('video', 2), 0.5649815998450514),   (('video', 4), 0.5490577035166117),   (('video', 9), 0.5392598394360681),   (('voxaudio', 0), 0.6472291948252559),   (('voxaudio', 2), 0.5930660468719736),   (('voxaudio', 4), 0.5748979988342724),   (('voxaudio', 9), 0.558449187389857),   (('text_video', 0), 0.6460706700135161),   (('text_video', 2), 0.5963587061785783),   (('text_video', 4), 0.5745094229648339),   (('text_video', 9), 0.5421969845310358),   (('text_voxaudio', 0), 0.6566904807877969),   (('text_voxaudio', 2), 0.6029440247917878),   (('text_voxaudio', 4), 0.5758694385078686),   (('text_voxaudio', 9), 0.5533581358919131),   (('video_voxaudio', 0), 0.653407993821201),   (('video_voxaudio', 2), 0.5979081929110982),   (('video_voxaudio', 4), 0.5702350884010103),   (('video_voxaudio', 9), 0.5568827100058743),   (('text_video_voxaudio', 0), 0.6441397953272833),   (('text_video_voxaudio', 2), 0.6048808832074375),   (('text_video_voxaudio', 4), 0.5733436953565184),   (('text_video_voxaudio', 9), 0.5578617583708635)],  5: [(('text', 0), 0.6465336134453782),   (('text', 2), 0.5967345505617978),   (('text', 4), 0.5725352112676056),   (('text', 9), 0.5574468085106383),   (('video', 0), 0.5835084033613446),   (('video', 2), 0.570751404494382),   (('video', 4), 0.5670774647887324),   (('video', 9), 0.5585106382978723),   (('voxaudio', 0), 0.6414565826330533),   (('voxaudio', 2), 0.6004213483146067),   (('voxaudio', 4), 0.5746478873239437),   (('voxaudio', 9), 0.5570921985815603),   (('text_video', 0), 0.6376050420168067),   (('text_video', 2), 0.5969101123595506),   (('text_video', 4), 0.5806338028169014),   (('text_video', 9), 0.5585106382978723),   (('text_voxaudio', 0), 0.6475840336134454),   (('text_voxaudio', 2), 0.6053370786516854),   (('text_voxaudio', 4), 0.585387323943662),   (('text_voxaudio', 9), 0.5593971631205674),   (('video_voxaudio', 0), 0.6432072829131653),   (('video_voxaudio', 2), 0.5956811797752809),   (('video_voxaudio', 4), 0.5748239436619719),   (('video_voxaudio', 9), 0.5539007092198581),   (('text_video_voxaudio', 0), 0.6465336134453782),   (('text_video_voxaudio', 2), 0.601123595505618),   (('text_video_voxaudio', 4), 0.5737676056338028),   (('text_video_voxaudio', 9), 0.5585106382978723)],  10: [(('text', 0), 0.6216502115655853),   (('text', 2), 0.5795615275813296),   (('text', 4), 0.5627659574468085),   (('text', 9), 0.5480357142857143),   (('video', 0), 0.590620592383639),   (('video', 2), 0.5694837340876945),   (('video', 4), 0.5666666666666667),   (('video', 9), 0.5523214285714285),   (('voxaudio', 0), 0.6167136812411848),   (('voxaudio', 2), 0.5815063649222065),   (('voxaudio', 4), 0.5732269503546099),   (('voxaudio', 9), 0.5582142857142857),   (('text_video', 0), 0.6100141043723555),   (('text_video', 2), 0.5781471004243282),   (('text_video', 4), 0.5673758865248227),   (('text_video', 9), 0.5521428571428572),   (('text_voxaudio', 0), 0.6242947813822285),   (('text_voxaudio', 2), 0.5949434229137199),   (('text_voxaudio', 4), 0.5762411347517731),   (('text_voxaudio', 9), 0.5592857142857143),   (('video_voxaudio', 0), 0.6174188998589563),   (('video_voxaudio', 2), 0.5848656294200849),   (('video_voxaudio', 4), 0.5776595744680851),   (('video_voxaudio', 9), 0.5623214285714285),   (('text_video_voxaudio', 0), 0.6161847672778561),   (('text_video_voxaudio', 2), 0.5878712871287128),   (('text_video_voxaudio', 4), 0.5792553191489361),   (('text_video_voxaudio', 9), 0.5655357142857143)],  30: [(('text', 0), 0.5693033381712627),   (('text', 2), 0.5516739446870451),   (('text', 4), 0.5474452554744526),   (('text', 9), 0.5479779411764706),   (('video', 0), 0.5662191582002902),   (('video', 2), 0.5609534206695779),   (('video', 4), 0.5490875912408759),   (('video', 9), 0.5424632352941177),   (('voxaudio', 0), 0.5705732946298984),   (('voxaudio', 2), 0.5591339155749636),   (('voxaudio', 4), 0.5593065693430657),   (('voxaudio', 9), 0.5424632352941177),   (('text_video', 0), 0.5749274310595065),   (('text_video', 2), 0.5587700145560408),   (('text_video', 4), 0.5541970802919708),   (('text_video', 9), 0.5564338235294117),   (('text_voxaudio', 0), 0.5702104499274311),   (('text_voxaudio', 2), 0.5531295487627366),   (('text_voxaudio', 4), 0.5598540145985401),   (('text_voxaudio', 9), 0.5481617647058824),   (('video_voxaudio', 0), 0.579644412191582),   (('video_voxaudio', 2), 0.5684133915574964),   (('video_voxaudio', 4), 0.5534671532846716),   (('video_voxaudio', 9), 0.5367647058823529),   (('text_video_voxaudio', 0), 0.5747460087082729),   (('text_video_voxaudio', 2), 0.5704148471615721),   (('text_video_voxaudio', 4), 0.5574817518248175),   (('text_video_voxaudio', 9), 0.5516544117647059)]}, \"use_crossval: False | use_all_perspectives: False | predict_only_host: False | clf: <class 'sklearn.ensemble.forest.RandomForestClassifier'>\": {4: [(('text',     0),    0.6985922449987652),   (('text', 2), 0.6741445055217155),   (('text', 4), 0.6656571173228737),   (('text', 9), 0.6512418170006496),   (('video', 0), 0.6558162509261546),   (('video', 2), 0.6499281929381469),   (('video', 4), 0.6475348791023285),   (('video', 9), 0.647044125730848),   (('voxaudio', 0), 0.7197826623857743),   (('voxaudio', 2), 0.6952409250730451),   (('voxaudio', 4), 0.6834814557370538),   (('voxaudio', 9), 0.6702313727449902),   (('text_video', 0), 0.7045690293899728),   (('text_video', 2), 0.6796414599118507),   (('text_video', 4), 0.6708703639342635),   (('text_video', 9), 0.6503423117285493),   (('text_voxaudio', 0), 0.7202272165966905),   (('text_voxaudio', 2), 0.6930619521616401),   (('text_voxaudio', 4), 0.6864604538007051),   (('text_voxaudio', 9), 0.6727799710159412),   (('video_voxaudio', 0), 0.7134107186959743),   (('video_voxaudio', 2), 0.689694448571287),   (('video_voxaudio', 4), 0.6839283054466014),   (('video_voxaudio', 9), 0.6708810154415071),   (('text_video_voxaudio', 0), 0.7176092862435169),   (('text_video_voxaudio', 2), 0.6905363244688754),   (('text_video_voxaudio', 4), 0.6823395064793207),   (('text_video_voxaudio', 9), 0.6734795862275749)],  5: [(('text', 0), 0.6970616570327552),   (('text', 2), 0.6732663704848367),   (('text', 4), 0.6624709527498064),   (('text', 9), 0.6548280229952256),   (('video', 0), 0.6675818882466281),   (('video', 2), 0.6577168244156848),   (('video', 4), 0.6528853601859024),   (('video', 9), 0.6511254019292605),   (('voxaudio', 0), 0.7185934489402698),   (('voxaudio', 2), 0.6979428240293606),   (('voxaudio', 4), 0.6874515879163439),   (('voxaudio', 9), 0.6733411283250511),   (('text_video', 0), 0.7030346820809249),   (('text_video', 2), 0.6834073787908055),   (('text_video', 4), 0.6802381874515879),   (('text_video', 9), 0.6629153269024651),   (('text_voxaudio', 0), 0.7171001926782273),   (('text_voxaudio', 2), 0.6978462429978752),   (('text_voxaudio', 4), 0.6895817195972115),   (('text_voxaudio', 9), 0.6751437201597973),   (('video_voxaudio', 0), 0.7133429672447014),   (('video_voxaudio', 2), 0.6921479621402357),   (('video_voxaudio', 4), 0.6852730441518203),   (('video_voxaudio', 9), 0.6729026600409237),   (('text_video_voxaudio', 0), 0.7160886319845857),   (('text_video_voxaudio', 2), 0.6949971025690554),   (('text_video_voxaudio', 4), 0.685708752904725),   (('text_video_voxaudio', 9), 0.6748026892721426)],  10: [(('text', 0), 0.692195831313621),   (('text', 2), 0.6704247254349305),   (('text', 4), 0.6631102016954107),   (('text', 9), 0.652235732496568),   (('video', 0), 0.6529326223945711),   (('video', 2), 0.6511808727767519),   (('video', 4), 0.6497612783786417),   (('video', 9), 0.6486565993332026),   (('voxaudio', 0), 0.7106156083373728),   (('voxaudio', 2), 0.6960346000583147),   (('voxaudio', 4), 0.6876157069083114),   (('voxaudio', 9), 0.6737105314767602),   (('text_video', 0), 0.6936984973339796),   (('text_video', 2), 0.6765963650500535),   (('text_video', 4), 0.6596511741206275),   (('text_video', 9), 0.6500784467542655),   (('text_voxaudio', 0), 0.709112942317014),   (('text_voxaudio', 2), 0.6964719603460006),   (('text_voxaudio', 4), 0.6856669589788561),   (('text_voxaudio', 9), 0.6750833496764072),   (('video_voxaudio', 0), 0.7064469219583132),   (('video_voxaudio', 2), 0.6894256001555059),   (('video_voxaudio', 4), 0.6824515248952548),   (('video_voxaudio', 9), 0.6682682878995881),   (('text_video_voxaudio', 0), 0.7106640814348036),   (('text_video_voxaudio', 2), 0.6919039751190592),   (('text_video_voxaudio', 4), 0.6860079898665108),   (('text_video_voxaudio', 9), 0.6716022749558737)],  30: [(('text', 0), 0.6658876181004475),   (('text', 2), 0.6523083059128527),   (('text', 4), 0.6493052084374688),   (('text', 9), 0.647967397866774),   (('video', 0), 0.6552958727001492),   (('video', 2), 0.6520091733971483),   (('video', 4), 0.6522543237028892),   (('video', 9), 0.6492251962165425),   (('voxaudio', 0), 0.6872202884137245),   (('voxaudio', 2), 0.6780337022634361),   (('voxaudio', 4), 0.6726482055383385),   (('voxaudio', 9), 0.663614409337895),   (('text_video', 0), 0.6661859771258081),   (('text_video', 2), 0.6595871971283278),   (('text_video', 4), 0.658002599220234),   (('text_video', 9), 0.6545079492855705),   (('text_voxaudio', 0), 0.6894579811039284),   (('text_voxaudio', 2), 0.6811745936783329),   (('text_voxaudio', 4), 0.6743976806957913),   (('text_voxaudio', 9), 0.6663815657073858),   (('video_voxaudio', 0), 0.6819492789656887),   (('video_voxaudio', 2), 0.6795792202612424),   (('video_voxaudio', 4), 0.6737978606418075),   (('video_voxaudio', 9), 0.663211913865969),   (('text_video_voxaudio', 0), 0.6848831427150671),   (('text_video_voxaudio', 2), 0.6779339914248679),   (('text_video_voxaudio', 4), 0.676447065880236),   (('text_video_voxaudio', 9), 0.6611491245723485)]}, \"use_crossval: False | use_all_perspectives: False | predict_only_host: True | clf: <class 'sklearn.ensemble.forest.RandomForestClassifier'>\": {4: [(('text',     0),    0.6559724247646825),   (('text', 2), 0.6112956810631229),   (('text', 4), 0.5971759690955109),   (('text', 9), 0.5722326454033771),   (('video', 0), 0.609041495426223),   (('video', 2), 0.575548172757475),   (('video', 4), 0.5585453576661782),   (('video', 9), 0.5533369069954436),   (('voxaudio', 0), 0.6692297494365637),   (('voxaudio', 2), 0.6235215946843854),   (('voxaudio', 4), 0.5974423871053683),   (('voxaudio', 9), 0.5767890645939426),   (('text_video', 0), 0.6569004374917141),   (('text_video', 2), 0.6175415282392026),   (('text_video', 4), 0.5997069401891568),   (('text_video', 9), 0.5809434467971053),   (('text_voxaudio', 0), 0.6758584117725043),   (('text_voxaudio', 2), 0.6256478405315614),   (('text_voxaudio', 4), 0.6045024643665912),   (('text_voxaudio', 9), 0.5802733851514339),   (('video_voxaudio', 0), 0.6635290998276547),   (('video_voxaudio', 2), 0.6194019933554817),   (('video_voxaudio', 4), 0.6034367923271613),   (('video_voxaudio', 9), 0.5797373358348968),   (('text_video_voxaudio', 0), 0.6697600424234389),   (('text_video_voxaudio', 2), 0.6256478405315614),   (('text_video_voxaudio', 4), 0.6104968695883842),   (('text_video_voxaudio', 9), 0.588448137228625)],  5: [(('text', 0), 0.6491903371383063),   (('text', 2), 0.6024481106971793),   (('text', 4), 0.5904241130968259),   (('text', 9), 0.5765463571716087),   (('video', 0), 0.6096363153703213),   (('video', 2), 0.5717136774880256),   (('video', 4), 0.55841557748733),   (('video', 9), 0.545417952502348),   (('voxaudio', 0), 0.6645872046721529),   (('voxaudio', 2), 0.6265300691857371),   (('voxaudio', 4), 0.608829021072286),   (('voxaudio', 9), 0.5752046155910372),   (('text_video', 0), 0.6525086275550837),   (('text_video', 2), 0.6152208621607238),   (('text_video', 4), 0.5945585489463857),   (('text_video', 9), 0.5734603515362942),   (('text_voxaudio', 0), 0.6693655428723122),   (('text_voxaudio', 2), 0.6263970196913252),   (('text_voxaudio', 4), 0.6041611096292344),   (('text_voxaudio', 9), 0.5872802898161814),   (('video_voxaudio', 0), 0.661667109105389),   (('video_voxaudio', 2), 0.6193453964874933),   (('video_voxaudio', 4), 0.6002934115764204),   (('video_voxaudio', 9), 0.5836575875486382),   (('text_video_voxaudio', 0), 0.6677727634722591),   (('text_video_voxaudio', 2), 0.6246673762639702),   (('text_video_voxaudio', 4), 0.6041611096292344),   (('text_video_voxaudio', 9), 0.588622031396753)],  10: [(('text', 0), 0.6215783148617973),   (('text', 2), 0.5934948467407308),   (('text', 4), 0.5906346437676103),   (('text', 9), 0.5715442764578834),   (('video', 0), 0.5780478034450528),   (('video', 2), 0.5548119394993977),   (('video', 4), 0.5475647390312626),   (('video', 9), 0.5265928725701944),   (('voxaudio', 0), 0.6418747496327948),   (('voxaudio', 2), 0.6141078838174274),   (('voxaudio', 4), 0.598819267409097),   (('voxaudio', 9), 0.5728941684665226),   (('text_video', 0), 0.631993590599546),   (('text_video', 2), 0.5991165841252845),   (('text_video', 4), 0.5698376492687508),   (('text_video', 9), 0.5322624190064795),   (('text_voxaudio', 0), 0.6490853251435439),   (('text_voxaudio', 2), 0.6189265158613305),   (('text_voxaudio', 4), 0.59962431235744),   (('text_voxaudio', 9), 0.5724892008639308),   (('video_voxaudio', 0), 0.6384029910535453),   (('video_voxaudio', 2), 0.6141078838174274),   (('video_voxaudio', 4), 0.5960016100898967),   (('video_voxaudio', 9), 0.5602051835853131),   (('text_video_voxaudio', 0), 0.6497529710241687),   (('text_video_voxaudio', 2), 0.6099585062240664),   (('text_video_voxaudio', 4), 0.5989534415671541),   (('text_video_voxaudio', 9), 0.5673596112311015)],  30: [(('text', 0), 0.5550690928991654),   (('text', 2), 0.5542449595391579),   (('text', 4), 0.5580915715660663),   (('text', 9), 0.5532650802434975),   (('video', 0), 0.5742235599945273),   (('video', 2), 0.5579481552599095),   (('video', 4), 0.5596040148494431),   (('video', 9), 0.5385998893193138),   (('voxaudio', 0), 0.600492543439595),   (('voxaudio', 2), 0.5840076807022356),   (('voxaudio', 4), 0.5667537467344974),   (('voxaudio', 9), 0.5534034311012729),   (('text_video', 0), 0.6026816253933507),   (('text_video', 2), 0.5962145110410094),   (('text_video', 4), 0.5695036436133645),   (('text_video', 9), 0.5485611510791367),   (('text_voxaudio', 0), 0.6029552606375701),   (('text_voxaudio', 2), 0.5856535454670141),   (('text_voxaudio', 4), 0.5763783858105321),   (('text_voxaudio', 9), 0.5534034311012729),   (('video_voxaudio', 0), 0.5992611848406074),   (('video_voxaudio', 2), 0.5829104375257166),   (('video_voxaudio', 4), 0.5798157569091159),   (('video_voxaudio', 9), 0.5532650802434975),   (('text_video_voxaudio', 0), 0.6009029963059243),   (('text_video_voxaudio', 2), 0.5933342477026471),   (('text_video_voxaudio', 4), 0.5866904991062836),   (('text_video_voxaudio', 9), 0.5539568345323741)]}, \"use_crossval: True | use_all_perspectives: True | predict_only_host: True | clf: <class 'sklearn.naive_bayes.GaussianNB'>\": {4: [(('text',     0),    0.6495421578279535),   (('text', 2), 0.5878564811484824),   (('text', 4), 0.5533003759881916),   (('text', 9), 0.5189191297826732),   (('video', 0), 0.5192359413820778),   (('video', 2), 0.5051804947521831),   (('video', 4), 0.4972346271973011),   (('video', 9), 0.49625909688412584),   (('voxaudio', 0), 0.6847674467968973),   (('voxaudio', 2), 0.623508876445786),   (('voxaudio', 4), 0.5934301380226243),   (('voxaudio', 9), 0.5547619737142593),   (('text_video', 0), 0.5598077909248287),   (('text_video', 2), 0.5242564040462163),   (('text_video', 4), 0.5126536453371967),   (('text_video', 9), 0.4989114560751437),   (('text_voxaudio', 0), 0.6856497951795943),   (('text_voxaudio', 2), 0.623586628906604),   (('text_voxaudio', 4), 0.5962215354146921),   (('text_voxaudio', 9), 0.5555759631540683),   (('video_voxaudio', 0), 0.6439362344447342),   (('video_voxaudio', 2), 0.5791904546527735),   (('video_voxaudio', 4), 0.5506154899432978),   (('video_voxaudio', 9), 0.5195239039885351),   (('text_video_voxaudio', 0), 0.6570448111602356),   (('text_video_voxaudio', 2), 0.5884028140972526),   (('text_video_voxaudio', 4), 0.5567203312580375),   (('text_video_voxaudio', 9), 0.5212832267605743)],  5: [(('text', 0), 0.6293332682577489),   (('text', 2), 0.5725381480733935),   (('text', 4), 0.5509984628634959),   (('text', 9), 0.5146047308539099),   (('video', 0), 0.5131997544034145),   (('video', 2), 0.5009821759299846),   (('video', 4), 0.49538954697376675),   (('video', 9), 0.48720497403446644),   (('voxaudio', 0), 0.6781307293621237),   (('voxaudio', 2), 0.6240455462862923),   (('voxaudio', 4), 0.5953664608759018),   (('voxaudio', 9), 0.556584695911876),   (('text_video', 0), 0.5485174753508428),   (('text_video', 2), 0.5159269842859872),   (('text_video', 4), 0.5053696658950353),   (('text_video', 9), 0.49167687778685903),   (('text_voxaudio', 0), 0.6758935655362045),   (('text_voxaudio', 2), 0.6219146645590208),   (('text_voxaudio', 4), 0.5929198799364814),   (('text_voxaudio', 9), 0.5542064601463389),   (('video_voxaudio', 0), 0.6367992693470291),   (('video_voxaudio', 2), 0.5803327672389804),   (('video_voxaudio', 4), 0.5515348460754879),   (('video_voxaudio', 9), 0.5148602571679588),   (('text_video_voxaudio', 0), 0.6443497027146645),   (('text_video_voxaudio', 2), 0.5869780437216483),   (('text_video_voxaudio', 4), 0.5575232676128528),   (('text_video_voxaudio', 9), 0.5180867523869178)],  10: [(('text', 0), 0.6178053693988834),   (('text', 2), 0.5818258581896032),   (('text', 4), 0.5585227779257285),   (('text', 9), 0.5312027592742684),   (('video', 0), 0.510017427611629),   (('video', 2), 0.5000424730897097),   (('video', 4), 0.4949456954532815),   (('video', 9), 0.49452904971774253),   (('voxaudio', 0), 0.6384634536644452),   (('voxaudio', 2), 0.598868891473415),   (('voxaudio', 4), 0.5768354206541544),   (('voxaudio', 9), 0.5456873438450707),   (('text_video', 0), 0.5604133805155787),   (('text_video', 2), 0.5263519468901487),   (('text_video', 4), 0.5140485921163134),   (('text_video', 9), 0.5038823293744128),   (('text_voxaudio', 0), 0.6388698291130707),   (('text_voxaudio', 2), 0.5970204153245715),   (('text_voxaudio', 4), 0.5751184652218585),   (('text_voxaudio', 9), 0.5435472004175821),   (('video_voxaudio', 0), 0.605389037026129),   (('video_voxaudio', 2), 0.5620124601398042),   (('video_voxaudio', 4), 0.5398553919339418),   (('video_voxaudio', 9), 0.5178999911351139),   (('text_video_voxaudio', 0), 0.6141996704576366),   (('text_video_voxaudio', 2), 0.5720691790307317),   (('text_video_voxaudio', 4), 0.5493119402730458),   (('text_video_voxaudio', 9), 0.5231664349198406)],  30: [(('text', 0), 0.5786259010933945),   (('text', 2), 0.5620501700560834),   (('text', 4), 0.5459432048681542),   (('text', 9), 0.5281201234374271),   (('video', 0), 0.4919217145786135),   (('video', 2), 0.48577166850293196),   (('video', 4), 0.484370943842948),   (('video', 9), 0.4862690727222514),   (('voxaudio', 0), 0.5708241681394307),   (('voxaudio', 2), 0.5476818879818169),   (('voxaudio', 4), 0.5343189422756695),   (('voxaudio', 9), 0.5137034411128298),   (('text_video', 0), 0.5322858197359758),   (('text_video', 2), 0.5145081748940191),   (('text_video', 4), 0.5062856580242049),   (('text_video', 9), 0.4901602111269184),   (('text_voxaudio', 0), 0.5805626102181413),   (('text_voxaudio', 2), 0.5579727078321679),   (('text_voxaudio', 4), 0.5434962617806927),   (('text_voxaudio', 9), 0.5211499126398458),   (('video_voxaudio', 0), 0.5331987019395331),   (('video_voxaudio', 2), 0.5128989789300309),   (('video_voxaudio', 4), 0.5040330469631348),   (('video_voxaudio', 9), 0.4883124401513572),   (('text_video_voxaudio', 0), 0.5504345663224062),   (('text_video_voxaudio', 2), 0.5306792466098086),   (('text_video_voxaudio', 4), 0.51727122597475),   (('text_video_voxaudio', 9), 0.49497493921464975)]}, \"use_crossval: True | use_all_perspectives: False | predict_only_host: False | clf: <class 'sklearn.naive_bayes.GaussianNB'>\": {4: [(('text',     0),    0.671555662971522),   (('text', 2), 0.6123672704559651),   (('text', 4), 0.599591738660769),   (('text', 9), 0.5748549256198585),   (('video', 0), 0.5576084483926695),   (('video', 2), 0.5461145607524709),   (('video', 4), 0.542276239221862),   (('video', 9), 0.5310812002880885),   (('voxaudio', 0), 0.7031173301892262),   (('voxaudio', 2), 0.6603813792850057),   (('voxaudio', 4), 0.6436909856762745),   (('voxaudio', 9), 0.625969299650994),   (('text_video', 0), 0.6414308004973109),   (('text_video', 2), 0.6015064114340302),   (('text_video', 4), 0.585388173515563),   (('text_video', 9), 0.5584102798197941),   (('text_voxaudio', 0), 0.6990200529449961),   (('text_voxaudio', 2), 0.643935775434471),   (('text_voxaudio', 4), 0.6280211827849997),   (('text_voxaudio', 9), 0.6061136811592092),   (('video_voxaudio', 0), 0.6645193458483327),   (('video_voxaudio', 2), 0.6246463607304259),   (('video_voxaudio', 4), 0.6089922861517474),   (('video_voxaudio', 9), 0.5845457285507417),   (('text_video_voxaudio', 0), 0.6900486348399804),   (('text_video_voxaudio', 2), 0.6407980306426131),   (('text_video_voxaudio', 4), 0.6231443382952732),   (('text_video_voxaudio', 9), 0.5955040202445318)],  5: [(('text', 0), 0.6768598986991343),   (('text', 2), 0.6358361885295272),   (('text', 4), 0.6157670525686695),   (('text', 9), 0.5903164393472323),   (('video', 0), 0.5497097132219093),   (('video', 2), 0.538431091174597),   (('video', 4), 0.5336887848726968),   (('video', 9), 0.5216805206621352),   (('voxaudio', 0), 0.6997071686488399),   (('voxaudio', 2), 0.6626996172497414),   (('voxaudio', 4), 0.6455940272865319),   (('voxaudio', 9), 0.6282407319458313),   (('text_video', 0), 0.6193035772083382),   (('text_video', 2), 0.5861956819922309),   (('text_video', 4), 0.5717011667920494),   (('text_video', 9), 0.54240555986723),   (('text_voxaudio', 0), 0.6949345463957047),   (('text_voxaudio', 2), 0.6543679143796668),   (('text_voxaudio', 4), 0.6347353029760334),   (('text_voxaudio', 9), 0.6090486509604645),   (('video_voxaudio', 0), 0.6533998675490608),   (('video_voxaudio', 2), 0.618162936158367),   (('video_voxaudio', 4), 0.6015280675745843),   (('video_voxaudio', 9), 0.5752786693449676),   (('text_video_voxaudio', 0), 0.678201085546779),   (('text_video_voxaudio', 2), 0.6368692326877674),   (('text_video_voxaudio', 4), 0.6169705213430655),   (('text_video_voxaudio', 9), 0.5841696274003094)],  10: [(('text', 0), 0.5811783428377613),   (('text', 2), 0.523266273394551),   (('text', 4), 0.49142406670047645),   (('text', 9), 0.45736721161926097),   (('video', 0), 0.5408929586124918),   (('video', 2), 0.530378690668295),   (('video', 4), 0.5250830214934218),   (('video', 9), 0.5182381968600402),   (('voxaudio', 0), 0.6798408298789592),   (('voxaudio', 2), 0.6582110517150042),   (('voxaudio', 4), 0.6497171748639153),   (('voxaudio', 9), 0.6374654655431622),   (('text_video', 0), 0.5767013863623583),   (('text_video', 2), 0.552737957725175),   (('text_video', 4), 0.5395351125560695),   (('text_video', 9), 0.5185697731498239),   (('text_voxaudio', 0), 0.642117552145183),   (('text_voxaudio', 2), 0.6137364720771329),   (('text_voxaudio', 4), 0.5982409382357182),   (('text_voxaudio', 9), 0.5687714464323997),   (('video_voxaudio', 0), 0.6347275506172159),   (('video_voxaudio', 2), 0.6115731744271695),   (('video_voxaudio', 4), 0.5986092994389285),   (('video_voxaudio', 9), 0.5819537627177971),   (('text_video_voxaudio', 0), 0.6386857835879949),   (('text_video_voxaudio', 2), 0.6098677277725841),   (('text_video_voxaudio', 4), 0.5930889724087021),   (('text_video_voxaudio', 9), 0.5651757764826092)],  30: [(('text', 0), 0.5229911514822895),   (('text', 2), 0.5063262187497839),   (('text', 4), 0.49713388955774623),   (('text', 9), 0.4801891871949933),   (('video', 0), 0.5305670958281145),   (('video', 2), 0.5242317016369821),   (('video', 4), 0.5226766517726793),   (('video', 9), 0.5208450345767573),   (('voxaudio', 0), 0.6571161993204042),   (('voxaudio', 2), 0.6512731066345603),   (('voxaudio', 4), 0.6473285816123214),   (('voxaudio', 9), 0.6398188130665725),   (('text_video', 0), 0.552516997540663),   (('text_video', 2), 0.5344939702512123),   (('text_video', 4), 0.527451718677359),   (('text_video', 9), 0.5162805620124757),   (('text_voxaudio', 0), 0.565832251054358),   (('text_voxaudio', 2), 0.5562060298449196),   (('text_voxaudio', 4), 0.5529697529402194),   (('text_voxaudio', 9), 0.5563478781742364),   (('video_voxaudio', 0), 0.6093084253641647),   (('video_voxaudio', 2), 0.6045274376866789),   (('video_voxaudio', 4), 0.6015183879038801),   (('video_voxaudio', 9), 0.5949912370783761),   (('text_video_voxaudio', 0), 0.5824986991977159),   (('text_video_voxaudio', 2), 0.5704493027120277),   (('text_video_voxaudio', 4), 0.5656089226061074),   (('text_video_voxaudio', 9), 0.5629714896852759)]}, \"use_crossval: True | use_all_perspectives: False | predict_only_host: True | clf: <class 'sklearn.naive_bayes.GaussianNB'>\": {4: [(('text',     0),    0.6622354344086439),   (('text', 2), 0.6142788698789332),   (('text', 4), 0.5923248634569396),   (('text', 9), 0.5455600786798769),   (('video', 0), 0.5240508663618886),   (('video', 2), 0.5090461351094048),   (('video', 4), 0.49847979645342244),   (('video', 9), 0.4894046457326583),   (('voxaudio', 0), 0.6771201317494551),   (('voxaudio', 2), 0.6203176995184589),   (('voxaudio', 4), 0.5945618302074402),   (('voxaudio', 9), 0.5617720058872255),   (('text_video', 0), 0.5821584791200417),   (('text_video', 2), 0.5398112164970759),   (('text_video', 4), 0.5205604797468495),   (('text_video', 9), 0.49861578594143746),   (('text_voxaudio', 0), 0.6760991881133678),   (('text_voxaudio', 2), 0.6201332567538473),   (('text_voxaudio', 4), 0.5955056682549278),   (('text_voxaudio', 9), 0.563589632928027),   (('video_voxaudio', 0), 0.6485759811538749),   (('video_voxaudio', 2), 0.5886099146338433),   (('video_voxaudio', 4), 0.5589765688518213),   (('video_voxaudio', 9), 0.5223868888140804),   (('text_video_voxaudio', 0), 0.6583969287919709),   (('text_video_voxaudio', 2), 0.5982510696875998),   (('text_video_voxaudio', 4), 0.5694424937237746),   (('text_video_voxaudio', 9), 0.5298219674420256)],  5: [(('text', 0), 0.6535871545054965),   (('text', 2), 0.6111295208590596),   (('text', 4), 0.568993791104759),   (('text', 9), 0.520637014787835),   (('video', 0), 0.5260404266999892),   (('video', 2), 0.5069270990076472),   (('video', 4), 0.49768385549275845),   (('video', 9), 0.47967816202561026),   (('voxaudio', 0), 0.6666801714114434),   (('voxaudio', 2), 0.6167046371470442),   (('voxaudio', 4), 0.591227209178731),   (('voxaudio', 9), 0.559156959378497),   (('text_video', 0), 0.582291906102476),   (('text_video', 2), 0.5430826146473824),   (('text_video', 4), 0.5248602419559717),   (('text_video', 9), 0.4975638683983908),   (('text_voxaudio', 0), 0.6663066606981422),   (('text_voxaudio', 2), 0.616184648814588),   (('text_voxaudio', 4), 0.5916235792500611),   (('text_voxaudio', 9), 0.5606056614539958),   (('video_voxaudio', 0), 0.6390827744407732),   (('video_voxaudio', 2), 0.5866435380202816),   (('video_voxaudio', 4), 0.559461187570421),   (('video_voxaudio', 9), 0.520403441325134),   (('text_video_voxaudio', 0), 0.6467601325036558),   (('text_video_voxaudio', 2), 0.593987064747505),   (('text_video_voxaudio', 4), 0.5689512043585678),   (('text_video_voxaudio', 9), 0.5316767639961519)],  10: [(('text', 0), 0.6091316039686244),   (('text', 2), 0.5790363707669173),   (('text', 4), 0.5628004786581935),   (('text', 9), 0.5248781354501963),   (('video', 0), 0.5075176118373624),   (('video', 2), 0.49618828097658874),   (('video', 4), 0.4881475948200252),   (('video', 9), 0.4878736164943245),   (('voxaudio', 0), 0.6273059071638538),   (('voxaudio', 2), 0.5913273208110502),   (('voxaudio', 4), 0.5738577217193968),   (('voxaudio', 9), 0.542428994610573),   (('text_video', 0), 0.5610368935749892),   (('text_video', 2), 0.5322051985072983),   (('text_video', 4), 0.517624912722511),   (('text_video', 9), 0.5023113315133424),   (('text_voxaudio', 0), 0.6252129214063562),   (('text_voxaudio', 2), 0.589400130539448),   (('text_voxaudio', 4), 0.5717749786491118),   (('text_voxaudio', 9), 0.5417160885125941),   (('video_voxaudio', 0), 0.5914268661454747),   (('video_voxaudio', 2), 0.5576223723104609),   (('video_voxaudio', 4), 0.5378931174952077),   (('video_voxaudio', 9), 0.512859047129431),   (('text_video_voxaudio', 0), 0.6063553092542625),   (('text_video_voxaudio', 2), 0.5664234397896134),   (('text_video_voxaudio', 4), 0.5475977842097561),   (('text_video_voxaudio', 9), 0.5188465258383493)],  30: [(('text', 0), 0.5547095370468154),   (('text', 2), 0.5382018334181828),   (('text', 4), 0.5282599383772776),   (('text', 9), 0.5018243774483537),   (('video', 0), 0.48423122995357276),   (('video', 2), 0.47900144954187496),   (('video', 4), 0.4787761544616636),   (('video', 9), 0.47435418538114515),   (('voxaudio', 0), 0.5661410978314572),   (('voxaudio', 2), 0.5460479365622382),   (('voxaudio', 4), 0.5310732782662514),   (('voxaudio', 9), 0.4972094232045915),   (('text_video', 0), 0.5175507546662015),   (('text_video', 2), 0.5013922657603975),   (('text_video', 4), 0.4929324232599769),   (('text_video', 9), 0.4763711432474424),   (('text_voxaudio', 0), 0.5682833999527865),   (('text_voxaudio', 2), 0.5462183211275046),   (('text_voxaudio', 4), 0.5330565138302108),   (('text_voxaudio', 9), 0.4975313991123021),   (('video_voxaudio', 0), 0.5246982577947348),   (('video_voxaudio', 2), 0.506665861868644),   (('video_voxaudio', 4), 0.4981340864390632),   (('video_voxaudio', 9), 0.4755560540877834),   (('text_video_voxaudio', 0), 0.5338182770669715),   (('text_video_voxaudio', 2), 0.5120244287004865),   (('text_video_voxaudio', 4), 0.5026541013377209),   (('text_video_voxaudio', 9), 0.47628555959788327)]}, \"use_crossval: True | use_all_perspectives: True | predict_only_host: True | clf: <class 'sklearn.ensemble.forest.RandomForestClassifier'>\": {4: [(('text',     0),    0.6786669928159555),   (('text', 2), 0.6154924080953045),   (('text', 4), 0.5831756158265542),   (('text', 9), 0.5435233260299),   (('video', 0), 0.5229472237889518),   (('video', 2), 0.4952604253655618),   (('video', 4), 0.48089777594160293),   (('video', 9), 0.46921075342307067),   (('voxaudio', 0), 0.6763051968924172),   (('voxaudio', 2), 0.6105741992139958),   (('voxaudio', 4), 0.5768613698625413),   (('voxaudio', 9), 0.5339912456711712),   (('text_video', 0), 0.6379134835102558),   (('text_video', 2), 0.564223776458695),   (('text_video', 4), 0.5282261289613411),   (('text_video', 9), 0.4934209042025633),   (('text_voxaudio', 0), 0.6825090752387324),   (('text_voxaudio', 2), 0.6140353080155607),   (('text_voxaudio', 4), 0.5815317087816199),   (('text_voxaudio', 9), 0.5361706192914346),   (('video_voxaudio', 0), 0.6597440267172872),   (('video_voxaudio', 2), 0.5795786006263813),   (('video_voxaudio', 4), 0.538636209807746),   (('video_voxaudio', 9), 0.5003795034161754),   (('text_video_voxaudio', 0), 0.6621063650998698),   (('text_video_voxaudio', 2), 0.5844188877253111),   (('text_video_voxaudio', 4), 0.5421849706763986),   (('text_video_voxaudio', 9), 0.4989879104457852)],  5: [(('text', 0), 0.6647914122012433),   (('text', 2), 0.6075585665481404),   (('text', 4), 0.5765843531274193),   (('text', 9), 0.5353249689073586),   (('video', 0), 0.5303964783011952),   (('video', 2), 0.5055805570296095),   (('video', 4), 0.4882468047334682),   (('video', 9), 0.4818527768705841),   (('voxaudio', 0), 0.6667766674709903),   (('voxaudio', 2), 0.607614514198972),   (('voxaudio', 4), 0.5792559928897506),   (('voxaudio', 9), 0.5386088384676462),   (('text_video', 0), 0.6314859373877089),   (('text_video', 2), 0.568276011136535),   (('text_video', 4), 0.5409623657871065),   (('text_video', 9), 0.49926136555919554),   (('text_voxaudio', 0), 0.6714749434744673),   (('text_voxaudio', 2), 0.6079791508804865),   (('text_voxaudio', 4), 0.5773999512508251),   (('text_voxaudio', 9), 0.5399955214020339),   (('video_voxaudio', 0), 0.6446009622856386),   (('video_voxaudio', 2), 0.5775570899170075),   (('video_voxaudio', 4), 0.5469508347535375),   (('video_voxaudio', 9), 0.5105836171064462),   (('text_video_voxaudio', 0), 0.6494948234897244),   (('text_video_voxaudio', 2), 0.5836696980588119),   (('text_video_voxaudio', 4), 0.5503810312825914),   (('text_video_voxaudio', 9), 0.5091121647268659)],  10: [(('text', 0), 0.6209220510311375),   (('text', 2), 0.5804929881722003),   (('text', 4), 0.5536713459423139),   (('text', 9), 0.5236593139486949),   (('video', 0), 0.5128073775780873),   (('video', 2), 0.4965869570802733),   (('video', 4), 0.4863603578176221),   (('video', 9), 0.4773813404140862),   (('voxaudio', 0), 0.6163672658210728),   (('voxaudio', 2), 0.5768517061908366),   (('voxaudio', 4), 0.5579773844966569),   (('voxaudio', 9), 0.5237418969542558),   (('text_video', 0), 0.5884162734399557),   (('text_video', 2), 0.54860941589703),   (('text_video', 4), 0.5201248121956812),   (('text_video', 9), 0.4893136193415276),   (('text_voxaudio', 0), 0.6214910060521301),   (('text_voxaudio', 2), 0.5796238219674366),   (('text_voxaudio', 4), 0.5557154996515423),   (('text_voxaudio', 9), 0.5231382815058223),   (('video_voxaudio', 0), 0.5998566140024587),   (('video_voxaudio', 2), 0.5536930023649911),   (('video_voxaudio', 4), 0.5334508970883088),   (('video_voxaudio', 9), 0.49833886600414906),   (('text_video_voxaudio', 0), 0.6025133222018683),   (('text_video_voxaudio', 2), 0.5612215980952994),   (('text_video_voxaudio', 4), 0.537239031357809),   (('text_video_voxaudio', 9), 0.5005057030972333)],  30: [(('text', 0), 0.518257950199433),   (('text', 2), 0.49883654057982235),   (('text', 4), 0.4890981597160831),   (('text', 9), 0.4725502647746211),   (('video', 0), 0.49161622150830553),   (('video', 2), 0.47695047512464195),   (('video', 4), 0.4754429665743656),   (('video', 9), 0.46624990528528054),   (('voxaudio', 0), 0.5286604993296746),   (('voxaudio', 2), 0.5051321310566917),   (('voxaudio', 4), 0.49719091764223267),   (('voxaudio', 9), 0.48433553261744733),   (('text_video', 0), 0.5105114121755255),   (('text_video', 2), 0.4935936797942718),   (('text_video', 4), 0.47928085394098946),   (('text_video', 9), 0.471765238330042),   (('text_voxaudio', 0), 0.5336678052725623),   (('text_voxaudio', 2), 0.51142919508295),   (('text_voxaudio', 4), 0.4977474082746802),   (('text_voxaudio', 9), 0.4793811403325803),   (('video_voxaudio', 0), 0.524925435759266),   (('video_voxaudio', 2), 0.5041895928815355),   (('video_voxaudio', 4), 0.49499381178642377),   (('video_voxaudio', 9), 0.472690038543112),   (('text_video_voxaudio', 0), 0.5263639517105588),   (('text_video_voxaudio', 2), 0.5030523605098794),   (('text_video_voxaudio', 4), 0.4946325310234381),   (('text_video_voxaudio', 9), 0.4764411640837084)]}, \"use_crossval: True | use_all_perspectives: False | predict_only_host: False | clf: <class 'sklearn.ensemble.forest.RandomForestClassifier'>\": {4: [(('text',     0),    0.7190447998172413),   (('text', 2), 0.6861005988903993),   (('text', 4), 0.6706471284268235),   (('text', 9), 0.653335688580216),   (('video', 0), 0.6524177476979405),   (('video', 2), 0.6482345592828013),   (('video', 4), 0.6476989361257939),   (('video', 9), 0.6472930738301318),   (('voxaudio', 0), 0.7325241355995085),   (('voxaudio', 2), 0.7000183708711467),   (('voxaudio', 4), 0.6878566412121523),   (('voxaudio', 9), 0.6746072665450058),   (('text_video', 0), 0.7185610328317733),   (('text_video', 2), 0.6854392475291178),   (('text_video', 4), 0.6688201631672197),   (('text_video', 9), 0.6523644194357894),   (('text_voxaudio', 0), 0.7364381955509789),   (('text_voxaudio', 2), 0.7025829444832274),   (('text_voxaudio', 4), 0.6889690582173772),   (('text_voxaudio', 9), 0.6747629618690927),   (('video_voxaudio', 0), 0.7251357718508511),   (('video_voxaudio', 2), 0.6946320314509313),   (('video_voxaudio', 4), 0.683362725449031),   (('video_voxaudio', 9), 0.6709371739085171),   (('text_video_voxaudio', 0), 0.7325021323328562),   (('text_video_voxaudio', 2), 0.6970863798361318),   (('text_video_voxaudio', 4), 0.6849171693934755),   (('text_video_voxaudio', 9), 0.6721012251319759)],  5: [(('text', 0), 0.7117744460359982),   (('text', 2), 0.6823857964567941),   (('text', 4), 0.6677149072398999),   (('text', 9), 0.6526378355099858),   (('video', 0), 0.6484910899771137),   (('video', 2), 0.6440539229335357),   (('video', 4), 0.6427386002306087),   (('video', 9), 0.6408571366027865),   (('voxaudio', 0), 0.7279022640617216),   (('voxaudio', 2), 0.6992466770887684),   (('voxaudio', 4), 0.6880386565164474),   (('voxaudio', 9), 0.6732709823801721),   (('text_video', 0), 0.7101836419646813),   (('text_video', 2), 0.6795908341745364),   (('text_video', 4), 0.6650497501750195),   (('text_video', 9), 0.648935767780445),   (('text_voxaudio', 0), 0.731674747436489),   (('text_voxaudio', 2), 0.7011378174835274),   (('text_voxaudio', 4), 0.6877493192177584),   (('text_voxaudio', 9), 0.6731406921578656),   (('video_voxaudio', 0), 0.7197133693957987),   (('video_voxaudio', 2), 0.6932010430546389),   (('video_voxaudio', 4), 0.6821600552548029),   (('video_voxaudio', 9), 0.668702759060409),   (('text_video_voxaudio', 0), 0.7264023237449871),   (('text_video_voxaudio', 2), 0.6949402836576625),   (('text_video_voxaudio', 4), 0.6820762672110356),   (('text_video_voxaudio', 9), 0.6687104509745592)],  10: [(('text', 0), 0.6969406216931839),   (('text', 2), 0.6779100833395695),   (('text', 4), 0.6665541428551505),   (('text', 9), 0.6569759986976763),   (('video', 0), 0.6495389748294895),   (('video', 2), 0.6481408054899305),   (('video', 4), 0.6469574413562629),   (('video', 9), 0.6456775240858363),   (('voxaudio', 0), 0.7096777498921039),   (('voxaudio', 2), 0.6921639276889598),   (('voxaudio', 4), 0.6823480594135107),   (('voxaudio', 9), 0.6698180625306237),   (('text_video', 0), 0.6932110233068345),   (('text_video', 2), 0.6717466855016697),   (('text_video', 4), 0.6609036246733814),   (('text_video', 9), 0.6531249522400088),   (('text_voxaudio', 0), 0.7114929520338535),   (('text_voxaudio', 2), 0.693639813348945),   (('text_voxaudio', 4), 0.6834827785612505),   (('text_voxaudio', 9), 0.6717551541748804),   (('video_voxaudio', 0), 0.7017532824323341),   (('video_voxaudio', 2), 0.684815220773115),   (('video_voxaudio', 4), 0.6775332497096678),   (('video_voxaudio', 9), 0.6650639661364374),   (('text_video_voxaudio', 0), 0.7051243973872957),   (('text_video_voxaudio', 2), 0.6870710503864299),   (('text_video_voxaudio', 4), 0.6775869192259496),   (('text_video_voxaudio', 9), 0.6668775938477353)],  30: [(('text', 0), 0.655522581358392),   (('text', 2), 0.6520026182846841),   (('text', 4), 0.6506420666972346),   (('text', 9), 0.6503488048522519),   (('video', 0), 0.641131399359721),   (('video', 2), 0.639776928615092),   (('video', 4), 0.6393255111178164),   (('video', 9), 0.6401399466879888),   (('voxaudio', 0), 0.6665713182834371),   (('voxaudio', 2), 0.6585886196529799),   (('voxaudio', 4), 0.6542663711451311),   (('voxaudio', 9), 0.6449076972020669),   (('text_video', 0), 0.6527449388787898),   (('text_video', 2), 0.6481239630924828),   (('text_video', 4), 0.6462010009111581),   (('text_video', 9), 0.6437020728188063),   (('text_voxaudio', 0), 0.6691323215447685),   (('text_voxaudio', 2), 0.6594573754666204),   (('text_voxaudio', 4), 0.6547485488188618),   (('text_voxaudio', 9), 0.6440699929755229),   (('video_voxaudio', 0), 0.6634532661386863),   (('video_voxaudio', 2), 0.6557571005129093),   (('video_voxaudio', 4), 0.6525708179223466),   (('video_voxaudio', 9), 0.6426921149542997),   (('text_video_voxaudio', 0), 0.6671052015378259),   (('text_video_voxaudio', 2), 0.658495449009991),   (('text_video_voxaudio', 4), 0.6520885758237636),   (('text_video_voxaudio', 9), 0.6439838774953888)]}, \"use_crossval: True | use_all_perspectives: False | predict_only_host: True | clf: <class 'sklearn.ensemble.forest.RandomForestClassifier'>\": {4: [(('text',     0),    0.6610105759327962),   (('text', 2), 0.609304638577546),   (('text', 4), 0.5841364382417231),   (('text', 9), 0.5499382918166179),   (('video', 0), 0.5007938942690195),   (('video', 2), 0.4692929457312055),   (('video', 4), 0.45220162585616885),   (('video', 9), 0.44025144161767915),   (('voxaudio', 0), 0.678038594786425),   (('voxaudio', 2), 0.61411486863142),   (('voxaudio', 4), 0.5835202199275946),   (('voxaudio', 9), 0.5357079052533577),   (('text_video', 0), 0.6167851386247806),   (('text_video', 2), 0.5450081674608273),   (('text_video', 4), 0.5166995409563434),   (('text_video', 9), 0.4714161493723398),   (('text_voxaudio', 0), 0.6799986097189195),   (('text_voxaudio', 2), 0.6154452797783797),   (('text_voxaudio', 4), 0.5844232218433804),   (('text_voxaudio', 9), 0.5377525938369002),   (('video_voxaudio', 0), 0.6513726180493502),   (('video_voxaudio', 2), 0.5703903488622022),   (('video_voxaudio', 4), 0.529792268728395),   (('video_voxaudio', 9), 0.48000724810800743),   (('text_video_voxaudio', 0), 0.6549459530835373),   (('text_video_voxaudio', 2), 0.5720688416458378),   (('text_video_voxaudio', 4), 0.5306133646621429),   (('text_video_voxaudio', 9), 0.482258360554742)],  5: [(('text', 0), 0.6488563108718621),   (('text', 2), 0.6012895048149784),   (('text', 4), 0.5771070608408809),   (('text', 9), 0.5429718178141762),   (('video', 0), 0.4961408636375781),   (('video', 2), 0.4738291586174048),   (('video', 4), 0.45993248691262706),   (('video', 9), 0.44562779148967124),   (('voxaudio', 0), 0.6663894717156114),   (('voxaudio', 2), 0.6082788396656301),   (('voxaudio', 4), 0.5764176193723383),   (('voxaudio', 9), 0.5306688679881971),   (('text_video', 0), 0.606817573201454),   (('text_video', 2), 0.5385671961646292),   (('text_video', 4), 0.509111663495472),   (('text_video', 9), 0.47096553417449094),   (('text_voxaudio', 0), 0.6703526783581633),   (('text_voxaudio', 2), 0.6085701573551601),   (('text_voxaudio', 4), 0.578190658151425),   (('text_voxaudio', 9), 0.5329365381582621),   (('video_voxaudio', 0), 0.636198715957758),   (('video_voxaudio', 2), 0.5636972647401094),   (('video_voxaudio', 4), 0.5255467471521957),   (('video_voxaudio', 9), 0.47854342031408637),   (('text_video_voxaudio', 0), 0.6425273110481579),   (('text_video_voxaudio', 2), 0.5656734844297509),   (('text_video_voxaudio', 4), 0.5280288926577562),   (('text_video_voxaudio', 9), 0.4790474035730507)],  10: [(('text', 0), 0.5997132341990647),   (('text', 2), 0.5687789391482486),   (('text', 4), 0.5476845200321258),   (('text', 9), 0.5161244442874682),   (('video', 0), 0.4803737958392982),   (('video', 2), 0.4635754234011403),   (('video', 4), 0.45194604022274076),   (('video', 9), 0.4423952820766397),   (('voxaudio', 0), 0.6080848875850602),   (('voxaudio', 2), 0.5644101287317873),   (('voxaudio', 4), 0.5395252906721857),   (('voxaudio', 9), 0.4967783973670586),   (('text_video', 0), 0.5439726909044715),   (('text_video', 2), 0.504538550912345),   (('text_video', 4), 0.48653421632536437),   (('text_video', 9), 0.4568981375974082),   (('text_voxaudio', 0), 0.6148762592956907),   (('text_voxaudio', 2), 0.5683286322096256),   (('text_voxaudio', 4), 0.5406847294151207),   (('text_voxaudio', 9), 0.5005179097369329),   (('video_voxaudio', 0), 0.5694084534538677),   (('video_voxaudio', 2), 0.5227395950838656),   (('video_voxaudio', 4), 0.497870277138816),   (('video_voxaudio', 9), 0.4645496961340189),   (('text_video_voxaudio', 0), 0.5779296634906937),   (('text_video_voxaudio', 2), 0.5251805756191568),   (('text_video_voxaudio', 4), 0.500683209982378),   (('text_video_voxaudio', 9), 0.46610585941219285)],  30: [(('text', 0), 0.4933723186752541),   (('text', 2), 0.47651288673075987),   (('text', 4), 0.4656432579898997),   (('text', 9), 0.44231404794101925),   (('video', 0), 0.4464367539191999),   (('video', 2), 0.4391083456217009),   (('video', 4), 0.4408690683661513),   (('video', 9), 0.4322265554791917),   (('voxaudio', 0), 0.48671315576468305),   (('voxaudio', 2), 0.46577375762105994),   (('voxaudio', 4), 0.447201454542995),   (('voxaudio', 9), 0.42851484126840794),   (('text_video', 0), 0.47188763215220025),   (('text_video', 2), 0.4522496132036723),   (('text_video', 4), 0.44336396284368307),   (('text_video', 9), 0.4335573453458895),   (('text_voxaudio', 0), 0.48777354041990667),   (('text_voxaudio', 2), 0.46528456791691547),   (('text_voxaudio', 4), 0.4510603295932203),   (('text_voxaudio', 9), 0.42866463220803874),   (('video_voxaudio', 0), 0.47742363168074126),   (('video_voxaudio', 2), 0.4606701956310766),   (('video_voxaudio', 4), 0.45027137387684446),   (('video_voxaudio', 9), 0.43248439088911655),   (('text_video_voxaudio', 0), 0.4819835828343482),   (('text_video_voxaudio', 2), 0.4606489981881188),   (('text_video_voxaudio', 4), 0.45014338075659044),   (('text_video_voxaudio', 9), 0.4303814556586977)]}}\n",
    "tables = {k:make_table(v, display_table = False) for k, v in all_results.items()}\n"
   ]
  }
 ],
 "metadata": {
  "kernelspec": {
   "display_name": "Python 3",
   "language": "python",
   "name": "python3"
  },
  "language_info": {
   "codemirror_mode": {
    "name": "ipython",
    "version": 3
   },
   "file_extension": ".py",
   "mimetype": "text/x-python",
   "name": "python",
   "nbconvert_exporter": "python",
   "pygments_lexer": "ipython3",
   "version": "3.7.3"
  }
 },
 "nbformat": 4,
 "nbformat_minor": 4
}
