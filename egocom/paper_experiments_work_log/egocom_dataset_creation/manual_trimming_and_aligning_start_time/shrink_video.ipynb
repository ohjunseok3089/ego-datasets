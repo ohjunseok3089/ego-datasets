{
 "cells": [
  {
   "cell_type": "markdown",
   "metadata": {},
   "source": [
    "## This script was used to produce the 720p, 480p, and 240p versions of EGOCOM"
   ]
  },
  {
   "cell_type": "code",
   "execution_count": 2,
   "metadata": {},
   "outputs": [],
   "source": [
    "from __future__ import print_function, absolute_import, division, unicode_literals, with_statement # Python 2 compatibility\n",
    "\n",
    "import os\n",
    "import subprocess"
   ]
  },
  {
   "cell_type": "code",
   "execution_count": null,
   "metadata": {},
   "outputs": [
    {
     "name": "stdout",
     "output_type": "stream",
     "text": [
      "vid_001__day_1__con_1__person_1_part1.MP4\n",
      "vid_002__day_1__con_1__person_1_part2.MP4\n"
     ]
    }
   ],
   "source": [
    "data_loc = \"/home/cgn/Downloads/egocom-aligned-final/\"\n",
    "write_loc = \"/home/cgn/Downloads/egocom-aligned-final-720p/\"\n",
    "for fn in sorted([v for v in os.listdir(data_loc) if v[-4:] == \".MP4\"]):\n",
    "    print(fn)\n",
    "    i = data_loc + fn\n",
    "    o = write_loc + fn\n",
    "    cmd = \"ffmpeg -i {i} -s 1280x720 -aspect 1280:720 -vcodec libx264 -crf 20 -threads 12 -crf 20 {o}\".format(i=i, o=o)\n",
    "    out = subprocess.getoutput(cmd)"
   ]
  },
  {
   "cell_type": "code",
   "execution_count": null,
   "metadata": {},
   "outputs": [
    {
     "name": "stdout",
     "output_type": "stream",
     "text": [
      "vid_001__day_1__con_1__person_1_part1.MP4\n",
      "vid_002__day_1__con_1__person_1_part2.MP4\n",
      "vid_003__day_1__con_1__person_1_part3.MP4\n",
      "vid_004__day_1__con_1__person_1_part4.MP4\n",
      "vid_005__day_1__con_1__person_1_part5.MP4\n",
      "vid_006__day_1__con_1__person_2_part1.MP4\n",
      "vid_007__day_1__con_1__person_2_part2.MP4\n",
      "vid_008__day_1__con_1__person_2_part3.MP4\n",
      "vid_009__day_1__con_1__person_2_part4.MP4\n",
      "vid_010__day_1__con_1__person_2_part5.MP4\n",
      "vid_011__day_1__con_1__person_3_part1.MP4\n",
      "vid_012__day_1__con_1__person_3_part2.MP4\n",
      "vid_013__day_1__con_1__person_3_part3.MP4\n",
      "vid_014__day_1__con_1__person_3_part4.MP4\n",
      "vid_015__day_1__con_1__person_3_part5.MP4\n",
      "vid_016__day_1__con_2__person_1_part1.MP4\n",
      "vid_017__day_1__con_2__person_1_part2.MP4\n",
      "vid_018__day_1__con_2__person_1_part3.MP4\n",
      "vid_019__day_1__con_2__person_1_part4.MP4\n",
      "vid_020__day_1__con_2__person_1_part5.MP4\n",
      "vid_021__day_1__con_2__person_2_part1.MP4\n",
      "vid_022__day_1__con_2__person_2_part2.MP4\n",
      "vid_023__day_1__con_2__person_2_part3.MP4\n",
      "vid_024__day_1__con_2__person_2_part4.MP4\n",
      "vid_025__day_1__con_2__person_2_part5.MP4\n",
      "vid_026__day_1__con_2__person_3_part1.MP4\n",
      "vid_027__day_1__con_2__person_3_part2.MP4\n",
      "vid_028__day_1__con_2__person_3_part3.MP4\n",
      "vid_029__day_1__con_2__person_3_part4.MP4\n",
      "vid_030__day_1__con_2__person_3_part5.MP4\n",
      "vid_031__day_1__con_3__person_1_part1.MP4\n",
      "vid_032__day_1__con_3__person_1_part2.MP4\n",
      "vid_033__day_1__con_3__person_1_part3.MP4\n",
      "vid_034__day_1__con_3__person_1_part4.MP4\n",
      "vid_035__day_1__con_3__person_2_part1.MP4\n",
      "vid_036__day_1__con_3__person_2_part2.MP4\n",
      "vid_037__day_1__con_3__person_2_part3.MP4\n",
      "vid_038__day_1__con_3__person_2_part4.MP4\n",
      "vid_039__day_1__con_3__person_3_part1.MP4\n",
      "vid_040__day_1__con_3__person_3_part2.MP4\n",
      "vid_041__day_1__con_3__person_3_part3.MP4\n",
      "vid_042__day_1__con_3__person_3_part4.MP4\n",
      "vid_043__day_1__con_4__person_1_part1.MP4\n",
      "vid_044__day_1__con_4__person_1_part2.MP4\n",
      "vid_045__day_1__con_4__person_1_part3.MP4\n",
      "vid_046__day_1__con_4__person_1_part4.MP4\n",
      "vid_047__day_1__con_4__person_2_part1.MP4\n",
      "vid_048__day_1__con_4__person_2_part2.MP4\n",
      "vid_049__day_1__con_4__person_2_part3.MP4\n",
      "vid_050__day_1__con_4__person_2_part4.MP4\n",
      "vid_051__day_1__con_4__person_3_part1.MP4\n",
      "vid_052__day_1__con_4__person_3_part2.MP4\n",
      "vid_053__day_1__con_4__person_3_part3.MP4\n",
      "vid_054__day_1__con_4__person_3_part4.MP4\n",
      "vid_055__day_1__con_5__person_1_part1.MP4\n",
      "vid_056__day_1__con_5__person_1_part2.MP4\n",
      "vid_057__day_1__con_5__person_1_part3.MP4\n",
      "vid_058__day_1__con_5__person_1_part4.MP4\n",
      "vid_059__day_1__con_5__person_1_part5.MP4\n",
      "vid_060__day_1__con_5__person_2_part1.MP4\n",
      "vid_061__day_1__con_5__person_2_part2.MP4\n",
      "vid_062__day_1__con_5__person_2_part3.MP4\n",
      "vid_063__day_1__con_5__person_2_part4.MP4\n",
      "vid_064__day_1__con_5__person_2_part5.MP4\n",
      "vid_065__day_2__con_1__person_1_part1.MP4\n",
      "vid_066__day_2__con_1__person_1_part2.MP4\n",
      "vid_067__day_2__con_1__person_1_part3.MP4\n",
      "vid_068__day_2__con_1__person_1_part4.MP4\n",
      "vid_069__day_2__con_1__person_1_part5.MP4\n",
      "vid_070__day_2__con_1__person_2_part1.MP4\n",
      "vid_071__day_2__con_1__person_2_part2.MP4\n",
      "vid_072__day_2__con_1__person_2_part3.MP4\n",
      "vid_073__day_2__con_1__person_2_part4.MP4\n"
     ]
    }
   ],
   "source": [
    "data_loc = \"/home/cgn/Downloads/egocom-aligned-final/\"\n",
    "write_loc = \"/home/cgn/Downloads/egocom-aligned-final-480p/\"\n",
    "for fn in sorted([v for v in os.listdir(data_loc) if v[-4:] == \".MP4\"]):\n",
    "    print(fn)\n",
    "    i = data_loc + fn\n",
    "    o = write_loc + fn\n",
    "    cmd = \"ffmpeg -i {i} -s 640x480 -aspect 640:480 -vcodec libx264 -crf 20 -threads 12 -crf 20 {o}\".format(i=i, o=o)\n",
    "    out = subprocess.getoutput(cmd)"
   ]
  },
  {
   "cell_type": "code",
   "execution_count": null,
   "metadata": {},
   "outputs": [],
   "source": [
    "data_loc = \"/home/cgn/Downloads/egocom-aligned-final/\"\n",
    "write_loc = \"/home/cgn/Downloads/egocom-aligned-final-240p/\"\n",
    "for fn in sorted([v for v in os.listdir(data_loc) if v[-4:] == \".MP4\"]):\n",
    "    print(fn)\n",
    "    i = data_loc + fn\n",
    "    o = write_loc + fn\n",
    "    cmd = \"ffmpeg -i {i} -s 352x240 -aspect 352:240 -vcodec libx264 -crf 20 -threads 12 -crf 20 {o}\".format(i=i, o=o)\n",
    "    out = subprocess.getoutput(cmd)"
   ]
  }
 ],
 "metadata": {
  "kernelspec": {
   "display_name": "Python 3",
   "language": "python",
   "name": "python3"
  },
  "language_info": {
   "codemirror_mode": {
    "name": "ipython",
    "version": 3
   },
   "file_extension": ".py",
   "mimetype": "text/x-python",
   "name": "python",
   "nbconvert_exporter": "python",
   "pygments_lexer": "ipython3",
   "version": "3.6.5"
  }
 },
 "nbformat": 4,
 "nbformat_minor": 2
}
