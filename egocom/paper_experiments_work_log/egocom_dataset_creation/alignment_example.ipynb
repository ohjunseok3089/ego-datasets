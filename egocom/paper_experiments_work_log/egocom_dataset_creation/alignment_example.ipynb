{
 "cells": [
  {
   "cell_type": "markdown",
   "metadata": {},
   "source": [
    "## Shows how to use the alignment package to align hundreds of wav files taken from different conversations"
   ]
  },
  {
   "cell_type": "code",
   "execution_count": null,
   "metadata": {},
   "outputs": [],
   "source": [
    "from __future__ import print_function, absolute_import, division, unicode_literals, with_statement # Python 2 compatibility\n",
    "\n",
    "import os\n",
    "from egocom import audio\n",
    "from egocom import multi_array_alignment"
   ]
  },
  {
   "cell_type": "code",
   "execution_count": null,
   "metadata": {},
   "outputs": [],
   "source": [
    "# Read in the data\n",
    "\n",
    "# If you'd like to listen to the summed, aligned audio, set this to True\n",
    "create_combined_wav_for_listening = False\n",
    "combined_wav_dir = \"/home/cgn/Downloads/egocom-auto-aligned-combined-wav/\"\n",
    "\n",
    "# The dataset is split into 5min_parts and 20min parts. We align both.\n",
    "for folder in [\"5min_parts/\", \"20min/\"]:\n",
    "    data_loc = \"/mnt/surreal/datasets/EGOCOM/240p/\" + folder\n",
    "    fn_dict = {}\n",
    "    for fn in sorted([v for v in os.listdir(data_loc) if v[-4:] == \".MP4\"]):\n",
    "        key = fn[9:23] + fn[32:37] if 'part' in fn else fn[9:21]\n",
    "        fn_dict[key] = fn_dict[key] + [fn] if key in fn_dict else [fn]\n",
    "        \n",
    "    # Produce all alignments - here we print to stdout, but feel free to print to a file.\n",
    "\n",
    "    for key in sorted(fn_dict.keys()):\n",
    "        print(key, end = \" | \")\n",
    "        files = [data_loc + z for z in fn_dict[key]]\n",
    "        num_wavs = len(files)\n",
    "    #     first_n_seconds_to_use = 10 if 'part' in key else 180\n",
    "        first_n_seconds_to_use = 300\n",
    "        samplerate_list, wav_list = audio.get_samplerate_wav_from_list_of_mp4_fns(files, n_sec=first_n_seconds_to_use)\n",
    "        samplerate = samplerate_list[0]\n",
    "        alignment = multi_array_alignment.align_wavs(wav_list)\n",
    "        multi_array_alignment.create_combined_wav_audio_sample(wav_list, samplerate, alignment, wfn = combined_wav_dir + 'combined2_{key}.wav'.format(key=key))\n",
    "        print(\"[\"+\", \".join([str(al) for al in alignment])+\"]\")"
   ]
  }
 ],
 "metadata": {
  "kernelspec": {
   "display_name": "Python 3",
   "language": "python",
   "name": "python3"
  },
  "language_info": {
   "codemirror_mode": {
    "name": "ipython",
    "version": 3
   },
   "file_extension": ".py",
   "mimetype": "text/x-python",
   "name": "python",
   "nbconvert_exporter": "python",
   "pygments_lexer": "ipython3",
   "version": "3.7.3"
  }
 },
 "nbformat": 4,
 "nbformat_minor": 4
}
